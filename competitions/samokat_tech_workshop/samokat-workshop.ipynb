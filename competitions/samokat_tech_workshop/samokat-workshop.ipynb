{
 "cells": [
  {
   "cell_type": "markdown",
   "id": "e731311f",
   "metadata": {
    "papermill": {
     "duration": 0.007557,
     "end_time": "2023-05-22T10:27:42.961599",
     "exception": false,
     "start_time": "2023-05-22T10:27:42.954042",
     "status": "completed"
    },
    "tags": []
   },
   "source": [
    "**Проект для воркшопа Yandex.Praktikum от SAMOKAT.TECH по настройке рекомендательной системы подбора схожих товаров.**\n",
    "\n",
    "Практическая часть воркшопа была размещена на платформе Kaggle в формате соревнования.\n",
    "https://www.kaggle.com/competitions/samokattechworkshop/overview\n",
    "\n",
    "**Задача:** необходимо было обучить систему рекомендации (faiss либо что-то еще ) для определения 10ти наиболее схожих товаров для каждого из товара-запроса. \n",
    "\n",
    "**Метрика:** Recall@10. Для каждого товара находим 10 наиболее близких кандидатов. Тогда:\n",
    "Recall@10 = (общая сумма найденных в топ10 матчей) / (общая сумма матчей)\n",
    "\n",
    "Решение в этом воркбуке набрало метрику 0.73702(Public), 0.73373 (Private), что соответствует 9му месту. "
   ]
  },
  {
   "cell_type": "markdown",
   "id": "346213ec",
   "metadata": {
    "papermill": {
     "duration": 0.007495,
     "end_time": "2023-05-22T10:27:42.976568",
     "exception": false,
     "start_time": "2023-05-22T10:27:42.969073",
     "status": "completed"
    },
    "tags": []
   },
   "source": [
    "## Import libraries"
   ]
  },
  {
   "cell_type": "code",
   "execution_count": 1,
   "id": "19de6466",
   "metadata": {
    "execution": {
     "iopub.execute_input": "2023-05-22T10:27:42.993027Z",
     "iopub.status.busy": "2023-05-22T10:27:42.992354Z",
     "iopub.status.idle": "2023-05-22T10:27:56.487683Z",
     "shell.execute_reply": "2023-05-22T10:27:56.486454Z"
    },
    "papermill": {
     "duration": 13.506758,
     "end_time": "2023-05-22T10:27:56.490386",
     "exception": false,
     "start_time": "2023-05-22T10:27:42.983628",
     "status": "completed"
    },
    "tags": []
   },
   "outputs": [
    {
     "name": "stdout",
     "output_type": "stream",
     "text": [
      "Collecting faiss-cpu\r\n",
      "  Downloading faiss_cpu-1.7.4-cp310-cp310-manylinux_2_17_x86_64.manylinux2014_x86_64.whl (17.6 MB)\r\n",
      "\u001b[2K     \u001b[90m━━━━━━━━━━━━━━━━━━━━━━━━━━━━━━━━━━━━━━━━\u001b[0m \u001b[32m17.6/17.6 MB\u001b[0m \u001b[31m48.7 MB/s\u001b[0m eta \u001b[36m0:00:00\u001b[0m\r\n",
      "\u001b[?25hInstalling collected packages: faiss-cpu\r\n",
      "Successfully installed faiss-cpu-1.7.4\r\n",
      "\u001b[33mWARNING: Running pip as the 'root' user can result in broken permissions and conflicting behaviour with the system package manager. It is recommended to use a virtual environment instead: https://pip.pypa.io/warnings/venv\u001b[0m\u001b[33m\r\n",
      "\u001b[0m"
     ]
    }
   ],
   "source": [
    "!pip install faiss-cpu"
   ]
  },
  {
   "cell_type": "code",
   "execution_count": 2,
   "id": "c5688253",
   "metadata": {
    "_cell_guid": "b1076dfc-b9ad-4769-8c92-a6c4dae69d19",
    "_uuid": "8f2839f25d086af736a60e9eeb907d3b93b6e0e5",
    "execution": {
     "iopub.execute_input": "2023-05-22T10:27:56.509035Z",
     "iopub.status.busy": "2023-05-22T10:27:56.508571Z",
     "iopub.status.idle": "2023-05-22T10:27:58.176212Z",
     "shell.execute_reply": "2023-05-22T10:27:58.175245Z"
    },
    "papermill": {
     "duration": 1.680133,
     "end_time": "2023-05-22T10:27:58.178478",
     "exception": false,
     "start_time": "2023-05-22T10:27:56.498345",
     "status": "completed"
    },
    "tags": []
   },
   "outputs": [
    {
     "name": "stderr",
     "output_type": "stream",
     "text": [
      "/opt/conda/lib/python3.10/site-packages/scipy/__init__.py:146: UserWarning: A NumPy version >=1.16.5 and <1.23.0 is required for this version of SciPy (detected version 1.23.5\n",
      "  warnings.warn(f\"A NumPy version >={np_minversion} and <{np_maxversion}\"\n"
     ]
    },
    {
     "name": "stdout",
     "output_type": "stream",
     "text": [
      "/kaggle/input/samokattechworkshop/base.csv\n",
      "/kaggle/input/samokattechworkshop/train.csv\n",
      "/kaggle/input/samokattechworkshop/test.csv\n",
      "/kaggle/input/samokattechworkshop/baseline.ipynb\n",
      "/kaggle/input/samokattechworkshop/answer_sample.csv\n"
     ]
    }
   ],
   "source": [
    "# This Python 3 environment comes with many helpful analytics libraries installed\n",
    "# It is defined by the kaggle/python Docker image: https://github.com/kaggle/docker-python\n",
    "# For example, here's several helpful packages to load\n",
    "\n",
    "import numpy as np # linear algebra\n",
    "import pandas as pd # data processing, CSV file I/O (e.g. pd.read_csv)\n",
    "import faiss\n",
    "from sklearn.preprocessing import StandardScaler\n",
    "from sklearn.model_selection import train_test_split\n",
    "import random\n",
    "from catboost import CatBoostRegressor\n",
    "\n",
    "# Input data files are available in the read-only \"../input/\" directory\n",
    "# For example, running this (by clicking run or pressing Shift+Enter) will list all files under the input directory\n",
    "\n",
    "import os\n",
    "for dirname, _, filenames in os.walk('/kaggle/input'):\n",
    "    for filename in filenames:\n",
    "        print(os.path.join(dirname, filename))\n",
    "\n",
    "# You can write up to 20GB to the current directory (/kaggle/working/) that gets preserved as output when you create a version using \"Save & Run All\" \n",
    "# You can also write temporary files to /kaggle/temp/, but they won't be saved outside of the current session"
   ]
  },
  {
   "cell_type": "markdown",
   "id": "9c5fade3",
   "metadata": {
    "papermill": {
     "duration": 0.007655,
     "end_time": "2023-05-22T10:27:58.194288",
     "exception": false,
     "start_time": "2023-05-22T10:27:58.186633",
     "status": "completed"
    },
    "tags": []
   },
   "source": [
    "## Data import"
   ]
  },
  {
   "cell_type": "markdown",
   "id": "fe30cf70",
   "metadata": {
    "papermill": {
     "duration": 0.0083,
     "end_time": "2023-05-22T10:27:58.210617",
     "exception": false,
     "start_time": "2023-05-22T10:27:58.202317",
     "status": "completed"
    },
    "tags": []
   },
   "source": [
    "Нам доступны данные:\n",
    "\n",
    "- `base.csv` - каталог товаров в маркете\n",
    "- `train.csv` - обучающая выборка с наборами товаров (запросов), по которым нужно предложить наиболее схожие рекоммендации из каталога. В качестве цели указан Id наиболее близкого товара из каталога.\n",
    "- `test.csv` - выборка запросов, по которым необходимо получить рекоммендации.\n",
    "- `answer_sample.csv` - образец конечного результата"
   ]
  },
  {
   "cell_type": "code",
   "execution_count": 3,
   "id": "620c1a8b",
   "metadata": {
    "execution": {
     "iopub.execute_input": "2023-05-22T10:27:58.228590Z",
     "iopub.status.busy": "2023-05-22T10:27:58.228152Z",
     "iopub.status.idle": "2023-05-22T10:29:19.193705Z",
     "shell.execute_reply": "2023-05-22T10:29:19.192297Z"
    },
    "papermill": {
     "duration": 80.985302,
     "end_time": "2023-05-22T10:29:19.204007",
     "exception": false,
     "start_time": "2023-05-22T10:27:58.218705",
     "status": "completed"
    },
    "tags": []
   },
   "outputs": [
    {
     "name": "stdout",
     "output_type": "stream",
     "text": [
      "CPU times: user 49 s, sys: 9.71 s, total: 58.7 s\n",
      "Wall time: 1min 20s\n"
     ]
    }
   ],
   "source": [
    "%%time\n",
    "\n",
    "# import raw data\n",
    "base_data = pd.read_csv('/kaggle/input/samokattechworkshop/base.csv', index_col='Id')\n",
    "train_data = pd.read_csv('/kaggle/input/samokattechworkshop/train.csv', index_col='Id')\n",
    "test_data = pd.read_csv('/kaggle/input/samokattechworkshop/test.csv', index_col='Id')\n",
    "answer_sample = pd.read_csv('/kaggle/input/samokattechworkshop/answer_sample.csv', index_col='Id')\n",
    "\n",
    "\n",
    "# split train data to features and target value\n",
    "train_target = train_data['Target']\n",
    "train_data = train_data.drop(columns=['Target'])"
   ]
  },
  {
   "cell_type": "code",
   "execution_count": 4,
   "id": "3602f9b1",
   "metadata": {
    "execution": {
     "iopub.execute_input": "2023-05-22T10:29:19.221766Z",
     "iopub.status.busy": "2023-05-22T10:29:19.221346Z",
     "iopub.status.idle": "2023-05-22T10:29:19.227099Z",
     "shell.execute_reply": "2023-05-22T10:29:19.225854Z"
    },
    "papermill": {
     "duration": 0.017175,
     "end_time": "2023-05-22T10:29:19.229342",
     "exception": false,
     "start_time": "2023-05-22T10:29:19.212167",
     "status": "completed"
    },
    "tags": []
   },
   "outputs": [
    {
     "name": "stdout",
     "output_type": "stream",
     "text": [
      "base_data (2918139, 72) train_data (100000, 72) train_target (100000,) test_data (100000, 72)\n"
     ]
    }
   ],
   "source": [
    "print('base_data', base_data.shape, \n",
    "      'train_data', train_data.shape, \n",
    "      'train_target', train_target.shape,\n",
    "      'test_data', test_data.shape)"
   ]
  },
  {
   "cell_type": "code",
   "execution_count": 5,
   "id": "e3c6f4a7",
   "metadata": {
    "execution": {
     "iopub.execute_input": "2023-05-22T10:29:19.246940Z",
     "iopub.status.busy": "2023-05-22T10:29:19.246570Z",
     "iopub.status.idle": "2023-05-22T10:29:19.276420Z",
     "shell.execute_reply": "2023-05-22T10:29:19.275276Z"
    },
    "papermill": {
     "duration": 0.041429,
     "end_time": "2023-05-22T10:29:19.278765",
     "exception": false,
     "start_time": "2023-05-22T10:29:19.237336",
     "status": "completed"
    },
    "tags": []
   },
   "outputs": [
    {
     "data": {
      "text/html": [
       "<div>\n",
       "<style scoped>\n",
       "    .dataframe tbody tr th:only-of-type {\n",
       "        vertical-align: middle;\n",
       "    }\n",
       "\n",
       "    .dataframe tbody tr th {\n",
       "        vertical-align: top;\n",
       "    }\n",
       "\n",
       "    .dataframe thead th {\n",
       "        text-align: right;\n",
       "    }\n",
       "</style>\n",
       "<table border=\"1\" class=\"dataframe\">\n",
       "  <thead>\n",
       "    <tr style=\"text-align: right;\">\n",
       "      <th></th>\n",
       "      <th>0</th>\n",
       "      <th>1</th>\n",
       "      <th>2</th>\n",
       "      <th>3</th>\n",
       "      <th>4</th>\n",
       "      <th>5</th>\n",
       "      <th>6</th>\n",
       "      <th>7</th>\n",
       "      <th>8</th>\n",
       "      <th>9</th>\n",
       "    </tr>\n",
       "    <tr>\n",
       "      <th>Id</th>\n",
       "      <th></th>\n",
       "      <th></th>\n",
       "      <th></th>\n",
       "      <th></th>\n",
       "      <th></th>\n",
       "      <th></th>\n",
       "      <th></th>\n",
       "      <th></th>\n",
       "      <th></th>\n",
       "      <th></th>\n",
       "    </tr>\n",
       "  </thead>\n",
       "  <tbody>\n",
       "    <tr>\n",
       "      <th>0-base</th>\n",
       "      <td>-115.083890</td>\n",
       "      <td>11.152912</td>\n",
       "      <td>-64.426760</td>\n",
       "      <td>-118.88089</td>\n",
       "      <td>216.482440</td>\n",
       "      <td>-104.698060</td>\n",
       "      <td>-469.070588</td>\n",
       "      <td>44.348083</td>\n",
       "      <td>120.915344</td>\n",
       "      <td>181.449700</td>\n",
       "    </tr>\n",
       "    <tr>\n",
       "      <th>1-base</th>\n",
       "      <td>-34.562202</td>\n",
       "      <td>13.332763</td>\n",
       "      <td>-69.787610</td>\n",
       "      <td>-166.53348</td>\n",
       "      <td>57.680607</td>\n",
       "      <td>-86.098370</td>\n",
       "      <td>-85.076666</td>\n",
       "      <td>-35.637436</td>\n",
       "      <td>119.718636</td>\n",
       "      <td>195.234190</td>\n",
       "    </tr>\n",
       "    <tr>\n",
       "      <th>2-base</th>\n",
       "      <td>-54.233746</td>\n",
       "      <td>6.379371</td>\n",
       "      <td>-29.210136</td>\n",
       "      <td>-133.41383</td>\n",
       "      <td>150.895830</td>\n",
       "      <td>-99.435326</td>\n",
       "      <td>52.554795</td>\n",
       "      <td>62.381706</td>\n",
       "      <td>128.951450</td>\n",
       "      <td>164.381470</td>\n",
       "    </tr>\n",
       "    <tr>\n",
       "      <th>3-base</th>\n",
       "      <td>-87.520130</td>\n",
       "      <td>4.037884</td>\n",
       "      <td>-87.803030</td>\n",
       "      <td>-185.06763</td>\n",
       "      <td>76.369540</td>\n",
       "      <td>-58.985165</td>\n",
       "      <td>-383.182845</td>\n",
       "      <td>-33.611237</td>\n",
       "      <td>122.031910</td>\n",
       "      <td>136.233580</td>\n",
       "    </tr>\n",
       "    <tr>\n",
       "      <th>4-base</th>\n",
       "      <td>-72.743850</td>\n",
       "      <td>6.522049</td>\n",
       "      <td>43.671265</td>\n",
       "      <td>-140.60803</td>\n",
       "      <td>5.820023</td>\n",
       "      <td>-112.074080</td>\n",
       "      <td>-397.711282</td>\n",
       "      <td>45.182500</td>\n",
       "      <td>122.167180</td>\n",
       "      <td>112.119064</td>\n",
       "    </tr>\n",
       "  </tbody>\n",
       "</table>\n",
       "</div>"
      ],
      "text/plain": [
       "                 0          1          2          3           4           5  \\\n",
       "Id                                                                            \n",
       "0-base -115.083890  11.152912 -64.426760 -118.88089  216.482440 -104.698060   \n",
       "1-base  -34.562202  13.332763 -69.787610 -166.53348   57.680607  -86.098370   \n",
       "2-base  -54.233746   6.379371 -29.210136 -133.41383  150.895830  -99.435326   \n",
       "3-base  -87.520130   4.037884 -87.803030 -185.06763   76.369540  -58.985165   \n",
       "4-base  -72.743850   6.522049  43.671265 -140.60803    5.820023 -112.074080   \n",
       "\n",
       "                 6          7           8           9  \n",
       "Id                                                     \n",
       "0-base -469.070588  44.348083  120.915344  181.449700  \n",
       "1-base  -85.076666 -35.637436  119.718636  195.234190  \n",
       "2-base   52.554795  62.381706  128.951450  164.381470  \n",
       "3-base -383.182845 -33.611237  122.031910  136.233580  \n",
       "4-base -397.711282  45.182500  122.167180  112.119064  "
      ]
     },
     "execution_count": 5,
     "metadata": {},
     "output_type": "execute_result"
    }
   ],
   "source": [
    "base_data.iloc[:5,:10]"
   ]
  },
  {
   "cell_type": "markdown",
   "id": "db4fde6c",
   "metadata": {
    "papermill": {
     "duration": 0.008395,
     "end_time": "2023-05-22T10:29:19.295536",
     "exception": false,
     "start_time": "2023-05-22T10:29:19.287141",
     "status": "completed"
    },
    "tags": []
   },
   "source": [
    "## Data scaling"
   ]
  },
  {
   "cell_type": "markdown",
   "id": "adb69ccb",
   "metadata": {
    "papermill": {
     "duration": 0.007858,
     "end_time": "2023-05-22T10:29:19.311617",
     "exception": false,
     "start_time": "2023-05-22T10:29:19.303759",
     "status": "completed"
    },
    "tags": []
   },
   "source": [
    "Значения признаков имеют разный масштаб значений, так что применим нормализацию признаков для корректной работы поиска ближайших соседей faiss. Обучим StandardScaler на base_data."
   ]
  },
  {
   "cell_type": "code",
   "execution_count": 6,
   "id": "2750f888",
   "metadata": {
    "execution": {
     "iopub.execute_input": "2023-05-22T10:29:19.330823Z",
     "iopub.status.busy": "2023-05-22T10:29:19.329874Z",
     "iopub.status.idle": "2023-05-22T10:29:22.916944Z",
     "shell.execute_reply": "2023-05-22T10:29:22.915856Z"
    },
    "papermill": {
     "duration": 3.599367,
     "end_time": "2023-05-22T10:29:22.919685",
     "exception": false,
     "start_time": "2023-05-22T10:29:19.320318",
     "status": "completed"
    },
    "tags": []
   },
   "outputs": [],
   "source": [
    "# scale data with standard scaler\n",
    "\n",
    "scaler = StandardScaler()\n",
    "\n",
    "base_data_changed = pd.DataFrame(scaler.fit_transform(base_data), \n",
    "                                 index=base_data.index, \n",
    "                                 columns=base_data.columns)\n",
    "\n",
    "train_data_changed = pd.DataFrame(scaler.transform(train_data), \n",
    "                                 index=train_data.index, \n",
    "                                 columns=train_data.columns)\n",
    "\n",
    "test_data_changed  = pd.DataFrame(scaler.transform(test_data), \n",
    "                                 index=test_data.index, \n",
    "                                 columns=test_data.columns)"
   ]
  },
  {
   "cell_type": "markdown",
   "id": "3d379f1b",
   "metadata": {
    "papermill": {
     "duration": 0.008416,
     "end_time": "2023-05-22T10:29:22.936644",
     "exception": false,
     "start_time": "2023-05-22T10:29:22.928228",
     "status": "completed"
    },
    "tags": []
   },
   "source": [
    "## Features filtering"
   ]
  },
  {
   "cell_type": "markdown",
   "id": "4b507508",
   "metadata": {
    "papermill": {
     "duration": 0.008187,
     "end_time": "2023-05-22T10:29:22.953379",
     "exception": false,
     "start_time": "2023-05-22T10:29:22.945192",
     "status": "completed"
    },
    "tags": []
   },
   "source": [
    "Поскольку у нас есть тренировочная выборка с ТОП-1 рекомендацией, можно для каждого объекта посчитать расстояние до ТОП-1 отдельно по каждой координате (delta). Признаки с высокой дисперсией этой дельты, вероятно, плохо характеризуют товар, либо слишком специфичны/ситуативны. Такие признаки с большими отклонениями отбросим."
   ]
  },
  {
   "cell_type": "code",
   "execution_count": 7,
   "id": "a6068a0c",
   "metadata": {
    "execution": {
     "iopub.execute_input": "2023-05-22T10:29:22.972296Z",
     "iopub.status.busy": "2023-05-22T10:29:22.971906Z",
     "iopub.status.idle": "2023-05-22T10:29:24.811192Z",
     "shell.execute_reply": "2023-05-22T10:29:24.810204Z"
    },
    "papermill": {
     "duration": 1.852224,
     "end_time": "2023-05-22T10:29:24.813980",
     "exception": false,
     "start_time": "2023-05-22T10:29:22.961756",
     "status": "completed"
    },
    "tags": []
   },
   "outputs": [],
   "source": [
    "# calculate coordinates delta between request and best recommendation\n",
    "df1 = train_data_changed.copy().reset_index().drop(columns='Id')\n",
    "df2 = base_data_changed.loc[train_target].reset_index().drop(columns='Id')\n",
    "\n",
    "df_delta = df1 - df2"
   ]
  },
  {
   "cell_type": "code",
   "execution_count": 8,
   "id": "17a8f622",
   "metadata": {
    "execution": {
     "iopub.execute_input": "2023-05-22T10:29:24.833300Z",
     "iopub.status.busy": "2023-05-22T10:29:24.832804Z",
     "iopub.status.idle": "2023-05-22T10:29:25.646706Z",
     "shell.execute_reply": "2023-05-22T10:29:25.645250Z"
    },
    "papermill": {
     "duration": 0.827058,
     "end_time": "2023-05-22T10:29:25.649697",
     "exception": false,
     "start_time": "2023-05-22T10:29:24.822639",
     "status": "completed"
    },
    "tags": []
   },
   "outputs": [
    {
     "data": {
      "image/png": "[encoded data removed]",
      "text/plain": [
       "<Figure size 1000x500 with 1 Axes>"
      ]
     },
     "metadata": {},
     "output_type": "display_data"
    }
   ],
   "source": [
    "# get features sorted by standard deviation increase\n",
    "features_sorted_std = df_delta.describe().T.sort_values(by='std')['std']\n",
    "features_sorted_std.plot(kind='line', title='Features sorted by std', figsize=(10,5), style='o-', grid=True);"
   ]
  },
  {
   "cell_type": "markdown",
   "id": "0d5d39f1",
   "metadata": {
    "papermill": {
     "duration": 0.010079,
     "end_time": "2023-05-22T10:29:25.671708",
     "exception": false,
     "start_time": "2023-05-22T10:29:25.661629",
     "status": "completed"
    },
    "tags": []
   },
   "source": [
    "По графику видно, что последние восемь признаков с дисперсией значений гораздо выше, чем основная масса. Вероятно, они скорее вредят, чем способствуют точности прогноза. Удалим их из выборок."
   ]
  },
  {
   "cell_type": "code",
   "execution_count": 9,
   "id": "87c55a7a",
   "metadata": {
    "execution": {
     "iopub.execute_input": "2023-05-22T10:29:25.693323Z",
     "iopub.status.busy": "2023-05-22T10:29:25.692605Z",
     "iopub.status.idle": "2023-05-22T10:29:25.699388Z",
     "shell.execute_reply": "2023-05-22T10:29:25.698371Z"
    },
    "papermill": {
     "duration": 0.019211,
     "end_time": "2023-05-22T10:29:25.701974",
     "exception": false,
     "start_time": "2023-05-22T10:29:25.682763",
     "status": "completed"
    },
    "tags": []
   },
   "outputs": [
    {
     "name": "stdout",
     "output_type": "stream",
     "text": [
      "Features remain: ['63', '35', '10', '15', '71', '68', '34', '56', '61', '30', '42', '1', '36', '57', '28', '22', '67', '49', '14', '31', '50', '66', '58', '9', '29', '3', '48', '20', '46', '45', '37', '52', '16', '13', '12', '55', '38', '43', '5', '41', '19', '53', '8', '40', '69', '0', '64', '11', '32', '4', '17', '23', '24', '2', '47', '39', '7', '27', '62', '60', '54', '51', '26', '18']\n",
      "\n",
      "Features to drop: ['70', '44', '6', '25', '21', '65', '59', '33']\n"
     ]
    }
   ],
   "source": [
    "# get number of remaining features\n",
    "features_qty = base_data_changed.shape[1] - 8\n",
    "\n",
    "print('Features remain:', features_sorted_std[:features_qty].index.to_list())\n",
    "drop_columns = features_sorted_std[features_qty:].index.to_list()\n",
    "print('\\nFeatures to drop:', drop_columns)"
   ]
  },
  {
   "cell_type": "code",
   "execution_count": 10,
   "id": "c41d16b2",
   "metadata": {
    "execution": {
     "iopub.execute_input": "2023-05-22T10:29:25.727432Z",
     "iopub.status.busy": "2023-05-22T10:29:25.726185Z",
     "iopub.status.idle": "2023-05-22T10:29:27.634900Z",
     "shell.execute_reply": "2023-05-22T10:29:27.633414Z"
    },
    "papermill": {
     "duration": 1.922856,
     "end_time": "2023-05-22T10:29:27.637326",
     "exception": false,
     "start_time": "2023-05-22T10:29:25.714470",
     "status": "completed"
    },
    "tags": []
   },
   "outputs": [
    {
     "name": "stdout",
     "output_type": "stream",
     "text": [
      "base_data_changed (2918139, 64) train_data_changed (100000, 64) test_data_changed (100000, 64)\n"
     ]
    }
   ],
   "source": [
    "# drop Features here\n",
    "base_data_changed.drop(columns = drop_columns, inplace=True)\n",
    "train_data_changed.drop(columns = drop_columns, inplace=True)\n",
    "test_data_changed.drop(columns = drop_columns, inplace=True)\n",
    "\n",
    "print('base_data_changed', base_data_changed.shape, \n",
    "      'train_data_changed', train_data_changed.shape, \n",
    "      'test_data_changed', test_data_changed.shape)"
   ]
  },
  {
   "cell_type": "markdown",
   "id": "cdb00638",
   "metadata": {
    "papermill": {
     "duration": 0.008516,
     "end_time": "2023-05-22T10:29:27.654557",
     "exception": false,
     "start_time": "2023-05-22T10:29:27.646041",
     "status": "completed"
    },
    "tags": []
   },
   "source": [
    "## Train faiss"
   ]
  },
  {
   "cell_type": "markdown",
   "id": "aa798657",
   "metadata": {
    "papermill": {
     "duration": 0.008197,
     "end_time": "2023-05-22T10:29:27.671442",
     "exception": false,
     "start_time": "2023-05-22T10:29:27.663245",
     "status": "completed"
    },
    "tags": []
   },
   "source": [
    "Натренируем faiss с перебором гиперпараметров. Для этого заведем вспомогательные функции:\n",
    "- `train_faiss` - обучение модели FAISS с предоставленными параметрами количества кластеров, метрикой расчета расстояний до ближайшего соседа. Функция возвратит натренированный классификатор."
   ]
  },
  {
   "cell_type": "code",
   "execution_count": 11,
   "id": "c0b2dc3f",
   "metadata": {
    "execution": {
     "iopub.execute_input": "2023-05-22T10:29:27.690702Z",
     "iopub.status.busy": "2023-05-22T10:29:27.690317Z",
     "iopub.status.idle": "2023-05-22T10:29:27.695789Z",
     "shell.execute_reply": "2023-05-22T10:29:27.694693Z"
    },
    "papermill": {
     "duration": 0.01792,
     "end_time": "2023-05-22T10:29:27.697942",
     "exception": false,
     "start_time": "2023-05-22T10:29:27.680022",
     "status": "completed"
    },
    "tags": []
   },
   "outputs": [],
   "source": [
    "# helper function to train faiss with specific parameters\n",
    "def train_faiss(data, clusters = 100, metric=faiss.METRIC_INNER_PRODUCT):\n",
    "    features = data.shape[1] # amount of features\n",
    "    setup = f'IVF{clusters},Flat'\n",
    "    index = faiss.index_factory(features, setup, metric)\n",
    "    index.train(data) \n",
    "    index.add(data)\n",
    "    return index"
   ]
  },
  {
   "cell_type": "markdown",
   "id": "62bb9613",
   "metadata": {
    "papermill": {
     "duration": 0.008383,
     "end_time": "2023-05-22T10:29:27.714987",
     "exception": false,
     "start_time": "2023-05-22T10:29:27.706604",
     "status": "completed"
    },
    "tags": []
   },
   "source": [
    "- `evaluate_faiss` - функция оценки качества предсказаний модели. На входе получает обученную FAISS модель, тренировочные данные. Далее считает ТОП-N рекомендаций и процент попадания в них рекомендации ТОП-1 из тренировочного Target."
   ]
  },
  {
   "cell_type": "code",
   "execution_count": 12,
   "id": "02b6663c",
   "metadata": {
    "execution": {
     "iopub.execute_input": "2023-05-22T10:29:27.734458Z",
     "iopub.status.busy": "2023-05-22T10:29:27.734057Z",
     "iopub.status.idle": "2023-05-22T10:29:27.741332Z",
     "shell.execute_reply": "2023-05-22T10:29:27.740228Z"
    },
    "papermill": {
     "duration": 0.019441,
     "end_time": "2023-05-22T10:29:27.743332",
     "exception": false,
     "start_time": "2023-05-22T10:29:27.723891",
     "status": "completed"
    },
    "tags": []
   },
   "outputs": [],
   "source": [
    "# helper function to evaluate results\n",
    "def evaluate_faiss(index, train_data, train_target, base_data, topn=1, nprobe = 1):\n",
    "    \n",
    "    # amount of faiss clusters to search in\n",
    "    index.nprobe = nprobe  \n",
    "    \n",
    "    # search TOPN closest entities\n",
    "    _ , I = index.search(train_data, topn)\n",
    "    \n",
    "    # measure result\n",
    "    y = pd.DataFrame(train_target)\n",
    "    y['preds'] = None\n",
    "    y['match'] = 0\n",
    "    for i,val in enumerate(I):\n",
    "        y.iloc[i,1] = ' '.join(base_data.index[x] for x in val)\n",
    "        y.iloc[i,2] = y.iloc[i,0] in y.iloc[i,1] # check match here\n",
    "     \n",
    "    return y['match'].mean()"
   ]
  },
  {
   "cell_type": "markdown",
   "id": "22d4bdf8",
   "metadata": {
    "papermill": {
     "duration": 0.008497,
     "end_time": "2023-05-22T10:29:27.760497",
     "exception": false,
     "start_time": "2023-05-22T10:29:27.752000",
     "status": "completed"
    },
    "tags": []
   },
   "source": [
    "Запускаем цикл обучения с подбором гиперпараметров FAISS. Мы можем управлять метрикой измерения расстояния (`metric`), количеством кластеров (`clusters`), на которое разделим всю совокупность данных и количество кластеров отсматривать при расчете рекомендаций (`nprobe`).\n",
    "\n",
    "Для каждой комбинации параметров мы обучим FAISS и проведем оценку финальной метрики. Классификатор с наилучшей метрикой попадают в переменную `best_index`"
   ]
  },
  {
   "cell_type": "code",
   "execution_count": 13,
   "id": "8cfcd761",
   "metadata": {
    "execution": {
     "iopub.execute_input": "2023-05-22T10:29:27.779545Z",
     "iopub.status.busy": "2023-05-22T10:29:27.779122Z",
     "iopub.status.idle": "2023-05-22T10:38:33.674028Z",
     "shell.execute_reply": "2023-05-22T10:38:33.672643Z"
    },
    "papermill": {
     "duration": 545.915302,
     "end_time": "2023-05-22T10:38:33.684475",
     "exception": false,
     "start_time": "2023-05-22T10:29:27.769173",
     "status": "completed"
    },
    "tags": []
   },
   "outputs": [
    {
     "name": "stdout",
     "output_type": "stream",
     "text": [
      "Train clusters=1708, metric=1, nprobe=250, result=0.73671\n",
      "\n",
      "BEST clusters=1708, metric=1, nprobe=250, result=0.73671\n"
     ]
    }
   ],
   "source": [
    "topn = 10\n",
    "index = None\n",
    "\n",
    "best_clusters = 0\n",
    "best_metric = 0\n",
    "best_nprobe = 0\n",
    "best_result = 0 \n",
    "best_index = None\n",
    "\n",
    "np.random\n",
    "\n",
    "for clusters in [int(base_data_changed.shape[0]**0.5)]: #[500, 1000, 1500, 2000, 2500, 3000, int(base_data_changed.shape[0]**0.5)]\n",
    "    for metric in [faiss.METRIC_L2]:  # [faiss.METRIC_INNER_PRODUCT, faiss.METRIC_L2]\n",
    "        for nprobe in [250]: # [16, 32, 64, 100, 250]\n",
    "            index = train_faiss(base_data_changed, clusters, metric) # train model\n",
    "            index.nprobe = nprobe  \n",
    "            result = evaluate_faiss(index, train_data_changed, train_target, base_data_changed, topn, nprobe) # evaluate\n",
    "        \n",
    "            print(f'Train clusters={clusters}, metric={metric}, nprobe={nprobe}, result={result}')\n",
    "            \n",
    "            if best_result<result:\n",
    "                best_clusters = clusters\n",
    "                best_metric = metric\n",
    "                best_nprobe = nprobe\n",
    "                best_result = result \n",
    "                best_index = index\n",
    "            \n",
    "print(f'\\nBEST clusters={best_clusters}, metric={best_metric}, nprobe={best_nprobe}, result={best_result}')"
   ]
  },
  {
   "cell_type": "markdown",
   "id": "7d43e25c",
   "metadata": {
    "papermill": {
     "duration": 0.008652,
     "end_time": "2023-05-22T10:38:33.702206",
     "exception": false,
     "start_time": "2023-05-22T10:38:33.693554",
     "status": "completed"
    },
    "tags": []
   },
   "source": [
    "## Make submission"
   ]
  },
  {
   "cell_type": "markdown",
   "id": "b1e320fb",
   "metadata": {
    "papermill": {
     "duration": 0.008779,
     "end_time": "2023-05-22T10:38:33.720395",
     "exception": false,
     "start_time": "2023-05-22T10:38:33.711616",
     "status": "completed"
    },
    "tags": []
   },
   "source": [
    "У нас есть обученная модель с оптимальными гиперпараметрами. Теперь сделаем предсказания топ-10 товаров для каждого товара из запроса."
   ]
  },
  {
   "cell_type": "code",
   "execution_count": 14,
   "id": "ea8fd34d",
   "metadata": {
    "execution": {
     "iopub.execute_input": "2023-05-22T10:38:33.740621Z",
     "iopub.status.busy": "2023-05-22T10:38:33.740150Z",
     "iopub.status.idle": "2023-05-22T10:46:38.598983Z",
     "shell.execute_reply": "2023-05-22T10:46:38.597720Z"
    },
    "papermill": {
     "duration": 484.872954,
     "end_time": "2023-05-22T10:46:38.602388",
     "exception": false,
     "start_time": "2023-05-22T10:38:33.729434",
     "status": "completed"
    },
    "tags": []
   },
   "outputs": [],
   "source": [
    "# find topn recommendations for each target item\n",
    "topn = 10\n",
    "D , I = best_index.search(test_data_changed, topn)"
   ]
  },
  {
   "cell_type": "code",
   "execution_count": 15,
   "id": "880f4fc6",
   "metadata": {
    "execution": {
     "iopub.execute_input": "2023-05-22T10:46:38.623613Z",
     "iopub.status.busy": "2023-05-22T10:46:38.622971Z",
     "iopub.status.idle": "2023-05-22T10:46:38.629618Z",
     "shell.execute_reply": "2023-05-22T10:46:38.628793Z"
    },
    "papermill": {
     "duration": 0.019324,
     "end_time": "2023-05-22T10:46:38.631566",
     "exception": false,
     "start_time": "2023-05-22T10:46:38.612242",
     "status": "completed"
    },
    "tags": []
   },
   "outputs": [
    {
     "data": {
      "text/plain": [
       "array([[1954150, 2192372, 1225777, ...,  340288, 1719453,  814942],\n",
       "       [1902634,  157966,   11829, ..., 1162720, 1459534, 1884931],\n",
       "       [ 431806,  451870,   24989, ...,  359945,  318265, 1825274],\n",
       "       ...,\n",
       "       [1392746, 1731267,  991639, ...,  209755,   99184,  349609],\n",
       "       [ 319526, 2820290,   77792, ..., 1087791,  442664, 2622710],\n",
       "       [1811737, 1537302, 1985371, ...,  233242,  451450,  234056]])"
      ]
     },
     "execution_count": 15,
     "metadata": {},
     "output_type": "execute_result"
    }
   ],
   "source": [
    "I"
   ]
  },
  {
   "cell_type": "markdown",
   "id": "e8dbd313",
   "metadata": {
    "papermill": {
     "duration": 0.008878,
     "end_time": "2023-05-22T10:46:38.649560",
     "exception": false,
     "start_time": "2023-05-22T10:46:38.640682",
     "status": "completed"
    },
    "tags": []
   },
   "source": [
    "Получили массив с порядковыми номерами (не индексами) товаров из `base_data`. Сформируем итоговый файл с предсказаниями `submission.csv`, в который по этим порядковым номерам подтянем Id товаров-рекоммендаций."
   ]
  },
  {
   "cell_type": "code",
   "execution_count": 16,
   "id": "0529feb6",
   "metadata": {
    "execution": {
     "iopub.execute_input": "2023-05-22T10:46:38.670358Z",
     "iopub.status.busy": "2023-05-22T10:46:38.669619Z",
     "iopub.status.idle": "2023-05-22T10:46:42.334918Z",
     "shell.execute_reply": "2023-05-22T10:46:42.333826Z"
    },
    "papermill": {
     "duration": 3.678296,
     "end_time": "2023-05-22T10:46:42.337464",
     "exception": false,
     "start_time": "2023-05-22T10:46:38.659168",
     "status": "completed"
    },
    "tags": []
   },
   "outputs": [
    {
     "data": {
      "text/html": [
       "<div>\n",
       "<style scoped>\n",
       "    .dataframe tbody tr th:only-of-type {\n",
       "        vertical-align: middle;\n",
       "    }\n",
       "\n",
       "    .dataframe tbody tr th {\n",
       "        vertical-align: top;\n",
       "    }\n",
       "\n",
       "    .dataframe thead th {\n",
       "        text-align: right;\n",
       "    }\n",
       "</style>\n",
       "<table border=\"1\" class=\"dataframe\">\n",
       "  <thead>\n",
       "    <tr style=\"text-align: right;\">\n",
       "      <th></th>\n",
       "      <th>Id</th>\n",
       "      <th>Predicted</th>\n",
       "    </tr>\n",
       "  </thead>\n",
       "  <tbody>\n",
       "    <tr>\n",
       "      <th>0</th>\n",
       "      <td>100000-query</td>\n",
       "      <td>2760762-base 3209652-base 1542803-base 3839597...</td>\n",
       "    </tr>\n",
       "    <tr>\n",
       "      <th>1</th>\n",
       "      <td>100001-query</td>\n",
       "      <td>2666508-base 163485-base 11853-base 1000521-ba...</td>\n",
       "    </tr>\n",
       "    <tr>\n",
       "      <th>2</th>\n",
       "      <td>100002-query</td>\n",
       "      <td>472256-base 496010-base 25113-base 153272-base...</td>\n",
       "    </tr>\n",
       "    <tr>\n",
       "      <th>3</th>\n",
       "      <td>100003-query</td>\n",
       "      <td>3168654-base 1831175-base 2345993-base 4473809...</td>\n",
       "    </tr>\n",
       "    <tr>\n",
       "      <th>4</th>\n",
       "      <td>100004-query</td>\n",
       "      <td>1217188-base 75484-base 2366033-base 2863148-b...</td>\n",
       "    </tr>\n",
       "    <tr>\n",
       "      <th>...</th>\n",
       "      <td>...</td>\n",
       "      <td>...</td>\n",
       "    </tr>\n",
       "    <tr>\n",
       "      <th>99995</th>\n",
       "      <td>199995-query</td>\n",
       "      <td>880713-base 250053-base 3385639-base 962150-ba...</td>\n",
       "    </tr>\n",
       "    <tr>\n",
       "      <th>99996</th>\n",
       "      <td>199996-query</td>\n",
       "      <td>272706-base 2653840-base 220273-base 936053-ba...</td>\n",
       "    </tr>\n",
       "    <tr>\n",
       "      <th>99997</th>\n",
       "      <td>199997-query</td>\n",
       "      <td>1801591-base 2362444-base 1200061-base 654974-...</td>\n",
       "    </tr>\n",
       "    <tr>\n",
       "      <th>99998</th>\n",
       "      <td>199998-query</td>\n",
       "      <td>341779-base 4523822-base 79148-base 3024721-ba...</td>\n",
       "    </tr>\n",
       "    <tr>\n",
       "      <th>99999</th>\n",
       "      <td>199999-query</td>\n",
       "      <td>2503531-base 2034870-base 2818124-base 337547-...</td>\n",
       "    </tr>\n",
       "  </tbody>\n",
       "</table>\n",
       "<p>100000 rows × 2 columns</p>\n",
       "</div>"
      ],
      "text/plain": [
       "                 Id                                          Predicted\n",
       "0      100000-query  2760762-base 3209652-base 1542803-base 3839597...\n",
       "1      100001-query  2666508-base 163485-base 11853-base 1000521-ba...\n",
       "2      100002-query  472256-base 496010-base 25113-base 153272-base...\n",
       "3      100003-query  3168654-base 1831175-base 2345993-base 4473809...\n",
       "4      100004-query  1217188-base 75484-base 2366033-base 2863148-b...\n",
       "...             ...                                                ...\n",
       "99995  199995-query  880713-base 250053-base 3385639-base 962150-ba...\n",
       "99996  199996-query  272706-base 2653840-base 220273-base 936053-ba...\n",
       "99997  199997-query  1801591-base 2362444-base 1200061-base 654974-...\n",
       "99998  199998-query  341779-base 4523822-base 79148-base 3024721-ba...\n",
       "99999  199999-query  2503531-base 2034870-base 2818124-base 337547-...\n",
       "\n",
       "[100000 rows x 2 columns]"
      ]
     },
     "execution_count": 16,
     "metadata": {},
     "output_type": "execute_result"
    }
   ],
   "source": [
    "submission = pd.DataFrame(columns=['Id', 'Predicted'])\n",
    "\n",
    "submission['Id'] = test_data_changed.index\n",
    "submission['Predicted'] = list(I)\n",
    "submission = submission.explode('Predicted')\n",
    "submission['Predicted'] = base_data_changed.index[list(submission['Predicted'])]\n",
    "submission = submission.groupby('Id')['Predicted'].apply(' '.join).reset_index()\n",
    "\n",
    "submission"
   ]
  },
  {
   "cell_type": "markdown",
   "id": "d95ab486",
   "metadata": {
    "papermill": {
     "duration": 0.009102,
     "end_time": "2023-05-22T10:46:42.356271",
     "exception": false,
     "start_time": "2023-05-22T10:46:42.347169",
     "status": "completed"
    },
    "tags": []
   },
   "source": [
    " Сохраним файл на диск."
   ]
  },
  {
   "cell_type": "code",
   "execution_count": 17,
   "id": "3a420ecd",
   "metadata": {
    "execution": {
     "iopub.execute_input": "2023-05-22T10:46:42.377433Z",
     "iopub.status.busy": "2023-05-22T10:46:42.376785Z",
     "iopub.status.idle": "2023-05-22T10:46:42.810209Z",
     "shell.execute_reply": "2023-05-22T10:46:42.809033Z"
    },
    "papermill": {
     "duration": 0.44719,
     "end_time": "2023-05-22T10:46:42.812925",
     "exception": false,
     "start_time": "2023-05-22T10:46:42.365735",
     "status": "completed"
    },
    "tags": []
   },
   "outputs": [],
   "source": [
    "submission.to_csv('submission.csv', index=False)"
   ]
  },
  {
   "attachments": {},
   "cell_type": "markdown",
   "id": "88517451",
   "metadata": {},
   "source": [
    "## Other tested ideas (not affecting result)"
   ]
  },
  {
   "attachments": {},
   "cell_type": "markdown",
   "id": "77f26446",
   "metadata": {},
   "source": [
    "<div class=\"alert alert-block alert-danger\"> \n",
    "Весь код ниже - вырезки из разных экспериментов с моделью. Он приведен в справочных целях и не влияет на результат формирования файла submission.csv </div>"
   ]
  },
  {
   "attachments": {},
   "cell_type": "markdown",
   "id": "a73a49ad",
   "metadata": {
    "papermill": {
     "duration": 0.009381,
     "end_time": "2023-05-22T10:46:42.831665",
     "exception": false,
     "start_time": "2023-05-22T10:46:42.822284",
     "status": "completed"
    },
    "tags": []
   },
   "source": [
    "**Catboost stupid ranking model**\n",
    "\n",
    "Ниже я пробовал прикрутить модель второго уровня, которая могла бы оценить пригодность рекомендованного товара. Это модель регрессии, результат которой - чем выше, тем ближе рекомендация к запросу. Предполагалось обучать модель на синтезированных данных, где самый ближайший сосед из обучающей выборки имеет значение таргета =1 , а нерелевантная рекомендация - значение =0.\n",
    "\n",
    "**По итогу - не удалось обучить модель отличать близкие рекомендации от неблизких.** \n",
    "\n",
    "Вероятно, ошибка в подготовке обучающей выборки, хотя пробовал несколько вариантов формирования нерелевантных рекомендаций, в т.ч. выбором случайного товара из общей базы товаров. \n",
    "\n",
    "---"
   ]
  },
  {
   "attachments": {},
   "cell_type": "markdown",
   "id": "d31e271a",
   "metadata": {},
   "source": [
    "\n",
    "Подготовим обучающий датасет, на котором будут отделяться релевантные объекты от нерелевантных. \n",
    "Список релевантных у нас есть - это данные таблицы train. Нерелевантные объекты сгенерируем самостоятельно - для каждого query подтянем случайный объект из данных."
   ]
  },
  {
   "cell_type": "code",
   "execution_count": null,
   "id": "7857105a",
   "metadata": {},
   "outputs": [],
   "source": [
    "\n",
    "# GENERATE NOT RELEVANT SAMPLES (MARKED AS 0)\n",
    "\n",
    "topn = 1\n",
    "best_index.nprobe = 10  \n",
    "max_items=100\n",
    "\n",
    "# find closest neighbours \n",
    "D , I = best_index.search(train_data_changed[:max_items], topn)\n",
    "\n",
    "# generate dataframe with pairs REQUEST-RECOMMENDATION \n",
    "df = pd.DataFrame(columns=['Id_q', 'Id_r'])\n",
    "df['Id_q'] = train_data_changed.index[:max_items]\n",
    "df['Id_r'] =  list(I)\n",
    "df = df.explode('Id_r')\n",
    "df['Id_r'] = base_data_changed.index[list(df['Id_r'])]\n",
    "\n",
    "# drop known best recomendations\n",
    "recs_drop=list(train_target)\n",
    "df = df.query('Id_r not in @recs_drop')\n",
    "df.columns=['Id','Target']\n",
    "\n",
    " \n",
    "# generate non relevant samples\n",
    "df_nonrelevant =df\n",
    "df_nonrelevant['relevance'] = 0"
   ]
  },
  {
   "attachments": {},
   "cell_type": "markdown",
   "id": "2d040b63",
   "metadata": {},
   "source": [
    "Создадим простую модель регрессии, которую научим отличать релевантные пары от нерелевантных"
   ]
  },
  {
   "cell_type": "code",
   "execution_count": null,
   "id": "89cc6bac",
   "metadata": {},
   "outputs": [],
   "source": [
    "# GENERATE RELEVANT DATA (MARKED as 1)\n",
    "df_relevant = df.drop(columns='Target').merge(train_target.reset_index(), on ='Id')\n",
    "df_relevant['relevance'] = 1"
   ]
  },
  {
   "cell_type": "code",
   "execution_count": null,
   "id": "8971f75e",
   "metadata": {},
   "outputs": [],
   "source": [
    "# COMBINE IN TRAIN DATASET\n",
    "\n",
    "df = pd.concat([df_nonrelevant, df_relevant])\n",
    "\n",
    "X = df.drop(columns=['relevance'])\n",
    "y = df.drop(columns=['Id', 'Target'])\n",
    "\n",
    "X = X.merge(train_data_changed.reset_index(), on='Id')\n",
    "X.drop(columns='Id', inplace=True)\n",
    "X = X.merge(base_data_changed.reset_index(), left_on='Target', \n",
    "                        right_on = 'Id', suffixes=['_query','_base'])\n",
    "X.drop(columns=['Id','Target'], inplace=True)\n",
    " \n",
    "\n",
    "print('X.shape:', X.shape, 'y.shape:', y.shape)"
   ]
  },
  {
   "cell_type": "code",
   "execution_count": null,
   "id": "d0f4c36d",
   "metadata": {},
   "outputs": [],
   "source": [
    "# TRAIN MODEL\n",
    "\n",
    "model = CatBoostRegressor(random_state=1, iterations=300)\n",
    "\n",
    "x_train, x_test, y_train, y_test = train_test_split( X, y, test_size=0.001, random_state=42, shuffle=True)\n",
    "model.fit(x_train, y_train, verbose=100)\n",
    "\n",
    "# test ranking\n",
    "print('Rank value on non relevant items', model.predict(X.loc[:1000]).mean())\n",
    "print('Rank value on relevant items', model.predict(X.loc[-1000:]).mean())"
   ]
  },
  {
   "attachments": {},
   "cell_type": "markdown",
   "id": "3d764b56",
   "metadata": {},
   "source": [
    "    Learning rate set to 0.070749\n",
    "    0:\tlearn: 0.4887968\ttotal: 61.1ms\tremaining: 18.3s\n",
    "    100:\tlearn: 0.0321425\ttotal: 391ms\tremaining: 769ms\n",
    "    200:\tlearn: 0.0061126\ttotal: 716ms\tremaining: 353ms\n",
    "    299:\tlearn: 0.0011144\ttotal: 1.05s\tremaining: 0us\n",
    "    Rank value on non relevant items 0.49829480289605027\n",
    "    Rank value on relevant items 0.49829480289605027"
   ]
  },
  {
   "attachments": {},
   "cell_type": "markdown",
   "id": "3151e263",
   "metadata": {},
   "source": [
    "Видно, что результат регрессии для релевантных и нерелевантных рекоммендаций не отличается. Значит модель не может их отделить"
   ]
  },
  {
   "attachments": {},
   "cell_type": "markdown",
   "id": "9da385f5",
   "metadata": {},
   "source": [
    "**Catboost submission ranking**\n"
   ]
  },
  {
   "attachments": {},
   "cell_type": "markdown",
   "id": "2b883b71",
   "metadata": {},
   "source": [
    "Делаем предсказание в 2 этапа. \n",
    "1. Находим topn ближайших соседей моделью FAISS. Ищем соседей с запасом, чтобы было из чего выбрать на втором шаге\n",
    "2. ранжируем найденных соседей моделью CATBOOST и оставляем топ 10"
   ]
  },
  {
   "cell_type": "code",
   "execution_count": null,
   "id": "309217f7",
   "metadata": {},
   "outputs": [],
   "source": [
    "# 1 - find topn recommendations for each target item with FAISS\n",
    "topn = 50\n",
    "D , I = best_index.search(test_data_changed, topn)\n",
    "\n",
    "# 2 - Catboost sorting\n",
    "\n",
    "df = pd.DataFrame(columns=['Id_q', 'Id_r'])\n",
    "df['Id_q'] = test_data_changed.index\n",
    "df['Id_r'] = list(I)\n",
    "df = df.explode('Id_r')\n",
    "df['Id_r'] = base_data_changed.index[list(df['Id_r'])]\n",
    "\n",
    "\n",
    "df = df.merge(test_data_changed.reset_index(), left_on='Id_q', right_on='Id')\n",
    "df = df.merge(base_data_changed.reset_index(), left_on='Id_r', \n",
    "                        right_on = 'Id', suffixes=['_query','_base'])\n",
    "\n",
    "# generate predictions for every pair Query-Recommendation\n",
    "preds = model.predict(df.drop(columns=['Id_q','Id_r','Id_query', 'Id_base']))\n",
    "preds\n",
    "\n",
    "df['preds'] = preds\n",
    "df = df[['Id_q', 'Id_r', 'preds']]\n",
    "\n",
    "#  get top recomendations for every request\n",
    "topn = 10\n",
    "submission = df.sort_values('preds', ascending=False).groupby('Id_q').head(topn)\n",
    "submission['Id_q'].value_counts()"
   ]
  },
  {
   "attachments": {},
   "cell_type": "markdown",
   "id": "895537e8",
   "metadata": {},
   "source": [
    "    110225-query    10\n",
    "    199281-query    10\n",
    "    107596-query    10\n",
    "    105244-query    10\n",
    "    154774-query    10\n",
    "                    ..\n",
    "    194848-query    10\n",
    "    197305-query    10\n",
    "    164764-query    10\n",
    "    171160-query    10\n",
    "    159548-query    10\n",
    "    Name: Id_q, Length: 100000, dtype: int64"
   ]
  },
  {
   "cell_type": "markdown",
   "id": "7eb17d56",
   "metadata": {},
   "source": []
  }
 ],
 "metadata": {
  "kernelspec": {
   "display_name": "Python 3",
   "language": "python",
   "name": "python3"
  },
  "language_info": {
   "codemirror_mode": {
    "name": "ipython",
    "version": 3
   },
   "file_extension": ".py",
   "mimetype": "text/x-python",
   "name": "python",
   "nbconvert_exporter": "python",
   "pygments_lexer": "ipython3",
   "version": "3.10.10"
  },
  "papermill": {
   "default_parameters": {},
   "duration": 1151.697056,
   "end_time": "2023-05-22T10:46:44.066920",
   "environment_variables": {},
   "exception": null,
   "input_path": "__notebook__.ipynb",
   "output_path": "__notebook__.ipynb",
   "parameters": {},
   "start_time": "2023-05-22T10:27:32.369864",
   "version": "2.4.0"
  }
 },
 "nbformat": 4,
 "nbformat_minor": 5
}
