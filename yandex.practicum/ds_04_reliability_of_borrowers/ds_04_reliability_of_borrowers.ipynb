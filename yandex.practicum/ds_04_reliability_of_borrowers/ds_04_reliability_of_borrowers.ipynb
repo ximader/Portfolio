{
 "cells": [
  {
   "cell_type": "markdown",
   "id": "c81daeeb",
   "metadata": {
    "deletable": false,
    "id": "c81daeeb"
   },
   "source": [
    "# Исследование надежности заемщиков\n"
   ]
  },
  {
   "cell_type": "markdown",
   "id": "744d7639",
   "metadata": {
    "deletable": false,
    "id": "744d7639"
   },
   "source": [
    "## Откройте таблицу и изучите общую информацию о данных"
   ]
  },
  {
   "cell_type": "markdown",
   "id": "e7a14c31",
   "metadata": {
    "deletable": false,
    "id": "e7a14c31"
   },
   "source": [
    "**Задание 1. Импортируйте библиотеку pandas. Считайте данные из csv-файла в датафрейм и сохраните в переменную `data`. Путь к файлу:**\n",
    "\n",
    "`/datasets/data.csv`"
   ]
  },
  {
   "cell_type": "code",
   "execution_count": 2,
   "id": "7bcf75c9",
   "metadata": {
    "deletable": false,
    "id": "7bcf75c9"
   },
   "outputs": [],
   "source": [
    "import pandas as pd\n",
    "\n",
    "try:\n",
    "    data = pd.read_csv('/datasets/data.csv')\n",
    "except:\n",
    "    data = pd.read_csv('https://code.s3.yandex.net/datasets/data.csv')"
   ]
  },
  {
   "cell_type": "markdown",
   "id": "b8038fe3",
   "metadata": {
    "deletable": false,
    "id": "b8038fe3"
   },
   "source": [
    "**Задание 2. Выведите первые 20 строчек датафрейма `data` на экран.**"
   ]
  },
  {
   "cell_type": "code",
   "execution_count": 3,
   "id": "2a7cab99",
   "metadata": {
    "deletable": false,
    "id": "2a7cab99",
    "outputId": "1a8f3ef2-d323-4ec2-ddf7-89670b5944c4"
   },
   "outputs": [
    {
     "data": {
      "text/html": [
       "<div>\n",
       "<style scoped>\n",
       "    .dataframe tbody tr th:only-of-type {\n",
       "        vertical-align: middle;\n",
       "    }\n",
       "\n",
       "    .dataframe tbody tr th {\n",
       "        vertical-align: top;\n",
       "    }\n",
       "\n",
       "    .dataframe thead th {\n",
       "        text-align: right;\n",
       "    }\n",
       "</style>\n",
       "<table border=\"1\" class=\"dataframe\">\n",
       "  <thead>\n",
       "    <tr style=\"text-align: right;\">\n",
       "      <th></th>\n",
       "      <th>children</th>\n",
       "      <th>days_employed</th>\n",
       "      <th>dob_years</th>\n",
       "      <th>education</th>\n",
       "      <th>education_id</th>\n",
       "      <th>family_status</th>\n",
       "      <th>family_status_id</th>\n",
       "      <th>gender</th>\n",
       "      <th>income_type</th>\n",
       "      <th>debt</th>\n",
       "      <th>total_income</th>\n",
       "      <th>purpose</th>\n",
       "    </tr>\n",
       "  </thead>\n",
       "  <tbody>\n",
       "    <tr>\n",
       "      <th>0</th>\n",
       "      <td>1</td>\n",
       "      <td>-8437.673028</td>\n",
       "      <td>42</td>\n",
       "      <td>высшее</td>\n",
       "      <td>0</td>\n",
       "      <td>женат / замужем</td>\n",
       "      <td>0</td>\n",
       "      <td>F</td>\n",
       "      <td>сотрудник</td>\n",
       "      <td>0</td>\n",
       "      <td>253875.639453</td>\n",
       "      <td>покупка жилья</td>\n",
       "    </tr>\n",
       "    <tr>\n",
       "      <th>1</th>\n",
       "      <td>1</td>\n",
       "      <td>-4024.803754</td>\n",
       "      <td>36</td>\n",
       "      <td>среднее</td>\n",
       "      <td>1</td>\n",
       "      <td>женат / замужем</td>\n",
       "      <td>0</td>\n",
       "      <td>F</td>\n",
       "      <td>сотрудник</td>\n",
       "      <td>0</td>\n",
       "      <td>112080.014102</td>\n",
       "      <td>приобретение автомобиля</td>\n",
       "    </tr>\n",
       "    <tr>\n",
       "      <th>2</th>\n",
       "      <td>0</td>\n",
       "      <td>-5623.422610</td>\n",
       "      <td>33</td>\n",
       "      <td>Среднее</td>\n",
       "      <td>1</td>\n",
       "      <td>женат / замужем</td>\n",
       "      <td>0</td>\n",
       "      <td>M</td>\n",
       "      <td>сотрудник</td>\n",
       "      <td>0</td>\n",
       "      <td>145885.952297</td>\n",
       "      <td>покупка жилья</td>\n",
       "    </tr>\n",
       "    <tr>\n",
       "      <th>3</th>\n",
       "      <td>3</td>\n",
       "      <td>-4124.747207</td>\n",
       "      <td>32</td>\n",
       "      <td>среднее</td>\n",
       "      <td>1</td>\n",
       "      <td>женат / замужем</td>\n",
       "      <td>0</td>\n",
       "      <td>M</td>\n",
       "      <td>сотрудник</td>\n",
       "      <td>0</td>\n",
       "      <td>267628.550329</td>\n",
       "      <td>дополнительное образование</td>\n",
       "    </tr>\n",
       "    <tr>\n",
       "      <th>4</th>\n",
       "      <td>0</td>\n",
       "      <td>340266.072047</td>\n",
       "      <td>53</td>\n",
       "      <td>среднее</td>\n",
       "      <td>1</td>\n",
       "      <td>гражданский брак</td>\n",
       "      <td>1</td>\n",
       "      <td>F</td>\n",
       "      <td>пенсионер</td>\n",
       "      <td>0</td>\n",
       "      <td>158616.077870</td>\n",
       "      <td>сыграть свадьбу</td>\n",
       "    </tr>\n",
       "    <tr>\n",
       "      <th>5</th>\n",
       "      <td>0</td>\n",
       "      <td>-926.185831</td>\n",
       "      <td>27</td>\n",
       "      <td>высшее</td>\n",
       "      <td>0</td>\n",
       "      <td>гражданский брак</td>\n",
       "      <td>1</td>\n",
       "      <td>M</td>\n",
       "      <td>компаньон</td>\n",
       "      <td>0</td>\n",
       "      <td>255763.565419</td>\n",
       "      <td>покупка жилья</td>\n",
       "    </tr>\n",
       "    <tr>\n",
       "      <th>6</th>\n",
       "      <td>0</td>\n",
       "      <td>-2879.202052</td>\n",
       "      <td>43</td>\n",
       "      <td>высшее</td>\n",
       "      <td>0</td>\n",
       "      <td>женат / замужем</td>\n",
       "      <td>0</td>\n",
       "      <td>F</td>\n",
       "      <td>компаньон</td>\n",
       "      <td>0</td>\n",
       "      <td>240525.971920</td>\n",
       "      <td>операции с жильем</td>\n",
       "    </tr>\n",
       "    <tr>\n",
       "      <th>7</th>\n",
       "      <td>0</td>\n",
       "      <td>-152.779569</td>\n",
       "      <td>50</td>\n",
       "      <td>СРЕДНЕЕ</td>\n",
       "      <td>1</td>\n",
       "      <td>женат / замужем</td>\n",
       "      <td>0</td>\n",
       "      <td>M</td>\n",
       "      <td>сотрудник</td>\n",
       "      <td>0</td>\n",
       "      <td>135823.934197</td>\n",
       "      <td>образование</td>\n",
       "    </tr>\n",
       "    <tr>\n",
       "      <th>8</th>\n",
       "      <td>2</td>\n",
       "      <td>-6929.865299</td>\n",
       "      <td>35</td>\n",
       "      <td>ВЫСШЕЕ</td>\n",
       "      <td>0</td>\n",
       "      <td>гражданский брак</td>\n",
       "      <td>1</td>\n",
       "      <td>F</td>\n",
       "      <td>сотрудник</td>\n",
       "      <td>0</td>\n",
       "      <td>95856.832424</td>\n",
       "      <td>на проведение свадьбы</td>\n",
       "    </tr>\n",
       "    <tr>\n",
       "      <th>9</th>\n",
       "      <td>0</td>\n",
       "      <td>-2188.756445</td>\n",
       "      <td>41</td>\n",
       "      <td>среднее</td>\n",
       "      <td>1</td>\n",
       "      <td>женат / замужем</td>\n",
       "      <td>0</td>\n",
       "      <td>M</td>\n",
       "      <td>сотрудник</td>\n",
       "      <td>0</td>\n",
       "      <td>144425.938277</td>\n",
       "      <td>покупка жилья для семьи</td>\n",
       "    </tr>\n",
       "    <tr>\n",
       "      <th>10</th>\n",
       "      <td>2</td>\n",
       "      <td>-4171.483647</td>\n",
       "      <td>36</td>\n",
       "      <td>высшее</td>\n",
       "      <td>0</td>\n",
       "      <td>женат / замужем</td>\n",
       "      <td>0</td>\n",
       "      <td>M</td>\n",
       "      <td>компаньон</td>\n",
       "      <td>0</td>\n",
       "      <td>113943.491460</td>\n",
       "      <td>покупка недвижимости</td>\n",
       "    </tr>\n",
       "    <tr>\n",
       "      <th>11</th>\n",
       "      <td>0</td>\n",
       "      <td>-792.701887</td>\n",
       "      <td>40</td>\n",
       "      <td>среднее</td>\n",
       "      <td>1</td>\n",
       "      <td>женат / замужем</td>\n",
       "      <td>0</td>\n",
       "      <td>F</td>\n",
       "      <td>сотрудник</td>\n",
       "      <td>0</td>\n",
       "      <td>77069.234271</td>\n",
       "      <td>покупка коммерческой недвижимости</td>\n",
       "    </tr>\n",
       "    <tr>\n",
       "      <th>12</th>\n",
       "      <td>0</td>\n",
       "      <td>NaN</td>\n",
       "      <td>65</td>\n",
       "      <td>среднее</td>\n",
       "      <td>1</td>\n",
       "      <td>гражданский брак</td>\n",
       "      <td>1</td>\n",
       "      <td>M</td>\n",
       "      <td>пенсионер</td>\n",
       "      <td>0</td>\n",
       "      <td>NaN</td>\n",
       "      <td>сыграть свадьбу</td>\n",
       "    </tr>\n",
       "    <tr>\n",
       "      <th>13</th>\n",
       "      <td>0</td>\n",
       "      <td>-1846.641941</td>\n",
       "      <td>54</td>\n",
       "      <td>неоконченное высшее</td>\n",
       "      <td>2</td>\n",
       "      <td>женат / замужем</td>\n",
       "      <td>0</td>\n",
       "      <td>F</td>\n",
       "      <td>сотрудник</td>\n",
       "      <td>0</td>\n",
       "      <td>130458.228857</td>\n",
       "      <td>приобретение автомобиля</td>\n",
       "    </tr>\n",
       "    <tr>\n",
       "      <th>14</th>\n",
       "      <td>0</td>\n",
       "      <td>-1844.956182</td>\n",
       "      <td>56</td>\n",
       "      <td>высшее</td>\n",
       "      <td>0</td>\n",
       "      <td>гражданский брак</td>\n",
       "      <td>1</td>\n",
       "      <td>F</td>\n",
       "      <td>компаньон</td>\n",
       "      <td>1</td>\n",
       "      <td>165127.911772</td>\n",
       "      <td>покупка жилой недвижимости</td>\n",
       "    </tr>\n",
       "    <tr>\n",
       "      <th>15</th>\n",
       "      <td>1</td>\n",
       "      <td>-972.364419</td>\n",
       "      <td>26</td>\n",
       "      <td>среднее</td>\n",
       "      <td>1</td>\n",
       "      <td>женат / замужем</td>\n",
       "      <td>0</td>\n",
       "      <td>F</td>\n",
       "      <td>сотрудник</td>\n",
       "      <td>0</td>\n",
       "      <td>116820.904450</td>\n",
       "      <td>строительство собственной недвижимости</td>\n",
       "    </tr>\n",
       "    <tr>\n",
       "      <th>16</th>\n",
       "      <td>0</td>\n",
       "      <td>-1719.934226</td>\n",
       "      <td>35</td>\n",
       "      <td>среднее</td>\n",
       "      <td>1</td>\n",
       "      <td>женат / замужем</td>\n",
       "      <td>0</td>\n",
       "      <td>F</td>\n",
       "      <td>сотрудник</td>\n",
       "      <td>0</td>\n",
       "      <td>289202.704229</td>\n",
       "      <td>недвижимость</td>\n",
       "    </tr>\n",
       "    <tr>\n",
       "      <th>17</th>\n",
       "      <td>0</td>\n",
       "      <td>-2369.999720</td>\n",
       "      <td>33</td>\n",
       "      <td>высшее</td>\n",
       "      <td>0</td>\n",
       "      <td>гражданский брак</td>\n",
       "      <td>1</td>\n",
       "      <td>M</td>\n",
       "      <td>сотрудник</td>\n",
       "      <td>0</td>\n",
       "      <td>90410.586745</td>\n",
       "      <td>строительство недвижимости</td>\n",
       "    </tr>\n",
       "    <tr>\n",
       "      <th>18</th>\n",
       "      <td>0</td>\n",
       "      <td>400281.136913</td>\n",
       "      <td>53</td>\n",
       "      <td>среднее</td>\n",
       "      <td>1</td>\n",
       "      <td>вдовец / вдова</td>\n",
       "      <td>2</td>\n",
       "      <td>F</td>\n",
       "      <td>пенсионер</td>\n",
       "      <td>0</td>\n",
       "      <td>56823.777243</td>\n",
       "      <td>на покупку подержанного автомобиля</td>\n",
       "    </tr>\n",
       "    <tr>\n",
       "      <th>19</th>\n",
       "      <td>0</td>\n",
       "      <td>-10038.818549</td>\n",
       "      <td>48</td>\n",
       "      <td>СРЕДНЕЕ</td>\n",
       "      <td>1</td>\n",
       "      <td>в разводе</td>\n",
       "      <td>3</td>\n",
       "      <td>F</td>\n",
       "      <td>сотрудник</td>\n",
       "      <td>0</td>\n",
       "      <td>242831.107982</td>\n",
       "      <td>на покупку своего автомобиля</td>\n",
       "    </tr>\n",
       "  </tbody>\n",
       "</table>\n",
       "</div>"
      ],
      "text/plain": [
       "    children  days_employed  dob_years            education  education_id  \\\n",
       "0          1   -8437.673028         42               высшее             0   \n",
       "1          1   -4024.803754         36              среднее             1   \n",
       "2          0   -5623.422610         33              Среднее             1   \n",
       "3          3   -4124.747207         32              среднее             1   \n",
       "4          0  340266.072047         53              среднее             1   \n",
       "5          0    -926.185831         27               высшее             0   \n",
       "6          0   -2879.202052         43               высшее             0   \n",
       "7          0    -152.779569         50              СРЕДНЕЕ             1   \n",
       "8          2   -6929.865299         35               ВЫСШЕЕ             0   \n",
       "9          0   -2188.756445         41              среднее             1   \n",
       "10         2   -4171.483647         36               высшее             0   \n",
       "11         0    -792.701887         40              среднее             1   \n",
       "12         0            NaN         65              среднее             1   \n",
       "13         0   -1846.641941         54  неоконченное высшее             2   \n",
       "14         0   -1844.956182         56               высшее             0   \n",
       "15         1    -972.364419         26              среднее             1   \n",
       "16         0   -1719.934226         35              среднее             1   \n",
       "17         0   -2369.999720         33               высшее             0   \n",
       "18         0  400281.136913         53              среднее             1   \n",
       "19         0  -10038.818549         48              СРЕДНЕЕ             1   \n",
       "\n",
       "       family_status  family_status_id gender income_type  debt  \\\n",
       "0    женат / замужем                 0      F   сотрудник     0   \n",
       "1    женат / замужем                 0      F   сотрудник     0   \n",
       "2    женат / замужем                 0      M   сотрудник     0   \n",
       "3    женат / замужем                 0      M   сотрудник     0   \n",
       "4   гражданский брак                 1      F   пенсионер     0   \n",
       "5   гражданский брак                 1      M   компаньон     0   \n",
       "6    женат / замужем                 0      F   компаньон     0   \n",
       "7    женат / замужем                 0      M   сотрудник     0   \n",
       "8   гражданский брак                 1      F   сотрудник     0   \n",
       "9    женат / замужем                 0      M   сотрудник     0   \n",
       "10   женат / замужем                 0      M   компаньон     0   \n",
       "11   женат / замужем                 0      F   сотрудник     0   \n",
       "12  гражданский брак                 1      M   пенсионер     0   \n",
       "13   женат / замужем                 0      F   сотрудник     0   \n",
       "14  гражданский брак                 1      F   компаньон     1   \n",
       "15   женат / замужем                 0      F   сотрудник     0   \n",
       "16   женат / замужем                 0      F   сотрудник     0   \n",
       "17  гражданский брак                 1      M   сотрудник     0   \n",
       "18    вдовец / вдова                 2      F   пенсионер     0   \n",
       "19         в разводе                 3      F   сотрудник     0   \n",
       "\n",
       "     total_income                                 purpose  \n",
       "0   253875.639453                           покупка жилья  \n",
       "1   112080.014102                 приобретение автомобиля  \n",
       "2   145885.952297                           покупка жилья  \n",
       "3   267628.550329              дополнительное образование  \n",
       "4   158616.077870                         сыграть свадьбу  \n",
       "5   255763.565419                           покупка жилья  \n",
       "6   240525.971920                       операции с жильем  \n",
       "7   135823.934197                             образование  \n",
       "8    95856.832424                   на проведение свадьбы  \n",
       "9   144425.938277                 покупка жилья для семьи  \n",
       "10  113943.491460                    покупка недвижимости  \n",
       "11   77069.234271       покупка коммерческой недвижимости  \n",
       "12            NaN                         сыграть свадьбу  \n",
       "13  130458.228857                 приобретение автомобиля  \n",
       "14  165127.911772              покупка жилой недвижимости  \n",
       "15  116820.904450  строительство собственной недвижимости  \n",
       "16  289202.704229                            недвижимость  \n",
       "17   90410.586745              строительство недвижимости  \n",
       "18   56823.777243      на покупку подержанного автомобиля  \n",
       "19  242831.107982            на покупку своего автомобиля  "
      ]
     },
     "execution_count": 3,
     "metadata": {},
     "output_type": "execute_result"
    }
   ],
   "source": [
    "data.head(20)"
   ]
  },
  {
   "cell_type": "markdown",
   "id": "1c12e233",
   "metadata": {
    "deletable": false,
    "id": "1c12e233"
   },
   "source": [
    "**Задание 3. Выведите основную информацию о датафрейме с помощью метода `info()`.**"
   ]
  },
  {
   "cell_type": "code",
   "execution_count": 4,
   "id": "2b757bca",
   "metadata": {
    "deletable": false,
    "id": "2b757bca",
    "outputId": "15376089-8dad-46c9-b520-c05248d43158"
   },
   "outputs": [
    {
     "name": "stdout",
     "output_type": "stream",
     "text": [
      "<class 'pandas.core.frame.DataFrame'>\n",
      "RangeIndex: 21525 entries, 0 to 21524\n",
      "Data columns (total 12 columns):\n",
      " #   Column            Non-Null Count  Dtype  \n",
      "---  ------            --------------  -----  \n",
      " 0   children          21525 non-null  int64  \n",
      " 1   days_employed     19351 non-null  float64\n",
      " 2   dob_years         21525 non-null  int64  \n",
      " 3   education         21525 non-null  object \n",
      " 4   education_id      21525 non-null  int64  \n",
      " 5   family_status     21525 non-null  object \n",
      " 6   family_status_id  21525 non-null  int64  \n",
      " 7   gender            21525 non-null  object \n",
      " 8   income_type       21525 non-null  object \n",
      " 9   debt              21525 non-null  int64  \n",
      " 10  total_income      19351 non-null  float64\n",
      " 11  purpose           21525 non-null  object \n",
      "dtypes: float64(2), int64(5), object(5)\n",
      "memory usage: 2.0+ MB\n"
     ]
    }
   ],
   "source": [
    "data.info()"
   ]
  },
  {
   "cell_type": "markdown",
   "id": "333ec665",
   "metadata": {
    "deletable": false,
    "id": "333ec665"
   },
   "source": [
    "## Предобработка данных"
   ]
  },
  {
   "cell_type": "markdown",
   "id": "02d92d53",
   "metadata": {
    "deletable": false,
    "id": "02d92d53"
   },
   "source": [
    "### Удаление пропусков"
   ]
  },
  {
   "cell_type": "markdown",
   "id": "cd84967c",
   "metadata": {
    "deletable": false,
    "id": "cd84967c"
   },
   "source": [
    "**Задание 4. Выведите количество пропущенных значений для каждого столбца. Используйте комбинацию двух методов.**"
   ]
  },
  {
   "cell_type": "code",
   "execution_count": 5,
   "id": "7f9b2309",
   "metadata": {
    "deletable": false,
    "id": "7f9b2309",
    "outputId": "81f4d817-781c-465c-ed15-91ce4446810d"
   },
   "outputs": [
    {
     "data": {
      "text/plain": [
       "children               0\n",
       "days_employed       2174\n",
       "dob_years              0\n",
       "education              0\n",
       "education_id           0\n",
       "family_status          0\n",
       "family_status_id       0\n",
       "gender                 0\n",
       "income_type            0\n",
       "debt                   0\n",
       "total_income        2174\n",
       "purpose                0\n",
       "dtype: int64"
      ]
     },
     "execution_count": 5,
     "metadata": {},
     "output_type": "execute_result"
    }
   ],
   "source": [
    "data.isna().sum()"
   ]
  },
  {
   "cell_type": "markdown",
   "id": "db86e27b",
   "metadata": {
    "deletable": false,
    "id": "db86e27b"
   },
   "source": [
    "**Задание 5. В двух столбцах есть пропущенные значения. Один из них — `days_employed`. Пропуски в этом столбце вы обработаете на следующем этапе. Другой столбец с пропущенными значениями — `total_income` — хранит данные о доходах. На сумму дохода сильнее всего влияет тип занятости, поэтому заполнить пропуски в этом столбце нужно медианным значением по каждому типу из столбца `income_type`. Например, у человека с типом занятости `сотрудник` пропуск в столбце `total_income` должен быть заполнен медианным доходом среди всех записей с тем же типом.**"
   ]
  },
  {
   "cell_type": "code",
   "execution_count": 6,
   "id": "42006a93",
   "metadata": {
    "deletable": false,
    "id": "42006a93"
   },
   "outputs": [],
   "source": [
    "for t in data['income_type'].unique():\n",
    "    data.loc[(data['income_type'] == t) & (data['total_income'].isna()), 'total_income'] = \\\n",
    "    data.loc[(data['income_type'] == t), 'total_income'].median()"
   ]
  },
  {
   "cell_type": "markdown",
   "id": "89da5ece",
   "metadata": {
    "deletable": false,
    "id": "89da5ece"
   },
   "source": [
    "### Обработка аномальных значений"
   ]
  },
  {
   "cell_type": "markdown",
   "id": "57964554",
   "metadata": {
    "deletable": false,
    "id": "57964554"
   },
   "source": [
    "**Задание 6. В данных могут встречаться артефакты (аномалии) — значения, которые не отражают действительность и появились по какой-то ошибке. таким артефактом будет отрицательное количество дней трудового стажа в столбце `days_employed`. Для реальных данных это нормально. Обработайте значения в этом столбце: замените все отрицательные значения положительными с помощью метода `abs()`.**"
   ]
  },
  {
   "cell_type": "code",
   "execution_count": 7,
   "id": "f6f055bf",
   "metadata": {
    "deletable": false,
    "id": "f6f055bf"
   },
   "outputs": [],
   "source": [
    "data['days_employed'] = data['days_employed'].abs()"
   ]
  },
  {
   "cell_type": "markdown",
   "id": "6107dd2f",
   "metadata": {
    "deletable": false,
    "id": "6107dd2f"
   },
   "source": [
    "**Задание 7. Для каждого типа занятости выведите медианное значение трудового стажа `days_employed` в днях.**"
   ]
  },
  {
   "cell_type": "code",
   "execution_count": 8,
   "id": "85a5faf6",
   "metadata": {
    "deletable": false,
    "id": "85a5faf6",
    "outputId": "801ef80e-522b-4668-f34e-565af7432bcf"
   },
   "outputs": [
    {
     "data": {
      "text/plain": [
       "income_type\n",
       "безработный        366413.652744\n",
       "в декрете            3296.759962\n",
       "госслужащий          2689.368353\n",
       "компаньон            1547.382223\n",
       "пенсионер          365213.306266\n",
       "предприниматель       520.848083\n",
       "сотрудник            1574.202821\n",
       "студент               578.751554\n",
       "Name: days_employed, dtype: float64"
      ]
     },
     "execution_count": 8,
     "metadata": {},
     "output_type": "execute_result"
    }
   ],
   "source": [
    "data.groupby('income_type')['days_employed'].agg('median')"
   ]
  },
  {
   "cell_type": "markdown",
   "id": "38d1a030",
   "metadata": {
    "deletable": false,
    "id": "38d1a030"
   },
   "source": [
    "У двух типов (безработные и пенсионеры) получатся аномально большие значения. Исправить такие значения сложно, поэтому оставьте их как есть. Тем более этот столбец не понадобится вам для исследования."
   ]
  },
  {
   "cell_type": "markdown",
   "id": "d8a9f147",
   "metadata": {
    "deletable": false,
    "id": "d8a9f147"
   },
   "source": [
    "**Задание 8. Выведите перечень уникальных значений столбца `children`.**"
   ]
  },
  {
   "cell_type": "code",
   "execution_count": 9,
   "id": "ef5056eb",
   "metadata": {
    "deletable": false,
    "id": "ef5056eb",
    "outputId": "6975b15c-7f95-4697-d16d-a0c79b657b03"
   },
   "outputs": [
    {
     "data": {
      "text/plain": [
       "array([ 1,  0,  3,  2, -1,  4, 20,  5])"
      ]
     },
     "execution_count": 9,
     "metadata": {},
     "output_type": "execute_result"
    }
   ],
   "source": [
    "data['children'].unique()"
   ]
  },
  {
   "cell_type": "markdown",
   "id": "40b9ebf2",
   "metadata": {
    "deletable": false,
    "id": "40b9ebf2"
   },
   "source": [
    "**Задание 9. В столбце `children` есть два аномальных значения. Удалите строки, в которых встречаются такие аномальные значения из датафрейма `data`.**"
   ]
  },
  {
   "cell_type": "code",
   "execution_count": 10,
   "id": "3ff9801d",
   "metadata": {
    "deletable": false,
    "id": "3ff9801d"
   },
   "outputs": [],
   "source": [
    "data = data[(data['children'] != -1) & (data['children'] != 20)]"
   ]
  },
  {
   "cell_type": "markdown",
   "id": "bbc4d0ce",
   "metadata": {
    "deletable": false,
    "id": "bbc4d0ce"
   },
   "source": [
    "**Задание 10. Ещё раз выведите перечень уникальных значений столбца `children`, чтобы убедиться, что артефакты удалены.**"
   ]
  },
  {
   "cell_type": "code",
   "execution_count": 11,
   "id": "ad4fa8b7",
   "metadata": {
    "deletable": false,
    "id": "ad4fa8b7",
    "outputId": "b2097101-d49d-44d9-901b-32a65c9463d1"
   },
   "outputs": [
    {
     "data": {
      "text/plain": [
       "array([1, 0, 3, 2, 4, 5])"
      ]
     },
     "execution_count": 11,
     "metadata": {},
     "output_type": "execute_result"
    }
   ],
   "source": [
    "data['children'].unique()"
   ]
  },
  {
   "cell_type": "markdown",
   "id": "75440b63",
   "metadata": {
    "deletable": false,
    "id": "75440b63"
   },
   "source": [
    "### Удаление пропусков (продолжение)"
   ]
  },
  {
   "cell_type": "markdown",
   "id": "f4ea573f",
   "metadata": {
    "deletable": false,
    "id": "f4ea573f"
   },
   "source": [
    "**Задание 11. Заполните пропуски в столбце `days_employed` медианными значениями по каждого типа занятости `income_type`.**"
   ]
  },
  {
   "cell_type": "code",
   "execution_count": 12,
   "id": "af6b1a7e",
   "metadata": {
    "deletable": false,
    "id": "af6b1a7e"
   },
   "outputs": [],
   "source": [
    "for t in data['income_type'].unique():\n",
    "    data.loc[(data['income_type'] == t) & (data['days_employed'].isna()), 'days_employed'] = \\\n",
    "    data.loc[(data['income_type'] == t), 'days_employed'].median()"
   ]
  },
  {
   "cell_type": "markdown",
   "id": "2753f40d",
   "metadata": {
    "deletable": false,
    "id": "2753f40d"
   },
   "source": [
    "**Задание 12. Убедитесь, что все пропуски заполнены. Проверьте себя и ещё раз выведите количество пропущенных значений для каждого столбца с помощью двух методов.**"
   ]
  },
  {
   "cell_type": "code",
   "execution_count": 13,
   "id": "55f78bc2",
   "metadata": {
    "deletable": false,
    "id": "55f78bc2",
    "outputId": "8da1e4e1-358e-4e87-98c9-f261bce0a7b2"
   },
   "outputs": [
    {
     "data": {
      "text/plain": [
       "children            0\n",
       "days_employed       0\n",
       "dob_years           0\n",
       "education           0\n",
       "education_id        0\n",
       "family_status       0\n",
       "family_status_id    0\n",
       "gender              0\n",
       "income_type         0\n",
       "debt                0\n",
       "total_income        0\n",
       "purpose             0\n",
       "dtype: int64"
      ]
     },
     "execution_count": 13,
     "metadata": {},
     "output_type": "execute_result"
    }
   ],
   "source": [
    "data.isna().sum()"
   ]
  },
  {
   "cell_type": "markdown",
   "id": "ddc81e43",
   "metadata": {
    "deletable": false,
    "id": "ddc81e43"
   },
   "source": [
    "### Изменение типов данных"
   ]
  },
  {
   "cell_type": "markdown",
   "id": "42d19d24",
   "metadata": {
    "deletable": false,
    "id": "42d19d24"
   },
   "source": [
    "**Задание 13. Замените вещественный тип данных в столбце `total_income` на целочисленный с помощью метода `astype()`.**"
   ]
  },
  {
   "cell_type": "code",
   "execution_count": 14,
   "id": "920b65ad",
   "metadata": {
    "deletable": false,
    "id": "920b65ad"
   },
   "outputs": [],
   "source": [
    "data['total_income'] = data['total_income'].astype(int)"
   ]
  },
  {
   "cell_type": "markdown",
   "id": "80c420ba",
   "metadata": {
    "deletable": false,
    "id": "80c420ba"
   },
   "source": [
    "### Обработка дубликатов"
   ]
  },
  {
   "cell_type": "markdown",
   "id": "dc587695",
   "metadata": {
    "deletable": false,
    "id": "dc587695"
   },
   "source": [
    "**Задание 14. Выведите на экран количество строк-дубликатов в данных. Если такие строки присутствуют, удалите их.**"
   ]
  },
  {
   "cell_type": "code",
   "execution_count": 15,
   "id": "3ee445e4",
   "metadata": {
    "deletable": false,
    "id": "3ee445e4",
    "outputId": "9684deba-1934-42d1-99e1-cda61740f822"
   },
   "outputs": [
    {
     "data": {
      "text/plain": [
       "54"
      ]
     },
     "execution_count": 15,
     "metadata": {},
     "output_type": "execute_result"
    }
   ],
   "source": [
    "data.duplicated().sum()"
   ]
  },
  {
   "cell_type": "code",
   "execution_count": 16,
   "id": "8575fe05",
   "metadata": {
    "deletable": false,
    "id": "8575fe05"
   },
   "outputs": [],
   "source": [
    "data = data.drop_duplicates()"
   ]
  },
  {
   "cell_type": "markdown",
   "id": "9771a76c",
   "metadata": {
    "deletable": false,
    "id": "9771a76c"
   },
   "source": [
    "**Задание 15. Обработайте неявные дубликаты в столбце `education`. В этом столбце есть одни и те же значения, но записанные по-разному: с использованием заглавных и строчных букв. Приведите их к нижнему регистру. Проверьте остальные столбцы.**"
   ]
  },
  {
   "cell_type": "code",
   "execution_count": 17,
   "id": "a9f8e2bf",
   "metadata": {
    "deletable": false,
    "id": "a9f8e2bf"
   },
   "outputs": [],
   "source": [
    "data['education'] = data['education'].str.lower()"
   ]
  },
  {
   "cell_type": "markdown",
   "id": "9904cf55",
   "metadata": {
    "deletable": false,
    "id": "9904cf55"
   },
   "source": [
    "### Категоризация данных"
   ]
  },
  {
   "cell_type": "markdown",
   "id": "72fcc8a2",
   "metadata": {
    "deletable": false,
    "id": "72fcc8a2"
   },
   "source": [
    "**Задание 16. На основании диапазонов, указанных ниже, создайте в датафрейме `data` столбец `total_income_category` с категориями:**\n",
    "\n",
    "- 0–30000 — `'E'`;\n",
    "- 30001–50000 — `'D'`;\n",
    "- 50001–200000 — `'C'`;\n",
    "- 200001–1000000 — `'B'`;\n",
    "- 1000001 и выше — `'A'`.\n",
    "\n",
    "\n",
    "**Например, кредитополучателю с доходом 25000 нужно назначить категорию `'E'`, а клиенту, получающему 235000, — `'B'`. Используйте собственную функцию с именем `categorize_income()` и метод `apply()`.**"
   ]
  },
  {
   "cell_type": "code",
   "execution_count": 18,
   "id": "e1771346",
   "metadata": {
    "deletable": false,
    "id": "e1771346"
   },
   "outputs": [],
   "source": [
    "def categorize_income(income):\n",
    "    try:\n",
    "        if 0 <= income <= 30000:\n",
    "            return 'E'\n",
    "        elif 30001 <= income <= 50000:\n",
    "            return 'D'\n",
    "        elif 50001 <= income <= 200000:\n",
    "            return 'C'\n",
    "        elif 200001 <= income <= 1000000:\n",
    "            return 'B'\n",
    "        elif income >= 1000001:\n",
    "            return 'A'\n",
    "    except:\n",
    "        pass"
   ]
  },
  {
   "cell_type": "code",
   "execution_count": 19,
   "id": "d5f3586d",
   "metadata": {
    "deletable": false,
    "id": "d5f3586d"
   },
   "outputs": [],
   "source": [
    "data['total_income_category'] = data['total_income'].apply(categorize_income)"
   ]
  },
  {
   "cell_type": "markdown",
   "id": "dde49b5c",
   "metadata": {
    "deletable": false,
    "id": "dde49b5c"
   },
   "source": [
    "**Задание 17. Выведите на экран перечень уникальных целей взятия кредита из столбца `purpose`.**"
   ]
  },
  {
   "cell_type": "code",
   "execution_count": 20,
   "id": "f67ce9b3",
   "metadata": {
    "deletable": false,
    "id": "f67ce9b3",
    "outputId": "673c12d9-7d7e-4ae0-9812-c622c89dd244"
   },
   "outputs": [
    {
     "data": {
      "text/plain": [
       "array(['покупка жилья', 'приобретение автомобиля',\n",
       "       'дополнительное образование', 'сыграть свадьбу',\n",
       "       'операции с жильем', 'образование', 'на проведение свадьбы',\n",
       "       'покупка жилья для семьи', 'покупка недвижимости',\n",
       "       'покупка коммерческой недвижимости', 'покупка жилой недвижимости',\n",
       "       'строительство собственной недвижимости', 'недвижимость',\n",
       "       'строительство недвижимости', 'на покупку подержанного автомобиля',\n",
       "       'на покупку своего автомобиля',\n",
       "       'операции с коммерческой недвижимостью',\n",
       "       'строительство жилой недвижимости', 'жилье',\n",
       "       'операции со своей недвижимостью', 'автомобили',\n",
       "       'заняться образованием', 'сделка с подержанным автомобилем',\n",
       "       'получение образования', 'автомобиль', 'свадьба',\n",
       "       'получение дополнительного образования', 'покупка своего жилья',\n",
       "       'операции с недвижимостью', 'получение высшего образования',\n",
       "       'свой автомобиль', 'сделка с автомобилем',\n",
       "       'профильное образование', 'высшее образование',\n",
       "       'покупка жилья для сдачи', 'на покупку автомобиля', 'ремонт жилью',\n",
       "       'заняться высшим образованием'], dtype=object)"
      ]
     },
     "execution_count": 20,
     "metadata": {},
     "output_type": "execute_result"
    }
   ],
   "source": [
    "data['purpose'].unique()"
   ]
  },
  {
   "cell_type": "markdown",
   "id": "85d0aef0",
   "metadata": {
    "deletable": false,
    "id": "85d0aef0"
   },
   "source": [
    "**Задание 18. Создайте функцию, которая на основании данных из столбца `purpose` сформирует новый столбец `purpose_category`, в который войдут следующие категории:**\n",
    "\n",
    "- `'операции с автомобилем'`,\n",
    "- `'операции с недвижимостью'`,\n",
    "- `'проведение свадьбы'`,\n",
    "- `'получение образования'`.\n",
    "\n",
    "**Например, если в столбце `purpose` находится подстрока `'на покупку автомобиля'`, то в столбце `purpose_category` должна появиться строка `'операции с автомобилем'`.**\n",
    "\n",
    "**Используйте собственную функцию с именем `categorize_purpose()` и метод `apply()`. Изучите данные в столбце `purpose` и определите, какие подстроки помогут вам правильно определить категорию.**"
   ]
  },
  {
   "cell_type": "code",
   "execution_count": 21,
   "id": "e149fab4",
   "metadata": {
    "deletable": false,
    "id": "e149fab4"
   },
   "outputs": [],
   "source": [
    "def categorize_purpose(row):\n",
    "    try:\n",
    "        if 'автом' in row:\n",
    "            return 'операции с автомобилем'\n",
    "        elif 'жил' in row or 'недвиж' in row:\n",
    "            return 'операции с недвижимостью'\n",
    "        elif 'свад' in row:\n",
    "            return 'проведение свадьбы'\n",
    "        elif 'образов' in row:\n",
    "            return 'получение образования'\n",
    "    except:\n",
    "        return 'нет категории'"
   ]
  },
  {
   "cell_type": "code",
   "execution_count": 22,
   "id": "bf36e69b",
   "metadata": {
    "deletable": false,
    "id": "bf36e69b"
   },
   "outputs": [],
   "source": [
    "data['purpose_category'] = data['purpose'].apply(categorize_purpose)"
   ]
  },
  {
   "cell_type": "markdown",
   "id": "09b242bf",
   "metadata": {
    "deletable": false,
    "editable": false,
    "id": "09b242bf"
   },
   "source": [
    "## Исследуйте данные и ответьте на вопросы"
   ]
  },
  {
   "cell_type": "markdown",
   "id": "c5d66278",
   "metadata": {
    "deletable": false,
    "editable": false,
    "id": "c5d66278"
   },
   "source": [
    "**Задание 19. Есть ли зависимость между количеством детей и возвратом кредита в срок?**"
   ]
  },
  {
   "cell_type": "code",
   "execution_count": 23,
   "id": "2cacfc4a",
   "metadata": {
    "id": "2cacfc4a"
   },
   "outputs": [
    {
     "data": {
      "text/html": [
       "<div>\n",
       "<style scoped>\n",
       "    .dataframe tbody tr th:only-of-type {\n",
       "        vertical-align: middle;\n",
       "    }\n",
       "\n",
       "    .dataframe tbody tr th {\n",
       "        vertical-align: top;\n",
       "    }\n",
       "\n",
       "    .dataframe thead th {\n",
       "        text-align: right;\n",
       "    }\n",
       "</style>\n",
       "<table border=\"1\" class=\"dataframe\">\n",
       "  <thead>\n",
       "    <tr style=\"text-align: right;\">\n",
       "      <th>debt</th>\n",
       "      <th>0</th>\n",
       "      <th>1</th>\n",
       "      <th>All</th>\n",
       "      <th>debt%</th>\n",
       "    </tr>\n",
       "    <tr>\n",
       "      <th>children</th>\n",
       "      <th></th>\n",
       "      <th></th>\n",
       "      <th></th>\n",
       "      <th></th>\n",
       "    </tr>\n",
       "  </thead>\n",
       "  <tbody>\n",
       "    <tr>\n",
       "      <th>0</th>\n",
       "      <td>13044.0</td>\n",
       "      <td>1063.0</td>\n",
       "      <td>14107</td>\n",
       "      <td>7.535266</td>\n",
       "    </tr>\n",
       "    <tr>\n",
       "      <th>1</th>\n",
       "      <td>4365.0</td>\n",
       "      <td>444.0</td>\n",
       "      <td>4809</td>\n",
       "      <td>9.232689</td>\n",
       "    </tr>\n",
       "    <tr>\n",
       "      <th>2</th>\n",
       "      <td>1858.0</td>\n",
       "      <td>194.0</td>\n",
       "      <td>2052</td>\n",
       "      <td>9.454191</td>\n",
       "    </tr>\n",
       "    <tr>\n",
       "      <th>3</th>\n",
       "      <td>303.0</td>\n",
       "      <td>27.0</td>\n",
       "      <td>330</td>\n",
       "      <td>8.181818</td>\n",
       "    </tr>\n",
       "    <tr>\n",
       "      <th>4</th>\n",
       "      <td>37.0</td>\n",
       "      <td>4.0</td>\n",
       "      <td>41</td>\n",
       "      <td>9.756098</td>\n",
       "    </tr>\n",
       "    <tr>\n",
       "      <th>5</th>\n",
       "      <td>9.0</td>\n",
       "      <td>NaN</td>\n",
       "      <td>9</td>\n",
       "      <td>NaN</td>\n",
       "    </tr>\n",
       "    <tr>\n",
       "      <th>All</th>\n",
       "      <td>19616.0</td>\n",
       "      <td>1732.0</td>\n",
       "      <td>21348</td>\n",
       "      <td>8.113172</td>\n",
       "    </tr>\n",
       "  </tbody>\n",
       "</table>\n",
       "</div>"
      ],
      "text/plain": [
       "debt            0       1    All     debt%\n",
       "children                                  \n",
       "0         13044.0  1063.0  14107  7.535266\n",
       "1          4365.0   444.0   4809  9.232689\n",
       "2          1858.0   194.0   2052  9.454191\n",
       "3           303.0    27.0    330  8.181818\n",
       "4            37.0     4.0     41  9.756098\n",
       "5             9.0     NaN      9       NaN\n",
       "All       19616.0  1732.0  21348  8.113172"
      ]
     },
     "execution_count": 23,
     "metadata": {},
     "output_type": "execute_result"
    }
   ],
   "source": [
    "# сформируем сводную по количеству детей и проценту просрочек по кредитам\n",
    "\n",
    "loan_return_children = pd.pivot_table(data, index = 'children', columns = 'debt', values='gender', aggfunc = 'count', margins = True)\n",
    "loan_return_children['debt%'] = loan_return_children[1] / loan_return_children['All'] * 100\n",
    "loan_return_children\n"
   ]
  },
  {
   "cell_type": "code",
   "execution_count": 24,
   "id": "2bce36c4",
   "metadata": {},
   "outputs": [
    {
     "data": {
      "image/png": "[encoded data removed]",
      "text/plain": [
       "<Figure size 432x288 with 1 Axes>"
      ]
     },
     "metadata": {
      "needs_background": "light"
     },
     "output_type": "display_data"
    }
   ],
   "source": [
    "# визуализируем на графике\n",
    "loan_return_children.plot(title= 'Процент просрочек в зависимости от количества детей' , y = 'debt%', kind='bar', rot=0, stacked=True);"
   ]
  },
  {
   "cell_type": "markdown",
   "id": "3a6b99ec",
   "metadata": {
    "deletable": false,
    "id": "3a6b99ec"
   },
   "source": [
    "**Вывод:** \n",
    "- Заемщики без детей имеют наименьший процент просрочек - `7,5%`\n",
    "- Заемщики с 1 либо 2 детьми в целом демонстрируют повышенный процент просрочек, `9,2%` и `9,5%` соответственно\n",
    "- Заемщики с 3мя детьми выделяются на фоне тех, у кого 1-2 ребенка и демонстрируют меньший процент просрочек `8,2%`\n",
    "- Заемщики с 4ми я 5ю детьми редко встречаются в выборке (37 и 9 случаев соответственно), сделать надежные выводы на имеющейся статистике не представляется возможным\n",
    "\n",
    "Таким образом можно сделать вывод, что зависимость между количеством детей и вероятностью просрочки по кредиту есть, заемщики с детьми имеют в целом более высокий процент просрочек"
   ]
  },
  {
   "cell_type": "markdown",
   "id": "97be82ca",
   "metadata": {
    "deletable": false,
    "editable": false,
    "id": "97be82ca"
   },
   "source": [
    "**Задание 20. Есть ли зависимость между семейным положением и возвратом кредита в срок?**"
   ]
  },
  {
   "cell_type": "code",
   "execution_count": 25,
   "id": "dc3f7ee8",
   "metadata": {
    "id": "dc3f7ee8"
   },
   "outputs": [
    {
     "data": {
      "text/html": [
       "<div>\n",
       "<style scoped>\n",
       "    .dataframe tbody tr th:only-of-type {\n",
       "        vertical-align: middle;\n",
       "    }\n",
       "\n",
       "    .dataframe tbody tr th {\n",
       "        vertical-align: top;\n",
       "    }\n",
       "\n",
       "    .dataframe thead th {\n",
       "        text-align: right;\n",
       "    }\n",
       "</style>\n",
       "<table border=\"1\" class=\"dataframe\">\n",
       "  <thead>\n",
       "    <tr style=\"text-align: right;\">\n",
       "      <th>debt</th>\n",
       "      <th>0</th>\n",
       "      <th>1</th>\n",
       "      <th>debt%</th>\n",
       "    </tr>\n",
       "    <tr>\n",
       "      <th>family_status</th>\n",
       "      <th></th>\n",
       "      <th></th>\n",
       "      <th></th>\n",
       "    </tr>\n",
       "  </thead>\n",
       "  <tbody>\n",
       "    <tr>\n",
       "      <th>Не женат / не замужем</th>\n",
       "      <td>2523</td>\n",
       "      <td>273</td>\n",
       "      <td>9.763948</td>\n",
       "    </tr>\n",
       "    <tr>\n",
       "      <th>гражданский брак</th>\n",
       "      <td>3761</td>\n",
       "      <td>385</td>\n",
       "      <td>9.286059</td>\n",
       "    </tr>\n",
       "    <tr>\n",
       "      <th>женат / замужем</th>\n",
       "      <td>11339</td>\n",
       "      <td>927</td>\n",
       "      <td>7.557476</td>\n",
       "    </tr>\n",
       "    <tr>\n",
       "      <th>в разводе</th>\n",
       "      <td>1105</td>\n",
       "      <td>84</td>\n",
       "      <td>7.064760</td>\n",
       "    </tr>\n",
       "    <tr>\n",
       "      <th>вдовец / вдова</th>\n",
       "      <td>888</td>\n",
       "      <td>63</td>\n",
       "      <td>6.624606</td>\n",
       "    </tr>\n",
       "  </tbody>\n",
       "</table>\n",
       "</div>"
      ],
      "text/plain": [
       "debt                       0    1     debt%\n",
       "family_status                              \n",
       "Не женат / не замужем   2523  273  9.763948\n",
       "гражданский брак        3761  385  9.286059\n",
       "женат / замужем        11339  927  7.557476\n",
       "в разводе               1105   84  7.064760\n",
       "вдовец / вдова           888   63  6.624606"
      ]
     },
     "execution_count": 25,
     "metadata": {},
     "output_type": "execute_result"
    }
   ],
   "source": [
    "# сформируем сводную по семейному положению и проценту просрочек по кредитам\n",
    "\n",
    "loan_return_family_status = pd.pivot_table(data, index = 'family_status', columns = 'debt', values='gender', aggfunc = 'count') \n",
    "loan_return_family_status['debt%'] = \\\n",
    "    loan_return_family_status[1] / (loan_return_family_status[0]+ loan_return_family_status[1]) * 100\n",
    "\n",
    "# сортируем таблицу по убыванию процентов невозврата\n",
    "loan_return_family_status = loan_return_family_status.sort_values('debt%', ascending=False)\n",
    "loan_return_family_status"
   ]
  },
  {
   "cell_type": "code",
   "execution_count": 26,
   "id": "964db373",
   "metadata": {},
   "outputs": [
    {
     "data": {
      "image/png": "[encoded data removed]",
      "text/plain": [
       "<Figure size 432x288 with 1 Axes>"
      ]
     },
     "metadata": {
      "needs_background": "light"
     },
     "output_type": "display_data"
    }
   ],
   "source": [
    "# визуализируем на графике\n",
    "loan_return_family_status.plot(title= 'Процент просрочек в зависимости от семейного положения' , y = 'debt%', kind='bar', rot=45, stacked=True);"
   ]
  },
  {
   "cell_type": "markdown",
   "id": "1cef7837",
   "metadata": {
    "deletable": false,
    "id": "1cef7837"
   },
   "source": [
    "**Вывод:** \n",
    "\n",
    "Просматривается сильная зависимость между семейным положением и процентом просрочек. Наибольший процент просрочек `9,8%` демонстрируют не женатые/не замужние заемщики, тогда как люди в статусе вдовец/вдова допускаю просрочки в `6,6%` случаев\n",
    "\n",
    "Семейное положение - важный параметр, от которого зависит вероятность просрочки в погашении."
   ]
  },
  {
   "cell_type": "markdown",
   "id": "1e8b2fca",
   "metadata": {
    "deletable": false,
    "editable": false,
    "id": "1e8b2fca"
   },
   "source": [
    "**Задание 21. Есть ли зависимость между уровнем дохода и возвратом кредита в срок?**"
   ]
  },
  {
   "cell_type": "code",
   "execution_count": 27,
   "id": "cd7e3720",
   "metadata": {
    "id": "cd7e3720"
   },
   "outputs": [
    {
     "data": {
      "text/html": [
       "<div>\n",
       "<style scoped>\n",
       "    .dataframe tbody tr th:only-of-type {\n",
       "        vertical-align: middle;\n",
       "    }\n",
       "\n",
       "    .dataframe tbody tr th {\n",
       "        vertical-align: top;\n",
       "    }\n",
       "\n",
       "    .dataframe thead th {\n",
       "        text-align: right;\n",
       "    }\n",
       "</style>\n",
       "<table border=\"1\" class=\"dataframe\">\n",
       "  <thead>\n",
       "    <tr style=\"text-align: right;\">\n",
       "      <th>debt</th>\n",
       "      <th>0</th>\n",
       "      <th>1</th>\n",
       "      <th>debt%</th>\n",
       "    </tr>\n",
       "    <tr>\n",
       "      <th>total_income_category</th>\n",
       "      <th></th>\n",
       "      <th></th>\n",
       "      <th></th>\n",
       "    </tr>\n",
       "  </thead>\n",
       "  <tbody>\n",
       "    <tr>\n",
       "      <th>A</th>\n",
       "      <td>23</td>\n",
       "      <td>2</td>\n",
       "      <td>8.000000</td>\n",
       "    </tr>\n",
       "    <tr>\n",
       "      <th>B</th>\n",
       "      <td>4660</td>\n",
       "      <td>354</td>\n",
       "      <td>7.060231</td>\n",
       "    </tr>\n",
       "    <tr>\n",
       "      <th>C</th>\n",
       "      <td>14585</td>\n",
       "      <td>1353</td>\n",
       "      <td>8.489145</td>\n",
       "    </tr>\n",
       "    <tr>\n",
       "      <th>D</th>\n",
       "      <td>328</td>\n",
       "      <td>21</td>\n",
       "      <td>6.017192</td>\n",
       "    </tr>\n",
       "    <tr>\n",
       "      <th>E</th>\n",
       "      <td>20</td>\n",
       "      <td>2</td>\n",
       "      <td>9.090909</td>\n",
       "    </tr>\n",
       "  </tbody>\n",
       "</table>\n",
       "</div>"
      ],
      "text/plain": [
       "debt                       0     1     debt%\n",
       "total_income_category                       \n",
       "A                         23     2  8.000000\n",
       "B                       4660   354  7.060231\n",
       "C                      14585  1353  8.489145\n",
       "D                        328    21  6.017192\n",
       "E                         20     2  9.090909"
      ]
     },
     "execution_count": 27,
     "metadata": {},
     "output_type": "execute_result"
    }
   ],
   "source": [
    "# сформируем сводную по уровню  и проценту просрочек по кредитам\n",
    "\n",
    "loan_return_total_income_category = pd.pivot_table(data, index = 'total_income_category', columns = 'debt', values='gender', aggfunc = 'count') \n",
    "loan_return_total_income_category['debt%'] = \\\n",
    "    loan_return_total_income_category[1] / (loan_return_total_income_category[0]+ loan_return_total_income_category[1]) * 100\n",
    "\n",
    "loan_return_total_income_category"
   ]
  },
  {
   "cell_type": "code",
   "execution_count": 28,
   "id": "609a4a9a",
   "metadata": {},
   "outputs": [
    {
     "data": {
      "image/png": "[encoded data removed]",
      "text/plain": [
       "<Figure size 432x288 with 1 Axes>"
      ]
     },
     "metadata": {
      "needs_background": "light"
     },
     "output_type": "display_data"
    }
   ],
   "source": [
    "# визуализируем на графике\n",
    "loan_return_total_income_category.plot(title= 'Процент просрочек в зависимости от дохода' , y = 'debt%', kind='bar', rot=45, stacked=True);"
   ]
  },
  {
   "cell_type": "markdown",
   "id": "e8593def",
   "metadata": {
    "deletable": false,
    "id": "e8593def"
   },
   "source": [
    "**Вывод:** \n",
    "- Заемщики с минимальной (0–30000 — 'E') и максимальной (1000001 и выше — 'A') категорией дохода встречаются в выборке редко, потому сделать по ним однозначный вывод на основании имеющихся данных не представляется возможным\n",
    "- Заемщики средней категории (50001–200000 — 'C') дохода чаще всего допускают просрочки, в `8,5%` случаев\n",
    "- Заемщики с категориями дохода 'В' (200001–1000000) и 'D' (30001–50000) в целом лучше выполнют обызательства и допускают просрочки в `7,1%` и `6%` соответственно\n",
    "\n",
    "Зависимость между уровнем дохода и возвратом кредита в срок заметна, особенно плохо возвращают кредиты заемщики в средней категории дохода 'C'. Заемщики категории 'D' являются самыми надежными"
   ]
  },
  {
   "cell_type": "markdown",
   "id": "99ecbd1f",
   "metadata": {
    "deletable": false,
    "editable": false,
    "id": "99ecbd1f"
   },
   "source": [
    "**Задание 22. Как разные цели кредита влияют на его возврат в срок?**"
   ]
  },
  {
   "cell_type": "code",
   "execution_count": 29,
   "id": "2b687290",
   "metadata": {
    "id": "2b687290"
   },
   "outputs": [
    {
     "data": {
      "text/html": [
       "<div>\n",
       "<style scoped>\n",
       "    .dataframe tbody tr th:only-of-type {\n",
       "        vertical-align: middle;\n",
       "    }\n",
       "\n",
       "    .dataframe tbody tr th {\n",
       "        vertical-align: top;\n",
       "    }\n",
       "\n",
       "    .dataframe thead th {\n",
       "        text-align: right;\n",
       "    }\n",
       "</style>\n",
       "<table border=\"1\" class=\"dataframe\">\n",
       "  <thead>\n",
       "    <tr style=\"text-align: right;\">\n",
       "      <th>debt</th>\n",
       "      <th>0</th>\n",
       "      <th>1</th>\n",
       "      <th>debt%</th>\n",
       "    </tr>\n",
       "    <tr>\n",
       "      <th>purpose_category</th>\n",
       "      <th></th>\n",
       "      <th></th>\n",
       "      <th></th>\n",
       "    </tr>\n",
       "  </thead>\n",
       "  <tbody>\n",
       "    <tr>\n",
       "      <th>операции с автомобилем</th>\n",
       "      <td>3881</td>\n",
       "      <td>400</td>\n",
       "      <td>9.343611</td>\n",
       "    </tr>\n",
       "    <tr>\n",
       "      <th>получение образования</th>\n",
       "      <td>3620</td>\n",
       "      <td>369</td>\n",
       "      <td>9.250439</td>\n",
       "    </tr>\n",
       "    <tr>\n",
       "      <th>проведение свадьбы</th>\n",
       "      <td>2141</td>\n",
       "      <td>183</td>\n",
       "      <td>7.874355</td>\n",
       "    </tr>\n",
       "    <tr>\n",
       "      <th>операции с недвижимостью</th>\n",
       "      <td>9974</td>\n",
       "      <td>780</td>\n",
       "      <td>7.253115</td>\n",
       "    </tr>\n",
       "  </tbody>\n",
       "</table>\n",
       "</div>"
      ],
      "text/plain": [
       "debt                         0    1     debt%\n",
       "purpose_category                             \n",
       "операции с автомобилем    3881  400  9.343611\n",
       "получение образования     3620  369  9.250439\n",
       "проведение свадьбы        2141  183  7.874355\n",
       "операции с недвижимостью  9974  780  7.253115"
      ]
     },
     "execution_count": 29,
     "metadata": {},
     "output_type": "execute_result"
    }
   ],
   "source": [
    "# сформируем сводную по целям кредита и проценту просрочек по кредитам\n",
    "\n",
    "loan_return_purpose_category = pd.pivot_table(data, index = 'purpose_category', columns = 'debt', values='gender', aggfunc = 'count', margins = False)\n",
    "loan_return_purpose_category['debt%'] = \\\n",
    "    loan_return_purpose_category[1] / (loan_return_purpose_category[0]+ loan_return_purpose_category[1]) * 100\n",
    "\n",
    "# сортируем таблицу по убыванию процентов невозврата\n",
    "loan_return_purpose_category = loan_return_purpose_category.sort_values('debt%', ascending=False)\n",
    "loan_return_purpose_category"
   ]
  },
  {
   "cell_type": "code",
   "execution_count": 30,
   "id": "342fd2ee",
   "metadata": {},
   "outputs": [
    {
     "data": {
      "image/png": "[encoded data removed]",
      "text/plain": [
       "<Figure size 432x288 with 1 Axes>"
      ]
     },
     "metadata": {
      "needs_background": "light"
     },
     "output_type": "display_data"
    }
   ],
   "source": [
    "# визуализируем на графике\n",
    "loan_return_purpose_category.plot(title= 'Процент просрочек в зависимости от цели кредита' , y = 'debt%', kind='bar', rot=45, stacked=True);"
   ]
  },
  {
   "cell_type": "markdown",
   "id": "b4bb2ce6",
   "metadata": {
    "deletable": false,
    "id": "b4bb2ce6"
   },
   "source": [
    "**Вывод:** \n",
    "\n",
    "- Наибольший процент просрочек наблюдается по кредитам на операции с автомобилем и получение образования - по `9,3%`\n",
    "- Проведение свадьбы и операции с недвижимостью в целом отличаются меньшим процентом просрочек - `7,9%` и `7,3%` соответственно\n"
   ]
  },
  {
   "cell_type": "markdown",
   "id": "09c3ac4c",
   "metadata": {
    "deletable": false,
    "editable": false,
    "id": "09c3ac4c"
   },
   "source": [
    "**Задание 23. Приведите возможные причины появления пропусков в исходных данных.**"
   ]
  },
  {
   "cell_type": "markdown",
   "id": "9da2ceda",
   "metadata": {
    "deletable": false,
    "id": "9da2ceda"
   },
   "source": [
    "*Ответ:*  \n",
    "- опциональный характер предоставления определенных данных пользователем, многие могут не захотеть внести те или иные данные\n",
    "- всевозможные сбои в системе, например: данные не сохранились, данные не передались, форма ввода забагована и т.д.\n",
    "- одни данные зависят от других, и пропуски могут быть вполне ожидаемыми. например, у человека пропуск в графе с доходами может быть по причине статуса 'безработный'\n",
    "- 'человеческий фактор' при подготовке данных. съехала ячейка в Excel, случайно стерли значения и т.д."
   ]
  },
  {
   "cell_type": "markdown",
   "id": "7b0487d6",
   "metadata": {
    "deletable": false,
    "editable": false,
    "id": "7b0487d6"
   },
   "source": [
    "**Задание 24. Объясните, почему заполнить пропуски медианным значением — лучшее решение для количественных переменных.**"
   ]
  },
  {
   "cell_type": "markdown",
   "id": "7ecf2b8e",
   "metadata": {
    "deletable": false,
    "id": "7ecf2b8e"
   },
   "source": [
    "*Ответ:* \n",
    "\n",
    "В случае заполнения медианными данными мы не меняем медиану для всей выборки. Опять же важно, чтобы количество пропусков не составляло большой процент от всей совокупности, иначе будет переизбыток значений в средней части распределения, что может привести к некорректным выводам."
   ]
  },
  {
   "cell_type": "markdown",
   "id": "6db5255a",
   "metadata": {
    "deletable": false,
    "editable": false,
    "id": "6db5255a"
   },
   "source": [
    "## Общий вывод."
   ]
  },
  {
   "cell_type": "markdown",
   "id": "bad65432",
   "metadata": {
    "id": "bad65432"
   },
   "source": [
    "Подводя итоги, можно выделить следующие зависимости:\n",
    "\n",
    "### Количество детей \n",
    "Заемщики без детей демонстрируют наибольшую надежность и допускают просрочки только в `7,5%` случаев. Заемщики с 1-2 детьми наоборот - наименее надежные, просрочки доходят до `9,5%` случаев. Однако, уже с 3мя детьми ситуация улучшается, процент просрочек снижается до `8,2%`. Проверить устойчивость тенденции для заемщиков с 4 и более детьми не представляется возможным, так как в выборке нет достаточной статистики по таким случаям.\n",
    "\n",
    "<font style=\"background-color:aquamarine\">&nbsp; нет детей &nbsp;</font> < <font style=\"background-color:pink\"> &nbsp; есть дети &nbsp;</font> \n",
    " \n",
    "\n",
    "### Семейное положение\n",
    "Не женатые/не замужние заемщики и заемщики в статусе гражданского брака - наименее надежные, по ним просрочки наблюдаются до `9,8%` случаев. Наличие семьи характеризует заемщика как более надежного, люди со статусом женат/за мужем допускают просрочки в `7,6%` случаев. Заемщики в разводе еще реже допускают просрочки - в `7,1%` случаев. Наиболее надежные - в статусе вдовец/вдова с долей просрочки `6,6%`\n",
    "\n",
    "<font style=\"background-color:aquamarine\">&nbsp; состоят/были в браке &nbsp; </font> < <font style=\"background-color:pink\"> &nbsp; холостые &nbsp;</font> \n",
    "\n",
    "### Величина дохода\n",
    "Зависимость между уровнем дохода и возвратом кредита в срок заметна, особенно плохо возвращают кредиты заемщики в средней категории дохода 'C'(доход 50001–200000), просрочки `8,5%`. Заемщики в группе 'B'(200001–1000000) имеют меньшую статистику просрочек - `7,1%`. Самые надежные - заемщики категории 'D'(30001–50000), у них просрочки на уровне `6%`. \n",
    "По двум категориям дохода - наименьшей 'Е'(0–30000) и наибольшей 'A' (1000001 и выше) закономерность выявить не удалось из-за недостаточного количества случаев в имеющейся выборке.\n",
    "\n",
    "<font style=\"background-color:aquamarine\">&nbsp; ниже среднего 'D' &nbsp;</font> < <font style=\"background-color:pink\">&nbsp; средний 'C' &nbsp;</font> > <font style=\"background-color:aquamarine\">&nbsp; выше среднего 'B'  &nbsp;</font> \n",
    "\n",
    "### Цель кредита\n",
    "Самые рисковые цели для выдачи кредитов - операции с автомобилем либо получение образования - просрочки доходят до `9,3%`. Кредиты на свадьбу в целом выплачиваются исправнее - просрочка есть в `7,9%` случаев. И наибольшая стабильность выплат наблюдается по операциям с недвижимостью - просрочки составляют `7,3%`\n",
    "\n",
    "<font style=\"background-color:aquamarine\">&nbsp; недвижимость/свадьба &nbsp; </font> < <font style=\"background-color:pink\">&nbsp; автомобиль/образование &nbsp;</font> \n",
    "\n",
    " \n",
    "# Вывод #\n",
    "\n",
    "На основании проведенного исследования можно сделать общий вывод, что вероятность наступления просрочки по кредиту зависит от многих факторов - количества детей, дохода, семейного положения и даже целям кредита. \n",
    "\n",
    "Все эти факторы являются необходимыми параметрами в системе кредитного скоринга."
   ]
  }
 ],
 "metadata": {
  "ExecuteTimeLog": [
   {
    "duration": 478,
    "start_time": "2022-07-20T12:19:29.930Z"
   },
   {
    "duration": 22,
    "start_time": "2022-07-20T12:19:31.889Z"
   },
   {
    "duration": 68,
    "start_time": "2022-07-20T12:19:37.824Z"
   },
   {
    "duration": 14,
    "start_time": "2022-07-20T12:19:37.894Z"
   },
   {
    "duration": 20,
    "start_time": "2022-07-20T12:19:37.909Z"
   },
   {
    "duration": 10,
    "start_time": "2022-07-20T12:19:37.930Z"
   },
   {
    "duration": 38,
    "start_time": "2022-07-20T12:19:37.942Z"
   },
   {
    "duration": 3,
    "start_time": "2022-07-20T12:19:37.982Z"
   },
   {
    "duration": 16,
    "start_time": "2022-07-20T12:19:37.986Z"
   },
   {
    "duration": 9,
    "start_time": "2022-07-20T12:19:38.003Z"
   },
   {
    "duration": 12,
    "start_time": "2022-07-20T12:19:38.014Z"
   },
   {
    "duration": 8,
    "start_time": "2022-07-20T12:19:38.028Z"
   },
   {
    "duration": 38,
    "start_time": "2022-07-20T12:19:38.037Z"
   },
   {
    "duration": 9,
    "start_time": "2022-07-20T12:19:38.077Z"
   },
   {
    "duration": 6,
    "start_time": "2022-07-20T12:19:38.088Z"
   },
   {
    "duration": 34,
    "start_time": "2022-07-20T12:19:38.097Z"
   },
   {
    "duration": 16,
    "start_time": "2022-07-20T12:19:38.133Z"
   },
   {
    "duration": 10,
    "start_time": "2022-07-20T12:19:38.151Z"
   },
   {
    "duration": 8,
    "start_time": "2022-07-20T12:19:38.163Z"
   },
   {
    "duration": 15,
    "start_time": "2022-07-20T12:19:38.173Z"
   },
   {
    "duration": 6,
    "start_time": "2022-07-20T12:19:38.189Z"
   },
   {
    "duration": 7,
    "start_time": "2022-07-20T12:19:38.196Z"
   },
   {
    "duration": 28,
    "start_time": "2022-07-20T12:19:38.204Z"
   },
   {
    "duration": 7,
    "start_time": "2022-07-20T12:19:38.234Z"
   },
   {
    "duration": 13,
    "start_time": "2022-07-20T12:19:38.242Z"
   },
   {
    "duration": 6,
    "start_time": "2022-07-20T12:19:38.257Z"
   },
   {
    "duration": 6,
    "start_time": "2022-07-20T12:19:38.264Z"
   },
   {
    "duration": 523,
    "start_time": "2022-07-24T15:38:00.499Z"
   },
   {
    "duration": 19,
    "start_time": "2022-07-24T15:38:01.024Z"
   },
   {
    "duration": 24,
    "start_time": "2022-07-24T15:38:01.044Z"
   },
   {
    "duration": 19,
    "start_time": "2022-07-24T15:38:01.070Z"
   },
   {
    "duration": 52,
    "start_time": "2022-07-24T15:38:01.091Z"
   },
   {
    "duration": 3,
    "start_time": "2022-07-24T15:38:01.145Z"
   },
   {
    "duration": 27,
    "start_time": "2022-07-24T15:38:01.149Z"
   },
   {
    "duration": 9,
    "start_time": "2022-07-24T15:38:01.177Z"
   },
   {
    "duration": 26,
    "start_time": "2022-07-24T15:38:01.187Z"
   },
   {
    "duration": 11,
    "start_time": "2022-07-24T15:38:01.215Z"
   },
   {
    "duration": 40,
    "start_time": "2022-07-24T15:38:01.227Z"
   },
   {
    "duration": 7,
    "start_time": "2022-07-24T15:38:01.269Z"
   },
   {
    "duration": 15,
    "start_time": "2022-07-24T15:38:01.278Z"
   },
   {
    "duration": 29,
    "start_time": "2022-07-24T15:38:01.294Z"
   },
   {
    "duration": 14,
    "start_time": "2022-07-24T15:38:01.325Z"
   },
   {
    "duration": 9,
    "start_time": "2022-07-24T15:38:01.341Z"
   },
   {
    "duration": 9,
    "start_time": "2022-07-24T15:38:01.352Z"
   },
   {
    "duration": 35,
    "start_time": "2022-07-24T15:38:01.362Z"
   },
   {
    "duration": 33,
    "start_time": "2022-07-24T15:38:01.398Z"
   },
   {
    "duration": 19,
    "start_time": "2022-07-24T15:38:01.433Z"
   },
   {
    "duration": 45,
    "start_time": "2022-07-24T15:38:01.453Z"
   },
   {
    "duration": 21,
    "start_time": "2022-07-24T15:38:01.499Z"
   },
   {
    "duration": 17,
    "start_time": "2022-07-24T15:38:01.521Z"
   },
   {
    "duration": 15,
    "start_time": "2022-07-24T15:38:01.539Z"
   },
   {
    "duration": 15,
    "start_time": "2022-07-24T15:38:01.556Z"
   },
   {
    "duration": 61,
    "start_time": "2022-07-24T16:11:46.282Z"
   },
   {
    "duration": 19,
    "start_time": "2022-07-24T16:13:38.726Z"
   },
   {
    "duration": 13,
    "start_time": "2022-07-24T16:13:40.523Z"
   },
   {
    "duration": 43,
    "start_time": "2022-07-24T16:13:57.589Z"
   },
   {
    "duration": 14,
    "start_time": "2022-07-24T16:28:32.556Z"
   },
   {
    "duration": 10,
    "start_time": "2022-07-24T16:29:40.186Z"
   },
   {
    "duration": 13,
    "start_time": "2022-07-24T16:29:53.169Z"
   },
   {
    "duration": 40,
    "start_time": "2022-07-24T16:31:12.514Z"
   },
   {
    "duration": 18,
    "start_time": "2022-07-24T16:31:29.243Z"
   },
   {
    "duration": 7,
    "start_time": "2022-07-24T16:42:15.121Z"
   },
   {
    "duration": 515,
    "start_time": "2022-07-24T16:42:21.369Z"
   },
   {
    "duration": 148,
    "start_time": "2022-07-24T16:45:51.699Z"
   },
   {
    "duration": 130,
    "start_time": "2022-07-24T16:46:00.427Z"
   },
   {
    "duration": 231,
    "start_time": "2022-07-24T16:46:05.831Z"
   },
   {
    "duration": 140,
    "start_time": "2022-07-24T16:46:11.118Z"
   },
   {
    "duration": 909,
    "start_time": "2022-07-24T16:49:24.898Z"
   },
   {
    "duration": 25,
    "start_time": "2022-07-24T16:49:34.870Z"
   },
   {
    "duration": 42,
    "start_time": "2022-07-24T17:25:42.969Z"
   },
   {
    "duration": 37,
    "start_time": "2022-07-24T17:26:32.144Z"
   },
   {
    "duration": 1188,
    "start_time": "2022-07-24T17:30:41.290Z"
   },
   {
    "duration": 1197,
    "start_time": "2022-07-24T17:30:56.754Z"
   },
   {
    "duration": 39,
    "start_time": "2022-07-24T17:31:08.383Z"
   },
   {
    "duration": 1234,
    "start_time": "2022-07-24T17:32:44.370Z"
   },
   {
    "duration": 1133,
    "start_time": "2022-07-24T17:32:57.761Z"
   },
   {
    "duration": 1239,
    "start_time": "2022-07-24T17:33:19.477Z"
   },
   {
    "duration": 48,
    "start_time": "2022-07-24T17:33:54.612Z"
   },
   {
    "duration": 50,
    "start_time": "2022-07-24T17:36:34.960Z"
   },
   {
    "duration": 1172,
    "start_time": "2022-07-24T17:36:41.243Z"
   },
   {
    "duration": 48,
    "start_time": "2022-07-24T17:36:46.474Z"
   },
   {
    "duration": 49,
    "start_time": "2022-07-24T17:37:01.322Z"
   },
   {
    "duration": 50,
    "start_time": "2022-07-24T17:37:14.926Z"
   },
   {
    "duration": 53,
    "start_time": "2022-07-24T17:37:48.027Z"
   },
   {
    "duration": 59,
    "start_time": "2022-07-24T17:38:29.363Z"
   },
   {
    "duration": 37,
    "start_time": "2022-07-24T17:40:20.866Z"
   },
   {
    "duration": 122,
    "start_time": "2022-07-24T17:41:58.625Z"
   },
   {
    "duration": 115,
    "start_time": "2022-07-24T17:42:13.704Z"
   },
   {
    "duration": 166,
    "start_time": "2022-07-24T17:42:48.204Z"
   },
   {
    "duration": 137,
    "start_time": "2022-07-24T17:43:06.988Z"
   },
   {
    "duration": 138,
    "start_time": "2022-07-24T17:43:14.269Z"
   },
   {
    "duration": 131,
    "start_time": "2022-07-24T17:46:04.903Z"
   },
   {
    "duration": 40,
    "start_time": "2022-07-24T18:06:35.113Z"
   },
   {
    "duration": 162,
    "start_time": "2022-07-24T18:07:22.947Z"
   },
   {
    "duration": 170,
    "start_time": "2022-07-24T18:07:28.450Z"
   },
   {
    "duration": 40,
    "start_time": "2022-07-24T18:07:35.370Z"
   },
   {
    "duration": 188,
    "start_time": "2022-07-24T18:07:45.389Z"
   },
   {
    "duration": 74,
    "start_time": "2022-07-24T18:07:53.555Z"
   },
   {
    "duration": 14,
    "start_time": "2022-07-24T18:07:53.631Z"
   },
   {
    "duration": 15,
    "start_time": "2022-07-24T18:07:53.646Z"
   },
   {
    "duration": 10,
    "start_time": "2022-07-24T18:07:53.664Z"
   },
   {
    "duration": 41,
    "start_time": "2022-07-24T18:07:53.676Z"
   },
   {
    "duration": 3,
    "start_time": "2022-07-24T18:07:53.718Z"
   },
   {
    "duration": 29,
    "start_time": "2022-07-24T18:07:53.722Z"
   },
   {
    "duration": 4,
    "start_time": "2022-07-24T18:07:53.753Z"
   },
   {
    "duration": 6,
    "start_time": "2022-07-24T18:07:53.759Z"
   },
   {
    "duration": 5,
    "start_time": "2022-07-24T18:07:53.769Z"
   },
   {
    "duration": 42,
    "start_time": "2022-07-24T18:07:53.775Z"
   },
   {
    "duration": 34,
    "start_time": "2022-07-24T18:07:53.819Z"
   },
   {
    "duration": 5,
    "start_time": "2022-07-24T18:07:53.855Z"
   },
   {
    "duration": 23,
    "start_time": "2022-07-24T18:07:53.862Z"
   },
   {
    "duration": 17,
    "start_time": "2022-07-24T18:07:53.886Z"
   },
   {
    "duration": 10,
    "start_time": "2022-07-24T18:07:53.904Z"
   },
   {
    "duration": 7,
    "start_time": "2022-07-24T18:07:53.916Z"
   },
   {
    "duration": 40,
    "start_time": "2022-07-24T18:07:53.925Z"
   },
   {
    "duration": 11,
    "start_time": "2022-07-24T18:07:53.967Z"
   },
   {
    "duration": 8,
    "start_time": "2022-07-24T18:07:53.980Z"
   },
   {
    "duration": 9,
    "start_time": "2022-07-24T18:07:53.990Z"
   },
   {
    "duration": 49,
    "start_time": "2022-07-24T18:07:54.001Z"
   },
   {
    "duration": 128,
    "start_time": "2022-07-24T18:07:54.052Z"
   },
   {
    "duration": 40,
    "start_time": "2022-07-24T18:07:54.181Z"
   },
   {
    "duration": 3,
    "start_time": "2022-07-24T18:07:54.222Z"
   },
   {
    "duration": 7,
    "start_time": "2022-07-24T18:07:54.226Z"
   },
   {
    "duration": 145,
    "start_time": "2022-07-24T18:08:46.373Z"
   },
   {
    "duration": 132,
    "start_time": "2022-07-24T18:08:52.587Z"
   },
   {
    "duration": 127,
    "start_time": "2022-07-24T18:08:58.632Z"
   },
   {
    "duration": 48,
    "start_time": "2022-07-24T18:13:32.663Z"
   },
   {
    "duration": 40,
    "start_time": "2022-07-24T18:13:45.404Z"
   },
   {
    "duration": 39,
    "start_time": "2022-07-24T18:13:58.638Z"
   },
   {
    "duration": 36,
    "start_time": "2022-07-24T18:14:04.187Z"
   },
   {
    "duration": 40,
    "start_time": "2022-07-24T18:19:13.685Z"
   },
   {
    "duration": 833,
    "start_time": "2022-07-24T18:19:51.602Z"
   },
   {
    "duration": 18,
    "start_time": "2022-07-24T18:20:07.722Z"
   },
   {
    "duration": 149,
    "start_time": "2022-07-24T18:20:20.604Z"
   },
   {
    "duration": 164,
    "start_time": "2022-07-24T18:20:25.876Z"
   },
   {
    "duration": 76,
    "start_time": "2022-07-24T18:20:38.355Z"
   },
   {
    "duration": 19,
    "start_time": "2022-07-24T18:20:46.874Z"
   },
   {
    "duration": 20,
    "start_time": "2022-07-24T18:21:48.074Z"
   },
   {
    "duration": 146,
    "start_time": "2022-07-24T18:21:53.441Z"
   },
   {
    "duration": 19,
    "start_time": "2022-07-24T18:22:03.526Z"
   },
   {
    "duration": 124,
    "start_time": "2022-07-24T18:22:06.445Z"
   },
   {
    "duration": 19,
    "start_time": "2022-07-24T18:22:37.663Z"
   },
   {
    "duration": 140,
    "start_time": "2022-07-24T18:22:39.623Z"
   },
   {
    "duration": 158,
    "start_time": "2022-07-24T18:23:59.648Z"
   },
   {
    "duration": 20,
    "start_time": "2022-07-24T18:32:51.535Z"
   },
   {
    "duration": 18,
    "start_time": "2022-07-24T18:33:04.733Z"
   },
   {
    "duration": 144,
    "start_time": "2022-07-24T18:33:52.145Z"
   },
   {
    "duration": 116,
    "start_time": "2022-07-24T18:33:58.388Z"
   },
   {
    "duration": 127,
    "start_time": "2022-07-24T18:48:38.935Z"
   },
   {
    "duration": 25,
    "start_time": "2022-07-24T18:48:59.318Z"
   },
   {
    "duration": 129,
    "start_time": "2022-07-24T18:49:55.082Z"
   },
   {
    "duration": 71,
    "start_time": "2022-07-24T19:21:24.205Z"
   },
   {
    "duration": 16,
    "start_time": "2022-07-24T19:21:24.278Z"
   },
   {
    "duration": 16,
    "start_time": "2022-07-24T19:21:24.295Z"
   },
   {
    "duration": 9,
    "start_time": "2022-07-24T19:21:24.312Z"
   },
   {
    "duration": 54,
    "start_time": "2022-07-24T19:21:24.324Z"
   },
   {
    "duration": 4,
    "start_time": "2022-07-24T19:21:24.381Z"
   },
   {
    "duration": 11,
    "start_time": "2022-07-24T19:21:24.386Z"
   },
   {
    "duration": 5,
    "start_time": "2022-07-24T19:21:24.399Z"
   },
   {
    "duration": 6,
    "start_time": "2022-07-24T19:21:24.405Z"
   },
   {
    "duration": 5,
    "start_time": "2022-07-24T19:21:24.412Z"
   },
   {
    "duration": 32,
    "start_time": "2022-07-24T19:21:24.453Z"
   },
   {
    "duration": 9,
    "start_time": "2022-07-24T19:21:24.487Z"
   },
   {
    "duration": 3,
    "start_time": "2022-07-24T19:21:24.498Z"
   },
   {
    "duration": 18,
    "start_time": "2022-07-24T19:21:24.503Z"
   },
   {
    "duration": 47,
    "start_time": "2022-07-24T19:21:24.523Z"
   },
   {
    "duration": 11,
    "start_time": "2022-07-24T19:21:24.571Z"
   },
   {
    "duration": 5,
    "start_time": "2022-07-24T19:21:24.584Z"
   },
   {
    "duration": 14,
    "start_time": "2022-07-24T19:21:24.591Z"
   },
   {
    "duration": 8,
    "start_time": "2022-07-24T19:21:24.607Z"
   },
   {
    "duration": 35,
    "start_time": "2022-07-24T19:21:24.617Z"
   },
   {
    "duration": 11,
    "start_time": "2022-07-24T19:21:24.654Z"
   },
   {
    "duration": 47,
    "start_time": "2022-07-24T19:21:24.666Z"
   },
   {
    "duration": 159,
    "start_time": "2022-07-24T19:21:24.715Z"
   },
   {
    "duration": 21,
    "start_time": "2022-07-24T19:21:24.875Z"
   },
   {
    "duration": 170,
    "start_time": "2022-07-24T19:21:24.897Z"
   },
   {
    "duration": 22,
    "start_time": "2022-07-24T19:21:25.069Z"
   },
   {
    "duration": 145,
    "start_time": "2022-07-24T19:21:25.092Z"
   },
   {
    "duration": 32,
    "start_time": "2022-07-24T19:21:25.238Z"
   },
   {
    "duration": 157,
    "start_time": "2022-07-24T19:21:25.272Z"
   },
   {
    "duration": 42,
    "start_time": "2022-07-25T18:47:12.650Z"
   },
   {
    "duration": 507,
    "start_time": "2022-07-25T18:47:21.045Z"
   },
   {
    "duration": 20,
    "start_time": "2022-07-25T18:47:21.555Z"
   },
   {
    "duration": 15,
    "start_time": "2022-07-25T18:47:21.576Z"
   },
   {
    "duration": 8,
    "start_time": "2022-07-25T18:47:21.592Z"
   },
   {
    "duration": 31,
    "start_time": "2022-07-25T18:47:21.602Z"
   },
   {
    "duration": 4,
    "start_time": "2022-07-25T18:47:21.634Z"
   },
   {
    "duration": 18,
    "start_time": "2022-07-25T18:47:21.639Z"
   },
   {
    "duration": 4,
    "start_time": "2022-07-25T18:47:21.658Z"
   },
   {
    "duration": 8,
    "start_time": "2022-07-25T18:47:21.663Z"
   },
   {
    "duration": 4,
    "start_time": "2022-07-25T18:47:21.672Z"
   },
   {
    "duration": 30,
    "start_time": "2022-07-25T18:47:21.678Z"
   },
   {
    "duration": 29,
    "start_time": "2022-07-25T18:47:21.709Z"
   },
   {
    "duration": 11,
    "start_time": "2022-07-25T18:47:21.740Z"
   },
   {
    "duration": 17,
    "start_time": "2022-07-25T18:47:21.754Z"
   },
   {
    "duration": 15,
    "start_time": "2022-07-25T18:47:21.773Z"
   },
   {
    "duration": 10,
    "start_time": "2022-07-25T18:47:21.790Z"
   },
   {
    "duration": 3,
    "start_time": "2022-07-25T18:47:21.802Z"
   },
   {
    "duration": 36,
    "start_time": "2022-07-25T18:47:21.807Z"
   },
   {
    "duration": 10,
    "start_time": "2022-07-25T18:47:21.845Z"
   },
   {
    "duration": 5,
    "start_time": "2022-07-25T18:47:21.856Z"
   },
   {
    "duration": 9,
    "start_time": "2022-07-25T18:47:21.862Z"
   },
   {
    "duration": 44,
    "start_time": "2022-07-25T18:47:21.873Z"
   },
   {
    "duration": 500,
    "start_time": "2022-07-25T18:47:21.918Z"
   },
   {
    "duration": 28,
    "start_time": "2022-07-25T18:47:22.419Z"
   },
   {
    "duration": 127,
    "start_time": "2022-07-25T18:47:22.449Z"
   },
   {
    "duration": 19,
    "start_time": "2022-07-25T18:47:22.577Z"
   },
   {
    "duration": 118,
    "start_time": "2022-07-25T18:47:22.597Z"
   },
   {
    "duration": 29,
    "start_time": "2022-07-25T18:47:22.716Z"
   },
   {
    "duration": 135,
    "start_time": "2022-07-25T18:47:22.746Z"
   }
  ],
  "celltoolbar": "Edit Metadata",
  "colab": {
   "name": "dpp_template_part2.ipynb",
   "provenance": []
  },
  "kernelspec": {
   "display_name": "Python 3 (ipykernel)",
   "language": "python",
   "name": "python3"
  },
  "language_info": {
   "codemirror_mode": {
    "name": "ipython",
    "version": 3
   },
   "file_extension": ".py",
   "mimetype": "text/x-python",
   "name": "python",
   "nbconvert_exporter": "python",
   "pygments_lexer": "ipython3",
   "version": "3.9.12"
  },
  "toc": {
   "base_numbering": 1,
   "nav_menu": {},
   "number_sections": true,
   "sideBar": true,
   "skip_h1_title": true,
   "title_cell": "Table of Contents",
   "title_sidebar": "Contents",
   "toc_cell": false,
   "toc_position": {},
   "toc_section_display": true,
   "toc_window_display": false
  }
 },
 "nbformat": 4,
 "nbformat_minor": 5
}
