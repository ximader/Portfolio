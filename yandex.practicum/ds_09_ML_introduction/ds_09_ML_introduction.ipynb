{
 "cells": [
  {
   "cell_type": "markdown",
   "id": "ad68ed3b-71ae-4fcb-b043-4d60c0cb729a",
   "metadata": {},
   "source": [
    "# **Введение в машинное обучение : рекомендация тарифов**"
   ]
  },
  {
   "cell_type": "markdown",
   "id": "5ab4ca63-43b3-4138-8370-e4052d27c5ff",
   "metadata": {
    "tags": []
   },
   "source": [
    "## Импорт и предобработка данных"
   ]
  },
  {
   "cell_type": "markdown",
   "id": "d05760d0-409b-48f6-a8a1-64c09d343e99",
   "metadata": {},
   "source": [
    "**Импорт библиотек и настройки**"
   ]
  },
  {
   "cell_type": "code",
   "execution_count": 220,
   "id": "68a64941-1244-4a22-8b77-0d31c11c19ff",
   "metadata": {},
   "outputs": [],
   "source": [
    "import pandas as pd\n",
    "\n",
    "from sklearn.model_selection import train_test_split\n",
    "from sklearn.tree import DecisionTreeClassifier\n",
    "from sklearn.linear_model import LogisticRegression\n",
    "from sklearn.dummy import DummyClassifier\n",
    "from sklearn.ensemble import RandomForestClassifier\n",
    "from sklearn.metrics import accuracy_score, precision_score, recall_score\n",
    "from sklearn.metrics import confusion_matrix, ConfusionMatrixDisplay\n",
    "\n",
    "import matplotlib as mpl\n",
    "import matplotlib.pyplot as plt\n",
    "\n",
    "import warnings"
   ]
  },
  {
   "cell_type": "code",
   "execution_count": 221,
   "id": "41783ed3-68e3-4292-a458-17354e5cff9a",
   "metadata": {},
   "outputs": [],
   "source": [
    "warnings.filterwarnings('ignore')"
   ]
  },
  {
   "cell_type": "markdown",
   "id": "35f70d56-0648-454f-86c9-d992043f114f",
   "metadata": {},
   "source": [
    "**Импорт данных**"
   ]
  },
  {
   "cell_type": "code",
   "execution_count": 222,
   "id": "a2eaf13c-1a11-47c8-bddf-ef6e883f1345",
   "metadata": {},
   "outputs": [],
   "source": [
    "try:\n",
    "    data = pd.read_csv('/datasets/users_behavior.csv') # путь к данным для сетевой версии\n",
    "except: \n",
    "    data = pd.read_csv('users_behavior.csv')  # путь к данным для локальной версии"
   ]
  },
  {
   "cell_type": "code",
   "execution_count": 223,
   "id": "162636ce-d419-411f-8ccb-af18fca94462",
   "metadata": {},
   "outputs": [
    {
     "name": "stdout",
     "output_type": "stream",
     "text": [
      "<class 'pandas.core.frame.DataFrame'>\n",
      "RangeIndex: 3214 entries, 0 to 3213\n",
      "Data columns (total 5 columns):\n",
      " #   Column    Non-Null Count  Dtype  \n",
      "---  ------    --------------  -----  \n",
      " 0   calls     3214 non-null   float64\n",
      " 1   minutes   3214 non-null   float64\n",
      " 2   messages  3214 non-null   float64\n",
      " 3   mb_used   3214 non-null   float64\n",
      " 4   is_ultra  3214 non-null   int64  \n",
      "dtypes: float64(4), int64(1)\n",
      "memory usage: 125.7 KB\n"
     ]
    }
   ],
   "source": [
    "data.info()"
   ]
  },
  {
   "cell_type": "code",
   "execution_count": 224,
   "id": "f749a910-8fd8-42ab-bca2-b7d2e82f8375",
   "metadata": {},
   "outputs": [
    {
     "data": {
      "text/html": [
       "<div>\n",
       "<style scoped>\n",
       "    .dataframe tbody tr th:only-of-type {\n",
       "        vertical-align: middle;\n",
       "    }\n",
       "\n",
       "    .dataframe tbody tr th {\n",
       "        vertical-align: top;\n",
       "    }\n",
       "\n",
       "    .dataframe thead th {\n",
       "        text-align: right;\n",
       "    }\n",
       "</style>\n",
       "<table border=\"1\" class=\"dataframe\">\n",
       "  <thead>\n",
       "    <tr style=\"text-align: right;\">\n",
       "      <th></th>\n",
       "      <th>calls</th>\n",
       "      <th>minutes</th>\n",
       "      <th>messages</th>\n",
       "      <th>mb_used</th>\n",
       "      <th>is_ultra</th>\n",
       "    </tr>\n",
       "  </thead>\n",
       "  <tbody>\n",
       "    <tr>\n",
       "      <th>0</th>\n",
       "      <td>40.0</td>\n",
       "      <td>311.90</td>\n",
       "      <td>83.0</td>\n",
       "      <td>19915.42</td>\n",
       "      <td>0</td>\n",
       "    </tr>\n",
       "    <tr>\n",
       "      <th>1</th>\n",
       "      <td>85.0</td>\n",
       "      <td>516.75</td>\n",
       "      <td>56.0</td>\n",
       "      <td>22696.96</td>\n",
       "      <td>0</td>\n",
       "    </tr>\n",
       "    <tr>\n",
       "      <th>2</th>\n",
       "      <td>77.0</td>\n",
       "      <td>467.66</td>\n",
       "      <td>86.0</td>\n",
       "      <td>21060.45</td>\n",
       "      <td>0</td>\n",
       "    </tr>\n",
       "    <tr>\n",
       "      <th>3</th>\n",
       "      <td>106.0</td>\n",
       "      <td>745.53</td>\n",
       "      <td>81.0</td>\n",
       "      <td>8437.39</td>\n",
       "      <td>1</td>\n",
       "    </tr>\n",
       "    <tr>\n",
       "      <th>4</th>\n",
       "      <td>66.0</td>\n",
       "      <td>418.74</td>\n",
       "      <td>1.0</td>\n",
       "      <td>14502.75</td>\n",
       "      <td>0</td>\n",
       "    </tr>\n",
       "  </tbody>\n",
       "</table>\n",
       "</div>"
      ],
      "text/plain": [
       "   calls  minutes  messages   mb_used  is_ultra\n",
       "0   40.0   311.90      83.0  19915.42         0\n",
       "1   85.0   516.75      56.0  22696.96         0\n",
       "2   77.0   467.66      86.0  21060.45         0\n",
       "3  106.0   745.53      81.0   8437.39         1\n",
       "4   66.0   418.74       1.0  14502.75         0"
      ]
     },
     "execution_count": 224,
     "metadata": {},
     "output_type": "execute_result"
    }
   ],
   "source": [
    "data.head()"
   ]
  },
  {
   "cell_type": "markdown",
   "id": "5427db49-5bb1-48fa-87b9-18dcecd5ce5a",
   "metadata": {},
   "source": [
    "**Промежуточные выводы**"
   ]
  },
  {
   "cell_type": "markdown",
   "id": "a3590cca-4444-4d73-84d1-4bb291136879",
   "metadata": {},
   "source": [
    "Согласно условиям задания данные уже предобработаны - названия столбцов согласно правилам, пропуска отсутствуют, описание данных в столбцах в наличии."
   ]
  },
  {
   "cell_type": "markdown",
   "id": "8af871a0-859e-4d9a-84d1-43b173429607",
   "metadata": {},
   "source": [
    "____\n"
   ]
  },
  {
   "cell_type": "markdown",
   "id": "c33b8707-3534-429b-b59f-63f916305079",
   "metadata": {},
   "source": [
    "## Разделение исходных данных на обучающую, валидационную и тестовую выборки."
   ]
  },
  {
   "cell_type": "code",
   "execution_count": 225,
   "id": "96bbcf57-bc00-47c3-b91f-fccde7b1b83d",
   "metadata": {},
   "outputs": [],
   "source": [
    "# определяем признаки и целевой признак\n",
    "features = data.drop(['is_ultra'], axis=1) #признаки\n",
    "target = data['is_ultra'] #целевой признак"
   ]
  },
  {
   "cell_type": "code",
   "execution_count": 226,
   "id": "fcf63d09-c514-4041-bd63-fb3fbb4480ab",
   "metadata": {},
   "outputs": [],
   "source": [
    "# разделяем исходные данные на обучающую(60%) валидационную (20%) и тестовую(20%) выборки\n",
    "\n",
    "# первым шагом отделяем тестовые данные\n",
    "features_train, features_test, target_train, target_test = train_test_split(\n",
    "   features, target, test_size=0.2, random_state=12345)\n",
    "\n",
    "# вторым шагом отделяем валидационные данные\n",
    "features_train, features_valid, target_train, target_valid = train_test_split(\n",
    "   features_train, target_train, test_size=0.25, random_state=12345)\n"
   ]
  },
  {
   "cell_type": "code",
   "execution_count": 227,
   "id": "e736a04c-8dcb-4864-979e-a55faf55f784",
   "metadata": {},
   "outputs": [
    {
     "data": {
      "text/plain": [
       "(1928, 4)"
      ]
     },
     "execution_count": 227,
     "metadata": {},
     "output_type": "execute_result"
    }
   ],
   "source": [
    "#features_train.info()\n",
    "features_train.shape"
   ]
  },
  {
   "cell_type": "code",
   "execution_count": 228,
   "id": "09bd71a8-7400-4249-aaf8-b27715b123e4",
   "metadata": {},
   "outputs": [
    {
     "data": {
      "text/plain": [
       "(643, 4)"
      ]
     },
     "execution_count": 228,
     "metadata": {},
     "output_type": "execute_result"
    }
   ],
   "source": [
    "#features_valid.info()\n",
    "features_valid.shape"
   ]
  },
  {
   "cell_type": "code",
   "execution_count": 229,
   "id": "90c5adef-adbb-41b6-8824-d6aca6b4ac5e",
   "metadata": {},
   "outputs": [
    {
     "data": {
      "text/plain": [
       "(643, 4)"
      ]
     },
     "execution_count": 229,
     "metadata": {},
     "output_type": "execute_result"
    }
   ],
   "source": [
    "#features_test.info()\n",
    "features_test.shape"
   ]
  },
  {
   "cell_type": "markdown",
   "id": "242d6753-7ed7-4cbc-b24f-0b139608a0e4",
   "metadata": {},
   "source": [
    "**Промежуточные выводы**"
   ]
  },
  {
   "cell_type": "markdown",
   "id": "36d41c87-9881-43dc-80d7-267d4efd413e",
   "metadata": {},
   "source": [
    "Данные успешно разделены на обучающую, валидационную и тестовую выборку в пропорции 3:1:1"
   ]
  },
  {
   "cell_type": "markdown",
   "id": "e912a7d4-f023-46d6-bbb0-95f7381192c3",
   "metadata": {},
   "source": [
    "---"
   ]
  },
  {
   "cell_type": "markdown",
   "id": "a308499e-62a3-4c99-8e12-a07aebed0abf",
   "metadata": {},
   "source": [
    "## Применение модели DecisionTreeClassifier"
   ]
  },
  {
   "cell_type": "code",
   "execution_count": 230,
   "id": "d707780c-6dc6-4717-a7d8-085dc8f7cfb9",
   "metadata": {},
   "outputs": [
    {
     "name": "stdout",
     "output_type": "stream",
     "text": [
      "Accuracy лучшей модели: 0.7744945567651633\n",
      "max_depth лучшей модели: 7\n"
     ]
    },
    {
     "data": {
      "image/png": "[encoded data removed]",
      "text/plain": [
       "<Figure size 500x300 with 1 Axes>"
      ]
     },
     "metadata": {},
     "output_type": "display_data"
    }
   ],
   "source": [
    "best_model_dtc = None\n",
    "best_result_dtc = 0\n",
    "best_depth_dtc = 0\n",
    "\n",
    "plot_data=[]\n",
    "\n",
    "for depth in range(1, 11):\n",
    "    model = DecisionTreeClassifier(random_state=12345, max_depth=depth) # создаем модель\n",
    "    model.fit(features_train, target_train) # обучаем модель\n",
    "    predictions = model.predict(features_valid) # получаем предсказания модели на валидационных данных\n",
    "    result = accuracy_score(target_valid, predictions) # оцениваем качество модели по валидационным ответам\n",
    "\n",
    "    result_train = accuracy_score(target_train, model.predict(features_train))\n",
    "\n",
    "    plot_data.append([depth,  result_train, result])\n",
    "    if result > best_result_dtc: # сохраняем лучшую модель\n",
    "        best_model_dtc = model\n",
    "        best_result_dtc = result\n",
    "        best_depth_dtc = depth\n",
    "\n",
    "mpl.style.use('ggplot') # добавим стиля\n",
    "plot_data = pd.DataFrame(plot_data)\n",
    "plot_data.columns = ['max_depth','train','valid']\n",
    "plot_data.set_index(['max_depth'], inplace=True)\n",
    "plot_data.plot(figsize=(5,3), title='Accuracy обучающей и валидационной выборки для разных max_depth')\n",
    "        \n",
    "print(\"Accuracy лучшей модели:\", best_result_dtc)\n",
    "print(\"max_depth лучшей модели:\", best_depth_dtc)\n",
    "\n",
    "plt.show()"
   ]
  },
  {
   "cell_type": "markdown",
   "id": "c213876f-aea9-417b-97a9-1543b72fc1b2",
   "metadata": {},
   "source": [
    "**Промежуточные выводы**"
   ]
  },
  {
   "cell_type": "markdown",
   "id": "f6878dc3-fa5d-4f82-b821-71afce0ed456",
   "metadata": {},
   "source": [
    "Модель дерева решений с максимальной глубиной в 3 уровня показала наилучшие результаты по валидационной выборке, accuracy выше заложенного в задание порога 0.75"
   ]
  },
  {
   "cell_type": "markdown",
   "id": "fd888e63-6469-458a-9eae-bdf36bb3802d",
   "metadata": {},
   "source": [
    "---"
   ]
  },
  {
   "cell_type": "markdown",
   "id": "4457f3c8-7c20-4706-ade4-5687aecb9249",
   "metadata": {},
   "source": [
    "## Применение модели RandomForestClassifier"
   ]
  },
  {
   "cell_type": "code",
   "execution_count": 231,
   "id": "57a92a8d-92ed-4fcc-8f01-e6cc4a584e3f",
   "metadata": {},
   "outputs": [
    {
     "name": "stdout",
     "output_type": "stream",
     "text": [
      "Accuracy лучшей модели: 0.7978227060653188\n",
      "Количество деревьев: 50\n",
      "max_depth лучшей модели: 10\n"
     ]
    },
    {
     "data": {
      "image/png": "[encoded data removed]",
      "text/plain": [
       "<Figure size 500x300 with 2 Axes>"
      ]
     },
     "metadata": {},
     "output_type": "display_data"
    }
   ],
   "source": [
    "best_model_rfc = None\n",
    "best_result_rfc = 0\n",
    "best_est = 0\n",
    "best_depth_rfc = 0\n",
    "\n",
    "plot_data=[]\n",
    "\n",
    "for est in range(10, 51, 10): # протестируем разное количество деревьев, от 10 до 50 с шагом 10\n",
    "    for depth in range (1, 11):  \n",
    "        model =  RandomForestClassifier(random_state=12345, n_estimators=est, max_depth=depth)# создаем модель \n",
    "        model.fit(features_train, target_train) # обучаем модель\n",
    "        predictions = model.predict(features_valid) # получаем предсказания модели на валидационных данных\n",
    "        result = accuracy_score(target_valid, predictions) # оцениваем качество модели по валидационным ответам\n",
    "        \n",
    "        plot_data.append([est, depth, result])\n",
    "            \n",
    "        if result > best_result_rfc:\n",
    "            best_model_rfc = model\n",
    "            best_result_rfc = result\n",
    "            best_est = est\n",
    "            best_depth_rfc = depth\n",
    "\n",
    "print(\"Accuracy лучшей модели:\", best_result_rfc)\n",
    "print(\"Количество деревьев:\", best_est)\n",
    "print(\"max_depth лучшей модели:\", best_depth_rfc)\n",
    "\n",
    "# оторбразим на графике\n",
    "mpl.style.use('default') \n",
    "plot_data = pd.DataFrame(plot_data)\n",
    "plot_data.columns = ['est(trees)', 'max_depth', 'valid']\n",
    "plot_data.plot.scatter(x='est(trees)', y='max_depth', s=50, c='valid', cmap=\"viridis\",  figsize=(5,3), \n",
    "                       title='Accuracy валидационной выборки для разных параметров max_depth и est')\n",
    "plt.show()"
   ]
  },
  {
   "cell_type": "markdown",
   "id": "5c5cb9de-dd14-4e2c-9d83-38277dfe0753",
   "metadata": {},
   "source": [
    "**Промежуточные выводы**"
   ]
  },
  {
   "cell_type": "markdown",
   "id": "4c8cb244-1403-47bf-8332-5dae56bf651e",
   "metadata": {},
   "source": [
    "Модель случайного леса из 50 деревьев и с глубиной 10 показала наилучшие результаты по валидационной выборке, accuracy выше заложенного в задание порога 0.75"
   ]
  },
  {
   "cell_type": "markdown",
   "id": "ee15f490-1878-4217-bd8c-2e90f85f49d5",
   "metadata": {},
   "source": [
    "---"
   ]
  },
  {
   "cell_type": "markdown",
   "id": "6fde68bc-3bf6-495e-bcf9-626af1e02064",
   "metadata": {},
   "source": [
    "## Применение модели LogisticRegression"
   ]
  },
  {
   "cell_type": "code",
   "execution_count": 232,
   "id": "ebfef906-87df-42ca-8e18-35fda7edbc6f",
   "metadata": {},
   "outputs": [
    {
     "name": "stdout",
     "output_type": "stream",
     "text": [
      "Accuracy линейной модели: 0.7262830482115086\n"
     ]
    }
   ],
   "source": [
    "model = LogisticRegression(random_state=12345)   \n",
    "model.fit(features_train, target_train) \n",
    "predictions = model.predict(features_valid)  \n",
    "\n",
    "result = accuracy_score(target_valid, predictions)\n",
    "print(\"Accuracy линейной модели:\", result)"
   ]
  },
  {
   "cell_type": "markdown",
   "id": "80fe61bb-f999-45f6-a6c3-f243d5e0f2e9",
   "metadata": {},
   "source": [
    "**Промежуточные выводы**"
   ]
  },
  {
   "cell_type": "markdown",
   "id": "609a0d4b-044c-4193-b43b-5f82dde6199a",
   "metadata": {},
   "source": [
    "Классификация с моделью логистической регрессии дает accuracy меньше целевого уровня 0.75"
   ]
  },
  {
   "cell_type": "markdown",
   "id": "f6fd3536-b01c-4307-9922-e74029719992",
   "metadata": {},
   "source": [
    "---"
   ]
  },
  {
   "cell_type": "markdown",
   "id": "b1fc4893-1ccb-4305-977c-4f9764850926",
   "metadata": {},
   "source": [
    "## Проверка лучшей модели на тестовых данных"
   ]
  },
  {
   "cell_type": "markdown",
   "id": "8a1419a3-eb18-4203-82d7-aca34981fea9",
   "metadata": {},
   "source": [
    "Наилучшим образом себя показала модель RandomForestClassifier (`best_model_rfc`). Проверим результаты ее работы на тестовой выборке"
   ]
  },
  {
   "cell_type": "code",
   "execution_count": 233,
   "id": "5973f2fa-5ae4-4bee-adda-89be80285078",
   "metadata": {},
   "outputs": [
    {
     "name": "stdout",
     "output_type": "stream",
     "text": [
      "Accuracy лучшей модели на тестовой выборке: 0.7993779160186625\n"
     ]
    }
   ],
   "source": [
    "best_model = best_model_rfc\n",
    "\n",
    "#переобучим лучшую модель на объединенных данных из обучающей и валидационной выборок\n",
    "features_combine = pd.concat([features_train,features_valid])\n",
    "target_combine = pd.concat([target_train,target_valid])\n",
    "model.fit(features_combine, target_combine) # переобучаем модель\n",
    "\n",
    "# проверим точность модели на тестовых данных\n",
    "predictions = best_model.predict(features_test)\n",
    "result = accuracy_score(target_test, predictions)\n",
    "\n",
    "print(\"Accuracy лучшей модели на тестовой выборке:\", result)"
   ]
  },
  {
   "cell_type": "markdown",
   "id": "816bc043-368b-4cb7-9bd9-75b5fd14b4b2",
   "metadata": {},
   "source": [
    "**Промежуточные выводы**"
   ]
  },
  {
   "cell_type": "markdown",
   "id": "b8984605-2fe7-45bb-a39a-48b39f70cf7d",
   "metadata": {},
   "source": [
    "Модель случайного леса показала себя достойно на тестовой выборке, результаты такие же, как и на валидационной - accuracy почти 80%"
   ]
  },
  {
   "cell_type": "markdown",
   "id": "990c487b-127e-4e2a-9475-d33fc723e380",
   "metadata": {},
   "source": [
    "---"
   ]
  },
  {
   "cell_type": "markdown",
   "id": "eba10ecd-401f-455a-810b-33f2b31558b3",
   "metadata": {},
   "source": [
    "## Проверка метрик качества наилучшей модели"
   ]
  },
  {
   "cell_type": "markdown",
   "id": "fda97798-bc77-40c3-b29d-d52300f8e048",
   "metadata": {},
   "source": [
    "Проверим прочие метрики модели на тестовой выборке"
   ]
  },
  {
   "cell_type": "code",
   "execution_count": 234,
   "id": "4cd09f41-8478-4366-bc67-3db7f4112079",
   "metadata": {},
   "outputs": [
    {
     "name": "stdout",
     "output_type": "stream",
     "text": [
      "Precision лучшей модели на тестовой выборке: 0.5204081632653061\n",
      "Recall лучшей модели на тестовой выборке: 0.7445255474452555\n"
     ]
    },
    {
     "data": {
      "image/png": "[encoded data removed]",
      "text/plain": [
       "<Figure size 300x300 with 2 Axes>"
      ]
     },
     "metadata": {},
     "output_type": "display_data"
    }
   ],
   "source": [
    "predictions = best_model.predict(features_test) # получаем предсказания модели на валидационных данных\n",
    "\n",
    "print(\"Precision лучшей модели на тестовой выборке:\", precision_score(predictions, target_test ))\n",
    "print(\"Recall лучшей модели на тестовой выборке:\", recall_score(predictions, target_test))\n",
    "\n",
    "mpl.style.use('default')  \n",
    "cm = confusion_matrix(target_test, predictions, labels=best_model.classes_)\n",
    "disp = ConfusionMatrixDisplay(confusion_matrix=cm, display_labels=best_model.classes_)\n",
    "fig, ax = plt.subplots(figsize=(3,3)) \n",
    "disp.plot(ax=ax)\n",
    "\n",
    "plt.show()"
   ]
  },
  {
   "cell_type": "markdown",
   "id": "3406bb4a-1e3e-4883-baf1-7edc657c0297",
   "metadata": {},
   "source": [
    "**Проверка модели на вменяемость**"
   ]
  },
  {
   "cell_type": "code",
   "execution_count": 235,
   "id": "1d5add20-da62-4dad-b10d-9751486f2a64",
   "metadata": {},
   "outputs": [
    {
     "name": "stdout",
     "output_type": "stream",
     "text": [
      "Accuracy dummy модели: 0.6951788491446346\n"
     ]
    }
   ],
   "source": [
    "# создадим DummyClassifier для оценки поведения алгоритма, всегда предсказывающего самый популярный ответ\n",
    "model_dummy = DummyClassifier(strategy=\"most_frequent\")\n",
    "model_dummy.fit(features_combine, target_combine)\n",
    "predictions = model_dummy.predict(features_test)\n",
    "\n",
    "result = accuracy_score(target_test, predictions)\n",
    "print(\"Accuracy dummy модели:\", result)"
   ]
  },
  {
   "cell_type": "markdown",
   "id": "32311bc6-e5ec-4a8a-a1fc-0c7fe667e9d1",
   "metadata": {},
   "source": [
    "**Промежуточные выводы**"
   ]
  },
  {
   "cell_type": "markdown",
   "id": "bf3c9a23-1818-4859-92a9-5e6eb1f6455e",
   "metadata": {},
   "source": [
    "Точность (англ. precision) 0.515 показывает, что модель **52% целевой аудитории тарифа «Ультра» получат соответствующую рекомендацию от модели**. Остальным потенциальным пользователям - порекомендует менее подходящий тариф «Смарт»\n",
    "\n",
    "Полнота (англ. recall) 0.7 показывает, что **70% рекомендаций тарифа «Ультра» приходятся на адресатов из целевой категории**, 30% получат рекомендацию этого тарифа, хотя им больше подойдет «Смарт»\n",
    "\n",
    "Проверка на вменяемость проводилась в сравнении с моделью, всегда возвращающей самый популярный ответ. Accuracy такой модели - 69.5%. Accuracy лучшей модели - 80%, что значительно выше dummy результатов. Проверка пройдена."
   ]
  },
  {
   "cell_type": "markdown",
   "id": "9c91ad9e-165c-4ebb-adb1-00f2ebf64886",
   "metadata": {},
   "source": [
    "---"
   ]
  },
  {
   "cell_type": "markdown",
   "id": "58673c9d-745a-447a-b8a1-af14ddeeb184",
   "metadata": {},
   "source": [
    "## Общий вывод"
   ]
  },
  {
   "cell_type": "markdown",
   "id": "65f4db30-378d-4457-98e0-3f184683f82d",
   "metadata": {},
   "source": [
    "- Согласно условиям задания данные уже предобработаны, так что импортированные данные не потребовали дополнительных усилий по предобработке.\n",
    "- Исходные данные были разделены на обучающую, валидационную и тестовую выборку в пропорции 3:1:1\n",
    "- было испытано 2 варианта модели - решающее дерево и случайный лес, при этом в цикле был проверен набор разных гиперпараметров для поиска наилучших настроек для каждой из моделей\n",
    "- по итоговому рейтингу accuracy лучшей оказалась модель случайный лес из 50 деревьев с глубиной 10\n",
    "- лучшая модель была проверена на тестовой выборке, где удовлетворила требованиям задания, набрав accuracy почти 80%\n",
    "- были проверены дополнительные метрики precision и recall\n",
    "- precision 52% говорит, что половина пользователей из целевой группы тарифа \"Ультра\" выявляются моделью, другая половина получает в рекомендациях тариф \"Смарт\"\n",
    "- recall 70% показывает, что соответствющий процент пользователей правомерно получит рекомендацию тарифа \"Ультра\"\n",
    "- проведена проверка на вменяемость. Для модели, возвращающей самый популярный ответ точность составила 60%, у обученной модели 80%"
   ]
  },
  {
   "cell_type": "code",
   "execution_count": null,
   "id": "1d1b0954-2365-4eb9-b8ec-ba3f29041ad7",
   "metadata": {},
   "outputs": [],
   "source": []
  }
 ],
 "metadata": {
  "ExecuteTimeLog": [
   {
    "duration": 1918,
    "start_time": "2022-09-19T20:51:05.124Z"
   },
   {
    "duration": 2,
    "start_time": "2022-09-19T20:51:07.044Z"
   },
   {
    "duration": 135,
    "start_time": "2022-09-19T20:51:07.048Z"
   },
   {
    "duration": 11,
    "start_time": "2022-09-19T20:51:07.185Z"
   },
   {
    "duration": 19,
    "start_time": "2022-09-19T20:51:07.198Z"
   },
   {
    "duration": 3,
    "start_time": "2022-09-19T20:51:07.219Z"
   },
   {
    "duration": 10,
    "start_time": "2022-09-19T20:51:07.224Z"
   },
   {
    "duration": 29,
    "start_time": "2022-09-19T20:51:07.236Z"
   },
   {
    "duration": 12,
    "start_time": "2022-09-19T20:51:07.267Z"
   },
   {
    "duration": 11,
    "start_time": "2022-09-19T20:51:07.282Z"
   },
   {
    "duration": 74,
    "start_time": "2022-09-19T20:51:07.294Z"
   },
   {
    "duration": 3543,
    "start_time": "2022-09-19T20:51:07.370Z"
   },
   {
    "duration": 12,
    "start_time": "2022-09-19T20:51:10.915Z"
   },
   {
    "duration": 152,
    "start_time": "2022-09-19T20:51:10.929Z"
   }
  ],
  "kernelspec": {
   "display_name": "Python 3 (ipykernel)",
   "language": "python",
   "name": "python3"
  },
  "language_info": {
   "codemirror_mode": {
    "name": "ipython",
    "version": 3
   },
   "file_extension": ".py",
   "mimetype": "text/x-python",
   "name": "python",
   "nbconvert_exporter": "python",
   "pygments_lexer": "ipython3",
   "version": "3.9.12"
  },
  "toc": {
   "base_numbering": 1,
   "nav_menu": {},
   "number_sections": true,
   "sideBar": true,
   "skip_h1_title": true,
   "title_cell": "Table of Contents",
   "title_sidebar": "Contents",
   "toc_cell": false,
   "toc_position": {},
   "toc_section_display": true,
   "toc_window_display": false
  }
 },
 "nbformat": 4,
 "nbformat_minor": 5
}
