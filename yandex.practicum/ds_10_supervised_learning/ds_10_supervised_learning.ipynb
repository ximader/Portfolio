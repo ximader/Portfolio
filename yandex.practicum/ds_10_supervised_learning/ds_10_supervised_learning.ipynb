{
 "cells": [
  {
   "cell_type": "markdown",
   "id": "2a7d1ebb-6868-4ed7-862b-f1c0062c9a2a",
   "metadata": {},
   "source": [
    "# **Обучение с учителем : Отток клиентов**"
   ]
  },
  {
   "cell_type": "markdown",
   "id": "48f4c473-197f-468c-acd4-159e71ab5e64",
   "metadata": {},
   "source": [
    "## Импорт и предобработка данных"
   ]
  },
  {
   "cell_type": "markdown",
   "id": "a8d9b41b-76f3-4469-b56e-e915f7dfe6a4",
   "metadata": {},
   "source": [
    "**Импорт библиотек и настройки**"
   ]
  },
  {
   "cell_type": "code",
   "execution_count": 1,
   "id": "cd542299-4218-486a-b9c5-82844b428a37",
   "metadata": {},
   "outputs": [],
   "source": [
    "import pandas as pd\n",
    "\n",
    "from sklearn.model_selection import train_test_split\n",
    "\n",
    "from sklearn.preprocessing import StandardScaler\n",
    "\n",
    "from sklearn.utils import shuffle\n",
    "\n",
    "from sklearn.linear_model import LogisticRegression\n",
    "from sklearn.tree import DecisionTreeClassifier\n",
    "from sklearn.ensemble import RandomForestClassifier\n",
    "\n",
    "from sklearn.metrics import f1_score, precision_score, recall_score\n",
    "from sklearn.metrics import confusion_matrix, ConfusionMatrixDisplay\n",
    "from sklearn.metrics import roc_curve , roc_auc_score, auc\n",
    "\n",
    "#from sklearn.dummy import DummyClassifier\n",
    "\n",
    "import matplotlib as mpl\n",
    "import matplotlib.pyplot as plt\n",
    "\n",
    "import warnings\n",
    "warnings.filterwarnings('ignore')"
   ]
  },
  {
   "cell_type": "markdown",
   "id": "a839767f-e243-4999-a492-72bece072ba6",
   "metadata": {},
   "source": [
    "**Импорт данных**"
   ]
  },
  {
   "cell_type": "code",
   "execution_count": 2,
   "id": "ca914fc5-21f9-44f5-9876-e8911f4ef1f5",
   "metadata": {},
   "outputs": [],
   "source": [
    "try:\n",
    "    data = pd.read_csv('/datasets/Churn.csv') # путь к данным для сетевой версии\n",
    "except: \n",
    "    data = pd.read_csv('Churn.csv')  # путь к данным для локальной версии"
   ]
  },
  {
   "cell_type": "code",
   "execution_count": 3,
   "id": "6fa5e509-16b2-4dea-9aba-966acee76bdc",
   "metadata": {},
   "outputs": [
    {
     "name": "stdout",
     "output_type": "stream",
     "text": [
      "<class 'pandas.core.frame.DataFrame'>\n",
      "RangeIndex: 10000 entries, 0 to 9999\n",
      "Data columns (total 14 columns):\n",
      " #   Column           Non-Null Count  Dtype  \n",
      "---  ------           --------------  -----  \n",
      " 0   RowNumber        10000 non-null  int64  \n",
      " 1   CustomerId       10000 non-null  int64  \n",
      " 2   Surname          10000 non-null  object \n",
      " 3   CreditScore      10000 non-null  int64  \n",
      " 4   Geography        10000 non-null  object \n",
      " 5   Gender           10000 non-null  object \n",
      " 6   Age              10000 non-null  int64  \n",
      " 7   Tenure           9091 non-null   float64\n",
      " 8   Balance          10000 non-null  float64\n",
      " 9   NumOfProducts    10000 non-null  int64  \n",
      " 10  HasCrCard        10000 non-null  int64  \n",
      " 11  IsActiveMember   10000 non-null  int64  \n",
      " 12  EstimatedSalary  10000 non-null  float64\n",
      " 13  Exited           10000 non-null  int64  \n",
      "dtypes: float64(3), int64(8), object(3)\n",
      "memory usage: 1.1+ MB\n"
     ]
    }
   ],
   "source": [
    "data.info()"
   ]
  },
  {
   "cell_type": "code",
   "execution_count": 4,
   "id": "54c2980f-ce54-4ff0-aa89-ca6fb7aee55e",
   "metadata": {},
   "outputs": [
    {
     "data": {
      "text/html": [
       "<div>\n",
       "<style scoped>\n",
       "    .dataframe tbody tr th:only-of-type {\n",
       "        vertical-align: middle;\n",
       "    }\n",
       "\n",
       "    .dataframe tbody tr th {\n",
       "        vertical-align: top;\n",
       "    }\n",
       "\n",
       "    .dataframe thead th {\n",
       "        text-align: right;\n",
       "    }\n",
       "</style>\n",
       "<table border=\"1\" class=\"dataframe\">\n",
       "  <thead>\n",
       "    <tr style=\"text-align: right;\">\n",
       "      <th></th>\n",
       "      <th>RowNumber</th>\n",
       "      <th>CustomerId</th>\n",
       "      <th>Surname</th>\n",
       "      <th>CreditScore</th>\n",
       "      <th>Geography</th>\n",
       "      <th>Gender</th>\n",
       "      <th>Age</th>\n",
       "      <th>Tenure</th>\n",
       "      <th>Balance</th>\n",
       "      <th>NumOfProducts</th>\n",
       "      <th>HasCrCard</th>\n",
       "      <th>IsActiveMember</th>\n",
       "      <th>EstimatedSalary</th>\n",
       "      <th>Exited</th>\n",
       "    </tr>\n",
       "  </thead>\n",
       "  <tbody>\n",
       "    <tr>\n",
       "      <th>0</th>\n",
       "      <td>1</td>\n",
       "      <td>15634602</td>\n",
       "      <td>Hargrave</td>\n",
       "      <td>619</td>\n",
       "      <td>France</td>\n",
       "      <td>Female</td>\n",
       "      <td>42</td>\n",
       "      <td>2.0</td>\n",
       "      <td>0.00</td>\n",
       "      <td>1</td>\n",
       "      <td>1</td>\n",
       "      <td>1</td>\n",
       "      <td>101348.88</td>\n",
       "      <td>1</td>\n",
       "    </tr>\n",
       "    <tr>\n",
       "      <th>1</th>\n",
       "      <td>2</td>\n",
       "      <td>15647311</td>\n",
       "      <td>Hill</td>\n",
       "      <td>608</td>\n",
       "      <td>Spain</td>\n",
       "      <td>Female</td>\n",
       "      <td>41</td>\n",
       "      <td>1.0</td>\n",
       "      <td>83807.86</td>\n",
       "      <td>1</td>\n",
       "      <td>0</td>\n",
       "      <td>1</td>\n",
       "      <td>112542.58</td>\n",
       "      <td>0</td>\n",
       "    </tr>\n",
       "    <tr>\n",
       "      <th>2</th>\n",
       "      <td>3</td>\n",
       "      <td>15619304</td>\n",
       "      <td>Onio</td>\n",
       "      <td>502</td>\n",
       "      <td>France</td>\n",
       "      <td>Female</td>\n",
       "      <td>42</td>\n",
       "      <td>8.0</td>\n",
       "      <td>159660.80</td>\n",
       "      <td>3</td>\n",
       "      <td>1</td>\n",
       "      <td>0</td>\n",
       "      <td>113931.57</td>\n",
       "      <td>1</td>\n",
       "    </tr>\n",
       "    <tr>\n",
       "      <th>3</th>\n",
       "      <td>4</td>\n",
       "      <td>15701354</td>\n",
       "      <td>Boni</td>\n",
       "      <td>699</td>\n",
       "      <td>France</td>\n",
       "      <td>Female</td>\n",
       "      <td>39</td>\n",
       "      <td>1.0</td>\n",
       "      <td>0.00</td>\n",
       "      <td>2</td>\n",
       "      <td>0</td>\n",
       "      <td>0</td>\n",
       "      <td>93826.63</td>\n",
       "      <td>0</td>\n",
       "    </tr>\n",
       "    <tr>\n",
       "      <th>4</th>\n",
       "      <td>5</td>\n",
       "      <td>15737888</td>\n",
       "      <td>Mitchell</td>\n",
       "      <td>850</td>\n",
       "      <td>Spain</td>\n",
       "      <td>Female</td>\n",
       "      <td>43</td>\n",
       "      <td>2.0</td>\n",
       "      <td>125510.82</td>\n",
       "      <td>1</td>\n",
       "      <td>1</td>\n",
       "      <td>1</td>\n",
       "      <td>79084.10</td>\n",
       "      <td>0</td>\n",
       "    </tr>\n",
       "  </tbody>\n",
       "</table>\n",
       "</div>"
      ],
      "text/plain": [
       "   RowNumber  CustomerId   Surname  CreditScore Geography  Gender  Age  \\\n",
       "0          1    15634602  Hargrave          619    France  Female   42   \n",
       "1          2    15647311      Hill          608     Spain  Female   41   \n",
       "2          3    15619304      Onio          502    France  Female   42   \n",
       "3          4    15701354      Boni          699    France  Female   39   \n",
       "4          5    15737888  Mitchell          850     Spain  Female   43   \n",
       "\n",
       "   Tenure    Balance  NumOfProducts  HasCrCard  IsActiveMember  \\\n",
       "0     2.0       0.00              1          1               1   \n",
       "1     1.0   83807.86              1          0               1   \n",
       "2     8.0  159660.80              3          1               0   \n",
       "3     1.0       0.00              2          0               0   \n",
       "4     2.0  125510.82              1          1               1   \n",
       "\n",
       "   EstimatedSalary  Exited  \n",
       "0        101348.88       1  \n",
       "1        112542.58       0  \n",
       "2        113931.57       1  \n",
       "3         93826.63       0  \n",
       "4         79084.10       0  "
      ]
     },
     "execution_count": 4,
     "metadata": {},
     "output_type": "execute_result"
    }
   ],
   "source": [
    "data.head()"
   ]
  },
  {
   "cell_type": "markdown",
   "id": "5859fea7-aff4-4f76-a77c-9da957dbd4aa",
   "metadata": {},
   "source": [
    "---\n",
    "**Переименование столбцов**"
   ]
  },
  {
   "cell_type": "code",
   "execution_count": 5,
   "id": "b64cd7dd-ff7e-4fce-a24c-3aa744faaedd",
   "metadata": {},
   "outputs": [
    {
     "data": {
      "text/html": [
       "<div>\n",
       "<style scoped>\n",
       "    .dataframe tbody tr th:only-of-type {\n",
       "        vertical-align: middle;\n",
       "    }\n",
       "\n",
       "    .dataframe tbody tr th {\n",
       "        vertical-align: top;\n",
       "    }\n",
       "\n",
       "    .dataframe thead th {\n",
       "        text-align: right;\n",
       "    }\n",
       "</style>\n",
       "<table border=\"1\" class=\"dataframe\">\n",
       "  <thead>\n",
       "    <tr style=\"text-align: right;\">\n",
       "      <th></th>\n",
       "      <th>row_number</th>\n",
       "      <th>customer_id</th>\n",
       "      <th>surname</th>\n",
       "      <th>credit_score</th>\n",
       "      <th>geography</th>\n",
       "      <th>gender</th>\n",
       "      <th>age</th>\n",
       "      <th>tenure</th>\n",
       "      <th>balance</th>\n",
       "      <th>num_of_products</th>\n",
       "      <th>has_cr_card</th>\n",
       "      <th>is_active_member</th>\n",
       "      <th>estimated_salary</th>\n",
       "      <th>exited</th>\n",
       "    </tr>\n",
       "  </thead>\n",
       "  <tbody>\n",
       "    <tr>\n",
       "      <th>0</th>\n",
       "      <td>1</td>\n",
       "      <td>15634602</td>\n",
       "      <td>Hargrave</td>\n",
       "      <td>619</td>\n",
       "      <td>France</td>\n",
       "      <td>Female</td>\n",
       "      <td>42</td>\n",
       "      <td>2.0</td>\n",
       "      <td>0.00</td>\n",
       "      <td>1</td>\n",
       "      <td>1</td>\n",
       "      <td>1</td>\n",
       "      <td>101348.88</td>\n",
       "      <td>1</td>\n",
       "    </tr>\n",
       "    <tr>\n",
       "      <th>1</th>\n",
       "      <td>2</td>\n",
       "      <td>15647311</td>\n",
       "      <td>Hill</td>\n",
       "      <td>608</td>\n",
       "      <td>Spain</td>\n",
       "      <td>Female</td>\n",
       "      <td>41</td>\n",
       "      <td>1.0</td>\n",
       "      <td>83807.86</td>\n",
       "      <td>1</td>\n",
       "      <td>0</td>\n",
       "      <td>1</td>\n",
       "      <td>112542.58</td>\n",
       "      <td>0</td>\n",
       "    </tr>\n",
       "    <tr>\n",
       "      <th>2</th>\n",
       "      <td>3</td>\n",
       "      <td>15619304</td>\n",
       "      <td>Onio</td>\n",
       "      <td>502</td>\n",
       "      <td>France</td>\n",
       "      <td>Female</td>\n",
       "      <td>42</td>\n",
       "      <td>8.0</td>\n",
       "      <td>159660.80</td>\n",
       "      <td>3</td>\n",
       "      <td>1</td>\n",
       "      <td>0</td>\n",
       "      <td>113931.57</td>\n",
       "      <td>1</td>\n",
       "    </tr>\n",
       "    <tr>\n",
       "      <th>3</th>\n",
       "      <td>4</td>\n",
       "      <td>15701354</td>\n",
       "      <td>Boni</td>\n",
       "      <td>699</td>\n",
       "      <td>France</td>\n",
       "      <td>Female</td>\n",
       "      <td>39</td>\n",
       "      <td>1.0</td>\n",
       "      <td>0.00</td>\n",
       "      <td>2</td>\n",
       "      <td>0</td>\n",
       "      <td>0</td>\n",
       "      <td>93826.63</td>\n",
       "      <td>0</td>\n",
       "    </tr>\n",
       "    <tr>\n",
       "      <th>4</th>\n",
       "      <td>5</td>\n",
       "      <td>15737888</td>\n",
       "      <td>Mitchell</td>\n",
       "      <td>850</td>\n",
       "      <td>Spain</td>\n",
       "      <td>Female</td>\n",
       "      <td>43</td>\n",
       "      <td>2.0</td>\n",
       "      <td>125510.82</td>\n",
       "      <td>1</td>\n",
       "      <td>1</td>\n",
       "      <td>1</td>\n",
       "      <td>79084.10</td>\n",
       "      <td>0</td>\n",
       "    </tr>\n",
       "  </tbody>\n",
       "</table>\n",
       "</div>"
      ],
      "text/plain": [
       "   row_number  customer_id   surname  credit_score geography  gender  age  \\\n",
       "0           1     15634602  Hargrave           619    France  Female   42   \n",
       "1           2     15647311      Hill           608     Spain  Female   41   \n",
       "2           3     15619304      Onio           502    France  Female   42   \n",
       "3           4     15701354      Boni           699    France  Female   39   \n",
       "4           5     15737888  Mitchell           850     Spain  Female   43   \n",
       "\n",
       "   tenure    balance  num_of_products  has_cr_card  is_active_member  \\\n",
       "0     2.0       0.00                1            1                 1   \n",
       "1     1.0   83807.86                1            0                 1   \n",
       "2     8.0  159660.80                3            1                 0   \n",
       "3     1.0       0.00                2            0                 0   \n",
       "4     2.0  125510.82                1            1                 1   \n",
       "\n",
       "   estimated_salary  exited  \n",
       "0         101348.88       1  \n",
       "1         112542.58       0  \n",
       "2         113931.57       1  \n",
       "3          93826.63       0  \n",
       "4          79084.10       0  "
      ]
     },
     "execution_count": 5,
     "metadata": {},
     "output_type": "execute_result"
    }
   ],
   "source": [
    "data = data.rename(columns={\n",
    "    \"RowNumber\": \"row_number\", \n",
    "    \"CustomerId\": \"customer_id\", \n",
    "    \"Surname\": \"surname\", \n",
    "    \"CreditScore\": \"credit_score\", \n",
    "    \"Geography\": \"geography\", \n",
    "    \"Gender\": \"gender\", \n",
    "    \"Age\": \"age\",\n",
    "    \"Tenure\": \"tenure\",\n",
    "    \"Balance\": \"balance\",\n",
    "    \"NumOfProducts\": \"num_of_products\",\n",
    "    \"HasCrCard\": \"has_cr_card\",\n",
    "    \"IsActiveMember\": \"is_active_member\",\n",
    "    \"EstimatedSalary\": \"estimated_salary\",\n",
    "    \"Exited\": \"exited\"})\n",
    "\n",
    "data.head()"
   ]
  },
  {
   "cell_type": "markdown",
   "id": "01d83555-91b6-470c-8d5b-da4f8d7a712e",
   "metadata": {},
   "source": [
    "**Удаление дубликатов**"
   ]
  },
  {
   "cell_type": "code",
   "execution_count": 6,
   "id": "6e5917b6-8bf0-4064-8a76-0dd058d93962",
   "metadata": {},
   "outputs": [
    {
     "data": {
      "text/plain": [
       "10000"
      ]
     },
     "execution_count": 6,
     "metadata": {},
     "output_type": "execute_result"
    }
   ],
   "source": [
    "# проверим количество уникальных идентификаторов пользователя\n",
    "data['customer_id'].nunique()"
   ]
  },
  {
   "cell_type": "markdown",
   "id": "168f3128-00de-4d27-beb5-8009e593ed7a",
   "metadata": {},
   "source": [
    "Совпадает с количеством строк, т.е. каждая строка - уникальный пользователь. Дубликатов нет."
   ]
  },
  {
   "cell_type": "markdown",
   "id": "25a83661-59e1-4092-a641-a28025adc9f3",
   "metadata": {},
   "source": [
    "**Изменение формата данных**"
   ]
  },
  {
   "cell_type": "markdown",
   "id": "038fa4f3-b5a0-4fb9-bb0e-6c7ee5909593",
   "metadata": {},
   "source": [
    "Все данные в подходящем формате, изменения не требуются."
   ]
  },
  {
   "cell_type": "markdown",
   "id": "ee33ecc8-193a-4021-876f-dd6edc700d31",
   "metadata": {},
   "source": [
    "**Заполнение пропусков**"
   ]
  },
  {
   "cell_type": "markdown",
   "id": "1f5c3d19-7b2f-44a4-9b78-803effcd1902",
   "metadata": {},
   "source": [
    "Пропуска есть только в колонке `tenure` и составляют около 9% всей выборки. Заменим пропуски на медианное значение, т.к. медианное значение не сместит результаты при дальнейшем обучении модели если сравнить, например, с заполнением данных нулями."
   ]
  },
  {
   "cell_type": "code",
   "execution_count": 7,
   "id": "1d94bff0-e916-4c08-8097-7d1477864e02",
   "metadata": {},
   "outputs": [],
   "source": [
    "data['tenure'].fillna(data['tenure'].median(), inplace = True)"
   ]
  },
  {
   "cell_type": "code",
   "execution_count": 8,
   "id": "c5be9006-35df-40c2-8b29-f60717184aeb",
   "metadata": {},
   "outputs": [
    {
     "name": "stdout",
     "output_type": "stream",
     "text": [
      "<class 'pandas.core.frame.DataFrame'>\n",
      "RangeIndex: 10000 entries, 0 to 9999\n",
      "Data columns (total 14 columns):\n",
      " #   Column            Non-Null Count  Dtype  \n",
      "---  ------            --------------  -----  \n",
      " 0   row_number        10000 non-null  int64  \n",
      " 1   customer_id       10000 non-null  int64  \n",
      " 2   surname           10000 non-null  object \n",
      " 3   credit_score      10000 non-null  int64  \n",
      " 4   geography         10000 non-null  object \n",
      " 5   gender            10000 non-null  object \n",
      " 6   age               10000 non-null  int64  \n",
      " 7   tenure            10000 non-null  float64\n",
      " 8   balance           10000 non-null  float64\n",
      " 9   num_of_products   10000 non-null  int64  \n",
      " 10  has_cr_card       10000 non-null  int64  \n",
      " 11  is_active_member  10000 non-null  int64  \n",
      " 12  estimated_salary  10000 non-null  float64\n",
      " 13  exited            10000 non-null  int64  \n",
      "dtypes: float64(3), int64(8), object(3)\n",
      "memory usage: 1.1+ MB\n"
     ]
    }
   ],
   "source": [
    "data.info()"
   ]
  },
  {
   "cell_type": "markdown",
   "id": "2fd25e03-772a-4001-8a6d-dba23501ef83",
   "metadata": {},
   "source": [
    "### Промежуточные выводы ### \n",
    "\n",
    "- Данные импортированы без проблем. \n",
    "- В рамках обработки данных названия столбцов были приведены к стилю snake. \n",
    "- Дубликатов в данных не обнаружено. \n",
    "- Формат данных не требует изменений. \n",
    "- Пропуска в данных есть в поле `tenure`, около 9%, заполнены медианным значением."
   ]
  },
  {
   "cell_type": "markdown",
   "id": "253e474a-ce01-482d-ad99-ff50c70fe4a2",
   "metadata": {},
   "source": [
    "---\n",
    "## Подготовка данных для обучения"
   ]
  },
  {
   "cell_type": "markdown",
   "id": "c2c096ea-670f-419d-8059-6b33f399e650",
   "metadata": {},
   "source": [
    "**Убираем ненужные признаки**\n",
    "\n",
    "Очевидно, ряд признаков не может влиять на решение пользователя отказаться от услуг банка. Эти признаки удалим из выборки для обучения модели:\n",
    "- RowNumber — индекс строки в данных\n",
    "- CustomerId — уникальный идентификатор клиента\n",
    "- Surname — фамилия"
   ]
  },
  {
   "cell_type": "code",
   "execution_count": 9,
   "id": "0f045348-e03b-4d66-a467-6c0bee9de366",
   "metadata": {},
   "outputs": [],
   "source": [
    "# удалим ненужные признаки\n",
    "data = data.drop(['row_number','customer_id','surname'], axis=1)"
   ]
  },
  {
   "cell_type": "markdown",
   "id": "af1e3750-0d83-4c41-a600-a6956c353776",
   "metadata": {},
   "source": [
    "---\n",
    "**Преобразуем категориальные признаки методом OHE (One-Hot Encoding)**"
   ]
  },
  {
   "cell_type": "code",
   "execution_count": 10,
   "id": "39aa685b-006b-4a2b-a756-2d3b3335e425",
   "metadata": {},
   "outputs": [
    {
     "data": {
      "text/html": [
       "<div>\n",
       "<style scoped>\n",
       "    .dataframe tbody tr th:only-of-type {\n",
       "        vertical-align: middle;\n",
       "    }\n",
       "\n",
       "    .dataframe tbody tr th {\n",
       "        vertical-align: top;\n",
       "    }\n",
       "\n",
       "    .dataframe thead th {\n",
       "        text-align: right;\n",
       "    }\n",
       "</style>\n",
       "<table border=\"1\" class=\"dataframe\">\n",
       "  <thead>\n",
       "    <tr style=\"text-align: right;\">\n",
       "      <th></th>\n",
       "      <th>credit_score</th>\n",
       "      <th>age</th>\n",
       "      <th>tenure</th>\n",
       "      <th>balance</th>\n",
       "      <th>num_of_products</th>\n",
       "      <th>has_cr_card</th>\n",
       "      <th>is_active_member</th>\n",
       "      <th>estimated_salary</th>\n",
       "      <th>exited</th>\n",
       "      <th>geography_Germany</th>\n",
       "      <th>geography_Spain</th>\n",
       "      <th>gender_Male</th>\n",
       "    </tr>\n",
       "  </thead>\n",
       "  <tbody>\n",
       "    <tr>\n",
       "      <th>0</th>\n",
       "      <td>619</td>\n",
       "      <td>42</td>\n",
       "      <td>2.0</td>\n",
       "      <td>0.00</td>\n",
       "      <td>1</td>\n",
       "      <td>1</td>\n",
       "      <td>1</td>\n",
       "      <td>101348.88</td>\n",
       "      <td>1</td>\n",
       "      <td>0</td>\n",
       "      <td>0</td>\n",
       "      <td>0</td>\n",
       "    </tr>\n",
       "    <tr>\n",
       "      <th>1</th>\n",
       "      <td>608</td>\n",
       "      <td>41</td>\n",
       "      <td>1.0</td>\n",
       "      <td>83807.86</td>\n",
       "      <td>1</td>\n",
       "      <td>0</td>\n",
       "      <td>1</td>\n",
       "      <td>112542.58</td>\n",
       "      <td>0</td>\n",
       "      <td>0</td>\n",
       "      <td>1</td>\n",
       "      <td>0</td>\n",
       "    </tr>\n",
       "    <tr>\n",
       "      <th>2</th>\n",
       "      <td>502</td>\n",
       "      <td>42</td>\n",
       "      <td>8.0</td>\n",
       "      <td>159660.80</td>\n",
       "      <td>3</td>\n",
       "      <td>1</td>\n",
       "      <td>0</td>\n",
       "      <td>113931.57</td>\n",
       "      <td>1</td>\n",
       "      <td>0</td>\n",
       "      <td>0</td>\n",
       "      <td>0</td>\n",
       "    </tr>\n",
       "    <tr>\n",
       "      <th>3</th>\n",
       "      <td>699</td>\n",
       "      <td>39</td>\n",
       "      <td>1.0</td>\n",
       "      <td>0.00</td>\n",
       "      <td>2</td>\n",
       "      <td>0</td>\n",
       "      <td>0</td>\n",
       "      <td>93826.63</td>\n",
       "      <td>0</td>\n",
       "      <td>0</td>\n",
       "      <td>0</td>\n",
       "      <td>0</td>\n",
       "    </tr>\n",
       "    <tr>\n",
       "      <th>4</th>\n",
       "      <td>850</td>\n",
       "      <td>43</td>\n",
       "      <td>2.0</td>\n",
       "      <td>125510.82</td>\n",
       "      <td>1</td>\n",
       "      <td>1</td>\n",
       "      <td>1</td>\n",
       "      <td>79084.10</td>\n",
       "      <td>0</td>\n",
       "      <td>0</td>\n",
       "      <td>1</td>\n",
       "      <td>0</td>\n",
       "    </tr>\n",
       "  </tbody>\n",
       "</table>\n",
       "</div>"
      ],
      "text/plain": [
       "   credit_score  age  tenure    balance  num_of_products  has_cr_card  \\\n",
       "0           619   42     2.0       0.00                1            1   \n",
       "1           608   41     1.0   83807.86                1            0   \n",
       "2           502   42     8.0  159660.80                3            1   \n",
       "3           699   39     1.0       0.00                2            0   \n",
       "4           850   43     2.0  125510.82                1            1   \n",
       "\n",
       "   is_active_member  estimated_salary  exited  geography_Germany  \\\n",
       "0                 1         101348.88       1                  0   \n",
       "1                 1         112542.58       0                  0   \n",
       "2                 0         113931.57       1                  0   \n",
       "3                 0          93826.63       0                  0   \n",
       "4                 1          79084.10       0                  0   \n",
       "\n",
       "   geography_Spain  gender_Male  \n",
       "0                0            0  \n",
       "1                1            0  \n",
       "2                0            0  \n",
       "3                0            0  \n",
       "4                1            0  "
      ]
     },
     "execution_count": 10,
     "metadata": {},
     "output_type": "execute_result"
    }
   ],
   "source": [
    "# избегаем возможной дамми-ловушки, потому drop_first=True\n",
    "data_ohe = pd.get_dummies(data, drop_first=True)\n",
    "data_ohe.head()"
   ]
  },
  {
   "cell_type": "markdown",
   "id": "18932e21-4d0b-4b01-9556-e752e5568639",
   "metadata": {},
   "source": [
    "Поля `geography` и `gender` были преобразованы"
   ]
  },
  {
   "cell_type": "markdown",
   "id": "deed3913-8eb7-4189-abf5-88514acd7b91",
   "metadata": {},
   "source": [
    "---\n",
    "## Подготовка обучающей, валидационной и тестовой выборок"
   ]
  },
  {
   "cell_type": "code",
   "execution_count": 11,
   "id": "5d628b91-e5d4-40cc-b5f9-8dfaa2e95d5b",
   "metadata": {},
   "outputs": [],
   "source": [
    "# определяем признаки и целевой признак\n",
    "features = data_ohe.drop(['exited'], axis=1) #признаки\n",
    "target = data_ohe['exited'] #целевой признак"
   ]
  },
  {
   "cell_type": "code",
   "execution_count": 12,
   "id": "9faacec1-35e2-4435-8082-2e344e372afe",
   "metadata": {},
   "outputs": [],
   "source": [
    "# разделяем исходные данные на обучающую(60%) валидационную (20%) и тестовую(20%) выборки\n",
    "\n",
    "# первым шагом отделяем тестовые данные\n",
    "features_train, features_test, target_train, target_test = train_test_split(\n",
    "   features, target, test_size=0.2, random_state=12345)\n",
    "\n",
    "# вторым шагом отделяем валидационные данные\n",
    "features_train, features_valid, target_train, target_valid = train_test_split(\n",
    "   features_train, target_train, test_size=0.25, random_state=12345)\n"
   ]
  },
  {
   "cell_type": "code",
   "execution_count": 13,
   "id": "6f422b7d-fa67-452c-8c2f-d06ac0132bfe",
   "metadata": {},
   "outputs": [],
   "source": [
    "# проведем скалирование числовых признаков\n",
    "numeric = ['credit_score', 'age', 'tenure', 'balance', 'num_of_products', 'estimated_salary']\n",
    "\n",
    "scaler = StandardScaler()\n",
    "scaler.fit(features_train[numeric])\n",
    "features_train[numeric] = scaler.transform(features_train[numeric])\n",
    "features_valid[numeric] = scaler.transform(features_valid[numeric])\n",
    "features_test[numeric] = scaler.transform(features_test[numeric])"
   ]
  },
  {
   "cell_type": "code",
   "execution_count": 14,
   "id": "3fca70bf-bcdb-46cf-a393-0f716bf59873",
   "metadata": {},
   "outputs": [
    {
     "name": "stdout",
     "output_type": "stream",
     "text": [
      "features_train.shape (6000, 11)\n",
      "features_valid.shape (2000, 11)\n",
      "features_test.shape (2000, 11)\n"
     ]
    }
   ],
   "source": [
    "print(\"features_train.shape\", features_train.shape)\n",
    "print(\"features_valid.shape\", features_valid.shape)\n",
    "print(\"features_test.shape\", features_test.shape)"
   ]
  },
  {
   "cell_type": "markdown",
   "id": "b64a0734-3ed8-4267-ba96-63c735527bf4",
   "metadata": {},
   "source": [
    "---\n",
    "## Исследование дисбаланса классов"
   ]
  },
  {
   "cell_type": "code",
   "execution_count": 15,
   "id": "41d50348-0483-427e-ae9d-cd05b34fecff",
   "metadata": {},
   "outputs": [
    {
     "data": {
      "image/png": "[encoded data removed]",
      "text/plain": [
       "<Figure size 216x216 with 1 Axes>"
      ]
     },
     "metadata": {
      "needs_background": "light"
     },
     "output_type": "display_data"
    },
    {
     "name": "stdout",
     "output_type": "stream",
     "text": [
      "Баланс классов в обучающей выборке: \n",
      "Samples in class 0:  4781\n",
      "Samples in class 1:  1219\n"
     ]
    }
   ],
   "source": [
    "# разносим отрицательные и положительные классы по разным переменным\n",
    "t = [(d) for d in target_train if d==0]\n",
    "s = [(d) for d in target_train if d==1]\n",
    "\n",
    "# график\n",
    "target_train.plot(kind='hist', bins=3 , range = (0,1), figsize=(3,3), title='Баланс классов в обучающей выборке' )\n",
    "plt.show()\n",
    "\n",
    "# печатаем выводы\n",
    "print('Баланс классов в обучающей выборке: ')\n",
    "print('Samples in class 0: ',len(t))\n",
    "print('Samples in class 1: ',len(s))"
   ]
  },
  {
   "cell_type": "markdown",
   "id": "d88835ab-bd96-43dc-a5c2-e81e76d8c1ca",
   "metadata": {},
   "source": [
    "**Промежуточные выводы**\n",
    "\n",
    "Классы не сбалансированы, наблюдается перекос в сторону отрицательных ответов."
   ]
  },
  {
   "cell_type": "markdown",
   "id": "f101cbba-f8ff-4bd0-ac07-6f5597d90665",
   "metadata": {
    "tags": []
   },
   "source": [
    "---\n",
    "## Обучение модели без балансировки классов"
   ]
  },
  {
   "cell_type": "code",
   "execution_count": 16,
   "id": "bc081280-3a60-46e6-b4ab-23007169e4a1",
   "metadata": {},
   "outputs": [
    {
     "name": "stdout",
     "output_type": "stream",
     "text": [
      "Метрики обучающей -> валидационной выборки:\n",
      "     F1 : 0.33 -> 0.30\n",
      "AUC-ROC : 0.77 -> 0.77\n"
     ]
    }
   ],
   "source": [
    "# обучим модель без балансировки классов\n",
    "model = LogisticRegression(random_state=12345, solver='liblinear')\n",
    "model.fit(features_train, target_train)\n",
    "\n",
    "# посчитаем метрики\n",
    "predicted_train = model.predict(features_train)\n",
    "predicted_valid = model.predict(features_valid)\n",
    "\n",
    "print(\"Метрики обучающей -> валидационной выборки:\")\n",
    "print(\"     F1 : %0.2f\" %  f1_score(target_train, predicted_train) , \n",
    "      \"-> %0.2f\" % f1_score(target_valid, predicted_valid))\n",
    "print(\"AUC-ROC : %0.2f\" %  roc_auc_score(target_train, model.predict_proba(features_train)[:, 1]), \n",
    "      \"-> %0.2f\" % roc_auc_score(target_valid, model.predict_proba(features_valid)[:, 1]))"
   ]
  },
  {
   "cell_type": "code",
   "execution_count": 17,
   "id": "bcbe8593-8eb1-4177-96d9-ddfe02745bbd",
   "metadata": {},
   "outputs": [
    {
     "name": "stdout",
     "output_type": "stream",
     "text": [
      "Precision модели на валидационной выборке: 0.20460358056265984\n",
      "Recall модели на валидационной выборке: 0.5714285714285714\n"
     ]
    },
    {
     "data": {
      "image/png": "[encoded data removed]",
      "text/plain": [
       "<Figure size 300x300 with 2 Axes>"
      ]
     },
     "metadata": {},
     "output_type": "display_data"
    }
   ],
   "source": [
    "print(\"Precision модели на валидационной выборке:\", precision_score(predicted_valid, target_valid ))\n",
    "print(\"Recall модели на валидационной выборке:\", recall_score(predicted_valid, target_valid))\n",
    "\n",
    "mpl.style.use('default')  \n",
    "cm = confusion_matrix(target_valid, predicted_valid, labels=model.classes_)\n",
    "disp = ConfusionMatrixDisplay(confusion_matrix=cm, display_labels=model.classes_)\n",
    "fig, ax = plt.subplots(figsize=(3,3)) \n",
    "disp.plot(ax=ax)\n",
    "\n",
    "plt.show()"
   ]
  },
  {
   "cell_type": "markdown",
   "id": "8b18a9d6-95b0-4628-b490-0bba40ea47a6",
   "metadata": {},
   "source": [
    "### Промежуточные выводы\n",
    "\n",
    "Классы не сбалансированы, об этом говорит низкое значение F1-меры. Низкий Precision говорит о том, что модель не выявляет достаточное количество положительных классов. То есть не предсказывает людей, которые прекратят пользоваться услугами банка. На валидационной выборке модель не выявила 368 положительных значений цеоевого класса (более 90%). Имеет место дисбаланс классов, примерно 1 к 5. Нужна балансировка классов при обучении модели."
   ]
  },
  {
   "cell_type": "markdown",
   "id": "97026b72-221d-42e2-9e90-6a82301e0bf6",
   "metadata": {},
   "source": [
    "---\n",
    "## Обучение разных моделей с балансировкой классов"
   ]
  },
  {
   "cell_type": "markdown",
   "id": "10d248b5-9c74-41e4-bbe4-30bc7de784d1",
   "metadata": {},
   "source": [
    "**LogisticRegression**"
   ]
  },
  {
   "cell_type": "code",
   "execution_count": 18,
   "id": "db182ac4-0c60-4dcc-ad20-108a6be7793f",
   "metadata": {},
   "outputs": [
    {
     "name": "stdout",
     "output_type": "stream",
     "text": [
      "     F1 : 0.50 (train) -> 0.47 (valid)\n",
      "AUC-ROC : 0.77 (train) -> 0.77 (valid)\n"
     ]
    }
   ],
   "source": [
    "# обучим модель c балансировкой классов\n",
    "model_lr = LogisticRegression(random_state=12345, solver='liblinear', class_weight='balanced')\n",
    "\n",
    "model_lr.fit(features_train, target_train)\n",
    "\n",
    "# посчитаем метрики\n",
    "predicted_train = model_lr.predict(features_train)\n",
    "predicted_valid = model_lr.predict(features_valid)\n",
    " \n",
    "print(\"     F1 : %0.2f\" %  f1_score(target_train, predicted_train) , \n",
    "      \"(train) -> %0.2f\" % f1_score(target_valid, predicted_valid), \"(valid)\")\n",
    "print(\"AUC-ROC : %0.2f\" %  roc_auc_score(target_train, model_lr.predict_proba(features_train)[:, 1]), \n",
    "      \"(train) -> %0.2f\" % roc_auc_score(target_valid, model_lr.predict_proba(features_valid)[:, 1]), \"(valid)\")"
   ]
  },
  {
   "cell_type": "markdown",
   "id": "368e2d35-e695-4f3b-a8f0-8ae13b43b9c2",
   "metadata": {},
   "source": [
    "**DecisionTreeClassifier**"
   ]
  },
  {
   "cell_type": "code",
   "execution_count": 19,
   "id": "d211eea6-a5cb-4ad5-8e7b-d98bcd6f6ebc",
   "metadata": {},
   "outputs": [
    {
     "name": "stdout",
     "output_type": "stream",
     "text": [
      "F1 лучшей модели: 0.5587044534412956\n",
      "max_depth лучшей модели: 6\n"
     ]
    },
    {
     "data": {
      "image/png": "[encoded data removed]",
      "text/plain": [
       "<Figure size 500x300 with 1 Axes>"
      ]
     },
     "metadata": {},
     "output_type": "display_data"
    },
    {
     "name": "stdout",
     "output_type": "stream",
     "text": [
      "     F1 : 0.61 (train) -> 0.56 (valid)\n",
      "AUC-ROC : 0.87 (train) -> 0.81 (valid)\n"
     ]
    }
   ],
   "source": [
    "best_model_dtc = None\n",
    "best_result_dtc = 0\n",
    "best_depth_dtc = 0\n",
    "\n",
    "plot_data=[]\n",
    "\n",
    "for depth in range(1, 11):\n",
    "    model = DecisionTreeClassifier(random_state=12345, max_depth=depth, class_weight='balanced') # создаем модель\n",
    "    model.fit(features_train, target_train) # обучаем модель\n",
    "    #model.fit(features_upsampled, target_upsampled)\n",
    "    predictions = model.predict(features_valid) # получаем предсказания модели на валидационных данных\n",
    "\n",
    "    result = f1_score(target_valid,  model.predict(features_valid)) # оцениваем качество модели по валидационным ответам\n",
    "    result_train = f1_score(target_train, model.predict(features_train))\n",
    "\n",
    "    plot_data.append([depth,  result_train, result])\n",
    "    if result > best_result_dtc: # сохраняем лучшую модель\n",
    "        best_model_dtc = model\n",
    "        best_result_dtc = result\n",
    "        best_depth_dtc = depth\n",
    "\n",
    "mpl.style.use('ggplot') # добавим стиля\n",
    "plot_data = pd.DataFrame(plot_data)\n",
    "plot_data.columns = ['max_depth','train','valid']\n",
    "plot_data.set_index(['max_depth'], inplace=True)\n",
    "plot_data.plot(figsize=(5,3), title='F1 обучающей и валидационной выборки для разных max_depth')\n",
    "        \n",
    "print(\"F1 лучшей модели:\", best_result_dtc)\n",
    "print(\"max_depth лучшей модели:\", best_depth_dtc)\n",
    "\n",
    "plt.show()\n",
    "\n",
    "# посчитаем метрики\n",
    "predicted_train = best_model_dtc.predict(features_train)\n",
    "predicted_valid = best_model_dtc.predict(features_valid)\n",
    "\n",
    "print(\"     F1 : %0.2f\" %  f1_score(target_train, predicted_train) , \n",
    "      \"(train) -> %0.2f\" % f1_score(target_valid, predicted_valid), \"(valid)\")\n",
    "print(\"AUC-ROC : %0.2f\" %  roc_auc_score(target_train, best_model_dtc.predict_proba(features_train)[:, 1]), \n",
    "      \"(train) -> %0.2f\" % roc_auc_score(target_valid, best_model_dtc.predict_proba(features_valid)[:, 1]), \"(valid)\")"
   ]
  },
  {
   "cell_type": "markdown",
   "id": "b734a5bc-5dc3-466e-b47f-287a349d39ad",
   "metadata": {},
   "source": [
    "**RandomForestClassifier**"
   ]
  },
  {
   "cell_type": "code",
   "execution_count": 20,
   "id": "4e8fb6c9-9b90-43c3-8a88-2d1c0cea30e8",
   "metadata": {},
   "outputs": [
    {
     "name": "stdout",
     "output_type": "stream",
     "text": [
      "F1 лучшей модели: 0.5989304812834224\n",
      "Количество деревьев: 60\n",
      "max_depth лучшей модели: 11\n"
     ]
    },
    {
     "data": {
      "image/png": "[encoded data removed]",
      "text/plain": [
       "<Figure size 500x300 with 2 Axes>"
      ]
     },
     "metadata": {},
     "output_type": "display_data"
    },
    {
     "name": "stdout",
     "output_type": "stream",
     "text": [
      "     F1 : 0.86 (train) -> 0.60 (valid)\n",
      "AUC-ROC : 0.98 (train) -> 0.85 (valid)\n",
      "CPU times: user 52.1 s, sys: 212 ms, total: 52.3 s\n",
      "Wall time: 52.3 s\n"
     ]
    }
   ],
   "source": [
    "%%time\n",
    "\n",
    "best_model_rfc = None\n",
    "best_result_rfc = 0\n",
    "best_est = 0\n",
    "best_depth_rfc = 0\n",
    "\n",
    "plot_data=[]\n",
    "\n",
    "for est in range(10, 101, 10): # протестируем разное количество деревьев, от 10 до 100 с шагом 10\n",
    "    for depth in range (1, 21):  \n",
    "        model =  RandomForestClassifier(random_state=12345, n_estimators=est, max_depth=depth, class_weight='balanced')# создаем модель \n",
    "        model.fit(features_train, target_train) # обучаем модель\n",
    "        #model.fit(features_upsampled, target_upsampled)\n",
    "        \n",
    "        predictions = model.predict(features_valid) # получаем предсказания модели на валидационных данных\n",
    "        result = f1_score(target_valid, predictions) # оцениваем качество модели по валидационным ответам\n",
    "        \n",
    "        plot_data.append([est, depth, result])\n",
    "            \n",
    "        if result > best_result_rfc:\n",
    "            best_model_rfc = model\n",
    "            best_result_rfc = result\n",
    "            best_est = est\n",
    "            best_depth_rfc = depth\n",
    "\n",
    "print(\"F1 лучшей модели:\", best_result_rfc)\n",
    "print(\"Количество деревьев:\", best_est)\n",
    "print(\"max_depth лучшей модели:\", best_depth_rfc)\n",
    "\n",
    "# оторбразим на графике plt.style.available\n",
    "mpl.style.use('seaborn') \n",
    "plot_data = pd.DataFrame(plot_data)\n",
    "plot_data.columns = ['est(trees)', 'max_depth', 'valid']\n",
    "plot_data.plot.scatter(x='est(trees)', y='max_depth', s=50, c='valid', cmap='jet', marker='s',  figsize=(5,3), \n",
    "                       title='F1 валидационной выборки для разных параметров max_depth и est')\n",
    "plt.show()\n",
    "\n",
    "# посчитаем метрики\n",
    "predicted_train = best_model_rfc.predict(features_train)\n",
    "predicted_valid = best_model_rfc.predict(features_valid)\n",
    "\n",
    "print(\"     F1 : %0.2f\" %  f1_score(target_train, predicted_train) , \n",
    "      \"(train) -> %0.2f\" % f1_score(target_valid, predicted_valid), \"(valid)\")\n",
    "print(\"AUC-ROC : %0.2f\" %  roc_auc_score(target_train, best_model_rfc.predict_proba(features_train)[:, 1]), \n",
    "      \"(train) -> %0.2f\" % roc_auc_score(target_valid, best_model_rfc.predict_proba(features_valid)[:, 1]), \"(valid)\")"
   ]
  },
  {
   "cell_type": "markdown",
   "id": "3ae2c15d-73ee-4af6-91f0-29fb4c864f9e",
   "metadata": {},
   "source": [
    "**UpSampling обучающей выборки**"
   ]
  },
  {
   "cell_type": "code",
   "execution_count": 21,
   "id": "cc79bc96-6a29-4650-ad91-13aa9e9c6468",
   "metadata": {},
   "outputs": [
    {
     "data": {
      "image/png": "[encoded data removed]",
      "text/plain": [
       "<Figure size 300x300 with 1 Axes>"
      ]
     },
     "metadata": {},
     "output_type": "display_data"
    }
   ],
   "source": [
    "# функция для апсамплинга\n",
    "# repeat - количество повторений \n",
    "def upsample(features, target, repeat):\n",
    "    features_zeros = features[target == 0]\n",
    "    features_ones = features[target == 1]\n",
    "    target_zeros = target[target == 0]\n",
    "    target_ones = target[target == 1]\n",
    "\n",
    "    features_upsampled = pd.concat([features_zeros] + [features_ones] * repeat)\n",
    "    target_upsampled = pd.concat([target_zeros] + [target_ones] * repeat)\n",
    "    \n",
    "    features_upsampled, target_upsampled = shuffle(\n",
    "        features_upsampled, target_upsampled, random_state=12345)\n",
    "    \n",
    "    return features_upsampled, target_upsampled\n",
    "\n",
    "# делаем апсамплинг, множитель повторений = 4\n",
    "features_upsampled, target_upsampled = upsample(features_train, target_train, 4)\n",
    "\n",
    "# разносим отрицательные и положительные классы по разным переменным\n",
    "t = [(d) for d in target_upsampled if d==0]\n",
    "s = [(d) for d in target_upsampled if d==1]\n",
    "\n",
    "# график\n",
    "target_upsampled.plot(kind='hist', bins=3 , range = (0,1), figsize=(3,3), title='Баланс классов в upsampled выборке' )\n",
    "plt.show()"
   ]
  },
  {
   "cell_type": "code",
   "execution_count": 22,
   "id": "9f8dfdbb-b9a6-41fa-b71d-46347b6d0b5a",
   "metadata": {},
   "outputs": [
    {
     "name": "stdout",
     "output_type": "stream",
     "text": [
      "---------------------------------------- upsampled\n",
      "     F1 : 0.86 (train) -> 0.59 (valid)\n",
      "AUC-ROC : 0.99 (train) -> 0.85 (valid)\n"
     ]
    }
   ],
   "source": [
    "# переобучим модель на upsampled диапазон данных\n",
    "best_model_rfc.fit(features_upsampled, target_upsampled)\n",
    "# посчитаем метрики лучшей модели\n",
    "predicted_train = best_model_rfc.predict(features_train)\n",
    "predicted_valid = best_model_rfc.predict(features_valid)\n",
    "print('-'*40,'upsampled')\n",
    "print(\"     F1 : %0.2f\" %  f1_score(target_train, predicted_train) , \n",
    "      \"(train) -> %0.2f\" % f1_score(target_valid, predicted_valid), \"(valid)\")\n",
    "print(\"AUC-ROC : %0.2f\" %  roc_auc_score(target_train, best_model_rfc.predict_proba(features_train)[:, 1]), \n",
    "      \"(train) -> %0.2f\" % roc_auc_score(target_valid, best_model_rfc.predict_proba(features_valid)[:, 1]), \"(valid)\")"
   ]
  },
  {
   "cell_type": "markdown",
   "id": "86edce58-4ce0-4bac-8ff4-7947dc0d4cb1",
   "metadata": {},
   "source": [
    "---\n",
    "**Промежуточные выводы**\n",
    "\n",
    "Метрики до апсамплинга:\n",
    "- F1 : 0.81 (train) -> 0.60 (valid)\n",
    "- AUC-ROC : 0.97 (train) -> 0.85 (valid)\n",
    "\n",
    "Метрики на upsampled выборке:\n",
    "- F1 : 0.80 (train) -> 0.59 (valid)\n",
    "- AUC-ROC : 0.97 (train) -> 0.85 (valid)\n",
    "\n",
    "На Upsampled данных метрика F1 несколько снизилась, что отдаляет нас от цели задания. Остановим выбор на оригинальных данных.\n",
    "\n",
    "---"
   ]
  },
  {
   "cell_type": "code",
   "execution_count": 23,
   "id": "27cae632-c88c-4d83-a479-965f5b53060c",
   "metadata": {},
   "outputs": [],
   "source": [
    "# фиксируем лучшую модель\n",
    "best_model = best_model_rfc.fit(features_train, target_train)"
   ]
  },
  {
   "cell_type": "code",
   "execution_count": 24,
   "id": "a0d439bf-03f4-433a-927a-0274db28c0a9",
   "metadata": {},
   "outputs": [
    {
     "name": "stdout",
     "output_type": "stream",
     "text": [
      "Precision модели на валидационной выборке: 0.5728900255754475\n",
      "Recall модели на валидационной выборке: 0.6274509803921569\n"
     ]
    },
    {
     "data": {
      "image/png": "[encoded data removed]",
      "text/plain": [
       "<Figure size 300x300 with 2 Axes>"
      ]
     },
     "metadata": {},
     "output_type": "display_data"
    }
   ],
   "source": [
    "predicted_valid = best_model.predict(features_valid)\n",
    "print(\"Precision модели на валидационной выборке:\", precision_score(predicted_valid, target_valid ))\n",
    "print(\"Recall модели на валидационной выборке:\", recall_score(predicted_valid, target_valid))\n",
    "\n",
    "mpl.style.use('default')  \n",
    "cm = confusion_matrix(target_valid, predicted_valid, labels=model.classes_)\n",
    "disp = ConfusionMatrixDisplay(confusion_matrix=cm, display_labels=model.classes_)\n",
    "fig, ax = plt.subplots(figsize=(3,3)) \n",
    "disp.plot(ax=ax)\n",
    "\n",
    "plt.show()"
   ]
  },
  {
   "cell_type": "markdown",
   "id": "4586b9dc-314f-4598-92eb-5886f9c963af",
   "metadata": {},
   "source": [
    "### Промежуточные выводы"
   ]
  },
  {
   "cell_type": "markdown",
   "id": "ec401747-8479-4d9e-998d-8462191abfd6",
   "metadata": {},
   "source": [
    "Применение параметра class_weight='balanced' дает позитивные результаты - для модели логистической регрессии удалось повысить метрику F1 c 0.10 до 0.47. Однако результаты для логистической регрессии ниже целевых - 0.59.\n",
    "\n",
    "Были испытаны модели `решающего дерева` и `случайного леса`, где вторая показала наилучшие результаты. Для 90 деревьев с максимальной глубиной 10 **метрика F1 составляет 0.60**, у этой модели есть предпосылки достигнуть целевого уровня на тестовой выборке."
   ]
  },
  {
   "cell_type": "markdown",
   "id": "f7cf87b8-995f-400b-bbb7-252c4a89359c",
   "metadata": {
    "tags": []
   },
   "source": [
    "---\n",
    "## ROC кривая"
   ]
  },
  {
   "cell_type": "code",
   "execution_count": 25,
   "id": "f1ce3356-2dfe-45e6-b823-560211e951e8",
   "metadata": {},
   "outputs": [
    {
     "data": {
      "image/png": "[encoded data removed]",
      "text/plain": [
       "<Figure size 400x300 with 1 Axes>"
      ]
     },
     "metadata": {},
     "output_type": "display_data"
    }
   ],
   "source": [
    "probabilities_valid = best_model.predict_proba(features_valid)\n",
    "probabilities_one_valid = probabilities_valid[:, 1]\n",
    "\n",
    "fpr, tpr, thresholds = roc_curve(target_valid, probabilities_one_valid) \n",
    "\n",
    "plt.figure(figsize=(4,3))\n",
    "\n",
    "# ROC-кривая лучшей модели\n",
    "roc_auc = auc(fpr, tpr)\n",
    "plt.plot(fpr, tpr, label='ROC кривая (area = %0.2f)' % roc_auc)\n",
    "\n",
    "# ROC-кривая случайной модели (выглядит как прямая)\n",
    "plt.plot([0, 1], [0, 1], linestyle='--' )\n",
    "\n",
    "# установим границы осей от 0 до 1\n",
    "plt.xlim([0,1])\n",
    "plt.ylim([0,1])\n",
    "\n",
    "plt.xlabel(\"False Positive Rate\")\n",
    "plt.ylabel(\"True Positive Rate\" )\n",
    "plt.title(\"ROC-кривая\")\n",
    "plt.legend(loc=\"lower right\")\n",
    "\n",
    "plt.show()"
   ]
  },
  {
   "cell_type": "markdown",
   "id": "6b2df1bb-4666-4311-8845-0d514416826a",
   "metadata": {},
   "source": [
    "---\n",
    "## Финальное тестирование"
   ]
  },
  {
   "cell_type": "code",
   "execution_count": 26,
   "id": "81bceb10-50ac-41c3-880e-facc61eb3108",
   "metadata": {},
   "outputs": [
    {
     "data": {
      "text/plain": [
       "RandomForestClassifier(class_weight='balanced', max_depth=11, n_estimators=60,\n",
       "                       random_state=12345)"
      ]
     },
     "execution_count": 26,
     "metadata": {},
     "output_type": "execute_result"
    }
   ],
   "source": [
    "# переобучим лучшую модель на объединенных данных из обучающей и валидационной выборок\n",
    "features_combine = pd.concat([features_train,features_valid])\n",
    "target_combine = pd.concat([target_train,target_valid])\n",
    "best_model.fit(features_combine, target_combine) # переобучаем модель"
   ]
  },
  {
   "cell_type": "code",
   "execution_count": 27,
   "id": "a09039e5-f8cf-4fe7-bb3f-e3147f3cc16d",
   "metadata": {},
   "outputs": [
    {
     "name": "stdout",
     "output_type": "stream",
     "text": [
      "F1 лучшей модели на тестовой выборке: 0.6271186440677966\n",
      "AUC-ROC лучшей модели на тестовой выборке: 0.8633452985166845\n"
     ]
    }
   ],
   "source": [
    "# проверка значения метрики F1 на тестовой выборке\n",
    "\n",
    "# получим предсказания модели на тестовой выборке\n",
    "predicted_test = best_model.predict(features_test)\n",
    "\n",
    "# посчитаем F1-меру\n",
    "print(\"F1 лучшей модели на тестовой выборке:\", f1_score(target_test, predicted_test))\n",
    "\n",
    "# посчитаем AUC-ROC\n",
    "print(\"AUC-ROC лучшей модели на тестовой выборке:\", roc_auc_score(target_test, best_model.predict_proba(features_test)[:, 1]))"
   ]
  },
  {
   "cell_type": "markdown",
   "id": "5aecdc8c-5910-48df-97ce-42fc76d85c1b",
   "metadata": {},
   "source": [
    "---\n",
    "## Общий вывод"
   ]
  },
  {
   "cell_type": "markdown",
   "id": "2f1cb784-930a-44a6-8b85-bf32eb31aa25",
   "metadata": {},
   "source": [
    "**Импорт и предобработка данных**\n",
    "- Данные были импортированы без проблем.\n",
    "- В рамках обработки данных названия столбцов были приведены к стилю snake.\n",
    "- Пропуска в данных есть в поле tenure, около 9%, заполнены медианным значением.\n",
    "\n",
    "**Подготовка данных для обучения модели**\n",
    "- Некоторые данные, бесполезные в рамках текущей задачи, были удалены из выборки.\n",
    "- Категориальные переменные были разделены методом OHE.\n",
    "- Исходные данные были разделены на обучающую, валидационную и тестовую выборку в пропорции 3:1:1\n",
    "\n",
    "**Баланс классов**\n",
    "- Классы не сбалансированы, об этом говорит низкое значение F1-меры при прогоне модели без балансировки классов. Низкий Precision говорит о том, что модель не выявляет достаточное количество положительных классов. То есть не предсказывает людей, которые прекратят пользоваться услугами банка. На валидационной выборке модель не выявила 368 положительных значений цеоевого класса (более 90%). Имеет место дисбаланс классов, примерно 1 к 5. Потребовалась балансировка классов при обучении модели.\n",
    "- С включенной балансировкой классов были испытаны модели логистической регрессии, решающего дерева и случайного леса, где последняя показала наилучшие результаты. Для 90 деревьев с максимальной глубиной 10 метрика F1 составляет 0.596, что превышает целевой уровнь.\n",
    "- Лучшая модель была дополнительно проверена на upsampled выборке, однако метрика F1 несколько ухудшилась\n",
    "\n",
    "**Итоговая модель**\n",
    "- В конечном итоге получили модель с F1 параметром 0.60 на валидационной выборке и 0.63 на тестовой. Что соответствует критериям задания."
   ]
  },
  {
   "cell_type": "markdown",
   "id": "95d8caac-f2c9-40cd-8568-3defe62ec98f",
   "metadata": {},
   "source": [
    "- [x] При масштабировании сделать fit скелера только на трейне.  \n",
    "- [x] Исследовать дисбаланс классов. \n",
    "- [x] Вычислить значения обоих метрик F1 и ROC-AUC для всех моделей. \n",
    "- [x] Исследовано меньше двух способов работы с дисбалансом. \n",
    "- [x] Запустить весь код без ошибок. \n",
    "- [x] Скорректировать все выводы. \n",
    " "
   ]
  }
 ],
 "metadata": {
  "ExecuteTimeLog": [
   {
    "duration": 1455,
    "start_time": "2022-10-09T15:35:30.137Z"
   },
   {
    "duration": 91,
    "start_time": "2022-10-09T15:35:31.594Z"
   },
   {
    "duration": 14,
    "start_time": "2022-10-09T15:35:31.687Z"
   },
   {
    "duration": 36,
    "start_time": "2022-10-09T15:35:31.702Z"
   },
   {
    "duration": 12,
    "start_time": "2022-10-09T15:35:31.739Z"
   },
   {
    "duration": 16,
    "start_time": "2022-10-09T15:35:31.752Z"
   },
   {
    "duration": 11,
    "start_time": "2022-10-09T15:35:31.770Z"
   },
   {
    "duration": 18,
    "start_time": "2022-10-09T15:35:31.782Z"
   },
   {
    "duration": 13,
    "start_time": "2022-10-09T15:35:31.802Z"
   },
   {
    "duration": 18,
    "start_time": "2022-10-09T15:35:31.817Z"
   },
   {
    "duration": 16,
    "start_time": "2022-10-09T15:35:31.836Z"
   },
   {
    "duration": 35,
    "start_time": "2022-10-09T15:35:31.854Z"
   },
   {
    "duration": 10,
    "start_time": "2022-10-09T15:35:31.891Z"
   },
   {
    "duration": 6,
    "start_time": "2022-10-09T15:35:31.903Z"
   },
   {
    "duration": 38,
    "start_time": "2022-10-09T15:35:31.910Z"
   },
   {
    "duration": 238,
    "start_time": "2022-10-09T15:35:31.999Z"
   },
   {
    "duration": 20,
    "start_time": "2022-10-09T15:35:32.238Z"
   },
   {
    "duration": 493,
    "start_time": "2022-10-09T15:35:32.259Z"
   },
   {
    "duration": 54422,
    "start_time": "2022-10-09T15:35:32.753Z"
   },
   {
    "duration": 2,
    "start_time": "2022-10-09T15:36:27.177Z"
   },
   {
    "duration": 274,
    "start_time": "2022-10-09T15:36:27.180Z"
   },
   {
    "duration": 175,
    "start_time": "2022-10-09T15:36:27.456Z"
   },
   {
    "duration": 0,
    "start_time": "2022-10-09T15:36:27.632Z"
   },
   {
    "duration": 0,
    "start_time": "2022-10-09T15:36:27.633Z"
   },
   {
    "duration": 52,
    "start_time": "2022-10-09T15:57:55.810Z"
   },
   {
    "duration": 45,
    "start_time": "2022-10-09T16:22:54.887Z"
   },
   {
    "duration": 129,
    "start_time": "2022-10-09T16:28:35.168Z"
   },
   {
    "duration": 1301,
    "start_time": "2022-10-12T10:47:38.644Z"
   },
   {
    "duration": 81,
    "start_time": "2022-10-12T10:47:39.947Z"
   },
   {
    "duration": 12,
    "start_time": "2022-10-12T10:47:40.030Z"
   },
   {
    "duration": 27,
    "start_time": "2022-10-12T10:47:40.043Z"
   },
   {
    "duration": 19,
    "start_time": "2022-10-12T10:47:40.072Z"
   },
   {
    "duration": 14,
    "start_time": "2022-10-12T10:47:40.093Z"
   },
   {
    "duration": 25,
    "start_time": "2022-10-12T10:47:40.109Z"
   },
   {
    "duration": 27,
    "start_time": "2022-10-12T10:47:40.135Z"
   },
   {
    "duration": 10,
    "start_time": "2022-10-12T10:47:40.163Z"
   },
   {
    "duration": 34,
    "start_time": "2022-10-12T10:47:40.176Z"
   },
   {
    "duration": 8,
    "start_time": "2022-10-12T10:47:40.211Z"
   },
   {
    "duration": 27,
    "start_time": "2022-10-12T10:47:40.221Z"
   },
   {
    "duration": 41,
    "start_time": "2022-10-12T10:47:40.249Z"
   },
   {
    "duration": 4,
    "start_time": "2022-10-12T10:47:40.292Z"
   },
   {
    "duration": 120,
    "start_time": "2022-10-12T10:47:40.297Z"
   },
   {
    "duration": 97,
    "start_time": "2022-10-12T10:47:40.418Z"
   },
   {
    "duration": 240,
    "start_time": "2022-10-12T10:47:40.517Z"
   },
   {
    "duration": 155,
    "start_time": "2022-10-12T10:47:40.759Z"
   },
   {
    "duration": 657,
    "start_time": "2022-10-12T10:47:40.916Z"
   },
   {
    "duration": 64263,
    "start_time": "2022-10-12T10:47:41.574Z"
   },
   {
    "duration": 162,
    "start_time": "2022-10-12T10:48:45.838Z"
   },
   {
    "duration": 691,
    "start_time": "2022-10-12T10:48:46.001Z"
   },
   {
    "duration": 391,
    "start_time": "2022-10-12T10:48:46.693Z"
   },
   {
    "duration": 164,
    "start_time": "2022-10-12T10:48:47.086Z"
   },
   {
    "duration": 163,
    "start_time": "2022-10-12T10:48:47.252Z"
   },
   {
    "duration": 492,
    "start_time": "2022-10-12T10:48:47.417Z"
   },
   {
    "duration": 58,
    "start_time": "2022-10-12T10:48:47.910Z"
   },
   {
    "duration": 1456,
    "start_time": "2022-10-13T12:28:22.752Z"
   },
   {
    "duration": 185,
    "start_time": "2022-10-13T12:28:24.210Z"
   },
   {
    "duration": 15,
    "start_time": "2022-10-13T12:28:24.396Z"
   },
   {
    "duration": 15,
    "start_time": "2022-10-13T12:28:24.413Z"
   },
   {
    "duration": 17,
    "start_time": "2022-10-13T12:28:24.430Z"
   },
   {
    "duration": 5,
    "start_time": "2022-10-13T12:28:24.448Z"
   },
   {
    "duration": 6,
    "start_time": "2022-10-13T12:28:24.454Z"
   },
   {
    "duration": 15,
    "start_time": "2022-10-13T12:28:24.461Z"
   },
   {
    "duration": 3,
    "start_time": "2022-10-13T12:28:24.478Z"
   },
   {
    "duration": 18,
    "start_time": "2022-10-13T12:28:24.504Z"
   },
   {
    "duration": 5,
    "start_time": "2022-10-13T12:28:24.523Z"
   },
   {
    "duration": 11,
    "start_time": "2022-10-13T12:28:24.529Z"
   },
   {
    "duration": 29,
    "start_time": "2022-10-13T12:28:24.541Z"
   },
   {
    "duration": 4,
    "start_time": "2022-10-13T12:28:24.572Z"
   },
   {
    "duration": 136,
    "start_time": "2022-10-13T12:28:24.578Z"
   },
   {
    "duration": 194,
    "start_time": "2022-10-13T12:28:24.715Z"
   },
   {
    "duration": 312,
    "start_time": "2022-10-13T12:28:24.910Z"
   },
   {
    "duration": 180,
    "start_time": "2022-10-13T12:28:25.224Z"
   },
   {
    "duration": 468,
    "start_time": "2022-10-13T12:28:25.406Z"
   },
   {
    "duration": 52310,
    "start_time": "2022-10-13T12:28:25.876Z"
   },
   {
    "duration": 128,
    "start_time": "2022-10-13T12:29:18.188Z"
   },
   {
    "duration": 607,
    "start_time": "2022-10-13T12:29:18.317Z"
   },
   {
    "duration": 302,
    "start_time": "2022-10-13T12:29:18.926Z"
   },
   {
    "duration": 158,
    "start_time": "2022-10-13T12:29:19.230Z"
   },
   {
    "duration": 144,
    "start_time": "2022-10-13T12:29:19.390Z"
   },
   {
    "duration": 388,
    "start_time": "2022-10-13T12:29:19.535Z"
   },
   {
    "duration": 57,
    "start_time": "2022-10-13T12:29:19.925Z"
   }
  ],
  "kernelspec": {
   "display_name": "Python 3 (ipykernel)",
   "language": "python",
   "name": "python3"
  },
  "language_info": {
   "codemirror_mode": {
    "name": "ipython",
    "version": 3
   },
   "file_extension": ".py",
   "mimetype": "text/x-python",
   "name": "python",
   "nbconvert_exporter": "python",
   "pygments_lexer": "ipython3",
   "version": "3.9.12"
  },
  "toc": {
   "base_numbering": 1,
   "nav_menu": {},
   "number_sections": true,
   "sideBar": true,
   "skip_h1_title": true,
   "title_cell": "Table of Contents",
   "title_sidebar": "Contents",
   "toc_cell": false,
   "toc_position": {},
   "toc_section_display": true,
   "toc_window_display": false
  }
 },
 "nbformat": 4,
 "nbformat_minor": 5
}
