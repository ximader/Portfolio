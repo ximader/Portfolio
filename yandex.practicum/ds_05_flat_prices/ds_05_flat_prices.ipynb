{
 "cells": [
  {
   "cell_type": "markdown",
   "metadata": {
    "tags": []
   },
   "source": [
    "# Исследование объявлений о продаже квартир"
   ]
  },
  {
   "cell_type": "code",
   "execution_count": 183,
   "metadata": {},
   "outputs": [],
   "source": [
    "# imports here\n",
    "import pandas as pd\n",
    "import seaborn as sb\n",
    "import numpy as np\n",
    "import matplotlib as mpl\n",
    "import warnings\n",
    "import matplotlib.pyplot as plt\n",
    "import missingno \n",
    "\n",
    "warnings.filterwarnings('ignore')\n",
    "pd.set_option('display.max_rows', 500) # показывает все строки, если количество строк в выводе не больше 500.\n",
    "pd.set_option('display.max_columns', 100) # показывает все строки, если количество строк в выводе не больше 500.\n",
    "pd.set_option('display.float_format', '{:.2f}'.format)\n"
   ]
  },
  {
   "cell_type": "markdown",
   "metadata": {
    "tags": []
   },
   "source": [
    "### Откройте файл с данными и изучите общую информацию. "
   ]
  },
  {
   "cell_type": "markdown",
   "metadata": {
    "tags": []
   },
   "source": [
    "#### Загрузка данных"
   ]
  },
  {
   "cell_type": "code",
   "execution_count": 184,
   "metadata": {},
   "outputs": [
    {
     "name": "stdout",
     "output_type": "stream",
     "text": [
      "<class 'pandas.core.frame.DataFrame'>\n",
      "RangeIndex: 23699 entries, 0 to 23698\n",
      "Data columns (total 22 columns):\n",
      " #   Column                Non-Null Count  Dtype  \n",
      "---  ------                --------------  -----  \n",
      " 0   total_images          23699 non-null  int64  \n",
      " 1   last_price            23699 non-null  float64\n",
      " 2   total_area            23699 non-null  float64\n",
      " 3   first_day_exposition  23699 non-null  object \n",
      " 4   rooms                 23699 non-null  int64  \n",
      " 5   ceiling_height        14504 non-null  float64\n",
      " 6   floors_total          23613 non-null  float64\n",
      " 7   living_area           21796 non-null  float64\n",
      " 8   floor                 23699 non-null  int64  \n",
      " 9   is_apartment          2775 non-null   object \n",
      " 10  studio                23699 non-null  bool   \n",
      " 11  open_plan             23699 non-null  bool   \n",
      " 12  kitchen_area          21421 non-null  float64\n",
      " 13  balcony               12180 non-null  float64\n",
      " 14  locality_name         23650 non-null  object \n",
      " 15  airports_nearest      18157 non-null  float64\n",
      " 16  cityCenters_nearest   18180 non-null  float64\n",
      " 17  parks_around3000      18181 non-null  float64\n",
      " 18  parks_nearest         8079 non-null   float64\n",
      " 19  ponds_around3000      18181 non-null  float64\n",
      " 20  ponds_nearest         9110 non-null   float64\n",
      " 21  days_exposition       20518 non-null  float64\n",
      "dtypes: bool(2), float64(14), int64(3), object(3)\n",
      "memory usage: 3.7+ MB\n"
     ]
    },
    {
     "data": {
      "text/html": [
       "<div>\n",
       "<style scoped>\n",
       "    .dataframe tbody tr th:only-of-type {\n",
       "        vertical-align: middle;\n",
       "    }\n",
       "\n",
       "    .dataframe tbody tr th {\n",
       "        vertical-align: top;\n",
       "    }\n",
       "\n",
       "    .dataframe thead th {\n",
       "        text-align: right;\n",
       "    }\n",
       "</style>\n",
       "<table border=\"1\" class=\"dataframe\">\n",
       "  <thead>\n",
       "    <tr style=\"text-align: right;\">\n",
       "      <th></th>\n",
       "      <th>total_images</th>\n",
       "      <th>last_price</th>\n",
       "      <th>total_area</th>\n",
       "      <th>first_day_exposition</th>\n",
       "      <th>rooms</th>\n",
       "      <th>ceiling_height</th>\n",
       "      <th>floors_total</th>\n",
       "      <th>living_area</th>\n",
       "      <th>floor</th>\n",
       "      <th>is_apartment</th>\n",
       "      <th>studio</th>\n",
       "      <th>open_plan</th>\n",
       "      <th>kitchen_area</th>\n",
       "      <th>balcony</th>\n",
       "      <th>locality_name</th>\n",
       "      <th>airports_nearest</th>\n",
       "      <th>cityCenters_nearest</th>\n",
       "      <th>parks_around3000</th>\n",
       "      <th>parks_nearest</th>\n",
       "      <th>ponds_around3000</th>\n",
       "      <th>ponds_nearest</th>\n",
       "      <th>days_exposition</th>\n",
       "    </tr>\n",
       "  </thead>\n",
       "  <tbody>\n",
       "    <tr>\n",
       "      <th>0</th>\n",
       "      <td>20</td>\n",
       "      <td>13000000.00</td>\n",
       "      <td>108.00</td>\n",
       "      <td>2019-03-07T00:00:00</td>\n",
       "      <td>3</td>\n",
       "      <td>2.70</td>\n",
       "      <td>16.00</td>\n",
       "      <td>51.00</td>\n",
       "      <td>8</td>\n",
       "      <td>NaN</td>\n",
       "      <td>False</td>\n",
       "      <td>False</td>\n",
       "      <td>25.00</td>\n",
       "      <td>NaN</td>\n",
       "      <td>Санкт-Петербург</td>\n",
       "      <td>18863.00</td>\n",
       "      <td>16028.00</td>\n",
       "      <td>1.00</td>\n",
       "      <td>482.00</td>\n",
       "      <td>2.00</td>\n",
       "      <td>755.00</td>\n",
       "      <td>NaN</td>\n",
       "    </tr>\n",
       "    <tr>\n",
       "      <th>1</th>\n",
       "      <td>7</td>\n",
       "      <td>3350000.00</td>\n",
       "      <td>40.40</td>\n",
       "      <td>2018-12-04T00:00:00</td>\n",
       "      <td>1</td>\n",
       "      <td>NaN</td>\n",
       "      <td>11.00</td>\n",
       "      <td>18.60</td>\n",
       "      <td>1</td>\n",
       "      <td>NaN</td>\n",
       "      <td>False</td>\n",
       "      <td>False</td>\n",
       "      <td>11.00</td>\n",
       "      <td>2.00</td>\n",
       "      <td>посёлок Шушары</td>\n",
       "      <td>12817.00</td>\n",
       "      <td>18603.00</td>\n",
       "      <td>0.00</td>\n",
       "      <td>NaN</td>\n",
       "      <td>0.00</td>\n",
       "      <td>NaN</td>\n",
       "      <td>81.00</td>\n",
       "    </tr>\n",
       "    <tr>\n",
       "      <th>2</th>\n",
       "      <td>10</td>\n",
       "      <td>5196000.00</td>\n",
       "      <td>56.00</td>\n",
       "      <td>2015-08-20T00:00:00</td>\n",
       "      <td>2</td>\n",
       "      <td>NaN</td>\n",
       "      <td>5.00</td>\n",
       "      <td>34.30</td>\n",
       "      <td>4</td>\n",
       "      <td>NaN</td>\n",
       "      <td>False</td>\n",
       "      <td>False</td>\n",
       "      <td>8.30</td>\n",
       "      <td>0.00</td>\n",
       "      <td>Санкт-Петербург</td>\n",
       "      <td>21741.00</td>\n",
       "      <td>13933.00</td>\n",
       "      <td>1.00</td>\n",
       "      <td>90.00</td>\n",
       "      <td>2.00</td>\n",
       "      <td>574.00</td>\n",
       "      <td>558.00</td>\n",
       "    </tr>\n",
       "    <tr>\n",
       "      <th>3</th>\n",
       "      <td>0</td>\n",
       "      <td>64900000.00</td>\n",
       "      <td>159.00</td>\n",
       "      <td>2015-07-24T00:00:00</td>\n",
       "      <td>3</td>\n",
       "      <td>NaN</td>\n",
       "      <td>14.00</td>\n",
       "      <td>NaN</td>\n",
       "      <td>9</td>\n",
       "      <td>NaN</td>\n",
       "      <td>False</td>\n",
       "      <td>False</td>\n",
       "      <td>NaN</td>\n",
       "      <td>0.00</td>\n",
       "      <td>Санкт-Петербург</td>\n",
       "      <td>28098.00</td>\n",
       "      <td>6800.00</td>\n",
       "      <td>2.00</td>\n",
       "      <td>84.00</td>\n",
       "      <td>3.00</td>\n",
       "      <td>234.00</td>\n",
       "      <td>424.00</td>\n",
       "    </tr>\n",
       "    <tr>\n",
       "      <th>4</th>\n",
       "      <td>2</td>\n",
       "      <td>10000000.00</td>\n",
       "      <td>100.00</td>\n",
       "      <td>2018-06-19T00:00:00</td>\n",
       "      <td>2</td>\n",
       "      <td>3.03</td>\n",
       "      <td>14.00</td>\n",
       "      <td>32.00</td>\n",
       "      <td>13</td>\n",
       "      <td>NaN</td>\n",
       "      <td>False</td>\n",
       "      <td>False</td>\n",
       "      <td>41.00</td>\n",
       "      <td>NaN</td>\n",
       "      <td>Санкт-Петербург</td>\n",
       "      <td>31856.00</td>\n",
       "      <td>8098.00</td>\n",
       "      <td>2.00</td>\n",
       "      <td>112.00</td>\n",
       "      <td>1.00</td>\n",
       "      <td>48.00</td>\n",
       "      <td>121.00</td>\n",
       "    </tr>\n",
       "  </tbody>\n",
       "</table>\n",
       "</div>"
      ],
      "text/plain": [
       "   total_images  last_price  total_area first_day_exposition  rooms  \\\n",
       "0            20 13000000.00      108.00  2019-03-07T00:00:00      3   \n",
       "1             7  3350000.00       40.40  2018-12-04T00:00:00      1   \n",
       "2            10  5196000.00       56.00  2015-08-20T00:00:00      2   \n",
       "3             0 64900000.00      159.00  2015-07-24T00:00:00      3   \n",
       "4             2 10000000.00      100.00  2018-06-19T00:00:00      2   \n",
       "\n",
       "   ceiling_height  floors_total  living_area  floor is_apartment  studio  \\\n",
       "0            2.70         16.00        51.00      8          NaN   False   \n",
       "1             NaN         11.00        18.60      1          NaN   False   \n",
       "2             NaN          5.00        34.30      4          NaN   False   \n",
       "3             NaN         14.00          NaN      9          NaN   False   \n",
       "4            3.03         14.00        32.00     13          NaN   False   \n",
       "\n",
       "   open_plan  kitchen_area  balcony    locality_name  airports_nearest  \\\n",
       "0      False         25.00      NaN  Санкт-Петербург          18863.00   \n",
       "1      False         11.00     2.00   посёлок Шушары          12817.00   \n",
       "2      False          8.30     0.00  Санкт-Петербург          21741.00   \n",
       "3      False           NaN     0.00  Санкт-Петербург          28098.00   \n",
       "4      False         41.00      NaN  Санкт-Петербург          31856.00   \n",
       "\n",
       "   cityCenters_nearest  parks_around3000  parks_nearest  ponds_around3000  \\\n",
       "0             16028.00              1.00         482.00              2.00   \n",
       "1             18603.00              0.00            NaN              0.00   \n",
       "2             13933.00              1.00          90.00              2.00   \n",
       "3              6800.00              2.00          84.00              3.00   \n",
       "4              8098.00              2.00         112.00              1.00   \n",
       "\n",
       "   ponds_nearest  days_exposition  \n",
       "0         755.00              NaN  \n",
       "1            NaN            81.00  \n",
       "2         574.00           558.00  \n",
       "3         234.00           424.00  \n",
       "4          48.00           121.00  "
      ]
     },
     "metadata": {},
     "output_type": "display_data"
    }
   ],
   "source": [
    "raw_data = pd.read_csv('datasets/real_estate_data.csv',  sep='\\t')\n",
    "\n",
    "raw_data.info()\n",
    "display(raw_data.head())"
   ]
  },
  {
   "cell_type": "markdown",
   "metadata": {
    "tags": []
   },
   "source": [
    "#### Построение гистограммы для всех столбцов таблицы"
   ]
  },
  {
   "cell_type": "code",
   "execution_count": 185,
   "metadata": {},
   "outputs": [
    {
     "data": {
      "text/plain": [
       "array([[<AxesSubplot:title={'center':'total_images'}>,\n",
       "        <AxesSubplot:title={'center':'last_price'}>,\n",
       "        <AxesSubplot:title={'center':'total_area'}>,\n",
       "        <AxesSubplot:title={'center':'rooms'}>],\n",
       "       [<AxesSubplot:title={'center':'ceiling_height'}>,\n",
       "        <AxesSubplot:title={'center':'floors_total'}>,\n",
       "        <AxesSubplot:title={'center':'living_area'}>,\n",
       "        <AxesSubplot:title={'center':'floor'}>],\n",
       "       [<AxesSubplot:title={'center':'kitchen_area'}>,\n",
       "        <AxesSubplot:title={'center':'balcony'}>,\n",
       "        <AxesSubplot:title={'center':'airports_nearest'}>,\n",
       "        <AxesSubplot:title={'center':'cityCenters_nearest'}>],\n",
       "       [<AxesSubplot:title={'center':'parks_around3000'}>,\n",
       "        <AxesSubplot:title={'center':'parks_nearest'}>,\n",
       "        <AxesSubplot:title={'center':'ponds_around3000'}>,\n",
       "        <AxesSubplot:title={'center':'ponds_nearest'}>],\n",
       "       [<AxesSubplot:title={'center':'days_exposition'}>, <AxesSubplot:>,\n",
       "        <AxesSubplot:>, <AxesSubplot:>]], dtype=object)"
      ]
     },
     "execution_count": 185,
     "metadata": {},
     "output_type": "execute_result"
    },
    {
     "data": {
      "image/png": "[encoded data removed]",
      "text/plain": [
       "<Figure size 1080x1440 with 20 Axes>"
      ]
     },
     "metadata": {
      "needs_background": "light"
     },
     "output_type": "display_data"
    }
   ],
   "source": [
    "raw_data.hist(figsize=(15, 20))"
   ]
  },
  {
   "cell_type": "markdown",
   "metadata": {},
   "source": [
    "---\n",
    "##### Промежуточные выводы\n",
    "\n",
    "Датафрейм содержит значительное количество пропусков, которые будем исправлять на следующем этапе. Описание полей имеется, так что структура данных ясна."
   ]
  },
  {
   "cell_type": "markdown",
   "metadata": {
    "tags": []
   },
   "source": [
    "### Предобработка данных"
   ]
  },
  {
   "cell_type": "markdown",
   "metadata": {
    "tags": []
   },
   "source": [
    "#### Заполнение пропусков"
   ]
  },
  {
   "cell_type": "markdown",
   "metadata": {},
   "source": [
    "##### **Выявление**"
   ]
  },
  {
   "cell_type": "code",
   "execution_count": 186,
   "metadata": {},
   "outputs": [
    {
     "name": "stdout",
     "output_type": "stream",
     "text": [
      "Количество строк в выборке: 23699\n"
     ]
    },
    {
     "data": {
      "text/html": [
       "<div>\n",
       "<style scoped>\n",
       "    .dataframe tbody tr th:only-of-type {\n",
       "        vertical-align: middle;\n",
       "    }\n",
       "\n",
       "    .dataframe tbody tr th {\n",
       "        vertical-align: top;\n",
       "    }\n",
       "\n",
       "    .dataframe thead th {\n",
       "        text-align: right;\n",
       "    }\n",
       "</style>\n",
       "<table border=\"1\" class=\"dataframe\">\n",
       "  <thead>\n",
       "    <tr style=\"text-align: right;\">\n",
       "      <th></th>\n",
       "      <th>empties</th>\n",
       "      <th>empties%</th>\n",
       "      <th>median</th>\n",
       "    </tr>\n",
       "  </thead>\n",
       "  <tbody>\n",
       "    <tr>\n",
       "      <th>total_images</th>\n",
       "      <td>0</td>\n",
       "      <td>0.00</td>\n",
       "      <td>9.00</td>\n",
       "    </tr>\n",
       "    <tr>\n",
       "      <th>last_price</th>\n",
       "      <td>0</td>\n",
       "      <td>0.00</td>\n",
       "      <td>4650000.00</td>\n",
       "    </tr>\n",
       "    <tr>\n",
       "      <th>total_area</th>\n",
       "      <td>0</td>\n",
       "      <td>0.00</td>\n",
       "      <td>52.00</td>\n",
       "    </tr>\n",
       "    <tr>\n",
       "      <th>first_day_exposition</th>\n",
       "      <td>0</td>\n",
       "      <td>0.00</td>\n",
       "      <td>NaN</td>\n",
       "    </tr>\n",
       "    <tr>\n",
       "      <th>rooms</th>\n",
       "      <td>0</td>\n",
       "      <td>0.00</td>\n",
       "      <td>2.00</td>\n",
       "    </tr>\n",
       "    <tr>\n",
       "      <th>ceiling_height</th>\n",
       "      <td>9195</td>\n",
       "      <td>38.80</td>\n",
       "      <td>2.65</td>\n",
       "    </tr>\n",
       "    <tr>\n",
       "      <th>floors_total</th>\n",
       "      <td>86</td>\n",
       "      <td>0.36</td>\n",
       "      <td>9.00</td>\n",
       "    </tr>\n",
       "    <tr>\n",
       "      <th>living_area</th>\n",
       "      <td>1903</td>\n",
       "      <td>8.03</td>\n",
       "      <td>30.00</td>\n",
       "    </tr>\n",
       "    <tr>\n",
       "      <th>floor</th>\n",
       "      <td>0</td>\n",
       "      <td>0.00</td>\n",
       "      <td>4.00</td>\n",
       "    </tr>\n",
       "    <tr>\n",
       "      <th>is_apartment</th>\n",
       "      <td>20924</td>\n",
       "      <td>88.29</td>\n",
       "      <td>NaN</td>\n",
       "    </tr>\n",
       "    <tr>\n",
       "      <th>studio</th>\n",
       "      <td>0</td>\n",
       "      <td>0.00</td>\n",
       "      <td>0.00</td>\n",
       "    </tr>\n",
       "    <tr>\n",
       "      <th>open_plan</th>\n",
       "      <td>0</td>\n",
       "      <td>0.00</td>\n",
       "      <td>0.00</td>\n",
       "    </tr>\n",
       "    <tr>\n",
       "      <th>kitchen_area</th>\n",
       "      <td>2278</td>\n",
       "      <td>9.61</td>\n",
       "      <td>9.10</td>\n",
       "    </tr>\n",
       "    <tr>\n",
       "      <th>balcony</th>\n",
       "      <td>11519</td>\n",
       "      <td>48.61</td>\n",
       "      <td>1.00</td>\n",
       "    </tr>\n",
       "    <tr>\n",
       "      <th>locality_name</th>\n",
       "      <td>49</td>\n",
       "      <td>0.21</td>\n",
       "      <td>NaN</td>\n",
       "    </tr>\n",
       "    <tr>\n",
       "      <th>airports_nearest</th>\n",
       "      <td>5542</td>\n",
       "      <td>23.38</td>\n",
       "      <td>26726.00</td>\n",
       "    </tr>\n",
       "    <tr>\n",
       "      <th>cityCenters_nearest</th>\n",
       "      <td>5519</td>\n",
       "      <td>23.29</td>\n",
       "      <td>13098.50</td>\n",
       "    </tr>\n",
       "    <tr>\n",
       "      <th>parks_around3000</th>\n",
       "      <td>5518</td>\n",
       "      <td>23.28</td>\n",
       "      <td>0.00</td>\n",
       "    </tr>\n",
       "    <tr>\n",
       "      <th>parks_nearest</th>\n",
       "      <td>15620</td>\n",
       "      <td>65.91</td>\n",
       "      <td>455.00</td>\n",
       "    </tr>\n",
       "    <tr>\n",
       "      <th>ponds_around3000</th>\n",
       "      <td>5518</td>\n",
       "      <td>23.28</td>\n",
       "      <td>1.00</td>\n",
       "    </tr>\n",
       "    <tr>\n",
       "      <th>ponds_nearest</th>\n",
       "      <td>14589</td>\n",
       "      <td>61.56</td>\n",
       "      <td>502.00</td>\n",
       "    </tr>\n",
       "    <tr>\n",
       "      <th>days_exposition</th>\n",
       "      <td>3181</td>\n",
       "      <td>13.42</td>\n",
       "      <td>95.00</td>\n",
       "    </tr>\n",
       "  </tbody>\n",
       "</table>\n",
       "</div>"
      ],
      "text/plain": [
       "                      empties  empties%     median\n",
       "total_images                0      0.00       9.00\n",
       "last_price                  0      0.00 4650000.00\n",
       "total_area                  0      0.00      52.00\n",
       "first_day_exposition        0      0.00        NaN\n",
       "rooms                       0      0.00       2.00\n",
       "ceiling_height           9195     38.80       2.65\n",
       "floors_total               86      0.36       9.00\n",
       "living_area              1903      8.03      30.00\n",
       "floor                       0      0.00       4.00\n",
       "is_apartment            20924     88.29        NaN\n",
       "studio                      0      0.00       0.00\n",
       "open_plan                   0      0.00       0.00\n",
       "kitchen_area             2278      9.61       9.10\n",
       "balcony                 11519     48.61       1.00\n",
       "locality_name              49      0.21        NaN\n",
       "airports_nearest         5542     23.38   26726.00\n",
       "cityCenters_nearest      5519     23.29   13098.50\n",
       "parks_around3000         5518     23.28       0.00\n",
       "parks_nearest           15620     65.91     455.00\n",
       "ponds_around3000         5518     23.28       1.00\n",
       "ponds_nearest           14589     61.56     502.00\n",
       "days_exposition          3181     13.42      95.00"
      ]
     },
     "metadata": {},
     "output_type": "display_data"
    }
   ],
   "source": [
    "# посчитаем количество, процент пропусков и медианные значения по каждому столбцу\n",
    "print('Количество строк в выборке:', len(raw_data))\n",
    "display(\n",
    " pd.concat([\n",
    "     raw_data.isna().sum(), \n",
    "     raw_data.isna().mean()*100,\n",
    "     raw_data.median(numeric_only=True)\n",
    " ],axis=1).rename(columns=({0:'empties', 1:'empties%', 2:'median'}))\n",
    ")\n",
    "\n",
    "# также создадим копию данных good_data для последующей очистки\n",
    "good_data = raw_data.copy()"
   ]
  },
  {
   "cell_type": "code",
   "execution_count": 187,
   "metadata": {},
   "outputs": [
    {
     "data": {
      "image/png": "[encoded data removed]",
      "text/plain": [
       "<Figure size 720x360 with 2 Axes>"
      ]
     },
     "metadata": {
      "needs_background": "light"
     },
     "output_type": "display_data"
    }
   ],
   "source": [
    "# тест библиотеки по рекомендации ревьюера\n",
    "\n",
    "missingno.matrix(raw_data,figsize=(10,5), fontsize=12, label_rotation=90);"
   ]
  },
  {
   "cell_type": "markdown",
   "metadata": {},
   "source": [
    "##### **Заполнение**"
   ]
  },
  {
   "cell_type": "markdown",
   "metadata": {},
   "source": [
    "Пройдем по каждому полю с пропусками. Предварительно подготовим функцию отображения информации о пропусках для запрашиваемой колонки."
   ]
  },
  {
   "cell_type": "code",
   "execution_count": 188,
   "metadata": {},
   "outputs": [],
   "source": [
    "# функция для стандартного отображения деталей по колонке\n",
    "def column_na_details(dataset, column_name):\n",
    "    missed = dataset[column_name].isna().sum()\n",
    "    total = len(dataset[column_name])\n",
    "    try:\n",
    "        median =  dataset[column_name].median()\n",
    "    except:\n",
    "        median = 'n/a'\n",
    "    try:\n",
    "        percent = round(missed / total*100,1)\n",
    "    except:\n",
    "        percent = 'n/a'\n",
    "    print(f'\\tВ \"{column_name}\" пропущено {missed} из {total} строк [{percent}%]. Медиана имеющихся значений {median}')"
   ]
  },
  {
   "cell_type": "markdown",
   "metadata": {
    "tags": []
   },
   "source": [
    "***\n",
    "***ceiling_height***"
   ]
  },
  {
   "cell_type": "code",
   "execution_count": 189,
   "metadata": {},
   "outputs": [
    {
     "name": "stdout",
     "output_type": "stream",
     "text": [
      "\tВ \"ceiling_height\" пропущено 9195 из 23699 строк [38.8%]. Медиана имеющихся значений 2.65\n"
     ]
    }
   ],
   "source": [
    "column_na_details(good_data,'ceiling_height')"
   ]
  },
  {
   "cell_type": "markdown",
   "metadata": {
    "tags": []
   },
   "source": [
    "Вероятно, пользователи не посчитали нужным указывать данный параметр. <mark style=\"background:lightgreen\">Заполним</mark> пропуски медианным значением."
   ]
  },
  {
   "cell_type": "code",
   "execution_count": 190,
   "metadata": {},
   "outputs": [],
   "source": [
    "good_data['ceiling_height'].fillna(good_data['ceiling_height'].median(), inplace = True)"
   ]
  },
  {
   "cell_type": "markdown",
   "metadata": {
    "tags": []
   },
   "source": [
    "***\n",
    "***floors_total***"
   ]
  },
  {
   "cell_type": "code",
   "execution_count": 191,
   "metadata": {
    "tags": []
   },
   "outputs": [
    {
     "name": "stdout",
     "output_type": "stream",
     "text": [
      "\tВ \"floors_total\" пропущено 86 из 23699 строк [0.4%]. Медиана имеющихся значений 9.0\n"
     ]
    }
   ],
   "source": [
    "column_na_details(good_data,'floors_total')"
   ]
  },
  {
   "cell_type": "markdown",
   "metadata": {
    "tags": []
   },
   "source": [
    "Проверим, на каких обычно этажах прожают квартиры отсносительно общей этажности дома."
   ]
  },
  {
   "cell_type": "code",
   "execution_count": 192,
   "metadata": {
    "tags": []
   },
   "outputs": [
    {
     "name": "stdout",
     "output_type": "stream",
     "text": [
      "Средний этаж продаваемых квартир: 4.0\n",
      "Средняя этажность дома: 9.0\n"
     ]
    }
   ],
   "source": [
    "print('Средний этаж продаваемых квартир:', good_data['floor'].median())\n",
    "print('Средняя этажность дома:', good_data['floors_total'].median())"
   ]
  },
  {
   "cell_type": "markdown",
   "metadata": {
    "tags": []
   },
   "source": [
    "Обычно продаются квартиры на средних этажах, потому <mark style=\"background:lightgreen\">заполним</mark> пропуски расчетным значением как этаж продаваемой квартиры * 2 + 1"
   ]
  },
  {
   "cell_type": "code",
   "execution_count": 193,
   "metadata": {},
   "outputs": [],
   "source": [
    "good_data['floors_total'].fillna(good_data['floor']*2+1, inplace = True)\n",
    "# good_data.dropna(axis=0, subset='floors_total', inplace=True)"
   ]
  },
  {
   "cell_type": "markdown",
   "metadata": {
    "tags": []
   },
   "source": [
    "***\n",
    "***is_apartment***"
   ]
  },
  {
   "cell_type": "code",
   "execution_count": 194,
   "metadata": {},
   "outputs": [
    {
     "name": "stdout",
     "output_type": "stream",
     "text": [
      "\tВ \"is_apartment\" пропущено 20924 из 23699 строк [88.3%]. Медиана имеющихся значений 0.0\n"
     ]
    },
    {
     "data": {
      "text/plain": [
       "False    2725\n",
       "True       50\n",
       "Name: is_apartment, dtype: int64"
      ]
     },
     "metadata": {},
     "output_type": "display_data"
    }
   ],
   "source": [
    "column_na_details(good_data,'is_apartment') \n",
    "display(good_data['is_apartment'].value_counts())"
   ]
  },
  {
   "cell_type": "markdown",
   "metadata": {},
   "source": [
    "Среди имеющихся данных подавляющее большинство объектов не являются апартаментами. Апартаменты - редкое явление, и пользователи не сичитают нужным заполнять это поле. Так что <mark style=\"background:lightgreen\">заполним</mark> пропуски как `False`."
   ]
  },
  {
   "cell_type": "code",
   "execution_count": 195,
   "metadata": {},
   "outputs": [],
   "source": [
    "good_data['is_apartment'].fillna(False, inplace = True)"
   ]
  },
  {
   "cell_type": "markdown",
   "metadata": {
    "tags": []
   },
   "source": [
    "***\n",
    "***living_area*** "
   ]
  },
  {
   "cell_type": "code",
   "execution_count": 196,
   "metadata": {
    "tags": []
   },
   "outputs": [
    {
     "name": "stdout",
     "output_type": "stream",
     "text": [
      "\tВ \"living_area\" пропущено 1903 из 23699 строк [8.0%]. Медиана имеющихся значений 30.0\n"
     ]
    }
   ],
   "source": [
    "column_na_details(good_data,'living_area')"
   ]
  },
  {
   "cell_type": "markdown",
   "metadata": {},
   "source": [
    "Проверим гипотезу появления пропусков - это может быть связано с планировкой квартиры (студия либо свободная планировка), когда пользователь затрудняется указать именно жилую площадь."
   ]
  },
  {
   "cell_type": "code",
   "execution_count": 197,
   "metadata": {},
   "outputs": [
    {
     "name": "stdout",
     "output_type": "stream",
     "text": [
      "Квартир-студий в выборке: 149\n",
      "Квартир cо свободной планировкой: 67\n",
      "Не заполнена жилая площадь: 1903\n"
     ]
    }
   ],
   "source": [
    "print('Квартир-студий в выборке:',len(good_data.query('studio == True')))\n",
    "print('Квартир cо свободной планировкой:',len(good_data.query('open_plan == True')))\n",
    "print('Не заполнена жилая площадь:',len(good_data.query('living_area.isna()')))"
   ]
  },
  {
   "cell_type": "markdown",
   "metadata": {},
   "source": [
    "Гипотеза не подтвердилась, количество пропусков и количество студий/свободных планировок не сопоставимо. Видимо, причина пропусков в пользователях - они не вносят эти данные.\n",
    "\n",
    "Проверим зависимость `living_area` от `total_area`"
   ]
  },
  {
   "cell_type": "code",
   "execution_count": 198,
   "metadata": {},
   "outputs": [
    {
     "data": {
      "text/html": [
       "<div>\n",
       "<style scoped>\n",
       "    .dataframe tbody tr th:only-of-type {\n",
       "        vertical-align: middle;\n",
       "    }\n",
       "\n",
       "    .dataframe tbody tr th {\n",
       "        vertical-align: top;\n",
       "    }\n",
       "\n",
       "    .dataframe thead th {\n",
       "        text-align: right;\n",
       "    }\n",
       "</style>\n",
       "<table border=\"1\" class=\"dataframe\">\n",
       "  <thead>\n",
       "    <tr style=\"text-align: right;\">\n",
       "      <th></th>\n",
       "      <th>living_area</th>\n",
       "      <th>total_area</th>\n",
       "    </tr>\n",
       "  </thead>\n",
       "  <tbody>\n",
       "    <tr>\n",
       "      <th>living_area</th>\n",
       "      <td>1.00</td>\n",
       "      <td>0.94</td>\n",
       "    </tr>\n",
       "    <tr>\n",
       "      <th>total_area</th>\n",
       "      <td>0.94</td>\n",
       "      <td>1.00</td>\n",
       "    </tr>\n",
       "  </tbody>\n",
       "</table>\n",
       "</div>"
      ],
      "text/plain": [
       "             living_area  total_area\n",
       "living_area         1.00        0.94\n",
       "total_area          0.94        1.00"
      ]
     },
     "execution_count": 198,
     "metadata": {},
     "output_type": "execute_result"
    },
    {
     "data": {
      "image/png": "[encoded data removed]",
      "text/plain": [
       "<Figure size 432x288 with 1 Axes>"
      ]
     },
     "metadata": {
      "needs_background": "light"
     },
     "output_type": "display_data"
    }
   ],
   "source": [
    "good_data.plot(kind='scatter', y='living_area', x='total_area', alpha = 0.05 ) # график\n",
    "good_data[['living_area','total_area']].corr() # корреляция"
   ]
  },
  {
   "cell_type": "markdown",
   "metadata": {},
   "source": [
    "Форма графика и коэф-т корреляции (0.94) подтверждают высокую зависимость между `living_area` и `total_area`. \n",
    "Так что можем вывести коэффициент соотношения этих параметров и рассчитать ожидаемую `living_area` для пропусков.\n",
    "<mark style=\"background:lightgreen\">Заполним</mark> пропуски расчетными значениями   "
   ]
  },
  {
   "cell_type": "code",
   "execution_count": 199,
   "metadata": {},
   "outputs": [
    {
     "name": "stdout",
     "output_type": "stream",
     "text": [
      "Средее соотношение жилой площади к общей: 57.3 %\n"
     ]
    }
   ],
   "source": [
    "# соотношение жилой площади к общей в выборке\n",
    "living_area_share = good_data['living_area'].sum() / good_data[good_data['living_area'].isna() == False]['total_area'].sum()\n",
    "print('Средее соотношение жилой площади к общей:',round(living_area_share*100,1),'%')\n",
    "good_data.loc[good_data['living_area'].isna(),'living_area']  =  good_data['total_area'] * living_area_share\n",
    "\n",
    "# good_data.dropna(axis=0, subset='living_area', inplace=True)"
   ]
  },
  {
   "cell_type": "markdown",
   "metadata": {},
   "source": [
    "***\n",
    "***kitchen_area*** "
   ]
  },
  {
   "cell_type": "code",
   "execution_count": 200,
   "metadata": {},
   "outputs": [
    {
     "name": "stdout",
     "output_type": "stream",
     "text": [
      "\tВ \"kitchen_area\" пропущено 2278 из 23699 строк [9.6%]. Медиана имеющихся значений 9.1\n"
     ]
    }
   ],
   "source": [
    "column_na_details(good_data,'kitchen_area')"
   ]
  },
  {
   "cell_type": "markdown",
   "metadata": {},
   "source": [
    "Попробуем найти причинами пропусков. Как гипотеза - это может быть связано с планировкой квартиры (студия либо свободная планировка), когда пользователь затрудняется указать именно жилую площадь. Проверим"
   ]
  },
  {
   "cell_type": "code",
   "execution_count": 201,
   "metadata": {},
   "outputs": [
    {
     "name": "stdout",
     "output_type": "stream",
     "text": [
      "Квартир-студий в выборке: 149\n",
      "Квартир cо свободной планировкой: 67\n",
      "Не заполнена площадь кухни: 2278\n"
     ]
    }
   ],
   "source": [
    "print('Квартир-студий в выборке:',len(good_data.query('studio == True')))\n",
    "print('Квартир cо свободной планировкой:',len(good_data.query('open_plan == True')))\n",
    "print('Не заполнена площадь кухни:',len(good_data.query('kitchen_area.isna()')))"
   ]
  },
  {
   "cell_type": "markdown",
   "metadata": {},
   "source": [
    "Гипотеза не подтвердилась, количество пропусков и количество студий/свободных планировок не сопоставимо. Видимо, причнина пропусков в пользователях - они не вносят эти данные.\n",
    "\n",
    "Проверим зависимость `kitchen_area` от `total_area`"
   ]
  },
  {
   "cell_type": "code",
   "execution_count": 202,
   "metadata": {},
   "outputs": [
    {
     "data": {
      "text/html": [
       "<div>\n",
       "<style scoped>\n",
       "    .dataframe tbody tr th:only-of-type {\n",
       "        vertical-align: middle;\n",
       "    }\n",
       "\n",
       "    .dataframe tbody tr th {\n",
       "        vertical-align: top;\n",
       "    }\n",
       "\n",
       "    .dataframe thead th {\n",
       "        text-align: right;\n",
       "    }\n",
       "</style>\n",
       "<table border=\"1\" class=\"dataframe\">\n",
       "  <thead>\n",
       "    <tr style=\"text-align: right;\">\n",
       "      <th></th>\n",
       "      <th>kitchen_area</th>\n",
       "      <th>total_area</th>\n",
       "    </tr>\n",
       "  </thead>\n",
       "  <tbody>\n",
       "    <tr>\n",
       "      <th>kitchen_area</th>\n",
       "      <td>1.00</td>\n",
       "      <td>0.61</td>\n",
       "    </tr>\n",
       "    <tr>\n",
       "      <th>total_area</th>\n",
       "      <td>0.61</td>\n",
       "      <td>1.00</td>\n",
       "    </tr>\n",
       "  </tbody>\n",
       "</table>\n",
       "</div>"
      ],
      "text/plain": [
       "              kitchen_area  total_area\n",
       "kitchen_area          1.00        0.61\n",
       "total_area            0.61        1.00"
      ]
     },
     "execution_count": 202,
     "metadata": {},
     "output_type": "execute_result"
    },
    {
     "data": {
      "image/png": "[encoded data removed]",
      "text/plain": [
       "<Figure size 432x288 with 1 Axes>"
      ]
     },
     "metadata": {
      "needs_background": "light"
     },
     "output_type": "display_data"
    }
   ],
   "source": [
    "good_data.plot(kind='scatter', y='kitchen_area', x='total_area', alpha = 0.05, xlim = (0,200), ylim=(0,150) )\n",
    "good_data[['kitchen_area','total_area']].corr()"
   ]
  },
  {
   "cell_type": "markdown",
   "metadata": {},
   "source": [
    "По графику и коэф-ту кореляции (0.6) видно, что зависимость площади кухни от общей площади не столь однозначна. \n",
    "При этом видно, что кухни площадью до 20m2 самые распространненные а площадью > 40 m2 практически не встречаются. \n",
    "Для дальнейшего продолжения анализа остановимся на <mark style=\"background:lightgreen\">заполнении</mark> пропусков медианным значением 9.1 м2 как наиболее подходящем варианте. Если при этом сумма жилой площади и площади кухни превысит полную площадь - урежем размер кухни до этой разницы"
   ]
  },
  {
   "cell_type": "code",
   "execution_count": 203,
   "metadata": {},
   "outputs": [],
   "source": [
    "good_data['kitchen_area'].fillna(good_data['kitchen_area'].median(), inplace = True)\n",
    "good_data.loc[(good_data['kitchen_area'] + good_data['living_area']) > good_data['total_area'], 'kitchen_area'] = good_data['total_area'] - good_data['living_area']\n",
    "#good_data.dropna(axis=0, subset='kitchen_area', inplace=True)"
   ]
  },
  {
   "cell_type": "markdown",
   "metadata": {},
   "source": [
    "***\n",
    "***balcony***"
   ]
  },
  {
   "cell_type": "code",
   "execution_count": 204,
   "metadata": {},
   "outputs": [
    {
     "name": "stdout",
     "output_type": "stream",
     "text": [
      "\tВ \"balcony\" пропущено 11519 из 23699 строк [48.6%]. Медиана имеющихся значений 1.0\n"
     ]
    }
   ],
   "source": [
    "column_na_details(good_data,'balcony')"
   ]
  },
  {
   "cell_type": "markdown",
   "metadata": {},
   "source": [
    "Считаем, что если данные не указаны пользователем - значит балкона нет. <mark style=\"background:lightgreen\">Заменим</mark> пропуски на `0`."
   ]
  },
  {
   "cell_type": "code",
   "execution_count": 205,
   "metadata": {},
   "outputs": [],
   "source": [
    "good_data['balcony'].fillna(0, inplace = True)"
   ]
  },
  {
   "cell_type": "markdown",
   "metadata": {
    "tags": []
   },
   "source": [
    "***\n",
    "***days_exposition***"
   ]
  },
  {
   "cell_type": "code",
   "execution_count": 206,
   "metadata": {},
   "outputs": [
    {
     "name": "stdout",
     "output_type": "stream",
     "text": [
      "\tВ \"days_exposition\" пропущено 3181 из 23699 строк [13.4%]. Медиана имеющихся значений 95.0\n"
     ]
    }
   ],
   "source": [
    "column_na_details(good_data,'days_exposition')"
   ]
  },
  {
   "cell_type": "markdown",
   "metadata": {},
   "source": [
    "***исправлено согласно комментария ревьюера***\n",
    "\n",
    "Пропуск в этом поле может означать, что объект еще не продали, либо продали, но не поставили отметку о продаже. Дни в продаже - индивидуальный и персональный параметр для каждого объявления, потому <mark style=\"background:gold\">оставим</mark> пропуски без корректировок."
   ]
  },
  {
   "cell_type": "code",
   "execution_count": 207,
   "metadata": {},
   "outputs": [],
   "source": [
    "#good_data['days_exposition'].fillna(good_data['days_exposition'].median(), inplace = True)\n",
    "#good_data.dropna(axis=0, subset='days_exposition', inplace=True)"
   ]
  },
  {
   "cell_type": "markdown",
   "metadata": {
    "tags": []
   },
   "source": [
    "***\n",
    "***locality_name***"
   ]
  },
  {
   "cell_type": "code",
   "execution_count": 208,
   "metadata": {},
   "outputs": [
    {
     "name": "stdout",
     "output_type": "stream",
     "text": [
      "\tВ \"locality_name\" пропущено 49 из 23699 строк [0.2%]. Медиана имеющихся значений n/a\n"
     ]
    }
   ],
   "source": [
    "column_na_details(good_data,'locality_name')"
   ]
  },
  {
   "cell_type": "markdown",
   "metadata": {},
   "source": [
    "В незначительных количествах случаев не указано название населенного пункта, потому <mark style=\"background:tomato\">отбросим</mark> эти строки. Как причину можно выделить ошибку пользователя при внесении данных либо определенные населенные пункты отсутствуют в вариантах выбора при регистрации объявления. Каких именно - ответить по имеющимся данным нельзя."
   ]
  },
  {
   "cell_type": "code",
   "execution_count": 209,
   "metadata": {},
   "outputs": [],
   "source": [
    "good_data.dropna(axis=0, subset='locality_name', inplace=True)"
   ]
  },
  {
   "cell_type": "markdown",
   "metadata": {},
   "source": [
    "***\n",
    "***Картографические данные***\n",
    "`airports_nearest` `cityCenters_nearest` `parks_around3000` `ponds_around3000` `parks_nearest` `ponds_nearest`"
   ]
  },
  {
   "cell_type": "code",
   "execution_count": 210,
   "metadata": {},
   "outputs": [
    {
     "name": "stdout",
     "output_type": "stream",
     "text": [
      "\tВ \"airports_nearest\" пропущено 5534 из 23650 строк [23.4%]. Медиана имеющихся значений 26756.5\n",
      "\tВ \"cityCenters_nearest\" пропущено 5511 из 23650 строк [23.3%]. Медиана имеющихся значений 13105.0\n",
      "\tВ \"parks_around3000\" пропущено 5510 из 23650 строк [23.3%]. Медиана имеющихся значений 0.0\n",
      "\tВ \"parks_nearest\" пропущено 15586 из 23650 строк [65.9%]. Медиана имеющихся значений 454.5\n",
      "\tВ \"ponds_around3000\" пропущено 5510 из 23650 строк [23.3%]. Медиана имеющихся значений 1.0\n",
      "\tВ \"ponds_nearest\" пропущено 14565 из 23650 строк [61.6%]. Медиана имеющихся значений 502.0\n"
     ]
    }
   ],
   "source": [
    "column_na_details(good_data,'airports_nearest')\n",
    "column_na_details(good_data,'cityCenters_nearest')\n",
    "column_na_details(good_data,'parks_around3000')\n",
    "column_na_details(good_data,'parks_nearest')\n",
    "column_na_details(good_data,'ponds_around3000')\n",
    "column_na_details(good_data,'ponds_nearest')"
   ]
  },
  {
   "cell_type": "markdown",
   "metadata": {},
   "source": [
    "Видно, что эти столбцы содержат большое количество пропусков, начиная от 5.5 тысяч. Проверим, проявляются ли они на одних и тех же строках."
   ]
  },
  {
   "cell_type": "code",
   "execution_count": 211,
   "metadata": {},
   "outputs": [
    {
     "name": "stdout",
     "output_type": "stream",
     "text": [
      "Строк с отсутствующими геоданными: 5510\n"
     ]
    }
   ],
   "source": [
    "#good_data.pivot_table(index = 'locality_name', values='airports_nearest', aggfunc=['median','min','max'])\n",
    "\n",
    "# посчитаем количество строк с одновременными пропусками в шести столбцах геоданных\n",
    "bad_geo = good_data.query('airports_nearest.isna() \\\n",
    "                        and cityCenters_nearest.isna() \\\n",
    "                        and parks_around3000.isna() \\\n",
    "                        and ponds_around3000.isna() \\\n",
    "                        and parks_nearest.isna() \\\n",
    "                        and ponds_nearest.isna()')\n",
    "print('Строк с отсутствующими геоданными:', len(bad_geo))"
   ]
  },
  {
   "cell_type": "markdown",
   "metadata": {},
   "source": [
    "Как видим, все пропуски по 6 колонкам геоданных аллоцируются на одни и те же строки.\n",
    "Это может говорить о том, что источник пропусков как минимум по 4м колонкам `airports_nearest` `cityCenters_nearest` `parks_around3000` `ponds_around3000` и тот же, т.к. количество пропусков по ним практически идентично. Возможно, эти колонки заполняются автоматически при регистрации объявления, например на основании введенного адреса или геолокации.\n",
    "\n",
    "Проверим, как именно распределяются квартиры с полным отсутствием картографических данных по населенным пунктам. Найдем Топ-10 населенных пунктов:"
   ]
  },
  {
   "cell_type": "code",
   "execution_count": 212,
   "metadata": {},
   "outputs": [
    {
     "name": "stdout",
     "output_type": "stream",
     "text": [
      "\n",
      "Топ-10 населенных пунктов по количеству объявлений с проблемами в геоданных(locality_name_bad) к общему количеству объявлений в этих пунктах (locality_name_all):\n",
      "\n"
     ]
    },
    {
     "data": {
      "text/html": [
       "<div>\n",
       "<style scoped>\n",
       "    .dataframe tbody tr th:only-of-type {\n",
       "        vertical-align: middle;\n",
       "    }\n",
       "\n",
       "    .dataframe tbody tr th {\n",
       "        vertical-align: top;\n",
       "    }\n",
       "\n",
       "    .dataframe thead th {\n",
       "        text-align: right;\n",
       "    }\n",
       "</style>\n",
       "<table border=\"1\" class=\"dataframe\">\n",
       "  <thead>\n",
       "    <tr style=\"text-align: right;\">\n",
       "      <th></th>\n",
       "      <th>locality_name_bad</th>\n",
       "      <th>locality_name_all</th>\n",
       "    </tr>\n",
       "  </thead>\n",
       "  <tbody>\n",
       "    <tr>\n",
       "      <th>посёлок Мурино</th>\n",
       "      <td>522</td>\n",
       "      <td>522</td>\n",
       "    </tr>\n",
       "    <tr>\n",
       "      <th>Всеволожск</th>\n",
       "      <td>398</td>\n",
       "      <td>398</td>\n",
       "    </tr>\n",
       "    <tr>\n",
       "      <th>Гатчина</th>\n",
       "      <td>307</td>\n",
       "      <td>307</td>\n",
       "    </tr>\n",
       "    <tr>\n",
       "      <th>деревня Кудрово</th>\n",
       "      <td>299</td>\n",
       "      <td>299</td>\n",
       "    </tr>\n",
       "    <tr>\n",
       "      <th>Выборг</th>\n",
       "      <td>237</td>\n",
       "      <td>237</td>\n",
       "    </tr>\n",
       "    <tr>\n",
       "      <th>Кудрово</th>\n",
       "      <td>173</td>\n",
       "      <td>173</td>\n",
       "    </tr>\n",
       "    <tr>\n",
       "      <th>деревня Новое Девяткино</th>\n",
       "      <td>144</td>\n",
       "      <td>144</td>\n",
       "    </tr>\n",
       "    <tr>\n",
       "      <th>Сертолово</th>\n",
       "      <td>142</td>\n",
       "      <td>142</td>\n",
       "    </tr>\n",
       "    <tr>\n",
       "      <th>Кириши</th>\n",
       "      <td>125</td>\n",
       "      <td>125</td>\n",
       "    </tr>\n",
       "    <tr>\n",
       "      <th>Сланцы</th>\n",
       "      <td>112</td>\n",
       "      <td>112</td>\n",
       "    </tr>\n",
       "  </tbody>\n",
       "</table>\n",
       "</div>"
      ],
      "text/plain": [
       "                         locality_name_bad  locality_name_all\n",
       "посёлок Мурино                         522                522\n",
       "Всеволожск                             398                398\n",
       "Гатчина                                307                307\n",
       "деревня Кудрово                        299                299\n",
       "Выборг                                 237                237\n",
       "Кудрово                                173                173\n",
       "деревня Новое Девяткино                144                144\n",
       "Сертолово                              142                142\n",
       "Кириши                                 125                125\n",
       "Сланцы                                 112                112"
      ]
     },
     "metadata": {},
     "output_type": "display_data"
    }
   ],
   "source": [
    "print('\\nТоп-10 населенных пунктов по количеству объявлений с проблемами в геоданных(locality_name_bad) к общему количеству объявлений в этих пунктах (locality_name_all):\\n')\n",
    "display(\n",
    "    pd.DataFrame(bad_geo['locality_name'].value_counts()).join(good_data['locality_name'].value_counts() , how='left', lsuffix='_bad', rsuffix='_all').head(10)\n",
    ")"
   ]
  },
  {
   "cell_type": "markdown",
   "metadata": {},
   "source": [
    "Видно, что есть населенные пункты с большим количеством объявлений, но , при этом, с полностью отсутстувующими картографическими данными. Вероятность такого совпадения либо сговора пользователей маловероятна. Так что скорее всего это проблема самой системы. Пропуски могут быть вызваны некорретной работой сайта регистрации (неверно определяет геолокацию), либо невозможно выбрать корректный адрес из выпадающих списков (если таковые есть в самой форме регистрации объявления). <mark style=\"background:lightblue\">Эту информацию необходимо передать разработчикам.</mark>  \n",
    "\n",
    "Придется <mark style=\"background:gold\">оставить</mark> пропуски по столбцам `airports_nearest` `cityCenters_nearest` `parks_around3000` `ponds_around3000`, т.к. в них фигурируют достаточно много населенных пунктов с большим количеством объявлений, это важно с позиции анализа параметра квартир. Но мы сделаем дополнительный столбец с пометкой о плохом качестве картографических данных, в некоторых выборках он может понадобиться."
   ]
  },
  {
   "cell_type": "code",
   "execution_count": 213,
   "metadata": {},
   "outputs": [
    {
     "data": {
      "text/html": [
       "<div>\n",
       "<style scoped>\n",
       "    .dataframe tbody tr th:only-of-type {\n",
       "        vertical-align: middle;\n",
       "    }\n",
       "\n",
       "    .dataframe tbody tr th {\n",
       "        vertical-align: top;\n",
       "    }\n",
       "\n",
       "    .dataframe thead th {\n",
       "        text-align: right;\n",
       "    }\n",
       "</style>\n",
       "<table border=\"1\" class=\"dataframe\">\n",
       "  <thead>\n",
       "    <tr style=\"text-align: right;\">\n",
       "      <th></th>\n",
       "      <th>total_images</th>\n",
       "      <th>last_price</th>\n",
       "      <th>total_area</th>\n",
       "      <th>first_day_exposition</th>\n",
       "      <th>rooms</th>\n",
       "      <th>ceiling_height</th>\n",
       "      <th>floors_total</th>\n",
       "      <th>living_area</th>\n",
       "      <th>floor</th>\n",
       "      <th>is_apartment</th>\n",
       "      <th>studio</th>\n",
       "      <th>open_plan</th>\n",
       "      <th>kitchen_area</th>\n",
       "      <th>balcony</th>\n",
       "      <th>locality_name</th>\n",
       "      <th>airports_nearest</th>\n",
       "      <th>cityCenters_nearest</th>\n",
       "      <th>parks_around3000</th>\n",
       "      <th>parks_nearest</th>\n",
       "      <th>ponds_around3000</th>\n",
       "      <th>ponds_nearest</th>\n",
       "      <th>days_exposition</th>\n",
       "      <th>is_bad_geodata</th>\n",
       "    </tr>\n",
       "  </thead>\n",
       "  <tbody>\n",
       "    <tr>\n",
       "      <th>0</th>\n",
       "      <td>20</td>\n",
       "      <td>13000000.00</td>\n",
       "      <td>108.00</td>\n",
       "      <td>2019-03-07T00:00:00</td>\n",
       "      <td>3</td>\n",
       "      <td>2.70</td>\n",
       "      <td>16.00</td>\n",
       "      <td>51.00</td>\n",
       "      <td>8</td>\n",
       "      <td>False</td>\n",
       "      <td>False</td>\n",
       "      <td>False</td>\n",
       "      <td>25.00</td>\n",
       "      <td>0.00</td>\n",
       "      <td>Санкт-Петербург</td>\n",
       "      <td>18863.00</td>\n",
       "      <td>16028.00</td>\n",
       "      <td>1.00</td>\n",
       "      <td>482.00</td>\n",
       "      <td>2.00</td>\n",
       "      <td>755.00</td>\n",
       "      <td>NaN</td>\n",
       "      <td>False</td>\n",
       "    </tr>\n",
       "    <tr>\n",
       "      <th>1</th>\n",
       "      <td>7</td>\n",
       "      <td>3350000.00</td>\n",
       "      <td>40.40</td>\n",
       "      <td>2018-12-04T00:00:00</td>\n",
       "      <td>1</td>\n",
       "      <td>2.65</td>\n",
       "      <td>11.00</td>\n",
       "      <td>18.60</td>\n",
       "      <td>1</td>\n",
       "      <td>False</td>\n",
       "      <td>False</td>\n",
       "      <td>False</td>\n",
       "      <td>11.00</td>\n",
       "      <td>2.00</td>\n",
       "      <td>посёлок Шушары</td>\n",
       "      <td>12817.00</td>\n",
       "      <td>18603.00</td>\n",
       "      <td>0.00</td>\n",
       "      <td>NaN</td>\n",
       "      <td>0.00</td>\n",
       "      <td>NaN</td>\n",
       "      <td>81.00</td>\n",
       "      <td>False</td>\n",
       "    </tr>\n",
       "    <tr>\n",
       "      <th>2</th>\n",
       "      <td>10</td>\n",
       "      <td>5196000.00</td>\n",
       "      <td>56.00</td>\n",
       "      <td>2015-08-20T00:00:00</td>\n",
       "      <td>2</td>\n",
       "      <td>2.65</td>\n",
       "      <td>5.00</td>\n",
       "      <td>34.30</td>\n",
       "      <td>4</td>\n",
       "      <td>False</td>\n",
       "      <td>False</td>\n",
       "      <td>False</td>\n",
       "      <td>8.30</td>\n",
       "      <td>0.00</td>\n",
       "      <td>Санкт-Петербург</td>\n",
       "      <td>21741.00</td>\n",
       "      <td>13933.00</td>\n",
       "      <td>1.00</td>\n",
       "      <td>90.00</td>\n",
       "      <td>2.00</td>\n",
       "      <td>574.00</td>\n",
       "      <td>558.00</td>\n",
       "      <td>False</td>\n",
       "    </tr>\n",
       "    <tr>\n",
       "      <th>3</th>\n",
       "      <td>0</td>\n",
       "      <td>64900000.00</td>\n",
       "      <td>159.00</td>\n",
       "      <td>2015-07-24T00:00:00</td>\n",
       "      <td>3</td>\n",
       "      <td>2.65</td>\n",
       "      <td>14.00</td>\n",
       "      <td>91.18</td>\n",
       "      <td>9</td>\n",
       "      <td>False</td>\n",
       "      <td>False</td>\n",
       "      <td>False</td>\n",
       "      <td>9.10</td>\n",
       "      <td>0.00</td>\n",
       "      <td>Санкт-Петербург</td>\n",
       "      <td>28098.00</td>\n",
       "      <td>6800.00</td>\n",
       "      <td>2.00</td>\n",
       "      <td>84.00</td>\n",
       "      <td>3.00</td>\n",
       "      <td>234.00</td>\n",
       "      <td>424.00</td>\n",
       "      <td>False</td>\n",
       "    </tr>\n",
       "    <tr>\n",
       "      <th>4</th>\n",
       "      <td>2</td>\n",
       "      <td>10000000.00</td>\n",
       "      <td>100.00</td>\n",
       "      <td>2018-06-19T00:00:00</td>\n",
       "      <td>2</td>\n",
       "      <td>3.03</td>\n",
       "      <td>14.00</td>\n",
       "      <td>32.00</td>\n",
       "      <td>13</td>\n",
       "      <td>False</td>\n",
       "      <td>False</td>\n",
       "      <td>False</td>\n",
       "      <td>41.00</td>\n",
       "      <td>0.00</td>\n",
       "      <td>Санкт-Петербург</td>\n",
       "      <td>31856.00</td>\n",
       "      <td>8098.00</td>\n",
       "      <td>2.00</td>\n",
       "      <td>112.00</td>\n",
       "      <td>1.00</td>\n",
       "      <td>48.00</td>\n",
       "      <td>121.00</td>\n",
       "      <td>False</td>\n",
       "    </tr>\n",
       "    <tr>\n",
       "      <th>5</th>\n",
       "      <td>10</td>\n",
       "      <td>2890000.00</td>\n",
       "      <td>30.40</td>\n",
       "      <td>2018-09-10T00:00:00</td>\n",
       "      <td>1</td>\n",
       "      <td>2.65</td>\n",
       "      <td>12.00</td>\n",
       "      <td>14.40</td>\n",
       "      <td>5</td>\n",
       "      <td>False</td>\n",
       "      <td>False</td>\n",
       "      <td>False</td>\n",
       "      <td>9.10</td>\n",
       "      <td>0.00</td>\n",
       "      <td>городской посёлок Янино-1</td>\n",
       "      <td>NaN</td>\n",
       "      <td>NaN</td>\n",
       "      <td>NaN</td>\n",
       "      <td>NaN</td>\n",
       "      <td>NaN</td>\n",
       "      <td>NaN</td>\n",
       "      <td>55.00</td>\n",
       "      <td>True</td>\n",
       "    </tr>\n",
       "  </tbody>\n",
       "</table>\n",
       "</div>"
      ],
      "text/plain": [
       "   total_images  last_price  total_area first_day_exposition  rooms  \\\n",
       "0            20 13000000.00      108.00  2019-03-07T00:00:00      3   \n",
       "1             7  3350000.00       40.40  2018-12-04T00:00:00      1   \n",
       "2            10  5196000.00       56.00  2015-08-20T00:00:00      2   \n",
       "3             0 64900000.00      159.00  2015-07-24T00:00:00      3   \n",
       "4             2 10000000.00      100.00  2018-06-19T00:00:00      2   \n",
       "5            10  2890000.00       30.40  2018-09-10T00:00:00      1   \n",
       "\n",
       "   ceiling_height  floors_total  living_area  floor  is_apartment  studio  \\\n",
       "0            2.70         16.00        51.00      8         False   False   \n",
       "1            2.65         11.00        18.60      1         False   False   \n",
       "2            2.65          5.00        34.30      4         False   False   \n",
       "3            2.65         14.00        91.18      9         False   False   \n",
       "4            3.03         14.00        32.00     13         False   False   \n",
       "5            2.65         12.00        14.40      5         False   False   \n",
       "\n",
       "   open_plan  kitchen_area  balcony              locality_name  \\\n",
       "0      False         25.00     0.00            Санкт-Петербург   \n",
       "1      False         11.00     2.00             посёлок Шушары   \n",
       "2      False          8.30     0.00            Санкт-Петербург   \n",
       "3      False          9.10     0.00            Санкт-Петербург   \n",
       "4      False         41.00     0.00            Санкт-Петербург   \n",
       "5      False          9.10     0.00  городской посёлок Янино-1   \n",
       "\n",
       "   airports_nearest  cityCenters_nearest  parks_around3000  parks_nearest  \\\n",
       "0          18863.00             16028.00              1.00         482.00   \n",
       "1          12817.00             18603.00              0.00            NaN   \n",
       "2          21741.00             13933.00              1.00          90.00   \n",
       "3          28098.00              6800.00              2.00          84.00   \n",
       "4          31856.00              8098.00              2.00         112.00   \n",
       "5               NaN                  NaN               NaN            NaN   \n",
       "\n",
       "   ponds_around3000  ponds_nearest  days_exposition  is_bad_geodata  \n",
       "0              2.00         755.00              NaN           False  \n",
       "1              0.00            NaN            81.00           False  \n",
       "2              2.00         574.00           558.00           False  \n",
       "3              3.00         234.00           424.00           False  \n",
       "4              1.00          48.00           121.00           False  \n",
       "5               NaN            NaN            55.00            True  "
      ]
     },
     "execution_count": 213,
     "metadata": {},
     "output_type": "execute_result"
    }
   ],
   "source": [
    "##### вариант очистки плохих геоданных \n",
    "# good_data.dropna(axis=0, subset=['airports_nearest', 'cityCenters_nearest', 'parks_around3000', 'ponds_around3000'], inplace=True)\n",
    "\n",
    "# вариант пометки плохих геоданных\n",
    "good_data['is_bad_geodata'] = (\n",
    "    good_data['airports_nearest'].isna() \n",
    "    | good_data['cityCenters_nearest'].isna() \n",
    "    | good_data['parks_around3000'].isna() \n",
    "    | good_data['ponds_around3000'].isna() \n",
    ")\n",
    "\n",
    "# отобразим таблицу для проверки корректности\n",
    "good_data.head(6)"
   ]
  },
  {
   "cell_type": "markdown",
   "metadata": {},
   "source": [
    "***\n",
    "***parks_nearest*** и ***ponds_nearest***"
   ]
  },
  {
   "cell_type": "markdown",
   "metadata": {},
   "source": [
    "Посмотрим еще раз на оставшиеся после предыдущего шага пропуски в колонках `parks_nearest` `ponds_nearest`, которые не помечены, как `is_bad_geodata` в привязке к данным `parks_around3000` `ponds_around3000`"
   ]
  },
  {
   "cell_type": "code",
   "execution_count": 214,
   "metadata": {},
   "outputs": [
    {
     "name": "stdout",
     "output_type": "stream",
     "text": [
      "Количество пропусков\n"
     ]
    },
    {
     "data": {
      "text/html": [
       "<div>\n",
       "<style scoped>\n",
       "    .dataframe tbody tr th:only-of-type {\n",
       "        vertical-align: middle;\n",
       "    }\n",
       "\n",
       "    .dataframe tbody tr th {\n",
       "        vertical-align: top;\n",
       "    }\n",
       "\n",
       "    .dataframe thead th {\n",
       "        text-align: right;\n",
       "    }\n",
       "</style>\n",
       "<table border=\"1\" class=\"dataframe\">\n",
       "  <thead>\n",
       "    <tr style=\"text-align: right;\">\n",
       "      <th></th>\n",
       "      <th>parks_nearest</th>\n",
       "    </tr>\n",
       "    <tr>\n",
       "      <th>parks_around3000</th>\n",
       "      <th></th>\n",
       "    </tr>\n",
       "  </thead>\n",
       "  <tbody>\n",
       "    <tr>\n",
       "      <th>0.00</th>\n",
       "      <td>10072</td>\n",
       "    </tr>\n",
       "  </tbody>\n",
       "</table>\n",
       "</div>"
      ],
      "text/plain": [
       "                  parks_nearest\n",
       "parks_around3000               \n",
       "0.00                      10072"
      ]
     },
     "metadata": {},
     "output_type": "display_data"
    },
    {
     "data": {
      "text/html": [
       "<div>\n",
       "<style scoped>\n",
       "    .dataframe tbody tr th:only-of-type {\n",
       "        vertical-align: middle;\n",
       "    }\n",
       "\n",
       "    .dataframe tbody tr th {\n",
       "        vertical-align: top;\n",
       "    }\n",
       "\n",
       "    .dataframe thead th {\n",
       "        text-align: right;\n",
       "    }\n",
       "</style>\n",
       "<table border=\"1\" class=\"dataframe\">\n",
       "  <thead>\n",
       "    <tr style=\"text-align: right;\">\n",
       "      <th></th>\n",
       "      <th>ponds_nearest</th>\n",
       "    </tr>\n",
       "    <tr>\n",
       "      <th>ponds_around3000</th>\n",
       "      <th></th>\n",
       "    </tr>\n",
       "  </thead>\n",
       "  <tbody>\n",
       "    <tr>\n",
       "      <th>0.00</th>\n",
       "      <td>9038</td>\n",
       "    </tr>\n",
       "  </tbody>\n",
       "</table>\n",
       "</div>"
      ],
      "text/plain": [
       "                  ponds_nearest\n",
       "ponds_around3000               \n",
       "0.00                       9038"
      ]
     },
     "metadata": {},
     "output_type": "display_data"
    }
   ],
   "source": [
    "# распределение пропусков по значениям parks_around3000 и ponds_around3000\n",
    "print('Количество пропусков')\n",
    "display(\n",
    "    good_data.loc[(good_data['parks_nearest'].isna()) & (good_data['is_bad_geodata'] == False)]\n",
    "        .fillna('no value')\n",
    "        .pivot_table(index='parks_around3000', values='parks_nearest', aggfunc='count')\n",
    ")\n",
    "display(\n",
    "    good_data.loc[(good_data['ponds_nearest'].isna()) & (good_data['is_bad_geodata'] == False)]\n",
    "        .fillna('no value')\n",
    "        .pivot_table(index='ponds_around3000', values='ponds_nearest', aggfunc='count')\n",
    ")"
   ]
  },
  {
   "cell_type": "markdown",
   "metadata": {},
   "source": [
    "Получается, что когда количество прудов или парков в радиусе 3000 метров равно 0, колонки с расстоянием также остаются пустыми. При этом не встречается случаев, когда в радиусе 3000 метров укзан парк/пруд, а расстояние до него отсутствует.\n",
    "\n",
    "Это может означать, что либо данные колонки заполняются автоматически и система оставляет записи пустыми при большой удаленности объектов, либо данные вносит сам пользователь. Посмотрим, как в принципе заполняются колонки `parks_nearest` `ponds_nearest` в зависимости от количества объектов поблизости"
   ]
  },
  {
   "cell_type": "code",
   "execution_count": 215,
   "metadata": {},
   "outputs": [
    {
     "data": {
      "text/html": [
       "<div>\n",
       "<style scoped>\n",
       "    .dataframe tbody tr th:only-of-type {\n",
       "        vertical-align: middle;\n",
       "    }\n",
       "\n",
       "    .dataframe tbody tr th {\n",
       "        vertical-align: top;\n",
       "    }\n",
       "\n",
       "    .dataframe thead tr th {\n",
       "        text-align: left;\n",
       "    }\n",
       "\n",
       "    .dataframe thead tr:last-of-type th {\n",
       "        text-align: right;\n",
       "    }\n",
       "</style>\n",
       "<table border=\"1\" class=\"dataframe\">\n",
       "  <thead>\n",
       "    <tr>\n",
       "      <th></th>\n",
       "      <th>count</th>\n",
       "      <th>min</th>\n",
       "      <th>max</th>\n",
       "    </tr>\n",
       "    <tr>\n",
       "      <th></th>\n",
       "      <th>parks_nearest</th>\n",
       "      <th>parks_nearest</th>\n",
       "      <th>parks_nearest</th>\n",
       "    </tr>\n",
       "    <tr>\n",
       "      <th>parks_around3000</th>\n",
       "      <th></th>\n",
       "      <th></th>\n",
       "      <th></th>\n",
       "    </tr>\n",
       "  </thead>\n",
       "  <tbody>\n",
       "    <tr>\n",
       "      <th>0.00</th>\n",
       "      <td>4</td>\n",
       "      <td>3013.00</td>\n",
       "      <td>3190.00</td>\n",
       "    </tr>\n",
       "    <tr>\n",
       "      <th>1.00</th>\n",
       "      <td>5661</td>\n",
       "      <td>1.00</td>\n",
       "      <td>2984.00</td>\n",
       "    </tr>\n",
       "    <tr>\n",
       "      <th>2.00</th>\n",
       "      <td>1733</td>\n",
       "      <td>9.00</td>\n",
       "      <td>2747.00</td>\n",
       "    </tr>\n",
       "    <tr>\n",
       "      <th>3.00</th>\n",
       "      <td>645</td>\n",
       "      <td>4.00</td>\n",
       "      <td>700.00</td>\n",
       "    </tr>\n",
       "  </tbody>\n",
       "</table>\n",
       "</div>"
      ],
      "text/plain": [
       "                         count           min           max\n",
       "                 parks_nearest parks_nearest parks_nearest\n",
       "parks_around3000                                          \n",
       "0.00                         4       3013.00       3190.00\n",
       "1.00                      5661          1.00       2984.00\n",
       "2.00                      1733          9.00       2747.00\n",
       "3.00                       645          4.00        700.00"
      ]
     },
     "metadata": {},
     "output_type": "display_data"
    },
    {
     "data": {
      "text/html": [
       "<div>\n",
       "<style scoped>\n",
       "    .dataframe tbody tr th:only-of-type {\n",
       "        vertical-align: middle;\n",
       "    }\n",
       "\n",
       "    .dataframe tbody tr th {\n",
       "        vertical-align: top;\n",
       "    }\n",
       "\n",
       "    .dataframe thead tr th {\n",
       "        text-align: left;\n",
       "    }\n",
       "\n",
       "    .dataframe thead tr:last-of-type th {\n",
       "        text-align: right;\n",
       "    }\n",
       "</style>\n",
       "<table border=\"1\" class=\"dataframe\">\n",
       "  <thead>\n",
       "    <tr>\n",
       "      <th></th>\n",
       "      <th>count</th>\n",
       "      <th>min</th>\n",
       "      <th>max</th>\n",
       "    </tr>\n",
       "    <tr>\n",
       "      <th></th>\n",
       "      <th>ponds_nearest</th>\n",
       "      <th>ponds_nearest</th>\n",
       "      <th>ponds_nearest</th>\n",
       "    </tr>\n",
       "    <tr>\n",
       "      <th>ponds_around3000</th>\n",
       "      <th></th>\n",
       "      <th></th>\n",
       "      <th></th>\n",
       "    </tr>\n",
       "  </thead>\n",
       "  <tbody>\n",
       "    <tr>\n",
       "      <th>0.00</th>\n",
       "      <td>0</td>\n",
       "      <td>NaN</td>\n",
       "      <td>NaN</td>\n",
       "    </tr>\n",
       "    <tr>\n",
       "      <th>1.00</th>\n",
       "      <td>5701</td>\n",
       "      <td>20.00</td>\n",
       "      <td>1344.00</td>\n",
       "    </tr>\n",
       "    <tr>\n",
       "      <th>2.00</th>\n",
       "      <td>1888</td>\n",
       "      <td>13.00</td>\n",
       "      <td>1096.00</td>\n",
       "    </tr>\n",
       "    <tr>\n",
       "      <th>3.00</th>\n",
       "      <td>1488</td>\n",
       "      <td>22.00</td>\n",
       "      <td>950.00</td>\n",
       "    </tr>\n",
       "  </tbody>\n",
       "</table>\n",
       "</div>"
      ],
      "text/plain": [
       "                         count           min           max\n",
       "                 ponds_nearest ponds_nearest ponds_nearest\n",
       "ponds_around3000                                          \n",
       "0.00                         0           NaN           NaN\n",
       "1.00                      5701         20.00       1344.00\n",
       "2.00                      1888         13.00       1096.00\n",
       "3.00                      1488         22.00        950.00"
      ]
     },
     "metadata": {},
     "output_type": "display_data"
    }
   ],
   "source": [
    "display(good_data.loc[good_data['is_bad_geodata'] == False].pivot_table(index = 'parks_around3000', values='parks_nearest', aggfunc=['count','min','max']))\n",
    "display(good_data.loc[good_data['is_bad_geodata'] == False].pivot_table(index = 'ponds_around3000', values='ponds_nearest', aggfunc=['count','min','max']))"
   ]
  },
  {
   "cell_type": "markdown",
   "metadata": {},
   "source": [
    "Видно, что все бьется. При наличии объектов поблизости, расстояние так же указывается в адекватных интервалах.  Причем, учитывая количество объявлений, сам факт попадания в заданные рамки без вылетов означает работу автоматической системы. Пользователи, скорее всего, на данные о расстояниях не могут повлиять. Значит в системе установлен радиус поиска парков и прудов на расстоянии ~ 3200 метров (на основании максимально найденного парка. Это может быть связано с какими-то техническими ограничениями. Само по себе наличие пропусков в полях `parks_nearest` `ponds_nearest` эквиваленто отсутствию объекта в радиусе 3 км, <mark style=\"background:gold\">оставим</mark> пропуски в выборке good_data."
   ]
  },
  {
   "cell_type": "markdown",
   "metadata": {},
   "source": [
    "***\n",
    "##### **Проверка**"
   ]
  },
  {
   "cell_type": "code",
   "execution_count": 216,
   "metadata": {},
   "outputs": [
    {
     "data": {
      "text/html": [
       "<div>\n",
       "<style scoped>\n",
       "    .dataframe tbody tr th:only-of-type {\n",
       "        vertical-align: middle;\n",
       "    }\n",
       "\n",
       "    .dataframe tbody tr th {\n",
       "        vertical-align: top;\n",
       "    }\n",
       "\n",
       "    .dataframe thead th {\n",
       "        text-align: right;\n",
       "    }\n",
       "</style>\n",
       "<table border=\"1\" class=\"dataframe\">\n",
       "  <thead>\n",
       "    <tr style=\"text-align: right;\">\n",
       "      <th></th>\n",
       "      <th>empties</th>\n",
       "      <th>empties%</th>\n",
       "      <th>median</th>\n",
       "    </tr>\n",
       "  </thead>\n",
       "  <tbody>\n",
       "    <tr>\n",
       "      <th>total_images</th>\n",
       "      <td>0</td>\n",
       "      <td>0.00</td>\n",
       "      <td>9.00</td>\n",
       "    </tr>\n",
       "    <tr>\n",
       "      <th>last_price</th>\n",
       "      <td>0</td>\n",
       "      <td>0.00</td>\n",
       "      <td>4650000.00</td>\n",
       "    </tr>\n",
       "    <tr>\n",
       "      <th>total_area</th>\n",
       "      <td>0</td>\n",
       "      <td>0.00</td>\n",
       "      <td>52.00</td>\n",
       "    </tr>\n",
       "    <tr>\n",
       "      <th>first_day_exposition</th>\n",
       "      <td>0</td>\n",
       "      <td>0.00</td>\n",
       "      <td>NaN</td>\n",
       "    </tr>\n",
       "    <tr>\n",
       "      <th>rooms</th>\n",
       "      <td>0</td>\n",
       "      <td>0.00</td>\n",
       "      <td>2.00</td>\n",
       "    </tr>\n",
       "    <tr>\n",
       "      <th>ceiling_height</th>\n",
       "      <td>0</td>\n",
       "      <td>0.00</td>\n",
       "      <td>2.65</td>\n",
       "    </tr>\n",
       "    <tr>\n",
       "      <th>floors_total</th>\n",
       "      <td>0</td>\n",
       "      <td>0.00</td>\n",
       "      <td>9.00</td>\n",
       "    </tr>\n",
       "    <tr>\n",
       "      <th>living_area</th>\n",
       "      <td>0</td>\n",
       "      <td>0.00</td>\n",
       "      <td>30.00</td>\n",
       "    </tr>\n",
       "    <tr>\n",
       "      <th>floor</th>\n",
       "      <td>0</td>\n",
       "      <td>0.00</td>\n",
       "      <td>4.00</td>\n",
       "    </tr>\n",
       "    <tr>\n",
       "      <th>is_apartment</th>\n",
       "      <td>0</td>\n",
       "      <td>0.00</td>\n",
       "      <td>0.00</td>\n",
       "    </tr>\n",
       "    <tr>\n",
       "      <th>studio</th>\n",
       "      <td>0</td>\n",
       "      <td>0.00</td>\n",
       "      <td>0.00</td>\n",
       "    </tr>\n",
       "    <tr>\n",
       "      <th>open_plan</th>\n",
       "      <td>0</td>\n",
       "      <td>0.00</td>\n",
       "      <td>0.00</td>\n",
       "    </tr>\n",
       "    <tr>\n",
       "      <th>kitchen_area</th>\n",
       "      <td>0</td>\n",
       "      <td>0.00</td>\n",
       "      <td>9.10</td>\n",
       "    </tr>\n",
       "    <tr>\n",
       "      <th>balcony</th>\n",
       "      <td>0</td>\n",
       "      <td>0.00</td>\n",
       "      <td>0.00</td>\n",
       "    </tr>\n",
       "    <tr>\n",
       "      <th>locality_name</th>\n",
       "      <td>0</td>\n",
       "      <td>0.00</td>\n",
       "      <td>NaN</td>\n",
       "    </tr>\n",
       "    <tr>\n",
       "      <th>airports_nearest</th>\n",
       "      <td>5534</td>\n",
       "      <td>23.40</td>\n",
       "      <td>26756.50</td>\n",
       "    </tr>\n",
       "    <tr>\n",
       "      <th>cityCenters_nearest</th>\n",
       "      <td>5511</td>\n",
       "      <td>23.30</td>\n",
       "      <td>13105.00</td>\n",
       "    </tr>\n",
       "    <tr>\n",
       "      <th>parks_around3000</th>\n",
       "      <td>5510</td>\n",
       "      <td>23.30</td>\n",
       "      <td>0.00</td>\n",
       "    </tr>\n",
       "    <tr>\n",
       "      <th>parks_nearest</th>\n",
       "      <td>15586</td>\n",
       "      <td>65.90</td>\n",
       "      <td>454.50</td>\n",
       "    </tr>\n",
       "    <tr>\n",
       "      <th>ponds_around3000</th>\n",
       "      <td>5510</td>\n",
       "      <td>23.30</td>\n",
       "      <td>1.00</td>\n",
       "    </tr>\n",
       "    <tr>\n",
       "      <th>ponds_nearest</th>\n",
       "      <td>14565</td>\n",
       "      <td>61.59</td>\n",
       "      <td>502.00</td>\n",
       "    </tr>\n",
       "    <tr>\n",
       "      <th>days_exposition</th>\n",
       "      <td>3180</td>\n",
       "      <td>13.45</td>\n",
       "      <td>95.00</td>\n",
       "    </tr>\n",
       "    <tr>\n",
       "      <th>is_bad_geodata</th>\n",
       "      <td>0</td>\n",
       "      <td>0.00</td>\n",
       "      <td>0.00</td>\n",
       "    </tr>\n",
       "  </tbody>\n",
       "</table>\n",
       "</div>"
      ],
      "text/plain": [
       "                      empties  empties%     median\n",
       "total_images                0      0.00       9.00\n",
       "last_price                  0      0.00 4650000.00\n",
       "total_area                  0      0.00      52.00\n",
       "first_day_exposition        0      0.00        NaN\n",
       "rooms                       0      0.00       2.00\n",
       "ceiling_height              0      0.00       2.65\n",
       "floors_total                0      0.00       9.00\n",
       "living_area                 0      0.00      30.00\n",
       "floor                       0      0.00       4.00\n",
       "is_apartment                0      0.00       0.00\n",
       "studio                      0      0.00       0.00\n",
       "open_plan                   0      0.00       0.00\n",
       "kitchen_area                0      0.00       9.10\n",
       "balcony                     0      0.00       0.00\n",
       "locality_name               0      0.00        NaN\n",
       "airports_nearest         5534     23.40   26756.50\n",
       "cityCenters_nearest      5511     23.30   13105.00\n",
       "parks_around3000         5510     23.30       0.00\n",
       "parks_nearest           15586     65.90     454.50\n",
       "ponds_around3000         5510     23.30       1.00\n",
       "ponds_nearest           14565     61.59     502.00\n",
       "days_exposition          3180     13.45      95.00\n",
       "is_bad_geodata              0      0.00       0.00"
      ]
     },
     "metadata": {},
     "output_type": "display_data"
    },
    {
     "name": "stdout",
     "output_type": "stream",
     "text": [
      "Количество строк в изначальной выборке: 23699\n",
      "Количество строк в финальной выборке: 23650\n",
      "Удалено строк: 49 0.2 %\n"
     ]
    },
    {
     "data": {
      "image/png": "[encoded data removed]",
      "text/plain": [
       "<Figure size 720x360 with 2 Axes>"
      ]
     },
     "metadata": {
      "needs_background": "light"
     },
     "output_type": "display_data"
    }
   ],
   "source": [
    "# выведем состатистику пропусков по столбцам\n",
    "display(\n",
    " pd.concat([\n",
    "     good_data.isna().sum(), \n",
    "     good_data.isna().mean()*100,\n",
    "     good_data.median(numeric_only=True)\n",
    " ],axis=1).rename(columns=({0:'empties', 1:'empties%', 2:'median'}))\n",
    ")\n",
    "\n",
    "missingno.matrix(good_data,figsize=(10,5), fontsize=12, label_rotation=90);\n",
    "\n",
    "# сравним с изначальными данными\n",
    "print('Количество строк в изначальной выборке:', len(raw_data))\n",
    "print('Количество строк в финальной выборке:', len(good_data))\n",
    "print('Удалено строк:', len(raw_data) - len(good_data),  round(100 -len(good_data) / len(raw_data) * 100,1), '%')\n"
   ]
  },
  {
   "cell_type": "markdown",
   "metadata": {},
   "source": [
    "##### **Промежуточные выводы**\n",
    "Все возможные пропуски заполнены. В рамках заполнения пришлось удалить небольшое количество строк из-за присутствующих в них пропусков. Остальные пропуска удалось заменить на подходящие в том или ином случае значения. Исключение - столбцы с геоданными. Очень по многим строкам этой информации нет в принципе, так что пришлось отмаркировать эти строки в столбце is_bad_geoda и оставить в выборке.\n",
    "\n",
    "Добавлены столбцы:\n",
    "- `is_bad_geodata` с маркировкой пропусков картографических данных\n",
    "\n",
    "Удалось сформировать список потенциальных причин пропуска данных:\n",
    "- пользователи могут не указывать всевозможную информацию - этажность дома, количество балконов.\n",
    "- проблемы при сборе геоинформации для определенных городов, например для `посёлок Мурино` или `Всеволожск`. Возможно, для этих городов не может быть определена геолокация пользователя или невозможно выбрать адрес помещения на сайте. Данную проблему необходимо передать разработчикам для дальнейших прояснений.\n",
    "- для полей с расстоянием до ближайшего парка и пруда не фиксируется расстояние, если расстояние до ближайшего более 3200 метров.\n"
   ]
  },
  {
   "cell_type": "markdown",
   "metadata": {
    "tags": []
   },
   "source": [
    "#### Преобразование типов данных"
   ]
  },
  {
   "cell_type": "code",
   "execution_count": 217,
   "metadata": {},
   "outputs": [
    {
     "name": "stdout",
     "output_type": "stream",
     "text": [
      "<class 'pandas.core.frame.DataFrame'>\n",
      "Int64Index: 23650 entries, 0 to 23698\n",
      "Data columns (total 23 columns):\n",
      " #   Column                Non-Null Count  Dtype  \n",
      "---  ------                --------------  -----  \n",
      " 0   total_images          23650 non-null  int64  \n",
      " 1   last_price            23650 non-null  float64\n",
      " 2   total_area            23650 non-null  float64\n",
      " 3   first_day_exposition  23650 non-null  object \n",
      " 4   rooms                 23650 non-null  int64  \n",
      " 5   ceiling_height        23650 non-null  float64\n",
      " 6   floors_total          23650 non-null  float64\n",
      " 7   living_area           23650 non-null  float64\n",
      " 8   floor                 23650 non-null  int64  \n",
      " 9   is_apartment          23650 non-null  bool   \n",
      " 10  studio                23650 non-null  bool   \n",
      " 11  open_plan             23650 non-null  bool   \n",
      " 12  kitchen_area          23650 non-null  float64\n",
      " 13  balcony               23650 non-null  float64\n",
      " 14  locality_name         23650 non-null  object \n",
      " 15  airports_nearest      18116 non-null  float64\n",
      " 16  cityCenters_nearest   18139 non-null  float64\n",
      " 17  parks_around3000      18140 non-null  float64\n",
      " 18  parks_nearest         8064 non-null   float64\n",
      " 19  ponds_around3000      18140 non-null  float64\n",
      " 20  ponds_nearest         9085 non-null   float64\n",
      " 21  days_exposition       20470 non-null  float64\n",
      " 22  is_bad_geodata        23650 non-null  bool   \n",
      "dtypes: bool(4), float64(14), int64(3), object(2)\n",
      "memory usage: 3.7+ MB\n"
     ]
    }
   ],
   "source": [
    "good_data.info()"
   ]
  },
  {
   "cell_type": "markdown",
   "metadata": {},
   "source": [
    "В некоторых столбцах можем изменить тип данных:\n",
    "\n",
    "    #   Column                Текущий тип   Новый тип   Причина\n",
    "---  ------                --------------   -----       ----- \n",
    "     1   last_price            float64      int         В таком деле как недвижимость - лучше отбросить копейки, чтобы не отображать излишнюю дробную часть\n",
    "     3   first_day_exposition  object       datetime    Здесь должен быть формат даты в формате Pandas\n",
    "     6   floors_total          float64      int         Количество этажей - величина целочисленная\n",
    "     9   is_apartment          object       bool        Объект либо является апаратаментом либо нет. Это булево значение.\n",
    "     13  balcony               float64      int         Количество балконов - величина целочисленная.\n",
    "     17  parks_around3000      float64      int         Количество парков - величина целочисленная.\n",
    "     19  ponds_around3000      float64      int         Количество прудов - величина целочисленная.\n",
    "     21  days_exposition       float64      int         Дни можно оставить и как float, если нас интересуют доли суток. Однако в этом кейсе более применимы целочисленные дни."
   ]
  },
  {
   "cell_type": "code",
   "execution_count": 218,
   "metadata": {},
   "outputs": [
    {
     "name": "stdout",
     "output_type": "stream",
     "text": [
      "<class 'pandas.core.frame.DataFrame'>\n",
      "Int64Index: 23650 entries, 0 to 23698\n",
      "Data columns (total 23 columns):\n",
      " #   Column                Non-Null Count  Dtype         \n",
      "---  ------                --------------  -----         \n",
      " 0   total_images          23650 non-null  int32         \n",
      " 1   last_price            23650 non-null  int32         \n",
      " 2   total_area            23650 non-null  float32       \n",
      " 3   first_day_exposition  23650 non-null  datetime64[ns]\n",
      " 4   rooms                 23650 non-null  int32         \n",
      " 5   ceiling_height        23650 non-null  float32       \n",
      " 6   floors_total          23650 non-null  int32         \n",
      " 7   living_area           23650 non-null  float32       \n",
      " 8   floor                 23650 non-null  int32         \n",
      " 9   is_apartment          23650 non-null  bool          \n",
      " 10  studio                23650 non-null  bool          \n",
      " 11  open_plan             23650 non-null  bool          \n",
      " 12  kitchen_area          23650 non-null  float32       \n",
      " 13  balcony               23650 non-null  int32         \n",
      " 14  locality_name         23650 non-null  object        \n",
      " 15  airports_nearest      18116 non-null  float64       \n",
      " 16  cityCenters_nearest   18139 non-null  float64       \n",
      " 17  parks_around3000      18140 non-null  float64       \n",
      " 18  parks_nearest         8064 non-null   float64       \n",
      " 19  ponds_around3000      18140 non-null  float64       \n",
      " 20  ponds_nearest         9085 non-null   float64       \n",
      " 21  days_exposition       20470 non-null  float64       \n",
      " 22  is_bad_geodata        23650 non-null  bool          \n",
      "dtypes: bool(4), datetime64[ns](1), float32(4), float64(7), int32(6), object(1)\n",
      "memory usage: 2.8+ MB\n"
     ]
    },
    {
     "data": {
      "text/plain": [
       "None"
      ]
     },
     "metadata": {},
     "output_type": "display_data"
    }
   ],
   "source": [
    "# преобразуем типы данных\n",
    " \n",
    "good_data['total_images'] = good_data['total_images'].astype('int32')\n",
    "good_data['last_price'] = good_data['last_price'].astype('int32')\n",
    "good_data['total_area'] = good_data['total_area'].astype('float32')\n",
    "good_data['first_day_exposition'] = pd.to_datetime(good_data['first_day_exposition'], format='%Y-%m-%dT%H:%M:%S')\n",
    "good_data['rooms'] = good_data['rooms'].astype('int32')\n",
    "good_data['ceiling_height'] = good_data['ceiling_height'].astype('float32')\n",
    "good_data['living_area'] = good_data['living_area'].astype('float32')\n",
    "good_data['kitchen_area'] = good_data['kitchen_area'].astype('float32')\n",
    "good_data['floor'] = good_data['floor'].astype('int32')\n",
    "good_data['floors_total'] = good_data['floors_total'].astype('int32')\n",
    "good_data['is_apartment'] = good_data['is_apartment'].astype('bool')\n",
    "good_data['balcony'] = good_data['balcony'].astype('int32')\n",
    "good_data['parks_around3000'] = good_data['parks_around3000'].astype('int', errors='ignore')\n",
    "good_data['ponds_around3000'] = good_data['ponds_around3000'].astype('int', errors='ignore')\n",
    "#good_data['days_exposition'].describe()\n",
    "good_data['days_exposition'] = good_data['days_exposition'].astype('int', errors='ignore')\n",
    "\n",
    "# проверим результаты преобразований\n",
    "display(good_data.info())                     "
   ]
  },
  {
   "cell_type": "markdown",
   "metadata": {},
   "source": [
    "---\n",
    "##### Промежуточные выводы"
   ]
  },
  {
   "cell_type": "markdown",
   "metadata": {},
   "source": [
    "Не все колонки удалось заменить на int, `parks_around3000` и `ponds_around3000` содержат пустые значения NaN, так что формат полей остался float"
   ]
  },
  {
   "cell_type": "markdown",
   "metadata": {},
   "source": [
    "#### Удаление дубликатов"
   ]
  },
  {
   "cell_type": "markdown",
   "metadata": {},
   "source": [
    "---\n",
    "##### **Удаление явных дубликатов**"
   ]
  },
  {
   "cell_type": "code",
   "execution_count": 219,
   "metadata": {},
   "outputs": [
    {
     "data": {
      "text/plain": [
       "0"
      ]
     },
     "execution_count": 219,
     "metadata": {},
     "output_type": "execute_result"
    }
   ],
   "source": [
    "good_data.duplicated().sum()"
   ]
  },
  {
   "cell_type": "markdown",
   "metadata": {},
   "source": [
    "Явных дубликатов нет, перейдем к поиску неявных. "
   ]
  },
  {
   "cell_type": "markdown",
   "metadata": {},
   "source": [
    "---\n",
    "##### **Удаление неявных дубликатов**\n",
    "\n",
    "Потенциальный источник неявных дубликатов - столбец с наименованием населенного пункта. Проверим дубликаты по размеру символов"
   ]
  },
  {
   "cell_type": "code",
   "execution_count": 220,
   "metadata": {},
   "outputs": [
    {
     "name": "stdout",
     "output_type": "stream",
     "text": [
      "Уникальных названий до стандартизации формата: 364\n",
      "Уникальных названий после стандартизации формата: 364\n"
     ]
    }
   ],
   "source": [
    "#import random\n",
    "# функция для приведения текста к единому формату размера символов\n",
    "def text_to_title(text):\n",
    "    text=str(text)\n",
    "    return  text.title() # тест суффикс на проверку корректности работы + str(random.randrange(100))\n",
    "\n",
    "print('Уникальных названий до стандартизации формата:', len(good_data['locality_name'].unique()))\n",
    "print('Уникальных названий после стандартизации формата:',len(good_data['locality_name'].apply(lambda x: text_to_title(x)).unique()))"
   ]
  },
  {
   "cell_type": "markdown",
   "metadata": {},
   "source": [
    "Дубликатов по размеру символов нет. Проверим дубликаты по типам поселений.  Для отражения корректировок создадим новый столбец в good_data."
   ]
  },
  {
   "cell_type": "code",
   "execution_count": 221,
   "metadata": {},
   "outputs": [],
   "source": [
    "# новый столбец с откорректированными названиями\n",
    "good_data['locality_name_corrected'] = good_data['locality_name']"
   ]
  },
  {
   "cell_type": "code",
   "execution_count": 222,
   "metadata": {},
   "outputs": [],
   "source": [
    "# заведем пару функций \n",
    "# функция для получения последнего слова из текстовой строки\n",
    "def get_last_word(text):\n",
    "    text=str(text)\n",
    "    last_space_index = text.rfind(' ') \n",
    "    if last_space_index== -1:\n",
    "        return text\n",
    "    else:\n",
    "        return  text[last_space_index+1:]\n",
    "    \n",
    "# print(get_last_word('0123 456')) # тестовая строка"
   ]
  },
  {
   "cell_type": "code",
   "execution_count": 223,
   "metadata": {},
   "outputs": [],
   "source": [
    "# функция выведет таблицу с дубликатами последнего слова в указанном series \n",
    "def get_last_word_duplicates(pd_series, row_amount):\n",
    "    # выгружаем полный список всех локаций\n",
    "    _result = pd.DataFrame( pd_series.value_counts()).reset_index()\n",
    "    _result.columns = ['original_text', 'value_counts']\n",
    "\n",
    "    # вытаскиваем последнее слово из текстовой строки\n",
    "    _result['last_word'] = _result.apply(lambda x: get_last_word(x['original_text']),axis=1)  \n",
    "\n",
    "    # вычисляем дубликаты по last_word\n",
    "    last_words_duplicated = list(_result[_result['last_word'].duplicated()]['last_word'])\n",
    " \n",
    "    # добавим маркер потенциальных дубликатов\n",
    "    _result['last_word_duplicate'] = _result['last_word'].isin(last_words_duplicated)\n",
    "\n",
    "    display(_result[_result['last_word_duplicate']].sort_values(by='last_word').head(row_amount))\n",
    "    print('Всего дубликатов последних слов:', len(_result[_result['last_word_duplicate']]))"
   ]
  },
  {
   "cell_type": "code",
   "execution_count": 224,
   "metadata": {},
   "outputs": [
    {
     "data": {
      "text/html": [
       "<div>\n",
       "<style scoped>\n",
       "    .dataframe tbody tr th:only-of-type {\n",
       "        vertical-align: middle;\n",
       "    }\n",
       "\n",
       "    .dataframe tbody tr th {\n",
       "        vertical-align: top;\n",
       "    }\n",
       "\n",
       "    .dataframe thead th {\n",
       "        text-align: right;\n",
       "    }\n",
       "</style>\n",
       "<table border=\"1\" class=\"dataframe\">\n",
       "  <thead>\n",
       "    <tr style=\"text-align: right;\">\n",
       "      <th></th>\n",
       "      <th>original_text</th>\n",
       "      <th>value_counts</th>\n",
       "      <th>last_word</th>\n",
       "      <th>last_word_duplicate</th>\n",
       "    </tr>\n",
       "  </thead>\n",
       "  <tbody>\n",
       "    <tr>\n",
       "      <th>151</th>\n",
       "      <td>поселок Аннино</td>\n",
       "      <td>5</td>\n",
       "      <td>Аннино</td>\n",
       "      <td>True</td>\n",
       "    </tr>\n",
       "    <tr>\n",
       "      <th>90</th>\n",
       "      <td>посёлок Аннино</td>\n",
       "      <td>11</td>\n",
       "      <td>Аннино</td>\n",
       "      <td>True</td>\n",
       "    </tr>\n",
       "    <tr>\n",
       "      <th>63</th>\n",
       "      <td>деревня Бегуницы</td>\n",
       "      <td>17</td>\n",
       "      <td>Бегуницы</td>\n",
       "      <td>True</td>\n",
       "    </tr>\n",
       "    <tr>\n",
       "      <th>240</th>\n",
       "      <td>деревня Старые Бегуницы</td>\n",
       "      <td>2</td>\n",
       "      <td>Бегуницы</td>\n",
       "      <td>True</td>\n",
       "    </tr>\n",
       "    <tr>\n",
       "      <th>141</th>\n",
       "      <td>поселок городского типа Красный Бор</td>\n",
       "      <td>5</td>\n",
       "      <td>Бор</td>\n",
       "      <td>True</td>\n",
       "    </tr>\n",
       "  </tbody>\n",
       "</table>\n",
       "</div>"
      ],
      "text/plain": [
       "                           original_text  value_counts last_word  \\\n",
       "151                       поселок Аннино             5    Аннино   \n",
       "90                        посёлок Аннино            11    Аннино   \n",
       "63                      деревня Бегуницы            17  Бегуницы   \n",
       "240              деревня Старые Бегуницы             2  Бегуницы   \n",
       "141  поселок городского типа Красный Бор             5       Бор   \n",
       "\n",
       "     last_word_duplicate  \n",
       "151                 True  \n",
       "90                  True  \n",
       "63                  True  \n",
       "240                 True  \n",
       "141                 True  "
      ]
     },
     "metadata": {},
     "output_type": "display_data"
    },
    {
     "name": "stdout",
     "output_type": "stream",
     "text": [
      "Всего дубликатов последних слов: 130\n"
     ]
    }
   ],
   "source": [
    "# итерация 1\n",
    "get_last_word_duplicates(good_data['locality_name_corrected'], 5)"
   ]
  },
  {
   "cell_type": "markdown",
   "metadata": {},
   "source": [
    "Видно, что часть дубликатов связано с различным написанием `поселок` или `посёлок`."
   ]
  },
  {
   "cell_type": "code",
   "execution_count": 225,
   "metadata": {},
   "outputs": [
    {
     "data": {
      "text/html": [
       "<div>\n",
       "<style scoped>\n",
       "    .dataframe tbody tr th:only-of-type {\n",
       "        vertical-align: middle;\n",
       "    }\n",
       "\n",
       "    .dataframe tbody tr th {\n",
       "        vertical-align: top;\n",
       "    }\n",
       "\n",
       "    .dataframe thead th {\n",
       "        text-align: right;\n",
       "    }\n",
       "</style>\n",
       "<table border=\"1\" class=\"dataframe\">\n",
       "  <thead>\n",
       "    <tr style=\"text-align: right;\">\n",
       "      <th></th>\n",
       "      <th>original_text</th>\n",
       "      <th>value_counts</th>\n",
       "      <th>last_word</th>\n",
       "      <th>last_word_duplicate</th>\n",
       "    </tr>\n",
       "  </thead>\n",
       "  <tbody>\n",
       "    <tr>\n",
       "      <th>65</th>\n",
       "      <td>деревня Бегуницы</td>\n",
       "      <td>17</td>\n",
       "      <td>Бегуницы</td>\n",
       "      <td>True</td>\n",
       "    </tr>\n",
       "    <tr>\n",
       "      <th>234</th>\n",
       "      <td>деревня Старые Бегуницы</td>\n",
       "      <td>2</td>\n",
       "      <td>Бегуницы</td>\n",
       "      <td>True</td>\n",
       "    </tr>\n",
       "    <tr>\n",
       "      <th>26</th>\n",
       "      <td>Сосновый Бор</td>\n",
       "      <td>87</td>\n",
       "      <td>Бор</td>\n",
       "      <td>True</td>\n",
       "    </tr>\n",
       "    <tr>\n",
       "      <th>296</th>\n",
       "      <td>деревня Чудской Бор</td>\n",
       "      <td>1</td>\n",
       "      <td>Бор</td>\n",
       "      <td>True</td>\n",
       "    </tr>\n",
       "    <tr>\n",
       "      <th>203</th>\n",
       "      <td>деревня Бор</td>\n",
       "      <td>2</td>\n",
       "      <td>Бор</td>\n",
       "      <td>True</td>\n",
       "    </tr>\n",
       "    <tr>\n",
       "      <th>225</th>\n",
       "      <td>посёлок Пансионат Зелёный Бор</td>\n",
       "      <td>2</td>\n",
       "      <td>Бор</td>\n",
       "      <td>True</td>\n",
       "    </tr>\n",
       "    <tr>\n",
       "      <th>107</th>\n",
       "      <td>посёлок городского типа Красный Бор</td>\n",
       "      <td>8</td>\n",
       "      <td>Бор</td>\n",
       "      <td>True</td>\n",
       "    </tr>\n",
       "    <tr>\n",
       "      <th>259</th>\n",
       "      <td>деревня Трубников Бор</td>\n",
       "      <td>1</td>\n",
       "      <td>Бор</td>\n",
       "      <td>True</td>\n",
       "    </tr>\n",
       "    <tr>\n",
       "      <th>157</th>\n",
       "      <td>посёлок станции Вещево</td>\n",
       "      <td>4</td>\n",
       "      <td>Вещево</td>\n",
       "      <td>True</td>\n",
       "    </tr>\n",
       "    <tr>\n",
       "      <th>297</th>\n",
       "      <td>посёлок при железнодорожной станции Вещево</td>\n",
       "      <td>1</td>\n",
       "      <td>Вещево</td>\n",
       "      <td>True</td>\n",
       "    </tr>\n",
       "    <tr>\n",
       "      <th>160</th>\n",
       "      <td>посёлок Гарболово</td>\n",
       "      <td>4</td>\n",
       "      <td>Гарболово</td>\n",
       "      <td>True</td>\n",
       "    </tr>\n",
       "    <tr>\n",
       "      <th>79</th>\n",
       "      <td>деревня Гарболово</td>\n",
       "      <td>13</td>\n",
       "      <td>Гарболово</td>\n",
       "      <td>True</td>\n",
       "    </tr>\n",
       "    <tr>\n",
       "      <th>292</th>\n",
       "      <td>посёлок Форт Красная Горка</td>\n",
       "      <td>1</td>\n",
       "      <td>Горка</td>\n",
       "      <td>True</td>\n",
       "    </tr>\n",
       "    <tr>\n",
       "      <th>151</th>\n",
       "      <td>посёлок городского типа Дружная Горка</td>\n",
       "      <td>5</td>\n",
       "      <td>Горка</td>\n",
       "      <td>True</td>\n",
       "    </tr>\n",
       "    <tr>\n",
       "      <th>188</th>\n",
       "      <td>посёлок станции Громово</td>\n",
       "      <td>3</td>\n",
       "      <td>Громово</td>\n",
       "      <td>True</td>\n",
       "    </tr>\n",
       "    <tr>\n",
       "      <th>192</th>\n",
       "      <td>посёлок Громово</td>\n",
       "      <td>3</td>\n",
       "      <td>Громово</td>\n",
       "      <td>True</td>\n",
       "    </tr>\n",
       "    <tr>\n",
       "      <th>320</th>\n",
       "      <td>деревня Зимитицы</td>\n",
       "      <td>1</td>\n",
       "      <td>Зимитицы</td>\n",
       "      <td>True</td>\n",
       "    </tr>\n",
       "    <tr>\n",
       "      <th>198</th>\n",
       "      <td>посёлок Зимитицы</td>\n",
       "      <td>3</td>\n",
       "      <td>Зимитицы</td>\n",
       "      <td>True</td>\n",
       "    </tr>\n",
       "    <tr>\n",
       "      <th>250</th>\n",
       "      <td>посёлок городского типа Большая Ижора</td>\n",
       "      <td>1</td>\n",
       "      <td>Ижора</td>\n",
       "      <td>True</td>\n",
       "    </tr>\n",
       "    <tr>\n",
       "      <th>66</th>\n",
       "      <td>городской посёлок Большая Ижора</td>\n",
       "      <td>16</td>\n",
       "      <td>Ижора</td>\n",
       "      <td>True</td>\n",
       "    </tr>\n",
       "  </tbody>\n",
       "</table>\n",
       "</div>"
      ],
      "text/plain": [
       "                                  original_text  value_counts  last_word  \\\n",
       "65                             деревня Бегуницы            17   Бегуницы   \n",
       "234                     деревня Старые Бегуницы             2   Бегуницы   \n",
       "26                                 Сосновый Бор            87        Бор   \n",
       "296                         деревня Чудской Бор             1        Бор   \n",
       "203                                 деревня Бор             2        Бор   \n",
       "225               посёлок Пансионат Зелёный Бор             2        Бор   \n",
       "107         посёлок городского типа Красный Бор             8        Бор   \n",
       "259                       деревня Трубников Бор             1        Бор   \n",
       "157                      посёлок станции Вещево             4     Вещево   \n",
       "297  посёлок при железнодорожной станции Вещево             1     Вещево   \n",
       "160                           посёлок Гарболово             4  Гарболово   \n",
       "79                            деревня Гарболово            13  Гарболово   \n",
       "292                  посёлок Форт Красная Горка             1      Горка   \n",
       "151       посёлок городского типа Дружная Горка             5      Горка   \n",
       "188                     посёлок станции Громово             3    Громово   \n",
       "192                             посёлок Громово             3    Громово   \n",
       "320                            деревня Зимитицы             1   Зимитицы   \n",
       "198                            посёлок Зимитицы             3   Зимитицы   \n",
       "250       посёлок городского типа Большая Ижора             1      Ижора   \n",
       "66              городской посёлок Большая Ижора            16      Ижора   \n",
       "\n",
       "     last_word_duplicate  \n",
       "65                  True  \n",
       "234                 True  \n",
       "26                  True  \n",
       "296                 True  \n",
       "203                 True  \n",
       "225                 True  \n",
       "107                 True  \n",
       "259                 True  \n",
       "157                 True  \n",
       "297                 True  \n",
       "160                 True  \n",
       "79                  True  \n",
       "292                 True  \n",
       "151                 True  \n",
       "188                 True  \n",
       "192                 True  \n",
       "320                 True  \n",
       "198                 True  \n",
       "250                 True  \n",
       "66                  True  "
      ]
     },
     "metadata": {},
     "output_type": "display_data"
    },
    {
     "name": "stdout",
     "output_type": "stream",
     "text": [
      "Всего дубликатов последних слов: 67\n"
     ]
    }
   ],
   "source": [
    "\n",
    "good_data['locality_name_corrected'] = good_data['locality_name_corrected'].str.replace('поселок','посёлок')\n",
    "\n",
    "# итерация 2\n",
    "get_last_word_duplicates(good_data['locality_name_corrected'], 20)"
   ]
  },
  {
   "cell_type": "markdown",
   "metadata": {},
   "source": [
    "Часть дубликатов появляется из-за разного наименования пар значений:\n",
    "- посёлок станции / посёлок при железнодорожной станции\n",
    "- городской посёлок / посёлок городского типа\n",
    "- посёлок / деревня\n",
    "\n",
    "Фактически, разные типы поселений реально могут означать разные населенные пункты, хоть и с одним названием. Удалим все упоминания о типе поселений из столбца `locality_name_corrected`, тем более, что мы сохранили оригинальные данные в `locality_name`"
   ]
  },
  {
   "cell_type": "code",
   "execution_count": 226,
   "metadata": {},
   "outputs": [
    {
     "data": {
      "text/html": [
       "<div>\n",
       "<style scoped>\n",
       "    .dataframe tbody tr th:only-of-type {\n",
       "        vertical-align: middle;\n",
       "    }\n",
       "\n",
       "    .dataframe tbody tr th {\n",
       "        vertical-align: top;\n",
       "    }\n",
       "\n",
       "    .dataframe thead th {\n",
       "        text-align: right;\n",
       "    }\n",
       "</style>\n",
       "<table border=\"1\" class=\"dataframe\">\n",
       "  <thead>\n",
       "    <tr style=\"text-align: right;\">\n",
       "      <th></th>\n",
       "      <th>original_text</th>\n",
       "      <th>value_counts</th>\n",
       "      <th>last_word</th>\n",
       "      <th>last_word_duplicate</th>\n",
       "    </tr>\n",
       "  </thead>\n",
       "  <tbody>\n",
       "    <tr>\n",
       "      <th>64</th>\n",
       "      <td>Бегуницы</td>\n",
       "      <td>17</td>\n",
       "      <td>Бегуницы</td>\n",
       "      <td>True</td>\n",
       "    </tr>\n",
       "    <tr>\n",
       "      <th>214</th>\n",
       "      <td>Старые Бегуницы</td>\n",
       "      <td>2</td>\n",
       "      <td>Бегуницы</td>\n",
       "      <td>True</td>\n",
       "    </tr>\n",
       "    <tr>\n",
       "      <th>25</th>\n",
       "      <td>Сосновый Бор</td>\n",
       "      <td>87</td>\n",
       "      <td>Бор</td>\n",
       "      <td>True</td>\n",
       "    </tr>\n",
       "    <tr>\n",
       "      <th>274</th>\n",
       "      <td>Чудской Бор</td>\n",
       "      <td>1</td>\n",
       "      <td>Бор</td>\n",
       "      <td>True</td>\n",
       "    </tr>\n",
       "    <tr>\n",
       "      <th>251</th>\n",
       "      <td>Трубников Бор</td>\n",
       "      <td>1</td>\n",
       "      <td>Бор</td>\n",
       "      <td>True</td>\n",
       "    </tr>\n",
       "    <tr>\n",
       "      <th>223</th>\n",
       "      <td>Пансионат Зелёный Бор</td>\n",
       "      <td>2</td>\n",
       "      <td>Бор</td>\n",
       "      <td>True</td>\n",
       "    </tr>\n",
       "    <tr>\n",
       "      <th>211</th>\n",
       "      <td>Бор</td>\n",
       "      <td>2</td>\n",
       "      <td>Бор</td>\n",
       "      <td>True</td>\n",
       "    </tr>\n",
       "    <tr>\n",
       "      <th>107</th>\n",
       "      <td>Красный Бор</td>\n",
       "      <td>8</td>\n",
       "      <td>Бор</td>\n",
       "      <td>True</td>\n",
       "    </tr>\n",
       "    <tr>\n",
       "      <th>140</th>\n",
       "      <td>Дружная Горка</td>\n",
       "      <td>5</td>\n",
       "      <td>Горка</td>\n",
       "      <td>True</td>\n",
       "    </tr>\n",
       "    <tr>\n",
       "      <th>294</th>\n",
       "      <td>Форт Красная Горка</td>\n",
       "      <td>1</td>\n",
       "      <td>Горка</td>\n",
       "      <td>True</td>\n",
       "    </tr>\n",
       "    <tr>\n",
       "      <th>68</th>\n",
       "      <td>Большие Колпаны</td>\n",
       "      <td>16</td>\n",
       "      <td>Колпаны</td>\n",
       "      <td>True</td>\n",
       "    </tr>\n",
       "    <tr>\n",
       "      <th>118</th>\n",
       "      <td>Малые Колпаны</td>\n",
       "      <td>7</td>\n",
       "      <td>Колпаны</td>\n",
       "      <td>True</td>\n",
       "    </tr>\n",
       "    <tr>\n",
       "      <th>219</th>\n",
       "      <td>Старая Ладога</td>\n",
       "      <td>2</td>\n",
       "      <td>Ладога</td>\n",
       "      <td>True</td>\n",
       "    </tr>\n",
       "    <tr>\n",
       "      <th>76</th>\n",
       "      <td>Новая Ладога</td>\n",
       "      <td>14</td>\n",
       "      <td>Ладога</td>\n",
       "      <td>True</td>\n",
       "    </tr>\n",
       "    <tr>\n",
       "      <th>227</th>\n",
       "      <td>Малая Романовка</td>\n",
       "      <td>1</td>\n",
       "      <td>Романовка</td>\n",
       "      <td>True</td>\n",
       "    </tr>\n",
       "    <tr>\n",
       "      <th>41</th>\n",
       "      <td>Романовка</td>\n",
       "      <td>36</td>\n",
       "      <td>Романовка</td>\n",
       "      <td>True</td>\n",
       "    </tr>\n",
       "    <tr>\n",
       "      <th>276</th>\n",
       "      <td>Ропша</td>\n",
       "      <td>1</td>\n",
       "      <td>Ропша</td>\n",
       "      <td>True</td>\n",
       "    </tr>\n",
       "    <tr>\n",
       "      <th>245</th>\n",
       "      <td>Новая Ропша</td>\n",
       "      <td>1</td>\n",
       "      <td>Ропша</td>\n",
       "      <td>True</td>\n",
       "    </tr>\n",
       "  </tbody>\n",
       "</table>\n",
       "</div>"
      ],
      "text/plain": [
       "             original_text  value_counts  last_word  last_word_duplicate\n",
       "64                Бегуницы            17   Бегуницы                 True\n",
       "214        Старые Бегуницы             2   Бегуницы                 True\n",
       "25            Сосновый Бор            87        Бор                 True\n",
       "274            Чудской Бор             1        Бор                 True\n",
       "251          Трубников Бор             1        Бор                 True\n",
       "223  Пансионат Зелёный Бор             2        Бор                 True\n",
       "211                    Бор             2        Бор                 True\n",
       "107            Красный Бор             8        Бор                 True\n",
       "140          Дружная Горка             5      Горка                 True\n",
       "294     Форт Красная Горка             1      Горка                 True\n",
       "68         Большие Колпаны            16    Колпаны                 True\n",
       "118          Малые Колпаны             7    Колпаны                 True\n",
       "219          Старая Ладога             2     Ладога                 True\n",
       "76            Новая Ладога            14     Ладога                 True\n",
       "227        Малая Романовка             1  Романовка                 True\n",
       "41               Романовка            36  Романовка                 True\n",
       "276                  Ропша             1      Ропша                 True\n",
       "245            Новая Ропша             1      Ропша                 True"
      ]
     },
     "metadata": {},
     "output_type": "display_data"
    },
    {
     "name": "stdout",
     "output_type": "stream",
     "text": [
      "Всего дубликатов последних слов: 18\n"
     ]
    }
   ],
   "source": [
    "replaced_values=[\n",
    "    'деревня ','посёлок при железнодорожной станции ',\n",
    "    'городской посёлок ','посёлок городского типа ','коттеджный посёлок ','посёлок станции ','посёлок ','садовое товарищество ',\n",
    "    'садоводческое некоммерческое товарищество ','село '\n",
    "]\n",
    "\n",
    "for item in replaced_values:\n",
    "    good_data['locality_name_corrected'] = good_data['locality_name_corrected'].str.replace(item,'')\n",
    "\n",
    "#good_data['locality_name_corrected'] = good_data['locality_name_corrected'].str.replace('деревня ','')\n",
    "#good_data['locality_name_corrected'] = good_data['locality_name_corrected'].str.replace('посёлок при железнодорожной станции ','')\n",
    "#good_data['locality_name_corrected'] = good_data['locality_name_corrected'].str.replace('городской посёлок ','')\n",
    "#good_data['locality_name_corrected'] = good_data['locality_name_corrected'].str.replace('посёлок городского типа ','')\n",
    "#good_data['locality_name_corrected'] = good_data['locality_name_corrected'].str.replace('коттеджный посёлок ','')\n",
    "#good_data['locality_name_corrected'] = good_data['locality_name_corrected'].str.replace('посёлок станции ','')\n",
    "#good_data['locality_name_corrected'] = good_data['locality_name_corrected'].str.replace('посёлок ','')\n",
    "#good_data['locality_name_corrected'] = good_data['locality_name_corrected'].str.replace('садовое товарищество ','')\n",
    "#good_data['locality_name_corrected'] = good_data['locality_name_corrected'].str.replace('садоводческое некоммерческое товарищество ','')\n",
    "#good_data['locality_name_corrected'] = good_data['locality_name_corrected'].str.replace('село ','')\n",
    "\n",
    "# итерация 3\n",
    "get_last_word_duplicates(good_data['locality_name_corrected'], 20)"
   ]
  },
  {
   "cell_type": "markdown",
   "metadata": {},
   "source": [
    "Другое дело - остались только похожие названия разных поселений."
   ]
  },
  {
   "cell_type": "markdown",
   "metadata": {},
   "source": [
    "---\n",
    "##### **Проверка**\n",
    "Проверим еще раз список уникальных значений в столбцах `locality_name_corrected` и `locality_name_corrected`"
   ]
  },
  {
   "cell_type": "code",
   "execution_count": 227,
   "metadata": {},
   "outputs": [
    {
     "name": "stdout",
     "output_type": "stream",
     "text": [
      "Уникальных поселений до: 364\n",
      "Уникальных поселений после: 305\n",
      "Удалено дубликатов названий поселений: 59\n",
      "Общее количество явных дубликатов после всех манипуляций: 0\n"
     ]
    }
   ],
   "source": [
    "print('Уникальных поселений до:', len(good_data['locality_name'].unique()))\n",
    "print('Уникальных поселений после:', len(good_data['locality_name_corrected'].unique())) \n",
    "print('Удалено дубликатов названий поселений:', len(good_data['locality_name'].unique()) - len(good_data['locality_name_corrected'].unique()))\n",
    "print('Общее количество явных дубликатов после всех манипуляций:', good_data.duplicated().sum())"
   ]
  },
  {
   "cell_type": "markdown",
   "metadata": {},
   "source": [
    "---\n",
    "##### Промежуточные выводы\n",
    "\n",
    "Явных дубликатов в датасете не обнаружилось, однако было небольшое количество неявных дубликатов в названиях населенных пунктов. В общей сложности было исправлено 59 дубликатов названий и количество уникальных населенных пунктов снизилось с 364 до 305. Для откорректированных названий был добавлен столбец `locality_name_corrected`, чтобы не терять оригинальное название в столбце `locality_name`\n",
    "\n",
    "---"
   ]
  },
  {
   "cell_type": "markdown",
   "metadata": {},
   "source": [
    "#### Устранение редких и выбивающихся значений"
   ]
  },
  {
   "cell_type": "code",
   "execution_count": 228,
   "metadata": {},
   "outputs": [
    {
     "data": {
      "text/html": [
       "<div>\n",
       "<style scoped>\n",
       "    .dataframe tbody tr th:only-of-type {\n",
       "        vertical-align: middle;\n",
       "    }\n",
       "\n",
       "    .dataframe tbody tr th {\n",
       "        vertical-align: top;\n",
       "    }\n",
       "\n",
       "    .dataframe thead th {\n",
       "        text-align: right;\n",
       "    }\n",
       "</style>\n",
       "<table border=\"1\" class=\"dataframe\">\n",
       "  <thead>\n",
       "    <tr style=\"text-align: right;\">\n",
       "      <th></th>\n",
       "      <th>count</th>\n",
       "      <th>mean</th>\n",
       "      <th>std</th>\n",
       "      <th>min</th>\n",
       "      <th>25%</th>\n",
       "      <th>50%</th>\n",
       "      <th>75%</th>\n",
       "      <th>max</th>\n",
       "    </tr>\n",
       "  </thead>\n",
       "  <tbody>\n",
       "    <tr>\n",
       "      <th>total_images</th>\n",
       "      <td>23650.00</td>\n",
       "      <td>9.86</td>\n",
       "      <td>5.68</td>\n",
       "      <td>0.00</td>\n",
       "      <td>6.00</td>\n",
       "      <td>9.00</td>\n",
       "      <td>14.00</td>\n",
       "      <td>50.00</td>\n",
       "    </tr>\n",
       "    <tr>\n",
       "      <th>last_price</th>\n",
       "      <td>23650.00</td>\n",
       "      <td>6541126.90</td>\n",
       "      <td>10896399.18</td>\n",
       "      <td>12190.00</td>\n",
       "      <td>3400000.00</td>\n",
       "      <td>4650000.00</td>\n",
       "      <td>6799000.00</td>\n",
       "      <td>763000000.00</td>\n",
       "    </tr>\n",
       "    <tr>\n",
       "      <th>total_area</th>\n",
       "      <td>23650.00</td>\n",
       "      <td>60.33</td>\n",
       "      <td>35.66</td>\n",
       "      <td>12.00</td>\n",
       "      <td>40.00</td>\n",
       "      <td>52.00</td>\n",
       "      <td>69.70</td>\n",
       "      <td>900.00</td>\n",
       "    </tr>\n",
       "    <tr>\n",
       "      <th>rooms</th>\n",
       "      <td>23650.00</td>\n",
       "      <td>2.07</td>\n",
       "      <td>1.08</td>\n",
       "      <td>0.00</td>\n",
       "      <td>1.00</td>\n",
       "      <td>2.00</td>\n",
       "      <td>3.00</td>\n",
       "      <td>19.00</td>\n",
       "    </tr>\n",
       "    <tr>\n",
       "      <th>ceiling_height</th>\n",
       "      <td>23650.00</td>\n",
       "      <td>2.72</td>\n",
       "      <td>0.99</td>\n",
       "      <td>1.00</td>\n",
       "      <td>2.60</td>\n",
       "      <td>2.65</td>\n",
       "      <td>2.70</td>\n",
       "      <td>100.00</td>\n",
       "    </tr>\n",
       "    <tr>\n",
       "      <th>floors_total</th>\n",
       "      <td>23650.00</td>\n",
       "      <td>10.71</td>\n",
       "      <td>6.65</td>\n",
       "      <td>1.00</td>\n",
       "      <td>5.00</td>\n",
       "      <td>9.00</td>\n",
       "      <td>16.00</td>\n",
       "      <td>60.00</td>\n",
       "    </tr>\n",
       "    <tr>\n",
       "      <th>living_area</th>\n",
       "      <td>23650.00</td>\n",
       "      <td>34.59</td>\n",
       "      <td>22.37</td>\n",
       "      <td>2.00</td>\n",
       "      <td>19.00</td>\n",
       "      <td>30.00</td>\n",
       "      <td>42.10</td>\n",
       "      <td>409.70</td>\n",
       "    </tr>\n",
       "    <tr>\n",
       "      <th>floor</th>\n",
       "      <td>23650.00</td>\n",
       "      <td>5.89</td>\n",
       "      <td>4.88</td>\n",
       "      <td>1.00</td>\n",
       "      <td>2.00</td>\n",
       "      <td>4.00</td>\n",
       "      <td>8.00</td>\n",
       "      <td>33.00</td>\n",
       "    </tr>\n",
       "    <tr>\n",
       "      <th>kitchen_area</th>\n",
       "      <td>23650.00</td>\n",
       "      <td>10.38</td>\n",
       "      <td>5.63</td>\n",
       "      <td>0.00</td>\n",
       "      <td>7.20</td>\n",
       "      <td>9.10</td>\n",
       "      <td>11.40</td>\n",
       "      <td>112.00</td>\n",
       "    </tr>\n",
       "    <tr>\n",
       "      <th>balcony</th>\n",
       "      <td>23650.00</td>\n",
       "      <td>0.59</td>\n",
       "      <td>0.96</td>\n",
       "      <td>0.00</td>\n",
       "      <td>0.00</td>\n",
       "      <td>0.00</td>\n",
       "      <td>1.00</td>\n",
       "      <td>5.00</td>\n",
       "    </tr>\n",
       "    <tr>\n",
       "      <th>airports_nearest</th>\n",
       "      <td>18116.00</td>\n",
       "      <td>28803.23</td>\n",
       "      <td>12637.31</td>\n",
       "      <td>0.00</td>\n",
       "      <td>18575.75</td>\n",
       "      <td>26756.50</td>\n",
       "      <td>37294.00</td>\n",
       "      <td>84869.00</td>\n",
       "    </tr>\n",
       "    <tr>\n",
       "      <th>cityCenters_nearest</th>\n",
       "      <td>18139.00</td>\n",
       "      <td>14197.86</td>\n",
       "      <td>8606.83</td>\n",
       "      <td>181.00</td>\n",
       "      <td>9241.00</td>\n",
       "      <td>13105.00</td>\n",
       "      <td>16293.00</td>\n",
       "      <td>65968.00</td>\n",
       "    </tr>\n",
       "    <tr>\n",
       "      <th>parks_around3000</th>\n",
       "      <td>18140.00</td>\n",
       "      <td>0.61</td>\n",
       "      <td>0.80</td>\n",
       "      <td>0.00</td>\n",
       "      <td>0.00</td>\n",
       "      <td>0.00</td>\n",
       "      <td>1.00</td>\n",
       "      <td>3.00</td>\n",
       "    </tr>\n",
       "    <tr>\n",
       "      <th>parks_nearest</th>\n",
       "      <td>8064.00</td>\n",
       "      <td>490.83</td>\n",
       "      <td>342.55</td>\n",
       "      <td>1.00</td>\n",
       "      <td>288.00</td>\n",
       "      <td>454.50</td>\n",
       "      <td>612.00</td>\n",
       "      <td>3190.00</td>\n",
       "    </tr>\n",
       "    <tr>\n",
       "      <th>ponds_around3000</th>\n",
       "      <td>18140.00</td>\n",
       "      <td>0.77</td>\n",
       "      <td>0.94</td>\n",
       "      <td>0.00</td>\n",
       "      <td>0.00</td>\n",
       "      <td>1.00</td>\n",
       "      <td>1.00</td>\n",
       "      <td>3.00</td>\n",
       "    </tr>\n",
       "    <tr>\n",
       "      <th>ponds_nearest</th>\n",
       "      <td>9085.00</td>\n",
       "      <td>518.06</td>\n",
       "      <td>277.84</td>\n",
       "      <td>13.00</td>\n",
       "      <td>293.00</td>\n",
       "      <td>502.00</td>\n",
       "      <td>730.00</td>\n",
       "      <td>1344.00</td>\n",
       "    </tr>\n",
       "    <tr>\n",
       "      <th>days_exposition</th>\n",
       "      <td>20470.00</td>\n",
       "      <td>180.75</td>\n",
       "      <td>219.78</td>\n",
       "      <td>1.00</td>\n",
       "      <td>45.00</td>\n",
       "      <td>95.00</td>\n",
       "      <td>231.00</td>\n",
       "      <td>1580.00</td>\n",
       "    </tr>\n",
       "  </tbody>\n",
       "</table>\n",
       "</div>"
      ],
      "text/plain": [
       "                       count       mean         std      min        25%  \\\n",
       "total_images        23650.00       9.86        5.68     0.00       6.00   \n",
       "last_price          23650.00 6541126.90 10896399.18 12190.00 3400000.00   \n",
       "total_area          23650.00      60.33       35.66    12.00      40.00   \n",
       "rooms               23650.00       2.07        1.08     0.00       1.00   \n",
       "ceiling_height      23650.00       2.72        0.99     1.00       2.60   \n",
       "floors_total        23650.00      10.71        6.65     1.00       5.00   \n",
       "living_area         23650.00      34.59       22.37     2.00      19.00   \n",
       "floor               23650.00       5.89        4.88     1.00       2.00   \n",
       "kitchen_area        23650.00      10.38        5.63     0.00       7.20   \n",
       "balcony             23650.00       0.59        0.96     0.00       0.00   \n",
       "airports_nearest    18116.00   28803.23    12637.31     0.00   18575.75   \n",
       "cityCenters_nearest 18139.00   14197.86     8606.83   181.00    9241.00   \n",
       "parks_around3000    18140.00       0.61        0.80     0.00       0.00   \n",
       "parks_nearest        8064.00     490.83      342.55     1.00     288.00   \n",
       "ponds_around3000    18140.00       0.77        0.94     0.00       0.00   \n",
       "ponds_nearest        9085.00     518.06      277.84    13.00     293.00   \n",
       "days_exposition     20470.00     180.75      219.78     1.00      45.00   \n",
       "\n",
       "                           50%        75%          max  \n",
       "total_images              9.00      14.00        50.00  \n",
       "last_price          4650000.00 6799000.00 763000000.00  \n",
       "total_area               52.00      69.70       900.00  \n",
       "rooms                     2.00       3.00        19.00  \n",
       "ceiling_height            2.65       2.70       100.00  \n",
       "floors_total              9.00      16.00        60.00  \n",
       "living_area              30.00      42.10       409.70  \n",
       "floor                     4.00       8.00        33.00  \n",
       "kitchen_area              9.10      11.40       112.00  \n",
       "balcony                   0.00       1.00         5.00  \n",
       "airports_nearest      26756.50   37294.00     84869.00  \n",
       "cityCenters_nearest   13105.00   16293.00     65968.00  \n",
       "parks_around3000          0.00       1.00         3.00  \n",
       "parks_nearest           454.50     612.00      3190.00  \n",
       "ponds_around3000          1.00       1.00         3.00  \n",
       "ponds_nearest           502.00     730.00      1344.00  \n",
       "days_exposition          95.00     231.00      1580.00  "
      ]
     },
     "metadata": {},
     "output_type": "display_data"
    }
   ],
   "source": [
    "# отобразим раскладку по всем столбцам\n",
    "\n",
    "display(good_data.describe().T)"
   ]
  },
  {
   "cell_type": "markdown",
   "metadata": {},
   "source": [
    "Подозрительно выглядят крайние значения в столбцах:\n",
    "- last_price - квартира ценой от 12 тысяч ?\n",
    "- rooms - есть варианты с 0 комнат ?\n",
    "- ceiling_height - потолки от 1 до 100 метров ?\n",
    "- floors_total - жилая 60ти этажка ?\n",
    "- total_area - 900м2 квартира может быть, но это явно вылет в рамках текущего исследования\n",
    "- living_area - жилая площадь от 2х метров ?\n",
    "- kitchen_area - кухня от 1.3 метра?\n",
    "- airports_nearest - расстояние от 0 метров ?"
   ]
  },
  {
   "cell_type": "markdown",
   "metadata": {},
   "source": [
    "---\n",
    "***last price***"
   ]
  },
  {
   "cell_type": "code",
   "execution_count": 229,
   "metadata": {},
   "outputs": [
    {
     "data": {
      "text/html": [
       "<div>\n",
       "<style scoped>\n",
       "    .dataframe tbody tr th:only-of-type {\n",
       "        vertical-align: middle;\n",
       "    }\n",
       "\n",
       "    .dataframe tbody tr th {\n",
       "        vertical-align: top;\n",
       "    }\n",
       "\n",
       "    .dataframe thead th {\n",
       "        text-align: right;\n",
       "    }\n",
       "</style>\n",
       "<table border=\"1\" class=\"dataframe\">\n",
       "  <thead>\n",
       "    <tr style=\"text-align: right;\">\n",
       "      <th></th>\n",
       "      <th>total_images</th>\n",
       "      <th>last_price</th>\n",
       "      <th>total_area</th>\n",
       "      <th>first_day_exposition</th>\n",
       "      <th>rooms</th>\n",
       "      <th>ceiling_height</th>\n",
       "      <th>floors_total</th>\n",
       "      <th>living_area</th>\n",
       "      <th>floor</th>\n",
       "      <th>is_apartment</th>\n",
       "      <th>studio</th>\n",
       "      <th>open_plan</th>\n",
       "      <th>kitchen_area</th>\n",
       "      <th>balcony</th>\n",
       "      <th>locality_name</th>\n",
       "      <th>airports_nearest</th>\n",
       "      <th>cityCenters_nearest</th>\n",
       "      <th>parks_around3000</th>\n",
       "      <th>parks_nearest</th>\n",
       "      <th>ponds_around3000</th>\n",
       "      <th>ponds_nearest</th>\n",
       "      <th>days_exposition</th>\n",
       "      <th>is_bad_geodata</th>\n",
       "      <th>locality_name_corrected</th>\n",
       "    </tr>\n",
       "  </thead>\n",
       "  <tbody>\n",
       "    <tr>\n",
       "      <th>8793</th>\n",
       "      <td>7</td>\n",
       "      <td>12190</td>\n",
       "      <td>109.00</td>\n",
       "      <td>2019-03-20</td>\n",
       "      <td>2</td>\n",
       "      <td>2.75</td>\n",
       "      <td>25</td>\n",
       "      <td>32.00</td>\n",
       "      <td>25</td>\n",
       "      <td>False</td>\n",
       "      <td>False</td>\n",
       "      <td>False</td>\n",
       "      <td>40.50</td>\n",
       "      <td>0</td>\n",
       "      <td>Санкт-Петербург</td>\n",
       "      <td>36421.00</td>\n",
       "      <td>9176.00</td>\n",
       "      <td>1.00</td>\n",
       "      <td>805.00</td>\n",
       "      <td>0.00</td>\n",
       "      <td>NaN</td>\n",
       "      <td>8.00</td>\n",
       "      <td>False</td>\n",
       "      <td>Санкт-Петербург</td>\n",
       "    </tr>\n",
       "    <tr>\n",
       "      <th>17456</th>\n",
       "      <td>7</td>\n",
       "      <td>430000</td>\n",
       "      <td>30.40</td>\n",
       "      <td>2019-04-22</td>\n",
       "      <td>1</td>\n",
       "      <td>2.65</td>\n",
       "      <td>2</td>\n",
       "      <td>16.00</td>\n",
       "      <td>1</td>\n",
       "      <td>False</td>\n",
       "      <td>False</td>\n",
       "      <td>False</td>\n",
       "      <td>6.00</td>\n",
       "      <td>0</td>\n",
       "      <td>Сланцы</td>\n",
       "      <td>NaN</td>\n",
       "      <td>NaN</td>\n",
       "      <td>NaN</td>\n",
       "      <td>NaN</td>\n",
       "      <td>NaN</td>\n",
       "      <td>NaN</td>\n",
       "      <td>NaN</td>\n",
       "      <td>True</td>\n",
       "      <td>Сланцы</td>\n",
       "    </tr>\n",
       "    <tr>\n",
       "      <th>14911</th>\n",
       "      <td>5</td>\n",
       "      <td>430000</td>\n",
       "      <td>54.00</td>\n",
       "      <td>2018-06-26</td>\n",
       "      <td>2</td>\n",
       "      <td>2.65</td>\n",
       "      <td>3</td>\n",
       "      <td>30.97</td>\n",
       "      <td>3</td>\n",
       "      <td>False</td>\n",
       "      <td>False</td>\n",
       "      <td>False</td>\n",
       "      <td>9.10</td>\n",
       "      <td>0</td>\n",
       "      <td>посёлок станции Свирь</td>\n",
       "      <td>NaN</td>\n",
       "      <td>NaN</td>\n",
       "      <td>NaN</td>\n",
       "      <td>NaN</td>\n",
       "      <td>NaN</td>\n",
       "      <td>NaN</td>\n",
       "      <td>44.00</td>\n",
       "      <td>True</td>\n",
       "      <td>Свирь</td>\n",
       "    </tr>\n",
       "    <tr>\n",
       "      <th>16274</th>\n",
       "      <td>18</td>\n",
       "      <td>440000</td>\n",
       "      <td>40.00</td>\n",
       "      <td>2018-07-10</td>\n",
       "      <td>1</td>\n",
       "      <td>2.65</td>\n",
       "      <td>5</td>\n",
       "      <td>22.94</td>\n",
       "      <td>1</td>\n",
       "      <td>False</td>\n",
       "      <td>False</td>\n",
       "      <td>False</td>\n",
       "      <td>9.10</td>\n",
       "      <td>0</td>\n",
       "      <td>деревня Старополье</td>\n",
       "      <td>NaN</td>\n",
       "      <td>NaN</td>\n",
       "      <td>NaN</td>\n",
       "      <td>NaN</td>\n",
       "      <td>NaN</td>\n",
       "      <td>NaN</td>\n",
       "      <td>45.00</td>\n",
       "      <td>True</td>\n",
       "      <td>Старополье</td>\n",
       "    </tr>\n",
       "    <tr>\n",
       "      <th>17676</th>\n",
       "      <td>0</td>\n",
       "      <td>450000</td>\n",
       "      <td>36.50</td>\n",
       "      <td>2018-02-01</td>\n",
       "      <td>1</td>\n",
       "      <td>2.65</td>\n",
       "      <td>5</td>\n",
       "      <td>17.30</td>\n",
       "      <td>4</td>\n",
       "      <td>False</td>\n",
       "      <td>False</td>\n",
       "      <td>False</td>\n",
       "      <td>8.50</td>\n",
       "      <td>1</td>\n",
       "      <td>деревня Ям-Тесово</td>\n",
       "      <td>NaN</td>\n",
       "      <td>NaN</td>\n",
       "      <td>NaN</td>\n",
       "      <td>NaN</td>\n",
       "      <td>NaN</td>\n",
       "      <td>NaN</td>\n",
       "      <td>120.00</td>\n",
       "      <td>True</td>\n",
       "      <td>Ям-Тесово</td>\n",
       "    </tr>\n",
       "  </tbody>\n",
       "</table>\n",
       "</div>"
      ],
      "text/plain": [
       "       total_images  last_price  total_area first_day_exposition  rooms  \\\n",
       "8793              7       12190      109.00           2019-03-20      2   \n",
       "17456             7      430000       30.40           2019-04-22      1   \n",
       "14911             5      430000       54.00           2018-06-26      2   \n",
       "16274            18      440000       40.00           2018-07-10      1   \n",
       "17676             0      450000       36.50           2018-02-01      1   \n",
       "\n",
       "       ceiling_height  floors_total  living_area  floor  is_apartment  studio  \\\n",
       "8793             2.75            25        32.00     25         False   False   \n",
       "17456            2.65             2        16.00      1         False   False   \n",
       "14911            2.65             3        30.97      3         False   False   \n",
       "16274            2.65             5        22.94      1         False   False   \n",
       "17676            2.65             5        17.30      4         False   False   \n",
       "\n",
       "       open_plan  kitchen_area  balcony          locality_name  \\\n",
       "8793       False         40.50        0        Санкт-Петербург   \n",
       "17456      False          6.00        0                 Сланцы   \n",
       "14911      False          9.10        0  посёлок станции Свирь   \n",
       "16274      False          9.10        0     деревня Старополье   \n",
       "17676      False          8.50        1      деревня Ям-Тесово   \n",
       "\n",
       "       airports_nearest  cityCenters_nearest  parks_around3000  parks_nearest  \\\n",
       "8793           36421.00              9176.00              1.00         805.00   \n",
       "17456               NaN                  NaN               NaN            NaN   \n",
       "14911               NaN                  NaN               NaN            NaN   \n",
       "16274               NaN                  NaN               NaN            NaN   \n",
       "17676               NaN                  NaN               NaN            NaN   \n",
       "\n",
       "       ponds_around3000  ponds_nearest  days_exposition  is_bad_geodata  \\\n",
       "8793               0.00            NaN             8.00           False   \n",
       "17456               NaN            NaN              NaN            True   \n",
       "14911               NaN            NaN            44.00            True   \n",
       "16274               NaN            NaN            45.00            True   \n",
       "17676               NaN            NaN           120.00            True   \n",
       "\n",
       "      locality_name_corrected  \n",
       "8793          Санкт-Петербург  \n",
       "17456                  Сланцы  \n",
       "14911                   Свирь  \n",
       "16274              Старополье  \n",
       "17676               Ям-Тесово  "
      ]
     },
     "metadata": {},
     "output_type": "display_data"
    },
    {
     "data": {
      "text/plain": [
       "<AxesSubplot:>"
      ]
     },
     "execution_count": 229,
     "metadata": {},
     "output_type": "execute_result"
    },
    {
     "data": {
      "image/png": "[encoded data removed]",
      "text/plain": [
       "<Figure size 1440x144 with 1 Axes>"
      ]
     },
     "metadata": {
      "needs_background": "light"
     },
     "output_type": "display_data"
    }
   ],
   "source": [
    "display(good_data.sort_values(by='last_price').head(5))\n",
    "good_data['last_price'].hist(bins=100, figsize=(20,2) )"
   ]
  },
  {
   "cell_type": "markdown",
   "metadata": {},
   "source": [
    "Самая дешевая квартира явно занижена в 1000 раз, откорректируем. Также есть ряд чрезвычайно дорогих квартир, явно явлюящимися вылетами в рамках данного исследования. Также уберем из исследования все варианты дороже 40 миллионов"
   ]
  },
  {
   "cell_type": "code",
   "execution_count": 230,
   "metadata": {},
   "outputs": [],
   "source": [
    "good_data.loc[8793,'last_price']=good_data.loc[8793,'last_price'] * 1000\n",
    "good_data = good_data[good_data['last_price']<=40000000]"
   ]
  },
  {
   "cell_type": "markdown",
   "metadata": {},
   "source": [
    "---\n",
    "***rooms***"
   ]
  },
  {
   "cell_type": "markdown",
   "metadata": {},
   "source": [
    "Есть квартиры с 0 комнат. Даже если это студия, и комната объединена с кухней, все равно посчитаем, что меньше 1 комнаты в квартире быть не может. Перезапишем все нулевые комнаты на 1"
   ]
  },
  {
   "cell_type": "code",
   "execution_count": 231,
   "metadata": {},
   "outputs": [],
   "source": [
    "good_data.loc[good_data['rooms']==0,'rooms'] =  1"
   ]
  },
  {
   "cell_type": "markdown",
   "metadata": {},
   "source": [
    "---\n",
    "***ceiling_height***"
   ]
  },
  {
   "cell_type": "code",
   "execution_count": 232,
   "metadata": {},
   "outputs": [
    {
     "data": {
      "text/html": [
       "<div>\n",
       "<style scoped>\n",
       "    .dataframe tbody tr th:only-of-type {\n",
       "        vertical-align: middle;\n",
       "    }\n",
       "\n",
       "    .dataframe tbody tr th {\n",
       "        vertical-align: top;\n",
       "    }\n",
       "\n",
       "    .dataframe thead th {\n",
       "        text-align: right;\n",
       "    }\n",
       "</style>\n",
       "<table border=\"1\" class=\"dataframe\">\n",
       "  <thead>\n",
       "    <tr style=\"text-align: right;\">\n",
       "      <th></th>\n",
       "      <th>0.80</th>\n",
       "      <th>1.20</th>\n",
       "      <th>1.60</th>\n",
       "      <th>1.80</th>\n",
       "      <th>2.20</th>\n",
       "      <th>2.40</th>\n",
       "      <th>2.60</th>\n",
       "      <th>2.80</th>\n",
       "      <th>3.00</th>\n",
       "      <th>3.20</th>\n",
       "      <th>3.40</th>\n",
       "      <th>3.60</th>\n",
       "      <th>3.80</th>\n",
       "      <th>4.00</th>\n",
       "      <th>4.20</th>\n",
       "      <th>4.40</th>\n",
       "      <th>4.60</th>\n",
       "      <th>4.80</th>\n",
       "      <th>5.20</th>\n",
       "      <th>5.40</th>\n",
       "      <th>5.80</th>\n",
       "      <th>7.80</th>\n",
       "      <th>8.20</th>\n",
       "      <th>10.20</th>\n",
       "      <th>13.80</th>\n",
       "      <th>19.80</th>\n",
       "      <th>22.60</th>\n",
       "      <th>23.80</th>\n",
       "      <th>24.80</th>\n",
       "      <th>25.80</th>\n",
       "      <th>26.80</th>\n",
       "      <th>27.40</th>\n",
       "      <th>31.80</th>\n",
       "      <th>99.80</th>\n",
       "    </tr>\n",
       "  </thead>\n",
       "  <tbody>\n",
       "    <tr>\n",
       "      <th>ceiling_height</th>\n",
       "      <td>1</td>\n",
       "      <td>1</td>\n",
       "      <td>1</td>\n",
       "      <td>11</td>\n",
       "      <td>7</td>\n",
       "      <td>6773</td>\n",
       "      <td>13718</td>\n",
       "      <td>1514</td>\n",
       "      <td>424</td>\n",
       "      <td>514</td>\n",
       "      <td>306</td>\n",
       "      <td>76</td>\n",
       "      <td>59</td>\n",
       "      <td>17</td>\n",
       "      <td>3</td>\n",
       "      <td>8</td>\n",
       "      <td>1</td>\n",
       "      <td>2</td>\n",
       "      <td>1</td>\n",
       "      <td>1</td>\n",
       "      <td>1</td>\n",
       "      <td>3</td>\n",
       "      <td>1</td>\n",
       "      <td>1</td>\n",
       "      <td>1</td>\n",
       "      <td>1</td>\n",
       "      <td>1</td>\n",
       "      <td>1</td>\n",
       "      <td>7</td>\n",
       "      <td>1</td>\n",
       "      <td>8</td>\n",
       "      <td>1</td>\n",
       "      <td>2</td>\n",
       "      <td>1</td>\n",
       "    </tr>\n",
       "  </tbody>\n",
       "</table>\n",
       "</div>"
      ],
      "text/plain": [
       "                0.80   1.20   1.60   1.80   2.20   2.40   2.60   2.80   3.00   \\\n",
       "ceiling_height      1      1      1     11      7   6773  13718   1514    424   \n",
       "\n",
       "                3.20   3.40   3.60   3.80   4.00   4.20   4.40   4.60   4.80   \\\n",
       "ceiling_height    514    306     76     59     17      3      8      1      2   \n",
       "\n",
       "                5.20   5.40   5.80   7.80   8.20   10.20  13.80  19.80  22.60  \\\n",
       "ceiling_height      1      1      1      3      1      1      1      1      1   \n",
       "\n",
       "                23.80  24.80  25.80  26.80  27.40  31.80  99.80  \n",
       "ceiling_height      1      7      1      8      1      2      1  "
      ]
     },
     "metadata": {},
     "output_type": "display_data"
    }
   ],
   "source": [
    "# округлим высолты с шагом 20 см\n",
    "def round_20sm(value):\n",
    "    return value//0.2 * 0.2\n",
    "\n",
    "display(\n",
    "    pd.DataFrame(\n",
    "        good_data['ceiling_height'].apply(round_20sm).value_counts()\n",
    "    ).sort_index().T\n",
    ") "
   ]
  },
  {
   "cell_type": "markdown",
   "metadata": {},
   "source": [
    "Вылеты видны. Слишком низкие (меньше 2.5 метра по нормативу для жилых помещений не строят, так что приведем к 2.5 метрам), Все, что выше 5 метров - удалим, т.к. это явно ошибка, но варианты исправления не очевидны"
   ]
  },
  {
   "cell_type": "code",
   "execution_count": 233,
   "metadata": {},
   "outputs": [],
   "source": [
    "good_data.loc[good_data['ceiling_height']<2.5, 'ceiling_height'] =  2.5\n",
    "good_data = good_data[good_data['ceiling_height']<5]"
   ]
  },
  {
   "cell_type": "markdown",
   "metadata": {},
   "source": [
    "---\n",
    "***floors_total***"
   ]
  },
  {
   "cell_type": "markdown",
   "metadata": {},
   "source": [
    "ЖК \"Князь Александр Невский\" Самое высокое жилое здание в Питере , 37 этажей. Отбросим все, что выше 37 этажей."
   ]
  },
  {
   "cell_type": "code",
   "execution_count": 234,
   "metadata": {},
   "outputs": [],
   "source": [
    "good_data = good_data[good_data['floors_total']<=37]\n",
    "good_data = good_data[good_data['floor']<=37]"
   ]
  },
  {
   "cell_type": "markdown",
   "metadata": {},
   "source": [
    "---\n",
    "***total_area***"
   ]
  },
  {
   "cell_type": "code",
   "execution_count": 235,
   "metadata": {},
   "outputs": [
    {
     "data": {
      "text/plain": [
       "<AxesSubplot:title={'center':'Распределение total_area'}, ylabel='Frequency'>"
      ]
     },
     "execution_count": 235,
     "metadata": {},
     "output_type": "execute_result"
    },
    {
     "data": {
      "image/png": "[encoded data removed]",
      "text/plain": [
       "<Figure size 432x288 with 1 Axes>"
      ]
     },
     "metadata": {
      "needs_background": "light"
     },
     "output_type": "display_data"
    }
   ],
   "source": [
    "good_data['total_area'].plot(kind='hist', bins=50, title ='Распределение total_area')"
   ]
  },
  {
   "cell_type": "markdown",
   "metadata": {},
   "source": [
    "Удалим все, что больше 250 м2, т.к. явно выбиваются за основную массу"
   ]
  },
  {
   "cell_type": "code",
   "execution_count": 236,
   "metadata": {},
   "outputs": [],
   "source": [
    "good_data = good_data[good_data['total_area']<=250]"
   ]
  },
  {
   "cell_type": "markdown",
   "metadata": {},
   "source": [
    "---\n",
    "***living_area***"
   ]
  },
  {
   "cell_type": "code",
   "execution_count": 237,
   "metadata": {},
   "outputs": [
    {
     "data": {
      "text/plain": [
       "<AxesSubplot:title={'center':'Распределение living_area'}, ylabel='Frequency'>"
      ]
     },
     "execution_count": 237,
     "metadata": {},
     "output_type": "execute_result"
    },
    {
     "data": {
      "image/png": "[encoded data removed]",
      "text/plain": [
       "<Figure size 432x288 with 1 Axes>"
      ]
     },
     "metadata": {
      "needs_background": "light"
     },
     "output_type": "display_data"
    }
   ],
   "source": [
    "good_data['living_area'].plot(kind='hist', bins=100, xlim=(0,50), title ='Распределение living_area')"
   ]
  },
  {
   "cell_type": "markdown",
   "metadata": {},
   "source": [
    "Отбросим все, что меньше 10 метров"
   ]
  },
  {
   "cell_type": "code",
   "execution_count": 238,
   "metadata": {},
   "outputs": [],
   "source": [
    "good_data = good_data[good_data['living_area']>=10]"
   ]
  },
  {
   "cell_type": "markdown",
   "metadata": {},
   "source": [
    "---\n",
    "***kitchen_area***"
   ]
  },
  {
   "cell_type": "code",
   "execution_count": 239,
   "metadata": {},
   "outputs": [
    {
     "name": "stdout",
     "output_type": "stream",
     "text": [
      "Кухонь площадью более 50м2: 19\n"
     ]
    },
    {
     "data": {
      "image/png": "[encoded data removed]",
      "text/plain": [
       "<Figure size 432x288 with 1 Axes>"
      ]
     },
     "metadata": {
      "needs_background": "light"
     },
     "output_type": "display_data"
    }
   ],
   "source": [
    "good_data[good_data['kitchen_area']>0].plot(kind='scatter', y='kitchen_area', x='total_area', alpha = .1 , title ='Связь total_area и kitchen_area')\n",
    "print('Кухонь площадью более 50м2:', len(good_data[good_data['kitchen_area']>50]) )"
   ]
  },
  {
   "cell_type": "markdown",
   "metadata": {},
   "source": [
    "Удалим квартиры, в которых кухня более 50 метров, т.к. выглядит неправдоподобно"
   ]
  },
  {
   "cell_type": "code",
   "execution_count": 240,
   "metadata": {},
   "outputs": [],
   "source": [
    "good_data = good_data[~(good_data['kitchen_area']>50)]"
   ]
  },
  {
   "cell_type": "markdown",
   "metadata": {},
   "source": [
    "---\n",
    "***airports_nearest***"
   ]
  },
  {
   "cell_type": "markdown",
   "metadata": {},
   "source": [
    "Удалим непустые строки, где расстояние до аэропорта равно 0"
   ]
  },
  {
   "cell_type": "code",
   "execution_count": 241,
   "metadata": {},
   "outputs": [],
   "source": [
    "good_data = good_data[(good_data['airports_nearest']>0) | good_data['airports_nearest'].isna()]"
   ]
  },
  {
   "cell_type": "markdown",
   "metadata": {},
   "source": [
    "---\n",
    "***Проверим данные финальной выборки***"
   ]
  },
  {
   "cell_type": "code",
   "execution_count": 242,
   "metadata": {},
   "outputs": [
    {
     "name": "stdout",
     "output_type": "stream",
     "text": [
      "Количество строк в изначальной выборке: 23699\n",
      "Количество строк в финальной выборке: 23322\n",
      "Удалено строк: 377 1.6 %\n"
     ]
    }
   ],
   "source": [
    "# сравним с изначальными данными\n",
    "print('Количество строк в изначальной выборке:', len(raw_data))\n",
    "print('Количество строк в финальной выборке:', len(good_data))\n",
    "print('Удалено строк:', len(raw_data) - len(good_data),  round(100 -len(good_data) / len(raw_data) * 100,1), '%')"
   ]
  },
  {
   "cell_type": "markdown",
   "metadata": {},
   "source": [
    "---\n",
    "##### Промежуточные выводы\n",
    "\n",
    "В выборке присутствовало определенно количество данных, которые можно признать выбросами. Проверке и корректировке подверглись столбцы\n",
    "- last_price\n",
    "- rooms \n",
    "- ceiling_height \n",
    "- floors_total\n",
    "- total_area\n",
    "- living_area \n",
    "- kitchen_area \n",
    "- airports_nearest \n",
    "\n",
    "из-за выбросов в которых в общей сложности было удалено чуть больше 300 строк.\n",
    "\n",
    "---"
   ]
  },
  {
   "cell_type": "markdown",
   "metadata": {
    "tags": []
   },
   "source": [
    "### Посчитайте и добавьте в таблицу новые столбцы"
   ]
  },
  {
   "cell_type": "markdown",
   "metadata": {},
   "source": [
    "Добавим новые столбцы:\n",
    "- цена одного квадратного метра;\n",
    "- день недели публикации объявления (0 — понедельник, 1 — вторник и так далее);\n",
    "- месяц публикации объявления;\n",
    "- год публикации объявления;\n",
    "- тип этажа квартиры (значения — «первый», «последний», «другой»);\n",
    "- расстояние до центра города в километрах (переведите из м в км и округлите до целых значений)."
   ]
  },
  {
   "cell_type": "code",
   "execution_count": 243,
   "metadata": {},
   "outputs": [
    {
     "data": {
      "text/html": [
       "<div>\n",
       "<style scoped>\n",
       "    .dataframe tbody tr th:only-of-type {\n",
       "        vertical-align: middle;\n",
       "    }\n",
       "\n",
       "    .dataframe tbody tr th {\n",
       "        vertical-align: top;\n",
       "    }\n",
       "\n",
       "    .dataframe thead th {\n",
       "        text-align: right;\n",
       "    }\n",
       "</style>\n",
       "<table border=\"1\" class=\"dataframe\">\n",
       "  <thead>\n",
       "    <tr style=\"text-align: right;\">\n",
       "      <th></th>\n",
       "      <th>total_images</th>\n",
       "      <th>last_price</th>\n",
       "      <th>total_area</th>\n",
       "      <th>first_day_exposition</th>\n",
       "      <th>rooms</th>\n",
       "      <th>ceiling_height</th>\n",
       "      <th>floors_total</th>\n",
       "      <th>living_area</th>\n",
       "      <th>floor</th>\n",
       "      <th>is_apartment</th>\n",
       "      <th>studio</th>\n",
       "      <th>open_plan</th>\n",
       "      <th>kitchen_area</th>\n",
       "      <th>balcony</th>\n",
       "      <th>locality_name</th>\n",
       "      <th>airports_nearest</th>\n",
       "      <th>cityCenters_nearest</th>\n",
       "      <th>parks_around3000</th>\n",
       "      <th>parks_nearest</th>\n",
       "      <th>ponds_around3000</th>\n",
       "      <th>ponds_nearest</th>\n",
       "      <th>days_exposition</th>\n",
       "      <th>is_bad_geodata</th>\n",
       "      <th>locality_name_corrected</th>\n",
       "      <th>price_per_m2</th>\n",
       "      <th>exposition_weekday</th>\n",
       "      <th>exposition_month</th>\n",
       "      <th>exposition_year</th>\n",
       "      <th>floor_type</th>\n",
       "      <th>cityCenters_nearest_km</th>\n",
       "      <th>counter</th>\n",
       "    </tr>\n",
       "  </thead>\n",
       "  <tbody>\n",
       "    <tr>\n",
       "      <th>0</th>\n",
       "      <td>20</td>\n",
       "      <td>13000000</td>\n",
       "      <td>108.00</td>\n",
       "      <td>2019-03-07</td>\n",
       "      <td>3</td>\n",
       "      <td>2.70</td>\n",
       "      <td>16</td>\n",
       "      <td>51.00</td>\n",
       "      <td>8</td>\n",
       "      <td>False</td>\n",
       "      <td>False</td>\n",
       "      <td>False</td>\n",
       "      <td>25.00</td>\n",
       "      <td>0</td>\n",
       "      <td>Санкт-Петербург</td>\n",
       "      <td>18863.00</td>\n",
       "      <td>16028.00</td>\n",
       "      <td>1.00</td>\n",
       "      <td>482.00</td>\n",
       "      <td>2.00</td>\n",
       "      <td>755.00</td>\n",
       "      <td>NaN</td>\n",
       "      <td>False</td>\n",
       "      <td>Санкт-Петербург</td>\n",
       "      <td>120370.37</td>\n",
       "      <td>3</td>\n",
       "      <td>3</td>\n",
       "      <td>2019</td>\n",
       "      <td>другой</td>\n",
       "      <td>16.00</td>\n",
       "      <td>1</td>\n",
       "    </tr>\n",
       "    <tr>\n",
       "      <th>1</th>\n",
       "      <td>7</td>\n",
       "      <td>3350000</td>\n",
       "      <td>40.40</td>\n",
       "      <td>2018-12-04</td>\n",
       "      <td>1</td>\n",
       "      <td>2.65</td>\n",
       "      <td>11</td>\n",
       "      <td>18.60</td>\n",
       "      <td>1</td>\n",
       "      <td>False</td>\n",
       "      <td>False</td>\n",
       "      <td>False</td>\n",
       "      <td>11.00</td>\n",
       "      <td>2</td>\n",
       "      <td>посёлок Шушары</td>\n",
       "      <td>12817.00</td>\n",
       "      <td>18603.00</td>\n",
       "      <td>0.00</td>\n",
       "      <td>NaN</td>\n",
       "      <td>0.00</td>\n",
       "      <td>NaN</td>\n",
       "      <td>81.00</td>\n",
       "      <td>False</td>\n",
       "      <td>Шушары</td>\n",
       "      <td>82920.79</td>\n",
       "      <td>1</td>\n",
       "      <td>12</td>\n",
       "      <td>2018</td>\n",
       "      <td>первый</td>\n",
       "      <td>19.00</td>\n",
       "      <td>1</td>\n",
       "    </tr>\n",
       "    <tr>\n",
       "      <th>2</th>\n",
       "      <td>10</td>\n",
       "      <td>5196000</td>\n",
       "      <td>56.00</td>\n",
       "      <td>2015-08-20</td>\n",
       "      <td>2</td>\n",
       "      <td>2.65</td>\n",
       "      <td>5</td>\n",
       "      <td>34.30</td>\n",
       "      <td>4</td>\n",
       "      <td>False</td>\n",
       "      <td>False</td>\n",
       "      <td>False</td>\n",
       "      <td>8.30</td>\n",
       "      <td>0</td>\n",
       "      <td>Санкт-Петербург</td>\n",
       "      <td>21741.00</td>\n",
       "      <td>13933.00</td>\n",
       "      <td>1.00</td>\n",
       "      <td>90.00</td>\n",
       "      <td>2.00</td>\n",
       "      <td>574.00</td>\n",
       "      <td>558.00</td>\n",
       "      <td>False</td>\n",
       "      <td>Санкт-Петербург</td>\n",
       "      <td>92785.71</td>\n",
       "      <td>3</td>\n",
       "      <td>8</td>\n",
       "      <td>2015</td>\n",
       "      <td>другой</td>\n",
       "      <td>14.00</td>\n",
       "      <td>1</td>\n",
       "    </tr>\n",
       "    <tr>\n",
       "      <th>4</th>\n",
       "      <td>2</td>\n",
       "      <td>10000000</td>\n",
       "      <td>100.00</td>\n",
       "      <td>2018-06-19</td>\n",
       "      <td>2</td>\n",
       "      <td>3.03</td>\n",
       "      <td>14</td>\n",
       "      <td>32.00</td>\n",
       "      <td>13</td>\n",
       "      <td>False</td>\n",
       "      <td>False</td>\n",
       "      <td>False</td>\n",
       "      <td>41.00</td>\n",
       "      <td>0</td>\n",
       "      <td>Санкт-Петербург</td>\n",
       "      <td>31856.00</td>\n",
       "      <td>8098.00</td>\n",
       "      <td>2.00</td>\n",
       "      <td>112.00</td>\n",
       "      <td>1.00</td>\n",
       "      <td>48.00</td>\n",
       "      <td>121.00</td>\n",
       "      <td>False</td>\n",
       "      <td>Санкт-Петербург</td>\n",
       "      <td>100000.00</td>\n",
       "      <td>1</td>\n",
       "      <td>6</td>\n",
       "      <td>2018</td>\n",
       "      <td>другой</td>\n",
       "      <td>8.00</td>\n",
       "      <td>1</td>\n",
       "    </tr>\n",
       "    <tr>\n",
       "      <th>5</th>\n",
       "      <td>10</td>\n",
       "      <td>2890000</td>\n",
       "      <td>30.40</td>\n",
       "      <td>2018-09-10</td>\n",
       "      <td>1</td>\n",
       "      <td>2.65</td>\n",
       "      <td>12</td>\n",
       "      <td>14.40</td>\n",
       "      <td>5</td>\n",
       "      <td>False</td>\n",
       "      <td>False</td>\n",
       "      <td>False</td>\n",
       "      <td>9.10</td>\n",
       "      <td>0</td>\n",
       "      <td>городской посёлок Янино-1</td>\n",
       "      <td>NaN</td>\n",
       "      <td>NaN</td>\n",
       "      <td>NaN</td>\n",
       "      <td>NaN</td>\n",
       "      <td>NaN</td>\n",
       "      <td>NaN</td>\n",
       "      <td>55.00</td>\n",
       "      <td>True</td>\n",
       "      <td>Янино-1</td>\n",
       "      <td>95065.79</td>\n",
       "      <td>0</td>\n",
       "      <td>9</td>\n",
       "      <td>2018</td>\n",
       "      <td>другой</td>\n",
       "      <td>NaN</td>\n",
       "      <td>1</td>\n",
       "    </tr>\n",
       "  </tbody>\n",
       "</table>\n",
       "</div>"
      ],
      "text/plain": [
       "   total_images  last_price  total_area first_day_exposition  rooms  \\\n",
       "0            20    13000000      108.00           2019-03-07      3   \n",
       "1             7     3350000       40.40           2018-12-04      1   \n",
       "2            10     5196000       56.00           2015-08-20      2   \n",
       "4             2    10000000      100.00           2018-06-19      2   \n",
       "5            10     2890000       30.40           2018-09-10      1   \n",
       "\n",
       "   ceiling_height  floors_total  living_area  floor  is_apartment  studio  \\\n",
       "0            2.70            16        51.00      8         False   False   \n",
       "1            2.65            11        18.60      1         False   False   \n",
       "2            2.65             5        34.30      4         False   False   \n",
       "4            3.03            14        32.00     13         False   False   \n",
       "5            2.65            12        14.40      5         False   False   \n",
       "\n",
       "   open_plan  kitchen_area  balcony              locality_name  \\\n",
       "0      False         25.00        0            Санкт-Петербург   \n",
       "1      False         11.00        2             посёлок Шушары   \n",
       "2      False          8.30        0            Санкт-Петербург   \n",
       "4      False         41.00        0            Санкт-Петербург   \n",
       "5      False          9.10        0  городской посёлок Янино-1   \n",
       "\n",
       "   airports_nearest  cityCenters_nearest  parks_around3000  parks_nearest  \\\n",
       "0          18863.00             16028.00              1.00         482.00   \n",
       "1          12817.00             18603.00              0.00            NaN   \n",
       "2          21741.00             13933.00              1.00          90.00   \n",
       "4          31856.00              8098.00              2.00         112.00   \n",
       "5               NaN                  NaN               NaN            NaN   \n",
       "\n",
       "   ponds_around3000  ponds_nearest  days_exposition  is_bad_geodata  \\\n",
       "0              2.00         755.00              NaN           False   \n",
       "1              0.00            NaN            81.00           False   \n",
       "2              2.00         574.00           558.00           False   \n",
       "4              1.00          48.00           121.00           False   \n",
       "5               NaN            NaN            55.00            True   \n",
       "\n",
       "  locality_name_corrected  price_per_m2  exposition_weekday  exposition_month  \\\n",
       "0         Санкт-Петербург     120370.37                   3                 3   \n",
       "1                  Шушары      82920.79                   1                12   \n",
       "2         Санкт-Петербург      92785.71                   3                 8   \n",
       "4         Санкт-Петербург     100000.00                   1                 6   \n",
       "5                 Янино-1      95065.79                   0                 9   \n",
       "\n",
       "   exposition_year floor_type  cityCenters_nearest_km  counter  \n",
       "0             2019     другой                   16.00        1  \n",
       "1             2018     первый                   19.00        1  \n",
       "2             2015     другой                   14.00        1  \n",
       "4             2018     другой                    8.00        1  \n",
       "5             2018     другой                     NaN        1  "
      ]
     },
     "execution_count": 243,
     "metadata": {},
     "output_type": "execute_result"
    }
   ],
   "source": [
    "def floor_to_floortype(floor, floors_total):\n",
    "    if floor == 1:\n",
    "        return 'первый'\n",
    "    elif floor == floors_total:\n",
    "        return 'последний'\n",
    "    return 'другой'\n",
    "\n",
    "good_data['price_per_m2'] = good_data['last_price'] / good_data['total_area']\n",
    "good_data['exposition_weekday'] = good_data['first_day_exposition'].dt.weekday\n",
    "good_data['exposition_month'] = good_data['first_day_exposition'].dt.month\n",
    "good_data['exposition_year'] = good_data['first_day_exposition'].dt.year\n",
    "good_data['floor_type'] = good_data.apply(lambda x: floor_to_floortype(x['floor'], x['floors_total']) ,axis=1 )\n",
    "good_data['cityCenters_nearest_km'] = round(good_data['cityCenters_nearest'] / 1000)\n",
    "\n",
    "# столбец для корректной отрисовки pieChart\n",
    "good_data['counter'] = 1\n",
    "\n",
    "good_data.head()"
   ]
  },
  {
   "cell_type": "markdown",
   "metadata": {
    "tags": []
   },
   "source": [
    "### Проведите исследовательский анализ данных"
   ]
  },
  {
   "cell_type": "markdown",
   "metadata": {},
   "source": [
    "#### Изучение параметров объектов"
   ]
  },
  {
   "cell_type": "code",
   "execution_count": 244,
   "metadata": {},
   "outputs": [],
   "source": [
    "# функция для отображения данных по колонке\n",
    "def check_column_data(dataframe, column_name, bins=10):\n",
    "    try:\n",
    "        display(dataframe[column_name].plot(kind='hist', x=column_name, figsize=(6,2), bins=bins, title=column_name))\n",
    "    except:\n",
    "        pass\n",
    "    display(pd.DataFrame(dataframe[column_name].describe()).T)"
   ]
  },
  {
   "cell_type": "markdown",
   "metadata": {},
   "source": [
    "---\n",
    "**Общая площадь**"
   ]
  },
  {
   "cell_type": "code",
   "execution_count": 245,
   "metadata": {},
   "outputs": [
    {
     "data": {
      "text/plain": [
       "<AxesSubplot:title={'center':'total_area'}, ylabel='Frequency'>"
      ]
     },
     "metadata": {},
     "output_type": "display_data"
    },
    {
     "data": {
      "text/html": [
       "<div>\n",
       "<style scoped>\n",
       "    .dataframe tbody tr th:only-of-type {\n",
       "        vertical-align: middle;\n",
       "    }\n",
       "\n",
       "    .dataframe tbody tr th {\n",
       "        vertical-align: top;\n",
       "    }\n",
       "\n",
       "    .dataframe thead th {\n",
       "        text-align: right;\n",
       "    }\n",
       "</style>\n",
       "<table border=\"1\" class=\"dataframe\">\n",
       "  <thead>\n",
       "    <tr style=\"text-align: right;\">\n",
       "      <th></th>\n",
       "      <th>count</th>\n",
       "      <th>mean</th>\n",
       "      <th>std</th>\n",
       "      <th>min</th>\n",
       "      <th>25%</th>\n",
       "      <th>50%</th>\n",
       "      <th>75%</th>\n",
       "      <th>max</th>\n",
       "    </tr>\n",
       "  </thead>\n",
       "  <tbody>\n",
       "    <tr>\n",
       "      <th>total_area</th>\n",
       "      <td>23322.00</td>\n",
       "      <td>58.36</td>\n",
       "      <td>27.57</td>\n",
       "      <td>12.00</td>\n",
       "      <td>40.00</td>\n",
       "      <td>51.80</td>\n",
       "      <td>68.70</td>\n",
       "      <td>250.00</td>\n",
       "    </tr>\n",
       "  </tbody>\n",
       "</table>\n",
       "</div>"
      ],
      "text/plain": [
       "              count  mean   std   min   25%   50%   75%    max\n",
       "total_area 23322.00 58.36 27.57 12.00 40.00 51.80 68.70 250.00"
      ]
     },
     "metadata": {},
     "output_type": "display_data"
    },
    {
     "data": {
      "image/png": "[encoded data removed]",
      "text/plain": [
       "<Figure size 432x144 with 1 Axes>"
      ]
     },
     "metadata": {
      "needs_background": "light"
     },
     "output_type": "display_data"
    }
   ],
   "source": [
    "check_column_data(good_data, 'total_area')"
   ]
  },
  {
   "cell_type": "markdown",
   "metadata": {},
   "source": [
    "Основное предложение приходится на квартиры площадью от 40 до 69 м2, медианное значение - 52м2. \n",
    "При этом в выборке присутствуют как очень маленькие (от 12м2) так и очень большие (до 250м2) варианты."
   ]
  },
  {
   "cell_type": "markdown",
   "metadata": {},
   "source": [
    "---\n",
    "**Жилая площадь**"
   ]
  },
  {
   "cell_type": "code",
   "execution_count": 246,
   "metadata": {},
   "outputs": [
    {
     "data": {
      "text/plain": [
       "<AxesSubplot:title={'center':'living_area'}, ylabel='Frequency'>"
      ]
     },
     "metadata": {},
     "output_type": "display_data"
    },
    {
     "data": {
      "text/html": [
       "<div>\n",
       "<style scoped>\n",
       "    .dataframe tbody tr th:only-of-type {\n",
       "        vertical-align: middle;\n",
       "    }\n",
       "\n",
       "    .dataframe tbody tr th {\n",
       "        vertical-align: top;\n",
       "    }\n",
       "\n",
       "    .dataframe thead th {\n",
       "        text-align: right;\n",
       "    }\n",
       "</style>\n",
       "<table border=\"1\" class=\"dataframe\">\n",
       "  <thead>\n",
       "    <tr style=\"text-align: right;\">\n",
       "      <th></th>\n",
       "      <th>count</th>\n",
       "      <th>mean</th>\n",
       "      <th>std</th>\n",
       "      <th>min</th>\n",
       "      <th>25%</th>\n",
       "      <th>50%</th>\n",
       "      <th>75%</th>\n",
       "      <th>max</th>\n",
       "    </tr>\n",
       "  </thead>\n",
       "  <tbody>\n",
       "    <tr>\n",
       "      <th>living_area</th>\n",
       "      <td>23322.00</td>\n",
       "      <td>33.51</td>\n",
       "      <td>18.12</td>\n",
       "      <td>10.00</td>\n",
       "      <td>19.00</td>\n",
       "      <td>30.00</td>\n",
       "      <td>42.00</td>\n",
       "      <td>184.00</td>\n",
       "    </tr>\n",
       "  </tbody>\n",
       "</table>\n",
       "</div>"
      ],
      "text/plain": [
       "               count  mean   std   min   25%   50%   75%    max\n",
       "living_area 23322.00 33.51 18.12 10.00 19.00 30.00 42.00 184.00"
      ]
     },
     "metadata": {},
     "output_type": "display_data"
    },
    {
     "data": {
      "image/png": "[encoded data removed]",
      "text/plain": [
       "<Figure size 432x144 with 1 Axes>"
      ]
     },
     "metadata": {
      "needs_background": "light"
     },
     "output_type": "display_data"
    }
   ],
   "source": [
    "check_column_data(good_data, 'living_area')"
   ]
  },
  {
   "cell_type": "markdown",
   "metadata": {},
   "source": [
    "Площадь жилих зон в основном от 19 до 42 м2, медианное значение - 30м2. "
   ]
  },
  {
   "cell_type": "markdown",
   "metadata": {},
   "source": [
    "---\n",
    "**Площадь кухни**"
   ]
  },
  {
   "cell_type": "code",
   "execution_count": 247,
   "metadata": {},
   "outputs": [
    {
     "data": {
      "text/plain": [
       "<AxesSubplot:title={'center':'kitchen_area'}, ylabel='Frequency'>"
      ]
     },
     "metadata": {},
     "output_type": "display_data"
    },
    {
     "data": {
      "text/html": [
       "<div>\n",
       "<style scoped>\n",
       "    .dataframe tbody tr th:only-of-type {\n",
       "        vertical-align: middle;\n",
       "    }\n",
       "\n",
       "    .dataframe tbody tr th {\n",
       "        vertical-align: top;\n",
       "    }\n",
       "\n",
       "    .dataframe thead th {\n",
       "        text-align: right;\n",
       "    }\n",
       "</style>\n",
       "<table border=\"1\" class=\"dataframe\">\n",
       "  <thead>\n",
       "    <tr style=\"text-align: right;\">\n",
       "      <th></th>\n",
       "      <th>count</th>\n",
       "      <th>mean</th>\n",
       "      <th>std</th>\n",
       "      <th>min</th>\n",
       "      <th>25%</th>\n",
       "      <th>50%</th>\n",
       "      <th>75%</th>\n",
       "      <th>max</th>\n",
       "    </tr>\n",
       "  </thead>\n",
       "  <tbody>\n",
       "    <tr>\n",
       "      <th>kitchen_area</th>\n",
       "      <td>23322.00</td>\n",
       "      <td>10.15</td>\n",
       "      <td>4.77</td>\n",
       "      <td>0.00</td>\n",
       "      <td>7.20</td>\n",
       "      <td>9.10</td>\n",
       "      <td>11.30</td>\n",
       "      <td>50.00</td>\n",
       "    </tr>\n",
       "  </tbody>\n",
       "</table>\n",
       "</div>"
      ],
      "text/plain": [
       "                count  mean  std  min  25%  50%   75%   max\n",
       "kitchen_area 23322.00 10.15 4.77 0.00 7.20 9.10 11.30 50.00"
      ]
     },
     "metadata": {},
     "output_type": "display_data"
    },
    {
     "data": {
      "image/png": "[encoded data removed]",
      "text/plain": [
       "<Figure size 432x144 with 1 Axes>"
      ]
     },
     "metadata": {
      "needs_background": "light"
     },
     "output_type": "display_data"
    }
   ],
   "source": [
    "check_column_data(good_data, 'kitchen_area')"
   ]
  },
  {
   "cell_type": "markdown",
   "metadata": {},
   "source": [
    "Площадь кухонь в основном от 7 до 11м2, но есть и выдающиеся варианты в 50м2"
   ]
  },
  {
   "cell_type": "markdown",
   "metadata": {},
   "source": [
    "---\n",
    "**Цена объекта**"
   ]
  },
  {
   "cell_type": "code",
   "execution_count": 248,
   "metadata": {},
   "outputs": [
    {
     "data": {
      "text/plain": [
       "<AxesSubplot:title={'center':'last_price'}, ylabel='Frequency'>"
      ]
     },
     "metadata": {},
     "output_type": "display_data"
    },
    {
     "data": {
      "text/html": [
       "<div>\n",
       "<style scoped>\n",
       "    .dataframe tbody tr th:only-of-type {\n",
       "        vertical-align: middle;\n",
       "    }\n",
       "\n",
       "    .dataframe tbody tr th {\n",
       "        vertical-align: top;\n",
       "    }\n",
       "\n",
       "    .dataframe thead th {\n",
       "        text-align: right;\n",
       "    }\n",
       "</style>\n",
       "<table border=\"1\" class=\"dataframe\">\n",
       "  <thead>\n",
       "    <tr style=\"text-align: right;\">\n",
       "      <th></th>\n",
       "      <th>count</th>\n",
       "      <th>mean</th>\n",
       "      <th>std</th>\n",
       "      <th>min</th>\n",
       "      <th>25%</th>\n",
       "      <th>50%</th>\n",
       "      <th>75%</th>\n",
       "      <th>max</th>\n",
       "    </tr>\n",
       "  </thead>\n",
       "  <tbody>\n",
       "    <tr>\n",
       "      <th>last_price</th>\n",
       "      <td>23322.00</td>\n",
       "      <td>5853496.92</td>\n",
       "      <td>4466101.95</td>\n",
       "      <td>430000.00</td>\n",
       "      <td>3400000.00</td>\n",
       "      <td>4600000.00</td>\n",
       "      <td>6693750.00</td>\n",
       "      <td>40000000.00</td>\n",
       "    </tr>\n",
       "  </tbody>\n",
       "</table>\n",
       "</div>"
      ],
      "text/plain": [
       "              count       mean        std       min        25%        50%  \\\n",
       "last_price 23322.00 5853496.92 4466101.95 430000.00 3400000.00 4600000.00   \n",
       "\n",
       "                  75%         max  \n",
       "last_price 6693750.00 40000000.00  "
      ]
     },
     "metadata": {},
     "output_type": "display_data"
    },
    {
     "data": {
      "image/png": "[encoded data removed]",
      "text/plain": [
       "<Figure size 432x144 with 1 Axes>"
      ]
     },
     "metadata": {
      "needs_background": "light"
     },
     "output_type": "display_data"
    }
   ],
   "source": [
    "check_column_data(good_data, 'last_price')"
   ]
  },
  {
   "cell_type": "markdown",
   "metadata": {},
   "source": [
    "Цена варьируется в широких пределах, от 430т.р. до 40 миллионов, при этом самые продаваемые квартиры - в диапазоне от 3,4 до 6,7 миллиона"
   ]
  },
  {
   "cell_type": "markdown",
   "metadata": {},
   "source": [
    "---\n",
    "**Количество комнат**"
   ]
  },
  {
   "cell_type": "code",
   "execution_count": 249,
   "metadata": {},
   "outputs": [
    {
     "data": {
      "text/plain": [
       "<AxesSubplot:title={'center':'rooms'}, ylabel='Frequency'>"
      ]
     },
     "metadata": {},
     "output_type": "display_data"
    },
    {
     "data": {
      "text/html": [
       "<div>\n",
       "<style scoped>\n",
       "    .dataframe tbody tr th:only-of-type {\n",
       "        vertical-align: middle;\n",
       "    }\n",
       "\n",
       "    .dataframe tbody tr th {\n",
       "        vertical-align: top;\n",
       "    }\n",
       "\n",
       "    .dataframe thead th {\n",
       "        text-align: right;\n",
       "    }\n",
       "</style>\n",
       "<table border=\"1\" class=\"dataframe\">\n",
       "  <thead>\n",
       "    <tr style=\"text-align: right;\">\n",
       "      <th></th>\n",
       "      <th>count</th>\n",
       "      <th>mean</th>\n",
       "      <th>std</th>\n",
       "      <th>min</th>\n",
       "      <th>25%</th>\n",
       "      <th>50%</th>\n",
       "      <th>75%</th>\n",
       "      <th>max</th>\n",
       "    </tr>\n",
       "  </thead>\n",
       "  <tbody>\n",
       "    <tr>\n",
       "      <th>rooms</th>\n",
       "      <td>23322.00</td>\n",
       "      <td>2.05</td>\n",
       "      <td>1.01</td>\n",
       "      <td>1.00</td>\n",
       "      <td>1.00</td>\n",
       "      <td>2.00</td>\n",
       "      <td>3.00</td>\n",
       "      <td>14.00</td>\n",
       "    </tr>\n",
       "  </tbody>\n",
       "</table>\n",
       "</div>"
      ],
      "text/plain": [
       "         count  mean  std  min  25%  50%  75%   max\n",
       "rooms 23322.00  2.05 1.01 1.00 1.00 2.00 3.00 14.00"
      ]
     },
     "metadata": {},
     "output_type": "display_data"
    },
    {
     "data": {
      "text/html": [
       "<div>\n",
       "<style scoped>\n",
       "    .dataframe tbody tr th:only-of-type {\n",
       "        vertical-align: middle;\n",
       "    }\n",
       "\n",
       "    .dataframe tbody tr th {\n",
       "        vertical-align: top;\n",
       "    }\n",
       "\n",
       "    .dataframe thead th {\n",
       "        text-align: right;\n",
       "    }\n",
       "</style>\n",
       "<table border=\"1\" class=\"dataframe\">\n",
       "  <thead>\n",
       "    <tr style=\"text-align: right;\">\n",
       "      <th></th>\n",
       "      <th>1</th>\n",
       "      <th>2</th>\n",
       "      <th>3</th>\n",
       "      <th>4</th>\n",
       "      <th>5</th>\n",
       "      <th>6</th>\n",
       "      <th>7</th>\n",
       "      <th>8</th>\n",
       "      <th>9</th>\n",
       "      <th>11</th>\n",
       "      <th>10</th>\n",
       "      <th>14</th>\n",
       "    </tr>\n",
       "  </thead>\n",
       "  <tbody>\n",
       "    <tr>\n",
       "      <th>rooms</th>\n",
       "      <td>8190</td>\n",
       "      <td>7882</td>\n",
       "      <td>5728</td>\n",
       "      <td>1119</td>\n",
       "      <td>276</td>\n",
       "      <td>78</td>\n",
       "      <td>35</td>\n",
       "      <td>7</td>\n",
       "      <td>3</td>\n",
       "      <td>2</td>\n",
       "      <td>1</td>\n",
       "      <td>1</td>\n",
       "    </tr>\n",
       "  </tbody>\n",
       "</table>\n",
       "</div>"
      ],
      "text/plain": [
       "         1     2     3     4    5   6   7   8   9   11  10  14\n",
       "rooms  8190  7882  5728  1119  276  78  35   7   3   2   1   1"
      ]
     },
     "execution_count": 249,
     "metadata": {},
     "output_type": "execute_result"
    },
    {
     "data": {
      "image/png": "[encoded data removed]",
      "text/plain": [
       "<Figure size 432x144 with 1 Axes>"
      ]
     },
     "metadata": {
      "needs_background": "light"
     },
     "output_type": "display_data"
    }
   ],
   "source": [
    "check_column_data(good_data, 'rooms',40)\n",
    "pd.DataFrame(good_data['rooms'].value_counts()).T\n"
   ]
  },
  {
   "cell_type": "markdown",
   "metadata": {},
   "source": [
    "На первом месте по количеству - однокомнатные квартиры (8190 предложений), немного меньше двухкомнатных (7882), далее трехкомнатные (5728). Четырех и более комнатные варианты представлены гораздо меньше"
   ]
  },
  {
   "cell_type": "markdown",
   "metadata": {},
   "source": [
    "---\n",
    "**Высота потолков**"
   ]
  },
  {
   "cell_type": "code",
   "execution_count": 250,
   "metadata": {},
   "outputs": [
    {
     "data": {
      "text/plain": [
       "<AxesSubplot:title={'center':'ceiling_height'}, ylabel='Frequency'>"
      ]
     },
     "metadata": {},
     "output_type": "display_data"
    },
    {
     "data": {
      "text/html": [
       "<div>\n",
       "<style scoped>\n",
       "    .dataframe tbody tr th:only-of-type {\n",
       "        vertical-align: middle;\n",
       "    }\n",
       "\n",
       "    .dataframe tbody tr th {\n",
       "        vertical-align: top;\n",
       "    }\n",
       "\n",
       "    .dataframe thead th {\n",
       "        text-align: right;\n",
       "    }\n",
       "</style>\n",
       "<table border=\"1\" class=\"dataframe\">\n",
       "  <thead>\n",
       "    <tr style=\"text-align: right;\">\n",
       "      <th></th>\n",
       "      <th>count</th>\n",
       "      <th>mean</th>\n",
       "      <th>std</th>\n",
       "      <th>min</th>\n",
       "      <th>25%</th>\n",
       "      <th>50%</th>\n",
       "      <th>75%</th>\n",
       "      <th>max</th>\n",
       "    </tr>\n",
       "  </thead>\n",
       "  <tbody>\n",
       "    <tr>\n",
       "      <th>ceiling_height</th>\n",
       "      <td>23322.00</td>\n",
       "      <td>2.69</td>\n",
       "      <td>0.21</td>\n",
       "      <td>2.50</td>\n",
       "      <td>2.60</td>\n",
       "      <td>2.65</td>\n",
       "      <td>2.70</td>\n",
       "      <td>4.80</td>\n",
       "    </tr>\n",
       "  </tbody>\n",
       "</table>\n",
       "</div>"
      ],
      "text/plain": [
       "                  count  mean  std  min  25%  50%  75%  max\n",
       "ceiling_height 23322.00  2.69 0.21 2.50 2.60 2.65 2.70 4.80"
      ]
     },
     "metadata": {},
     "output_type": "display_data"
    },
    {
     "data": {
      "image/png": "[encoded data removed]",
      "text/plain": [
       "<Figure size 432x144 with 1 Axes>"
      ]
     },
     "metadata": {
      "needs_background": "light"
     },
     "output_type": "display_data"
    }
   ],
   "source": [
    "check_column_data(good_data, 'ceiling_height')"
   ]
  },
  {
   "cell_type": "markdown",
   "metadata": {},
   "source": [
    "Основная высота потолков - 2.6 - 2.7 метра. Есть особенные варианты с потолками до 4.8 метра, но это в порядке исключения."
   ]
  },
  {
   "cell_type": "markdown",
   "metadata": {},
   "source": [
    "---\n",
    "**Этаж квартиры**"
   ]
  },
  {
   "cell_type": "code",
   "execution_count": 251,
   "metadata": {},
   "outputs": [
    {
     "data": {
      "text/plain": [
       "<AxesSubplot:title={'center':'floor'}, ylabel='Frequency'>"
      ]
     },
     "metadata": {},
     "output_type": "display_data"
    },
    {
     "data": {
      "text/html": [
       "<div>\n",
       "<style scoped>\n",
       "    .dataframe tbody tr th:only-of-type {\n",
       "        vertical-align: middle;\n",
       "    }\n",
       "\n",
       "    .dataframe tbody tr th {\n",
       "        vertical-align: top;\n",
       "    }\n",
       "\n",
       "    .dataframe thead th {\n",
       "        text-align: right;\n",
       "    }\n",
       "</style>\n",
       "<table border=\"1\" class=\"dataframe\">\n",
       "  <thead>\n",
       "    <tr style=\"text-align: right;\">\n",
       "      <th></th>\n",
       "      <th>count</th>\n",
       "      <th>mean</th>\n",
       "      <th>std</th>\n",
       "      <th>min</th>\n",
       "      <th>25%</th>\n",
       "      <th>50%</th>\n",
       "      <th>75%</th>\n",
       "      <th>max</th>\n",
       "    </tr>\n",
       "  </thead>\n",
       "  <tbody>\n",
       "    <tr>\n",
       "      <th>floor</th>\n",
       "      <td>23322.00</td>\n",
       "      <td>5.89</td>\n",
       "      <td>4.88</td>\n",
       "      <td>1.00</td>\n",
       "      <td>2.00</td>\n",
       "      <td>4.00</td>\n",
       "      <td>8.00</td>\n",
       "      <td>33.00</td>\n",
       "    </tr>\n",
       "  </tbody>\n",
       "</table>\n",
       "</div>"
      ],
      "text/plain": [
       "         count  mean  std  min  25%  50%  75%   max\n",
       "floor 23322.00  5.89 4.88 1.00 2.00 4.00 8.00 33.00"
      ]
     },
     "metadata": {},
     "output_type": "display_data"
    },
    {
     "data": {
      "image/png": "[encoded data removed]",
      "text/plain": [
       "<Figure size 432x144 with 1 Axes>"
      ]
     },
     "metadata": {
      "needs_background": "light"
     },
     "output_type": "display_data"
    }
   ],
   "source": [
    "check_column_data(good_data, 'floor', 30)\n"
   ]
  },
  {
   "cell_type": "markdown",
   "metadata": {},
   "source": [
    "В основном продают квартиры на 1-5х этажах, причем квартир на первом этаже предлагается значительно больше, чем на любом другом. Квартиры на этаже выше пятого также продают, но в значительно меньших количествах."
   ]
  },
  {
   "cell_type": "markdown",
   "metadata": {},
   "source": [
    "---\n",
    "**Тип этажа квартиры**"
   ]
  },
  {
   "cell_type": "code",
   "execution_count": 252,
   "metadata": {},
   "outputs": [
    {
     "data": {
      "text/plain": [
       "<AxesSubplot:title={'center':'floor_type'}, ylabel='counter'>"
      ]
     },
     "execution_count": 252,
     "metadata": {},
     "output_type": "execute_result"
    },
    {
     "data": {
      "image/png": "[encoded data removed]",
      "text/plain": [
       "<Figure size 432x288 with 1 Axes>"
      ]
     },
     "metadata": {},
     "output_type": "display_data"
    }
   ],
   "source": [
    "good_data.pivot_table(index='floor_type', aggfunc='count').plot(\n",
    "    kind='pie', \n",
    "    x='floor_type', \n",
    "    y='counter', \n",
    "    table=True, \n",
    "    title='floor_type')"
   ]
  },
  {
   "cell_type": "markdown",
   "metadata": {},
   "source": [
    "Почти 3/4 всех предложений на промежуточных этажах. Остальные предложения поровну делятся между первыми и последними этажами"
   ]
  },
  {
   "cell_type": "markdown",
   "metadata": {},
   "source": [
    "--- \n",
    "**Количество этажей в доме**"
   ]
  },
  {
   "cell_type": "code",
   "execution_count": 253,
   "metadata": {},
   "outputs": [
    {
     "data": {
      "text/plain": [
       "<AxesSubplot:title={'center':'floors_total'}, ylabel='Frequency'>"
      ]
     },
     "metadata": {},
     "output_type": "display_data"
    },
    {
     "data": {
      "text/html": [
       "<div>\n",
       "<style scoped>\n",
       "    .dataframe tbody tr th:only-of-type {\n",
       "        vertical-align: middle;\n",
       "    }\n",
       "\n",
       "    .dataframe tbody tr th {\n",
       "        vertical-align: top;\n",
       "    }\n",
       "\n",
       "    .dataframe thead th {\n",
       "        text-align: right;\n",
       "    }\n",
       "</style>\n",
       "<table border=\"1\" class=\"dataframe\">\n",
       "  <thead>\n",
       "    <tr style=\"text-align: right;\">\n",
       "      <th></th>\n",
       "      <th>count</th>\n",
       "      <th>mean</th>\n",
       "      <th>std</th>\n",
       "      <th>min</th>\n",
       "      <th>25%</th>\n",
       "      <th>50%</th>\n",
       "      <th>75%</th>\n",
       "      <th>max</th>\n",
       "    </tr>\n",
       "  </thead>\n",
       "  <tbody>\n",
       "    <tr>\n",
       "      <th>floors_total</th>\n",
       "      <td>23322.00</td>\n",
       "      <td>10.73</td>\n",
       "      <td>6.61</td>\n",
       "      <td>1.00</td>\n",
       "      <td>5.00</td>\n",
       "      <td>9.00</td>\n",
       "      <td>16.00</td>\n",
       "      <td>37.00</td>\n",
       "    </tr>\n",
       "  </tbody>\n",
       "</table>\n",
       "</div>"
      ],
      "text/plain": [
       "                count  mean  std  min  25%  50%   75%   max\n",
       "floors_total 23322.00 10.73 6.61 1.00 5.00 9.00 16.00 37.00"
      ]
     },
     "metadata": {},
     "output_type": "display_data"
    },
    {
     "data": {
      "image/png": "[encoded data removed]",
      "text/plain": [
       "<Figure size 432x144 with 1 Axes>"
      ]
     },
     "metadata": {
      "needs_background": "light"
     },
     "output_type": "display_data"
    }
   ],
   "source": [
    "check_column_data(good_data, 'floors_total',37)"
   ]
  },
  {
   "cell_type": "markdown",
   "metadata": {},
   "source": [
    "Квартиры предлагаются в домах разной этажности, в основном до 25 этажек. При этом явно лидируют 5-ти и 9-ти этажные дома."
   ]
  },
  {
   "cell_type": "markdown",
   "metadata": {},
   "source": [
    "---\n",
    "**Расстояние до центра города в метрах**"
   ]
  },
  {
   "cell_type": "code",
   "execution_count": 254,
   "metadata": {},
   "outputs": [
    {
     "data": {
      "text/plain": [
       "<AxesSubplot:title={'center':'cityCenters_nearest'}, ylabel='Frequency'>"
      ]
     },
     "metadata": {},
     "output_type": "display_data"
    },
    {
     "data": {
      "text/html": [
       "<div>\n",
       "<style scoped>\n",
       "    .dataframe tbody tr th:only-of-type {\n",
       "        vertical-align: middle;\n",
       "    }\n",
       "\n",
       "    .dataframe tbody tr th {\n",
       "        vertical-align: top;\n",
       "    }\n",
       "\n",
       "    .dataframe thead th {\n",
       "        text-align: right;\n",
       "    }\n",
       "</style>\n",
       "<table border=\"1\" class=\"dataframe\">\n",
       "  <thead>\n",
       "    <tr style=\"text-align: right;\">\n",
       "      <th></th>\n",
       "      <th>count</th>\n",
       "      <th>mean</th>\n",
       "      <th>std</th>\n",
       "      <th>min</th>\n",
       "      <th>25%</th>\n",
       "      <th>50%</th>\n",
       "      <th>75%</th>\n",
       "      <th>max</th>\n",
       "    </tr>\n",
       "  </thead>\n",
       "  <tbody>\n",
       "    <tr>\n",
       "      <th>cityCenters_nearest</th>\n",
       "      <td>17830.00</td>\n",
       "      <td>14308.96</td>\n",
       "      <td>8591.20</td>\n",
       "      <td>181.00</td>\n",
       "      <td>9482.25</td>\n",
       "      <td>13168.00</td>\n",
       "      <td>16359.25</td>\n",
       "      <td>65968.00</td>\n",
       "    </tr>\n",
       "  </tbody>\n",
       "</table>\n",
       "</div>"
      ],
      "text/plain": [
       "                       count     mean     std    min     25%      50%  \\\n",
       "cityCenters_nearest 17830.00 14308.96 8591.20 181.00 9482.25 13168.00   \n",
       "\n",
       "                         75%      max  \n",
       "cityCenters_nearest 16359.25 65968.00  "
      ]
     },
     "metadata": {},
     "output_type": "display_data"
    },
    {
     "data": {
      "image/png": "[encoded data removed]",
      "text/plain": [
       "<Figure size 432x144 with 1 Axes>"
      ]
     },
     "metadata": {
      "needs_background": "light"
     },
     "output_type": "display_data"
    },
    {
     "name": "stdout",
     "output_type": "stream",
     "text": [
      "\n",
      "!!! Иммется информация только по 76 % объявлений\n"
     ]
    }
   ],
   "source": [
    "check_column_data(good_data, 'cityCenters_nearest',20)\n",
    "\n",
    "plt.show()\n",
    "print('\\n!!! Иммется информация только по', round((1 - good_data['cityCenters_nearest'].isna().mean())*100) , '% объявлений')"
   ]
  },
  {
   "cell_type": "markdown",
   "metadata": {},
   "source": [
    "На графике видна основная отдаленность от центра на 11-16 километров, также в районе 5 километров есть небольшой пик. Совсем удаленное жилье, на 20 и более километров встречается гораздо реже. \n",
    "Это данные только по 76% объявлений с имеющейся картографической информацией"
   ]
  },
  {
   "cell_type": "markdown",
   "metadata": {},
   "source": [
    "---\n",
    "**Расстояние до ближайшего аэропорта**"
   ]
  },
  {
   "cell_type": "code",
   "execution_count": 255,
   "metadata": {},
   "outputs": [
    {
     "data": {
      "text/plain": [
       "<AxesSubplot:title={'center':'airports_nearest'}, ylabel='Frequency'>"
      ]
     },
     "metadata": {},
     "output_type": "display_data"
    },
    {
     "data": {
      "text/html": [
       "<div>\n",
       "<style scoped>\n",
       "    .dataframe tbody tr th:only-of-type {\n",
       "        vertical-align: middle;\n",
       "    }\n",
       "\n",
       "    .dataframe tbody tr th {\n",
       "        vertical-align: top;\n",
       "    }\n",
       "\n",
       "    .dataframe thead th {\n",
       "        text-align: right;\n",
       "    }\n",
       "</style>\n",
       "<table border=\"1\" class=\"dataframe\">\n",
       "  <thead>\n",
       "    <tr style=\"text-align: right;\">\n",
       "      <th></th>\n",
       "      <th>count</th>\n",
       "      <th>mean</th>\n",
       "      <th>std</th>\n",
       "      <th>min</th>\n",
       "      <th>25%</th>\n",
       "      <th>50%</th>\n",
       "      <th>75%</th>\n",
       "      <th>max</th>\n",
       "    </tr>\n",
       "  </thead>\n",
       "  <tbody>\n",
       "    <tr>\n",
       "      <th>airports_nearest</th>\n",
       "      <td>17810.00</td>\n",
       "      <td>28829.60</td>\n",
       "      <td>12695.69</td>\n",
       "      <td>6450.00</td>\n",
       "      <td>18495.25</td>\n",
       "      <td>26786.00</td>\n",
       "      <td>37407.00</td>\n",
       "      <td>84869.00</td>\n",
       "    </tr>\n",
       "  </tbody>\n",
       "</table>\n",
       "</div>"
      ],
      "text/plain": [
       "                    count     mean      std     min      25%      50%  \\\n",
       "airports_nearest 17810.00 28829.60 12695.69 6450.00 18495.25 26786.00   \n",
       "\n",
       "                      75%      max  \n",
       "airports_nearest 37407.00 84869.00  "
      ]
     },
     "metadata": {},
     "output_type": "display_data"
    },
    {
     "data": {
      "image/png": "[encoded data removed]",
      "text/plain": [
       "<Figure size 432x144 with 1 Axes>"
      ]
     },
     "metadata": {
      "needs_background": "light"
     },
     "output_type": "display_data"
    },
    {
     "name": "stdout",
     "output_type": "stream",
     "text": [
      "\n",
      "Геоданные отсутствуют в 24 % объявлений\n"
     ]
    }
   ],
   "source": [
    "check_column_data(good_data, 'airports_nearest',20)\n",
    "plt.show()\n",
    "print('\\nГеоданные отсутствуют в', round(( good_data['is_bad_geodata'].mean())*100) , '% объявлений')"
   ]
  },
  {
   "cell_type": "markdown",
   "metadata": {},
   "source": [
    "В основном квартиры расположены в 18-37 километрах от аэропорта.\n",
    "Это данные только по 76% объявлений с имеющейся картографической информацией"
   ]
  },
  {
   "cell_type": "markdown",
   "metadata": {},
   "source": [
    "---\n",
    "**Расстояние до ближайшего парка**"
   ]
  },
  {
   "cell_type": "code",
   "execution_count": 256,
   "metadata": {},
   "outputs": [
    {
     "data": {
      "text/plain": [
       "<AxesSubplot:title={'center':'parks_nearest'}, ylabel='Frequency'>"
      ]
     },
     "metadata": {},
     "output_type": "display_data"
    },
    {
     "data": {
      "text/html": [
       "<div>\n",
       "<style scoped>\n",
       "    .dataframe tbody tr th:only-of-type {\n",
       "        vertical-align: middle;\n",
       "    }\n",
       "\n",
       "    .dataframe tbody tr th {\n",
       "        vertical-align: top;\n",
       "    }\n",
       "\n",
       "    .dataframe thead th {\n",
       "        text-align: right;\n",
       "    }\n",
       "</style>\n",
       "<table border=\"1\" class=\"dataframe\">\n",
       "  <thead>\n",
       "    <tr style=\"text-align: right;\">\n",
       "      <th></th>\n",
       "      <th>count</th>\n",
       "      <th>mean</th>\n",
       "      <th>std</th>\n",
       "      <th>min</th>\n",
       "      <th>25%</th>\n",
       "      <th>50%</th>\n",
       "      <th>75%</th>\n",
       "      <th>max</th>\n",
       "    </tr>\n",
       "  </thead>\n",
       "  <tbody>\n",
       "    <tr>\n",
       "      <th>parks_nearest</th>\n",
       "      <td>7855.00</td>\n",
       "      <td>492.77</td>\n",
       "      <td>343.01</td>\n",
       "      <td>1.00</td>\n",
       "      <td>288.00</td>\n",
       "      <td>456.00</td>\n",
       "      <td>613.00</td>\n",
       "      <td>3190.00</td>\n",
       "    </tr>\n",
       "  </tbody>\n",
       "</table>\n",
       "</div>"
      ],
      "text/plain": [
       "                count   mean    std  min    25%    50%    75%     max\n",
       "parks_nearest 7855.00 492.77 343.01 1.00 288.00 456.00 613.00 3190.00"
      ]
     },
     "metadata": {},
     "output_type": "display_data"
    },
    {
     "data": {
      "image/png": "[encoded data removed]",
      "text/plain": [
       "<Figure size 432x144 with 1 Axes>"
      ]
     },
     "metadata": {
      "needs_background": "light"
     },
     "output_type": "display_data"
    },
    {
     "name": "stdout",
     "output_type": "stream",
     "text": [
      "\n",
      "Геоданные отсутствуют в 24 % объявлений\n",
      "\n",
      "По имеющейся информации  56 % квартир не имеют парка в радиусе 3 км\n"
     ]
    }
   ],
   "source": [
    "check_column_data(good_data, 'parks_nearest')\n",
    "plt.show()\n",
    "print('\\nГеоданные отсутствуют в', round(( good_data['is_bad_geodata'].mean())*100) , '% объявлений')\n",
    "print('\\nПо имеющейся информации ', round((good_data[good_data['is_bad_geodata'] == False]['parks_nearest'].isna().mean()*100)) , '% квартир не имеют парка в радиусе 3 км')"
   ]
  },
  {
   "cell_type": "markdown",
   "metadata": {},
   "source": [
    "Около 44% квартир, имеющим качественные геоданные, имеют как минимум 1 парк в радиусе 3 километров. При этом, если парк есть, то он почти всегда будет оносительно близко - в радиусе 1000 метров"
   ]
  },
  {
   "cell_type": "markdown",
   "metadata": {},
   "source": [
    "---\n",
    "**День и месяц публикации объявления**"
   ]
  },
  {
   "cell_type": "code",
   "execution_count": 257,
   "metadata": {},
   "outputs": [
    {
     "data": {
      "text/plain": [
       "<AxesSubplot:title={'center':'exposition_weekday'}, ylabel='Frequency'>"
      ]
     },
     "metadata": {},
     "output_type": "display_data"
    },
    {
     "data": {
      "text/html": [
       "<div>\n",
       "<style scoped>\n",
       "    .dataframe tbody tr th:only-of-type {\n",
       "        vertical-align: middle;\n",
       "    }\n",
       "\n",
       "    .dataframe tbody tr th {\n",
       "        vertical-align: top;\n",
       "    }\n",
       "\n",
       "    .dataframe thead th {\n",
       "        text-align: right;\n",
       "    }\n",
       "</style>\n",
       "<table border=\"1\" class=\"dataframe\">\n",
       "  <thead>\n",
       "    <tr style=\"text-align: right;\">\n",
       "      <th></th>\n",
       "      <th>count</th>\n",
       "      <th>mean</th>\n",
       "      <th>std</th>\n",
       "      <th>min</th>\n",
       "      <th>25%</th>\n",
       "      <th>50%</th>\n",
       "      <th>75%</th>\n",
       "      <th>max</th>\n",
       "    </tr>\n",
       "  </thead>\n",
       "  <tbody>\n",
       "    <tr>\n",
       "      <th>exposition_weekday</th>\n",
       "      <td>23322.00</td>\n",
       "      <td>2.57</td>\n",
       "      <td>1.79</td>\n",
       "      <td>0.00</td>\n",
       "      <td>1.00</td>\n",
       "      <td>3.00</td>\n",
       "      <td>4.00</td>\n",
       "      <td>6.00</td>\n",
       "    </tr>\n",
       "  </tbody>\n",
       "</table>\n",
       "</div>"
      ],
      "text/plain": [
       "                      count  mean  std  min  25%  50%  75%  max\n",
       "exposition_weekday 23322.00  2.57 1.79 0.00 1.00 3.00 4.00 6.00"
      ]
     },
     "metadata": {},
     "output_type": "display_data"
    },
    {
     "data": {
      "image/png": "[encoded data removed]",
      "text/plain": [
       "<Figure size 432x144 with 1 Axes>"
      ]
     },
     "metadata": {
      "needs_background": "light"
     },
     "output_type": "display_data"
    },
    {
     "data": {
      "text/html": [
       "<div>\n",
       "<style scoped>\n",
       "    .dataframe tbody tr th:only-of-type {\n",
       "        vertical-align: middle;\n",
       "    }\n",
       "\n",
       "    .dataframe tbody tr th {\n",
       "        vertical-align: top;\n",
       "    }\n",
       "\n",
       "    .dataframe thead th {\n",
       "        text-align: right;\n",
       "    }\n",
       "</style>\n",
       "<table border=\"1\" class=\"dataframe\">\n",
       "  <thead>\n",
       "    <tr style=\"text-align: right;\">\n",
       "      <th></th>\n",
       "      <th>0</th>\n",
       "      <th>1</th>\n",
       "      <th>2</th>\n",
       "      <th>3</th>\n",
       "      <th>4</th>\n",
       "      <th>5</th>\n",
       "      <th>6</th>\n",
       "    </tr>\n",
       "  </thead>\n",
       "  <tbody>\n",
       "    <tr>\n",
       "      <th>exposition_weekday</th>\n",
       "      <td>3555</td>\n",
       "      <td>4123</td>\n",
       "      <td>3915</td>\n",
       "      <td>4215</td>\n",
       "      <td>3942</td>\n",
       "      <td>1901</td>\n",
       "      <td>1671</td>\n",
       "    </tr>\n",
       "  </tbody>\n",
       "</table>\n",
       "</div>"
      ],
      "text/plain": [
       "                       0     1     2     3     4     5     6\n",
       "exposition_weekday  3555  4123  3915  4215  3942  1901  1671"
      ]
     },
     "execution_count": 257,
     "metadata": {},
     "output_type": "execute_result"
    }
   ],
   "source": [
    "check_column_data(good_data, 'exposition_weekday',7 )\n",
    "plt.show()\n",
    "pd.DataFrame(good_data['exposition_weekday'].value_counts()).sort_index().T"
   ]
  },
  {
   "cell_type": "markdown",
   "metadata": {},
   "source": [
    "В основном объявления публикуются в рабочие дни, без ярко выраженных пиков ни в один из них. Количество публикуемых ежедневно объявление в субботу и воскресенье падает примерно вдвое."
   ]
  },
  {
   "cell_type": "code",
   "execution_count": 258,
   "metadata": {},
   "outputs": [
    {
     "data": {
      "text/plain": [
       "<AxesSubplot:title={'center':'exposition_month'}, ylabel='Frequency'>"
      ]
     },
     "metadata": {},
     "output_type": "display_data"
    },
    {
     "data": {
      "text/html": [
       "<div>\n",
       "<style scoped>\n",
       "    .dataframe tbody tr th:only-of-type {\n",
       "        vertical-align: middle;\n",
       "    }\n",
       "\n",
       "    .dataframe tbody tr th {\n",
       "        vertical-align: top;\n",
       "    }\n",
       "\n",
       "    .dataframe thead th {\n",
       "        text-align: right;\n",
       "    }\n",
       "</style>\n",
       "<table border=\"1\" class=\"dataframe\">\n",
       "  <thead>\n",
       "    <tr style=\"text-align: right;\">\n",
       "      <th></th>\n",
       "      <th>count</th>\n",
       "      <th>mean</th>\n",
       "      <th>std</th>\n",
       "      <th>min</th>\n",
       "      <th>25%</th>\n",
       "      <th>50%</th>\n",
       "      <th>75%</th>\n",
       "      <th>max</th>\n",
       "    </tr>\n",
       "  </thead>\n",
       "  <tbody>\n",
       "    <tr>\n",
       "      <th>exposition_month</th>\n",
       "      <td>23322.00</td>\n",
       "      <td>6.40</td>\n",
       "      <td>3.49</td>\n",
       "      <td>1.00</td>\n",
       "      <td>3.00</td>\n",
       "      <td>6.00</td>\n",
       "      <td>10.00</td>\n",
       "      <td>12.00</td>\n",
       "    </tr>\n",
       "  </tbody>\n",
       "</table>\n",
       "</div>"
      ],
      "text/plain": [
       "                    count  mean  std  min  25%  50%   75%   max\n",
       "exposition_month 23322.00  6.40 3.49 1.00 3.00 6.00 10.00 12.00"
      ]
     },
     "metadata": {},
     "output_type": "display_data"
    },
    {
     "data": {
      "image/png": "[encoded data removed]",
      "text/plain": [
       "<Figure size 432x144 with 1 Axes>"
      ]
     },
     "metadata": {
      "needs_background": "light"
     },
     "output_type": "display_data"
    },
    {
     "data": {
      "text/html": [
       "<div>\n",
       "<style scoped>\n",
       "    .dataframe tbody tr th:only-of-type {\n",
       "        vertical-align: middle;\n",
       "    }\n",
       "\n",
       "    .dataframe tbody tr th {\n",
       "        vertical-align: top;\n",
       "    }\n",
       "\n",
       "    .dataframe thead th {\n",
       "        text-align: right;\n",
       "    }\n",
       "</style>\n",
       "<table border=\"1\" class=\"dataframe\">\n",
       "  <thead>\n",
       "    <tr style=\"text-align: right;\">\n",
       "      <th></th>\n",
       "      <th>2</th>\n",
       "      <th>3</th>\n",
       "      <th>4</th>\n",
       "      <th>11</th>\n",
       "      <th>10</th>\n",
       "      <th>9</th>\n",
       "      <th>6</th>\n",
       "      <th>8</th>\n",
       "      <th>7</th>\n",
       "      <th>12</th>\n",
       "      <th>1</th>\n",
       "      <th>5</th>\n",
       "    </tr>\n",
       "  </thead>\n",
       "  <tbody>\n",
       "    <tr>\n",
       "      <th>exposition_month</th>\n",
       "      <td>2598</td>\n",
       "      <td>2549</td>\n",
       "      <td>2343</td>\n",
       "      <td>2342</td>\n",
       "      <td>2099</td>\n",
       "      <td>1951</td>\n",
       "      <td>1729</td>\n",
       "      <td>1723</td>\n",
       "      <td>1663</td>\n",
       "      <td>1607</td>\n",
       "      <td>1463</td>\n",
       "      <td>1255</td>\n",
       "    </tr>\n",
       "  </tbody>\n",
       "</table>\n",
       "</div>"
      ],
      "text/plain": [
       "                    2     3     4     11    10    9     6     8     7     12  \\\n",
       "exposition_month  2598  2549  2343  2342  2099  1951  1729  1723  1663  1607   \n",
       "\n",
       "                    1     5   \n",
       "exposition_month  1463  1255  "
      ]
     },
     "execution_count": 258,
     "metadata": {},
     "output_type": "execute_result"
    }
   ],
   "source": [
    "check_column_data(good_data, 'exposition_month',12)\n",
    "plt.show()\n",
    "pd.DataFrame(good_data['exposition_month'].value_counts()).T"
   ]
  },
  {
   "cell_type": "markdown",
   "metadata": {},
   "source": [
    "Самые \"горячие\" месяца - февраль и март, затишье - в январе и мае. Праздники, людям не до объявлений."
   ]
  },
  {
   "cell_type": "markdown",
   "metadata": {},
   "source": [
    "---\n",
    "##### Промежуточные выводы\n",
    "\n",
    "Удалось сформировать срез по рынку недвижимости Ленинградской области. Он выглядит следующим образом:\n",
    "- Основное предложение приходится на квартиры площадью от 40 до 69 м2, медианное значение - 52м2. \n",
    "- Площадь жилих зон в основном от 19 до 42 м2, медианное значение - 30м2.\n",
    "- Площадь кухонь в основном от 7 до 11м2, но есть и выдающиеся варианты в 50м2\n",
    "- Цена варьируется в широких пределах, от 430т.р. до 40 миллионов, при этом самые продаваемые квартиры - в диапазоне от 3,4 до 6,7 миллиона\n",
    "- На первом месте по количеству - однокомнатные квартиры (8190 предложений), немного меньше двухкомнатных (7882), далее трехкомнатные (5728). Четырех и более комнатные варианты представлены гораздо меньше\n",
    "- Основная высота потолков - 2.6 - 2.7 метра\n",
    "- В основном продают квартиры на 1-5х этажах, причем квартир на первом этаже предлагается значительно больше, чем на любом другом. Квартиры на этаже выше пятого также продают, но в значительно меньших количествах.\n",
    "- Почти 3/4 всех предложений на промежуточных этажах. Остальные предложения поровну делятся между первыми и последними этажами\n",
    "- Квартиры предлагаются в домах разной этажности, в основном до 25 этажек. При этом явно лидируют 5-ти и 9-ти этажные дома.\n",
    "- Средняя отдаленность от центра на 11-16 километров. Совсем удаленное жилье, на 20 и более километров встречается гораздо реже.\n",
    "- В основном квартиры расположены в 18-37 километрах от аэропорта.\n",
    "- Около 44% квартир имеют как минимум 1 парк в радиусе шаговой доступности. При этом, если парк есть, то он почти всегда будет относительно близко - в радиусе 1000 метров\n",
    "- Самые \"горячие\" месяца по размещению объявлений - февраль и март, затишье - в январе и мае. "
   ]
  },
  {
   "cell_type": "markdown",
   "metadata": {
    "tags": []
   },
   "source": [
    "---\n",
    "#### Задание 1: как быстро продавались квартиры"
   ]
  },
  {
   "cell_type": "markdown",
   "metadata": {},
   "source": [
    "Изучите, как быстро продавались квартиры (столбец days_exposition). Этот параметр показывает, сколько дней было размещено каждое объявление.\n",
    "Постройте гистограмму.\n",
    "Посчитайте среднее и медиану.\n",
    "В ячейке типа markdown опишите, сколько времени обычно занимает продажа. Какие продажи можно считать быстрыми, а какие — необычно долгими?"
   ]
  },
  {
   "cell_type": "code",
   "execution_count": 259,
   "metadata": {},
   "outputs": [
    {
     "data": {
      "text/plain": [
       "<AxesSubplot:ylabel='Frequency'>"
      ]
     },
     "metadata": {},
     "output_type": "display_data"
    },
    {
     "data": {
      "image/png": "[encoded data removed]",
      "text/plain": [
       "<Figure size 432x288 with 1 Axes>"
      ]
     },
     "metadata": {
      "needs_background": "light"
     },
     "output_type": "display_data"
    },
    {
     "name": "stdout",
     "output_type": "stream",
     "text": [
      "Медиана: 95.0 дней.\n",
      "Среднее: 180 дней.\n",
      "Необычайно быстрые продажи (быстрее 10% всех продаж) быстрее: 17.0 дней.\n",
      "Необычайно долгие продажи (дольше 90% всех продаж) быстрее: 454.0 дней.\n"
     ]
    }
   ],
   "source": [
    "# график\n",
    "display(good_data['days_exposition'].plot(kind='hist', bins=200, xlim=(0,100)))\n",
    "plt.show()\n",
    "\n",
    "# текст под графиком\n",
    "print('Медиана:', good_data['days_exposition'].median(), 'дней.')\n",
    "print('Среднее:', round(good_data['days_exposition'].mean()), 'дней.')\n",
    "print('Необычайно быстрые продажи (быстрее 10% всех продаж) быстрее:', good_data['days_exposition'].quantile(0.1), 'дней.')\n",
    "print('Необычайно долгие продажи (дольше 90% всех продаж) быстрее:', good_data['days_exposition'].quantile(0.9), 'дней.')"
   ]
  },
  {
   "cell_type": "markdown",
   "metadata": {},
   "source": [
    "---\n",
    "##### Промежуточные выводы"
   ]
  },
  {
   "cell_type": "markdown",
   "metadata": {},
   "source": [
    "Обычно продажа занимает **95 дней (медиана)**, среднее при этом 168 дней, т.е. имеют место вылеты по срокам продажи\n",
    "\n",
    "Быстрой продажей можно считать попаданием в 10-й процентиль, то есть до **17 дней** \n",
    "\n",
    "Необычайно долгими можно считать продажи выше 90-го процентиля, это **454 дня**"
   ]
  },
  {
   "cell_type": "markdown",
   "metadata": {},
   "source": [
    "***добавлено*** также заметны выбросы в районе 45 и 60 дней. Возможно, это связано с механизмом напоминания сайта о размещенных объявлениях. Люди, продав квартиру, могут забыть поставиьт отметку на сайте. И делют это после напоминания системы."
   ]
  },
  {
   "cell_type": "markdown",
   "metadata": {
    "tags": []
   },
   "source": [
    "---\n",
    "#### Задание 2: какие факторы больше влияют на стоимость объекта"
   ]
  },
  {
   "cell_type": "markdown",
   "metadata": {},
   "source": [
    "Какие факторы больше всего влияют на общую (полную) стоимость объекта?\n",
    "Изучите, зависит ли цена от:\n",
    "общей площади;\n",
    "жилой площади;\n",
    "площади кухни;\n",
    "количества комнат;\n",
    "этажа, на котором расположена квартира (первый, последний, другой);\n",
    "даты размещения (день недели, месяц, год).\n",
    "Постройте графики, которые покажут зависимость цены от указанных выше параметров. Для подготовки данных перед визуализацией вы можете использовать сводные таблицы.\n"
   ]
  },
  {
   "cell_type": "code",
   "execution_count": 260,
   "metadata": {},
   "outputs": [],
   "source": [
    "# список колонок для проверки влияния на last_price 'total_area', 'living_area', 'kitchen_area', 'floor_type', 'exposition_weekday', 'exposition_month', 'exposition_year'\n",
    "columns_correlation = {}"
   ]
  },
  {
   "cell_type": "code",
   "execution_count": 261,
   "metadata": {},
   "outputs": [
    {
     "data": {
      "image/png": "[encoded data removed]",
      "text/plain": [
       "<Figure size 432x288 with 1 Axes>"
      ]
     },
     "metadata": {
      "needs_background": "light"
     },
     "output_type": "display_data"
    },
    {
     "name": "stdout",
     "output_type": "stream",
     "text": [
      "Коэффициент корреляции = 0.78\n"
     ]
    }
   ],
   "source": [
    "#'total_area'\n",
    "column = 'total_area'\n",
    "ax = good_data.plot(kind='scatter', x=column, y='last_price', grid=True, alpha=0.05, title='Зависимость last_price от '+column)\n",
    "ax.yaxis.set_major_formatter(mpl.ticker.StrMethodFormatter('{x:,.0f}'))\n",
    "\n",
    "plt.show()\n",
    "\n",
    "columns_correlation[column] = good_data[['last_price', column]].corr().loc['last_price',column]\n",
    "print('Коэффициент корреляции =',round(columns_correlation[column],2))"
   ]
  },
  {
   "cell_type": "markdown",
   "metadata": {},
   "source": [
    "Цена неплохо коррелирует с полной площадью квартиры."
   ]
  },
  {
   "cell_type": "code",
   "execution_count": 262,
   "metadata": {},
   "outputs": [
    {
     "data": {
      "image/png": "[encoded data removed]",
      "text/plain": [
       "<Figure size 432x288 with 1 Axes>"
      ]
     },
     "metadata": {
      "needs_background": "light"
     },
     "output_type": "display_data"
    },
    {
     "name": "stdout",
     "output_type": "stream",
     "text": [
      "Коэффициент корреляции = 0.69\n"
     ]
    }
   ],
   "source": [
    "#'living_area'\n",
    "column = 'living_area'\n",
    "ax = good_data.plot(kind='scatter', x=column, y='last_price', grid=True, alpha=0.05, title='Зависимость last_price от '+column)\n",
    "ax.yaxis.set_major_formatter(mpl.ticker.StrMethodFormatter('{x:,.0f}'))\n",
    "plt.show()\n",
    "\n",
    "columns_correlation[column] = good_data[['last_price', column]].corr().loc['last_price',column]\n",
    "print('Коэффициент корреляции =',round(columns_correlation[column],2))"
   ]
  },
  {
   "cell_type": "markdown",
   "metadata": {},
   "source": [
    "Немного ниже цена коррелирует с жилой площадью, общая площадь важнее"
   ]
  },
  {
   "cell_type": "code",
   "execution_count": 263,
   "metadata": {},
   "outputs": [
    {
     "data": {
      "image/png": "[encoded data removed]",
      "text/plain": [
       "<Figure size 432x288 with 1 Axes>"
      ]
     },
     "metadata": {
      "needs_background": "light"
     },
     "output_type": "display_data"
    },
    {
     "name": "stdout",
     "output_type": "stream",
     "text": [
      "Коэффициент корреляции = 0.57\n"
     ]
    }
   ],
   "source": [
    "#'kitchen_area'\n",
    "column = 'kitchen_area'\n",
    "ax = good_data.plot(kind='scatter', x=column, y='last_price', grid=True, alpha=0.05, title='Зависимость last_price от '+column)\n",
    "ax.yaxis.set_major_formatter(mpl.ticker.StrMethodFormatter('{x:,.0f}'))\n",
    "plt.show()\n",
    "\n",
    "columns_correlation[column] = good_data[['last_price', column]].corr().loc['last_price',column]\n",
    "print('Коэффициент корреляции =',round(columns_correlation[column],2))"
   ]
  },
  {
   "cell_type": "markdown",
   "metadata": {},
   "source": [
    "Еще меньше стоимость зависит от площади кухни, но в целом по всем трем видам площадей картина в целом похожа - есть тенденция к увеличению цены квартиры с ростом площади, однако для небольших и средних квартир есть много прочих влияющих на цену факторов"
   ]
  },
  {
   "cell_type": "code",
   "execution_count": 264,
   "metadata": {},
   "outputs": [
    {
     "data": {
      "image/png": "[encoded data removed]",
      "text/plain": [
       "<Figure size 432x288 with 1 Axes>"
      ]
     },
     "metadata": {
      "needs_background": "light"
     },
     "output_type": "display_data"
    }
   ],
   "source": [
    "#'floor_type'\n",
    "column = 'floor_type'\n",
    "\n",
    "# построим диаграмму\n",
    "plt.ylim([0,10000000])\n",
    "ax = sb.boxplot(x=column, y=\"last_price\", data=good_data)\n",
    "ax.yaxis.set_major_formatter(mpl.ticker.StrMethodFormatter('{x:,.0f}'))\n",
    "columns_correlation[column]='первый этаж - дешевле, другой - дороже'"
   ]
  },
  {
   "cell_type": "markdown",
   "metadata": {},
   "source": [
    "Видна зависимость стоимости квартир от типа этажа. Квартиры на первых этажах, в целом, дешевле остальных. Дороже всего оцениваются квартиры на средних этажах."
   ]
  },
  {
   "cell_type": "code",
   "execution_count": 265,
   "metadata": {},
   "outputs": [
    {
     "data": {
      "image/png": "[encoded data removed]",
      "text/plain": [
       "<Figure size 432x288 with 1 Axes>"
      ]
     },
     "metadata": {
      "needs_background": "light"
     },
     "output_type": "display_data"
    }
   ],
   "source": [
    "#'exposition_weekday'\n",
    "column = 'exposition_weekday'\n",
    "\n",
    "# построим диаграмму\n",
    "plt.ylim([0,10000000])\n",
    "ax = sb.boxplot(x=column, y=\"last_price\", data=good_data)\n",
    "ax.yaxis.set_major_formatter(mpl.ticker.StrMethodFormatter('{x:,.0f}'))\n",
    "columns_correlation[column]='нет влияния'"
   ]
  },
  {
   "cell_type": "markdown",
   "metadata": {},
   "source": [
    "День размещения объявления никак не влияет на стоимость продажи."
   ]
  },
  {
   "cell_type": "code",
   "execution_count": 266,
   "metadata": {},
   "outputs": [
    {
     "data": {
      "image/png": "[encoded data removed]",
      "text/plain": [
       "<Figure size 432x288 with 1 Axes>"
      ]
     },
     "metadata": {
      "needs_background": "light"
     },
     "output_type": "display_data"
    }
   ],
   "source": [
    "#'exposition_month'\n",
    "column = 'exposition_month'\n",
    "\n",
    "# построим диаграмму\n",
    "plt.ylim([0,10000000])\n",
    "ax = sb.boxplot(x=column, y=\"last_price\", data=good_data)\n",
    "ax.yaxis.set_major_formatter(mpl.ticker.StrMethodFormatter('{x:,.0f}'))\n",
    "columns_correlation[column]='практически нет влияния'"
   ]
  },
  {
   "cell_type": "markdown",
   "metadata": {},
   "source": [
    "Незначительная флуктуация цены продажи заметна в течение года. Дороже всего продаются квартиры, размещенные в апреле. С учетом среднего срока продажи 95 дней, их ориантировочно продают в июле-августе."
   ]
  },
  {
   "cell_type": "code",
   "execution_count": 267,
   "metadata": {},
   "outputs": [
    {
     "data": {
      "image/png": "[encoded data removed]",
      "text/plain": [
       "<Figure size 432x288 with 1 Axes>"
      ]
     },
     "metadata": {
      "needs_background": "light"
     },
     "output_type": "display_data"
    }
   ],
   "source": [
    "#'exposition_year'\n",
    "column = 'exposition_year'\n",
    "\n",
    "# построим диаграмму\n",
    "plt.ylim([0,10000000])\n",
    "ax = sb.boxplot(x=column, y=\"last_price\", data=good_data)\n",
    "ax.yaxis.set_major_formatter(mpl.ticker.StrMethodFormatter('{x:,.0f}'))\n",
    "columns_correlation[column]='до 2017 цена падает, после - растет'"
   ]
  },
  {
   "cell_type": "markdown",
   "metadata": {},
   "source": [
    "От года к году цена может меняться в значительных пределах, с 2014 года цены сильно упали, начиная с 2018 наметился небольшой рост."
   ]
  },
  {
   "cell_type": "markdown",
   "metadata": {},
   "source": [
    "##### Промежуточные выводы\n",
    "\n",
    "Для числовых полей посчитаны коэффициенты корреляции, для нечисловых - дано текстовое описание взможного влияния. Видно, что площадь квартиры влияет на стоимость. Также влияние оказывает и этаж расположения - первый подешевле, этаж в середине - подороже. Сроки размещения практически не влияют на стоимость, единственное - квартиры, выставляемые на продажу весной, обычно немного продаются. Стоимость сильно зависит от года размещения объявления, т.к. отражает общую ситуацию с рынком недвижимости."
   ]
  },
  {
   "cell_type": "code",
   "execution_count": 268,
   "metadata": {},
   "outputs": [
    {
     "data": {
      "text/html": [
       "<div>\n",
       "<style scoped>\n",
       "    .dataframe tbody tr th:only-of-type {\n",
       "        vertical-align: middle;\n",
       "    }\n",
       "\n",
       "    .dataframe tbody tr th {\n",
       "        vertical-align: top;\n",
       "    }\n",
       "\n",
       "    .dataframe thead th {\n",
       "        text-align: right;\n",
       "    }\n",
       "</style>\n",
       "<table border=\"1\" class=\"dataframe\">\n",
       "  <thead>\n",
       "    <tr style=\"text-align: right;\">\n",
       "      <th></th>\n",
       "      <th>parameter</th>\n",
       "      <th>correlation</th>\n",
       "    </tr>\n",
       "  </thead>\n",
       "  <tbody>\n",
       "    <tr>\n",
       "      <th>0</th>\n",
       "      <td>total_area</td>\n",
       "      <td>0.78</td>\n",
       "    </tr>\n",
       "    <tr>\n",
       "      <th>1</th>\n",
       "      <td>living_area</td>\n",
       "      <td>0.69</td>\n",
       "    </tr>\n",
       "    <tr>\n",
       "      <th>2</th>\n",
       "      <td>kitchen_area</td>\n",
       "      <td>0.57</td>\n",
       "    </tr>\n",
       "    <tr>\n",
       "      <th>3</th>\n",
       "      <td>floor_type</td>\n",
       "      <td>первый этаж - дешевле, другой - дороже</td>\n",
       "    </tr>\n",
       "    <tr>\n",
       "      <th>4</th>\n",
       "      <td>exposition_weekday</td>\n",
       "      <td>нет влияния</td>\n",
       "    </tr>\n",
       "    <tr>\n",
       "      <th>5</th>\n",
       "      <td>exposition_month</td>\n",
       "      <td>практически нет влияния</td>\n",
       "    </tr>\n",
       "    <tr>\n",
       "      <th>6</th>\n",
       "      <td>exposition_year</td>\n",
       "      <td>до 2017 цена падает, после - растет</td>\n",
       "    </tr>\n",
       "  </tbody>\n",
       "</table>\n",
       "</div>"
      ],
      "text/plain": [
       "            parameter                             correlation\n",
       "0          total_area                                    0.78\n",
       "1         living_area                                    0.69\n",
       "2        kitchen_area                                    0.57\n",
       "3          floor_type  первый этаж - дешевле, другой - дороже\n",
       "4  exposition_weekday                             нет влияния\n",
       "5    exposition_month                 практически нет влияния\n",
       "6     exposition_year     до 2017 цена падает, после - растет"
      ]
     },
     "metadata": {},
     "output_type": "display_data"
    }
   ],
   "source": [
    "columns_correlation = pd.DataFrame( columns_correlation.items(), columns=['parameter', 'correlation'])\n",
    "display(columns_correlation)"
   ]
  },
  {
   "cell_type": "markdown",
   "metadata": {
    "tags": []
   },
   "source": [
    "---\n",
    "#### Задание 3: средняя цена квадратного метра в населенных пунктах"
   ]
  },
  {
   "cell_type": "markdown",
   "metadata": {},
   "source": [
    "Посчитайте среднюю цену одного квадратного метра в 10 населённых пунктах с наибольшим числом объявлений. Выделите населённые пункты с самой высокой и низкой стоимостью квадратного метра. Эти данные можно найти по имени в столбце locality_name."
   ]
  },
  {
   "cell_type": "code",
   "execution_count": 269,
   "metadata": {},
   "outputs": [
    {
     "name": "stdout",
     "output_type": "stream",
     "text": [
      "['Санкт-Петербург', 'Мурино', 'Кудрово', 'Шушары', 'Всеволожск', 'Пушкин', 'Колпино', 'Парголово', 'Гатчина', 'Выборг']\n"
     ]
    },
    {
     "data": {
      "text/html": [
       "<div>\n",
       "<style scoped>\n",
       "    .dataframe tbody tr th:only-of-type {\n",
       "        vertical-align: middle;\n",
       "    }\n",
       "\n",
       "    .dataframe tbody tr th {\n",
       "        vertical-align: top;\n",
       "    }\n",
       "\n",
       "    .dataframe thead th {\n",
       "        text-align: right;\n",
       "    }\n",
       "</style>\n",
       "<table border=\"1\" class=\"dataframe\">\n",
       "  <thead>\n",
       "    <tr style=\"text-align: right;\">\n",
       "      <th></th>\n",
       "      <th>median_price_m2</th>\n",
       "    </tr>\n",
       "    <tr>\n",
       "      <th>locality_name_corrected</th>\n",
       "      <th></th>\n",
       "    </tr>\n",
       "  </thead>\n",
       "  <tbody>\n",
       "    <tr>\n",
       "      <th>Выборг</th>\n",
       "      <td>58158.32</td>\n",
       "    </tr>\n",
       "    <tr>\n",
       "      <th>Всеволожск</th>\n",
       "      <td>65789.47</td>\n",
       "    </tr>\n",
       "    <tr>\n",
       "      <th>Гатчина</th>\n",
       "      <td>67860.57</td>\n",
       "    </tr>\n",
       "    <tr>\n",
       "      <th>Колпино</th>\n",
       "      <td>74722.22</td>\n",
       "    </tr>\n",
       "    <tr>\n",
       "      <th>Шушары</th>\n",
       "      <td>76876.17</td>\n",
       "    </tr>\n",
       "    <tr>\n",
       "      <th>Мурино</th>\n",
       "      <td>86119.40</td>\n",
       "    </tr>\n",
       "    <tr>\n",
       "      <th>Парголово</th>\n",
       "      <td>91642.86</td>\n",
       "    </tr>\n",
       "    <tr>\n",
       "      <th>Кудрово</th>\n",
       "      <td>95675.47</td>\n",
       "    </tr>\n",
       "    <tr>\n",
       "      <th>Пушкин</th>\n",
       "      <td>99993.59</td>\n",
       "    </tr>\n",
       "    <tr>\n",
       "      <th>Санкт-Петербург</th>\n",
       "      <td>104411.76</td>\n",
       "    </tr>\n",
       "  </tbody>\n",
       "</table>\n",
       "</div>"
      ],
      "text/plain": [
       "                         median_price_m2\n",
       "locality_name_corrected                 \n",
       "Выборг                          58158.32\n",
       "Всеволожск                      65789.47\n",
       "Гатчина                         67860.57\n",
       "Колпино                         74722.22\n",
       "Шушары                          76876.17\n",
       "Мурино                          86119.40\n",
       "Парголово                       91642.86\n",
       "Кудрово                         95675.47\n",
       "Пушкин                          99993.59\n",
       "Санкт-Петербург                104411.76"
      ]
     },
     "metadata": {},
     "output_type": "display_data"
    }
   ],
   "source": [
    "# найдем Топ-10 населенных пунктов по количеству объявлений\n",
    "# используем поле locality_name_corrected\n",
    "\n",
    "top_ten_locations = list((good_data['locality_name_corrected'].value_counts().head(10).keys()))\n",
    "print(top_ten_locations)\n",
    "\n",
    "# сведем сводную цен по Топ-10 локаций\n",
    "top_ten_locations_pivot = good_data.query('locality_name_corrected in @top_ten_locations').pivot_table(index='locality_name_corrected', values='price_per_m2', aggfunc=['median'])\n",
    "top_ten_locations_pivot.columns = ['median_price_m2']\n",
    "\n",
    "display(top_ten_locations_pivot.sort_values(by='median_price_m2'))\n",
    " "
   ]
  },
  {
   "cell_type": "markdown",
   "metadata": {},
   "source": [
    "---\n",
    "##### Промежуточные выводы"
   ]
  },
  {
   "cell_type": "markdown",
   "metadata": {},
   "source": [
    "Самая низкая цена за квадрат - в **Выборге (58 158 рублей)**, самая высокая - в **Санкт-Петербурге (104 411 рублей)**"
   ]
  },
  {
   "cell_type": "markdown",
   "metadata": {
    "tags": []
   },
   "source": [
    "---\n",
    "#### Задание 4: как стоимость объектов зависит от расстояния до центра города"
   ]
  },
  {
   "cell_type": "markdown",
   "metadata": {},
   "source": [
    "Ранее вы посчитали расстояние до центра в километрах. Теперь выделите квартиры в Санкт-Петербурге с помощью столбца locality_name и вычислите среднюю цену каждого километра. Опишите, как стоимость объектов зависит от расстояния до центра города."
   ]
  },
  {
   "cell_type": "code",
   "execution_count": 270,
   "metadata": {},
   "outputs": [
    {
     "data": {
      "text/plain": [
       "<AxesSubplot:title={'center':'Медианная цена квартир по удаленности от центра'}, xlabel='cityCenters_nearest_km'>"
      ]
     },
     "metadata": {},
     "output_type": "display_data"
    },
    {
     "data": {
      "image/png": "[encoded data removed]",
      "text/plain": [
       "<Figure size 720x288 with 1 Axes>"
      ]
     },
     "metadata": {
      "needs_background": "light"
     },
     "output_type": "display_data"
    }
   ],
   "source": [
    "# cityCenters_nearest_km\n",
    "# locality_name_corrected\n",
    "\n",
    "prices_per_km = good_data.query('locality_name_corrected == \"Санкт-Петербург\"').pivot_table(index='cityCenters_nearest_km', values='last_price', aggfunc='median')\n",
    "display(prices_per_km.plot(kind='bar', figsize= (10,4), title='Медианная цена квартир по удаленности от центра'))\n"
   ]
  },
  {
   "cell_type": "markdown",
   "metadata": {},
   "source": [
    "---\n",
    "##### Промежуточные выводы"
   ]
  },
  {
   "cell_type": "markdown",
   "metadata": {},
   "source": [
    "На графике видно, что расстояние до центра города сильно влияет на стоиомсть квартир, вплоть до расстояния 9 километров. На таком расстоянии от центра цена падает вдвое. С дальнейшим увеличением расстояния такого значительного падения не происходит, цены выравниваются примерно на одном уровне"
   ]
  },
  {
   "cell_type": "markdown",
   "metadata": {
    "tags": []
   },
   "source": [
    "### Общий вывод"
   ]
  },
  {
   "cell_type": "markdown",
   "metadata": {},
   "source": [
    "Проведен анализ рынка недвижимости Ленинградской области на основании предоставленной выгрузки из базы Yandex.Недвижимость\n",
    "\n",
    "---\n",
    "\n",
    "***Качество исходных данных***\n",
    "\n",
    "Датафрейм содержит значительное количество пропусков. Описание полей имеется, так что структура данных ясна.  \n",
    "\n",
    "Все возможные пропуски заполнены. В рамках заполнения пришлось удалить небольшое количество строк из-за присутствующих в них пропусков. Остальные пропуска удалось заменить на подходящие в том или ином случае значения. ***Исключение - столбцы с геоданными***. Очень по многим строкам этой информации нет в принципе, так что пришлось отмаркировать эти строки в столбце is_bad_geoda и оставить в выборке. \n",
    "\n",
    "Удалось сформировать список потенциальных причин пропуска данных:\n",
    "\n",
    "- пользователи могут не указывать всевозможную информацию - этажность дома, количество балконов.\n",
    "- проблемы при сборе геоинформации для определенных городов, например для посёлок `Мурино` или `Всеволожск`. Возможно, для этих городов не может быть определена геолокация пользователя или невозможно выбрать адрес помещения на сайте. Данную проблему необходимо передать разработчикам для дальнейших прояснений.\n",
    "- для полей с расстоянием до ближайшего парка и пруда не фиксируется расстояние, если расстояние до ближайшего более 3200 метров.\n",
    "\n",
    "\n",
    "Явных дубликатов в датасете не обнаружилось, однако было небольшое количество неявных дубликатов в названиях населенных пунктов. В общей сложности было исправлено 59 дубликатов названий и количество уникальных населенных пунктов снизилось с 364 до 305.  \n",
    "\n",
    "В выборке присутствовало определенно количество данных, которые можно признать выбросами. Проверке и корректировке подверглись столбцы `last_price, rooms, ceiling_height, floors_total, total_area, living_area, kitchen_area, airports_nearest`. Из-за выбросов в которых в общей сложности было удалено чуть больше 300 строк.\n",
    "\n",
    "---\n",
    "**Срез по рынку недвижимости**\n",
    "\n",
    "Удалось сформировать срез по рынку недвижимости Ленинградской области. Он выглядит следующим образом:\n",
    "\n",
    "- ***Площадь квартир в основном от 40 до 69 м2***, медианное значение - 52м2.\n",
    "- Площадь жилих зон в основном от 19 до 42 м2, медианное значение - 30м2.\n",
    "- Площадь кухонь в основном от 7 до 11м2, но есть и выдающиеся варианты в 50м2\n",
    "- Цена варьируются от 430т.р. до 40 миллионов, но ***самые продаваемые - в диапазоне от 3,4 до 6,7 миллиона***\n",
    "- На первом месте по количеству - ***однокомнатные квартиры*** (8190 предложений), немного меньше двухкомнатных (7882), далее трехкомнатные (5728). Четырех и более комнатные варианты представлены гораздо меньше\n",
    "- Основная высота потолков - 2.6 - 2.7 метра\n",
    "- В основном продают квартиры на 1-5х этажах, причем ***квартир на первом этаже предлагается значительно больше***, чем на любом другом. Квартиры на этаже выше пятого также продают, но в значительно меньших количествах.\n",
    "- Почти 3/4 всех предложений на промежуточных этажах. Остальные предложения поровну делятся между первыми и последними этажами\n",
    "- Квартиры предлагаются в домах разной этажности, в основном до 25 этажек. При этом явно ***лидируют 5-ти и 9-ти этажные дома***.\n",
    "- Средняя отдаленность от центра на 11-16 километров. Совсем удаленное жилье, на 20 и более километров встречается гораздо реже.\n",
    "- В основном квартиры расположены в 18-37 километрах от аэропорта.\n",
    "- Около 44% квартир имеют как минимум 1 парк в радиусе шаговой доступности. При этом, если парк есть, то он почти всегда будет относительно близко - в радиусе 1000 метров\n",
    "- Самые \"горячие\" месяца по размещению объявлений - февраль и март, затишье - в январе и мае.\n",
    "- ***Обычно продажа занимает 95 дней***, при этом необычайно быстро будет продать быстрее, чем за 17 дней. Самые неудачные варианты могут продаваться более 454 дня\n",
    "- площадь квартиры влияет на стоимость. \n",
    "- Этаж имеет значение - первый подешевле, этаж в середине - подороже. С\n",
    "- День размещения не влияет на стоимость\n",
    "- Объявления в апреле имеют чуть больший шанс быть проданными подороже, обычно немного продаются. \n",
    "- Стоимость сильно зависит от года размещения объявления, т.к. отражает общую ситуацию с рынком недвижимости.\n",
    "- cамая низкая цена за квадрат - в ***Выборге (58 158 рублей)***, самая высокая - в ***Санкт-Петербурге (104 411 рублей)***\n",
    "\n",
    "---"
   ]
  },
  {
   "cell_type": "markdown",
   "metadata": {},
   "source": [
    "**Чек-лист готовности проекта**\n",
    "\n",
    "Поставьте 'x' в выполненных пунктах. Далее нажмите Shift+Enter."
   ]
  },
  {
   "cell_type": "markdown",
   "metadata": {},
   "source": [
    "- [x]  открыт файл\n",
    "- [x]  файлы изучены (выведены первые строки, метод `info()`, гистограммы и т.д.)\n",
    "- [x]  определены пропущенные значения\n",
    "- [x]  заполнены пропущенные значения там, где это возможно\n",
    "- [x]  есть пояснение, какие пропущенные значения обнаружены\n",
    "- [x]  изменены типы данных\n",
    "- [x]  есть пояснение, в каких столбцах изменены типы и почему\n",
    "- [x]  устранены неявные дубликаты в названиях населённых пунктов\n",
    "- [x]  устранены редкие и выбивающиеся значения (аномалии) во всех столбцах\n",
    "- [x]  посчитано и добавлено в таблицу: цена одного квадратного метра\n",
    "- [x]  посчитано и добавлено в таблицу: день публикации объявления (0 - понедельник, 1 - вторник и т.д.)\n",
    "- [x]  посчитано и добавлено в таблицу: месяц публикации объявления\n",
    "- [x]  посчитано и добавлено в таблицу: год публикации объявления\n",
    "- [x]  посчитано и добавлено в таблицу: тип этажа квартиры (значения — «первый», «последний», «другой»)\n",
    "- [x]  посчитано и добавлено в таблицу: расстояние в км до центра города\n",
    "- [x]  изучены и описаны следующие параметры:\n",
    "        - общая площадь;\n",
    "        - жилая площадь;\n",
    "        - площадь кухни;\n",
    "        - цена объекта;\n",
    "        - количество комнат;\n",
    "        - высота потолков;\n",
    "        - этаж квартиры;\n",
    "        - тип этажа квартиры («первый», «последний», «другой»);\n",
    "        - общее количество этажей в доме;\n",
    "        - расстояние до центра города в метрах;\n",
    "        - расстояние до ближайшего аэропорта;\n",
    "        - расстояние до ближайшего парка;\n",
    "        - день и месяц публикации объявления\n",
    "- [x]  построены гистограммы для каждого параметра\n",
    "- [x]  выполнено задание: \"Изучите, как быстро продавались квартиры (столбец days_exposition). Этот параметр показывает, сколько дней «висело» каждое объявление.\n",
    "    - Постройте гистограмму.\n",
    "    - Посчитайте среднее и медиану.\n",
    "    - В ячейке типа markdown опишите, сколько обычно занимает продажа. Какие продажи можно считать быстрыми, а какие — необычно долгими?\"\n",
    "- [x]  выполнено задание: \"Какие факторы больше всего влияют на общую (полную) стоимость объекта? Постройте графики, которые покажут зависимость цены от указанных ниже параметров. Для подготовки данных перед визуализацией вы можете использовать сводные таблицы.\"\n",
    "        - общей площади;\n",
    "        - жилой площади;\n",
    "        - площади кухни;\n",
    "        - количество комнат;\n",
    "        - типа этажа, на котором расположена квартира (первый, последний, другой);\n",
    "        - даты размещения (день недели, месяц, год);\n",
    "- [x]  выполнено задание: \"Посчитайте среднюю цену одного квадратного метра в 10 населённых пунктах с наибольшим числом объявлений. Выделите населённые пункты с самой высокой и низкой стоимостью квадратного метра. Эти данные можно найти по имени в столбце `locality_name`.\"\n",
    "- [x]  выполнено задание: \"Ранее вы посчитали расстояние до центра в километрах. Теперь выделите квартиры в Санкт-Петербурге с помощью столбца `locality_name` и вычислите среднюю цену каждого километра. Опишите, как стоимость объектов зависит от расстояния до центра города.\"\n",
    "- [x]  в каждом этапе есть промежуточные выводы\n",
    "- [x]  есть общий вывод"
   ]
  },
  {
   "cell_type": "code",
   "execution_count": null,
   "metadata": {},
   "outputs": [],
   "source": []
  }
 ],
 "metadata": {
  "ExecuteTimeLog": [
   {
    "duration": 691,
    "start_time": "2022-08-07T08:35:08.904Z"
   },
   {
    "duration": 87,
    "start_time": "2022-08-07T08:35:14.994Z"
   }
  ],
  "kernelspec": {
   "display_name": "Python 3 (ipykernel)",
   "language": "python",
   "name": "python3"
  },
  "language_info": {
   "codemirror_mode": {
    "name": "ipython",
    "version": 3
   },
   "file_extension": ".py",
   "mimetype": "text/x-python",
   "name": "python",
   "nbconvert_exporter": "python",
   "pygments_lexer": "ipython3",
   "version": "3.9.12"
  },
  "toc": {
   "base_numbering": 1,
   "nav_menu": {},
   "number_sections": true,
   "sideBar": true,
   "skip_h1_title": true,
   "title_cell": "Table of Contents",
   "title_sidebar": "Contents",
   "toc_cell": false,
   "toc_position": {},
   "toc_section_display": true,
   "toc_window_display": false
  },
  "toc-autonumbering": false,
  "toc-showmarkdowntxt": false,
  "toc-showtags": true
 },
 "nbformat": 4,
 "nbformat_minor": 4
}
