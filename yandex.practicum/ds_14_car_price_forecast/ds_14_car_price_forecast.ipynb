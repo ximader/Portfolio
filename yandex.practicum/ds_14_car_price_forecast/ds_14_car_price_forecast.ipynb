{
 "cells": [
  {
   "cell_type": "markdown",
   "metadata": {},
   "source": [
    "# Определение стоимости автомобилей"
   ]
  },
  {
   "cell_type": "markdown",
   "metadata": {},
   "source": [
    "## Подготовка данных"
   ]
  },
  {
   "cell_type": "markdown",
   "metadata": {},
   "source": [
    "**Импорт библиотек**"
   ]
  },
  {
   "cell_type": "code",
   "execution_count": 53,
   "metadata": {},
   "outputs": [],
   "source": [
    "#pip install missingno"
   ]
  },
  {
   "cell_type": "code",
   "execution_count": 54,
   "metadata": {},
   "outputs": [],
   "source": [
    "import pandas as pd\n",
    "import numpy as np\n",
    "import seaborn as sns\n",
    "\n",
    "import matplotlib as mpl\n",
    "import matplotlib.pyplot as plt\n",
    "\n",
    "import lightgbm as lgb\n",
    "\n",
    "from sklearn.linear_model import LinearRegression\n",
    "from sklearn.ensemble import RandomForestRegressor\n",
    "from sklearn.preprocessing import StandardScaler \n",
    "from sklearn.preprocessing import OneHotEncoder\n",
    "from sklearn.preprocessing import OrdinalEncoder\n",
    "\n",
    "from sklearn import metrics\n",
    "from sklearn.metrics import mean_squared_error\n",
    "from sklearn.metrics import make_scorer\n",
    "\n",
    "from sklearn.model_selection import train_test_split\n",
    "from sklearn.model_selection import GridSearchCV\n",
    "from sklearn.model_selection import RandomizedSearchCV\n",
    "from sklearn.model_selection import cross_val_score\n",
    "\n",
    "from sklearn.dummy import DummyRegressor\n",
    "\n",
    "import missingno \n",
    "\n",
    "\n",
    "import warnings\n",
    "warnings.filterwarnings('ignore')"
   ]
  },
  {
   "cell_type": "markdown",
   "metadata": {},
   "source": [
    "---\n",
    "**Импорт данных**"
   ]
  },
  {
   "cell_type": "code",
   "execution_count": 55,
   "metadata": {},
   "outputs": [],
   "source": [
    "# импортируем данные\n",
    "try: \n",
    "    data = pd.read_csv('/datasets/autos.csv') # путь в сетевой версии\n",
    "except:\n",
    "    data = pd.read_csv('autos.csv') # путь в локальной версии"
   ]
  },
  {
   "cell_type": "code",
   "execution_count": 56,
   "metadata": {},
   "outputs": [
    {
     "data": {
      "text/html": [
       "<div>\n",
       "<style scoped>\n",
       "    .dataframe tbody tr th:only-of-type {\n",
       "        vertical-align: middle;\n",
       "    }\n",
       "\n",
       "    .dataframe tbody tr th {\n",
       "        vertical-align: top;\n",
       "    }\n",
       "\n",
       "    .dataframe thead th {\n",
       "        text-align: right;\n",
       "    }\n",
       "</style>\n",
       "<table border=\"1\" class=\"dataframe\">\n",
       "  <thead>\n",
       "    <tr style=\"text-align: right;\">\n",
       "      <th></th>\n",
       "      <th>DateCrawled</th>\n",
       "      <th>Price</th>\n",
       "      <th>VehicleType</th>\n",
       "      <th>RegistrationYear</th>\n",
       "      <th>Gearbox</th>\n",
       "      <th>Power</th>\n",
       "      <th>Model</th>\n",
       "      <th>Kilometer</th>\n",
       "      <th>RegistrationMonth</th>\n",
       "      <th>FuelType</th>\n",
       "      <th>Brand</th>\n",
       "      <th>Repaired</th>\n",
       "      <th>DateCreated</th>\n",
       "      <th>NumberOfPictures</th>\n",
       "      <th>PostalCode</th>\n",
       "      <th>LastSeen</th>\n",
       "    </tr>\n",
       "  </thead>\n",
       "  <tbody>\n",
       "    <tr>\n",
       "      <th>0</th>\n",
       "      <td>2016-03-24 11:52:17</td>\n",
       "      <td>480</td>\n",
       "      <td>NaN</td>\n",
       "      <td>1993</td>\n",
       "      <td>manual</td>\n",
       "      <td>0</td>\n",
       "      <td>golf</td>\n",
       "      <td>150000</td>\n",
       "      <td>0</td>\n",
       "      <td>petrol</td>\n",
       "      <td>volkswagen</td>\n",
       "      <td>NaN</td>\n",
       "      <td>2016-03-24 00:00:00</td>\n",
       "      <td>0</td>\n",
       "      <td>70435</td>\n",
       "      <td>2016-04-07 03:16:57</td>\n",
       "    </tr>\n",
       "    <tr>\n",
       "      <th>1</th>\n",
       "      <td>2016-03-24 10:58:45</td>\n",
       "      <td>18300</td>\n",
       "      <td>coupe</td>\n",
       "      <td>2011</td>\n",
       "      <td>manual</td>\n",
       "      <td>190</td>\n",
       "      <td>NaN</td>\n",
       "      <td>125000</td>\n",
       "      <td>5</td>\n",
       "      <td>gasoline</td>\n",
       "      <td>audi</td>\n",
       "      <td>yes</td>\n",
       "      <td>2016-03-24 00:00:00</td>\n",
       "      <td>0</td>\n",
       "      <td>66954</td>\n",
       "      <td>2016-04-07 01:46:50</td>\n",
       "    </tr>\n",
       "    <tr>\n",
       "      <th>2</th>\n",
       "      <td>2016-03-14 12:52:21</td>\n",
       "      <td>9800</td>\n",
       "      <td>suv</td>\n",
       "      <td>2004</td>\n",
       "      <td>auto</td>\n",
       "      <td>163</td>\n",
       "      <td>grand</td>\n",
       "      <td>125000</td>\n",
       "      <td>8</td>\n",
       "      <td>gasoline</td>\n",
       "      <td>jeep</td>\n",
       "      <td>NaN</td>\n",
       "      <td>2016-03-14 00:00:00</td>\n",
       "      <td>0</td>\n",
       "      <td>90480</td>\n",
       "      <td>2016-04-05 12:47:46</td>\n",
       "    </tr>\n",
       "    <tr>\n",
       "      <th>3</th>\n",
       "      <td>2016-03-17 16:54:04</td>\n",
       "      <td>1500</td>\n",
       "      <td>small</td>\n",
       "      <td>2001</td>\n",
       "      <td>manual</td>\n",
       "      <td>75</td>\n",
       "      <td>golf</td>\n",
       "      <td>150000</td>\n",
       "      <td>6</td>\n",
       "      <td>petrol</td>\n",
       "      <td>volkswagen</td>\n",
       "      <td>no</td>\n",
       "      <td>2016-03-17 00:00:00</td>\n",
       "      <td>0</td>\n",
       "      <td>91074</td>\n",
       "      <td>2016-03-17 17:40:17</td>\n",
       "    </tr>\n",
       "    <tr>\n",
       "      <th>4</th>\n",
       "      <td>2016-03-31 17:25:20</td>\n",
       "      <td>3600</td>\n",
       "      <td>small</td>\n",
       "      <td>2008</td>\n",
       "      <td>manual</td>\n",
       "      <td>69</td>\n",
       "      <td>fabia</td>\n",
       "      <td>90000</td>\n",
       "      <td>7</td>\n",
       "      <td>gasoline</td>\n",
       "      <td>skoda</td>\n",
       "      <td>no</td>\n",
       "      <td>2016-03-31 00:00:00</td>\n",
       "      <td>0</td>\n",
       "      <td>60437</td>\n",
       "      <td>2016-04-06 10:17:21</td>\n",
       "    </tr>\n",
       "  </tbody>\n",
       "</table>\n",
       "</div>"
      ],
      "text/plain": [
       "           DateCrawled  Price VehicleType  RegistrationYear Gearbox  Power  \\\n",
       "0  2016-03-24 11:52:17    480         NaN              1993  manual      0   \n",
       "1  2016-03-24 10:58:45  18300       coupe              2011  manual    190   \n",
       "2  2016-03-14 12:52:21   9800         suv              2004    auto    163   \n",
       "3  2016-03-17 16:54:04   1500       small              2001  manual     75   \n",
       "4  2016-03-31 17:25:20   3600       small              2008  manual     69   \n",
       "\n",
       "   Model  Kilometer  RegistrationMonth  FuelType       Brand Repaired  \\\n",
       "0   golf     150000                  0    petrol  volkswagen      NaN   \n",
       "1    NaN     125000                  5  gasoline        audi      yes   \n",
       "2  grand     125000                  8  gasoline        jeep      NaN   \n",
       "3   golf     150000                  6    petrol  volkswagen       no   \n",
       "4  fabia      90000                  7  gasoline       skoda       no   \n",
       "\n",
       "           DateCreated  NumberOfPictures  PostalCode             LastSeen  \n",
       "0  2016-03-24 00:00:00                 0       70435  2016-04-07 03:16:57  \n",
       "1  2016-03-24 00:00:00                 0       66954  2016-04-07 01:46:50  \n",
       "2  2016-03-14 00:00:00                 0       90480  2016-04-05 12:47:46  \n",
       "3  2016-03-17 00:00:00                 0       91074  2016-03-17 17:40:17  \n",
       "4  2016-03-31 00:00:00                 0       60437  2016-04-06 10:17:21  "
      ]
     },
     "execution_count": 56,
     "metadata": {},
     "output_type": "execute_result"
    }
   ],
   "source": [
    "data_raw_shape = data.shape\n",
    "data.head()"
   ]
  },
  {
   "cell_type": "code",
   "execution_count": 57,
   "metadata": {},
   "outputs": [
    {
     "name": "stdout",
     "output_type": "stream",
     "text": [
      "<class 'pandas.core.frame.DataFrame'>\n",
      "RangeIndex: 354369 entries, 0 to 354368\n",
      "Data columns (total 16 columns):\n",
      " #   Column             Non-Null Count   Dtype \n",
      "---  ------             --------------   ----- \n",
      " 0   DateCrawled        354369 non-null  object\n",
      " 1   Price              354369 non-null  int64 \n",
      " 2   VehicleType        316879 non-null  object\n",
      " 3   RegistrationYear   354369 non-null  int64 \n",
      " 4   Gearbox            334536 non-null  object\n",
      " 5   Power              354369 non-null  int64 \n",
      " 6   Model              334664 non-null  object\n",
      " 7   Kilometer          354369 non-null  int64 \n",
      " 8   RegistrationMonth  354369 non-null  int64 \n",
      " 9   FuelType           321474 non-null  object\n",
      " 10  Brand              354369 non-null  object\n",
      " 11  Repaired           283215 non-null  object\n",
      " 12  DateCreated        354369 non-null  object\n",
      " 13  NumberOfPictures   354369 non-null  int64 \n",
      " 14  PostalCode         354369 non-null  int64 \n",
      " 15  LastSeen           354369 non-null  object\n",
      "dtypes: int64(7), object(9)\n",
      "memory usage: 43.3+ MB\n"
     ]
    }
   ],
   "source": [
    "data.info()"
   ]
  },
  {
   "cell_type": "markdown",
   "metadata": {},
   "source": [
    "---\n",
    "**Удаление пропусков**"
   ]
  },
  {
   "cell_type": "code",
   "execution_count": 58,
   "metadata": {},
   "outputs": [
    {
     "data": {
      "image/png": "[encoded data removed]",
      "text/plain": [
       "<Figure size 720x360 with 2 Axes>"
      ]
     },
     "metadata": {
      "needs_background": "light"
     },
     "output_type": "display_data"
    }
   ],
   "source": [
    "missingno.matrix(data,figsize=(10,5), fontsize=12, label_rotation=90);"
   ]
  },
  {
   "cell_type": "markdown",
   "metadata": {},
   "source": [
    "Пропуска распределены хаотично, будем проверять каждую колонку отдельно"
   ]
  },
  {
   "cell_type": "code",
   "execution_count": 59,
   "metadata": {},
   "outputs": [
    {
     "data": {
      "text/plain": [
       "VehicleType    37490\n",
       "Gearbox        19833\n",
       "Model          19705\n",
       "FuelType       32895\n",
       "Repaired       71154\n",
       "dtype: int64"
      ]
     },
     "execution_count": 59,
     "metadata": {},
     "output_type": "execute_result"
    }
   ],
   "source": [
    "data.isna().sum().loc[lambda x : x != 0] # отобразим только колонки с пропусками"
   ]
  },
  {
   "cell_type": "code",
   "execution_count": 60,
   "metadata": {},
   "outputs": [
    {
     "name": "stdout",
     "output_type": "stream",
     "text": [
      "             count  median_price\n",
      "VehicleType                     \n",
      "bus          28775          4200\n",
      "convertible  20203          5500\n",
      "coupe        16163          3950\n",
      "other         3288          2200\n",
      "sedan        91457          2999\n",
      "small        79831          1500\n",
      "suv          11996          8500\n",
      "wagon        65166          3200\n",
      "NaN          37490          1199\n"
     ]
    }
   ],
   "source": [
    "# VehicleType\n",
    "print(\n",
    "    data.groupby(by='VehicleType', dropna=False)\n",
    "    .agg( count=('Price', 'count'), median_price=('Price', 'median'))\n",
    ")\n",
    "# добавим отдельную категорию unknown, т.к. \n",
    "# медиана цены на авто без указания типа кузова сильно ниже остальных\n",
    "data['VehicleType'].fillna('unknown', inplace=True)"
   ]
  },
  {
   "cell_type": "code",
   "execution_count": 61,
   "metadata": {},
   "outputs": [
    {
     "name": "stdout",
     "output_type": "stream",
     "text": [
      "          count  median_price\n",
      "Gearbox                      \n",
      "auto      66285          5500\n",
      "manual   268251          2490\n",
      "NaN       19833          1000\n"
     ]
    }
   ],
   "source": [
    "# Gearbox\n",
    "print(\n",
    "    data.groupby(by='Gearbox', dropna=False)\n",
    "    .agg( count=('Price', 'count'), median_price=('Price', 'median'))\n",
    ")\n",
    "\n",
    "# тип коробки - важный параметр, значительно влияющий на стоимость. \n",
    "# стоимость без указания типа коробки значительно ниже более дешевой ручной коробки\n",
    "# что не соответствет логике\n",
    "# Удалим пропуски.\n",
    "data.dropna(subset=['Gearbox'], inplace=True)"
   ]
  },
  {
   "cell_type": "code",
   "execution_count": 62,
   "metadata": {},
   "outputs": [
    {
     "name": "stdout",
     "output_type": "stream",
     "text": [
      "           count  median_price\n",
      "FuelType                      \n",
      "cng          551        3799.0\n",
      "electric      78        5869.5\n",
      "gasoline   95126        5450.0\n",
      "hybrid       227       10500.0\n",
      "lpg         5174        2990.0\n",
      "other        150        1025.0\n",
      "petrol    209255        2140.0\n",
      "NaN        23975        1300.0\n"
     ]
    }
   ],
   "source": [
    "# FuelType\n",
    "print(\n",
    "    data.groupby(by='FuelType', dropna=False)\n",
    "    .agg( count=('Price', 'count'), median_price=('Price', 'median'))\n",
    ")\n",
    "# присвоим пропускам значение близкой по цене и немногочисленной категории other\n",
    "data['FuelType'].fillna('other', inplace=True)"
   ]
  },
  {
   "cell_type": "code",
   "execution_count": 63,
   "metadata": {},
   "outputs": [
    {
     "name": "stdout",
     "output_type": "stream",
     "text": [
      "           count  median_price\n",
      "Repaired                      \n",
      "no        241629          3700\n",
      "yes        34541           950\n",
      "NaN        58366          1500\n"
     ]
    }
   ],
   "source": [
    "# Repaired\n",
    "print(\n",
    "    data.groupby(by='Repaired', dropna=False)\n",
    "    .agg( count=('Price', 'count'), median_price=('Price', 'median'))\n",
    ")\n",
    "# Объявления без указания ремонта находятся где-то посередине по стоимости\n",
    "# количество таких объявлений высоко, \n",
    "#при этом невозможно однозначно понять, был или не был ремонт  \n",
    "# Создадим отдельную категорию unknown для отсутствующих данных по ремонту\n",
    "data['Repaired'].fillna('unknown', inplace=True)\n"
   ]
  },
  {
   "cell_type": "code",
   "execution_count": 64,
   "metadata": {
    "scrolled": true,
    "tags": []
   },
   "outputs": [
    {
     "name": "stdout",
     "output_type": "stream",
     "text": [
      "volkswagen ------------------------------\n"
     ]
    },
    {
     "data": {
      "text/html": [
       "<div>\n",
       "<style scoped>\n",
       "    .dataframe tbody tr th:only-of-type {\n",
       "        vertical-align: middle;\n",
       "    }\n",
       "\n",
       "    .dataframe tbody tr th {\n",
       "        vertical-align: top;\n",
       "    }\n",
       "\n",
       "    .dataframe thead th {\n",
       "        text-align: right;\n",
       "    }\n",
       "</style>\n",
       "<table border=\"1\" class=\"dataframe\">\n",
       "  <thead>\n",
       "    <tr style=\"text-align: right;\">\n",
       "      <th></th>\n",
       "      <th>count</th>\n",
       "      <th>median_price</th>\n",
       "    </tr>\n",
       "    <tr>\n",
       "      <th>Model</th>\n",
       "      <th></th>\n",
       "      <th></th>\n",
       "    </tr>\n",
       "  </thead>\n",
       "  <tbody>\n",
       "    <tr>\n",
       "      <th>amarok</th>\n",
       "      <td>15</td>\n",
       "      <td>15120.0</td>\n",
       "    </tr>\n",
       "    <tr>\n",
       "      <th>beetle</th>\n",
       "      <td>790</td>\n",
       "      <td>4999.5</td>\n",
       "    </tr>\n",
       "    <tr>\n",
       "      <th>bora</th>\n",
       "      <td>845</td>\n",
       "      <td>2350.0</td>\n",
       "    </tr>\n",
       "    <tr>\n",
       "      <th>caddy</th>\n",
       "      <td>1506</td>\n",
       "      <td>5300.0</td>\n",
       "    </tr>\n",
       "    <tr>\n",
       "      <th>cc</th>\n",
       "      <td>133</td>\n",
       "      <td>14500.0</td>\n",
       "    </tr>\n",
       "    <tr>\n",
       "      <th>eos</th>\n",
       "      <td>504</td>\n",
       "      <td>10500.0</td>\n",
       "    </tr>\n",
       "    <tr>\n",
       "      <th>fox</th>\n",
       "      <td>707</td>\n",
       "      <td>2800.0</td>\n",
       "    </tr>\n",
       "    <tr>\n",
       "      <th>golf</th>\n",
       "      <td>27757</td>\n",
       "      <td>2500.0</td>\n",
       "    </tr>\n",
       "    <tr>\n",
       "      <th>jetta</th>\n",
       "      <td>348</td>\n",
       "      <td>3997.0</td>\n",
       "    </tr>\n",
       "    <tr>\n",
       "      <th>kaefer</th>\n",
       "      <td>334</td>\n",
       "      <td>5627.5</td>\n",
       "    </tr>\n",
       "    <tr>\n",
       "      <th>lupo</th>\n",
       "      <td>2447</td>\n",
       "      <td>1300.0</td>\n",
       "    </tr>\n",
       "    <tr>\n",
       "      <th>other</th>\n",
       "      <td>680</td>\n",
       "      <td>3300.0</td>\n",
       "    </tr>\n",
       "    <tr>\n",
       "      <th>passat</th>\n",
       "      <td>9701</td>\n",
       "      <td>3200.0</td>\n",
       "    </tr>\n",
       "    <tr>\n",
       "      <th>phaeton</th>\n",
       "      <td>210</td>\n",
       "      <td>9449.5</td>\n",
       "    </tr>\n",
       "    <tr>\n",
       "      <th>polo</th>\n",
       "      <td>12334</td>\n",
       "      <td>1434.5</td>\n",
       "    </tr>\n",
       "    <tr>\n",
       "      <th>scirocco</th>\n",
       "      <td>585</td>\n",
       "      <td>10999.0</td>\n",
       "    </tr>\n",
       "    <tr>\n",
       "      <th>sharan</th>\n",
       "      <td>1335</td>\n",
       "      <td>3790.0</td>\n",
       "    </tr>\n",
       "    <tr>\n",
       "      <th>tiguan</th>\n",
       "      <td>646</td>\n",
       "      <td>14695.0</td>\n",
       "    </tr>\n",
       "    <tr>\n",
       "      <th>touareg</th>\n",
       "      <td>559</td>\n",
       "      <td>10100.0</td>\n",
       "    </tr>\n",
       "    <tr>\n",
       "      <th>touran</th>\n",
       "      <td>3261</td>\n",
       "      <td>5999.0</td>\n",
       "    </tr>\n",
       "    <tr>\n",
       "      <th>transporter</th>\n",
       "      <td>4525</td>\n",
       "      <td>5500.0</td>\n",
       "    </tr>\n",
       "    <tr>\n",
       "      <th>up</th>\n",
       "      <td>345</td>\n",
       "      <td>7980.0</td>\n",
       "    </tr>\n",
       "    <tr>\n",
       "      <th>NaN</th>\n",
       "      <td>2787</td>\n",
       "      <td>1300.0</td>\n",
       "    </tr>\n",
       "  </tbody>\n",
       "</table>\n",
       "</div>"
      ],
      "text/plain": [
       "             count  median_price\n",
       "Model                           \n",
       "amarok          15       15120.0\n",
       "beetle         790        4999.5\n",
       "bora           845        2350.0\n",
       "caddy         1506        5300.0\n",
       "cc             133       14500.0\n",
       "eos            504       10500.0\n",
       "fox            707        2800.0\n",
       "golf         27757        2500.0\n",
       "jetta          348        3997.0\n",
       "kaefer         334        5627.5\n",
       "lupo          2447        1300.0\n",
       "other          680        3300.0\n",
       "passat        9701        3200.0\n",
       "phaeton        210        9449.5\n",
       "polo         12334        1434.5\n",
       "scirocco       585       10999.0\n",
       "sharan        1335        3790.0\n",
       "tiguan         646       14695.0\n",
       "touareg        559       10100.0\n",
       "touran        3261        5999.0\n",
       "transporter   4525        5500.0\n",
       "up             345        7980.0\n",
       "NaN           2787        1300.0"
      ]
     },
     "metadata": {},
     "output_type": "display_data"
    },
    {
     "name": "stdout",
     "output_type": "stream",
     "text": [
      "audi ------------------------------\n"
     ]
    },
    {
     "data": {
      "text/html": [
       "<div>\n",
       "<style scoped>\n",
       "    .dataframe tbody tr th:only-of-type {\n",
       "        vertical-align: middle;\n",
       "    }\n",
       "\n",
       "    .dataframe tbody tr th {\n",
       "        vertical-align: top;\n",
       "    }\n",
       "\n",
       "    .dataframe thead th {\n",
       "        text-align: right;\n",
       "    }\n",
       "</style>\n",
       "<table border=\"1\" class=\"dataframe\">\n",
       "  <thead>\n",
       "    <tr style=\"text-align: right;\">\n",
       "      <th></th>\n",
       "      <th>count</th>\n",
       "      <th>median_price</th>\n",
       "    </tr>\n",
       "    <tr>\n",
       "      <th>Model</th>\n",
       "      <th></th>\n",
       "      <th></th>\n",
       "    </tr>\n",
       "  </thead>\n",
       "  <tbody>\n",
       "    <tr>\n",
       "      <th>100</th>\n",
       "      <td>399</td>\n",
       "      <td>1199.0</td>\n",
       "    </tr>\n",
       "    <tr>\n",
       "      <th>200</th>\n",
       "      <td>16</td>\n",
       "      <td>3250.0</td>\n",
       "    </tr>\n",
       "    <tr>\n",
       "      <th>80</th>\n",
       "      <td>1512</td>\n",
       "      <td>950.0</td>\n",
       "    </tr>\n",
       "    <tr>\n",
       "      <th>90</th>\n",
       "      <td>92</td>\n",
       "      <td>1449.5</td>\n",
       "    </tr>\n",
       "    <tr>\n",
       "      <th>a1</th>\n",
       "      <td>588</td>\n",
       "      <td>13990.0</td>\n",
       "    </tr>\n",
       "    <tr>\n",
       "      <th>a2</th>\n",
       "      <td>354</td>\n",
       "      <td>3850.0</td>\n",
       "    </tr>\n",
       "    <tr>\n",
       "      <th>a3</th>\n",
       "      <td>5806</td>\n",
       "      <td>5100.0</td>\n",
       "    </tr>\n",
       "    <tr>\n",
       "      <th>a4</th>\n",
       "      <td>9514</td>\n",
       "      <td>4500.0</td>\n",
       "    </tr>\n",
       "    <tr>\n",
       "      <th>a5</th>\n",
       "      <td>539</td>\n",
       "      <td>16500.0</td>\n",
       "    </tr>\n",
       "    <tr>\n",
       "      <th>a6</th>\n",
       "      <td>5387</td>\n",
       "      <td>5350.0</td>\n",
       "    </tr>\n",
       "    <tr>\n",
       "      <th>a8</th>\n",
       "      <td>509</td>\n",
       "      <td>7900.0</td>\n",
       "    </tr>\n",
       "    <tr>\n",
       "      <th>other</th>\n",
       "      <td>1005</td>\n",
       "      <td>7499.0</td>\n",
       "    </tr>\n",
       "    <tr>\n",
       "      <th>q3</th>\n",
       "      <td>15</td>\n",
       "      <td>18150.0</td>\n",
       "    </tr>\n",
       "    <tr>\n",
       "      <th>q5</th>\n",
       "      <td>97</td>\n",
       "      <td>16499.0</td>\n",
       "    </tr>\n",
       "    <tr>\n",
       "      <th>q7</th>\n",
       "      <td>199</td>\n",
       "      <td>15500.0</td>\n",
       "    </tr>\n",
       "    <tr>\n",
       "      <th>tt</th>\n",
       "      <td>1049</td>\n",
       "      <td>8490.0</td>\n",
       "    </tr>\n",
       "    <tr>\n",
       "      <th>NaN</th>\n",
       "      <td>1066</td>\n",
       "      <td>2000.0</td>\n",
       "    </tr>\n",
       "  </tbody>\n",
       "</table>\n",
       "</div>"
      ],
      "text/plain": [
       "       count  median_price\n",
       "Model                     \n",
       "100      399        1199.0\n",
       "200       16        3250.0\n",
       "80      1512         950.0\n",
       "90        92        1449.5\n",
       "a1       588       13990.0\n",
       "a2       354        3850.0\n",
       "a3      5806        5100.0\n",
       "a4      9514        4500.0\n",
       "a5       539       16500.0\n",
       "a6      5387        5350.0\n",
       "a8       509        7900.0\n",
       "other   1005        7499.0\n",
       "q3        15       18150.0\n",
       "q5        97       16499.0\n",
       "q7       199       15500.0\n",
       "tt      1049        8490.0\n",
       "NaN     1066        2000.0"
      ]
     },
     "metadata": {},
     "output_type": "display_data"
    },
    {
     "name": "stdout",
     "output_type": "stream",
     "text": [
      "jeep ------------------------------\n"
     ]
    },
    {
     "data": {
      "text/html": [
       "<div>\n",
       "<style scoped>\n",
       "    .dataframe tbody tr th:only-of-type {\n",
       "        vertical-align: middle;\n",
       "    }\n",
       "\n",
       "    .dataframe tbody tr th {\n",
       "        vertical-align: top;\n",
       "    }\n",
       "\n",
       "    .dataframe thead th {\n",
       "        text-align: right;\n",
       "    }\n",
       "</style>\n",
       "<table border=\"1\" class=\"dataframe\">\n",
       "  <thead>\n",
       "    <tr style=\"text-align: right;\">\n",
       "      <th></th>\n",
       "      <th>count</th>\n",
       "      <th>median_price</th>\n",
       "    </tr>\n",
       "    <tr>\n",
       "      <th>Model</th>\n",
       "      <th></th>\n",
       "      <th></th>\n",
       "    </tr>\n",
       "  </thead>\n",
       "  <tbody>\n",
       "    <tr>\n",
       "      <th>cherokee</th>\n",
       "      <td>163</td>\n",
       "      <td>4250.0</td>\n",
       "    </tr>\n",
       "    <tr>\n",
       "      <th>grand</th>\n",
       "      <td>235</td>\n",
       "      <td>5100.0</td>\n",
       "    </tr>\n",
       "    <tr>\n",
       "      <th>other</th>\n",
       "      <td>134</td>\n",
       "      <td>9900.0</td>\n",
       "    </tr>\n",
       "    <tr>\n",
       "      <th>wrangler</th>\n",
       "      <td>92</td>\n",
       "      <td>8450.0</td>\n",
       "    </tr>\n",
       "    <tr>\n",
       "      <th>NaN</th>\n",
       "      <td>20</td>\n",
       "      <td>4874.5</td>\n",
       "    </tr>\n",
       "  </tbody>\n",
       "</table>\n",
       "</div>"
      ],
      "text/plain": [
       "          count  median_price\n",
       "Model                        \n",
       "cherokee    163        4250.0\n",
       "grand       235        5100.0\n",
       "other       134        9900.0\n",
       "wrangler     92        8450.0\n",
       "NaN          20        4874.5"
      ]
     },
     "metadata": {},
     "output_type": "display_data"
    },
    {
     "name": "stdout",
     "output_type": "stream",
     "text": [
      "skoda ------------------------------\n"
     ]
    },
    {
     "data": {
      "text/html": [
       "<div>\n",
       "<style scoped>\n",
       "    .dataframe tbody tr th:only-of-type {\n",
       "        vertical-align: middle;\n",
       "    }\n",
       "\n",
       "    .dataframe tbody tr th {\n",
       "        vertical-align: top;\n",
       "    }\n",
       "\n",
       "    .dataframe thead th {\n",
       "        text-align: right;\n",
       "    }\n",
       "</style>\n",
       "<table border=\"1\" class=\"dataframe\">\n",
       "  <thead>\n",
       "    <tr style=\"text-align: right;\">\n",
       "      <th></th>\n",
       "      <th>count</th>\n",
       "      <th>median_price</th>\n",
       "    </tr>\n",
       "    <tr>\n",
       "      <th>Model</th>\n",
       "      <th></th>\n",
       "      <th></th>\n",
       "    </tr>\n",
       "  </thead>\n",
       "  <tbody>\n",
       "    <tr>\n",
       "      <th>citigo</th>\n",
       "      <td>91</td>\n",
       "      <td>7299</td>\n",
       "    </tr>\n",
       "    <tr>\n",
       "      <th>fabia</th>\n",
       "      <td>2039</td>\n",
       "      <td>3500</td>\n",
       "    </tr>\n",
       "    <tr>\n",
       "      <th>octavia</th>\n",
       "      <td>2052</td>\n",
       "      <td>5850</td>\n",
       "    </tr>\n",
       "    <tr>\n",
       "      <th>other</th>\n",
       "      <td>246</td>\n",
       "      <td>800</td>\n",
       "    </tr>\n",
       "    <tr>\n",
       "      <th>roomster</th>\n",
       "      <td>272</td>\n",
       "      <td>6000</td>\n",
       "    </tr>\n",
       "    <tr>\n",
       "      <th>superb</th>\n",
       "      <td>362</td>\n",
       "      <td>10500</td>\n",
       "    </tr>\n",
       "    <tr>\n",
       "      <th>yeti</th>\n",
       "      <td>173</td>\n",
       "      <td>12990</td>\n",
       "    </tr>\n",
       "    <tr>\n",
       "      <th>NaN</th>\n",
       "      <td>127</td>\n",
       "      <td>2200</td>\n",
       "    </tr>\n",
       "  </tbody>\n",
       "</table>\n",
       "</div>"
      ],
      "text/plain": [
       "          count  median_price\n",
       "Model                        \n",
       "citigo       91          7299\n",
       "fabia      2039          3500\n",
       "octavia    2052          5850\n",
       "other       246           800\n",
       "roomster    272          6000\n",
       "superb      362         10500\n",
       "yeti        173         12990\n",
       "NaN         127          2200"
      ]
     },
     "metadata": {},
     "output_type": "display_data"
    },
    {
     "name": "stdout",
     "output_type": "stream",
     "text": [
      "bmw ------------------------------\n"
     ]
    },
    {
     "data": {
      "text/html": [
       "<div>\n",
       "<style scoped>\n",
       "    .dataframe tbody tr th:only-of-type {\n",
       "        vertical-align: middle;\n",
       "    }\n",
       "\n",
       "    .dataframe tbody tr th {\n",
       "        vertical-align: top;\n",
       "    }\n",
       "\n",
       "    .dataframe thead th {\n",
       "        text-align: right;\n",
       "    }\n",
       "</style>\n",
       "<table border=\"1\" class=\"dataframe\">\n",
       "  <thead>\n",
       "    <tr style=\"text-align: right;\">\n",
       "      <th></th>\n",
       "      <th>count</th>\n",
       "      <th>median_price</th>\n",
       "    </tr>\n",
       "    <tr>\n",
       "      <th>Model</th>\n",
       "      <th></th>\n",
       "      <th></th>\n",
       "    </tr>\n",
       "  </thead>\n",
       "  <tbody>\n",
       "    <tr>\n",
       "      <th>1er</th>\n",
       "      <td>3444</td>\n",
       "      <td>9140.0</td>\n",
       "    </tr>\n",
       "    <tr>\n",
       "      <th>3er</th>\n",
       "      <td>19086</td>\n",
       "      <td>3500.0</td>\n",
       "    </tr>\n",
       "    <tr>\n",
       "      <th>5er</th>\n",
       "      <td>7678</td>\n",
       "      <td>5200.0</td>\n",
       "    </tr>\n",
       "    <tr>\n",
       "      <th>6er</th>\n",
       "      <td>146</td>\n",
       "      <td>14200.0</td>\n",
       "    </tr>\n",
       "    <tr>\n",
       "      <th>7er</th>\n",
       "      <td>988</td>\n",
       "      <td>5500.0</td>\n",
       "    </tr>\n",
       "    <tr>\n",
       "      <th>i3</th>\n",
       "      <td>7</td>\n",
       "      <td>2600.0</td>\n",
       "    </tr>\n",
       "    <tr>\n",
       "      <th>m_reihe</th>\n",
       "      <td>118</td>\n",
       "      <td>13649.5</td>\n",
       "    </tr>\n",
       "    <tr>\n",
       "      <th>other</th>\n",
       "      <td>166</td>\n",
       "      <td>4800.0</td>\n",
       "    </tr>\n",
       "    <tr>\n",
       "      <th>x_reihe</th>\n",
       "      <td>1534</td>\n",
       "      <td>11900.0</td>\n",
       "    </tr>\n",
       "    <tr>\n",
       "      <th>z_reihe</th>\n",
       "      <td>701</td>\n",
       "      <td>9800.0</td>\n",
       "    </tr>\n",
       "    <tr>\n",
       "      <th>NaN</th>\n",
       "      <td>1583</td>\n",
       "      <td>2300.0</td>\n",
       "    </tr>\n",
       "  </tbody>\n",
       "</table>\n",
       "</div>"
      ],
      "text/plain": [
       "         count  median_price\n",
       "Model                       \n",
       "1er       3444        9140.0\n",
       "3er      19086        3500.0\n",
       "5er       7678        5200.0\n",
       "6er        146       14200.0\n",
       "7er        988        5500.0\n",
       "i3           7        2600.0\n",
       "m_reihe    118       13649.5\n",
       "other      166        4800.0\n",
       "x_reihe   1534       11900.0\n",
       "z_reihe    701        9800.0\n",
       "NaN       1583        2300.0"
      ]
     },
     "metadata": {},
     "output_type": "display_data"
    },
    {
     "name": "stdout",
     "output_type": "stream",
     "text": [
      "peugeot ------------------------------\n"
     ]
    },
    {
     "data": {
      "text/html": [
       "<div>\n",
       "<style scoped>\n",
       "    .dataframe tbody tr th:only-of-type {\n",
       "        vertical-align: middle;\n",
       "    }\n",
       "\n",
       "    .dataframe tbody tr th {\n",
       "        vertical-align: top;\n",
       "    }\n",
       "\n",
       "    .dataframe thead th {\n",
       "        text-align: right;\n",
       "    }\n",
       "</style>\n",
       "<table border=\"1\" class=\"dataframe\">\n",
       "  <thead>\n",
       "    <tr style=\"text-align: right;\">\n",
       "      <th></th>\n",
       "      <th>count</th>\n",
       "      <th>median_price</th>\n",
       "    </tr>\n",
       "    <tr>\n",
       "      <th>Model</th>\n",
       "      <th></th>\n",
       "      <th></th>\n",
       "    </tr>\n",
       "  </thead>\n",
       "  <tbody>\n",
       "    <tr>\n",
       "      <th>1_reihe</th>\n",
       "      <td>1149</td>\n",
       "      <td>950</td>\n",
       "    </tr>\n",
       "    <tr>\n",
       "      <th>2_reihe</th>\n",
       "      <td>4672</td>\n",
       "      <td>2500</td>\n",
       "    </tr>\n",
       "    <tr>\n",
       "      <th>3_reihe</th>\n",
       "      <td>2107</td>\n",
       "      <td>2350</td>\n",
       "    </tr>\n",
       "    <tr>\n",
       "      <th>4_reihe</th>\n",
       "      <td>613</td>\n",
       "      <td>2700</td>\n",
       "    </tr>\n",
       "    <tr>\n",
       "      <th>5_reihe</th>\n",
       "      <td>109</td>\n",
       "      <td>12999</td>\n",
       "    </tr>\n",
       "    <tr>\n",
       "      <th>other</th>\n",
       "      <td>1101</td>\n",
       "      <td>2700</td>\n",
       "    </tr>\n",
       "    <tr>\n",
       "      <th>NaN</th>\n",
       "      <td>753</td>\n",
       "      <td>1399</td>\n",
       "    </tr>\n",
       "  </tbody>\n",
       "</table>\n",
       "</div>"
      ],
      "text/plain": [
       "         count  median_price\n",
       "Model                       \n",
       "1_reihe   1149           950\n",
       "2_reihe   4672          2500\n",
       "3_reihe   2107          2350\n",
       "4_reihe    613          2700\n",
       "5_reihe    109         12999\n",
       "other     1101          2700\n",
       "NaN        753          1399"
      ]
     },
     "metadata": {},
     "output_type": "display_data"
    },
    {
     "name": "stdout",
     "output_type": "stream",
     "text": [
      "ford ------------------------------\n"
     ]
    },
    {
     "data": {
      "text/html": [
       "<div>\n",
       "<style scoped>\n",
       "    .dataframe tbody tr th:only-of-type {\n",
       "        vertical-align: middle;\n",
       "    }\n",
       "\n",
       "    .dataframe tbody tr th {\n",
       "        vertical-align: top;\n",
       "    }\n",
       "\n",
       "    .dataframe thead th {\n",
       "        text-align: right;\n",
       "    }\n",
       "</style>\n",
       "<table border=\"1\" class=\"dataframe\">\n",
       "  <thead>\n",
       "    <tr style=\"text-align: right;\">\n",
       "      <th></th>\n",
       "      <th>count</th>\n",
       "      <th>median_price</th>\n",
       "    </tr>\n",
       "    <tr>\n",
       "      <th>Model</th>\n",
       "      <th></th>\n",
       "      <th></th>\n",
       "    </tr>\n",
       "  </thead>\n",
       "  <tbody>\n",
       "    <tr>\n",
       "      <th>b_max</th>\n",
       "      <td>25</td>\n",
       "      <td>12500</td>\n",
       "    </tr>\n",
       "    <tr>\n",
       "      <th>c_max</th>\n",
       "      <td>668</td>\n",
       "      <td>4800</td>\n",
       "    </tr>\n",
       "    <tr>\n",
       "      <th>escort</th>\n",
       "      <td>832</td>\n",
       "      <td>550</td>\n",
       "    </tr>\n",
       "    <tr>\n",
       "      <th>fiesta</th>\n",
       "      <td>5468</td>\n",
       "      <td>1500</td>\n",
       "    </tr>\n",
       "    <tr>\n",
       "      <th>focus</th>\n",
       "      <td>5658</td>\n",
       "      <td>1999</td>\n",
       "    </tr>\n",
       "    <tr>\n",
       "      <th>fusion</th>\n",
       "      <td>287</td>\n",
       "      <td>2800</td>\n",
       "    </tr>\n",
       "    <tr>\n",
       "      <th>galaxy</th>\n",
       "      <td>1085</td>\n",
       "      <td>2500</td>\n",
       "    </tr>\n",
       "    <tr>\n",
       "      <th>ka</th>\n",
       "      <td>2495</td>\n",
       "      <td>950</td>\n",
       "    </tr>\n",
       "    <tr>\n",
       "      <th>kuga</th>\n",
       "      <td>315</td>\n",
       "      <td>14900</td>\n",
       "    </tr>\n",
       "    <tr>\n",
       "      <th>mondeo</th>\n",
       "      <td>3452</td>\n",
       "      <td>1460</td>\n",
       "    </tr>\n",
       "    <tr>\n",
       "      <th>mustang</th>\n",
       "      <td>159</td>\n",
       "      <td>14800</td>\n",
       "    </tr>\n",
       "    <tr>\n",
       "      <th>other</th>\n",
       "      <td>1360</td>\n",
       "      <td>1900</td>\n",
       "    </tr>\n",
       "    <tr>\n",
       "      <th>s_max</th>\n",
       "      <td>427</td>\n",
       "      <td>9000</td>\n",
       "    </tr>\n",
       "    <tr>\n",
       "      <th>transit</th>\n",
       "      <td>714</td>\n",
       "      <td>3200</td>\n",
       "    </tr>\n",
       "    <tr>\n",
       "      <th>NaN</th>\n",
       "      <td>825</td>\n",
       "      <td>899</td>\n",
       "    </tr>\n",
       "  </tbody>\n",
       "</table>\n",
       "</div>"
      ],
      "text/plain": [
       "         count  median_price\n",
       "Model                       \n",
       "b_max       25         12500\n",
       "c_max      668          4800\n",
       "escort     832           550\n",
       "fiesta    5468          1500\n",
       "focus     5658          1999\n",
       "fusion     287          2800\n",
       "galaxy    1085          2500\n",
       "ka        2495           950\n",
       "kuga       315         14900\n",
       "mondeo    3452          1460\n",
       "mustang    159         14800\n",
       "other     1360          1900\n",
       "s_max      427          9000\n",
       "transit    714          3200\n",
       "NaN        825           899"
      ]
     },
     "metadata": {},
     "output_type": "display_data"
    },
    {
     "name": "stdout",
     "output_type": "stream",
     "text": [
      "mazda ------------------------------\n"
     ]
    },
    {
     "data": {
      "text/html": [
       "<div>\n",
       "<style scoped>\n",
       "    .dataframe tbody tr th:only-of-type {\n",
       "        vertical-align: middle;\n",
       "    }\n",
       "\n",
       "    .dataframe tbody tr th {\n",
       "        vertical-align: top;\n",
       "    }\n",
       "\n",
       "    .dataframe thead th {\n",
       "        text-align: right;\n",
       "    }\n",
       "</style>\n",
       "<table border=\"1\" class=\"dataframe\">\n",
       "  <thead>\n",
       "    <tr style=\"text-align: right;\">\n",
       "      <th></th>\n",
       "      <th>count</th>\n",
       "      <th>median_price</th>\n",
       "    </tr>\n",
       "    <tr>\n",
       "      <th>Model</th>\n",
       "      <th></th>\n",
       "      <th></th>\n",
       "    </tr>\n",
       "  </thead>\n",
       "  <tbody>\n",
       "    <tr>\n",
       "      <th>1_reihe</th>\n",
       "      <td>94</td>\n",
       "      <td>600.0</td>\n",
       "    </tr>\n",
       "    <tr>\n",
       "      <th>3_reihe</th>\n",
       "      <td>1284</td>\n",
       "      <td>1350.0</td>\n",
       "    </tr>\n",
       "    <tr>\n",
       "      <th>5_reihe</th>\n",
       "      <td>319</td>\n",
       "      <td>5500.0</td>\n",
       "    </tr>\n",
       "    <tr>\n",
       "      <th>6_reihe</th>\n",
       "      <td>1243</td>\n",
       "      <td>2250.0</td>\n",
       "    </tr>\n",
       "    <tr>\n",
       "      <th>cx_reihe</th>\n",
       "      <td>62</td>\n",
       "      <td>13220.0</td>\n",
       "    </tr>\n",
       "    <tr>\n",
       "      <th>mx_reihe</th>\n",
       "      <td>972</td>\n",
       "      <td>3990.0</td>\n",
       "    </tr>\n",
       "    <tr>\n",
       "      <th>other</th>\n",
       "      <td>958</td>\n",
       "      <td>1700.0</td>\n",
       "    </tr>\n",
       "    <tr>\n",
       "      <th>rx_reihe</th>\n",
       "      <td>134</td>\n",
       "      <td>4899.5</td>\n",
       "    </tr>\n",
       "    <tr>\n",
       "      <th>NaN</th>\n",
       "      <td>276</td>\n",
       "      <td>994.5</td>\n",
       "    </tr>\n",
       "  </tbody>\n",
       "</table>\n",
       "</div>"
      ],
      "text/plain": [
       "          count  median_price\n",
       "Model                        \n",
       "1_reihe      94         600.0\n",
       "3_reihe    1284        1350.0\n",
       "5_reihe     319        5500.0\n",
       "6_reihe    1243        2250.0\n",
       "cx_reihe     62       13220.0\n",
       "mx_reihe    972        3990.0\n",
       "other       958        1700.0\n",
       "rx_reihe    134        4899.5\n",
       "NaN         276         994.5"
      ]
     },
     "metadata": {},
     "output_type": "display_data"
    },
    {
     "name": "stdout",
     "output_type": "stream",
     "text": [
      "nissan ------------------------------\n"
     ]
    },
    {
     "data": {
      "text/html": [
       "<div>\n",
       "<style scoped>\n",
       "    .dataframe tbody tr th:only-of-type {\n",
       "        vertical-align: middle;\n",
       "    }\n",
       "\n",
       "    .dataframe tbody tr th {\n",
       "        vertical-align: top;\n",
       "    }\n",
       "\n",
       "    .dataframe thead th {\n",
       "        text-align: right;\n",
       "    }\n",
       "</style>\n",
       "<table border=\"1\" class=\"dataframe\">\n",
       "  <thead>\n",
       "    <tr style=\"text-align: right;\">\n",
       "      <th></th>\n",
       "      <th>count</th>\n",
       "      <th>median_price</th>\n",
       "    </tr>\n",
       "    <tr>\n",
       "      <th>Model</th>\n",
       "      <th></th>\n",
       "      <th></th>\n",
       "    </tr>\n",
       "  </thead>\n",
       "  <tbody>\n",
       "    <tr>\n",
       "      <th>almera</th>\n",
       "      <td>558</td>\n",
       "      <td>1350.0</td>\n",
       "    </tr>\n",
       "    <tr>\n",
       "      <th>juke</th>\n",
       "      <td>98</td>\n",
       "      <td>11495.0</td>\n",
       "    </tr>\n",
       "    <tr>\n",
       "      <th>micra</th>\n",
       "      <td>1670</td>\n",
       "      <td>1100.0</td>\n",
       "    </tr>\n",
       "    <tr>\n",
       "      <th>navara</th>\n",
       "      <td>94</td>\n",
       "      <td>9500.0</td>\n",
       "    </tr>\n",
       "    <tr>\n",
       "      <th>note</th>\n",
       "      <td>128</td>\n",
       "      <td>4500.0</td>\n",
       "    </tr>\n",
       "    <tr>\n",
       "      <th>other</th>\n",
       "      <td>681</td>\n",
       "      <td>4150.0</td>\n",
       "    </tr>\n",
       "    <tr>\n",
       "      <th>primera</th>\n",
       "      <td>595</td>\n",
       "      <td>1250.0</td>\n",
       "    </tr>\n",
       "    <tr>\n",
       "      <th>qashqai</th>\n",
       "      <td>516</td>\n",
       "      <td>12500.0</td>\n",
       "    </tr>\n",
       "    <tr>\n",
       "      <th>x_trail</th>\n",
       "      <td>203</td>\n",
       "      <td>5300.0</td>\n",
       "    </tr>\n",
       "    <tr>\n",
       "      <th>NaN</th>\n",
       "      <td>166</td>\n",
       "      <td>1099.5</td>\n",
       "    </tr>\n",
       "  </tbody>\n",
       "</table>\n",
       "</div>"
      ],
      "text/plain": [
       "         count  median_price\n",
       "Model                       \n",
       "almera     558        1350.0\n",
       "juke        98       11495.0\n",
       "micra     1670        1100.0\n",
       "navara      94        9500.0\n",
       "note       128        4500.0\n",
       "other      681        4150.0\n",
       "primera    595        1250.0\n",
       "qashqai    516       12500.0\n",
       "x_trail    203        5300.0\n",
       "NaN        166        1099.5"
      ]
     },
     "metadata": {},
     "output_type": "display_data"
    },
    {
     "name": "stdout",
     "output_type": "stream",
     "text": [
      "renault ------------------------------\n"
     ]
    },
    {
     "data": {
      "text/html": [
       "<div>\n",
       "<style scoped>\n",
       "    .dataframe tbody tr th:only-of-type {\n",
       "        vertical-align: middle;\n",
       "    }\n",
       "\n",
       "    .dataframe tbody tr th {\n",
       "        vertical-align: top;\n",
       "    }\n",
       "\n",
       "    .dataframe thead th {\n",
       "        text-align: right;\n",
       "    }\n",
       "</style>\n",
       "<table border=\"1\" class=\"dataframe\">\n",
       "  <thead>\n",
       "    <tr style=\"text-align: right;\">\n",
       "      <th></th>\n",
       "      <th>count</th>\n",
       "      <th>median_price</th>\n",
       "    </tr>\n",
       "    <tr>\n",
       "      <th>Model</th>\n",
       "      <th></th>\n",
       "      <th></th>\n",
       "    </tr>\n",
       "  </thead>\n",
       "  <tbody>\n",
       "    <tr>\n",
       "      <th>clio</th>\n",
       "      <td>3379</td>\n",
       "      <td>1400</td>\n",
       "    </tr>\n",
       "    <tr>\n",
       "      <th>espace</th>\n",
       "      <td>575</td>\n",
       "      <td>1499</td>\n",
       "    </tr>\n",
       "    <tr>\n",
       "      <th>kangoo</th>\n",
       "      <td>896</td>\n",
       "      <td>1750</td>\n",
       "    </tr>\n",
       "    <tr>\n",
       "      <th>laguna</th>\n",
       "      <td>1309</td>\n",
       "      <td>1300</td>\n",
       "    </tr>\n",
       "    <tr>\n",
       "      <th>megane</th>\n",
       "      <td>2805</td>\n",
       "      <td>1750</td>\n",
       "    </tr>\n",
       "    <tr>\n",
       "      <th>modus</th>\n",
       "      <td>308</td>\n",
       "      <td>2900</td>\n",
       "    </tr>\n",
       "    <tr>\n",
       "      <th>other</th>\n",
       "      <td>902</td>\n",
       "      <td>4175</td>\n",
       "    </tr>\n",
       "    <tr>\n",
       "      <th>r19</th>\n",
       "      <td>113</td>\n",
       "      <td>600</td>\n",
       "    </tr>\n",
       "    <tr>\n",
       "      <th>scenic</th>\n",
       "      <td>1391</td>\n",
       "      <td>1699</td>\n",
       "    </tr>\n",
       "    <tr>\n",
       "      <th>twingo</th>\n",
       "      <td>4529</td>\n",
       "      <td>980</td>\n",
       "    </tr>\n",
       "    <tr>\n",
       "      <th>NaN</th>\n",
       "      <td>609</td>\n",
       "      <td>900</td>\n",
       "    </tr>\n",
       "  </tbody>\n",
       "</table>\n",
       "</div>"
      ],
      "text/plain": [
       "        count  median_price\n",
       "Model                      \n",
       "clio     3379          1400\n",
       "espace    575          1499\n",
       "kangoo    896          1750\n",
       "laguna   1309          1300\n",
       "megane   2805          1750\n",
       "modus     308          2900\n",
       "other     902          4175\n",
       "r19       113           600\n",
       "scenic   1391          1699\n",
       "twingo   4529           980\n",
       "NaN       609           900"
      ]
     },
     "metadata": {},
     "output_type": "display_data"
    },
    {
     "name": "stdout",
     "output_type": "stream",
     "text": [
      "mercedes_benz ------------------------------\n"
     ]
    },
    {
     "data": {
      "text/html": [
       "<div>\n",
       "<style scoped>\n",
       "    .dataframe tbody tr th:only-of-type {\n",
       "        vertical-align: middle;\n",
       "    }\n",
       "\n",
       "    .dataframe tbody tr th {\n",
       "        vertical-align: top;\n",
       "    }\n",
       "\n",
       "    .dataframe thead th {\n",
       "        text-align: right;\n",
       "    }\n",
       "</style>\n",
       "<table border=\"1\" class=\"dataframe\">\n",
       "  <thead>\n",
       "    <tr style=\"text-align: right;\">\n",
       "      <th></th>\n",
       "      <th>count</th>\n",
       "      <th>median_price</th>\n",
       "    </tr>\n",
       "    <tr>\n",
       "      <th>Model</th>\n",
       "      <th></th>\n",
       "      <th></th>\n",
       "    </tr>\n",
       "  </thead>\n",
       "  <tbody>\n",
       "    <tr>\n",
       "      <th>a_klasse</th>\n",
       "      <td>3933</td>\n",
       "      <td>2200.0</td>\n",
       "    </tr>\n",
       "    <tr>\n",
       "      <th>b_klasse</th>\n",
       "      <td>847</td>\n",
       "      <td>8500.0</td>\n",
       "    </tr>\n",
       "    <tr>\n",
       "      <th>c_klasse</th>\n",
       "      <td>8073</td>\n",
       "      <td>3600.0</td>\n",
       "    </tr>\n",
       "    <tr>\n",
       "      <th>cl</th>\n",
       "      <td>219</td>\n",
       "      <td>7500.0</td>\n",
       "    </tr>\n",
       "    <tr>\n",
       "      <th>clk</th>\n",
       "      <td>1776</td>\n",
       "      <td>5400.0</td>\n",
       "    </tr>\n",
       "    <tr>\n",
       "      <th>e_klasse</th>\n",
       "      <td>6638</td>\n",
       "      <td>4499.5</td>\n",
       "    </tr>\n",
       "    <tr>\n",
       "      <th>g_klasse</th>\n",
       "      <td>92</td>\n",
       "      <td>11000.0</td>\n",
       "    </tr>\n",
       "    <tr>\n",
       "      <th>gl</th>\n",
       "      <td>13</td>\n",
       "      <td>18999.0</td>\n",
       "    </tr>\n",
       "    <tr>\n",
       "      <th>glk</th>\n",
       "      <td>63</td>\n",
       "      <td>17900.0</td>\n",
       "    </tr>\n",
       "    <tr>\n",
       "      <th>m_klasse</th>\n",
       "      <td>931</td>\n",
       "      <td>7997.0</td>\n",
       "    </tr>\n",
       "    <tr>\n",
       "      <th>other</th>\n",
       "      <td>2755</td>\n",
       "      <td>4100.0</td>\n",
       "    </tr>\n",
       "    <tr>\n",
       "      <th>s_klasse</th>\n",
       "      <td>852</td>\n",
       "      <td>5925.0</td>\n",
       "    </tr>\n",
       "    <tr>\n",
       "      <th>sl</th>\n",
       "      <td>381</td>\n",
       "      <td>14000.0</td>\n",
       "    </tr>\n",
       "    <tr>\n",
       "      <th>slk</th>\n",
       "      <td>1197</td>\n",
       "      <td>7490.0</td>\n",
       "    </tr>\n",
       "    <tr>\n",
       "      <th>sprinter</th>\n",
       "      <td>727</td>\n",
       "      <td>4850.0</td>\n",
       "    </tr>\n",
       "    <tr>\n",
       "      <th>v_klasse</th>\n",
       "      <td>145</td>\n",
       "      <td>2999.0</td>\n",
       "    </tr>\n",
       "    <tr>\n",
       "      <th>viano</th>\n",
       "      <td>251</td>\n",
       "      <td>11500.0</td>\n",
       "    </tr>\n",
       "    <tr>\n",
       "      <th>vito</th>\n",
       "      <td>848</td>\n",
       "      <td>4999.0</td>\n",
       "    </tr>\n",
       "    <tr>\n",
       "      <th>NaN</th>\n",
       "      <td>981</td>\n",
       "      <td>2700.0</td>\n",
       "    </tr>\n",
       "  </tbody>\n",
       "</table>\n",
       "</div>"
      ],
      "text/plain": [
       "          count  median_price\n",
       "Model                        \n",
       "a_klasse   3933        2200.0\n",
       "b_klasse    847        8500.0\n",
       "c_klasse   8073        3600.0\n",
       "cl          219        7500.0\n",
       "clk        1776        5400.0\n",
       "e_klasse   6638        4499.5\n",
       "g_klasse     92       11000.0\n",
       "gl           13       18999.0\n",
       "glk          63       17900.0\n",
       "m_klasse    931        7997.0\n",
       "other      2755        4100.0\n",
       "s_klasse    852        5925.0\n",
       "sl          381       14000.0\n",
       "slk        1197        7490.0\n",
       "sprinter    727        4850.0\n",
       "v_klasse    145        2999.0\n",
       "viano       251       11500.0\n",
       "vito        848        4999.0\n",
       "NaN         981        2700.0"
      ]
     },
     "metadata": {},
     "output_type": "display_data"
    },
    {
     "name": "stdout",
     "output_type": "stream",
     "text": [
      "opel ------------------------------\n"
     ]
    },
    {
     "data": {
      "text/html": [
       "<div>\n",
       "<style scoped>\n",
       "    .dataframe tbody tr th:only-of-type {\n",
       "        vertical-align: middle;\n",
       "    }\n",
       "\n",
       "    .dataframe tbody tr th {\n",
       "        vertical-align: top;\n",
       "    }\n",
       "\n",
       "    .dataframe thead th {\n",
       "        text-align: right;\n",
       "    }\n",
       "</style>\n",
       "<table border=\"1\" class=\"dataframe\">\n",
       "  <thead>\n",
       "    <tr style=\"text-align: right;\">\n",
       "      <th></th>\n",
       "      <th>count</th>\n",
       "      <th>median_price</th>\n",
       "    </tr>\n",
       "    <tr>\n",
       "      <th>Model</th>\n",
       "      <th></th>\n",
       "      <th></th>\n",
       "    </tr>\n",
       "  </thead>\n",
       "  <tbody>\n",
       "    <tr>\n",
       "      <th>agila</th>\n",
       "      <td>403</td>\n",
       "      <td>1499.0</td>\n",
       "    </tr>\n",
       "    <tr>\n",
       "      <th>antara</th>\n",
       "      <td>104</td>\n",
       "      <td>8999.5</td>\n",
       "    </tr>\n",
       "    <tr>\n",
       "      <th>astra</th>\n",
       "      <td>10357</td>\n",
       "      <td>1799.0</td>\n",
       "    </tr>\n",
       "    <tr>\n",
       "      <th>calibra</th>\n",
       "      <td>197</td>\n",
       "      <td>1300.0</td>\n",
       "    </tr>\n",
       "    <tr>\n",
       "      <th>combo</th>\n",
       "      <td>385</td>\n",
       "      <td>2450.0</td>\n",
       "    </tr>\n",
       "    <tr>\n",
       "      <th>corsa</th>\n",
       "      <td>11791</td>\n",
       "      <td>1099.0</td>\n",
       "    </tr>\n",
       "    <tr>\n",
       "      <th>insignia</th>\n",
       "      <td>624</td>\n",
       "      <td>11422.0</td>\n",
       "    </tr>\n",
       "    <tr>\n",
       "      <th>kadett</th>\n",
       "      <td>310</td>\n",
       "      <td>1374.0</td>\n",
       "    </tr>\n",
       "    <tr>\n",
       "      <th>meriva</th>\n",
       "      <td>1012</td>\n",
       "      <td>3699.5</td>\n",
       "    </tr>\n",
       "    <tr>\n",
       "      <th>omega</th>\n",
       "      <td>1348</td>\n",
       "      <td>900.0</td>\n",
       "    </tr>\n",
       "    <tr>\n",
       "      <th>other</th>\n",
       "      <td>1061</td>\n",
       "      <td>3800.0</td>\n",
       "    </tr>\n",
       "    <tr>\n",
       "      <th>signum</th>\n",
       "      <td>488</td>\n",
       "      <td>3490.0</td>\n",
       "    </tr>\n",
       "    <tr>\n",
       "      <th>tigra</th>\n",
       "      <td>749</td>\n",
       "      <td>2650.0</td>\n",
       "    </tr>\n",
       "    <tr>\n",
       "      <th>vectra</th>\n",
       "      <td>4075</td>\n",
       "      <td>1150.0</td>\n",
       "    </tr>\n",
       "    <tr>\n",
       "      <th>vivaro</th>\n",
       "      <td>313</td>\n",
       "      <td>5700.0</td>\n",
       "    </tr>\n",
       "    <tr>\n",
       "      <th>zafira</th>\n",
       "      <td>2881</td>\n",
       "      <td>2990.0</td>\n",
       "    </tr>\n",
       "    <tr>\n",
       "      <th>NaN</th>\n",
       "      <td>1550</td>\n",
       "      <td>1000.0</td>\n",
       "    </tr>\n",
       "  </tbody>\n",
       "</table>\n",
       "</div>"
      ],
      "text/plain": [
       "          count  median_price\n",
       "Model                        \n",
       "agila       403        1499.0\n",
       "antara      104        8999.5\n",
       "astra     10357        1799.0\n",
       "calibra     197        1300.0\n",
       "combo       385        2450.0\n",
       "corsa     11791        1099.0\n",
       "insignia    624       11422.0\n",
       "kadett      310        1374.0\n",
       "meriva     1012        3699.5\n",
       "omega      1348         900.0\n",
       "other      1061        3800.0\n",
       "signum      488        3490.0\n",
       "tigra       749        2650.0\n",
       "vectra     4075        1150.0\n",
       "vivaro      313        5700.0\n",
       "zafira     2881        2990.0\n",
       "NaN        1550        1000.0"
      ]
     },
     "metadata": {},
     "output_type": "display_data"
    },
    {
     "name": "stdout",
     "output_type": "stream",
     "text": [
      "seat ------------------------------\n"
     ]
    },
    {
     "data": {
      "text/html": [
       "<div>\n",
       "<style scoped>\n",
       "    .dataframe tbody tr th:only-of-type {\n",
       "        vertical-align: middle;\n",
       "    }\n",
       "\n",
       "    .dataframe tbody tr th {\n",
       "        vertical-align: top;\n",
       "    }\n",
       "\n",
       "    .dataframe thead th {\n",
       "        text-align: right;\n",
       "    }\n",
       "</style>\n",
       "<table border=\"1\" class=\"dataframe\">\n",
       "  <thead>\n",
       "    <tr style=\"text-align: right;\">\n",
       "      <th></th>\n",
       "      <th>count</th>\n",
       "      <th>median_price</th>\n",
       "    </tr>\n",
       "    <tr>\n",
       "      <th>Model</th>\n",
       "      <th></th>\n",
       "      <th></th>\n",
       "    </tr>\n",
       "  </thead>\n",
       "  <tbody>\n",
       "    <tr>\n",
       "      <th>alhambra</th>\n",
       "      <td>344</td>\n",
       "      <td>3650</td>\n",
       "    </tr>\n",
       "    <tr>\n",
       "      <th>altea</th>\n",
       "      <td>358</td>\n",
       "      <td>5499</td>\n",
       "    </tr>\n",
       "    <tr>\n",
       "      <th>arosa</th>\n",
       "      <td>845</td>\n",
       "      <td>999</td>\n",
       "    </tr>\n",
       "    <tr>\n",
       "      <th>cordoba</th>\n",
       "      <td>373</td>\n",
       "      <td>800</td>\n",
       "    </tr>\n",
       "    <tr>\n",
       "      <th>exeo</th>\n",
       "      <td>100</td>\n",
       "      <td>11000</td>\n",
       "    </tr>\n",
       "    <tr>\n",
       "      <th>ibiza</th>\n",
       "      <td>2616</td>\n",
       "      <td>2625</td>\n",
       "    </tr>\n",
       "    <tr>\n",
       "      <th>leon</th>\n",
       "      <td>1277</td>\n",
       "      <td>5950</td>\n",
       "    </tr>\n",
       "    <tr>\n",
       "      <th>mii</th>\n",
       "      <td>80</td>\n",
       "      <td>7550</td>\n",
       "    </tr>\n",
       "    <tr>\n",
       "      <th>other</th>\n",
       "      <td>101</td>\n",
       "      <td>800</td>\n",
       "    </tr>\n",
       "    <tr>\n",
       "      <th>toledo</th>\n",
       "      <td>327</td>\n",
       "      <td>1500</td>\n",
       "    </tr>\n",
       "    <tr>\n",
       "      <th>NaN</th>\n",
       "      <td>180</td>\n",
       "      <td>999</td>\n",
       "    </tr>\n",
       "  </tbody>\n",
       "</table>\n",
       "</div>"
      ],
      "text/plain": [
       "          count  median_price\n",
       "Model                        \n",
       "alhambra    344          3650\n",
       "altea       358          5499\n",
       "arosa       845           999\n",
       "cordoba     373           800\n",
       "exeo        100         11000\n",
       "ibiza      2616          2625\n",
       "leon       1277          5950\n",
       "mii          80          7550\n",
       "other       101           800\n",
       "toledo      327          1500\n",
       "NaN         180           999"
      ]
     },
     "metadata": {},
     "output_type": "display_data"
    },
    {
     "name": "stdout",
     "output_type": "stream",
     "text": [
      "citroen ------------------------------\n"
     ]
    },
    {
     "data": {
      "text/html": [
       "<div>\n",
       "<style scoped>\n",
       "    .dataframe tbody tr th:only-of-type {\n",
       "        vertical-align: middle;\n",
       "    }\n",
       "\n",
       "    .dataframe tbody tr th {\n",
       "        vertical-align: top;\n",
       "    }\n",
       "\n",
       "    .dataframe thead th {\n",
       "        text-align: right;\n",
       "    }\n",
       "</style>\n",
       "<table border=\"1\" class=\"dataframe\">\n",
       "  <thead>\n",
       "    <tr style=\"text-align: right;\">\n",
       "      <th></th>\n",
       "      <th>count</th>\n",
       "      <th>median_price</th>\n",
       "    </tr>\n",
       "    <tr>\n",
       "      <th>Model</th>\n",
       "      <th></th>\n",
       "      <th></th>\n",
       "    </tr>\n",
       "  </thead>\n",
       "  <tbody>\n",
       "    <tr>\n",
       "      <th>berlingo</th>\n",
       "      <td>794</td>\n",
       "      <td>2150.0</td>\n",
       "    </tr>\n",
       "    <tr>\n",
       "      <th>c1</th>\n",
       "      <td>376</td>\n",
       "      <td>3574.5</td>\n",
       "    </tr>\n",
       "    <tr>\n",
       "      <th>c2</th>\n",
       "      <td>375</td>\n",
       "      <td>2500.0</td>\n",
       "    </tr>\n",
       "    <tr>\n",
       "      <th>c3</th>\n",
       "      <td>487</td>\n",
       "      <td>3250.0</td>\n",
       "    </tr>\n",
       "    <tr>\n",
       "      <th>c4</th>\n",
       "      <td>429</td>\n",
       "      <td>5300.0</td>\n",
       "    </tr>\n",
       "    <tr>\n",
       "      <th>c5</th>\n",
       "      <td>476</td>\n",
       "      <td>2794.5</td>\n",
       "    </tr>\n",
       "    <tr>\n",
       "      <th>other</th>\n",
       "      <td>1729</td>\n",
       "      <td>1300.0</td>\n",
       "    </tr>\n",
       "    <tr>\n",
       "      <th>NaN</th>\n",
       "      <td>212</td>\n",
       "      <td>960.0</td>\n",
       "    </tr>\n",
       "  </tbody>\n",
       "</table>\n",
       "</div>"
      ],
      "text/plain": [
       "          count  median_price\n",
       "Model                        \n",
       "berlingo    794        2150.0\n",
       "c1          376        3574.5\n",
       "c2          375        2500.0\n",
       "c3          487        3250.0\n",
       "c4          429        5300.0\n",
       "c5          476        2794.5\n",
       "other      1729        1300.0\n",
       "NaN         212         960.0"
      ]
     },
     "metadata": {},
     "output_type": "display_data"
    },
    {
     "name": "stdout",
     "output_type": "stream",
     "text": [
      "honda ------------------------------\n"
     ]
    },
    {
     "data": {
      "text/html": [
       "<div>\n",
       "<style scoped>\n",
       "    .dataframe tbody tr th:only-of-type {\n",
       "        vertical-align: middle;\n",
       "    }\n",
       "\n",
       "    .dataframe tbody tr th {\n",
       "        vertical-align: top;\n",
       "    }\n",
       "\n",
       "    .dataframe thead th {\n",
       "        text-align: right;\n",
       "    }\n",
       "</style>\n",
       "<table border=\"1\" class=\"dataframe\">\n",
       "  <thead>\n",
       "    <tr style=\"text-align: right;\">\n",
       "      <th></th>\n",
       "      <th>count</th>\n",
       "      <th>median_price</th>\n",
       "    </tr>\n",
       "    <tr>\n",
       "      <th>Model</th>\n",
       "      <th></th>\n",
       "      <th></th>\n",
       "    </tr>\n",
       "  </thead>\n",
       "  <tbody>\n",
       "    <tr>\n",
       "      <th>accord</th>\n",
       "      <td>340</td>\n",
       "      <td>3350</td>\n",
       "    </tr>\n",
       "    <tr>\n",
       "      <th>civic</th>\n",
       "      <td>1289</td>\n",
       "      <td>1450</td>\n",
       "    </tr>\n",
       "    <tr>\n",
       "      <th>cr_reihe</th>\n",
       "      <td>335</td>\n",
       "      <td>4750</td>\n",
       "    </tr>\n",
       "    <tr>\n",
       "      <th>jazz</th>\n",
       "      <td>293</td>\n",
       "      <td>3800</td>\n",
       "    </tr>\n",
       "    <tr>\n",
       "      <th>other</th>\n",
       "      <td>308</td>\n",
       "      <td>2200</td>\n",
       "    </tr>\n",
       "    <tr>\n",
       "      <th>NaN</th>\n",
       "      <td>128</td>\n",
       "      <td>1325</td>\n",
       "    </tr>\n",
       "  </tbody>\n",
       "</table>\n",
       "</div>"
      ],
      "text/plain": [
       "          count  median_price\n",
       "Model                        \n",
       "accord      340          3350\n",
       "civic      1289          1450\n",
       "cr_reihe    335          4750\n",
       "jazz        293          3800\n",
       "other       308          2200\n",
       "NaN         128          1325"
      ]
     },
     "metadata": {},
     "output_type": "display_data"
    },
    {
     "name": "stdout",
     "output_type": "stream",
     "text": [
      "fiat ------------------------------\n"
     ]
    },
    {
     "data": {
      "text/html": [
       "<div>\n",
       "<style scoped>\n",
       "    .dataframe tbody tr th:only-of-type {\n",
       "        vertical-align: middle;\n",
       "    }\n",
       "\n",
       "    .dataframe tbody tr th {\n",
       "        vertical-align: top;\n",
       "    }\n",
       "\n",
       "    .dataframe thead th {\n",
       "        text-align: right;\n",
       "    }\n",
       "</style>\n",
       "<table border=\"1\" class=\"dataframe\">\n",
       "  <thead>\n",
       "    <tr style=\"text-align: right;\">\n",
       "      <th></th>\n",
       "      <th>count</th>\n",
       "      <th>median_price</th>\n",
       "    </tr>\n",
       "    <tr>\n",
       "      <th>Model</th>\n",
       "      <th></th>\n",
       "      <th></th>\n",
       "    </tr>\n",
       "  </thead>\n",
       "  <tbody>\n",
       "    <tr>\n",
       "      <th>500</th>\n",
       "      <td>878</td>\n",
       "      <td>7625.0</td>\n",
       "    </tr>\n",
       "    <tr>\n",
       "      <th>bravo</th>\n",
       "      <td>307</td>\n",
       "      <td>2600.0</td>\n",
       "    </tr>\n",
       "    <tr>\n",
       "      <th>croma</th>\n",
       "      <td>43</td>\n",
       "      <td>3500.0</td>\n",
       "    </tr>\n",
       "    <tr>\n",
       "      <th>doblo</th>\n",
       "      <td>313</td>\n",
       "      <td>2900.0</td>\n",
       "    </tr>\n",
       "    <tr>\n",
       "      <th>ducato</th>\n",
       "      <td>406</td>\n",
       "      <td>3000.0</td>\n",
       "    </tr>\n",
       "    <tr>\n",
       "      <th>other</th>\n",
       "      <td>1684</td>\n",
       "      <td>1990.0</td>\n",
       "    </tr>\n",
       "    <tr>\n",
       "      <th>panda</th>\n",
       "      <td>647</td>\n",
       "      <td>2950.0</td>\n",
       "    </tr>\n",
       "    <tr>\n",
       "      <th>punto</th>\n",
       "      <td>3114</td>\n",
       "      <td>1099.0</td>\n",
       "    </tr>\n",
       "    <tr>\n",
       "      <th>seicento</th>\n",
       "      <td>608</td>\n",
       "      <td>777.0</td>\n",
       "    </tr>\n",
       "    <tr>\n",
       "      <th>stilo</th>\n",
       "      <td>583</td>\n",
       "      <td>1500.0</td>\n",
       "    </tr>\n",
       "    <tr>\n",
       "      <th>NaN</th>\n",
       "      <td>404</td>\n",
       "      <td>998.5</td>\n",
       "    </tr>\n",
       "  </tbody>\n",
       "</table>\n",
       "</div>"
      ],
      "text/plain": [
       "          count  median_price\n",
       "Model                        \n",
       "500         878        7625.0\n",
       "bravo       307        2600.0\n",
       "croma        43        3500.0\n",
       "doblo       313        2900.0\n",
       "ducato      406        3000.0\n",
       "other      1684        1990.0\n",
       "panda       647        2950.0\n",
       "punto      3114        1099.0\n",
       "seicento    608         777.0\n",
       "stilo       583        1500.0\n",
       "NaN         404         998.5"
      ]
     },
     "metadata": {},
     "output_type": "display_data"
    },
    {
     "name": "stdout",
     "output_type": "stream",
     "text": [
      "mini ------------------------------\n"
     ]
    },
    {
     "data": {
      "text/html": [
       "<div>\n",
       "<style scoped>\n",
       "    .dataframe tbody tr th:only-of-type {\n",
       "        vertical-align: middle;\n",
       "    }\n",
       "\n",
       "    .dataframe tbody tr th {\n",
       "        vertical-align: top;\n",
       "    }\n",
       "\n",
       "    .dataframe thead th {\n",
       "        text-align: right;\n",
       "    }\n",
       "</style>\n",
       "<table border=\"1\" class=\"dataframe\">\n",
       "  <thead>\n",
       "    <tr style=\"text-align: right;\">\n",
       "      <th></th>\n",
       "      <th>count</th>\n",
       "      <th>median_price</th>\n",
       "    </tr>\n",
       "    <tr>\n",
       "      <th>Model</th>\n",
       "      <th></th>\n",
       "      <th></th>\n",
       "    </tr>\n",
       "  </thead>\n",
       "  <tbody>\n",
       "    <tr>\n",
       "      <th>clubman</th>\n",
       "      <td>195</td>\n",
       "      <td>9999</td>\n",
       "    </tr>\n",
       "    <tr>\n",
       "      <th>cooper</th>\n",
       "      <td>1917</td>\n",
       "      <td>8999</td>\n",
       "    </tr>\n",
       "    <tr>\n",
       "      <th>one</th>\n",
       "      <td>877</td>\n",
       "      <td>6600</td>\n",
       "    </tr>\n",
       "    <tr>\n",
       "      <th>other</th>\n",
       "      <td>82</td>\n",
       "      <td>7888</td>\n",
       "    </tr>\n",
       "    <tr>\n",
       "      <th>NaN</th>\n",
       "      <td>56</td>\n",
       "      <td>6608</td>\n",
       "    </tr>\n",
       "  </tbody>\n",
       "</table>\n",
       "</div>"
      ],
      "text/plain": [
       "         count  median_price\n",
       "Model                       \n",
       "clubman    195          9999\n",
       "cooper    1917          8999\n",
       "one        877          6600\n",
       "other       82          7888\n",
       "NaN         56          6608"
      ]
     },
     "metadata": {},
     "output_type": "display_data"
    },
    {
     "name": "stdout",
     "output_type": "stream",
     "text": [
      "smart ------------------------------\n"
     ]
    },
    {
     "data": {
      "text/html": [
       "<div>\n",
       "<style scoped>\n",
       "    .dataframe tbody tr th:only-of-type {\n",
       "        vertical-align: middle;\n",
       "    }\n",
       "\n",
       "    .dataframe tbody tr th {\n",
       "        vertical-align: top;\n",
       "    }\n",
       "\n",
       "    .dataframe thead th {\n",
       "        text-align: right;\n",
       "    }\n",
       "</style>\n",
       "<table border=\"1\" class=\"dataframe\">\n",
       "  <thead>\n",
       "    <tr style=\"text-align: right;\">\n",
       "      <th></th>\n",
       "      <th>count</th>\n",
       "      <th>median_price</th>\n",
       "    </tr>\n",
       "    <tr>\n",
       "      <th>Model</th>\n",
       "      <th></th>\n",
       "      <th></th>\n",
       "    </tr>\n",
       "  </thead>\n",
       "  <tbody>\n",
       "    <tr>\n",
       "      <th>forfour</th>\n",
       "      <td>359</td>\n",
       "      <td>2660</td>\n",
       "    </tr>\n",
       "    <tr>\n",
       "      <th>fortwo</th>\n",
       "      <td>3551</td>\n",
       "      <td>3000</td>\n",
       "    </tr>\n",
       "    <tr>\n",
       "      <th>other</th>\n",
       "      <td>54</td>\n",
       "      <td>1625</td>\n",
       "    </tr>\n",
       "    <tr>\n",
       "      <th>roadster</th>\n",
       "      <td>159</td>\n",
       "      <td>5000</td>\n",
       "    </tr>\n",
       "    <tr>\n",
       "      <th>NaN</th>\n",
       "      <td>208</td>\n",
       "      <td>1750</td>\n",
       "    </tr>\n",
       "  </tbody>\n",
       "</table>\n",
       "</div>"
      ],
      "text/plain": [
       "          count  median_price\n",
       "Model                        \n",
       "forfour     359          2660\n",
       "fortwo     3551          3000\n",
       "other        54          1625\n",
       "roadster    159          5000\n",
       "NaN         208          1750"
      ]
     },
     "metadata": {},
     "output_type": "display_data"
    },
    {
     "name": "stdout",
     "output_type": "stream",
     "text": [
      "hyundai ------------------------------\n"
     ]
    },
    {
     "data": {
      "text/html": [
       "<div>\n",
       "<style scoped>\n",
       "    .dataframe tbody tr th:only-of-type {\n",
       "        vertical-align: middle;\n",
       "    }\n",
       "\n",
       "    .dataframe tbody tr th {\n",
       "        vertical-align: top;\n",
       "    }\n",
       "\n",
       "    .dataframe thead th {\n",
       "        text-align: right;\n",
       "    }\n",
       "</style>\n",
       "<table border=\"1\" class=\"dataframe\">\n",
       "  <thead>\n",
       "    <tr style=\"text-align: right;\">\n",
       "      <th></th>\n",
       "      <th>count</th>\n",
       "      <th>median_price</th>\n",
       "    </tr>\n",
       "    <tr>\n",
       "      <th>Model</th>\n",
       "      <th></th>\n",
       "      <th></th>\n",
       "    </tr>\n",
       "  </thead>\n",
       "  <tbody>\n",
       "    <tr>\n",
       "      <th>getz</th>\n",
       "      <td>400</td>\n",
       "      <td>1900</td>\n",
       "    </tr>\n",
       "    <tr>\n",
       "      <th>i_reihe</th>\n",
       "      <td>1199</td>\n",
       "      <td>7200</td>\n",
       "    </tr>\n",
       "    <tr>\n",
       "      <th>other</th>\n",
       "      <td>1123</td>\n",
       "      <td>1700</td>\n",
       "    </tr>\n",
       "    <tr>\n",
       "      <th>santa</th>\n",
       "      <td>307</td>\n",
       "      <td>4500</td>\n",
       "    </tr>\n",
       "    <tr>\n",
       "      <th>tucson</th>\n",
       "      <td>222</td>\n",
       "      <td>6299</td>\n",
       "    </tr>\n",
       "    <tr>\n",
       "      <th>NaN</th>\n",
       "      <td>203</td>\n",
       "      <td>1950</td>\n",
       "    </tr>\n",
       "  </tbody>\n",
       "</table>\n",
       "</div>"
      ],
      "text/plain": [
       "         count  median_price\n",
       "Model                       \n",
       "getz       400          1900\n",
       "i_reihe   1199          7200\n",
       "other     1123          1700\n",
       "santa      307          4500\n",
       "tucson     222          6299\n",
       "NaN        203          1950"
      ]
     },
     "metadata": {},
     "output_type": "display_data"
    },
    {
     "name": "stdout",
     "output_type": "stream",
     "text": [
      "sonstige_autos ------------------------------\n"
     ]
    },
    {
     "data": {
      "text/html": [
       "<div>\n",
       "<style scoped>\n",
       "    .dataframe tbody tr th:only-of-type {\n",
       "        vertical-align: middle;\n",
       "    }\n",
       "\n",
       "    .dataframe tbody tr th {\n",
       "        vertical-align: top;\n",
       "    }\n",
       "\n",
       "    .dataframe thead th {\n",
       "        text-align: right;\n",
       "    }\n",
       "</style>\n",
       "<table border=\"1\" class=\"dataframe\">\n",
       "  <thead>\n",
       "    <tr style=\"text-align: right;\">\n",
       "      <th></th>\n",
       "      <th>count</th>\n",
       "      <th>median_price</th>\n",
       "    </tr>\n",
       "    <tr>\n",
       "      <th>Model</th>\n",
       "      <th></th>\n",
       "      <th></th>\n",
       "    </tr>\n",
       "  </thead>\n",
       "  <tbody>\n",
       "    <tr>\n",
       "      <th>NaN</th>\n",
       "      <td>2271</td>\n",
       "      <td>5200</td>\n",
       "    </tr>\n",
       "  </tbody>\n",
       "</table>\n",
       "</div>"
      ],
      "text/plain": [
       "       count  median_price\n",
       "Model                     \n",
       "NaN     2271          5200"
      ]
     },
     "metadata": {},
     "output_type": "display_data"
    },
    {
     "name": "stdout",
     "output_type": "stream",
     "text": [
      "alfa_romeo ------------------------------\n"
     ]
    },
    {
     "data": {
      "text/html": [
       "<div>\n",
       "<style scoped>\n",
       "    .dataframe tbody tr th:only-of-type {\n",
       "        vertical-align: middle;\n",
       "    }\n",
       "\n",
       "    .dataframe tbody tr th {\n",
       "        vertical-align: top;\n",
       "    }\n",
       "\n",
       "    .dataframe thead th {\n",
       "        text-align: right;\n",
       "    }\n",
       "</style>\n",
       "<table border=\"1\" class=\"dataframe\">\n",
       "  <thead>\n",
       "    <tr style=\"text-align: right;\">\n",
       "      <th></th>\n",
       "      <th>count</th>\n",
       "      <th>median_price</th>\n",
       "    </tr>\n",
       "    <tr>\n",
       "      <th>Model</th>\n",
       "      <th></th>\n",
       "      <th></th>\n",
       "    </tr>\n",
       "  </thead>\n",
       "  <tbody>\n",
       "    <tr>\n",
       "      <th>145</th>\n",
       "      <td>40</td>\n",
       "      <td>600.0</td>\n",
       "    </tr>\n",
       "    <tr>\n",
       "      <th>147</th>\n",
       "      <td>549</td>\n",
       "      <td>1999.0</td>\n",
       "    </tr>\n",
       "    <tr>\n",
       "      <th>156</th>\n",
       "      <td>601</td>\n",
       "      <td>1200.0</td>\n",
       "    </tr>\n",
       "    <tr>\n",
       "      <th>159</th>\n",
       "      <td>209</td>\n",
       "      <td>6450.0</td>\n",
       "    </tr>\n",
       "    <tr>\n",
       "      <th>other</th>\n",
       "      <td>496</td>\n",
       "      <td>5900.0</td>\n",
       "    </tr>\n",
       "    <tr>\n",
       "      <th>spider</th>\n",
       "      <td>176</td>\n",
       "      <td>5519.5</td>\n",
       "    </tr>\n",
       "    <tr>\n",
       "      <th>NaN</th>\n",
       "      <td>111</td>\n",
       "      <td>999.0</td>\n",
       "    </tr>\n",
       "  </tbody>\n",
       "</table>\n",
       "</div>"
      ],
      "text/plain": [
       "        count  median_price\n",
       "Model                      \n",
       "145        40         600.0\n",
       "147       549        1999.0\n",
       "156       601        1200.0\n",
       "159       209        6450.0\n",
       "other     496        5900.0\n",
       "spider    176        5519.5\n",
       "NaN       111         999.0"
      ]
     },
     "metadata": {},
     "output_type": "display_data"
    },
    {
     "name": "stdout",
     "output_type": "stream",
     "text": [
      "subaru ------------------------------\n"
     ]
    },
    {
     "data": {
      "text/html": [
       "<div>\n",
       "<style scoped>\n",
       "    .dataframe tbody tr th:only-of-type {\n",
       "        vertical-align: middle;\n",
       "    }\n",
       "\n",
       "    .dataframe tbody tr th {\n",
       "        vertical-align: top;\n",
       "    }\n",
       "\n",
       "    .dataframe thead th {\n",
       "        text-align: right;\n",
       "    }\n",
       "</style>\n",
       "<table border=\"1\" class=\"dataframe\">\n",
       "  <thead>\n",
       "    <tr style=\"text-align: right;\">\n",
       "      <th></th>\n",
       "      <th>count</th>\n",
       "      <th>median_price</th>\n",
       "    </tr>\n",
       "    <tr>\n",
       "      <th>Model</th>\n",
       "      <th></th>\n",
       "      <th></th>\n",
       "    </tr>\n",
       "  </thead>\n",
       "  <tbody>\n",
       "    <tr>\n",
       "      <th>forester</th>\n",
       "      <td>126</td>\n",
       "      <td>3990</td>\n",
       "    </tr>\n",
       "    <tr>\n",
       "      <th>impreza</th>\n",
       "      <td>214</td>\n",
       "      <td>2475</td>\n",
       "    </tr>\n",
       "    <tr>\n",
       "      <th>justy</th>\n",
       "      <td>133</td>\n",
       "      <td>850</td>\n",
       "    </tr>\n",
       "    <tr>\n",
       "      <th>legacy</th>\n",
       "      <td>156</td>\n",
       "      <td>1175</td>\n",
       "    </tr>\n",
       "    <tr>\n",
       "      <th>other</th>\n",
       "      <td>63</td>\n",
       "      <td>3999</td>\n",
       "    </tr>\n",
       "    <tr>\n",
       "      <th>NaN</th>\n",
       "      <td>37</td>\n",
       "      <td>800</td>\n",
       "    </tr>\n",
       "  </tbody>\n",
       "</table>\n",
       "</div>"
      ],
      "text/plain": [
       "          count  median_price\n",
       "Model                        \n",
       "forester    126          3990\n",
       "impreza     214          2475\n",
       "justy       133           850\n",
       "legacy      156          1175\n",
       "other        63          3999\n",
       "NaN          37           800"
      ]
     },
     "metadata": {},
     "output_type": "display_data"
    },
    {
     "name": "stdout",
     "output_type": "stream",
     "text": [
      "volvo ------------------------------\n"
     ]
    },
    {
     "data": {
      "text/html": [
       "<div>\n",
       "<style scoped>\n",
       "    .dataframe tbody tr th:only-of-type {\n",
       "        vertical-align: middle;\n",
       "    }\n",
       "\n",
       "    .dataframe tbody tr th {\n",
       "        vertical-align: top;\n",
       "    }\n",
       "\n",
       "    .dataframe thead th {\n",
       "        text-align: right;\n",
       "    }\n",
       "</style>\n",
       "<table border=\"1\" class=\"dataframe\">\n",
       "  <thead>\n",
       "    <tr style=\"text-align: right;\">\n",
       "      <th></th>\n",
       "      <th>count</th>\n",
       "      <th>median_price</th>\n",
       "    </tr>\n",
       "    <tr>\n",
       "      <th>Model</th>\n",
       "      <th></th>\n",
       "      <th></th>\n",
       "    </tr>\n",
       "  </thead>\n",
       "  <tbody>\n",
       "    <tr>\n",
       "      <th>850</th>\n",
       "      <td>204</td>\n",
       "      <td>950</td>\n",
       "    </tr>\n",
       "    <tr>\n",
       "      <th>c_reihe</th>\n",
       "      <td>191</td>\n",
       "      <td>7200</td>\n",
       "    </tr>\n",
       "    <tr>\n",
       "      <th>other</th>\n",
       "      <td>549</td>\n",
       "      <td>1999</td>\n",
       "    </tr>\n",
       "    <tr>\n",
       "      <th>s60</th>\n",
       "      <td>144</td>\n",
       "      <td>4472</td>\n",
       "    </tr>\n",
       "    <tr>\n",
       "      <th>v40</th>\n",
       "      <td>750</td>\n",
       "      <td>1000</td>\n",
       "    </tr>\n",
       "    <tr>\n",
       "      <th>v50</th>\n",
       "      <td>252</td>\n",
       "      <td>5500</td>\n",
       "    </tr>\n",
       "    <tr>\n",
       "      <th>v60</th>\n",
       "      <td>40</td>\n",
       "      <td>16495</td>\n",
       "    </tr>\n",
       "    <tr>\n",
       "      <th>v70</th>\n",
       "      <td>610</td>\n",
       "      <td>2825</td>\n",
       "    </tr>\n",
       "    <tr>\n",
       "      <th>xc_reihe</th>\n",
       "      <td>259</td>\n",
       "      <td>10750</td>\n",
       "    </tr>\n",
       "    <tr>\n",
       "      <th>NaN</th>\n",
       "      <td>94</td>\n",
       "      <td>925</td>\n",
       "    </tr>\n",
       "  </tbody>\n",
       "</table>\n",
       "</div>"
      ],
      "text/plain": [
       "          count  median_price\n",
       "Model                        \n",
       "850         204           950\n",
       "c_reihe     191          7200\n",
       "other       549          1999\n",
       "s60         144          4472\n",
       "v40         750          1000\n",
       "v50         252          5500\n",
       "v60          40         16495\n",
       "v70         610          2825\n",
       "xc_reihe    259         10750\n",
       "NaN          94           925"
      ]
     },
     "metadata": {},
     "output_type": "display_data"
    },
    {
     "name": "stdout",
     "output_type": "stream",
     "text": [
      "mitsubishi ------------------------------\n"
     ]
    },
    {
     "data": {
      "text/html": [
       "<div>\n",
       "<style scoped>\n",
       "    .dataframe tbody tr th:only-of-type {\n",
       "        vertical-align: middle;\n",
       "    }\n",
       "\n",
       "    .dataframe tbody tr th {\n",
       "        vertical-align: top;\n",
       "    }\n",
       "\n",
       "    .dataframe thead th {\n",
       "        text-align: right;\n",
       "    }\n",
       "</style>\n",
       "<table border=\"1\" class=\"dataframe\">\n",
       "  <thead>\n",
       "    <tr style=\"text-align: right;\">\n",
       "      <th></th>\n",
       "      <th>count</th>\n",
       "      <th>median_price</th>\n",
       "    </tr>\n",
       "    <tr>\n",
       "      <th>Model</th>\n",
       "      <th></th>\n",
       "      <th></th>\n",
       "    </tr>\n",
       "  </thead>\n",
       "  <tbody>\n",
       "    <tr>\n",
       "      <th>carisma</th>\n",
       "      <td>401</td>\n",
       "      <td>850</td>\n",
       "    </tr>\n",
       "    <tr>\n",
       "      <th>colt</th>\n",
       "      <td>831</td>\n",
       "      <td>1950</td>\n",
       "    </tr>\n",
       "    <tr>\n",
       "      <th>galant</th>\n",
       "      <td>251</td>\n",
       "      <td>800</td>\n",
       "    </tr>\n",
       "    <tr>\n",
       "      <th>lancer</th>\n",
       "      <td>199</td>\n",
       "      <td>2490</td>\n",
       "    </tr>\n",
       "    <tr>\n",
       "      <th>other</th>\n",
       "      <td>742</td>\n",
       "      <td>1750</td>\n",
       "    </tr>\n",
       "    <tr>\n",
       "      <th>outlander</th>\n",
       "      <td>121</td>\n",
       "      <td>9500</td>\n",
       "    </tr>\n",
       "    <tr>\n",
       "      <th>pajero</th>\n",
       "      <td>202</td>\n",
       "      <td>4825</td>\n",
       "    </tr>\n",
       "    <tr>\n",
       "      <th>NaN</th>\n",
       "      <td>133</td>\n",
       "      <td>999</td>\n",
       "    </tr>\n",
       "  </tbody>\n",
       "</table>\n",
       "</div>"
      ],
      "text/plain": [
       "           count  median_price\n",
       "Model                         \n",
       "carisma      401           850\n",
       "colt         831          1950\n",
       "galant       251           800\n",
       "lancer       199          2490\n",
       "other        742          1750\n",
       "outlander    121          9500\n",
       "pajero       202          4825\n",
       "NaN          133           999"
      ]
     },
     "metadata": {},
     "output_type": "display_data"
    },
    {
     "name": "stdout",
     "output_type": "stream",
     "text": [
      "kia ------------------------------\n"
     ]
    },
    {
     "data": {
      "text/html": [
       "<div>\n",
       "<style scoped>\n",
       "    .dataframe tbody tr th:only-of-type {\n",
       "        vertical-align: middle;\n",
       "    }\n",
       "\n",
       "    .dataframe tbody tr th {\n",
       "        vertical-align: top;\n",
       "    }\n",
       "\n",
       "    .dataframe thead th {\n",
       "        text-align: right;\n",
       "    }\n",
       "</style>\n",
       "<table border=\"1\" class=\"dataframe\">\n",
       "  <thead>\n",
       "    <tr style=\"text-align: right;\">\n",
       "      <th></th>\n",
       "      <th>count</th>\n",
       "      <th>median_price</th>\n",
       "    </tr>\n",
       "    <tr>\n",
       "      <th>Model</th>\n",
       "      <th></th>\n",
       "      <th></th>\n",
       "    </tr>\n",
       "  </thead>\n",
       "  <tbody>\n",
       "    <tr>\n",
       "      <th>carnival</th>\n",
       "      <td>260</td>\n",
       "      <td>1797</td>\n",
       "    </tr>\n",
       "    <tr>\n",
       "      <th>ceed</th>\n",
       "      <td>246</td>\n",
       "      <td>6300</td>\n",
       "    </tr>\n",
       "    <tr>\n",
       "      <th>other</th>\n",
       "      <td>482</td>\n",
       "      <td>1850</td>\n",
       "    </tr>\n",
       "    <tr>\n",
       "      <th>picanto</th>\n",
       "      <td>357</td>\n",
       "      <td>2900</td>\n",
       "    </tr>\n",
       "    <tr>\n",
       "      <th>rio</th>\n",
       "      <td>361</td>\n",
       "      <td>2550</td>\n",
       "    </tr>\n",
       "    <tr>\n",
       "      <th>sorento</th>\n",
       "      <td>326</td>\n",
       "      <td>6500</td>\n",
       "    </tr>\n",
       "    <tr>\n",
       "      <th>sportage</th>\n",
       "      <td>242</td>\n",
       "      <td>12500</td>\n",
       "    </tr>\n",
       "    <tr>\n",
       "      <th>NaN</th>\n",
       "      <td>102</td>\n",
       "      <td>1725</td>\n",
       "    </tr>\n",
       "  </tbody>\n",
       "</table>\n",
       "</div>"
      ],
      "text/plain": [
       "          count  median_price\n",
       "Model                        \n",
       "carnival    260          1797\n",
       "ceed        246          6300\n",
       "other       482          1850\n",
       "picanto     357          2900\n",
       "rio         361          2550\n",
       "sorento     326          6500\n",
       "sportage    242         12500\n",
       "NaN         102          1725"
      ]
     },
     "metadata": {},
     "output_type": "display_data"
    },
    {
     "name": "stdout",
     "output_type": "stream",
     "text": [
      "suzuki ------------------------------\n"
     ]
    },
    {
     "data": {
      "text/html": [
       "<div>\n",
       "<style scoped>\n",
       "    .dataframe tbody tr th:only-of-type {\n",
       "        vertical-align: middle;\n",
       "    }\n",
       "\n",
       "    .dataframe tbody tr th {\n",
       "        vertical-align: top;\n",
       "    }\n",
       "\n",
       "    .dataframe thead th {\n",
       "        text-align: right;\n",
       "    }\n",
       "</style>\n",
       "<table border=\"1\" class=\"dataframe\">\n",
       "  <thead>\n",
       "    <tr style=\"text-align: right;\">\n",
       "      <th></th>\n",
       "      <th>count</th>\n",
       "      <th>median_price</th>\n",
       "    </tr>\n",
       "    <tr>\n",
       "      <th>Model</th>\n",
       "      <th></th>\n",
       "      <th></th>\n",
       "    </tr>\n",
       "  </thead>\n",
       "  <tbody>\n",
       "    <tr>\n",
       "      <th>grand</th>\n",
       "      <td>205</td>\n",
       "      <td>7600</td>\n",
       "    </tr>\n",
       "    <tr>\n",
       "      <th>jimny</th>\n",
       "      <td>201</td>\n",
       "      <td>6333</td>\n",
       "    </tr>\n",
       "    <tr>\n",
       "      <th>other</th>\n",
       "      <td>1000</td>\n",
       "      <td>1790</td>\n",
       "    </tr>\n",
       "    <tr>\n",
       "      <th>swift</th>\n",
       "      <td>681</td>\n",
       "      <td>3890</td>\n",
       "    </tr>\n",
       "    <tr>\n",
       "      <th>NaN</th>\n",
       "      <td>110</td>\n",
       "      <td>1450</td>\n",
       "    </tr>\n",
       "  </tbody>\n",
       "</table>\n",
       "</div>"
      ],
      "text/plain": [
       "       count  median_price\n",
       "Model                     \n",
       "grand    205          7600\n",
       "jimny    201          6333\n",
       "other   1000          1790\n",
       "swift    681          3890\n",
       "NaN      110          1450"
      ]
     },
     "metadata": {},
     "output_type": "display_data"
    },
    {
     "name": "stdout",
     "output_type": "stream",
     "text": [
      "lancia ------------------------------\n"
     ]
    },
    {
     "data": {
      "text/html": [
       "<div>\n",
       "<style scoped>\n",
       "    .dataframe tbody tr th:only-of-type {\n",
       "        vertical-align: middle;\n",
       "    }\n",
       "\n",
       "    .dataframe tbody tr th {\n",
       "        vertical-align: top;\n",
       "    }\n",
       "\n",
       "    .dataframe thead th {\n",
       "        text-align: right;\n",
       "    }\n",
       "</style>\n",
       "<table border=\"1\" class=\"dataframe\">\n",
       "  <thead>\n",
       "    <tr style=\"text-align: right;\">\n",
       "      <th></th>\n",
       "      <th>count</th>\n",
       "      <th>median_price</th>\n",
       "    </tr>\n",
       "    <tr>\n",
       "      <th>Model</th>\n",
       "      <th></th>\n",
       "      <th></th>\n",
       "    </tr>\n",
       "  </thead>\n",
       "  <tbody>\n",
       "    <tr>\n",
       "      <th>delta</th>\n",
       "      <td>32</td>\n",
       "      <td>5600</td>\n",
       "    </tr>\n",
       "    <tr>\n",
       "      <th>elefantino</th>\n",
       "      <td>11</td>\n",
       "      <td>550</td>\n",
       "    </tr>\n",
       "    <tr>\n",
       "      <th>kappa</th>\n",
       "      <td>13</td>\n",
       "      <td>1950</td>\n",
       "    </tr>\n",
       "    <tr>\n",
       "      <th>lybra</th>\n",
       "      <td>51</td>\n",
       "      <td>700</td>\n",
       "    </tr>\n",
       "    <tr>\n",
       "      <th>musa</th>\n",
       "      <td>24</td>\n",
       "      <td>3199</td>\n",
       "    </tr>\n",
       "    <tr>\n",
       "      <th>other</th>\n",
       "      <td>93</td>\n",
       "      <td>2800</td>\n",
       "    </tr>\n",
       "    <tr>\n",
       "      <th>ypsilon</th>\n",
       "      <td>199</td>\n",
       "      <td>950</td>\n",
       "    </tr>\n",
       "    <tr>\n",
       "      <th>NaN</th>\n",
       "      <td>22</td>\n",
       "      <td>1175</td>\n",
       "    </tr>\n",
       "  </tbody>\n",
       "</table>\n",
       "</div>"
      ],
      "text/plain": [
       "            count  median_price\n",
       "Model                          \n",
       "delta          32          5600\n",
       "elefantino     11           550\n",
       "kappa          13          1950\n",
       "lybra          51           700\n",
       "musa           24          3199\n",
       "other          93          2800\n",
       "ypsilon       199           950\n",
       "NaN            22          1175"
      ]
     },
     "metadata": {},
     "output_type": "display_data"
    },
    {
     "name": "stdout",
     "output_type": "stream",
     "text": [
      "toyota ------------------------------\n"
     ]
    },
    {
     "data": {
      "text/html": [
       "<div>\n",
       "<style scoped>\n",
       "    .dataframe tbody tr th:only-of-type {\n",
       "        vertical-align: middle;\n",
       "    }\n",
       "\n",
       "    .dataframe tbody tr th {\n",
       "        vertical-align: top;\n",
       "    }\n",
       "\n",
       "    .dataframe thead th {\n",
       "        text-align: right;\n",
       "    }\n",
       "</style>\n",
       "<table border=\"1\" class=\"dataframe\">\n",
       "  <thead>\n",
       "    <tr style=\"text-align: right;\">\n",
       "      <th></th>\n",
       "      <th>count</th>\n",
       "      <th>median_price</th>\n",
       "    </tr>\n",
       "    <tr>\n",
       "      <th>Model</th>\n",
       "      <th></th>\n",
       "      <th></th>\n",
       "    </tr>\n",
       "  </thead>\n",
       "  <tbody>\n",
       "    <tr>\n",
       "      <th>auris</th>\n",
       "      <td>231</td>\n",
       "      <td>7800.0</td>\n",
       "    </tr>\n",
       "    <tr>\n",
       "      <th>avensis</th>\n",
       "      <td>552</td>\n",
       "      <td>4800.0</td>\n",
       "    </tr>\n",
       "    <tr>\n",
       "      <th>aygo</th>\n",
       "      <td>410</td>\n",
       "      <td>3970.0</td>\n",
       "    </tr>\n",
       "    <tr>\n",
       "      <th>corolla</th>\n",
       "      <td>661</td>\n",
       "      <td>2350.0</td>\n",
       "    </tr>\n",
       "    <tr>\n",
       "      <th>other</th>\n",
       "      <td>807</td>\n",
       "      <td>3200.0</td>\n",
       "    </tr>\n",
       "    <tr>\n",
       "      <th>rav</th>\n",
       "      <td>338</td>\n",
       "      <td>6450.0</td>\n",
       "    </tr>\n",
       "    <tr>\n",
       "      <th>verso</th>\n",
       "      <td>303</td>\n",
       "      <td>6000.0</td>\n",
       "    </tr>\n",
       "    <tr>\n",
       "      <th>yaris</th>\n",
       "      <td>1003</td>\n",
       "      <td>3350.0</td>\n",
       "    </tr>\n",
       "    <tr>\n",
       "      <th>NaN</th>\n",
       "      <td>128</td>\n",
       "      <td>2999.5</td>\n",
       "    </tr>\n",
       "  </tbody>\n",
       "</table>\n",
       "</div>"
      ],
      "text/plain": [
       "         count  median_price\n",
       "Model                       \n",
       "auris      231        7800.0\n",
       "avensis    552        4800.0\n",
       "aygo       410        3970.0\n",
       "corolla    661        2350.0\n",
       "other      807        3200.0\n",
       "rav        338        6450.0\n",
       "verso      303        6000.0\n",
       "yaris     1003        3350.0\n",
       "NaN        128        2999.5"
      ]
     },
     "metadata": {},
     "output_type": "display_data"
    },
    {
     "name": "stdout",
     "output_type": "stream",
     "text": [
      "chevrolet ------------------------------\n"
     ]
    },
    {
     "data": {
      "text/html": [
       "<div>\n",
       "<style scoped>\n",
       "    .dataframe tbody tr th:only-of-type {\n",
       "        vertical-align: middle;\n",
       "    }\n",
       "\n",
       "    .dataframe tbody tr th {\n",
       "        vertical-align: top;\n",
       "    }\n",
       "\n",
       "    .dataframe thead th {\n",
       "        text-align: right;\n",
       "    }\n",
       "</style>\n",
       "<table border=\"1\" class=\"dataframe\">\n",
       "  <thead>\n",
       "    <tr style=\"text-align: right;\">\n",
       "      <th></th>\n",
       "      <th>count</th>\n",
       "      <th>median_price</th>\n",
       "    </tr>\n",
       "    <tr>\n",
       "      <th>Model</th>\n",
       "      <th></th>\n",
       "      <th></th>\n",
       "    </tr>\n",
       "  </thead>\n",
       "  <tbody>\n",
       "    <tr>\n",
       "      <th>aveo</th>\n",
       "      <td>109</td>\n",
       "      <td>4250.0</td>\n",
       "    </tr>\n",
       "    <tr>\n",
       "      <th>captiva</th>\n",
       "      <td>168</td>\n",
       "      <td>9474.5</td>\n",
       "    </tr>\n",
       "    <tr>\n",
       "      <th>matiz</th>\n",
       "      <td>276</td>\n",
       "      <td>2150.0</td>\n",
       "    </tr>\n",
       "    <tr>\n",
       "      <th>other</th>\n",
       "      <td>895</td>\n",
       "      <td>4900.0</td>\n",
       "    </tr>\n",
       "    <tr>\n",
       "      <th>spark</th>\n",
       "      <td>122</td>\n",
       "      <td>4890.0</td>\n",
       "    </tr>\n",
       "    <tr>\n",
       "      <th>NaN</th>\n",
       "      <td>88</td>\n",
       "      <td>3500.0</td>\n",
       "    </tr>\n",
       "  </tbody>\n",
       "</table>\n",
       "</div>"
      ],
      "text/plain": [
       "         count  median_price\n",
       "Model                       \n",
       "aveo       109        4250.0\n",
       "captiva    168        9474.5\n",
       "matiz      276        2150.0\n",
       "other      895        4900.0\n",
       "spark      122        4890.0\n",
       "NaN         88        3500.0"
      ]
     },
     "metadata": {},
     "output_type": "display_data"
    },
    {
     "name": "stdout",
     "output_type": "stream",
     "text": [
      "dacia ------------------------------\n"
     ]
    },
    {
     "data": {
      "text/html": [
       "<div>\n",
       "<style scoped>\n",
       "    .dataframe tbody tr th:only-of-type {\n",
       "        vertical-align: middle;\n",
       "    }\n",
       "\n",
       "    .dataframe tbody tr th {\n",
       "        vertical-align: top;\n",
       "    }\n",
       "\n",
       "    .dataframe thead th {\n",
       "        text-align: right;\n",
       "    }\n",
       "</style>\n",
       "<table border=\"1\" class=\"dataframe\">\n",
       "  <thead>\n",
       "    <tr style=\"text-align: right;\">\n",
       "      <th></th>\n",
       "      <th>count</th>\n",
       "      <th>median_price</th>\n",
       "    </tr>\n",
       "    <tr>\n",
       "      <th>Model</th>\n",
       "      <th></th>\n",
       "      <th></th>\n",
       "    </tr>\n",
       "  </thead>\n",
       "  <tbody>\n",
       "    <tr>\n",
       "      <th>duster</th>\n",
       "      <td>197</td>\n",
       "      <td>9799</td>\n",
       "    </tr>\n",
       "    <tr>\n",
       "      <th>lodgy</th>\n",
       "      <td>34</td>\n",
       "      <td>10675</td>\n",
       "    </tr>\n",
       "    <tr>\n",
       "      <th>logan</th>\n",
       "      <td>314</td>\n",
       "      <td>2990</td>\n",
       "    </tr>\n",
       "    <tr>\n",
       "      <th>other</th>\n",
       "      <td>20</td>\n",
       "      <td>6525</td>\n",
       "    </tr>\n",
       "    <tr>\n",
       "      <th>sandero</th>\n",
       "      <td>292</td>\n",
       "      <td>4325</td>\n",
       "    </tr>\n",
       "    <tr>\n",
       "      <th>NaN</th>\n",
       "      <td>21</td>\n",
       "      <td>6600</td>\n",
       "    </tr>\n",
       "  </tbody>\n",
       "</table>\n",
       "</div>"
      ],
      "text/plain": [
       "         count  median_price\n",
       "Model                       \n",
       "duster     197          9799\n",
       "lodgy       34         10675\n",
       "logan      314          2990\n",
       "other       20          6525\n",
       "sandero    292          4325\n",
       "NaN         21          6600"
      ]
     },
     "metadata": {},
     "output_type": "display_data"
    },
    {
     "name": "stdout",
     "output_type": "stream",
     "text": [
      "daihatsu ------------------------------\n"
     ]
    },
    {
     "data": {
      "text/html": [
       "<div>\n",
       "<style scoped>\n",
       "    .dataframe tbody tr th:only-of-type {\n",
       "        vertical-align: middle;\n",
       "    }\n",
       "\n",
       "    .dataframe tbody tr th {\n",
       "        vertical-align: top;\n",
       "    }\n",
       "\n",
       "    .dataframe thead th {\n",
       "        text-align: right;\n",
       "    }\n",
       "</style>\n",
       "<table border=\"1\" class=\"dataframe\">\n",
       "  <thead>\n",
       "    <tr style=\"text-align: right;\">\n",
       "      <th></th>\n",
       "      <th>count</th>\n",
       "      <th>median_price</th>\n",
       "    </tr>\n",
       "    <tr>\n",
       "      <th>Model</th>\n",
       "      <th></th>\n",
       "      <th></th>\n",
       "    </tr>\n",
       "  </thead>\n",
       "  <tbody>\n",
       "    <tr>\n",
       "      <th>charade</th>\n",
       "      <td>27</td>\n",
       "      <td>550</td>\n",
       "    </tr>\n",
       "    <tr>\n",
       "      <th>cuore</th>\n",
       "      <td>349</td>\n",
       "      <td>800</td>\n",
       "    </tr>\n",
       "    <tr>\n",
       "      <th>materia</th>\n",
       "      <td>18</td>\n",
       "      <td>4650</td>\n",
       "    </tr>\n",
       "    <tr>\n",
       "      <th>move</th>\n",
       "      <td>52</td>\n",
       "      <td>600</td>\n",
       "    </tr>\n",
       "    <tr>\n",
       "      <th>other</th>\n",
       "      <td>107</td>\n",
       "      <td>1500</td>\n",
       "    </tr>\n",
       "    <tr>\n",
       "      <th>sirion</th>\n",
       "      <td>134</td>\n",
       "      <td>2250</td>\n",
       "    </tr>\n",
       "    <tr>\n",
       "      <th>terios</th>\n",
       "      <td>33</td>\n",
       "      <td>5000</td>\n",
       "    </tr>\n",
       "    <tr>\n",
       "      <th>NaN</th>\n",
       "      <td>32</td>\n",
       "      <td>935</td>\n",
       "    </tr>\n",
       "  </tbody>\n",
       "</table>\n",
       "</div>"
      ],
      "text/plain": [
       "         count  median_price\n",
       "Model                       \n",
       "charade     27           550\n",
       "cuore      349           800\n",
       "materia     18          4650\n",
       "move        52           600\n",
       "other      107          1500\n",
       "sirion     134          2250\n",
       "terios      33          5000\n",
       "NaN         32           935"
      ]
     },
     "metadata": {},
     "output_type": "display_data"
    },
    {
     "name": "stdout",
     "output_type": "stream",
     "text": [
      "saab ------------------------------\n"
     ]
    },
    {
     "data": {
      "text/html": [
       "<div>\n",
       "<style scoped>\n",
       "    .dataframe tbody tr th:only-of-type {\n",
       "        vertical-align: middle;\n",
       "    }\n",
       "\n",
       "    .dataframe tbody tr th {\n",
       "        vertical-align: top;\n",
       "    }\n",
       "\n",
       "    .dataframe thead th {\n",
       "        text-align: right;\n",
       "    }\n",
       "</style>\n",
       "<table border=\"1\" class=\"dataframe\">\n",
       "  <thead>\n",
       "    <tr style=\"text-align: right;\">\n",
       "      <th></th>\n",
       "      <th>count</th>\n",
       "      <th>median_price</th>\n",
       "    </tr>\n",
       "    <tr>\n",
       "      <th>Model</th>\n",
       "      <th></th>\n",
       "      <th></th>\n",
       "    </tr>\n",
       "  </thead>\n",
       "  <tbody>\n",
       "    <tr>\n",
       "      <th>900</th>\n",
       "      <td>110</td>\n",
       "      <td>1477.5</td>\n",
       "    </tr>\n",
       "    <tr>\n",
       "      <th>9000</th>\n",
       "      <td>29</td>\n",
       "      <td>2249.0</td>\n",
       "    </tr>\n",
       "    <tr>\n",
       "      <th>other</th>\n",
       "      <td>358</td>\n",
       "      <td>2800.0</td>\n",
       "    </tr>\n",
       "    <tr>\n",
       "      <th>NaN</th>\n",
       "      <td>14</td>\n",
       "      <td>975.0</td>\n",
       "    </tr>\n",
       "  </tbody>\n",
       "</table>\n",
       "</div>"
      ],
      "text/plain": [
       "       count  median_price\n",
       "Model                     \n",
       "900      110        1477.5\n",
       "9000      29        2249.0\n",
       "other    358        2800.0\n",
       "NaN       14         975.0"
      ]
     },
     "metadata": {},
     "output_type": "display_data"
    },
    {
     "name": "stdout",
     "output_type": "stream",
     "text": [
      "chrysler ------------------------------\n"
     ]
    },
    {
     "data": {
      "text/html": [
       "<div>\n",
       "<style scoped>\n",
       "    .dataframe tbody tr th:only-of-type {\n",
       "        vertical-align: middle;\n",
       "    }\n",
       "\n",
       "    .dataframe tbody tr th {\n",
       "        vertical-align: top;\n",
       "    }\n",
       "\n",
       "    .dataframe thead th {\n",
       "        text-align: right;\n",
       "    }\n",
       "</style>\n",
       "<table border=\"1\" class=\"dataframe\">\n",
       "  <thead>\n",
       "    <tr style=\"text-align: right;\">\n",
       "      <th></th>\n",
       "      <th>count</th>\n",
       "      <th>median_price</th>\n",
       "    </tr>\n",
       "    <tr>\n",
       "      <th>Model</th>\n",
       "      <th></th>\n",
       "      <th></th>\n",
       "    </tr>\n",
       "  </thead>\n",
       "  <tbody>\n",
       "    <tr>\n",
       "      <th>300c</th>\n",
       "      <td>140</td>\n",
       "      <td>9500</td>\n",
       "    </tr>\n",
       "    <tr>\n",
       "      <th>crossfire</th>\n",
       "      <td>63</td>\n",
       "      <td>9800</td>\n",
       "    </tr>\n",
       "    <tr>\n",
       "      <th>grand</th>\n",
       "      <td>107</td>\n",
       "      <td>2950</td>\n",
       "    </tr>\n",
       "    <tr>\n",
       "      <th>other</th>\n",
       "      <td>371</td>\n",
       "      <td>2000</td>\n",
       "    </tr>\n",
       "    <tr>\n",
       "      <th>ptcruiser</th>\n",
       "      <td>298</td>\n",
       "      <td>2050</td>\n",
       "    </tr>\n",
       "    <tr>\n",
       "      <th>voyager</th>\n",
       "      <td>325</td>\n",
       "      <td>1200</td>\n",
       "    </tr>\n",
       "    <tr>\n",
       "      <th>NaN</th>\n",
       "      <td>73</td>\n",
       "      <td>1300</td>\n",
       "    </tr>\n",
       "  </tbody>\n",
       "</table>\n",
       "</div>"
      ],
      "text/plain": [
       "           count  median_price\n",
       "Model                         \n",
       "300c         140          9500\n",
       "crossfire     63          9800\n",
       "grand        107          2950\n",
       "other        371          2000\n",
       "ptcruiser    298          2050\n",
       "voyager      325          1200\n",
       "NaN           73          1300"
      ]
     },
     "metadata": {},
     "output_type": "display_data"
    },
    {
     "name": "stdout",
     "output_type": "stream",
     "text": [
      "jaguar ------------------------------\n"
     ]
    },
    {
     "data": {
      "text/html": [
       "<div>\n",
       "<style scoped>\n",
       "    .dataframe tbody tr th:only-of-type {\n",
       "        vertical-align: middle;\n",
       "    }\n",
       "\n",
       "    .dataframe tbody tr th {\n",
       "        vertical-align: top;\n",
       "    }\n",
       "\n",
       "    .dataframe thead th {\n",
       "        text-align: right;\n",
       "    }\n",
       "</style>\n",
       "<table border=\"1\" class=\"dataframe\">\n",
       "  <thead>\n",
       "    <tr style=\"text-align: right;\">\n",
       "      <th></th>\n",
       "      <th>count</th>\n",
       "      <th>median_price</th>\n",
       "    </tr>\n",
       "    <tr>\n",
       "      <th>Model</th>\n",
       "      <th></th>\n",
       "      <th></th>\n",
       "    </tr>\n",
       "  </thead>\n",
       "  <tbody>\n",
       "    <tr>\n",
       "      <th>other</th>\n",
       "      <td>183</td>\n",
       "      <td>9990</td>\n",
       "    </tr>\n",
       "    <tr>\n",
       "      <th>s_type</th>\n",
       "      <td>126</td>\n",
       "      <td>3525</td>\n",
       "    </tr>\n",
       "    <tr>\n",
       "      <th>x_type</th>\n",
       "      <td>165</td>\n",
       "      <td>3800</td>\n",
       "    </tr>\n",
       "    <tr>\n",
       "      <th>NaN</th>\n",
       "      <td>13</td>\n",
       "      <td>2700</td>\n",
       "    </tr>\n",
       "  </tbody>\n",
       "</table>\n",
       "</div>"
      ],
      "text/plain": [
       "        count  median_price\n",
       "Model                      \n",
       "other     183          9990\n",
       "s_type    126          3525\n",
       "x_type    165          3800\n",
       "NaN        13          2700"
      ]
     },
     "metadata": {},
     "output_type": "display_data"
    },
    {
     "name": "stdout",
     "output_type": "stream",
     "text": [
      "daewoo ------------------------------\n"
     ]
    },
    {
     "data": {
      "text/html": [
       "<div>\n",
       "<style scoped>\n",
       "    .dataframe tbody tr th:only-of-type {\n",
       "        vertical-align: middle;\n",
       "    }\n",
       "\n",
       "    .dataframe tbody tr th {\n",
       "        vertical-align: top;\n",
       "    }\n",
       "\n",
       "    .dataframe thead th {\n",
       "        text-align: right;\n",
       "    }\n",
       "</style>\n",
       "<table border=\"1\" class=\"dataframe\">\n",
       "  <thead>\n",
       "    <tr style=\"text-align: right;\">\n",
       "      <th></th>\n",
       "      <th>count</th>\n",
       "      <th>median_price</th>\n",
       "    </tr>\n",
       "    <tr>\n",
       "      <th>Model</th>\n",
       "      <th></th>\n",
       "      <th></th>\n",
       "    </tr>\n",
       "  </thead>\n",
       "  <tbody>\n",
       "    <tr>\n",
       "      <th>kalos</th>\n",
       "      <td>92</td>\n",
       "      <td>1450.0</td>\n",
       "    </tr>\n",
       "    <tr>\n",
       "      <th>lanos</th>\n",
       "      <td>85</td>\n",
       "      <td>600.0</td>\n",
       "    </tr>\n",
       "    <tr>\n",
       "      <th>matiz</th>\n",
       "      <td>148</td>\n",
       "      <td>1025.0</td>\n",
       "    </tr>\n",
       "    <tr>\n",
       "      <th>nubira</th>\n",
       "      <td>61</td>\n",
       "      <td>850.0</td>\n",
       "    </tr>\n",
       "    <tr>\n",
       "      <th>other</th>\n",
       "      <td>86</td>\n",
       "      <td>1099.5</td>\n",
       "    </tr>\n",
       "    <tr>\n",
       "      <th>NaN</th>\n",
       "      <td>36</td>\n",
       "      <td>650.0</td>\n",
       "    </tr>\n",
       "  </tbody>\n",
       "</table>\n",
       "</div>"
      ],
      "text/plain": [
       "        count  median_price\n",
       "Model                      \n",
       "kalos      92        1450.0\n",
       "lanos      85         600.0\n",
       "matiz     148        1025.0\n",
       "nubira     61         850.0\n",
       "other      86        1099.5\n",
       "NaN        36         650.0"
      ]
     },
     "metadata": {},
     "output_type": "display_data"
    },
    {
     "name": "stdout",
     "output_type": "stream",
     "text": [
      "porsche ------------------------------\n"
     ]
    },
    {
     "data": {
      "text/html": [
       "<div>\n",
       "<style scoped>\n",
       "    .dataframe tbody tr th:only-of-type {\n",
       "        vertical-align: middle;\n",
       "    }\n",
       "\n",
       "    .dataframe tbody tr th {\n",
       "        vertical-align: top;\n",
       "    }\n",
       "\n",
       "    .dataframe thead th {\n",
       "        text-align: right;\n",
       "    }\n",
       "</style>\n",
       "<table border=\"1\" class=\"dataframe\">\n",
       "  <thead>\n",
       "    <tr style=\"text-align: right;\">\n",
       "      <th></th>\n",
       "      <th>count</th>\n",
       "      <th>median_price</th>\n",
       "    </tr>\n",
       "    <tr>\n",
       "      <th>Model</th>\n",
       "      <th></th>\n",
       "      <th></th>\n",
       "    </tr>\n",
       "  </thead>\n",
       "  <tbody>\n",
       "    <tr>\n",
       "      <th>911</th>\n",
       "      <td>59</td>\n",
       "      <td>15490</td>\n",
       "    </tr>\n",
       "    <tr>\n",
       "      <th>boxster</th>\n",
       "      <td>210</td>\n",
       "      <td>13850</td>\n",
       "    </tr>\n",
       "    <tr>\n",
       "      <th>cayenne</th>\n",
       "      <td>227</td>\n",
       "      <td>12999</td>\n",
       "    </tr>\n",
       "    <tr>\n",
       "      <th>other</th>\n",
       "      <td>156</td>\n",
       "      <td>7400</td>\n",
       "    </tr>\n",
       "    <tr>\n",
       "      <th>NaN</th>\n",
       "      <td>25</td>\n",
       "      <td>4950</td>\n",
       "    </tr>\n",
       "  </tbody>\n",
       "</table>\n",
       "</div>"
      ],
      "text/plain": [
       "         count  median_price\n",
       "Model                       \n",
       "911         59         15490\n",
       "boxster    210         13850\n",
       "cayenne    227         12999\n",
       "other      156          7400\n",
       "NaN         25          4950"
      ]
     },
     "metadata": {},
     "output_type": "display_data"
    },
    {
     "name": "stdout",
     "output_type": "stream",
     "text": [
      "rover ------------------------------\n"
     ]
    },
    {
     "data": {
      "text/html": [
       "<div>\n",
       "<style scoped>\n",
       "    .dataframe tbody tr th:only-of-type {\n",
       "        vertical-align: middle;\n",
       "    }\n",
       "\n",
       "    .dataframe tbody tr th {\n",
       "        vertical-align: top;\n",
       "    }\n",
       "\n",
       "    .dataframe thead th {\n",
       "        text-align: right;\n",
       "    }\n",
       "</style>\n",
       "<table border=\"1\" class=\"dataframe\">\n",
       "  <thead>\n",
       "    <tr style=\"text-align: right;\">\n",
       "      <th></th>\n",
       "      <th>count</th>\n",
       "      <th>median_price</th>\n",
       "    </tr>\n",
       "    <tr>\n",
       "      <th>Model</th>\n",
       "      <th></th>\n",
       "      <th></th>\n",
       "    </tr>\n",
       "  </thead>\n",
       "  <tbody>\n",
       "    <tr>\n",
       "      <th>defender</th>\n",
       "      <td>1</td>\n",
       "      <td>550</td>\n",
       "    </tr>\n",
       "    <tr>\n",
       "      <th>discovery</th>\n",
       "      <td>2</td>\n",
       "      <td>2950</td>\n",
       "    </tr>\n",
       "    <tr>\n",
       "      <th>freelander</th>\n",
       "      <td>3</td>\n",
       "      <td>1950</td>\n",
       "    </tr>\n",
       "    <tr>\n",
       "      <th>other</th>\n",
       "      <td>374</td>\n",
       "      <td>950</td>\n",
       "    </tr>\n",
       "    <tr>\n",
       "      <th>rangerover</th>\n",
       "      <td>4</td>\n",
       "      <td>2900</td>\n",
       "    </tr>\n",
       "    <tr>\n",
       "      <th>NaN</th>\n",
       "      <td>70</td>\n",
       "      <td>625</td>\n",
       "    </tr>\n",
       "  </tbody>\n",
       "</table>\n",
       "</div>"
      ],
      "text/plain": [
       "            count  median_price\n",
       "Model                          \n",
       "defender        1           550\n",
       "discovery       2          2950\n",
       "freelander      3          1950\n",
       "other         374           950\n",
       "rangerover      4          2900\n",
       "NaN            70           625"
      ]
     },
     "metadata": {},
     "output_type": "display_data"
    },
    {
     "name": "stdout",
     "output_type": "stream",
     "text": [
      "land_rover ------------------------------\n"
     ]
    },
    {
     "data": {
      "text/html": [
       "<div>\n",
       "<style scoped>\n",
       "    .dataframe tbody tr th:only-of-type {\n",
       "        vertical-align: middle;\n",
       "    }\n",
       "\n",
       "    .dataframe tbody tr th {\n",
       "        vertical-align: top;\n",
       "    }\n",
       "\n",
       "    .dataframe thead th {\n",
       "        text-align: right;\n",
       "    }\n",
       "</style>\n",
       "<table border=\"1\" class=\"dataframe\">\n",
       "  <thead>\n",
       "    <tr style=\"text-align: right;\">\n",
       "      <th></th>\n",
       "      <th>count</th>\n",
       "      <th>median_price</th>\n",
       "    </tr>\n",
       "    <tr>\n",
       "      <th>Model</th>\n",
       "      <th></th>\n",
       "      <th></th>\n",
       "    </tr>\n",
       "  </thead>\n",
       "  <tbody>\n",
       "    <tr>\n",
       "      <th>defender</th>\n",
       "      <td>65</td>\n",
       "      <td>12500</td>\n",
       "    </tr>\n",
       "    <tr>\n",
       "      <th>discovery</th>\n",
       "      <td>75</td>\n",
       "      <td>10500</td>\n",
       "    </tr>\n",
       "    <tr>\n",
       "      <th>freelander</th>\n",
       "      <td>209</td>\n",
       "      <td>3999</td>\n",
       "    </tr>\n",
       "    <tr>\n",
       "      <th>other</th>\n",
       "      <td>15</td>\n",
       "      <td>7500</td>\n",
       "    </tr>\n",
       "    <tr>\n",
       "      <th>range_rover</th>\n",
       "      <td>75</td>\n",
       "      <td>5999</td>\n",
       "    </tr>\n",
       "    <tr>\n",
       "      <th>range_rover_evoque</th>\n",
       "      <td>2</td>\n",
       "      <td>12500</td>\n",
       "    </tr>\n",
       "    <tr>\n",
       "      <th>range_rover_sport</th>\n",
       "      <td>53</td>\n",
       "      <td>15200</td>\n",
       "    </tr>\n",
       "    <tr>\n",
       "      <th>serie_1</th>\n",
       "      <td>1</td>\n",
       "      <td>3800</td>\n",
       "    </tr>\n",
       "    <tr>\n",
       "      <th>serie_2</th>\n",
       "      <td>8</td>\n",
       "      <td>7725</td>\n",
       "    </tr>\n",
       "    <tr>\n",
       "      <th>serie_3</th>\n",
       "      <td>3</td>\n",
       "      <td>12500</td>\n",
       "    </tr>\n",
       "    <tr>\n",
       "      <th>NaN</th>\n",
       "      <td>13</td>\n",
       "      <td>3200</td>\n",
       "    </tr>\n",
       "  </tbody>\n",
       "</table>\n",
       "</div>"
      ],
      "text/plain": [
       "                    count  median_price\n",
       "Model                                  \n",
       "defender               65         12500\n",
       "discovery              75         10500\n",
       "freelander            209          3999\n",
       "other                  15          7500\n",
       "range_rover            75          5999\n",
       "range_rover_evoque      2         12500\n",
       "range_rover_sport      53         15200\n",
       "serie_1                 1          3800\n",
       "serie_2                 8          7725\n",
       "serie_3                 3         12500\n",
       "NaN                    13          3200"
      ]
     },
     "metadata": {},
     "output_type": "display_data"
    },
    {
     "name": "stdout",
     "output_type": "stream",
     "text": [
      "trabant ------------------------------\n"
     ]
    },
    {
     "data": {
      "text/html": [
       "<div>\n",
       "<style scoped>\n",
       "    .dataframe tbody tr th:only-of-type {\n",
       "        vertical-align: middle;\n",
       "    }\n",
       "\n",
       "    .dataframe tbody tr th {\n",
       "        vertical-align: top;\n",
       "    }\n",
       "\n",
       "    .dataframe thead th {\n",
       "        text-align: right;\n",
       "    }\n",
       "</style>\n",
       "<table border=\"1\" class=\"dataframe\">\n",
       "  <thead>\n",
       "    <tr style=\"text-align: right;\">\n",
       "      <th></th>\n",
       "      <th>count</th>\n",
       "      <th>median_price</th>\n",
       "    </tr>\n",
       "    <tr>\n",
       "      <th>Model</th>\n",
       "      <th></th>\n",
       "      <th></th>\n",
       "    </tr>\n",
       "  </thead>\n",
       "  <tbody>\n",
       "    <tr>\n",
       "      <th>601</th>\n",
       "      <td>284</td>\n",
       "      <td>1215</td>\n",
       "    </tr>\n",
       "    <tr>\n",
       "      <th>other</th>\n",
       "      <td>47</td>\n",
       "      <td>1750</td>\n",
       "    </tr>\n",
       "    <tr>\n",
       "      <th>NaN</th>\n",
       "      <td>36</td>\n",
       "      <td>1250</td>\n",
       "    </tr>\n",
       "  </tbody>\n",
       "</table>\n",
       "</div>"
      ],
      "text/plain": [
       "       count  median_price\n",
       "Model                     \n",
       "601      284          1215\n",
       "other     47          1750\n",
       "NaN       36          1250"
      ]
     },
     "metadata": {},
     "output_type": "display_data"
    },
    {
     "name": "stdout",
     "output_type": "stream",
     "text": [
      "lada ------------------------------\n"
     ]
    },
    {
     "data": {
      "text/html": [
       "<div>\n",
       "<style scoped>\n",
       "    .dataframe tbody tr th:only-of-type {\n",
       "        vertical-align: middle;\n",
       "    }\n",
       "\n",
       "    .dataframe tbody tr th {\n",
       "        vertical-align: top;\n",
       "    }\n",
       "\n",
       "    .dataframe thead th {\n",
       "        text-align: right;\n",
       "    }\n",
       "</style>\n",
       "<table border=\"1\" class=\"dataframe\">\n",
       "  <thead>\n",
       "    <tr style=\"text-align: right;\">\n",
       "      <th></th>\n",
       "      <th>count</th>\n",
       "      <th>median_price</th>\n",
       "    </tr>\n",
       "    <tr>\n",
       "      <th>Model</th>\n",
       "      <th></th>\n",
       "      <th></th>\n",
       "    </tr>\n",
       "  </thead>\n",
       "  <tbody>\n",
       "    <tr>\n",
       "      <th>kalina</th>\n",
       "      <td>9</td>\n",
       "      <td>2100</td>\n",
       "    </tr>\n",
       "    <tr>\n",
       "      <th>niva</th>\n",
       "      <td>118</td>\n",
       "      <td>3299</td>\n",
       "    </tr>\n",
       "    <tr>\n",
       "      <th>other</th>\n",
       "      <td>51</td>\n",
       "      <td>2222</td>\n",
       "    </tr>\n",
       "    <tr>\n",
       "      <th>samara</th>\n",
       "      <td>13</td>\n",
       "      <td>300</td>\n",
       "    </tr>\n",
       "    <tr>\n",
       "      <th>NaN</th>\n",
       "      <td>11</td>\n",
       "      <td>1399</td>\n",
       "    </tr>\n",
       "  </tbody>\n",
       "</table>\n",
       "</div>"
      ],
      "text/plain": [
       "        count  median_price\n",
       "Model                      \n",
       "kalina      9          2100\n",
       "niva      118          3299\n",
       "other      51          2222\n",
       "samara     13           300\n",
       "NaN        11          1399"
      ]
     },
     "metadata": {},
     "output_type": "display_data"
    }
   ],
   "source": [
    "# Model \n",
    "for brand in data['Brand'].unique():\n",
    "    print(brand, '-'*30)\n",
    "    display(\n",
    "        data.loc[data['Brand'] == brand].groupby(by='Model', dropna=False)\n",
    "        .agg( count=('Price', 'count'), median_price=('Price', 'median'))\n",
    "    ) \n",
    "data['Model'].fillna('unknown', inplace=True)"
   ]
  },
  {
   "cell_type": "code",
   "execution_count": 65,
   "metadata": {},
   "outputs": [],
   "source": [
    "# пропуски в категориальных полях. заполним все как 'unknown'\n",
    "data.fillna('unknown', inplace=True)\n",
    "#data.dropna(inplace=True)"
   ]
  },
  {
   "cell_type": "markdown",
   "metadata": {},
   "source": [
    "---\n",
    "**Преобразуем форматы данных**"
   ]
  },
  {
   "cell_type": "code",
   "execution_count": 66,
   "metadata": {},
   "outputs": [],
   "source": [
    "# object -> datetime\n",
    "data['DateCreated'] = pd.to_datetime(data['DateCreated'], format='%Y-%m-%d')\n",
    "data['DateCrawled'] = pd.to_datetime(data['DateCrawled'], format='%Y-%m-%d')\n",
    "data['LastSeen'] = pd.to_datetime(data['LastSeen'], format='%Y-%m-%d')"
   ]
  },
  {
   "cell_type": "markdown",
   "metadata": {},
   "source": [
    "---\n",
    "**Устранение аномалий**"
   ]
  },
  {
   "cell_type": "code",
   "execution_count": 67,
   "metadata": {
    "scrolled": true
   },
   "outputs": [
    {
     "data": {
      "text/html": [
       "<div>\n",
       "<style scoped>\n",
       "    .dataframe tbody tr th:only-of-type {\n",
       "        vertical-align: middle;\n",
       "    }\n",
       "\n",
       "    .dataframe tbody tr th {\n",
       "        vertical-align: top;\n",
       "    }\n",
       "\n",
       "    .dataframe thead th {\n",
       "        text-align: right;\n",
       "    }\n",
       "</style>\n",
       "<table border=\"1\" class=\"dataframe\">\n",
       "  <thead>\n",
       "    <tr style=\"text-align: right;\">\n",
       "      <th></th>\n",
       "      <th>count</th>\n",
       "      <th>mean</th>\n",
       "      <th>std</th>\n",
       "      <th>min</th>\n",
       "      <th>25%</th>\n",
       "      <th>50%</th>\n",
       "      <th>75%</th>\n",
       "      <th>max</th>\n",
       "    </tr>\n",
       "  </thead>\n",
       "  <tbody>\n",
       "    <tr>\n",
       "      <th>Price</th>\n",
       "      <td>334536.0</td>\n",
       "      <td>4547.697291</td>\n",
       "      <td>4551.131380</td>\n",
       "      <td>0.0</td>\n",
       "      <td>1150.0</td>\n",
       "      <td>2850.0</td>\n",
       "      <td>6500.0</td>\n",
       "      <td>20000.0</td>\n",
       "    </tr>\n",
       "    <tr>\n",
       "      <th>RegistrationYear</th>\n",
       "      <td>334536.0</td>\n",
       "      <td>2003.379122</td>\n",
       "      <td>32.059005</td>\n",
       "      <td>1000.0</td>\n",
       "      <td>1999.0</td>\n",
       "      <td>2003.0</td>\n",
       "      <td>2008.0</td>\n",
       "      <td>9000.0</td>\n",
       "    </tr>\n",
       "    <tr>\n",
       "      <th>Power</th>\n",
       "      <td>334536.0</td>\n",
       "      <td>114.457544</td>\n",
       "      <td>190.479544</td>\n",
       "      <td>0.0</td>\n",
       "      <td>75.0</td>\n",
       "      <td>105.0</td>\n",
       "      <td>143.0</td>\n",
       "      <td>20000.0</td>\n",
       "    </tr>\n",
       "    <tr>\n",
       "      <th>Kilometer</th>\n",
       "      <td>334536.0</td>\n",
       "      <td>128777.590454</td>\n",
       "      <td>36894.507459</td>\n",
       "      <td>5000.0</td>\n",
       "      <td>125000.0</td>\n",
       "      <td>150000.0</td>\n",
       "      <td>150000.0</td>\n",
       "      <td>150000.0</td>\n",
       "    </tr>\n",
       "    <tr>\n",
       "      <th>RegistrationMonth</th>\n",
       "      <td>334536.0</td>\n",
       "      <td>5.857955</td>\n",
       "      <td>3.655664</td>\n",
       "      <td>0.0</td>\n",
       "      <td>3.0</td>\n",
       "      <td>6.0</td>\n",
       "      <td>9.0</td>\n",
       "      <td>12.0</td>\n",
       "    </tr>\n",
       "    <tr>\n",
       "      <th>NumberOfPictures</th>\n",
       "      <td>334536.0</td>\n",
       "      <td>0.000000</td>\n",
       "      <td>0.000000</td>\n",
       "      <td>0.0</td>\n",
       "      <td>0.0</td>\n",
       "      <td>0.0</td>\n",
       "      <td>0.0</td>\n",
       "      <td>0.0</td>\n",
       "    </tr>\n",
       "    <tr>\n",
       "      <th>PostalCode</th>\n",
       "      <td>334536.0</td>\n",
       "      <td>50637.655367</td>\n",
       "      <td>25802.916894</td>\n",
       "      <td>1067.0</td>\n",
       "      <td>30177.0</td>\n",
       "      <td>49497.0</td>\n",
       "      <td>71254.0</td>\n",
       "      <td>99998.0</td>\n",
       "    </tr>\n",
       "  </tbody>\n",
       "</table>\n",
       "</div>"
      ],
      "text/plain": [
       "                      count           mean           std     min       25%  \\\n",
       "Price              334536.0    4547.697291   4551.131380     0.0    1150.0   \n",
       "RegistrationYear   334536.0    2003.379122     32.059005  1000.0    1999.0   \n",
       "Power              334536.0     114.457544    190.479544     0.0      75.0   \n",
       "Kilometer          334536.0  128777.590454  36894.507459  5000.0  125000.0   \n",
       "RegistrationMonth  334536.0       5.857955      3.655664     0.0       3.0   \n",
       "NumberOfPictures   334536.0       0.000000      0.000000     0.0       0.0   \n",
       "PostalCode         334536.0   50637.655367  25802.916894  1067.0   30177.0   \n",
       "\n",
       "                        50%       75%       max  \n",
       "Price                2850.0    6500.0   20000.0  \n",
       "RegistrationYear     2003.0    2008.0    9000.0  \n",
       "Power                 105.0     143.0   20000.0  \n",
       "Kilometer          150000.0  150000.0  150000.0  \n",
       "RegistrationMonth       6.0       9.0      12.0  \n",
       "NumberOfPictures        0.0       0.0       0.0  \n",
       "PostalCode          49497.0   71254.0   99998.0  "
      ]
     },
     "metadata": {},
     "output_type": "display_data"
    }
   ],
   "source": [
    "# отобразим раскладку по всем столбцам\n",
    "\n",
    "display(data.describe().T)"
   ]
  },
  {
   "cell_type": "markdown",
   "metadata": {},
   "source": [
    "Аномалии:\n",
    "- Price - есть нулевые цены\n",
    "- RegistrationYear - есть нереально маленькие и большие года выпуска\n",
    "- Power - разброс мощности от 0 до 20000\n",
    "- RegistrationMonth - есть нулевые месяца"
   ]
  },
  {
   "cell_type": "markdown",
   "metadata": {},
   "source": [
    "---\n",
    "**Price**"
   ]
  },
  {
   "cell_type": "code",
   "execution_count": 68,
   "metadata": {},
   "outputs": [
    {
     "data": {
      "text/plain": [
       "<AxesSubplot:ylabel='Frequency'>"
      ]
     },
     "execution_count": 68,
     "metadata": {},
     "output_type": "execute_result"
    },
    {
     "data": {
      "image/png": "[encoded data removed]",
      "text/plain": [
       "<Figure size 432x288 with 1 Axes>"
      ]
     },
     "metadata": {
      "needs_background": "light"
     },
     "output_type": "display_data"
    }
   ],
   "source": [
    "# отобразим на графике самые низкие цены на авто\n",
    "data.query('Price<500')['Price'].plot(kind='hist', bins=50)"
   ]
  },
  {
   "cell_type": "code",
   "execution_count": 69,
   "metadata": {},
   "outputs": [],
   "source": [
    "# удалим цены <50 EUR  \n",
    "data =   data.query('Price>=50') "
   ]
  },
  {
   "cell_type": "markdown",
   "metadata": {},
   "source": [
    "---\n",
    "**RegistrationYear** \n",
    "\n",
    "В выборке встречаются заведомо некоррректные значения годов регистрации авто. Удалим такие объявления из выборки."
   ]
  },
  {
   "cell_type": "code",
   "execution_count": 70,
   "metadata": {},
   "outputs": [
    {
     "data": {
      "text/plain": [
       "2016"
      ]
     },
     "execution_count": 70,
     "metadata": {},
     "output_type": "execute_result"
    }
   ],
   "source": [
    "# найдем крайний год создания объявлений. \n",
    "# Авто не могло быть зарегистрировано позднее этого года\n",
    "last_year = data['DateCreated'].dt.year.max()\n",
    "last_year"
   ]
  },
  {
   "cell_type": "code",
   "execution_count": 71,
   "metadata": {},
   "outputs": [
    {
     "data": {
      "text/plain": [
       "<AxesSubplot:ylabel='Frequency'>"
      ]
     },
     "execution_count": 71,
     "metadata": {},
     "output_type": "execute_result"
    },
    {
     "data": {
      "image/png": "[encoded data removed]",
      "text/plain": [
       "<Figure size 432x288 with 1 Axes>"
      ]
     },
     "metadata": {
      "needs_background": "light"
     },
     "output_type": "display_data"
    }
   ],
   "source": [
    "data['RegistrationYear'].plot(kind='hist', bins=2000, xlim=(1900,last_year))"
   ]
  },
  {
   "cell_type": "code",
   "execution_count": 72,
   "metadata": {},
   "outputs": [],
   "source": [
    "# удалим объявления с завышенным годом выпуска\n",
    "data = data.loc[data['RegistrationYear']<= last_year]\n",
    "# удалим объявления с заниженным годом выпуска\n",
    "data = data.loc[data['RegistrationYear']>1950]"
   ]
  },
  {
   "cell_type": "markdown",
   "metadata": {},
   "source": [
    "---\n",
    "**Power**"
   ]
  },
  {
   "cell_type": "code",
   "execution_count": 73,
   "metadata": {},
   "outputs": [
    {
     "data": {
      "text/plain": [
       "<AxesSubplot:ylabel='Frequency'>"
      ]
     },
     "execution_count": 73,
     "metadata": {},
     "output_type": "execute_result"
    },
    {
     "data": {
      "image/png": "[encoded data removed]",
      "text/plain": [
       "<Figure size 432x288 with 1 Axes>"
      ]
     },
     "metadata": {
      "needs_background": "light"
     },
     "output_type": "display_data"
    }
   ],
   "source": [
    "data['Power'].plot(kind='hist', bins=100)"
   ]
  },
  {
   "cell_type": "code",
   "execution_count": 74,
   "metadata": {},
   "outputs": [],
   "source": [
    "# удалим объявления с завышенной мощностью\n",
    "data = data.loc[data['Power']<= 500]"
   ]
  },
  {
   "cell_type": "code",
   "execution_count": 75,
   "metadata": {},
   "outputs": [
    {
     "name": "stdout",
     "output_type": "stream",
     "text": [
      "107.0\n"
     ]
    },
    {
     "data": {
      "text/plain": [
       "<AxesSubplot:ylabel='Frequency'>"
      ]
     },
     "execution_count": 75,
     "metadata": {},
     "output_type": "execute_result"
    },
    {
     "data": {
      "image/png": "[encoded data removed]",
      "text/plain": [
       "<Figure size 432x288 with 1 Axes>"
      ]
     },
     "metadata": {
      "needs_background": "light"
     },
     "output_type": "display_data"
    }
   ],
   "source": [
    "# заполним нулевые значения мощности медианным значением мощности\n",
    "median_power = data['Power'].median()\n",
    "print(median_power)\n",
    "data.loc[data['Power']<10, 'Power'] = median_power\n",
    "data['Power'].plot(kind='hist', bins=100)"
   ]
  },
  {
   "cell_type": "markdown",
   "metadata": {},
   "source": [
    "---\n",
    "**RegistrationMonth**\n",
    "\n",
    "В поле RegistrationMonth встречаются нулевые значения. Видимо, они не указаны пользователем. Заменим 0 на 6 (середина года)"
   ]
  },
  {
   "cell_type": "code",
   "execution_count": 76,
   "metadata": {},
   "outputs": [
    {
     "data": {
      "text/plain": [
       "3     31793\n",
       "6     28735\n",
       "4     26873\n",
       "5     26737\n",
       "7     24990\n",
       "10    24025\n",
       "12    22202\n",
       "0     22195\n",
       "9     21976\n",
       "11    21964\n",
       "1     21092\n",
       "8     20690\n",
       "2     19539\n",
       "Name: RegistrationMonth, dtype: int64"
      ]
     },
     "execution_count": 76,
     "metadata": {},
     "output_type": "execute_result"
    }
   ],
   "source": [
    "data['RegistrationMonth'].value_counts()"
   ]
  },
  {
   "cell_type": "code",
   "execution_count": 77,
   "metadata": {},
   "outputs": [],
   "source": [
    "data['RegistrationMonth'] = data['RegistrationMonth'].replace(0,6)"
   ]
  },
  {
   "cell_type": "markdown",
   "metadata": {},
   "source": [
    "---\n",
    "**Добавим вычисляемую переменную возраста автомобиля**\n",
    "\n",
    "Возраст авто - один из основополагающих параметров при определении стоимости продажи. В исходных данных такого параметра нет, потому вычислим его в отдельном столбце."
   ]
  },
  {
   "cell_type": "code",
   "execution_count": 78,
   "metadata": {},
   "outputs": [],
   "source": [
    "# создадим поле datetime с годом и месяцем регистрации авто\n",
    "data['DateRegistration'] = pd.to_datetime({\n",
    "    'year': data['RegistrationYear'],\n",
    "    'month': data['RegistrationMonth'],\n",
    "    'day': 1})"
   ]
  },
  {
   "cell_type": "code",
   "execution_count": 79,
   "metadata": {},
   "outputs": [],
   "source": [
    "# посчитаем возраст авто на момент создания объявления \n",
    "data['AgeYears'] = data['DateCreated'] - data['DateRegistration']\n",
    "data['AgeYears'] = (data['AgeYears'] / np.timedelta64(1,'Y')).astype('int')"
   ]
  },
  {
   "cell_type": "code",
   "execution_count": 80,
   "metadata": {},
   "outputs": [
    {
     "data": {
      "text/html": [
       "<div>\n",
       "<style scoped>\n",
       "    .dataframe tbody tr th:only-of-type {\n",
       "        vertical-align: middle;\n",
       "    }\n",
       "\n",
       "    .dataframe tbody tr th {\n",
       "        vertical-align: top;\n",
       "    }\n",
       "\n",
       "    .dataframe thead th {\n",
       "        text-align: right;\n",
       "    }\n",
       "</style>\n",
       "<table border=\"1\" class=\"dataframe\">\n",
       "  <thead>\n",
       "    <tr style=\"text-align: right;\">\n",
       "      <th></th>\n",
       "      <th>DateRegistration</th>\n",
       "      <th>DateCreated</th>\n",
       "      <th>AgeYears</th>\n",
       "    </tr>\n",
       "  </thead>\n",
       "  <tbody>\n",
       "    <tr>\n",
       "      <th>0</th>\n",
       "      <td>1993-06-01</td>\n",
       "      <td>2016-03-24</td>\n",
       "      <td>22</td>\n",
       "    </tr>\n",
       "    <tr>\n",
       "      <th>1</th>\n",
       "      <td>2011-05-01</td>\n",
       "      <td>2016-03-24</td>\n",
       "      <td>4</td>\n",
       "    </tr>\n",
       "    <tr>\n",
       "      <th>2</th>\n",
       "      <td>2004-08-01</td>\n",
       "      <td>2016-03-14</td>\n",
       "      <td>11</td>\n",
       "    </tr>\n",
       "    <tr>\n",
       "      <th>3</th>\n",
       "      <td>2001-06-01</td>\n",
       "      <td>2016-03-17</td>\n",
       "      <td>14</td>\n",
       "    </tr>\n",
       "    <tr>\n",
       "      <th>4</th>\n",
       "      <td>2008-07-01</td>\n",
       "      <td>2016-03-31</td>\n",
       "      <td>7</td>\n",
       "    </tr>\n",
       "  </tbody>\n",
       "</table>\n",
       "</div>"
      ],
      "text/plain": [
       "  DateRegistration DateCreated  AgeYears\n",
       "0       1993-06-01  2016-03-24        22\n",
       "1       2011-05-01  2016-03-24         4\n",
       "2       2004-08-01  2016-03-14        11\n",
       "3       2001-06-01  2016-03-17        14\n",
       "4       2008-07-01  2016-03-31         7"
      ]
     },
     "execution_count": 80,
     "metadata": {},
     "output_type": "execute_result"
    }
   ],
   "source": [
    "data[['DateRegistration', 'DateCreated', 'AgeYears']].head()"
   ]
  },
  {
   "cell_type": "markdown",
   "metadata": {},
   "source": [
    "---\n",
    "**Удалим лишние колонки**\n",
    "\n",
    "Ряд колонок не потребуется для целей последующего обучения модели расчета продажной цены."
   ]
  },
  {
   "cell_type": "code",
   "execution_count": 81,
   "metadata": {},
   "outputs": [],
   "source": [
    "data = data.drop(columns=[\n",
    "    'DateCrawled', 'RegistrationYear', 'RegistrationMonth', \n",
    "    'DateCreated', 'NumberOfPictures', 'PostalCode',\n",
    "    'LastSeen', 'DateRegistration'])"
   ]
  },
  {
   "cell_type": "code",
   "execution_count": 82,
   "metadata": {},
   "outputs": [
    {
     "data": {
      "text/plain": [
       "(312811, 10)"
      ]
     },
     "execution_count": 82,
     "metadata": {},
     "output_type": "execute_result"
    }
   ],
   "source": [
    "data.shape"
   ]
  },
  {
   "cell_type": "code",
   "execution_count": 83,
   "metadata": {},
   "outputs": [
    {
     "name": "stdout",
     "output_type": "stream",
     "text": [
      "<class 'pandas.core.frame.DataFrame'>\n",
      "Int64Index: 312811 entries, 0 to 354368\n",
      "Data columns (total 10 columns):\n",
      " #   Column       Non-Null Count   Dtype  \n",
      "---  ------       --------------   -----  \n",
      " 0   Price        312811 non-null  int64  \n",
      " 1   VehicleType  312811 non-null  object \n",
      " 2   Gearbox      312811 non-null  object \n",
      " 3   Power        312811 non-null  float64\n",
      " 4   Model        312811 non-null  object \n",
      " 5   Kilometer    312811 non-null  int64  \n",
      " 6   FuelType     312811 non-null  object \n",
      " 7   Brand        312811 non-null  object \n",
      " 8   Repaired     312811 non-null  object \n",
      " 9   AgeYears     312811 non-null  int64  \n",
      "dtypes: float64(1), int64(3), object(6)\n",
      "memory usage: 26.3+ MB\n"
     ]
    }
   ],
   "source": [
    "data.info()"
   ]
  },
  {
   "cell_type": "markdown",
   "metadata": {},
   "source": [
    "---\n",
    "**Проверка на мультиколлинеарность**"
   ]
  },
  {
   "cell_type": "code",
   "execution_count": 84,
   "metadata": {},
   "outputs": [
    {
     "data": {
      "text/plain": [
       "<AxesSubplot:>"
      ]
     },
     "execution_count": 84,
     "metadata": {},
     "output_type": "execute_result"
    },
    {
     "data": {
      "image/png": "[encoded data removed]",
      "text/plain": [
       "<Figure size 432x288 with 2 Axes>"
      ]
     },
     "metadata": {
      "needs_background": "light"
     },
     "output_type": "display_data"
    }
   ],
   "source": [
    "sns.heatmap(data[['Power', 'Kilometer', 'AgeYears']].corr(), annot=True, fmt='.1f')"
   ]
  },
  {
   "cell_type": "markdown",
   "metadata": {},
   "source": [
    "Числовые признаки слабо коррелируют между собой, мультиколлинеарности не обнаружено."
   ]
  },
  {
   "cell_type": "code",
   "execution_count": 85,
   "metadata": {},
   "outputs": [
    {
     "name": "stdout",
     "output_type": "stream",
     "text": [
      "Размер изначальной выборки (354369, 16)\n",
      "Размер обработанной выборки (312811, 10)\n"
     ]
    }
   ],
   "source": [
    "print('Размер изначальной выборки', data_raw_shape)\n",
    "print('Размер обработанной выборки', data.shape)"
   ]
  },
  {
   "cell_type": "markdown",
   "metadata": {},
   "source": [
    "---\n",
    "**Промежуточные выводы**\n",
    "- данные импортировались без проблем\n",
    "- типы данных, за исключением дат, соответствуют самим данным\n",
    "- в выборке было большое количество пропусков, но только в категориальных переменных\n",
    "- все пропуски были заменены либо удалены\n",
    "- встретился ряд аномалий\n",
    "    - год регистрации - ошибочные года были удалены\n",
    "    - мощность - ошибочная мощность была заменена на медианное значение\n",
    "    - цена - нулевые цены были удалены\n",
    "    - нулевые месяцы регистрации - были заменены на 6 (середина года)\n",
    "- был расчитан возраст авто на момент подачи объявления\n",
    "- проверка на мультиколлинеарность числовых признаков не показала проблем\n",
    "- в результате обработки исходной выборки было удалено 11.7% строк"
   ]
  },
  {
   "cell_type": "markdown",
   "metadata": {},
   "source": [
    "## Обучение моделей"
   ]
  },
  {
   "cell_type": "markdown",
   "metadata": {},
   "source": [
    "**Функция метрики RMSE**\n",
    "\n",
    "Согласно задания, для оценки качества моделей следует применять метрику RMSE. Добавим функцию для ее расчета и последующего использования в GridSearch."
   ]
  },
  {
   "cell_type": "code",
   "execution_count": 86,
   "metadata": {},
   "outputs": [],
   "source": [
    "def rmse(real, predictions):\n",
    "    return mean_squared_error(real, predictions) ** 0.5"
   ]
  },
  {
   "cell_type": "markdown",
   "metadata": {},
   "source": [
    "**Разбиение на выборки**"
   ]
  },
  {
   "cell_type": "code",
   "execution_count": 87,
   "metadata": {},
   "outputs": [],
   "source": [
    "target = data['Price']\n",
    "features = data.drop('Price', axis=1)"
   ]
  },
  {
   "cell_type": "code",
   "execution_count": 88,
   "metadata": {},
   "outputs": [],
   "source": [
    "# разделяем исходные данные на обучающую(60%) валидационную (20%) и тестовую(20%) выборки\n",
    "\n",
    "# первым шагом отделяем тестовые данные\n",
    "features_train, features_test, target_train, target_test = train_test_split(\n",
    "   features, target, test_size=0.2, random_state=0)\n",
    "\n",
    "# вторым шагом отделяем валидационные данные\n",
    "features_train, features_valid, target_train, target_valid = train_test_split(\n",
    "   features_train, target_train, test_size=0.25, random_state=0)"
   ]
  },
  {
   "cell_type": "code",
   "execution_count": 89,
   "metadata": {},
   "outputs": [
    {
     "name": "stdout",
     "output_type": "stream",
     "text": [
      "(187686, 9) (62562, 9) (62563, 9)\n"
     ]
    }
   ],
   "source": [
    "print(features_train.shape, features_valid.shape, features_test.shape)"
   ]
  },
  {
   "cell_type": "code",
   "execution_count": 90,
   "metadata": {},
   "outputs": [
    {
     "data": {
      "text/html": [
       "<div>\n",
       "<style scoped>\n",
       "    .dataframe tbody tr th:only-of-type {\n",
       "        vertical-align: middle;\n",
       "    }\n",
       "\n",
       "    .dataframe tbody tr th {\n",
       "        vertical-align: top;\n",
       "    }\n",
       "\n",
       "    .dataframe thead th {\n",
       "        text-align: right;\n",
       "    }\n",
       "</style>\n",
       "<table border=\"1\" class=\"dataframe\">\n",
       "  <thead>\n",
       "    <tr style=\"text-align: right;\">\n",
       "      <th></th>\n",
       "      <th>VehicleType</th>\n",
       "      <th>Gearbox</th>\n",
       "      <th>Power</th>\n",
       "      <th>Model</th>\n",
       "      <th>Kilometer</th>\n",
       "      <th>FuelType</th>\n",
       "      <th>Brand</th>\n",
       "      <th>Repaired</th>\n",
       "      <th>AgeYears</th>\n",
       "    </tr>\n",
       "  </thead>\n",
       "  <tbody>\n",
       "    <tr>\n",
       "      <th>19187</th>\n",
       "      <td>sedan</td>\n",
       "      <td>manual</td>\n",
       "      <td>131.0</td>\n",
       "      <td>a3</td>\n",
       "      <td>150000</td>\n",
       "      <td>gasoline</td>\n",
       "      <td>audi</td>\n",
       "      <td>no</td>\n",
       "      <td>14</td>\n",
       "    </tr>\n",
       "    <tr>\n",
       "      <th>39329</th>\n",
       "      <td>wagon</td>\n",
       "      <td>auto</td>\n",
       "      <td>90.0</td>\n",
       "      <td>golf</td>\n",
       "      <td>150000</td>\n",
       "      <td>gasoline</td>\n",
       "      <td>volkswagen</td>\n",
       "      <td>no</td>\n",
       "      <td>19</td>\n",
       "    </tr>\n",
       "    <tr>\n",
       "      <th>268100</th>\n",
       "      <td>sedan</td>\n",
       "      <td>auto</td>\n",
       "      <td>75.0</td>\n",
       "      <td>astra</td>\n",
       "      <td>150000</td>\n",
       "      <td>petrol</td>\n",
       "      <td>opel</td>\n",
       "      <td>unknown</td>\n",
       "      <td>20</td>\n",
       "    </tr>\n",
       "    <tr>\n",
       "      <th>100653</th>\n",
       "      <td>small</td>\n",
       "      <td>manual</td>\n",
       "      <td>65.0</td>\n",
       "      <td>picanto</td>\n",
       "      <td>125000</td>\n",
       "      <td>lpg</td>\n",
       "      <td>kia</td>\n",
       "      <td>no</td>\n",
       "      <td>9</td>\n",
       "    </tr>\n",
       "    <tr>\n",
       "      <th>136660</th>\n",
       "      <td>small</td>\n",
       "      <td>manual</td>\n",
       "      <td>101.0</td>\n",
       "      <td>polo</td>\n",
       "      <td>150000</td>\n",
       "      <td>gasoline</td>\n",
       "      <td>volkswagen</td>\n",
       "      <td>unknown</td>\n",
       "      <td>10</td>\n",
       "    </tr>\n",
       "  </tbody>\n",
       "</table>\n",
       "</div>"
      ],
      "text/plain": [
       "       VehicleType Gearbox  Power    Model  Kilometer  FuelType       Brand  \\\n",
       "19187        sedan  manual  131.0       a3     150000  gasoline        audi   \n",
       "39329        wagon    auto   90.0     golf     150000  gasoline  volkswagen   \n",
       "268100       sedan    auto   75.0    astra     150000    petrol        opel   \n",
       "100653       small  manual   65.0  picanto     125000       lpg         kia   \n",
       "136660       small  manual  101.0     polo     150000  gasoline  volkswagen   \n",
       "\n",
       "       Repaired  AgeYears  \n",
       "19187        no        14  \n",
       "39329        no        19  \n",
       "268100  unknown        20  \n",
       "100653       no         9  \n",
       "136660  unknown        10  "
      ]
     },
     "execution_count": 90,
     "metadata": {},
     "output_type": "execute_result"
    }
   ],
   "source": [
    "features_train.head()"
   ]
  },
  {
   "cell_type": "markdown",
   "metadata": {},
   "source": [
    "---\n",
    "**Кодирование категориальных переменных методом OHE**"
   ]
  },
  {
   "cell_type": "code",
   "execution_count": 91,
   "metadata": {},
   "outputs": [],
   "source": [
    "categories = ['VehicleType','Gearbox','Model','FuelType','Brand','Repaired']"
   ]
  },
  {
   "cell_type": "code",
   "execution_count": 92,
   "metadata": {},
   "outputs": [
    {
     "name": "stdout",
     "output_type": "stream",
     "text": [
      "(187686, 315)\n",
      "(62562, 315)\n",
      "(62563, 315)\n"
     ]
    }
   ],
   "source": [
    "ohe = OneHotEncoder(handle_unknown='ignore', sparse=False)\n",
    "\n",
    "# Apply one-hot encoder to each column with categorical data\n",
    "features_train_ohe = pd.DataFrame(ohe.fit_transform(features_train[categories]))\n",
    "features_valid_ohe = pd.DataFrame(ohe.transform(features_valid[categories]))\n",
    "features_test_ohe = pd.DataFrame(ohe.transform(features_test[categories]))\n",
    "\n",
    "# One-hot encoding removed index; put it back\n",
    "features_train_ohe.index = features_train.index\n",
    "features_valid_ohe.index = features_valid.index\n",
    "features_test_ohe.index = features_test.index\n",
    "\n",
    "# Remove categorical columns (will replace with one-hot encoding)\n",
    "numeric_train = features_train.drop(categories, axis=1)\n",
    "numeric_valid = features_valid.drop(categories, axis=1)\n",
    "numeric_test = features_test.drop(categories, axis=1)\n",
    "\n",
    "# Add one-hot encoded columns to numerical features\n",
    "features_train_ohe = pd.concat([numeric_train, features_train_ohe], axis=1)\n",
    "features_valid_ohe = pd.concat([numeric_valid, features_valid_ohe], axis=1)\n",
    "features_test_ohe = pd.concat([numeric_test, features_test_ohe], axis=1)\n",
    "\n",
    "print(features_train_ohe.shape)\n",
    "print(features_valid_ohe.shape)\n",
    "print(features_test_ohe.shape)"
   ]
  },
  {
   "cell_type": "markdown",
   "metadata": {},
   "source": [
    "---\n",
    "**Кодирование категориальных переменных методом OrdinalEncoding**"
   ]
  },
  {
   "cell_type": "code",
   "execution_count": 93,
   "metadata": {},
   "outputs": [
    {
     "name": "stdout",
     "output_type": "stream",
     "text": [
      "(187686, 9)\n",
      "(62562, 9)\n",
      "(62563, 9)\n"
     ]
    }
   ],
   "source": [
    "enc = OrdinalEncoder()#handle_unknown='use_encoded_value', unknown_value=-1)\n",
    "\n",
    "features_train_encoded = features_train\n",
    "features_valid_encoded = features_valid\n",
    "features_test_encoded = features_test\n",
    "\n",
    "features_train_encoded[categories] = enc.fit_transform(features_train[categories])\n",
    "features_valid_encoded[categories] = enc.transform(features_valid[categories])\n",
    "features_test_encoded[categories] = enc.transform(features_test[categories])\n",
    "\n",
    "print(features_train_encoded.shape)\n",
    "print(features_valid_encoded.shape)\n",
    "print(features_test_encoded.shape)"
   ]
  },
  {
   "cell_type": "code",
   "execution_count": 94,
   "metadata": {},
   "outputs": [
    {
     "data": {
      "text/html": [
       "<div>\n",
       "<style scoped>\n",
       "    .dataframe tbody tr th:only-of-type {\n",
       "        vertical-align: middle;\n",
       "    }\n",
       "\n",
       "    .dataframe tbody tr th {\n",
       "        vertical-align: top;\n",
       "    }\n",
       "\n",
       "    .dataframe thead th {\n",
       "        text-align: right;\n",
       "    }\n",
       "</style>\n",
       "<table border=\"1\" class=\"dataframe\">\n",
       "  <thead>\n",
       "    <tr style=\"text-align: right;\">\n",
       "      <th></th>\n",
       "      <th>VehicleType</th>\n",
       "      <th>Gearbox</th>\n",
       "      <th>Power</th>\n",
       "      <th>Model</th>\n",
       "      <th>Kilometer</th>\n",
       "      <th>FuelType</th>\n",
       "      <th>Brand</th>\n",
       "      <th>Repaired</th>\n",
       "      <th>AgeYears</th>\n",
       "    </tr>\n",
       "  </thead>\n",
       "  <tbody>\n",
       "    <tr>\n",
       "      <th>19187</th>\n",
       "      <td>4.0</td>\n",
       "      <td>1.0</td>\n",
       "      <td>131.0</td>\n",
       "      <td>28.0</td>\n",
       "      <td>150000</td>\n",
       "      <td>2.0</td>\n",
       "      <td>1.0</td>\n",
       "      <td>0.0</td>\n",
       "      <td>14</td>\n",
       "    </tr>\n",
       "    <tr>\n",
       "      <th>39329</th>\n",
       "      <td>8.0</td>\n",
       "      <td>0.0</td>\n",
       "      <td>90.0</td>\n",
       "      <td>116.0</td>\n",
       "      <td>150000</td>\n",
       "      <td>2.0</td>\n",
       "      <td>38.0</td>\n",
       "      <td>0.0</td>\n",
       "      <td>19</td>\n",
       "    </tr>\n",
       "    <tr>\n",
       "      <th>268100</th>\n",
       "      <td>4.0</td>\n",
       "      <td>0.0</td>\n",
       "      <td>75.0</td>\n",
       "      <td>42.0</td>\n",
       "      <td>150000</td>\n",
       "      <td>6.0</td>\n",
       "      <td>24.0</td>\n",
       "      <td>1.0</td>\n",
       "      <td>20</td>\n",
       "    </tr>\n",
       "    <tr>\n",
       "      <th>100653</th>\n",
       "      <td>5.0</td>\n",
       "      <td>1.0</td>\n",
       "      <td>65.0</td>\n",
       "      <td>172.0</td>\n",
       "      <td>125000</td>\n",
       "      <td>4.0</td>\n",
       "      <td>15.0</td>\n",
       "      <td>0.0</td>\n",
       "      <td>9</td>\n",
       "    </tr>\n",
       "    <tr>\n",
       "      <th>136660</th>\n",
       "      <td>5.0</td>\n",
       "      <td>1.0</td>\n",
       "      <td>101.0</td>\n",
       "      <td>173.0</td>\n",
       "      <td>150000</td>\n",
       "      <td>2.0</td>\n",
       "      <td>38.0</td>\n",
       "      <td>1.0</td>\n",
       "      <td>10</td>\n",
       "    </tr>\n",
       "  </tbody>\n",
       "</table>\n",
       "</div>"
      ],
      "text/plain": [
       "        VehicleType  Gearbox  Power  Model  Kilometer  FuelType  Brand  \\\n",
       "19187           4.0      1.0  131.0   28.0     150000       2.0    1.0   \n",
       "39329           8.0      0.0   90.0  116.0     150000       2.0   38.0   \n",
       "268100          4.0      0.0   75.0   42.0     150000       6.0   24.0   \n",
       "100653          5.0      1.0   65.0  172.0     125000       4.0   15.0   \n",
       "136660          5.0      1.0  101.0  173.0     150000       2.0   38.0   \n",
       "\n",
       "        Repaired  AgeYears  \n",
       "19187        0.0        14  \n",
       "39329        0.0        19  \n",
       "268100       1.0        20  \n",
       "100653       0.0         9  \n",
       "136660       1.0        10  "
      ]
     },
     "metadata": {},
     "output_type": "display_data"
    },
    {
     "data": {
      "text/html": [
       "<div>\n",
       "<style scoped>\n",
       "    .dataframe tbody tr th:only-of-type {\n",
       "        vertical-align: middle;\n",
       "    }\n",
       "\n",
       "    .dataframe tbody tr th {\n",
       "        vertical-align: top;\n",
       "    }\n",
       "\n",
       "    .dataframe thead th {\n",
       "        text-align: right;\n",
       "    }\n",
       "</style>\n",
       "<table border=\"1\" class=\"dataframe\">\n",
       "  <thead>\n",
       "    <tr style=\"text-align: right;\">\n",
       "      <th></th>\n",
       "      <th>VehicleType</th>\n",
       "      <th>Gearbox</th>\n",
       "      <th>Power</th>\n",
       "      <th>Model</th>\n",
       "      <th>Kilometer</th>\n",
       "      <th>FuelType</th>\n",
       "      <th>Brand</th>\n",
       "      <th>Repaired</th>\n",
       "      <th>AgeYears</th>\n",
       "    </tr>\n",
       "  </thead>\n",
       "  <tbody>\n",
       "    <tr>\n",
       "      <th>297096</th>\n",
       "      <td>1.0</td>\n",
       "      <td>1.0</td>\n",
       "      <td>150.0</td>\n",
       "      <td>249.0</td>\n",
       "      <td>125000</td>\n",
       "      <td>6.0</td>\n",
       "      <td>2.0</td>\n",
       "      <td>0.0</td>\n",
       "      <td>15</td>\n",
       "    </tr>\n",
       "    <tr>\n",
       "      <th>109846</th>\n",
       "      <td>1.0</td>\n",
       "      <td>1.0</td>\n",
       "      <td>116.0</td>\n",
       "      <td>42.0</td>\n",
       "      <td>50000</td>\n",
       "      <td>6.0</td>\n",
       "      <td>24.0</td>\n",
       "      <td>0.0</td>\n",
       "      <td>8</td>\n",
       "    </tr>\n",
       "    <tr>\n",
       "      <th>222881</th>\n",
       "      <td>5.0</td>\n",
       "      <td>1.0</td>\n",
       "      <td>50.0</td>\n",
       "      <td>102.0</td>\n",
       "      <td>150000</td>\n",
       "      <td>6.0</td>\n",
       "      <td>10.0</td>\n",
       "      <td>0.0</td>\n",
       "      <td>15</td>\n",
       "    </tr>\n",
       "    <tr>\n",
       "      <th>258765</th>\n",
       "      <td>5.0</td>\n",
       "      <td>1.0</td>\n",
       "      <td>75.0</td>\n",
       "      <td>228.0</td>\n",
       "      <td>150000</td>\n",
       "      <td>6.0</td>\n",
       "      <td>38.0</td>\n",
       "      <td>1.0</td>\n",
       "      <td>13</td>\n",
       "    </tr>\n",
       "    <tr>\n",
       "      <th>254927</th>\n",
       "      <td>7.0</td>\n",
       "      <td>0.0</td>\n",
       "      <td>107.0</td>\n",
       "      <td>228.0</td>\n",
       "      <td>150000</td>\n",
       "      <td>6.0</td>\n",
       "      <td>32.0</td>\n",
       "      <td>1.0</td>\n",
       "      <td>0</td>\n",
       "    </tr>\n",
       "  </tbody>\n",
       "</table>\n",
       "</div>"
      ],
      "text/plain": [
       "        VehicleType  Gearbox  Power  Model  Kilometer  FuelType  Brand  \\\n",
       "297096          1.0      1.0  150.0  249.0     125000       6.0    2.0   \n",
       "109846          1.0      1.0  116.0   42.0      50000       6.0   24.0   \n",
       "222881          5.0      1.0   50.0  102.0     150000       6.0   10.0   \n",
       "258765          5.0      1.0   75.0  228.0     150000       6.0   38.0   \n",
       "254927          7.0      0.0  107.0  228.0     150000       6.0   32.0   \n",
       "\n",
       "        Repaired  AgeYears  \n",
       "297096       0.0        15  \n",
       "109846       0.0         8  \n",
       "222881       0.0        15  \n",
       "258765       1.0        13  \n",
       "254927       1.0         0  "
      ]
     },
     "metadata": {},
     "output_type": "display_data"
    },
    {
     "data": {
      "text/html": [
       "<div>\n",
       "<style scoped>\n",
       "    .dataframe tbody tr th:only-of-type {\n",
       "        vertical-align: middle;\n",
       "    }\n",
       "\n",
       "    .dataframe tbody tr th {\n",
       "        vertical-align: top;\n",
       "    }\n",
       "\n",
       "    .dataframe thead th {\n",
       "        text-align: right;\n",
       "    }\n",
       "</style>\n",
       "<table border=\"1\" class=\"dataframe\">\n",
       "  <thead>\n",
       "    <tr style=\"text-align: right;\">\n",
       "      <th></th>\n",
       "      <th>VehicleType</th>\n",
       "      <th>Gearbox</th>\n",
       "      <th>Power</th>\n",
       "      <th>Model</th>\n",
       "      <th>Kilometer</th>\n",
       "      <th>FuelType</th>\n",
       "      <th>Brand</th>\n",
       "      <th>Repaired</th>\n",
       "      <th>AgeYears</th>\n",
       "    </tr>\n",
       "  </thead>\n",
       "  <tbody>\n",
       "    <tr>\n",
       "      <th>6979</th>\n",
       "      <td>6.0</td>\n",
       "      <td>0.0</td>\n",
       "      <td>200.0</td>\n",
       "      <td>228.0</td>\n",
       "      <td>150000</td>\n",
       "      <td>2.0</td>\n",
       "      <td>20.0</td>\n",
       "      <td>0.0</td>\n",
       "      <td>8</td>\n",
       "    </tr>\n",
       "    <tr>\n",
       "      <th>282879</th>\n",
       "      <td>4.0</td>\n",
       "      <td>1.0</td>\n",
       "      <td>120.0</td>\n",
       "      <td>136.0</td>\n",
       "      <td>150000</td>\n",
       "      <td>6.0</td>\n",
       "      <td>27.0</td>\n",
       "      <td>1.0</td>\n",
       "      <td>11</td>\n",
       "    </tr>\n",
       "    <tr>\n",
       "      <th>149167</th>\n",
       "      <td>8.0</td>\n",
       "      <td>1.0</td>\n",
       "      <td>90.0</td>\n",
       "      <td>170.0</td>\n",
       "      <td>150000</td>\n",
       "      <td>6.0</td>\n",
       "      <td>38.0</td>\n",
       "      <td>1.0</td>\n",
       "      <td>22</td>\n",
       "    </tr>\n",
       "    <tr>\n",
       "      <th>322589</th>\n",
       "      <td>2.0</td>\n",
       "      <td>1.0</td>\n",
       "      <td>158.0</td>\n",
       "      <td>166.0</td>\n",
       "      <td>80000</td>\n",
       "      <td>6.0</td>\n",
       "      <td>0.0</td>\n",
       "      <td>2.0</td>\n",
       "      <td>30</td>\n",
       "    </tr>\n",
       "    <tr>\n",
       "      <th>203825</th>\n",
       "      <td>1.0</td>\n",
       "      <td>1.0</td>\n",
       "      <td>231.0</td>\n",
       "      <td>249.0</td>\n",
       "      <td>125000</td>\n",
       "      <td>6.0</td>\n",
       "      <td>2.0</td>\n",
       "      <td>0.0</td>\n",
       "      <td>10</td>\n",
       "    </tr>\n",
       "  </tbody>\n",
       "</table>\n",
       "</div>"
      ],
      "text/plain": [
       "        VehicleType  Gearbox  Power  Model  Kilometer  FuelType  Brand  \\\n",
       "6979            6.0      0.0  200.0  228.0     150000       2.0   20.0   \n",
       "282879          4.0      1.0  120.0  136.0     150000       6.0   27.0   \n",
       "149167          8.0      1.0   90.0  170.0     150000       6.0   38.0   \n",
       "322589          2.0      1.0  158.0  166.0      80000       6.0    0.0   \n",
       "203825          1.0      1.0  231.0  249.0     125000       6.0    2.0   \n",
       "\n",
       "        Repaired  AgeYears  \n",
       "6979         0.0         8  \n",
       "282879       1.0        11  \n",
       "149167       1.0        22  \n",
       "322589       2.0        30  \n",
       "203825       0.0        10  "
      ]
     },
     "metadata": {},
     "output_type": "display_data"
    }
   ],
   "source": [
    "\n",
    "display(features_train_encoded.head())\n",
    "display(features_valid_encoded.head())\n",
    "display(features_test_encoded.head())"
   ]
  },
  {
   "cell_type": "markdown",
   "metadata": {},
   "source": [
    "**Удалим ненужные переменные**"
   ]
  },
  {
   "cell_type": "code",
   "execution_count": 95,
   "metadata": {},
   "outputs": [],
   "source": [
    "del data\n",
    "del target\n",
    "del features"
   ]
  },
  {
   "cell_type": "markdown",
   "metadata": {},
   "source": [
    "**Модель линейной регрессии**"
   ]
  },
  {
   "cell_type": "code",
   "execution_count": 96,
   "metadata": {},
   "outputs": [
    {
     "name": "stdout",
     "output_type": "stream",
     "text": [
      "17.8 s ± 0 ns per loop (mean ± std. dev. of 1 run, 1 loop each)\n",
      "--------------------------------------------------\n",
      "RMSE лучшей модели: 2582.7745682163772\n",
      "--------------------------------------------------\n",
      "Training accuracy 0.6807\n",
      "Testing accuracy 0.6834\n",
      "--------------------------------------------------\n"
     ]
    }
   ],
   "source": [
    "best_model_lr = LinearRegression()\n",
    "%timeit -r 1 best_model_lr.fit(features_train_ohe, target_train)\n",
    "\n",
    "print('-'*50)\n",
    "print(\"RMSE лучшей модели:\", rmse(target_valid, best_model_lr.predict(features_valid_ohe)))\n",
    "print('-'*50)\n",
    "print('Training accuracy {:.4f}'.format(best_model_lr.score(features_train_ohe,target_train)))\n",
    "print('Testing accuracy {:.4f}'.format(best_model_lr.score(features_valid_ohe,target_valid)))\n",
    "print('-'*50)"
   ]
  },
  {
   "cell_type": "markdown",
   "metadata": {},
   "source": [
    "---\n",
    "**Модель случайного леса**"
   ]
  },
  {
   "cell_type": "code",
   "execution_count": 97,
   "metadata": {},
   "outputs": [
    {
     "name": "stdout",
     "output_type": "stream",
     "text": [
      "23 s ± 0 ns per loop (mean ± std. dev. of 1 run, 1 loop each)\n",
      "est= 100 depth= 10 rmse= 1891.128381959121\n",
      "--------------------------------------------------\n",
      "RMSE лучшей модели: 1891.128381959121\n",
      "Количество деревьев: 100\n",
      "max_depth лучшей модели: 10\n",
      "--------------------------------------------------\n",
      "Training accuracy 0.8451\n",
      "Testing accuracy 0.8303\n",
      "--------------------------------------------------\n"
     ]
    }
   ],
   "source": [
    "# гиперпараметры для подбора оптимальных результатов\n",
    "# подставлено оптимальное полученное значение из 9 комбинаций, т.к. очень долго пересчитывается\n",
    "params = {'n_estimators': [100], # [50,100,500]\n",
    "             'max_depth': [10] } # [2,5,10]\n",
    "\n",
    "# переберем параметры в цикле, т.к. GridSearchCV отказался работать в веб версии\n",
    "best_model_rfr = None\n",
    "best_result_rfr = 999_999_999\n",
    "best_est_rfr = 0\n",
    "best_depth_rfr = 0\n",
    "\n",
    "for est in params.get('n_estimators'):\n",
    "    for depth in params.get('max_depth'):\n",
    "        model = RandomForestRegressor(random_state=0,n_estimators=est, max_depth =depth)\n",
    "        %timeit -r 1 model.fit(features_train_encoded, target_train)\n",
    "        \n",
    "        predictions = model.predict(features_valid_encoded)\n",
    "        result = rmse(target_valid, predictions)\n",
    "        print('est=', est, 'depth=', depth, 'rmse=', result)\n",
    "                   \n",
    "        if result < best_result_rfr:\n",
    "            best_model_rfr = model\n",
    "            best_result_rfr = result\n",
    "            best_est_rfr = est\n",
    "            best_depth_rfr = depth\n",
    "\n",
    "print('-'*50)\n",
    "print(\"RMSE лучшей модели:\", best_result_rfr)\n",
    "print(\"Количество деревьев:\", best_est_rfr)\n",
    "print(\"max_depth лучшей модели:\", best_depth_rfr)\n",
    "print('-'*50)\n",
    "print('Training accuracy {:.4f}'.format(best_model_rfr.score(features_train_encoded,target_train)))\n",
    "print('Testing accuracy {:.4f}'.format(best_model_rfr.score(features_valid_encoded,target_valid)))\n",
    "print('-'*50)"
   ]
  },
  {
   "cell_type": "markdown",
   "metadata": {},
   "source": [
    "**Модель LightBGM**"
   ]
  },
  {
   "cell_type": "code",
   "execution_count": 98,
   "metadata": {},
   "outputs": [
    {
     "name": "stdout",
     "output_type": "stream",
     "text": [
      "5.7 s ± 0 ns per loop (mean ± std. dev. of 1 run, 1 loop each)\n",
      "rate= 1 depth= 12 rmse= 1681.4995588509744\n",
      "--------------------------------------------------\n",
      "RMSE лучшей модели: 1681.4995588509744\n",
      "Скорость обучения: 1\n",
      "max_depth лучшей модели: 12\n",
      "--------------------------------------------------\n",
      "Training accuracy 0.8917\n",
      "Testing accuracy 0.8658\n",
      "--------------------------------------------------\n"
     ]
    }
   ],
   "source": [
    "# гиперпараметры для подбора оптимальных результатов\n",
    "# подставлено оптимальное полученное значение из 9 комбинаций\n",
    "params = {'learning_rate': [1], # [0.01, 0.1, 1]\n",
    "             'max_depth': [12] } # [3,6,12]\n",
    "\n",
    "best_model_lgb = None\n",
    "best_result_lgb = 999_999_999\n",
    "best_rate_lgb = 0\n",
    "best_depth_lgb = 0\n",
    "\n",
    "for rate in params.get('learning_rate'):\n",
    "    for depth in params.get('max_depth'):\n",
    "        model = lgb.LGBMRegressor(learning_rate=rate,max_depth=depth,random_state=0)\n",
    "        %timeit -r 1 model.fit(features_train_ohe,target_train, verbose=50)\n",
    "        \n",
    "        predictions = model.predict(features_valid_ohe)\n",
    "        result = rmse(target_valid, predictions)\n",
    "        print('rate=', rate, 'depth=', depth, 'rmse=', result)\n",
    "                   \n",
    "        if result < best_result_lgb:\n",
    "            best_model_lgb = model\n",
    "            best_result_lgb = result\n",
    "            best_rate_lgb = rate\n",
    "            best_depth_lgb = depth\n",
    "\n",
    "print('-'*50)\n",
    "print(\"RMSE лучшей модели:\", best_result_lgb)\n",
    "print(\"Скорость обучения:\", best_rate_lgb)\n",
    "print(\"max_depth лучшей модели:\", best_depth_lgb)\n",
    "print('-'*50)\n",
    "print('Training accuracy {:.4f}'.format(best_model_lgb.score(features_train_ohe,target_train)))\n",
    "print('Testing accuracy {:.4f}'.format(best_model_lgb.score(features_valid_ohe,target_valid)))\n",
    "print('-'*50)"
   ]
  },
  {
   "cell_type": "markdown",
   "metadata": {},
   "source": [
    "---\n",
    "**Промежуточные выводы**"
   ]
  },
  {
   "cell_type": "markdown",
   "metadata": {},
   "source": [
    "- Полная выборка была разделена на 3 подвыборки: обучающую, валидационную и тестовую в пропорции 60% - 20% - 20%\n",
    "- Обучены 3 модели регрессии\n",
    "    - Линейная модель. Время обучения = `17.5 s`, RMSE = `2582`\n",
    "    - Случайный лес. Время обучения = `24,8 s`, RMSE лучшей модели = `1891`\n",
    "    - LightBGM (градиентный бустинг). Время обучения = `6.8 s`, RMSE лучшей модели = `1681`"
   ]
  },
  {
   "cell_type": "markdown",
   "metadata": {},
   "source": [
    "## Анализ моделей"
   ]
  },
  {
   "cell_type": "markdown",
   "metadata": {},
   "source": [
    "**Скорость работы моделей**\n",
    "\n",
    "Проверим скорость получения предсказаний моделей"
   ]
  },
  {
   "cell_type": "code",
   "execution_count": 99,
   "metadata": {},
   "outputs": [
    {
     "name": "stdout",
     "output_type": "stream",
     "text": [
      "240 ms ± 5.96 ms per loop (mean ± std. dev. of 7 runs, 10 loops each)\n"
     ]
    }
   ],
   "source": [
    "%%timeit\n",
    "# LinearRegression\n",
    "predictions = best_model_lr.predict(features_valid_ohe)\n",
    "#print('RMSE',rmse(target_valid, predictions))"
   ]
  },
  {
   "cell_type": "code",
   "execution_count": 100,
   "metadata": {},
   "outputs": [
    {
     "name": "stdout",
     "output_type": "stream",
     "text": [
      "528 ms ± 21.1 ms per loop (mean ± std. dev. of 7 runs, 1 loop each)\n"
     ]
    }
   ],
   "source": [
    "%%timeit\n",
    "# RandomForestRegression\n",
    "predictions = best_model_rfr.predict(features_valid_encoded)\n",
    "#print('RMSE',rmse(target_valid, predictions))"
   ]
  },
  {
   "cell_type": "code",
   "execution_count": 101,
   "metadata": {},
   "outputs": [
    {
     "name": "stdout",
     "output_type": "stream",
     "text": [
      "641 ms ± 40.3 ms per loop (mean ± std. dev. of 7 runs, 1 loop each)\n"
     ]
    }
   ],
   "source": [
    "%%timeit\n",
    "# LGBMRegressor\n",
    "predictions = best_model_lgb.predict(features_valid_ohe)\n",
    "#print('RMSE',rmse(target_valid, predictions))"
   ]
  },
  {
   "cell_type": "markdown",
   "metadata": {},
   "source": [
    "Скорость получения предсказаний в результате тестов:\n",
    "- 239 ms ± 9.32 ms для Линейной регрессии\n",
    "- 529 ms ± 13.5 ms для Случайного леса\n",
    "- 615 ms ± 30.7 ms для LightBGM"
   ]
  },
  {
   "cell_type": "markdown",
   "metadata": {},
   "source": [
    "**Выбор лучшей модели**\n",
    "\n",
    "Сведем воедино сравнительные показатели моделей"
   ]
  },
  {
   "cell_type": "markdown",
   "metadata": {},
   "source": [
    "| Модель | Время обучения | Время работы | RMSE  |\n",
    "| --- | --- | --- | --- |\n",
    "| LinearRegression | 17.5 s | 239 ms ± 9.32 ms | 2582 |\n",
    "| RandomForestRegression | 24.8 s | 529 ms ± 13.5 ms | 1891 |\n",
    "| LGBMRegressor | 6.8 s | 615 ms ± 30.7 ms | 1681 |"
   ]
  },
  {
   "cell_type": "markdown",
   "metadata": {},
   "source": [
    "Согласно критериям заказчика модель линейной регрессии не подходит из-за своей низкой точности (RMSE > 2500). Из двух оставшихся моделей наилучшая - LightBGM , т.к. имеет лучшую точность при меньшем времени обучения, нежели Случайный лес.\n",
    "\n",
    "**Лучшая модель - LightBGM.**"
   ]
  },
  {
   "cell_type": "markdown",
   "metadata": {},
   "source": [
    "---\n",
    "**Тестирование лучшей модели**"
   ]
  },
  {
   "cell_type": "code",
   "execution_count": 102,
   "metadata": {},
   "outputs": [
    {
     "name": "stdout",
     "output_type": "stream",
     "text": [
      "RMSE 1642.210824435947\n"
     ]
    }
   ],
   "source": [
    "#переобучим лучшую модель на объединенных данных из обучающей и валидационной выборок\n",
    "features_combine_ohe = pd.concat([features_train_ohe,features_valid_ohe])\n",
    "target_combine = pd.concat([target_train,target_valid])\n",
    "\n",
    "model = lgb.LGBMRegressor(learning_rate=best_rate_lgb,max_depth=best_depth_lgb,random_state=0)\n",
    "model.fit(features_combine_ohe,target_combine, verbose=50)\n",
    "predictions = model.predict(features_test_ohe)\n",
    "print('RMSE',rmse(target_test, predictions))"
   ]
  },
  {
   "cell_type": "markdown",
   "metadata": {},
   "source": [
    "___\n",
    "**Итоговый вывод**\n",
    "\n",
    "**Этап 1 : Подготовка данных**\n",
    "- данные импортировались без проблем\n",
    "- типы данных, за исключением дат, соответствуют самим данным\n",
    "- в выборке было большое количество пропусков, но только в категориальных переменных\n",
    "- все пропуски были заменены либо удалены\n",
    "- встретился ряд аномалий\n",
    "    - год регистрации - ошибочные года были удалены\n",
    "    - мощность - ошибочная мощность была заменена на медианное значение\n",
    "    - цена - нулевые цены были удалены\n",
    "    - нулевые месяцы регистрации - были заменены на 6 (середина года)\n",
    "- был расчитан возраст авто на момент подачи объявления\n",
    "- проверка на мультиколлинеарность числовых признаков не показала проблем\n",
    "- в результате обработки исходной выборки было удалено 11.7% строк\n",
    "\n",
    "**Этап 2 : Обучение моделей**\n",
    "- Полная выборка была разделена на 3 подвыборки: обучающую, валидационную и тестовую в пропорции 60% - 20% - 20%\n",
    "- Обучены 3 модели регрессии\n",
    "    - Линейная модель. Время обучения = `17.5 s`, RMSE = `2582`\n",
    "    - Случайный лес. Время обучения = `24,8 s`, RMSE лучшей модели = `1891`\n",
    "    - LightBGM (градиентный бустинг). Время обучения = `6.8 s`, RMSE лучшей модели = `1681`\n",
    "    \n",
    "**Этап 3 : Анализ моделей**\n",
    "- Результаты работы 3х моделей сведены в таблицу\n",
    "| Модель | Время обучения | Время работы | RMSE  |\n",
    "| --- | --- | --- | --- |\n",
    "| LinearRegression | 17.5 s | 239 ms ± 9.32 ms | 2582 |\n",
    "| RandomForestRegression | 24.8 s | 529 ms ± 13.5 ms | 1891 |\n",
    "| LGBMRegressor | 6.8 s | 615 ms ± 30.7 ms | 1681 |\n",
    "\n",
    "- Предварительно лучшей моделью была выбрана LGBMRegressor\n",
    "- Модель LGBMRegressor с наилучшими гиперпарамтерами была переобучена на протестирована на тестовой выборке\n",
    "- **Метрика RMSE LGBMRegressor на тестовой выборке = 1642 соответствует условию задания.**"
   ]
  }
 ],
 "metadata": {
  "ExecuteTimeLog": [
   {
    "duration": 360,
    "start_time": "2022-12-03T06:10:49.989Z"
   },
   {
    "duration": 76,
    "start_time": "2022-12-03T06:10:51.883Z"
   },
   {
    "duration": 71,
    "start_time": "2022-12-03T06:11:00.433Z"
   },
   {
    "duration": 97,
    "start_time": "2022-12-03T06:11:05.876Z"
   },
   {
    "duration": 3233,
    "start_time": "2022-12-03T06:11:18.745Z"
   },
   {
    "duration": 18,
    "start_time": "2022-12-03T06:11:38.061Z"
   },
   {
    "duration": 103,
    "start_time": "2022-12-03T06:12:19.179Z"
   },
   {
    "duration": 98,
    "start_time": "2022-12-03T06:13:21.746Z"
   },
   {
    "duration": 19,
    "start_time": "2022-12-03T06:14:03.251Z"
   },
   {
    "duration": 18,
    "start_time": "2022-12-03T06:14:41.171Z"
   },
   {
    "duration": 114,
    "start_time": "2022-12-03T06:15:35.728Z"
   },
   {
    "duration": 111,
    "start_time": "2022-12-03T06:15:44.580Z"
   },
   {
    "duration": 201,
    "start_time": "2022-12-03T06:17:24.092Z"
   },
   {
    "duration": 107,
    "start_time": "2022-12-03T06:17:26.121Z"
   },
   {
    "duration": 106,
    "start_time": "2022-12-03T06:17:30.337Z"
   },
   {
    "duration": 172,
    "start_time": "2022-12-03T06:17:33.253Z"
   },
   {
    "duration": 99,
    "start_time": "2022-12-03T06:17:40.648Z"
   },
   {
    "duration": 129,
    "start_time": "2022-12-03T06:18:02.307Z"
   },
   {
    "duration": 106,
    "start_time": "2022-12-03T06:18:08.099Z"
   },
   {
    "duration": 106,
    "start_time": "2022-12-03T06:18:20.614Z"
   },
   {
    "duration": 107,
    "start_time": "2022-12-03T06:18:23.079Z"
   },
   {
    "duration": 3,
    "start_time": "2022-12-03T06:18:37.835Z"
   },
   {
    "duration": 786,
    "start_time": "2022-12-03T06:18:37.840Z"
   },
   {
    "duration": 118,
    "start_time": "2022-12-03T06:18:38.627Z"
   },
   {
    "duration": 109,
    "start_time": "2022-12-03T06:18:38.746Z"
   },
   {
    "duration": 117,
    "start_time": "2022-12-03T06:18:38.857Z"
   },
   {
    "duration": 191,
    "start_time": "2022-12-03T06:20:06.605Z"
   },
   {
    "duration": 5,
    "start_time": "2022-12-03T06:49:32.420Z"
   },
   {
    "duration": 840,
    "start_time": "2022-12-03T06:49:32.427Z"
   },
   {
    "duration": 127,
    "start_time": "2022-12-03T06:49:33.269Z"
   },
   {
    "duration": 95,
    "start_time": "2022-12-03T06:49:33.398Z"
   },
   {
    "duration": 107,
    "start_time": "2022-12-03T06:49:33.495Z"
   },
   {
    "duration": 107,
    "start_time": "2022-12-03T06:49:33.604Z"
   },
   {
    "duration": 15,
    "start_time": "2022-12-03T06:49:48.904Z"
   },
   {
    "duration": 104,
    "start_time": "2022-12-03T06:50:03.195Z"
   },
   {
    "duration": 45,
    "start_time": "2022-12-03T06:53:23.597Z"
   },
   {
    "duration": 101,
    "start_time": "2022-12-03T06:53:27.255Z"
   },
   {
    "duration": 62,
    "start_time": "2022-12-03T06:54:31.841Z"
   },
   {
    "duration": 42,
    "start_time": "2022-12-03T06:54:50.377Z"
   },
   {
    "duration": 1114,
    "start_time": "2022-12-03T06:56:12.401Z"
   },
   {
    "duration": 53,
    "start_time": "2022-12-03T06:56:27.130Z"
   },
   {
    "duration": 104,
    "start_time": "2022-12-03T06:56:29.630Z"
   },
   {
    "duration": 22,
    "start_time": "2022-12-03T06:58:02.363Z"
   },
   {
    "duration": 4,
    "start_time": "2022-12-03T06:58:07.686Z"
   },
   {
    "duration": 803,
    "start_time": "2022-12-03T06:58:07.692Z"
   },
   {
    "duration": 144,
    "start_time": "2022-12-03T06:58:08.497Z"
   },
   {
    "duration": 66,
    "start_time": "2022-12-03T06:58:08.643Z"
   },
   {
    "duration": 146,
    "start_time": "2022-12-03T06:58:08.721Z"
   },
   {
    "duration": 133,
    "start_time": "2022-12-03T06:58:08.869Z"
   },
   {
    "duration": 104,
    "start_time": "2022-12-03T06:58:09.003Z"
   },
   {
    "duration": 1245,
    "start_time": "2022-12-03T07:00:14.077Z"
   },
   {
    "duration": 7,
    "start_time": "2022-12-03T07:04:48.080Z"
   },
   {
    "duration": 3,
    "start_time": "2022-12-03T07:04:59.287Z"
   },
   {
    "duration": 8,
    "start_time": "2022-12-03T07:05:03.856Z"
   },
   {
    "duration": 8,
    "start_time": "2022-12-03T07:05:09.752Z"
   },
   {
    "duration": 3,
    "start_time": "2022-12-03T07:05:47.266Z"
   },
   {
    "duration": 8,
    "start_time": "2022-12-03T07:05:53.124Z"
   },
   {
    "duration": 8,
    "start_time": "2022-12-03T07:05:58.104Z"
   },
   {
    "duration": 13,
    "start_time": "2022-12-03T07:07:53.027Z"
   },
   {
    "duration": 1149,
    "start_time": "2022-12-03T07:08:02.977Z"
   },
   {
    "duration": 14,
    "start_time": "2022-12-03T07:09:22.201Z"
   },
   {
    "duration": 626,
    "start_time": "2022-12-03T07:10:04.496Z"
   },
   {
    "duration": 6,
    "start_time": "2022-12-03T07:12:42.745Z"
   },
   {
    "duration": 140,
    "start_time": "2022-12-03T07:13:15.011Z"
   },
   {
    "duration": 8,
    "start_time": "2022-12-03T07:14:28.792Z"
   },
   {
    "duration": 1161,
    "start_time": "2022-12-03T07:14:32.064Z"
   },
   {
    "duration": 9,
    "start_time": "2022-12-03T07:15:27.127Z"
   },
   {
    "duration": 8,
    "start_time": "2022-12-03T07:16:57.292Z"
   },
   {
    "duration": 7,
    "start_time": "2022-12-03T07:17:34.272Z"
   },
   {
    "duration": 5,
    "start_time": "2022-12-03T07:20:25.850Z"
   },
   {
    "duration": 10,
    "start_time": "2022-12-03T07:21:23.055Z"
   },
   {
    "duration": 10,
    "start_time": "2022-12-03T07:21:35.834Z"
   },
   {
    "duration": 8,
    "start_time": "2022-12-03T07:21:43.775Z"
   },
   {
    "duration": 8,
    "start_time": "2022-12-03T07:21:47.385Z"
   },
   {
    "duration": 8,
    "start_time": "2022-12-03T07:21:51.324Z"
   },
   {
    "duration": 31,
    "start_time": "2022-12-03T07:23:26.472Z"
   },
   {
    "duration": 30,
    "start_time": "2022-12-03T07:25:39.260Z"
   },
   {
    "duration": 9,
    "start_time": "2022-12-03T07:25:43.165Z"
   },
   {
    "duration": 92,
    "start_time": "2022-12-03T07:26:14.194Z"
   },
   {
    "duration": 6,
    "start_time": "2022-12-03T07:26:20.158Z"
   },
   {
    "duration": 5,
    "start_time": "2022-12-03T07:26:22.465Z"
   },
   {
    "duration": 19,
    "start_time": "2022-12-03T07:26:25.794Z"
   },
   {
    "duration": 24,
    "start_time": "2022-12-03T07:26:48.636Z"
   },
   {
    "duration": 3,
    "start_time": "2022-12-03T07:43:56.861Z"
   },
   {
    "duration": 785,
    "start_time": "2022-12-03T07:43:58.885Z"
   },
   {
    "duration": 159,
    "start_time": "2022-12-03T07:44:02.519Z"
   },
   {
    "duration": 9,
    "start_time": "2022-12-03T07:48:50.376Z"
   },
   {
    "duration": 9,
    "start_time": "2022-12-03T07:49:10.607Z"
   },
   {
    "duration": 3,
    "start_time": "2022-12-03T07:49:33.747Z"
   },
   {
    "duration": 777,
    "start_time": "2022-12-03T07:49:33.751Z"
   },
   {
    "duration": 135,
    "start_time": "2022-12-03T07:49:34.530Z"
   },
   {
    "duration": 76,
    "start_time": "2022-12-03T07:49:34.668Z"
   },
   {
    "duration": 107,
    "start_time": "2022-12-03T07:49:34.745Z"
   },
   {
    "duration": 110,
    "start_time": "2022-12-03T07:49:34.854Z"
   },
   {
    "duration": 126,
    "start_time": "2022-12-03T07:49:34.965Z"
   },
   {
    "duration": 10,
    "start_time": "2022-12-03T07:49:35.093Z"
   },
   {
    "duration": 46,
    "start_time": "2022-12-03T07:49:35.105Z"
   },
   {
    "duration": 93,
    "start_time": "2022-12-03T07:49:35.153Z"
   },
   {
    "duration": 6,
    "start_time": "2022-12-03T07:49:35.247Z"
   },
   {
    "duration": 26,
    "start_time": "2022-12-03T07:49:35.254Z"
   },
   {
    "duration": 32,
    "start_time": "2022-12-03T07:49:35.282Z"
   },
   {
    "duration": 1207,
    "start_time": "2022-12-03T07:49:35.315Z"
   },
   {
    "duration": 1202,
    "start_time": "2022-12-03T07:50:54.970Z"
   },
   {
    "duration": 1195,
    "start_time": "2022-12-03T07:51:10.048Z"
   },
   {
    "duration": 1094,
    "start_time": "2022-12-03T07:51:25.735Z"
   },
   {
    "duration": 1179,
    "start_time": "2022-12-03T07:51:34.717Z"
   },
   {
    "duration": 15,
    "start_time": "2022-12-03T07:51:45.818Z"
   },
   {
    "duration": 38,
    "start_time": "2022-12-03T07:52:04.924Z"
   },
   {
    "duration": 1390,
    "start_time": "2022-12-03T07:53:19.844Z"
   },
   {
    "duration": 2,
    "start_time": "2022-12-03T07:57:22.446Z"
   },
   {
    "duration": 13,
    "start_time": "2022-12-03T07:58:45.820Z"
   },
   {
    "duration": 17,
    "start_time": "2022-12-03T07:58:48.912Z"
   },
   {
    "duration": 15,
    "start_time": "2022-12-03T08:01:23.136Z"
   },
   {
    "duration": 102,
    "start_time": "2022-12-03T08:01:27.150Z"
   },
   {
    "duration": 2,
    "start_time": "2022-12-03T08:01:33.738Z"
   },
   {
    "duration": 781,
    "start_time": "2022-12-03T08:01:33.742Z"
   },
   {
    "duration": 12,
    "start_time": "2022-12-03T08:01:34.525Z"
   },
   {
    "duration": 123,
    "start_time": "2022-12-03T08:01:34.539Z"
   },
   {
    "duration": 65,
    "start_time": "2022-12-03T08:01:34.664Z"
   },
   {
    "duration": 103,
    "start_time": "2022-12-03T08:01:34.731Z"
   },
   {
    "duration": 111,
    "start_time": "2022-12-03T08:01:34.835Z"
   },
   {
    "duration": 112,
    "start_time": "2022-12-03T08:01:34.948Z"
   },
   {
    "duration": 7,
    "start_time": "2022-12-03T08:01:35.061Z"
   },
   {
    "duration": 37,
    "start_time": "2022-12-03T08:01:35.070Z"
   },
   {
    "duration": 97,
    "start_time": "2022-12-03T08:01:35.109Z"
   },
   {
    "duration": 6,
    "start_time": "2022-12-03T08:01:35.208Z"
   },
   {
    "duration": 8,
    "start_time": "2022-12-03T08:01:35.223Z"
   },
   {
    "duration": 16,
    "start_time": "2022-12-03T08:01:35.233Z"
   },
   {
    "duration": 10,
    "start_time": "2022-12-03T08:01:35.251Z"
   },
   {
    "duration": 14,
    "start_time": "2022-12-03T08:01:35.262Z"
   },
   {
    "duration": 2,
    "start_time": "2022-12-03T08:02:34.522Z"
   },
   {
    "duration": 740,
    "start_time": "2022-12-03T08:02:34.526Z"
   },
   {
    "duration": 14,
    "start_time": "2022-12-03T08:02:35.268Z"
   },
   {
    "duration": 126,
    "start_time": "2022-12-03T08:02:35.283Z"
   },
   {
    "duration": 100,
    "start_time": "2022-12-03T08:02:35.411Z"
   },
   {
    "duration": 120,
    "start_time": "2022-12-03T08:02:35.513Z"
   },
   {
    "duration": 61,
    "start_time": "2022-12-03T08:02:35.635Z"
   },
   {
    "duration": 104,
    "start_time": "2022-12-03T08:02:35.698Z"
   },
   {
    "duration": 5,
    "start_time": "2022-12-03T08:02:35.805Z"
   },
   {
    "duration": 77,
    "start_time": "2022-12-03T08:02:35.822Z"
   },
   {
    "duration": 119,
    "start_time": "2022-12-03T08:02:35.903Z"
   },
   {
    "duration": 6,
    "start_time": "2022-12-03T08:02:36.024Z"
   },
   {
    "duration": 20,
    "start_time": "2022-12-03T08:02:36.032Z"
   },
   {
    "duration": 36,
    "start_time": "2022-12-03T08:02:36.054Z"
   },
   {
    "duration": 14,
    "start_time": "2022-12-03T08:02:36.092Z"
   },
   {
    "duration": 37,
    "start_time": "2022-12-03T08:02:36.108Z"
   },
   {
    "duration": 109,
    "start_time": "2022-12-03T08:03:24.547Z"
   },
   {
    "duration": 104,
    "start_time": "2022-12-03T08:03:35.612Z"
   },
   {
    "duration": 93,
    "start_time": "2022-12-03T08:03:41.866Z"
   },
   {
    "duration": 2,
    "start_time": "2022-12-03T08:03:46.797Z"
   },
   {
    "duration": 752,
    "start_time": "2022-12-03T08:03:46.802Z"
   },
   {
    "duration": 13,
    "start_time": "2022-12-03T08:03:47.556Z"
   },
   {
    "duration": 120,
    "start_time": "2022-12-03T08:03:47.572Z"
   },
   {
    "duration": 102,
    "start_time": "2022-12-03T08:03:47.694Z"
   },
   {
    "duration": 125,
    "start_time": "2022-12-03T08:03:47.797Z"
   },
   {
    "duration": 49,
    "start_time": "2022-12-03T08:03:47.923Z"
   },
   {
    "duration": 123,
    "start_time": "2022-12-03T08:03:47.974Z"
   },
   {
    "duration": 4,
    "start_time": "2022-12-03T08:03:48.100Z"
   },
   {
    "duration": 45,
    "start_time": "2022-12-03T08:03:48.106Z"
   },
   {
    "duration": 111,
    "start_time": "2022-12-03T08:03:48.153Z"
   },
   {
    "duration": 5,
    "start_time": "2022-12-03T08:03:48.266Z"
   },
   {
    "duration": 6,
    "start_time": "2022-12-03T08:03:48.273Z"
   },
   {
    "duration": 19,
    "start_time": "2022-12-03T08:03:48.280Z"
   },
   {
    "duration": 30,
    "start_time": "2022-12-03T08:03:48.301Z"
   },
   {
    "duration": 16,
    "start_time": "2022-12-03T08:03:48.333Z"
   },
   {
    "duration": 11,
    "start_time": "2022-12-03T08:06:37.790Z"
   },
   {
    "duration": 17,
    "start_time": "2022-12-03T08:06:38.494Z"
   },
   {
    "duration": 17,
    "start_time": "2022-12-03T08:06:41.567Z"
   },
   {
    "duration": 15,
    "start_time": "2022-12-03T08:06:58.521Z"
   },
   {
    "duration": 18,
    "start_time": "2022-12-03T08:07:01.592Z"
   },
   {
    "duration": 12,
    "start_time": "2022-12-03T08:07:25.889Z"
   },
   {
    "duration": 14,
    "start_time": "2022-12-03T08:07:26.179Z"
   },
   {
    "duration": 15,
    "start_time": "2022-12-03T08:10:41.585Z"
   },
   {
    "duration": 38,
    "start_time": "2022-12-03T08:10:52.668Z"
   },
   {
    "duration": 4,
    "start_time": "2022-12-03T08:11:02.882Z"
   },
   {
    "duration": 35,
    "start_time": "2022-12-03T08:18:54.325Z"
   },
   {
    "duration": 856,
    "start_time": "2022-12-03T08:22:38.442Z"
   },
   {
    "duration": 385,
    "start_time": "2022-12-03T08:22:53.720Z"
   },
   {
    "duration": 4,
    "start_time": "2022-12-03T08:23:00.880Z"
   },
   {
    "duration": 344,
    "start_time": "2022-12-03T08:23:51.881Z"
   },
   {
    "duration": 4,
    "start_time": "2022-12-03T08:24:01.617Z"
   },
   {
    "duration": 48,
    "start_time": "2022-12-03T08:24:03.072Z"
   },
   {
    "duration": 12,
    "start_time": "2022-12-03T08:24:04.569Z"
   },
   {
    "duration": 5,
    "start_time": "2022-12-03T08:24:07.151Z"
   },
   {
    "duration": 361,
    "start_time": "2022-12-03T08:24:08.855Z"
   },
   {
    "duration": 3,
    "start_time": "2022-12-03T08:24:57.723Z"
   },
   {
    "duration": 786,
    "start_time": "2022-12-03T08:24:57.728Z"
   },
   {
    "duration": 18,
    "start_time": "2022-12-03T08:24:58.516Z"
   },
   {
    "duration": 120,
    "start_time": "2022-12-03T08:24:58.536Z"
   },
   {
    "duration": 115,
    "start_time": "2022-12-03T08:24:58.659Z"
   },
   {
    "duration": 113,
    "start_time": "2022-12-03T08:24:58.776Z"
   },
   {
    "duration": 63,
    "start_time": "2022-12-03T08:24:58.891Z"
   },
   {
    "duration": 33,
    "start_time": "2022-12-03T08:24:58.956Z"
   },
   {
    "duration": 101,
    "start_time": "2022-12-03T08:24:58.990Z"
   },
   {
    "duration": 7,
    "start_time": "2022-12-03T08:24:59.092Z"
   },
   {
    "duration": 21,
    "start_time": "2022-12-03T08:24:59.101Z"
   },
   {
    "duration": 24,
    "start_time": "2022-12-03T08:24:59.124Z"
   },
   {
    "duration": 13,
    "start_time": "2022-12-03T08:24:59.150Z"
   },
   {
    "duration": 25,
    "start_time": "2022-12-03T08:24:59.165Z"
   },
   {
    "duration": 52,
    "start_time": "2022-12-03T08:24:59.192Z"
   },
   {
    "duration": 5,
    "start_time": "2022-12-03T08:24:59.245Z"
   },
   {
    "duration": 379,
    "start_time": "2022-12-03T08:24:59.251Z"
   },
   {
    "duration": 3,
    "start_time": "2022-12-03T08:36:15.811Z"
   },
   {
    "duration": 774,
    "start_time": "2022-12-03T08:36:15.816Z"
   },
   {
    "duration": 12,
    "start_time": "2022-12-03T08:36:16.592Z"
   },
   {
    "duration": 127,
    "start_time": "2022-12-03T08:36:16.605Z"
   },
   {
    "duration": 102,
    "start_time": "2022-12-03T08:36:16.734Z"
   },
   {
    "duration": 112,
    "start_time": "2022-12-03T08:36:16.837Z"
   },
   {
    "duration": 48,
    "start_time": "2022-12-03T08:36:16.950Z"
   },
   {
    "duration": 46,
    "start_time": "2022-12-03T08:36:17.000Z"
   },
   {
    "duration": 84,
    "start_time": "2022-12-03T08:36:17.048Z"
   },
   {
    "duration": 6,
    "start_time": "2022-12-03T08:36:17.134Z"
   },
   {
    "duration": 6,
    "start_time": "2022-12-03T08:36:17.142Z"
   },
   {
    "duration": 19,
    "start_time": "2022-12-03T08:36:17.149Z"
   },
   {
    "duration": 11,
    "start_time": "2022-12-03T08:36:17.170Z"
   },
   {
    "duration": 58,
    "start_time": "2022-12-03T08:36:17.184Z"
   },
   {
    "duration": 24,
    "start_time": "2022-12-03T08:36:17.244Z"
   },
   {
    "duration": 4,
    "start_time": "2022-12-03T08:36:17.270Z"
   },
   {
    "duration": 352,
    "start_time": "2022-12-03T08:36:17.276Z"
   },
   {
    "duration": 3,
    "start_time": "2022-12-03T08:37:06.873Z"
   },
   {
    "duration": 755,
    "start_time": "2022-12-03T08:37:06.879Z"
   },
   {
    "duration": 13,
    "start_time": "2022-12-03T08:37:07.636Z"
   },
   {
    "duration": 124,
    "start_time": "2022-12-03T08:37:07.651Z"
   },
   {
    "duration": 121,
    "start_time": "2022-12-03T08:37:07.778Z"
   },
   {
    "duration": 107,
    "start_time": "2022-12-03T08:37:07.901Z"
   },
   {
    "duration": 58,
    "start_time": "2022-12-03T08:37:08.009Z"
   },
   {
    "duration": 30,
    "start_time": "2022-12-03T08:37:08.069Z"
   },
   {
    "duration": 87,
    "start_time": "2022-12-03T08:37:08.101Z"
   },
   {
    "duration": 7,
    "start_time": "2022-12-03T08:37:08.190Z"
   },
   {
    "duration": 14,
    "start_time": "2022-12-03T08:37:08.198Z"
   },
   {
    "duration": 24,
    "start_time": "2022-12-03T08:37:08.214Z"
   },
   {
    "duration": 11,
    "start_time": "2022-12-03T08:37:08.240Z"
   },
   {
    "duration": 26,
    "start_time": "2022-12-03T08:37:08.253Z"
   },
   {
    "duration": 42,
    "start_time": "2022-12-03T08:37:08.281Z"
   },
   {
    "duration": 4,
    "start_time": "2022-12-03T08:37:08.324Z"
   },
   {
    "duration": 324,
    "start_time": "2022-12-03T08:37:08.330Z"
   },
   {
    "duration": 271,
    "start_time": "2022-12-03T08:43:28.307Z"
   },
   {
    "duration": 4,
    "start_time": "2022-12-03T08:43:58.755Z"
   },
   {
    "duration": 43,
    "start_time": "2022-12-04T03:47:26.705Z"
   },
   {
    "duration": 5,
    "start_time": "2022-12-04T03:47:26.984Z"
   },
   {
    "duration": 1471,
    "start_time": "2022-12-04T03:47:31.942Z"
   },
   {
    "duration": 1026,
    "start_time": "2022-12-04T03:47:33.415Z"
   },
   {
    "duration": 19,
    "start_time": "2022-12-04T03:47:34.443Z"
   },
   {
    "duration": 123,
    "start_time": "2022-12-04T03:47:34.463Z"
   },
   {
    "duration": 127,
    "start_time": "2022-12-04T03:47:34.589Z"
   },
   {
    "duration": 126,
    "start_time": "2022-12-04T03:47:34.718Z"
   },
   {
    "duration": 47,
    "start_time": "2022-12-04T03:47:34.845Z"
   },
   {
    "duration": 42,
    "start_time": "2022-12-04T03:47:34.893Z"
   },
   {
    "duration": 123,
    "start_time": "2022-12-04T03:47:34.936Z"
   },
   {
    "duration": 7,
    "start_time": "2022-12-04T03:47:35.061Z"
   },
   {
    "duration": 6,
    "start_time": "2022-12-04T03:47:35.070Z"
   },
   {
    "duration": 40,
    "start_time": "2022-12-04T03:47:35.077Z"
   },
   {
    "duration": 10,
    "start_time": "2022-12-04T03:47:35.119Z"
   },
   {
    "duration": 12,
    "start_time": "2022-12-04T03:47:35.131Z"
   },
   {
    "duration": 34,
    "start_time": "2022-12-04T03:47:35.144Z"
   },
   {
    "duration": 7,
    "start_time": "2022-12-04T03:47:35.180Z"
   },
   {
    "duration": 28,
    "start_time": "2022-12-04T03:47:35.188Z"
   },
   {
    "duration": 794,
    "start_time": "2022-12-04T03:47:35.217Z"
   },
   {
    "duration": 0,
    "start_time": "2022-12-04T03:47:36.013Z"
   },
   {
    "duration": 0,
    "start_time": "2022-12-04T03:47:36.014Z"
   },
   {
    "duration": 9,
    "start_time": "2022-12-04T03:48:46.385Z"
   },
   {
    "duration": 9,
    "start_time": "2022-12-04T03:50:48.937Z"
   },
   {
    "duration": 702,
    "start_time": "2022-12-04T03:50:59.248Z"
   },
   {
    "duration": 692,
    "start_time": "2022-12-04T03:53:41.773Z"
   },
   {
    "duration": 266,
    "start_time": "2022-12-04T03:53:51.423Z"
   },
   {
    "duration": 1302,
    "start_time": "2022-12-04T04:07:13.329Z"
   },
   {
    "duration": 797,
    "start_time": "2022-12-04T04:07:14.633Z"
   },
   {
    "duration": 18,
    "start_time": "2022-12-04T04:07:15.432Z"
   },
   {
    "duration": 147,
    "start_time": "2022-12-04T04:07:15.453Z"
   },
   {
    "duration": 138,
    "start_time": "2022-12-04T04:07:15.601Z"
   },
   {
    "duration": 165,
    "start_time": "2022-12-04T04:07:15.741Z"
   },
   {
    "duration": 60,
    "start_time": "2022-12-04T04:07:15.907Z"
   },
   {
    "duration": 30,
    "start_time": "2022-12-04T04:07:15.968Z"
   },
   {
    "duration": 167,
    "start_time": "2022-12-04T04:07:16.000Z"
   },
   {
    "duration": 6,
    "start_time": "2022-12-04T04:07:16.170Z"
   },
   {
    "duration": 10,
    "start_time": "2022-12-04T04:07:16.178Z"
   },
   {
    "duration": 51,
    "start_time": "2022-12-04T04:07:16.189Z"
   },
   {
    "duration": 12,
    "start_time": "2022-12-04T04:07:16.242Z"
   },
   {
    "duration": 19,
    "start_time": "2022-12-04T04:07:16.256Z"
   },
   {
    "duration": 50,
    "start_time": "2022-12-04T04:07:16.277Z"
   },
   {
    "duration": 5,
    "start_time": "2022-12-04T04:07:16.329Z"
   },
   {
    "duration": 106,
    "start_time": "2022-12-04T04:07:16.336Z"
   },
   {
    "duration": 706,
    "start_time": "2022-12-04T04:07:16.443Z"
   },
   {
    "duration": 2,
    "start_time": "2022-12-04T04:07:17.151Z"
   },
   {
    "duration": 42,
    "start_time": "2022-12-04T04:07:17.154Z"
   },
   {
    "duration": 2,
    "start_time": "2022-12-04T04:08:40.970Z"
   },
   {
    "duration": 426,
    "start_time": "2022-12-04T04:09:02.398Z"
   },
   {
    "duration": 3,
    "start_time": "2022-12-04T04:11:55.693Z"
   },
   {
    "duration": 434,
    "start_time": "2022-12-04T04:17:04.515Z"
   },
   {
    "duration": 4,
    "start_time": "2022-12-04T04:17:22.121Z"
   },
   {
    "duration": 4,
    "start_time": "2022-12-04T04:17:30.509Z"
   },
   {
    "duration": 3,
    "start_time": "2022-12-04T04:17:51.488Z"
   },
   {
    "duration": 105,
    "start_time": "2022-12-04T04:19:08.424Z"
   },
   {
    "duration": 3,
    "start_time": "2022-12-04T04:21:51.252Z"
   },
   {
    "duration": 185,
    "start_time": "2022-12-04T04:21:54.796Z"
   },
   {
    "duration": 277,
    "start_time": "2022-12-04T04:22:02.545Z"
   },
   {
    "duration": 163,
    "start_time": "2022-12-04T04:22:37.596Z"
   },
   {
    "duration": 3,
    "start_time": "2022-12-04T04:25:10.135Z"
   },
   {
    "duration": 148,
    "start_time": "2022-12-04T04:25:17.439Z"
   },
   {
    "duration": 282,
    "start_time": "2022-12-04T04:26:04.882Z"
   },
   {
    "duration": 2,
    "start_time": "2022-12-04T04:26:15.311Z"
   },
   {
    "duration": 154,
    "start_time": "2022-12-04T04:26:29.584Z"
   },
   {
    "duration": 4,
    "start_time": "2022-12-04T04:26:34.580Z"
   },
   {
    "duration": 772,
    "start_time": "2022-12-04T04:26:34.587Z"
   },
   {
    "duration": 12,
    "start_time": "2022-12-04T04:26:35.361Z"
   },
   {
    "duration": 130,
    "start_time": "2022-12-04T04:26:35.375Z"
   },
   {
    "duration": 127,
    "start_time": "2022-12-04T04:26:35.508Z"
   },
   {
    "duration": 161,
    "start_time": "2022-12-04T04:26:35.637Z"
   },
   {
    "duration": 52,
    "start_time": "2022-12-04T04:26:35.800Z"
   },
   {
    "duration": 30,
    "start_time": "2022-12-04T04:26:35.854Z"
   },
   {
    "duration": 103,
    "start_time": "2022-12-04T04:26:35.885Z"
   },
   {
    "duration": 6,
    "start_time": "2022-12-04T04:26:35.989Z"
   },
   {
    "duration": 20,
    "start_time": "2022-12-04T04:26:35.996Z"
   },
   {
    "duration": 17,
    "start_time": "2022-12-04T04:26:36.017Z"
   },
   {
    "duration": 10,
    "start_time": "2022-12-04T04:26:36.035Z"
   },
   {
    "duration": 17,
    "start_time": "2022-12-04T04:26:36.048Z"
   },
   {
    "duration": 56,
    "start_time": "2022-12-04T04:26:36.067Z"
   },
   {
    "duration": 8,
    "start_time": "2022-12-04T04:26:36.125Z"
   },
   {
    "duration": 113,
    "start_time": "2022-12-04T04:26:36.135Z"
   },
   {
    "duration": 748,
    "start_time": "2022-12-04T04:26:36.249Z"
   },
   {
    "duration": 376,
    "start_time": "2022-12-04T04:26:36.999Z"
   },
   {
    "duration": 453,
    "start_time": "2022-12-04T04:26:37.377Z"
   },
   {
    "duration": 4,
    "start_time": "2022-12-04T04:26:37.831Z"
   },
   {
    "duration": 6,
    "start_time": "2022-12-04T04:26:37.836Z"
   },
   {
    "duration": 160,
    "start_time": "2022-12-04T04:26:37.844Z"
   },
   {
    "duration": 53,
    "start_time": "2022-12-04T04:26:38.005Z"
   },
   {
    "duration": 69,
    "start_time": "2022-12-04T04:30:28.710Z"
   },
   {
    "duration": 86,
    "start_time": "2022-12-04T04:30:54.734Z"
   },
   {
    "duration": 46,
    "start_time": "2022-12-04T04:31:23.131Z"
   },
   {
    "duration": 1333,
    "start_time": "2022-12-04T04:31:33.214Z"
   },
   {
    "duration": 1054,
    "start_time": "2022-12-04T04:31:34.549Z"
   },
   {
    "duration": 17,
    "start_time": "2022-12-04T04:31:35.605Z"
   },
   {
    "duration": 129,
    "start_time": "2022-12-04T04:31:35.623Z"
   },
   {
    "duration": 143,
    "start_time": "2022-12-04T04:31:35.754Z"
   },
   {
    "duration": 134,
    "start_time": "2022-12-04T04:31:35.898Z"
   },
   {
    "duration": 53,
    "start_time": "2022-12-04T04:31:36.033Z"
   },
   {
    "duration": 42,
    "start_time": "2022-12-04T04:31:36.087Z"
   },
   {
    "duration": 133,
    "start_time": "2022-12-04T04:31:36.131Z"
   },
   {
    "duration": 6,
    "start_time": "2022-12-04T04:31:36.267Z"
   },
   {
    "duration": 10,
    "start_time": "2022-12-04T04:31:36.275Z"
   },
   {
    "duration": 44,
    "start_time": "2022-12-04T04:31:36.287Z"
   },
   {
    "duration": 12,
    "start_time": "2022-12-04T04:31:36.333Z"
   },
   {
    "duration": 17,
    "start_time": "2022-12-04T04:31:36.348Z"
   },
   {
    "duration": 52,
    "start_time": "2022-12-04T04:31:36.367Z"
   },
   {
    "duration": 6,
    "start_time": "2022-12-04T04:31:36.421Z"
   },
   {
    "duration": 88,
    "start_time": "2022-12-04T04:31:36.429Z"
   },
   {
    "duration": 732,
    "start_time": "2022-12-04T04:31:36.519Z"
   },
   {
    "duration": 367,
    "start_time": "2022-12-04T04:31:37.253Z"
   },
   {
    "duration": 448,
    "start_time": "2022-12-04T04:31:37.622Z"
   },
   {
    "duration": 5,
    "start_time": "2022-12-04T04:31:38.071Z"
   },
   {
    "duration": 17,
    "start_time": "2022-12-04T04:31:38.077Z"
   },
   {
    "duration": 157,
    "start_time": "2022-12-04T04:31:38.095Z"
   },
   {
    "duration": 46,
    "start_time": "2022-12-04T04:31:52.101Z"
   },
   {
    "duration": 1376,
    "start_time": "2022-12-04T04:31:59.411Z"
   },
   {
    "duration": 1105,
    "start_time": "2022-12-04T04:32:00.789Z"
   },
   {
    "duration": 17,
    "start_time": "2022-12-04T04:32:01.896Z"
   },
   {
    "duration": 191,
    "start_time": "2022-12-04T04:32:01.915Z"
   },
   {
    "duration": 128,
    "start_time": "2022-12-04T04:32:02.107Z"
   },
   {
    "duration": 122,
    "start_time": "2022-12-04T04:32:02.236Z"
   },
   {
    "duration": 55,
    "start_time": "2022-12-04T04:32:02.360Z"
   },
   {
    "duration": 30,
    "start_time": "2022-12-04T04:32:02.417Z"
   },
   {
    "duration": 128,
    "start_time": "2022-12-04T04:32:02.449Z"
   },
   {
    "duration": 6,
    "start_time": "2022-12-04T04:32:02.580Z"
   },
   {
    "duration": 7,
    "start_time": "2022-12-04T04:32:02.587Z"
   },
   {
    "duration": 38,
    "start_time": "2022-12-04T04:32:02.595Z"
   },
   {
    "duration": 10,
    "start_time": "2022-12-04T04:32:02.635Z"
   },
   {
    "duration": 15,
    "start_time": "2022-12-04T04:32:02.646Z"
   },
   {
    "duration": 55,
    "start_time": "2022-12-04T04:32:02.663Z"
   },
   {
    "duration": 9,
    "start_time": "2022-12-04T04:32:02.720Z"
   },
   {
    "duration": 80,
    "start_time": "2022-12-04T04:32:02.731Z"
   },
   {
    "duration": 690,
    "start_time": "2022-12-04T04:32:02.815Z"
   },
   {
    "duration": 373,
    "start_time": "2022-12-04T04:32:03.506Z"
   },
   {
    "duration": 431,
    "start_time": "2022-12-04T04:32:03.881Z"
   },
   {
    "duration": 3,
    "start_time": "2022-12-04T04:32:04.314Z"
   },
   {
    "duration": 7,
    "start_time": "2022-12-04T04:32:04.318Z"
   },
   {
    "duration": 164,
    "start_time": "2022-12-04T04:32:04.326Z"
   },
   {
    "duration": 49,
    "start_time": "2022-12-04T04:33:51.372Z"
   },
   {
    "duration": 45,
    "start_time": "2022-12-04T04:34:02.097Z"
   },
   {
    "duration": 1312,
    "start_time": "2022-12-04T04:34:08.217Z"
   },
   {
    "duration": 1053,
    "start_time": "2022-12-04T04:34:09.530Z"
   },
   {
    "duration": 19,
    "start_time": "2022-12-04T04:34:10.584Z"
   },
   {
    "duration": 121,
    "start_time": "2022-12-04T04:34:10.605Z"
   },
   {
    "duration": 117,
    "start_time": "2022-12-04T04:34:10.728Z"
   },
   {
    "duration": 127,
    "start_time": "2022-12-04T04:34:10.846Z"
   },
   {
    "duration": 56,
    "start_time": "2022-12-04T04:34:10.975Z"
   },
   {
    "duration": 28,
    "start_time": "2022-12-04T04:34:11.033Z"
   },
   {
    "duration": 123,
    "start_time": "2022-12-04T04:34:11.062Z"
   },
   {
    "duration": 6,
    "start_time": "2022-12-04T04:34:11.188Z"
   },
   {
    "duration": 19,
    "start_time": "2022-12-04T04:34:11.196Z"
   },
   {
    "duration": 22,
    "start_time": "2022-12-04T04:34:11.217Z"
   },
   {
    "duration": 10,
    "start_time": "2022-12-04T04:34:11.241Z"
   },
   {
    "duration": 14,
    "start_time": "2022-12-04T04:34:11.253Z"
   },
   {
    "duration": 61,
    "start_time": "2022-12-04T04:34:11.268Z"
   },
   {
    "duration": 6,
    "start_time": "2022-12-04T04:34:11.331Z"
   },
   {
    "duration": 93,
    "start_time": "2022-12-04T04:34:11.339Z"
   },
   {
    "duration": 735,
    "start_time": "2022-12-04T04:34:11.433Z"
   },
   {
    "duration": 432,
    "start_time": "2022-12-04T04:34:12.169Z"
   },
   {
    "duration": 439,
    "start_time": "2022-12-04T04:34:12.603Z"
   },
   {
    "duration": 5,
    "start_time": "2022-12-04T04:34:13.044Z"
   },
   {
    "duration": 8,
    "start_time": "2022-12-04T04:34:13.051Z"
   },
   {
    "duration": 174,
    "start_time": "2022-12-04T04:34:13.061Z"
   },
   {
    "duration": 134,
    "start_time": "2022-12-04T04:34:13.237Z"
   },
   {
    "duration": 0,
    "start_time": "2022-12-04T04:34:13.373Z"
   },
   {
    "duration": 16,
    "start_time": "2022-12-04T04:35:10.672Z"
   },
   {
    "duration": 4,
    "start_time": "2022-12-04T04:59:49.434Z"
   },
   {
    "duration": 771,
    "start_time": "2022-12-04T04:59:49.440Z"
   },
   {
    "duration": 13,
    "start_time": "2022-12-04T04:59:50.213Z"
   },
   {
    "duration": 132,
    "start_time": "2022-12-04T04:59:50.227Z"
   },
   {
    "duration": 127,
    "start_time": "2022-12-04T04:59:50.360Z"
   },
   {
    "duration": 126,
    "start_time": "2022-12-04T04:59:50.489Z"
   },
   {
    "duration": 47,
    "start_time": "2022-12-04T04:59:50.617Z"
   },
   {
    "duration": 28,
    "start_time": "2022-12-04T04:59:50.666Z"
   },
   {
    "duration": 93,
    "start_time": "2022-12-04T04:59:50.696Z"
   },
   {
    "duration": 6,
    "start_time": "2022-12-04T04:59:50.790Z"
   },
   {
    "duration": 23,
    "start_time": "2022-12-04T04:59:50.797Z"
   },
   {
    "duration": 24,
    "start_time": "2022-12-04T04:59:50.822Z"
   },
   {
    "duration": 11,
    "start_time": "2022-12-04T04:59:50.848Z"
   },
   {
    "duration": 16,
    "start_time": "2022-12-04T04:59:50.861Z"
   },
   {
    "duration": 47,
    "start_time": "2022-12-04T04:59:50.878Z"
   },
   {
    "duration": 4,
    "start_time": "2022-12-04T04:59:50.926Z"
   },
   {
    "duration": 104,
    "start_time": "2022-12-04T04:59:50.931Z"
   },
   {
    "duration": 702,
    "start_time": "2022-12-04T04:59:51.036Z"
   },
   {
    "duration": 378,
    "start_time": "2022-12-04T04:59:51.740Z"
   },
   {
    "duration": 447,
    "start_time": "2022-12-04T04:59:52.120Z"
   },
   {
    "duration": 5,
    "start_time": "2022-12-04T04:59:52.569Z"
   },
   {
    "duration": 9,
    "start_time": "2022-12-04T04:59:52.575Z"
   },
   {
    "duration": 172,
    "start_time": "2022-12-04T04:59:52.586Z"
   },
   {
    "duration": 15,
    "start_time": "2022-12-04T04:59:52.761Z"
   },
   {
    "duration": 4,
    "start_time": "2022-12-04T04:59:52.777Z"
   },
   {
    "duration": 21042,
    "start_time": "2022-12-04T04:59:52.783Z"
   },
   {
    "duration": 9,
    "start_time": "2022-12-04T05:00:13.827Z"
   },
   {
    "duration": 3876,
    "start_time": "2022-12-04T05:00:53.940Z"
   },
   {
    "duration": 120,
    "start_time": "2022-12-04T05:06:56.932Z"
   },
   {
    "duration": 541,
    "start_time": "2022-12-04T05:06:59.450Z"
   },
   {
    "duration": 4,
    "start_time": "2022-12-04T05:07:03.095Z"
   },
   {
    "duration": 4,
    "start_time": "2022-12-04T05:07:54.280Z"
   },
   {
    "duration": 156,
    "start_time": "2022-12-04T05:08:25.319Z"
   },
   {
    "duration": 15,
    "start_time": "2022-12-04T05:08:28.130Z"
   },
   {
    "duration": 3,
    "start_time": "2022-12-04T05:08:37.561Z"
   },
   {
    "duration": 22,
    "start_time": "2022-12-04T05:16:09.106Z"
   },
   {
    "duration": 17799,
    "start_time": "2022-12-04T05:17:00.417Z"
   },
   {
    "duration": 17145,
    "start_time": "2022-12-04T05:17:26.971Z"
   },
   {
    "duration": 528,
    "start_time": "2022-12-04T05:18:26.193Z"
   },
   {
    "duration": 31,
    "start_time": "2022-12-04T05:21:43.630Z"
   },
   {
    "duration": 45553,
    "start_time": "2022-12-04T05:23:05.067Z"
   },
   {
    "duration": 899,
    "start_time": "2022-12-04T05:24:17.115Z"
   },
   {
    "duration": 3,
    "start_time": "2022-12-04T05:29:19.492Z"
   },
   {
    "duration": 226,
    "start_time": "2022-12-04T05:31:21.094Z"
   },
   {
    "duration": 230,
    "start_time": "2022-12-04T05:31:28.178Z"
   },
   {
    "duration": 4,
    "start_time": "2022-12-04T05:32:26.316Z"
   },
   {
    "duration": 4,
    "start_time": "2022-12-04T05:32:29.347Z"
   },
   {
    "duration": 238,
    "start_time": "2022-12-04T05:32:36.921Z"
   },
   {
    "duration": 238,
    "start_time": "2022-12-04T05:32:49.191Z"
   },
   {
    "duration": 241,
    "start_time": "2022-12-04T05:33:00.928Z"
   },
   {
    "duration": 190,
    "start_time": "2022-12-04T05:33:26.627Z"
   },
   {
    "duration": 66,
    "start_time": "2022-12-04T05:33:49.248Z"
   },
   {
    "duration": 20969,
    "start_time": "2022-12-04T05:34:02.147Z"
   },
   {
    "duration": 3093,
    "start_time": "2022-12-04T05:34:27.423Z"
   },
   {
    "duration": 758,
    "start_time": "2022-12-04T05:34:32.868Z"
   },
   {
    "duration": 1343,
    "start_time": "2022-12-04T05:54:03.956Z"
   },
   {
    "duration": 787,
    "start_time": "2022-12-04T05:54:05.301Z"
   },
   {
    "duration": 15,
    "start_time": "2022-12-04T05:54:06.089Z"
   },
   {
    "duration": 145,
    "start_time": "2022-12-04T05:54:06.106Z"
   },
   {
    "duration": 152,
    "start_time": "2022-12-04T05:54:06.252Z"
   },
   {
    "duration": 131,
    "start_time": "2022-12-04T05:54:06.405Z"
   },
   {
    "duration": 54,
    "start_time": "2022-12-04T05:54:06.538Z"
   },
   {
    "duration": 41,
    "start_time": "2022-12-04T05:54:06.594Z"
   },
   {
    "duration": 147,
    "start_time": "2022-12-04T05:54:06.636Z"
   },
   {
    "duration": 5,
    "start_time": "2022-12-04T05:54:06.785Z"
   },
   {
    "duration": 6,
    "start_time": "2022-12-04T05:54:06.792Z"
   },
   {
    "duration": 30,
    "start_time": "2022-12-04T05:54:06.799Z"
   },
   {
    "duration": 10,
    "start_time": "2022-12-04T05:54:06.831Z"
   },
   {
    "duration": 16,
    "start_time": "2022-12-04T05:54:06.843Z"
   },
   {
    "duration": 32,
    "start_time": "2022-12-04T05:54:06.860Z"
   },
   {
    "duration": 4,
    "start_time": "2022-12-04T05:54:06.916Z"
   },
   {
    "duration": 82,
    "start_time": "2022-12-04T05:54:06.922Z"
   },
   {
    "duration": 735,
    "start_time": "2022-12-04T05:54:07.015Z"
   },
   {
    "duration": 405,
    "start_time": "2022-12-04T05:54:07.752Z"
   },
   {
    "duration": 258,
    "start_time": "2022-12-04T05:54:08.158Z"
   },
   {
    "duration": 0,
    "start_time": "2022-12-04T05:54:08.419Z"
   },
   {
    "duration": 0,
    "start_time": "2022-12-04T05:54:08.420Z"
   },
   {
    "duration": 0,
    "start_time": "2022-12-04T05:54:08.422Z"
   },
   {
    "duration": 0,
    "start_time": "2022-12-04T05:54:08.424Z"
   },
   {
    "duration": 0,
    "start_time": "2022-12-04T05:54:08.425Z"
   },
   {
    "duration": 0,
    "start_time": "2022-12-04T05:54:08.427Z"
   },
   {
    "duration": 0,
    "start_time": "2022-12-04T05:54:08.428Z"
   },
   {
    "duration": 0,
    "start_time": "2022-12-04T05:54:08.430Z"
   },
   {
    "duration": 0,
    "start_time": "2022-12-04T05:54:08.431Z"
   },
   {
    "duration": 0,
    "start_time": "2022-12-04T05:54:08.432Z"
   },
   {
    "duration": 0,
    "start_time": "2022-12-04T05:54:08.433Z"
   },
   {
    "duration": 0,
    "start_time": "2022-12-04T05:54:08.434Z"
   },
   {
    "duration": 0,
    "start_time": "2022-12-04T05:54:08.435Z"
   },
   {
    "duration": 0,
    "start_time": "2022-12-04T05:54:08.437Z"
   },
   {
    "duration": 4,
    "start_time": "2022-12-04T06:01:12.134Z"
   },
   {
    "duration": 118,
    "start_time": "2022-12-04T06:01:17.713Z"
   },
   {
    "duration": 567,
    "start_time": "2022-12-04T06:01:25.608Z"
   },
   {
    "duration": 3,
    "start_time": "2022-12-04T06:01:28.973Z"
   },
   {
    "duration": 151,
    "start_time": "2022-12-04T06:01:30.371Z"
   },
   {
    "duration": 15,
    "start_time": "2022-12-04T06:01:31.265Z"
   },
   {
    "duration": 2,
    "start_time": "2022-12-04T06:01:41.929Z"
   },
   {
    "duration": 67,
    "start_time": "2022-12-04T06:02:09.077Z"
   },
   {
    "duration": 54,
    "start_time": "2022-12-04T06:02:22.374Z"
   },
   {
    "duration": 5,
    "start_time": "2022-12-04T06:03:35.570Z"
   },
   {
    "duration": 60,
    "start_time": "2022-12-04T06:03:46.382Z"
   },
   {
    "duration": 1345,
    "start_time": "2022-12-04T06:13:09.729Z"
   },
   {
    "duration": 780,
    "start_time": "2022-12-04T06:13:11.076Z"
   },
   {
    "duration": 16,
    "start_time": "2022-12-04T06:13:11.858Z"
   },
   {
    "duration": 129,
    "start_time": "2022-12-04T06:13:11.877Z"
   },
   {
    "duration": 140,
    "start_time": "2022-12-04T06:13:12.007Z"
   },
   {
    "duration": 117,
    "start_time": "2022-12-04T06:13:12.149Z"
   },
   {
    "duration": 61,
    "start_time": "2022-12-04T06:13:12.268Z"
   },
   {
    "duration": 29,
    "start_time": "2022-12-04T06:13:12.330Z"
   },
   {
    "duration": 153,
    "start_time": "2022-12-04T06:13:12.360Z"
   },
   {
    "duration": 6,
    "start_time": "2022-12-04T06:13:12.516Z"
   },
   {
    "duration": 8,
    "start_time": "2022-12-04T06:13:12.523Z"
   },
   {
    "duration": 17,
    "start_time": "2022-12-04T06:13:12.533Z"
   },
   {
    "duration": 10,
    "start_time": "2022-12-04T06:13:12.552Z"
   },
   {
    "duration": 16,
    "start_time": "2022-12-04T06:13:12.564Z"
   },
   {
    "duration": 55,
    "start_time": "2022-12-04T06:13:12.582Z"
   },
   {
    "duration": 8,
    "start_time": "2022-12-04T06:13:12.639Z"
   },
   {
    "duration": 91,
    "start_time": "2022-12-04T06:13:12.648Z"
   },
   {
    "duration": 660,
    "start_time": "2022-12-04T06:13:12.741Z"
   },
   {
    "duration": 382,
    "start_time": "2022-12-04T06:13:13.402Z"
   },
   {
    "duration": 3,
    "start_time": "2022-12-04T06:13:13.785Z"
   },
   {
    "duration": 131,
    "start_time": "2022-12-04T06:13:13.789Z"
   },
   {
    "duration": 550,
    "start_time": "2022-12-04T06:13:13.922Z"
   },
   {
    "duration": 5,
    "start_time": "2022-12-04T06:13:14.473Z"
   },
   {
    "duration": 157,
    "start_time": "2022-12-04T06:13:14.479Z"
   },
   {
    "duration": 15,
    "start_time": "2022-12-04T06:13:14.637Z"
   },
   {
    "duration": 9973,
    "start_time": "2022-12-04T06:13:14.654Z"
   },
   {
    "duration": 3201,
    "start_time": "2022-12-04T06:13:24.715Z"
   },
   {
    "duration": 810,
    "start_time": "2022-12-04T06:13:27.918Z"
   },
   {
    "duration": 18092,
    "start_time": "2022-12-04T06:13:28.730Z"
   },
   {
    "duration": 691,
    "start_time": "2022-12-04T06:13:46.824Z"
   },
   {
    "duration": 202,
    "start_time": "2022-12-04T06:13:47.518Z"
   },
   {
    "duration": 1362,
    "start_time": "2022-12-04T06:24:27.945Z"
   },
   {
    "duration": 786,
    "start_time": "2022-12-04T06:24:29.309Z"
   },
   {
    "duration": 19,
    "start_time": "2022-12-04T06:24:30.097Z"
   },
   {
    "duration": 129,
    "start_time": "2022-12-04T06:24:30.118Z"
   },
   {
    "duration": 134,
    "start_time": "2022-12-04T06:24:30.249Z"
   },
   {
    "duration": 135,
    "start_time": "2022-12-04T06:24:30.385Z"
   },
   {
    "duration": 51,
    "start_time": "2022-12-04T06:24:30.521Z"
   },
   {
    "duration": 32,
    "start_time": "2022-12-04T06:24:30.573Z"
   },
   {
    "duration": 161,
    "start_time": "2022-12-04T06:24:30.616Z"
   },
   {
    "duration": 6,
    "start_time": "2022-12-04T06:24:30.780Z"
   },
   {
    "duration": 37,
    "start_time": "2022-12-04T06:24:30.788Z"
   },
   {
    "duration": 28,
    "start_time": "2022-12-04T06:24:30.827Z"
   },
   {
    "duration": 12,
    "start_time": "2022-12-04T06:24:30.857Z"
   },
   {
    "duration": 36,
    "start_time": "2022-12-04T06:24:30.870Z"
   },
   {
    "duration": 32,
    "start_time": "2022-12-04T06:24:30.908Z"
   },
   {
    "duration": 19,
    "start_time": "2022-12-04T06:24:30.941Z"
   },
   {
    "duration": 106,
    "start_time": "2022-12-04T06:24:30.962Z"
   },
   {
    "duration": 743,
    "start_time": "2022-12-04T06:24:31.070Z"
   },
   {
    "duration": 381,
    "start_time": "2022-12-04T06:24:31.815Z"
   },
   {
    "duration": 3,
    "start_time": "2022-12-04T06:24:32.197Z"
   },
   {
    "duration": 132,
    "start_time": "2022-12-04T06:24:32.202Z"
   },
   {
    "duration": 562,
    "start_time": "2022-12-04T06:24:32.335Z"
   },
   {
    "duration": 3,
    "start_time": "2022-12-04T06:24:32.899Z"
   },
   {
    "duration": 151,
    "start_time": "2022-12-04T06:24:32.904Z"
   },
   {
    "duration": 14,
    "start_time": "2022-12-04T06:24:33.056Z"
   },
   {
    "duration": 9748,
    "start_time": "2022-12-04T06:24:33.072Z"
   },
   {
    "duration": 3194,
    "start_time": "2022-12-04T06:24:42.822Z"
   },
   {
    "duration": 805,
    "start_time": "2022-12-04T06:24:46.019Z"
   },
   {
    "duration": 18390,
    "start_time": "2022-12-04T06:24:46.826Z"
   },
   {
    "duration": 604,
    "start_time": "2022-12-04T06:25:05.218Z"
   },
   {
    "duration": 294,
    "start_time": "2022-12-04T06:25:05.824Z"
   },
   {
    "duration": 255,
    "start_time": "2022-12-04T06:25:06.123Z"
   },
   {
    "duration": 13,
    "start_time": "2022-12-04T06:25:06.380Z"
   },
   {
    "duration": 0,
    "start_time": "2022-12-04T06:25:06.395Z"
   },
   {
    "duration": 113,
    "start_time": "2022-12-04T10:31:46.591Z"
   },
   {
    "duration": 1768,
    "start_time": "2022-12-04T10:32:19.179Z"
   },
   {
    "duration": 2821,
    "start_time": "2022-12-04T10:32:20.949Z"
   },
   {
    "duration": 19,
    "start_time": "2022-12-04T10:32:23.772Z"
   },
   {
    "duration": 150,
    "start_time": "2022-12-04T10:32:23.793Z"
   },
   {
    "duration": 140,
    "start_time": "2022-12-04T10:32:23.946Z"
   },
   {
    "duration": 174,
    "start_time": "2022-12-04T10:32:24.088Z"
   },
   {
    "duration": 77,
    "start_time": "2022-12-04T10:32:24.263Z"
   },
   {
    "duration": 32,
    "start_time": "2022-12-04T10:32:24.341Z"
   },
   {
    "duration": 255,
    "start_time": "2022-12-04T10:32:24.375Z"
   },
   {
    "duration": 6,
    "start_time": "2022-12-04T10:32:24.633Z"
   },
   {
    "duration": 8,
    "start_time": "2022-12-04T10:32:24.641Z"
   },
   {
    "duration": 25,
    "start_time": "2022-12-04T10:32:24.650Z"
   },
   {
    "duration": 38,
    "start_time": "2022-12-04T10:32:24.676Z"
   },
   {
    "duration": 14,
    "start_time": "2022-12-04T10:32:24.716Z"
   },
   {
    "duration": 32,
    "start_time": "2022-12-04T10:32:24.732Z"
   },
   {
    "duration": 27,
    "start_time": "2022-12-04T10:32:24.766Z"
   },
   {
    "duration": 87,
    "start_time": "2022-12-04T10:32:24.804Z"
   },
   {
    "duration": 1196,
    "start_time": "2022-12-04T10:32:24.904Z"
   },
   {
    "duration": 627,
    "start_time": "2022-12-04T10:32:26.102Z"
   },
   {
    "duration": 2,
    "start_time": "2022-12-04T10:32:26.731Z"
   },
   {
    "duration": 344,
    "start_time": "2022-12-04T10:32:26.735Z"
   },
   {
    "duration": 966,
    "start_time": "2022-12-04T10:32:27.081Z"
   },
   {
    "duration": 3,
    "start_time": "2022-12-04T10:32:28.049Z"
   },
   {
    "duration": 202,
    "start_time": "2022-12-04T10:32:28.054Z"
   },
   {
    "duration": 21,
    "start_time": "2022-12-04T10:32:28.258Z"
   },
   {
    "duration": 1538,
    "start_time": "2022-12-04T10:33:46.763Z"
   },
   {
    "duration": 1161,
    "start_time": "2022-12-04T10:33:48.303Z"
   },
   {
    "duration": 16,
    "start_time": "2022-12-04T10:33:49.465Z"
   },
   {
    "duration": 146,
    "start_time": "2022-12-04T10:33:49.483Z"
   },
   {
    "duration": 123,
    "start_time": "2022-12-04T10:33:49.631Z"
   },
   {
    "duration": 140,
    "start_time": "2022-12-04T10:33:49.755Z"
   },
   {
    "duration": 52,
    "start_time": "2022-12-04T10:33:49.897Z"
   },
   {
    "duration": 28,
    "start_time": "2022-12-04T10:33:49.951Z"
   },
   {
    "duration": 169,
    "start_time": "2022-12-04T10:33:49.981Z"
   },
   {
    "duration": 6,
    "start_time": "2022-12-04T10:33:50.153Z"
   },
   {
    "duration": 47,
    "start_time": "2022-12-04T10:33:50.160Z"
   },
   {
    "duration": 42,
    "start_time": "2022-12-04T10:33:50.209Z"
   },
   {
    "duration": 39,
    "start_time": "2022-12-04T10:33:50.252Z"
   },
   {
    "duration": 33,
    "start_time": "2022-12-04T10:33:50.292Z"
   },
   {
    "duration": 68,
    "start_time": "2022-12-04T10:33:50.326Z"
   },
   {
    "duration": 42,
    "start_time": "2022-12-04T10:33:50.396Z"
   },
   {
    "duration": 104,
    "start_time": "2022-12-04T10:33:50.440Z"
   },
   {
    "duration": 743,
    "start_time": "2022-12-04T10:33:50.546Z"
   },
   {
    "duration": 385,
    "start_time": "2022-12-04T10:33:51.291Z"
   },
   {
    "duration": 2,
    "start_time": "2022-12-04T10:33:51.678Z"
   },
   {
    "duration": 180,
    "start_time": "2022-12-04T10:33:51.681Z"
   },
   {
    "duration": 644,
    "start_time": "2022-12-04T10:33:51.862Z"
   },
   {
    "duration": 3,
    "start_time": "2022-12-04T10:33:52.508Z"
   },
   {
    "duration": 182,
    "start_time": "2022-12-04T10:33:52.513Z"
   },
   {
    "duration": 18,
    "start_time": "2022-12-04T10:33:52.697Z"
   },
   {
    "duration": 31996,
    "start_time": "2022-12-04T10:33:52.716Z"
   },
   {
    "duration": 3101,
    "start_time": "2022-12-04T10:34:24.714Z"
   },
   {
    "duration": 795,
    "start_time": "2022-12-04T10:34:27.819Z"
   },
   {
    "duration": 3,
    "start_time": "2022-12-04T10:34:28.616Z"
   },
   {
    "duration": 6,
    "start_time": "2022-12-04T10:34:28.621Z"
   },
   {
    "duration": 5,
    "start_time": "2022-12-04T10:34:28.629Z"
   },
   {
    "duration": 113,
    "start_time": "2022-12-04T10:44:42.386Z"
   },
   {
    "duration": 1395,
    "start_time": "2022-12-04T10:44:49.873Z"
   },
   {
    "duration": 791,
    "start_time": "2022-12-04T10:44:51.269Z"
   },
   {
    "duration": 16,
    "start_time": "2022-12-04T10:44:52.061Z"
   },
   {
    "duration": 144,
    "start_time": "2022-12-04T10:44:52.079Z"
   },
   {
    "duration": 126,
    "start_time": "2022-12-04T10:44:52.226Z"
   },
   {
    "duration": 128,
    "start_time": "2022-12-04T10:44:52.353Z"
   },
   {
    "duration": 52,
    "start_time": "2022-12-04T10:44:52.482Z"
   },
   {
    "duration": 28,
    "start_time": "2022-12-04T10:44:52.536Z"
   },
   {
    "duration": 147,
    "start_time": "2022-12-04T10:44:52.566Z"
   },
   {
    "duration": 6,
    "start_time": "2022-12-04T10:44:52.714Z"
   },
   {
    "duration": 25,
    "start_time": "2022-12-04T10:44:52.721Z"
   },
   {
    "duration": 46,
    "start_time": "2022-12-04T10:44:52.747Z"
   },
   {
    "duration": 19,
    "start_time": "2022-12-04T10:44:52.795Z"
   },
   {
    "duration": 26,
    "start_time": "2022-12-04T10:44:52.818Z"
   },
   {
    "duration": 35,
    "start_time": "2022-12-04T10:44:52.845Z"
   },
   {
    "duration": 12,
    "start_time": "2022-12-04T10:44:52.881Z"
   },
   {
    "duration": 124,
    "start_time": "2022-12-04T10:44:52.895Z"
   },
   {
    "duration": 770,
    "start_time": "2022-12-04T10:44:53.021Z"
   },
   {
    "duration": 379,
    "start_time": "2022-12-04T10:44:53.793Z"
   },
   {
    "duration": 3,
    "start_time": "2022-12-04T10:44:54.173Z"
   },
   {
    "duration": 149,
    "start_time": "2022-12-04T10:44:54.180Z"
   },
   {
    "duration": 542,
    "start_time": "2022-12-04T10:44:54.330Z"
   },
   {
    "duration": 3,
    "start_time": "2022-12-04T10:44:54.873Z"
   },
   {
    "duration": 188,
    "start_time": "2022-12-04T10:44:54.877Z"
   },
   {
    "duration": 22,
    "start_time": "2022-12-04T10:44:55.067Z"
   },
   {
    "duration": 160820,
    "start_time": "2022-12-04T10:44:55.091Z"
   },
   {
    "duration": 3093,
    "start_time": "2022-12-04T10:47:35.912Z"
   },
   {
    "duration": 800,
    "start_time": "2022-12-04T10:47:39.007Z"
   },
   {
    "duration": 4,
    "start_time": "2022-12-04T10:47:39.808Z"
   },
   {
    "duration": 6,
    "start_time": "2022-12-04T10:47:39.813Z"
   },
   {
    "duration": 7,
    "start_time": "2022-12-04T10:47:39.821Z"
   },
   {
    "duration": 68,
    "start_time": "2022-12-04T10:47:39.831Z"
   },
   {
    "duration": 5,
    "start_time": "2022-12-04T10:48:14.296Z"
   },
   {
    "duration": 710,
    "start_time": "2022-12-04T10:48:14.303Z"
   },
   {
    "duration": 14,
    "start_time": "2022-12-04T10:48:15.015Z"
   },
   {
    "duration": 133,
    "start_time": "2022-12-04T10:48:15.031Z"
   },
   {
    "duration": 118,
    "start_time": "2022-12-04T10:48:15.166Z"
   },
   {
    "duration": 123,
    "start_time": "2022-12-04T10:48:15.286Z"
   },
   {
    "duration": 49,
    "start_time": "2022-12-04T10:48:15.410Z"
   },
   {
    "duration": 46,
    "start_time": "2022-12-04T10:48:15.461Z"
   },
   {
    "duration": 82,
    "start_time": "2022-12-04T10:48:15.508Z"
   },
   {
    "duration": 14,
    "start_time": "2022-12-04T10:48:15.591Z"
   },
   {
    "duration": 6,
    "start_time": "2022-12-04T10:48:15.606Z"
   },
   {
    "duration": 63,
    "start_time": "2022-12-04T10:48:15.614Z"
   },
   {
    "duration": 22,
    "start_time": "2022-12-04T10:48:15.678Z"
   },
   {
    "duration": 16,
    "start_time": "2022-12-04T10:48:15.702Z"
   },
   {
    "duration": 33,
    "start_time": "2022-12-04T10:48:15.720Z"
   },
   {
    "duration": 4,
    "start_time": "2022-12-04T10:48:15.754Z"
   },
   {
    "duration": 110,
    "start_time": "2022-12-04T10:48:15.759Z"
   },
   {
    "duration": 753,
    "start_time": "2022-12-04T10:48:15.871Z"
   },
   {
    "duration": 366,
    "start_time": "2022-12-04T10:48:16.625Z"
   },
   {
    "duration": 11,
    "start_time": "2022-12-04T10:48:16.993Z"
   },
   {
    "duration": 128,
    "start_time": "2022-12-04T10:48:17.006Z"
   },
   {
    "duration": 577,
    "start_time": "2022-12-04T10:48:17.135Z"
   },
   {
    "duration": 4,
    "start_time": "2022-12-04T10:48:17.714Z"
   },
   {
    "duration": 152,
    "start_time": "2022-12-04T10:48:17.719Z"
   },
   {
    "duration": 15,
    "start_time": "2022-12-04T10:48:17.873Z"
   },
   {
    "duration": 4,
    "start_time": "2022-12-04T10:48:24.750Z"
   },
   {
    "duration": 4,
    "start_time": "2022-12-04T10:49:55.173Z"
   },
   {
    "duration": 1427,
    "start_time": "2022-12-04T10:58:33.693Z"
   },
   {
    "duration": 783,
    "start_time": "2022-12-04T10:58:35.122Z"
   },
   {
    "duration": 16,
    "start_time": "2022-12-04T10:58:35.906Z"
   },
   {
    "duration": 130,
    "start_time": "2022-12-04T10:58:35.923Z"
   },
   {
    "duration": 127,
    "start_time": "2022-12-04T10:58:36.055Z"
   },
   {
    "duration": 130,
    "start_time": "2022-12-04T10:58:36.183Z"
   },
   {
    "duration": 48,
    "start_time": "2022-12-04T10:58:36.314Z"
   },
   {
    "duration": 29,
    "start_time": "2022-12-04T10:58:36.363Z"
   },
   {
    "duration": 147,
    "start_time": "2022-12-04T10:58:36.404Z"
   },
   {
    "duration": 6,
    "start_time": "2022-12-04T10:58:36.553Z"
   },
   {
    "duration": 15,
    "start_time": "2022-12-04T10:58:36.560Z"
   },
   {
    "duration": 27,
    "start_time": "2022-12-04T10:58:36.577Z"
   },
   {
    "duration": 11,
    "start_time": "2022-12-04T10:58:36.606Z"
   },
   {
    "duration": 13,
    "start_time": "2022-12-04T10:58:36.619Z"
   },
   {
    "duration": 29,
    "start_time": "2022-12-04T10:58:36.634Z"
   },
   {
    "duration": 11,
    "start_time": "2022-12-04T10:58:36.665Z"
   },
   {
    "duration": 96,
    "start_time": "2022-12-04T10:58:36.677Z"
   },
   {
    "duration": 857,
    "start_time": "2022-12-04T10:58:36.774Z"
   },
   {
    "duration": 382,
    "start_time": "2022-12-04T10:58:37.633Z"
   },
   {
    "duration": 2,
    "start_time": "2022-12-04T10:58:38.017Z"
   },
   {
    "duration": 132,
    "start_time": "2022-12-04T10:58:38.021Z"
   },
   {
    "duration": 568,
    "start_time": "2022-12-04T10:58:38.155Z"
   },
   {
    "duration": 4,
    "start_time": "2022-12-04T10:58:38.724Z"
   },
   {
    "duration": 174,
    "start_time": "2022-12-04T10:58:38.730Z"
   },
   {
    "duration": 15,
    "start_time": "2022-12-04T10:58:38.906Z"
   },
   {
    "duration": 4,
    "start_time": "2022-12-04T10:58:38.923Z"
   },
   {
    "duration": 1502,
    "start_time": "2022-12-04T11:01:13.788Z"
   },
   {
    "duration": 794,
    "start_time": "2022-12-04T11:01:15.291Z"
   },
   {
    "duration": 19,
    "start_time": "2022-12-04T11:01:16.087Z"
   },
   {
    "duration": 134,
    "start_time": "2022-12-04T11:01:16.108Z"
   },
   {
    "duration": 123,
    "start_time": "2022-12-04T11:01:16.244Z"
   },
   {
    "duration": 127,
    "start_time": "2022-12-04T11:01:16.369Z"
   },
   {
    "duration": 46,
    "start_time": "2022-12-04T11:01:16.504Z"
   },
   {
    "duration": 28,
    "start_time": "2022-12-04T11:01:16.551Z"
   },
   {
    "duration": 169,
    "start_time": "2022-12-04T11:01:16.581Z"
   },
   {
    "duration": 5,
    "start_time": "2022-12-04T11:01:16.753Z"
   },
   {
    "duration": 7,
    "start_time": "2022-12-04T11:01:16.759Z"
   },
   {
    "duration": 38,
    "start_time": "2022-12-04T11:01:16.767Z"
   },
   {
    "duration": 12,
    "start_time": "2022-12-04T11:01:16.806Z"
   },
   {
    "duration": 14,
    "start_time": "2022-12-04T11:01:16.820Z"
   },
   {
    "duration": 28,
    "start_time": "2022-12-04T11:01:16.836Z"
   },
   {
    "duration": 3,
    "start_time": "2022-12-04T11:01:16.866Z"
   },
   {
    "duration": 109,
    "start_time": "2022-12-04T11:01:16.871Z"
   },
   {
    "duration": 750,
    "start_time": "2022-12-04T11:01:16.982Z"
   },
   {
    "duration": 414,
    "start_time": "2022-12-04T11:01:17.733Z"
   },
   {
    "duration": 3,
    "start_time": "2022-12-04T11:01:18.157Z"
   },
   {
    "duration": 128,
    "start_time": "2022-12-04T11:01:18.162Z"
   },
   {
    "duration": 564,
    "start_time": "2022-12-04T11:01:18.292Z"
   },
   {
    "duration": 3,
    "start_time": "2022-12-04T11:01:18.858Z"
   },
   {
    "duration": 167,
    "start_time": "2022-12-04T11:01:18.862Z"
   },
   {
    "duration": 19,
    "start_time": "2022-12-04T11:01:19.031Z"
   },
   {
    "duration": 3,
    "start_time": "2022-12-04T11:01:19.052Z"
   },
   {
    "duration": 12,
    "start_time": "2022-12-04T11:01:19.057Z"
   },
   {
    "duration": 0,
    "start_time": "2022-12-04T11:04:23.159Z"
   },
   {
    "duration": 1672,
    "start_time": "2022-12-04T11:04:29.310Z"
   },
   {
    "duration": 796,
    "start_time": "2022-12-04T11:04:30.984Z"
   },
   {
    "duration": 24,
    "start_time": "2022-12-04T11:04:31.781Z"
   },
   {
    "duration": 125,
    "start_time": "2022-12-04T11:04:31.806Z"
   },
   {
    "duration": 130,
    "start_time": "2022-12-04T11:04:31.934Z"
   },
   {
    "duration": 149,
    "start_time": "2022-12-04T11:04:32.065Z"
   },
   {
    "duration": 60,
    "start_time": "2022-12-04T11:04:32.216Z"
   },
   {
    "duration": 42,
    "start_time": "2022-12-04T11:04:32.278Z"
   },
   {
    "duration": 162,
    "start_time": "2022-12-04T11:04:32.322Z"
   },
   {
    "duration": 6,
    "start_time": "2022-12-04T11:04:32.486Z"
   },
   {
    "duration": 15,
    "start_time": "2022-12-04T11:04:32.494Z"
   },
   {
    "duration": 25,
    "start_time": "2022-12-04T11:04:32.510Z"
   },
   {
    "duration": 11,
    "start_time": "2022-12-04T11:04:32.537Z"
   },
   {
    "duration": 14,
    "start_time": "2022-12-04T11:04:32.551Z"
   },
   {
    "duration": 48,
    "start_time": "2022-12-04T11:04:32.566Z"
   },
   {
    "duration": 4,
    "start_time": "2022-12-04T11:04:32.616Z"
   },
   {
    "duration": 88,
    "start_time": "2022-12-04T11:04:32.622Z"
   },
   {
    "duration": 761,
    "start_time": "2022-12-04T11:04:32.711Z"
   },
   {
    "duration": 395,
    "start_time": "2022-12-04T11:04:33.474Z"
   },
   {
    "duration": 3,
    "start_time": "2022-12-04T11:04:33.870Z"
   },
   {
    "duration": 138,
    "start_time": "2022-12-04T11:04:33.874Z"
   },
   {
    "duration": 562,
    "start_time": "2022-12-04T11:04:34.013Z"
   },
   {
    "duration": 4,
    "start_time": "2022-12-04T11:04:34.577Z"
   },
   {
    "duration": 184,
    "start_time": "2022-12-04T11:04:34.582Z"
   },
   {
    "duration": 15,
    "start_time": "2022-12-04T11:04:34.768Z"
   },
   {
    "duration": 21,
    "start_time": "2022-12-04T11:04:34.785Z"
   },
   {
    "duration": 31,
    "start_time": "2022-12-04T11:04:34.807Z"
   },
   {
    "duration": 139414,
    "start_time": "2022-12-04T11:04:34.839Z"
   },
   {
    "duration": 121,
    "start_time": "2022-12-04T11:06:54.255Z"
   },
   {
    "duration": 0,
    "start_time": "2022-12-04T11:06:54.378Z"
   },
   {
    "duration": 0,
    "start_time": "2022-12-04T11:06:54.379Z"
   },
   {
    "duration": 0,
    "start_time": "2022-12-04T11:06:54.381Z"
   },
   {
    "duration": 0,
    "start_time": "2022-12-04T11:06:54.382Z"
   },
   {
    "duration": 0,
    "start_time": "2022-12-04T11:06:54.384Z"
   },
   {
    "duration": 0,
    "start_time": "2022-12-04T11:06:54.385Z"
   },
   {
    "duration": 0,
    "start_time": "2022-12-04T11:06:54.387Z"
   },
   {
    "duration": 0,
    "start_time": "2022-12-04T11:06:54.405Z"
   },
   {
    "duration": 0,
    "start_time": "2022-12-04T11:06:54.407Z"
   },
   {
    "duration": 137610,
    "start_time": "2022-12-04T11:08:56.029Z"
   },
   {
    "duration": 4,
    "start_time": "2022-12-04T11:11:20.577Z"
   },
   {
    "duration": 3,
    "start_time": "2022-12-04T11:11:40.820Z"
   },
   {
    "duration": 2883621,
    "start_time": "2022-12-04T11:11:41.771Z"
   },
   {
    "duration": 4,
    "start_time": "2022-12-04T12:01:23.648Z"
   },
   {
    "duration": 4,
    "start_time": "2022-12-04T12:02:45.973Z"
   },
   {
    "duration": 4,
    "start_time": "2022-12-04T12:02:59.906Z"
   },
   {
    "duration": 121,
    "start_time": "2022-12-04T12:03:03.311Z"
   },
   {
    "duration": 192161,
    "start_time": "2022-12-04T12:03:24.279Z"
   },
   {
    "duration": 274279,
    "start_time": "2022-12-04T12:06:52.052Z"
   },
   {
    "duration": 1737,
    "start_time": "2022-12-04T12:27:45.190Z"
   },
   {
    "duration": 846,
    "start_time": "2022-12-04T12:27:46.929Z"
   },
   {
    "duration": 31,
    "start_time": "2022-12-04T12:27:47.778Z"
   },
   {
    "duration": 173,
    "start_time": "2022-12-04T12:27:47.812Z"
   },
   {
    "duration": 239,
    "start_time": "2022-12-04T12:27:47.988Z"
   },
   {
    "duration": 141,
    "start_time": "2022-12-04T12:27:48.230Z"
   },
   {
    "duration": 73,
    "start_time": "2022-12-04T12:27:48.373Z"
   },
   {
    "duration": 32,
    "start_time": "2022-12-04T12:27:48.448Z"
   },
   {
    "duration": 158,
    "start_time": "2022-12-04T12:27:48.482Z"
   },
   {
    "duration": 7,
    "start_time": "2022-12-04T12:27:48.644Z"
   },
   {
    "duration": 19,
    "start_time": "2022-12-04T12:27:48.653Z"
   },
   {
    "duration": 42,
    "start_time": "2022-12-04T12:27:48.675Z"
   },
   {
    "duration": 15,
    "start_time": "2022-12-04T12:27:48.719Z"
   },
   {
    "duration": 22,
    "start_time": "2022-12-04T12:27:48.736Z"
   },
   {
    "duration": 58,
    "start_time": "2022-12-04T12:27:48.761Z"
   },
   {
    "duration": 5,
    "start_time": "2022-12-04T12:27:48.822Z"
   },
   {
    "duration": 175,
    "start_time": "2022-12-04T12:27:48.829Z"
   },
   {
    "duration": 1061,
    "start_time": "2022-12-04T12:27:49.006Z"
   },
   {
    "duration": 501,
    "start_time": "2022-12-04T12:27:50.069Z"
   },
   {
    "duration": 4,
    "start_time": "2022-12-04T12:27:50.572Z"
   },
   {
    "duration": 141,
    "start_time": "2022-12-04T12:27:50.578Z"
   },
   {
    "duration": 591,
    "start_time": "2022-12-04T12:27:50.722Z"
   },
   {
    "duration": 5,
    "start_time": "2022-12-04T12:27:51.315Z"
   },
   {
    "duration": 168,
    "start_time": "2022-12-04T12:27:51.322Z"
   },
   {
    "duration": 25,
    "start_time": "2022-12-04T12:27:51.492Z"
   },
   {
    "duration": 4,
    "start_time": "2022-12-04T12:27:51.519Z"
   },
   {
    "duration": 26268,
    "start_time": "2022-12-04T12:27:57.937Z"
   },
   {
    "duration": 297,
    "start_time": "2022-12-04T12:28:24.208Z"
   },
   {
    "duration": 382014,
    "start_time": "2022-12-04T12:29:21.192Z"
   },
   {
    "duration": 761,
    "start_time": "2022-12-04T12:35:54.864Z"
   },
   {
    "duration": 7,
    "start_time": "2022-12-05T04:22:59.816Z"
   },
   {
    "duration": 1609,
    "start_time": "2022-12-05T04:23:06.164Z"
   },
   {
    "duration": 1103,
    "start_time": "2022-12-05T04:23:07.775Z"
   },
   {
    "duration": 16,
    "start_time": "2022-12-05T04:23:08.880Z"
   },
   {
    "duration": 137,
    "start_time": "2022-12-05T04:23:08.898Z"
   },
   {
    "duration": 128,
    "start_time": "2022-12-05T04:23:09.037Z"
   },
   {
    "duration": 133,
    "start_time": "2022-12-05T04:23:09.167Z"
   },
   {
    "duration": 63,
    "start_time": "2022-12-05T04:23:09.302Z"
   },
   {
    "duration": 32,
    "start_time": "2022-12-05T04:23:09.367Z"
   },
   {
    "duration": 160,
    "start_time": "2022-12-05T04:23:09.401Z"
   },
   {
    "duration": 6,
    "start_time": "2022-12-05T04:23:09.562Z"
   },
   {
    "duration": 15,
    "start_time": "2022-12-05T04:23:09.569Z"
   },
   {
    "duration": 21,
    "start_time": "2022-12-05T04:23:09.586Z"
   },
   {
    "duration": 10,
    "start_time": "2022-12-05T04:23:09.609Z"
   },
   {
    "duration": 13,
    "start_time": "2022-12-05T04:23:09.636Z"
   },
   {
    "duration": 34,
    "start_time": "2022-12-05T04:23:09.651Z"
   },
   {
    "duration": 9,
    "start_time": "2022-12-05T04:23:09.687Z"
   },
   {
    "duration": 94,
    "start_time": "2022-12-05T04:23:09.698Z"
   },
   {
    "duration": 800,
    "start_time": "2022-12-05T04:23:09.795Z"
   },
   {
    "duration": 463,
    "start_time": "2022-12-05T04:23:10.597Z"
   },
   {
    "duration": 3,
    "start_time": "2022-12-05T04:23:11.062Z"
   },
   {
    "duration": 136,
    "start_time": "2022-12-05T04:23:11.066Z"
   },
   {
    "duration": 562,
    "start_time": "2022-12-05T04:23:11.203Z"
   },
   {
    "duration": 3,
    "start_time": "2022-12-05T04:23:11.767Z"
   },
   {
    "duration": 163,
    "start_time": "2022-12-05T04:23:11.772Z"
   },
   {
    "duration": 15,
    "start_time": "2022-12-05T04:23:11.937Z"
   },
   {
    "duration": 3,
    "start_time": "2022-12-05T04:23:11.953Z"
   },
   {
    "duration": 18483,
    "start_time": "2022-12-05T04:23:11.958Z"
   },
   {
    "duration": 193,
    "start_time": "2022-12-05T04:23:30.443Z"
   },
   {
    "duration": 3,
    "start_time": "2022-12-05T04:23:30.638Z"
   },
   {
    "duration": 129,
    "start_time": "2022-12-05T04:23:30.644Z"
   },
   {
    "duration": 1456,
    "start_time": "2022-12-05T04:29:57.409Z"
   },
   {
    "duration": 811,
    "start_time": "2022-12-05T04:29:58.868Z"
   },
   {
    "duration": 20,
    "start_time": "2022-12-05T04:29:59.680Z"
   },
   {
    "duration": 145,
    "start_time": "2022-12-05T04:29:59.703Z"
   },
   {
    "duration": 125,
    "start_time": "2022-12-05T04:29:59.850Z"
   },
   {
    "duration": 132,
    "start_time": "2022-12-05T04:29:59.977Z"
   },
   {
    "duration": 61,
    "start_time": "2022-12-05T04:30:00.110Z"
   },
   {
    "duration": 30,
    "start_time": "2022-12-05T04:30:00.173Z"
   },
   {
    "duration": 149,
    "start_time": "2022-12-05T04:30:00.204Z"
   },
   {
    "duration": 6,
    "start_time": "2022-12-05T04:30:00.356Z"
   },
   {
    "duration": 8,
    "start_time": "2022-12-05T04:30:00.363Z"
   },
   {
    "duration": 42,
    "start_time": "2022-12-05T04:30:00.373Z"
   },
   {
    "duration": 20,
    "start_time": "2022-12-05T04:30:00.417Z"
   },
   {
    "duration": 36,
    "start_time": "2022-12-05T04:30:00.438Z"
   },
   {
    "duration": 31,
    "start_time": "2022-12-05T04:30:00.476Z"
   },
   {
    "duration": 27,
    "start_time": "2022-12-05T04:30:00.509Z"
   },
   {
    "duration": 99,
    "start_time": "2022-12-05T04:30:00.538Z"
   },
   {
    "duration": 812,
    "start_time": "2022-12-05T04:30:00.638Z"
   },
   {
    "duration": 370,
    "start_time": "2022-12-05T04:30:01.452Z"
   },
   {
    "duration": 3,
    "start_time": "2022-12-05T04:30:01.823Z"
   },
   {
    "duration": 133,
    "start_time": "2022-12-05T04:30:01.827Z"
   },
   {
    "duration": 576,
    "start_time": "2022-12-05T04:30:01.962Z"
   },
   {
    "duration": 5,
    "start_time": "2022-12-05T04:30:02.542Z"
   },
   {
    "duration": 194,
    "start_time": "2022-12-05T04:30:02.549Z"
   },
   {
    "duration": 19,
    "start_time": "2022-12-05T04:30:02.746Z"
   },
   {
    "duration": 3,
    "start_time": "2022-12-05T04:30:02.767Z"
   },
   {
    "duration": 17864,
    "start_time": "2022-12-05T04:30:02.772Z"
   },
   {
    "duration": 198,
    "start_time": "2022-12-05T04:30:20.639Z"
   },
   {
    "duration": 91,
    "start_time": "2022-12-05T04:30:20.845Z"
   },
   {
    "duration": 5,
    "start_time": "2022-12-05T04:30:20.938Z"
   },
   {
    "duration": 1418,
    "start_time": "2022-12-05T04:51:43.828Z"
   },
   {
    "duration": 815,
    "start_time": "2022-12-05T04:51:45.248Z"
   },
   {
    "duration": 18,
    "start_time": "2022-12-05T04:51:46.065Z"
   },
   {
    "duration": 155,
    "start_time": "2022-12-05T04:51:46.086Z"
   },
   {
    "duration": 139,
    "start_time": "2022-12-05T04:51:46.243Z"
   },
   {
    "duration": 139,
    "start_time": "2022-12-05T04:51:46.384Z"
   },
   {
    "duration": 64,
    "start_time": "2022-12-05T04:51:46.525Z"
   },
   {
    "duration": 44,
    "start_time": "2022-12-05T04:51:46.591Z"
   },
   {
    "duration": 172,
    "start_time": "2022-12-05T04:51:46.637Z"
   },
   {
    "duration": 6,
    "start_time": "2022-12-05T04:51:46.812Z"
   },
   {
    "duration": 19,
    "start_time": "2022-12-05T04:51:46.819Z"
   },
   {
    "duration": 27,
    "start_time": "2022-12-05T04:51:46.840Z"
   },
   {
    "duration": 11,
    "start_time": "2022-12-05T04:51:46.869Z"
   },
   {
    "duration": 22,
    "start_time": "2022-12-05T04:51:46.882Z"
   },
   {
    "duration": 51,
    "start_time": "2022-12-05T04:51:46.905Z"
   },
   {
    "duration": 14,
    "start_time": "2022-12-05T04:51:46.957Z"
   },
   {
    "duration": 99,
    "start_time": "2022-12-05T04:51:46.973Z"
   },
   {
    "duration": 798,
    "start_time": "2022-12-05T04:51:47.074Z"
   },
   {
    "duration": 404,
    "start_time": "2022-12-05T04:51:47.874Z"
   },
   {
    "duration": 4,
    "start_time": "2022-12-05T04:51:48.279Z"
   },
   {
    "duration": 139,
    "start_time": "2022-12-05T04:51:48.284Z"
   },
   {
    "duration": 579,
    "start_time": "2022-12-05T04:51:48.425Z"
   },
   {
    "duration": 4,
    "start_time": "2022-12-05T04:51:49.006Z"
   },
   {
    "duration": 191,
    "start_time": "2022-12-05T04:51:49.011Z"
   },
   {
    "duration": 19,
    "start_time": "2022-12-05T04:51:49.204Z"
   },
   {
    "duration": 3,
    "start_time": "2022-12-05T04:51:49.235Z"
   },
   {
    "duration": 25497,
    "start_time": "2022-12-05T04:51:49.240Z"
   },
   {
    "duration": 210,
    "start_time": "2022-12-05T04:52:14.740Z"
   },
   {
    "duration": 3,
    "start_time": "2022-12-05T04:52:15.036Z"
   },
   {
    "duration": 12,
    "start_time": "2022-12-05T04:52:15.041Z"
   },
   {
    "duration": 103168,
    "start_time": "2022-12-05T04:52:23.704Z"
   },
   {
    "duration": 304730,
    "start_time": "2022-12-05T04:55:50.617Z"
   },
   {
    "duration": 7697,
    "start_time": "2022-12-05T05:01:38.557Z"
   },
   {
    "duration": 8459,
    "start_time": "2022-12-05T05:02:09.293Z"
   },
   {
    "duration": 2319,
    "start_time": "2022-12-05T05:02:27.830Z"
   },
   {
    "duration": 540,
    "start_time": "2022-12-05T05:02:44.808Z"
   },
   {
    "duration": 10519,
    "start_time": "2022-12-05T05:03:32.834Z"
   },
   {
    "duration": 49,
    "start_time": "2022-12-05T05:04:34.206Z"
   },
   {
    "duration": 65,
    "start_time": "2022-12-05T05:04:59.062Z"
   },
   {
    "duration": 3,
    "start_time": "2022-12-05T05:05:07.983Z"
   },
   {
    "duration": 1339,
    "start_time": "2022-12-05T05:10:54.639Z"
   },
   {
    "duration": 779,
    "start_time": "2022-12-05T05:10:55.980Z"
   },
   {
    "duration": 18,
    "start_time": "2022-12-05T05:10:56.762Z"
   },
   {
    "duration": 136,
    "start_time": "2022-12-05T05:10:56.782Z"
   },
   {
    "duration": 129,
    "start_time": "2022-12-05T05:10:56.920Z"
   },
   {
    "duration": 137,
    "start_time": "2022-12-05T05:10:57.051Z"
   },
   {
    "duration": 51,
    "start_time": "2022-12-05T05:10:57.190Z"
   },
   {
    "duration": 30,
    "start_time": "2022-12-05T05:10:57.243Z"
   },
   {
    "duration": 149,
    "start_time": "2022-12-05T05:10:57.274Z"
   },
   {
    "duration": 5,
    "start_time": "2022-12-05T05:10:57.425Z"
   },
   {
    "duration": 17,
    "start_time": "2022-12-05T05:10:57.431Z"
   },
   {
    "duration": 27,
    "start_time": "2022-12-05T05:10:57.449Z"
   },
   {
    "duration": 10,
    "start_time": "2022-12-05T05:10:57.478Z"
   },
   {
    "duration": 28,
    "start_time": "2022-12-05T05:10:57.492Z"
   },
   {
    "duration": 32,
    "start_time": "2022-12-05T05:10:57.521Z"
   },
   {
    "duration": 11,
    "start_time": "2022-12-05T05:10:57.554Z"
   },
   {
    "duration": 84,
    "start_time": "2022-12-05T05:10:57.566Z"
   },
   {
    "duration": 708,
    "start_time": "2022-12-05T05:10:57.652Z"
   },
   {
    "duration": 351,
    "start_time": "2022-12-05T05:10:58.361Z"
   },
   {
    "duration": 3,
    "start_time": "2022-12-05T05:10:58.714Z"
   },
   {
    "duration": 143,
    "start_time": "2022-12-05T05:10:58.718Z"
   },
   {
    "duration": 544,
    "start_time": "2022-12-05T05:10:58.863Z"
   },
   {
    "duration": 3,
    "start_time": "2022-12-05T05:10:59.409Z"
   },
   {
    "duration": 151,
    "start_time": "2022-12-05T05:10:59.413Z"
   },
   {
    "duration": 16,
    "start_time": "2022-12-05T05:10:59.566Z"
   },
   {
    "duration": 7,
    "start_time": "2022-12-05T05:10:59.583Z"
   },
   {
    "duration": 17606,
    "start_time": "2022-12-05T05:10:59.591Z"
   },
   {
    "duration": 3,
    "start_time": "2022-12-05T05:11:17.199Z"
   },
   {
    "duration": 1435,
    "start_time": "2022-12-05T05:47:47.845Z"
   },
   {
    "duration": 814,
    "start_time": "2022-12-05T05:47:49.282Z"
   },
   {
    "duration": 16,
    "start_time": "2022-12-05T05:47:50.098Z"
   },
   {
    "duration": 141,
    "start_time": "2022-12-05T05:47:50.117Z"
   },
   {
    "duration": 128,
    "start_time": "2022-12-05T05:47:50.259Z"
   },
   {
    "duration": 143,
    "start_time": "2022-12-05T05:47:50.389Z"
   },
   {
    "duration": 55,
    "start_time": "2022-12-05T05:47:50.533Z"
   },
   {
    "duration": 47,
    "start_time": "2022-12-05T05:47:50.590Z"
   },
   {
    "duration": 151,
    "start_time": "2022-12-05T05:47:50.639Z"
   },
   {
    "duration": 7,
    "start_time": "2022-12-05T05:47:50.795Z"
   },
   {
    "duration": 10,
    "start_time": "2022-12-05T05:47:50.804Z"
   },
   {
    "duration": 44,
    "start_time": "2022-12-05T05:47:50.816Z"
   },
   {
    "duration": 30,
    "start_time": "2022-12-05T05:47:50.862Z"
   },
   {
    "duration": 26,
    "start_time": "2022-12-05T05:47:50.893Z"
   },
   {
    "duration": 42,
    "start_time": "2022-12-05T05:47:50.921Z"
   },
   {
    "duration": 33,
    "start_time": "2022-12-05T05:47:50.965Z"
   },
   {
    "duration": 123,
    "start_time": "2022-12-05T05:47:51.000Z"
   },
   {
    "duration": 866,
    "start_time": "2022-12-05T05:47:51.125Z"
   },
   {
    "duration": 435,
    "start_time": "2022-12-05T05:47:51.993Z"
   },
   {
    "duration": 6,
    "start_time": "2022-12-05T05:47:52.430Z"
   },
   {
    "duration": 147,
    "start_time": "2022-12-05T05:47:52.438Z"
   },
   {
    "duration": 574,
    "start_time": "2022-12-05T05:47:52.588Z"
   },
   {
    "duration": 4,
    "start_time": "2022-12-05T05:47:53.164Z"
   },
   {
    "duration": 175,
    "start_time": "2022-12-05T05:47:53.170Z"
   },
   {
    "duration": 15,
    "start_time": "2022-12-05T05:47:53.347Z"
   },
   {
    "duration": 22,
    "start_time": "2022-12-05T05:47:53.364Z"
   },
   {
    "duration": 18255,
    "start_time": "2022-12-05T05:47:53.388Z"
   },
   {
    "duration": 91,
    "start_time": "2022-12-05T05:48:11.647Z"
   },
   {
    "duration": 1425,
    "start_time": "2022-12-05T05:49:07.646Z"
   },
   {
    "duration": 833,
    "start_time": "2022-12-05T05:49:09.073Z"
   },
   {
    "duration": 17,
    "start_time": "2022-12-05T05:49:09.908Z"
   },
   {
    "duration": 145,
    "start_time": "2022-12-05T05:49:09.937Z"
   },
   {
    "duration": 145,
    "start_time": "2022-12-05T05:49:10.084Z"
   },
   {
    "duration": 158,
    "start_time": "2022-12-05T05:49:10.231Z"
   },
   {
    "duration": 71,
    "start_time": "2022-12-05T05:49:10.391Z"
   },
   {
    "duration": 31,
    "start_time": "2022-12-05T05:49:10.464Z"
   },
   {
    "duration": 160,
    "start_time": "2022-12-05T05:49:10.497Z"
   },
   {
    "duration": 6,
    "start_time": "2022-12-05T05:49:10.660Z"
   },
   {
    "duration": 22,
    "start_time": "2022-12-05T05:49:10.667Z"
   },
   {
    "duration": 25,
    "start_time": "2022-12-05T05:49:10.691Z"
   },
   {
    "duration": 17,
    "start_time": "2022-12-05T05:49:10.718Z"
   },
   {
    "duration": 13,
    "start_time": "2022-12-05T05:49:10.737Z"
   },
   {
    "duration": 32,
    "start_time": "2022-12-05T05:49:10.751Z"
   },
   {
    "duration": 4,
    "start_time": "2022-12-05T05:49:10.785Z"
   },
   {
    "duration": 102,
    "start_time": "2022-12-05T05:49:10.791Z"
   },
   {
    "duration": 739,
    "start_time": "2022-12-05T05:49:10.895Z"
   },
   {
    "duration": 381,
    "start_time": "2022-12-05T05:49:11.636Z"
   },
   {
    "duration": 3,
    "start_time": "2022-12-05T05:49:12.019Z"
   },
   {
    "duration": 147,
    "start_time": "2022-12-05T05:49:12.024Z"
   },
   {
    "duration": 605,
    "start_time": "2022-12-05T05:49:12.173Z"
   },
   {
    "duration": 3,
    "start_time": "2022-12-05T05:49:12.780Z"
   },
   {
    "duration": 185,
    "start_time": "2022-12-05T05:49:12.784Z"
   },
   {
    "duration": 14,
    "start_time": "2022-12-05T05:49:12.970Z"
   },
   {
    "duration": 11,
    "start_time": "2022-12-05T05:49:12.985Z"
   },
   {
    "duration": 146748,
    "start_time": "2022-12-05T05:49:12.998Z"
   },
   {
    "duration": 87,
    "start_time": "2022-12-05T05:51:39.750Z"
   },
   {
    "duration": 1448,
    "start_time": "2022-12-05T05:52:48.106Z"
   },
   {
    "duration": 845,
    "start_time": "2022-12-05T05:52:49.556Z"
   },
   {
    "duration": 18,
    "start_time": "2022-12-05T05:52:50.402Z"
   },
   {
    "duration": 144,
    "start_time": "2022-12-05T05:52:50.421Z"
   },
   {
    "duration": 125,
    "start_time": "2022-12-05T05:52:50.568Z"
   },
   {
    "duration": 126,
    "start_time": "2022-12-05T05:52:50.694Z"
   },
   {
    "duration": 55,
    "start_time": "2022-12-05T05:52:50.821Z"
   },
   {
    "duration": 30,
    "start_time": "2022-12-05T05:52:50.878Z"
   },
   {
    "duration": 156,
    "start_time": "2022-12-05T05:52:50.910Z"
   },
   {
    "duration": 7,
    "start_time": "2022-12-05T05:52:51.068Z"
   },
   {
    "duration": 16,
    "start_time": "2022-12-05T05:52:51.077Z"
   },
   {
    "duration": 24,
    "start_time": "2022-12-05T05:52:51.095Z"
   },
   {
    "duration": 24,
    "start_time": "2022-12-05T05:52:51.121Z"
   },
   {
    "duration": 18,
    "start_time": "2022-12-05T05:52:51.147Z"
   },
   {
    "duration": 30,
    "start_time": "2022-12-05T05:52:51.167Z"
   },
   {
    "duration": 19,
    "start_time": "2022-12-05T05:52:51.199Z"
   },
   {
    "duration": 97,
    "start_time": "2022-12-05T05:52:51.220Z"
   },
   {
    "duration": 828,
    "start_time": "2022-12-05T05:52:51.319Z"
   },
   {
    "duration": 395,
    "start_time": "2022-12-05T05:52:52.148Z"
   },
   {
    "duration": 4,
    "start_time": "2022-12-05T05:52:52.545Z"
   },
   {
    "duration": 158,
    "start_time": "2022-12-05T05:52:52.551Z"
   },
   {
    "duration": 573,
    "start_time": "2022-12-05T05:52:52.712Z"
   },
   {
    "duration": 4,
    "start_time": "2022-12-05T05:52:53.286Z"
   },
   {
    "duration": 166,
    "start_time": "2022-12-05T05:52:53.292Z"
   },
   {
    "duration": 17,
    "start_time": "2022-12-05T05:52:53.460Z"
   },
   {
    "duration": 44,
    "start_time": "2022-12-05T05:52:53.479Z"
   },
   {
    "duration": 18180,
    "start_time": "2022-12-05T05:53:00.762Z"
   },
   {
    "duration": 267052,
    "start_time": "2022-12-05T05:53:27.093Z"
   },
   {
    "duration": 1403,
    "start_time": "2022-12-05T06:10:41.982Z"
   },
   {
    "duration": 799,
    "start_time": "2022-12-05T06:10:43.387Z"
   },
   {
    "duration": 16,
    "start_time": "2022-12-05T06:10:44.188Z"
   },
   {
    "duration": 156,
    "start_time": "2022-12-05T06:10:44.206Z"
   },
   {
    "duration": 127,
    "start_time": "2022-12-05T06:10:44.364Z"
   },
   {
    "duration": 119,
    "start_time": "2022-12-05T06:10:44.492Z"
   },
   {
    "duration": 61,
    "start_time": "2022-12-05T06:10:44.613Z"
   },
   {
    "duration": 29,
    "start_time": "2022-12-05T06:10:44.676Z"
   },
   {
    "duration": 146,
    "start_time": "2022-12-05T06:10:44.707Z"
   },
   {
    "duration": 5,
    "start_time": "2022-12-05T06:10:44.856Z"
   },
   {
    "duration": 6,
    "start_time": "2022-12-05T06:10:44.862Z"
   },
   {
    "duration": 18,
    "start_time": "2022-12-05T06:10:44.870Z"
   },
   {
    "duration": 11,
    "start_time": "2022-12-05T06:10:44.890Z"
   },
   {
    "duration": 45,
    "start_time": "2022-12-05T06:10:44.902Z"
   },
   {
    "duration": 29,
    "start_time": "2022-12-05T06:10:44.950Z"
   },
   {
    "duration": 4,
    "start_time": "2022-12-05T06:10:44.981Z"
   },
   {
    "duration": 99,
    "start_time": "2022-12-05T06:10:44.986Z"
   },
   {
    "duration": 801,
    "start_time": "2022-12-05T06:10:45.087Z"
   },
   {
    "duration": 425,
    "start_time": "2022-12-05T06:10:45.890Z"
   },
   {
    "duration": 3,
    "start_time": "2022-12-05T06:10:46.317Z"
   },
   {
    "duration": 174,
    "start_time": "2022-12-05T06:10:46.321Z"
   },
   {
    "duration": 594,
    "start_time": "2022-12-05T06:10:46.497Z"
   },
   {
    "duration": 4,
    "start_time": "2022-12-05T06:10:47.093Z"
   },
   {
    "duration": 166,
    "start_time": "2022-12-05T06:10:47.098Z"
   },
   {
    "duration": 15,
    "start_time": "2022-12-05T06:10:47.266Z"
   },
   {
    "duration": 3,
    "start_time": "2022-12-05T06:10:47.283Z"
   },
   {
    "duration": 37282,
    "start_time": "2022-12-05T06:10:59.653Z"
   },
   {
    "duration": 527968,
    "start_time": "2022-12-05T06:12:15.594Z"
   },
   {
    "duration": 62,
    "start_time": "2022-12-05T06:21:03.565Z"
   },
   {
    "duration": 0,
    "start_time": "2022-12-05T06:21:03.629Z"
   },
   {
    "duration": 18759,
    "start_time": "2022-12-05T06:21:54.297Z"
   },
   {
    "duration": 55,
    "start_time": "2022-12-05T06:34:10.142Z"
   },
   {
    "duration": 192,
    "start_time": "2022-12-05T06:34:16.952Z"
   },
   {
    "duration": 26056,
    "start_time": "2022-12-05T06:34:26.392Z"
   },
   {
    "duration": 71570,
    "start_time": "2022-12-05T06:36:25.684Z"
   },
   {
    "duration": 18136,
    "start_time": "2022-12-05T06:38:20.205Z"
   },
   {
    "duration": 96,
    "start_time": "2022-12-05T06:40:09.548Z"
   },
   {
    "duration": 156,
    "start_time": "2022-12-05T06:40:23.278Z"
   },
   {
    "duration": 136,
    "start_time": "2022-12-05T06:40:28.603Z"
   },
   {
    "duration": 18187,
    "start_time": "2022-12-05T06:40:39.360Z"
   },
   {
    "duration": 18548,
    "start_time": "2022-12-05T06:41:07.894Z"
   },
   {
    "duration": 6249,
    "start_time": "2022-12-05T06:41:49.070Z"
   },
   {
    "duration": 6093,
    "start_time": "2022-12-05T06:42:09.566Z"
   },
   {
    "duration": 4,
    "start_time": "2022-12-05T06:42:36.906Z"
   },
   {
    "duration": 166,
    "start_time": "2022-12-05T06:42:53.274Z"
   },
   {
    "duration": 805,
    "start_time": "2022-12-05T06:43:04.337Z"
   },
   {
    "duration": 152,
    "start_time": "2022-12-05T06:43:21.283Z"
   },
   {
    "duration": 140,
    "start_time": "2022-12-05T06:43:29.096Z"
   },
   {
    "duration": 623,
    "start_time": "2022-12-05T06:43:49.219Z"
   },
   {
    "duration": 115,
    "start_time": "2022-12-05T06:44:13.724Z"
   },
   {
    "duration": 110,
    "start_time": "2022-12-05T06:44:16.230Z"
   },
   {
    "duration": 804,
    "start_time": "2022-12-05T06:44:22.651Z"
   },
   {
    "duration": 591,
    "start_time": "2022-12-05T06:44:28.560Z"
   },
   {
    "duration": 82,
    "start_time": "2022-12-05T06:44:36.282Z"
   },
   {
    "duration": 714,
    "start_time": "2022-12-05T06:44:36.833Z"
   },
   {
    "duration": 597,
    "start_time": "2022-12-05T06:44:37.549Z"
   },
   {
    "duration": 19661,
    "start_time": "2022-12-05T06:44:47.873Z"
   },
   {
    "duration": 5989,
    "start_time": "2022-12-05T06:45:07.538Z"
   },
   {
    "duration": 4825,
    "start_time": "2022-12-05T06:45:13.528Z"
   },
   {
    "duration": 502,
    "start_time": "2022-12-05T06:58:12.946Z"
   },
   {
    "duration": 578,
    "start_time": "2022-12-05T06:58:23.060Z"
   },
   {
    "duration": 519,
    "start_time": "2022-12-05T06:58:29.629Z"
   },
   {
    "duration": 96,
    "start_time": "2022-12-05T07:00:07.644Z"
   },
   {
    "duration": 351,
    "start_time": "2022-12-05T07:00:17.041Z"
   },
   {
    "duration": 351,
    "start_time": "2022-12-05T07:00:50.505Z"
   },
   {
    "duration": 4891,
    "start_time": "2022-12-05T07:01:02.356Z"
   },
   {
    "duration": 4781,
    "start_time": "2022-12-05T07:01:23.067Z"
   },
   {
    "duration": 512,
    "start_time": "2022-12-05T07:22:41.639Z"
   },
   {
    "duration": 7420,
    "start_time": "2022-12-05T07:25:20.823Z"
   },
   {
    "duration": 605,
    "start_time": "2022-12-05T07:25:33.833Z"
   },
   {
    "duration": 7135,
    "start_time": "2022-12-05T07:26:01.701Z"
   },
   {
    "duration": 520,
    "start_time": "2022-12-05T07:26:17.528Z"
   },
   {
    "duration": 6959,
    "start_time": "2022-12-05T07:26:23.487Z"
   },
   {
    "duration": 607,
    "start_time": "2022-12-05T07:26:30.448Z"
   },
   {
    "duration": 7670,
    "start_time": "2022-12-05T07:29:09.577Z"
   },
   {
    "duration": 17024,
    "start_time": "2022-12-05T07:29:39.513Z"
   },
   {
    "duration": 535,
    "start_time": "2022-12-05T07:30:14.615Z"
   },
   {
    "duration": 4,
    "start_time": "2022-12-05T07:32:03.076Z"
   },
   {
    "duration": 765,
    "start_time": "2022-12-05T07:32:03.082Z"
   },
   {
    "duration": 14,
    "start_time": "2022-12-05T07:32:03.849Z"
   },
   {
    "duration": 177,
    "start_time": "2022-12-05T07:32:03.865Z"
   },
   {
    "duration": 162,
    "start_time": "2022-12-05T07:32:04.044Z"
   },
   {
    "duration": 139,
    "start_time": "2022-12-05T07:32:04.208Z"
   },
   {
    "duration": 81,
    "start_time": "2022-12-05T07:32:04.349Z"
   },
   {
    "duration": 32,
    "start_time": "2022-12-05T07:32:04.432Z"
   },
   {
    "duration": 89,
    "start_time": "2022-12-05T07:32:04.467Z"
   },
   {
    "duration": 5,
    "start_time": "2022-12-05T07:32:04.558Z"
   },
   {
    "duration": 31,
    "start_time": "2022-12-05T07:32:04.564Z"
   },
   {
    "duration": 24,
    "start_time": "2022-12-05T07:32:04.597Z"
   },
   {
    "duration": 18,
    "start_time": "2022-12-05T07:32:04.623Z"
   },
   {
    "duration": 51,
    "start_time": "2022-12-05T07:32:04.643Z"
   },
   {
    "duration": 45,
    "start_time": "2022-12-05T07:32:04.696Z"
   },
   {
    "duration": 9,
    "start_time": "2022-12-05T07:32:04.742Z"
   },
   {
    "duration": 90,
    "start_time": "2022-12-05T07:32:04.753Z"
   },
   {
    "duration": 269,
    "start_time": "2022-12-05T07:32:04.845Z"
   },
   {
    "duration": 749,
    "start_time": "2022-12-05T07:32:05.115Z"
   },
   {
    "duration": 2,
    "start_time": "2022-12-05T07:32:05.866Z"
   },
   {
    "duration": 223,
    "start_time": "2022-12-05T07:32:05.870Z"
   },
   {
    "duration": 580,
    "start_time": "2022-12-05T07:32:06.095Z"
   },
   {
    "duration": 5,
    "start_time": "2022-12-05T07:32:06.677Z"
   },
   {
    "duration": 26,
    "start_time": "2022-12-05T07:32:06.685Z"
   },
   {
    "duration": 28,
    "start_time": "2022-12-05T07:32:06.713Z"
   },
   {
    "duration": 9,
    "start_time": "2022-12-05T07:32:06.743Z"
   },
   {
    "duration": 35420,
    "start_time": "2022-12-05T07:32:13.422Z"
   },
   {
    "duration": 156804,
    "start_time": "2022-12-05T07:39:01.045Z"
   },
   {
    "duration": 9,
    "start_time": "2022-12-05T07:42:44.278Z"
   },
   {
    "duration": 5,
    "start_time": "2022-12-05T07:42:49.683Z"
   },
   {
    "duration": 783,
    "start_time": "2022-12-05T07:42:49.690Z"
   },
   {
    "duration": 12,
    "start_time": "2022-12-05T07:42:50.475Z"
   },
   {
    "duration": 153,
    "start_time": "2022-12-05T07:42:50.489Z"
   },
   {
    "duration": 129,
    "start_time": "2022-12-05T07:42:50.644Z"
   },
   {
    "duration": 6,
    "start_time": "2022-12-05T07:42:50.775Z"
   },
   {
    "duration": 31,
    "start_time": "2022-12-05T07:42:55.819Z"
   },
   {
    "duration": 46,
    "start_time": "2022-12-05T07:43:39.293Z"
   },
   {
    "duration": 45,
    "start_time": "2022-12-05T07:43:48.922Z"
   },
   {
    "duration": 36,
    "start_time": "2022-12-05T07:44:01.245Z"
   },
   {
    "duration": 17,
    "start_time": "2022-12-05T07:44:04.988Z"
   },
   {
    "duration": 5,
    "start_time": "2022-12-05T07:44:22.917Z"
   },
   {
    "duration": 749,
    "start_time": "2022-12-05T07:44:22.924Z"
   },
   {
    "duration": 13,
    "start_time": "2022-12-05T07:44:23.675Z"
   },
   {
    "duration": 131,
    "start_time": "2022-12-05T07:44:23.689Z"
   },
   {
    "duration": 123,
    "start_time": "2022-12-05T07:44:23.822Z"
   },
   {
    "duration": 37,
    "start_time": "2022-12-05T07:44:23.947Z"
   },
   {
    "duration": 35,
    "start_time": "2022-12-05T07:44:23.985Z"
   },
   {
    "duration": 47,
    "start_time": "2022-12-05T07:44:53.830Z"
   },
   {
    "duration": 4,
    "start_time": "2022-12-05T07:45:00.275Z"
   },
   {
    "duration": 778,
    "start_time": "2022-12-05T07:45:00.281Z"
   },
   {
    "duration": 13,
    "start_time": "2022-12-05T07:45:01.061Z"
   },
   {
    "duration": 225,
    "start_time": "2022-12-05T07:45:01.076Z"
   },
   {
    "duration": 175,
    "start_time": "2022-12-05T07:45:01.303Z"
   },
   {
    "duration": 160,
    "start_time": "2022-12-05T07:45:01.480Z"
   },
   {
    "duration": 5,
    "start_time": "2022-12-05T07:45:27.663Z"
   },
   {
    "duration": 698,
    "start_time": "2022-12-05T07:45:27.670Z"
   },
   {
    "duration": 12,
    "start_time": "2022-12-05T07:45:28.370Z"
   },
   {
    "duration": 141,
    "start_time": "2022-12-05T07:45:28.383Z"
   },
   {
    "duration": 123,
    "start_time": "2022-12-05T07:45:28.526Z"
   },
   {
    "duration": 3,
    "start_time": "2022-12-05T07:45:28.651Z"
   },
   {
    "duration": 47,
    "start_time": "2022-12-05T07:45:33.189Z"
   },
   {
    "duration": 45,
    "start_time": "2022-12-05T07:45:54.384Z"
   },
   {
    "duration": 48,
    "start_time": "2022-12-05T07:46:06.825Z"
   },
   {
    "duration": 57,
    "start_time": "2022-12-05T07:46:16.695Z"
   },
   {
    "duration": 45,
    "start_time": "2022-12-05T07:46:24.720Z"
   },
   {
    "duration": 54,
    "start_time": "2022-12-05T07:46:31.682Z"
   },
   {
    "duration": 44,
    "start_time": "2022-12-05T07:46:40.759Z"
   },
   {
    "duration": 4,
    "start_time": "2022-12-05T07:46:53.538Z"
   },
   {
    "duration": 743,
    "start_time": "2022-12-05T07:46:53.544Z"
   },
   {
    "duration": 12,
    "start_time": "2022-12-05T07:46:54.289Z"
   },
   {
    "duration": 138,
    "start_time": "2022-12-05T07:46:54.302Z"
   },
   {
    "duration": 134,
    "start_time": "2022-12-05T07:46:54.442Z"
   },
   {
    "duration": 44,
    "start_time": "2022-12-05T07:47:25.076Z"
   },
   {
    "duration": 49,
    "start_time": "2022-12-05T07:47:45.874Z"
   },
   {
    "duration": 44,
    "start_time": "2022-12-05T07:48:27.341Z"
   },
   {
    "duration": 156,
    "start_time": "2022-12-05T07:49:57.283Z"
   },
   {
    "duration": 158,
    "start_time": "2022-12-05T07:50:16.937Z"
   },
   {
    "duration": 150,
    "start_time": "2022-12-05T07:50:35.822Z"
   },
   {
    "duration": 127,
    "start_time": "2022-12-05T07:51:49.892Z"
   },
   {
    "duration": 122,
    "start_time": "2022-12-05T07:51:55.292Z"
   },
   {
    "duration": 47,
    "start_time": "2022-12-05T09:14:29.714Z"
   },
   {
    "duration": 1556,
    "start_time": "2022-12-05T09:14:34.661Z"
   },
   {
    "duration": 2777,
    "start_time": "2022-12-05T09:14:36.219Z"
   },
   {
    "duration": 17,
    "start_time": "2022-12-05T09:14:38.998Z"
   },
   {
    "duration": 108,
    "start_time": "2022-12-05T09:14:39.017Z"
   },
   {
    "duration": 107,
    "start_time": "2022-12-05T09:14:39.127Z"
   },
   {
    "duration": 139,
    "start_time": "2022-12-05T09:14:39.236Z"
   },
   {
    "duration": 47,
    "start_time": "2022-12-05T09:14:39.377Z"
   },
   {
    "duration": 107,
    "start_time": "2022-12-05T09:14:39.425Z"
   },
   {
    "duration": 47,
    "start_time": "2022-12-05T09:14:39.534Z"
   },
   {
    "duration": 44,
    "start_time": "2022-12-05T09:14:39.583Z"
   },
   {
    "duration": 145,
    "start_time": "2022-12-05T09:14:39.629Z"
   },
   {
    "duration": 8,
    "start_time": "2022-12-05T09:14:43.546Z"
   },
   {
    "duration": 24,
    "start_time": "2022-12-05T09:15:27.494Z"
   },
   {
    "duration": 25,
    "start_time": "2022-12-05T09:15:30.080Z"
   },
   {
    "duration": 25,
    "start_time": "2022-12-05T09:15:36.173Z"
   },
   {
    "duration": 91,
    "start_time": "2022-12-05T09:15:46.426Z"
   },
   {
    "duration": 4,
    "start_time": "2022-12-05T09:15:55.108Z"
   },
   {
    "duration": 848,
    "start_time": "2022-12-05T09:15:55.114Z"
   },
   {
    "duration": 13,
    "start_time": "2022-12-05T09:15:55.964Z"
   },
   {
    "duration": 116,
    "start_time": "2022-12-05T09:15:55.978Z"
   },
   {
    "duration": 102,
    "start_time": "2022-12-05T09:15:56.097Z"
   },
   {
    "duration": 142,
    "start_time": "2022-12-05T09:15:56.200Z"
   },
   {
    "duration": 40,
    "start_time": "2022-12-05T09:15:56.344Z"
   },
   {
    "duration": 113,
    "start_time": "2022-12-05T09:15:56.386Z"
   },
   {
    "duration": 57,
    "start_time": "2022-12-05T09:15:56.500Z"
   },
   {
    "duration": 29,
    "start_time": "2022-12-05T09:15:56.558Z"
   },
   {
    "duration": 99,
    "start_time": "2022-12-05T09:15:56.589Z"
   },
   {
    "duration": 7,
    "start_time": "2022-12-05T09:16:01.207Z"
   },
   {
    "duration": 93,
    "start_time": "2022-12-05T09:16:04.021Z"
   },
   {
    "duration": 10,
    "start_time": "2022-12-05T09:16:06.860Z"
   },
   {
    "duration": 5,
    "start_time": "2022-12-05T09:16:31.572Z"
   },
   {
    "duration": 775,
    "start_time": "2022-12-05T09:16:31.579Z"
   },
   {
    "duration": 13,
    "start_time": "2022-12-05T09:16:32.356Z"
   },
   {
    "duration": 128,
    "start_time": "2022-12-05T09:16:32.371Z"
   },
   {
    "duration": 101,
    "start_time": "2022-12-05T09:16:32.501Z"
   },
   {
    "duration": 143,
    "start_time": "2022-12-05T09:16:32.604Z"
   },
   {
    "duration": 41,
    "start_time": "2022-12-05T09:16:32.749Z"
   },
   {
    "duration": 116,
    "start_time": "2022-12-05T09:16:32.791Z"
   },
   {
    "duration": 60,
    "start_time": "2022-12-05T09:16:32.909Z"
   },
   {
    "duration": 29,
    "start_time": "2022-12-05T09:16:32.971Z"
   },
   {
    "duration": 92,
    "start_time": "2022-12-05T09:16:33.002Z"
   },
   {
    "duration": 8,
    "start_time": "2022-12-05T09:16:33.095Z"
   },
   {
    "duration": 6,
    "start_time": "2022-12-05T09:18:04.351Z"
   },
   {
    "duration": 8,
    "start_time": "2022-12-05T09:18:06.506Z"
   },
   {
    "duration": 25,
    "start_time": "2022-12-05T09:18:20.404Z"
   },
   {
    "duration": 11,
    "start_time": "2022-12-05T09:18:23.295Z"
   },
   {
    "duration": 14,
    "start_time": "2022-12-05T09:18:25.278Z"
   },
   {
    "duration": 169,
    "start_time": "2022-12-05T09:20:10.516Z"
   },
   {
    "duration": 284,
    "start_time": "2022-12-05T09:20:31.768Z"
   },
   {
    "duration": 11,
    "start_time": "2022-12-05T09:26:10.002Z"
   },
   {
    "duration": 304,
    "start_time": "2022-12-05T09:26:12.877Z"
   },
   {
    "duration": 24,
    "start_time": "2022-12-05T09:26:56.882Z"
   },
   {
    "duration": 27,
    "start_time": "2022-12-05T09:27:01.511Z"
   },
   {
    "duration": 51,
    "start_time": "2022-12-05T09:27:50.988Z"
   },
   {
    "duration": 253,
    "start_time": "2022-12-05T09:27:53.612Z"
   },
   {
    "duration": 60,
    "start_time": "2022-12-05T09:28:39.943Z"
   },
   {
    "duration": 57,
    "start_time": "2022-12-05T09:29:00.831Z"
   },
   {
    "duration": 68,
    "start_time": "2022-12-05T09:29:07.901Z"
   },
   {
    "duration": 14,
    "start_time": "2022-12-05T09:30:16.041Z"
   },
   {
    "duration": 13,
    "start_time": "2022-12-05T09:30:18.347Z"
   },
   {
    "duration": 24,
    "start_time": "2022-12-05T09:30:31.227Z"
   },
   {
    "duration": 13,
    "start_time": "2022-12-05T09:30:48.361Z"
   },
   {
    "duration": 22,
    "start_time": "2022-12-05T09:30:51.427Z"
   },
   {
    "duration": 316,
    "start_time": "2022-12-05T09:31:19.985Z"
   },
   {
    "duration": 13,
    "start_time": "2022-12-05T09:31:25.295Z"
   },
   {
    "duration": 26,
    "start_time": "2022-12-05T09:31:30.516Z"
   },
   {
    "duration": 284,
    "start_time": "2022-12-05T09:31:34.184Z"
   },
   {
    "duration": 65,
    "start_time": "2022-12-05T09:31:40.142Z"
   },
   {
    "duration": 5,
    "start_time": "2022-12-05T09:31:46.708Z"
   },
   {
    "duration": 795,
    "start_time": "2022-12-05T09:31:46.715Z"
   },
   {
    "duration": 17,
    "start_time": "2022-12-05T09:31:47.512Z"
   },
   {
    "duration": 141,
    "start_time": "2022-12-05T09:31:47.531Z"
   },
   {
    "duration": 115,
    "start_time": "2022-12-05T09:31:47.674Z"
   },
   {
    "duration": 140,
    "start_time": "2022-12-05T09:31:47.791Z"
   },
   {
    "duration": 39,
    "start_time": "2022-12-05T09:31:47.933Z"
   },
   {
    "duration": 117,
    "start_time": "2022-12-05T09:31:47.974Z"
   },
   {
    "duration": 55,
    "start_time": "2022-12-05T09:31:48.093Z"
   },
   {
    "duration": 30,
    "start_time": "2022-12-05T09:31:48.150Z"
   },
   {
    "duration": 97,
    "start_time": "2022-12-05T09:31:48.182Z"
   },
   {
    "duration": 8,
    "start_time": "2022-12-05T09:31:48.281Z"
   },
   {
    "duration": 5,
    "start_time": "2022-12-05T09:31:48.291Z"
   },
   {
    "duration": 33,
    "start_time": "2022-12-05T09:31:48.299Z"
   },
   {
    "duration": 12,
    "start_time": "2022-12-05T09:31:48.334Z"
   },
   {
    "duration": 26,
    "start_time": "2022-12-05T09:31:48.348Z"
   },
   {
    "duration": 276,
    "start_time": "2022-12-05T09:31:48.376Z"
   },
   {
    "duration": 68,
    "start_time": "2022-12-05T09:31:54.024Z"
   },
   {
    "duration": 5,
    "start_time": "2022-12-05T09:32:22.999Z"
   },
   {
    "duration": 766,
    "start_time": "2022-12-05T09:32:23.006Z"
   },
   {
    "duration": 14,
    "start_time": "2022-12-05T09:32:23.773Z"
   },
   {
    "duration": 151,
    "start_time": "2022-12-05T09:32:23.788Z"
   },
   {
    "duration": 123,
    "start_time": "2022-12-05T09:32:23.941Z"
   },
   {
    "duration": 192,
    "start_time": "2022-12-05T09:32:24.066Z"
   },
   {
    "duration": 49,
    "start_time": "2022-12-05T09:32:24.261Z"
   },
   {
    "duration": 123,
    "start_time": "2022-12-05T09:32:24.323Z"
   },
   {
    "duration": 54,
    "start_time": "2022-12-05T09:32:24.449Z"
   },
   {
    "duration": 47,
    "start_time": "2022-12-05T09:32:24.505Z"
   },
   {
    "duration": 86,
    "start_time": "2022-12-05T09:32:24.554Z"
   },
   {
    "duration": 8,
    "start_time": "2022-12-05T09:32:24.642Z"
   },
   {
    "duration": 10,
    "start_time": "2022-12-05T09:32:24.652Z"
   },
   {
    "duration": 17,
    "start_time": "2022-12-05T09:32:24.665Z"
   },
   {
    "duration": 12,
    "start_time": "2022-12-05T09:32:24.683Z"
   },
   {
    "duration": 53,
    "start_time": "2022-12-05T09:32:24.697Z"
   },
   {
    "duration": 271,
    "start_time": "2022-12-05T09:32:24.751Z"
   },
   {
    "duration": 52,
    "start_time": "2022-12-05T09:32:27.277Z"
   },
   {
    "duration": 56,
    "start_time": "2022-12-05T09:33:11.719Z"
   },
   {
    "duration": 32,
    "start_time": "2022-12-05T09:33:24.205Z"
   },
   {
    "duration": 6,
    "start_time": "2022-12-05T09:33:25.033Z"
   },
   {
    "duration": 69,
    "start_time": "2022-12-05T09:33:28.787Z"
   },
   {
    "duration": 403,
    "start_time": "2022-12-05T09:33:31.127Z"
   },
   {
    "duration": 421,
    "start_time": "2022-12-05T09:35:31.204Z"
   },
   {
    "duration": 320,
    "start_time": "2022-12-05T09:35:58.587Z"
   },
   {
    "duration": 6,
    "start_time": "2022-12-05T09:36:05.039Z"
   },
   {
    "duration": 847,
    "start_time": "2022-12-05T09:36:05.048Z"
   },
   {
    "duration": 16,
    "start_time": "2022-12-05T09:36:05.897Z"
   },
   {
    "duration": 128,
    "start_time": "2022-12-05T09:36:05.915Z"
   },
   {
    "duration": 111,
    "start_time": "2022-12-05T09:36:06.046Z"
   },
   {
    "duration": 163,
    "start_time": "2022-12-05T09:36:06.159Z"
   },
   {
    "duration": 40,
    "start_time": "2022-12-05T09:36:06.324Z"
   },
   {
    "duration": 119,
    "start_time": "2022-12-05T09:36:06.366Z"
   },
   {
    "duration": 60,
    "start_time": "2022-12-05T09:36:06.487Z"
   },
   {
    "duration": 31,
    "start_time": "2022-12-05T09:36:06.549Z"
   },
   {
    "duration": 88,
    "start_time": "2022-12-05T09:36:06.582Z"
   },
   {
    "duration": 9,
    "start_time": "2022-12-05T09:36:06.672Z"
   },
   {
    "duration": 7,
    "start_time": "2022-12-05T09:36:06.683Z"
   },
   {
    "duration": 42,
    "start_time": "2022-12-05T09:36:06.694Z"
   },
   {
    "duration": 14,
    "start_time": "2022-12-05T09:36:06.738Z"
   },
   {
    "duration": 28,
    "start_time": "2022-12-05T09:36:06.754Z"
   },
   {
    "duration": 290,
    "start_time": "2022-12-05T09:36:06.783Z"
   },
   {
    "duration": 309,
    "start_time": "2022-12-05T09:36:09.826Z"
   },
   {
    "duration": 4,
    "start_time": "2022-12-05T09:36:17.458Z"
   },
   {
    "duration": 227,
    "start_time": "2022-12-05T09:36:21.928Z"
   },
   {
    "duration": 205,
    "start_time": "2022-12-05T09:36:49.839Z"
   },
   {
    "duration": 6,
    "start_time": "2022-12-05T09:36:53.826Z"
   },
   {
    "duration": 875,
    "start_time": "2022-12-05T09:36:53.835Z"
   },
   {
    "duration": 19,
    "start_time": "2022-12-05T09:36:54.711Z"
   },
   {
    "duration": 125,
    "start_time": "2022-12-05T09:36:54.732Z"
   },
   {
    "duration": 114,
    "start_time": "2022-12-05T09:36:54.860Z"
   },
   {
    "duration": 161,
    "start_time": "2022-12-05T09:36:54.976Z"
   },
   {
    "duration": 45,
    "start_time": "2022-12-05T09:36:55.140Z"
   },
   {
    "duration": 118,
    "start_time": "2022-12-05T09:36:55.187Z"
   },
   {
    "duration": 56,
    "start_time": "2022-12-05T09:36:55.307Z"
   },
   {
    "duration": 31,
    "start_time": "2022-12-05T09:36:55.365Z"
   },
   {
    "duration": 92,
    "start_time": "2022-12-05T09:36:55.398Z"
   },
   {
    "duration": 8,
    "start_time": "2022-12-05T09:36:55.492Z"
   },
   {
    "duration": 24,
    "start_time": "2022-12-05T09:36:55.502Z"
   },
   {
    "duration": 26,
    "start_time": "2022-12-05T09:36:55.530Z"
   },
   {
    "duration": 16,
    "start_time": "2022-12-05T09:36:55.558Z"
   },
   {
    "duration": 54,
    "start_time": "2022-12-05T09:36:55.575Z"
   },
   {
    "duration": 201,
    "start_time": "2022-12-05T09:36:55.631Z"
   },
   {
    "duration": 160,
    "start_time": "2022-12-05T09:37:08.604Z"
   },
   {
    "duration": 359,
    "start_time": "2022-12-05T09:37:20.584Z"
   },
   {
    "duration": 253,
    "start_time": "2022-12-05T09:37:25.441Z"
   },
   {
    "duration": 237,
    "start_time": "2022-12-05T09:37:31.265Z"
   },
   {
    "duration": 186,
    "start_time": "2022-12-05T09:37:36.038Z"
   },
   {
    "duration": 5,
    "start_time": "2022-12-05T09:37:40.655Z"
   },
   {
    "duration": 801,
    "start_time": "2022-12-05T09:37:40.663Z"
   },
   {
    "duration": 15,
    "start_time": "2022-12-05T09:37:41.466Z"
   },
   {
    "duration": 179,
    "start_time": "2022-12-05T09:37:41.484Z"
   },
   {
    "duration": 125,
    "start_time": "2022-12-05T09:37:41.665Z"
   },
   {
    "duration": 219,
    "start_time": "2022-12-05T09:37:41.793Z"
   },
   {
    "duration": 46,
    "start_time": "2022-12-05T09:37:42.014Z"
   },
   {
    "duration": 214,
    "start_time": "2022-12-05T09:37:42.062Z"
   },
   {
    "duration": 81,
    "start_time": "2022-12-05T09:37:42.279Z"
   },
   {
    "duration": 32,
    "start_time": "2022-12-05T09:37:42.363Z"
   },
   {
    "duration": 90,
    "start_time": "2022-12-05T09:37:42.397Z"
   },
   {
    "duration": 7,
    "start_time": "2022-12-05T09:37:42.489Z"
   },
   {
    "duration": 25,
    "start_time": "2022-12-05T09:37:42.498Z"
   },
   {
    "duration": 42,
    "start_time": "2022-12-05T09:37:42.525Z"
   },
   {
    "duration": 14,
    "start_time": "2022-12-05T09:37:42.568Z"
   },
   {
    "duration": 46,
    "start_time": "2022-12-05T09:37:42.583Z"
   },
   {
    "duration": 191,
    "start_time": "2022-12-05T09:37:42.631Z"
   },
   {
    "duration": 24,
    "start_time": "2022-12-05T09:38:04.456Z"
   },
   {
    "duration": 5,
    "start_time": "2022-12-05T09:38:06.772Z"
   },
   {
    "duration": 102,
    "start_time": "2022-12-05T09:38:09.298Z"
   },
   {
    "duration": 316,
    "start_time": "2022-12-05T09:38:17.487Z"
   },
   {
    "duration": 30,
    "start_time": "2022-12-05T09:38:42.660Z"
   },
   {
    "duration": 55,
    "start_time": "2022-12-05T09:40:03.693Z"
   },
   {
    "duration": 47,
    "start_time": "2022-12-05T09:40:26.575Z"
   },
   {
    "duration": 32,
    "start_time": "2022-12-05T09:41:00.761Z"
   },
   {
    "duration": 49,
    "start_time": "2022-12-05T09:41:29.306Z"
   },
   {
    "duration": 74,
    "start_time": "2022-12-05T09:42:33.967Z"
   },
   {
    "duration": 40,
    "start_time": "2022-12-05T09:43:23.212Z"
   },
   {
    "duration": 48,
    "start_time": "2022-12-05T09:43:28.295Z"
   },
   {
    "duration": 129,
    "start_time": "2022-12-05T09:43:33.232Z"
   },
   {
    "duration": 13,
    "start_time": "2022-12-05T09:44:35.212Z"
   },
   {
    "duration": 13,
    "start_time": "2022-12-05T09:45:06.376Z"
   },
   {
    "duration": 19,
    "start_time": "2022-12-05T09:45:44.933Z"
   },
   {
    "duration": 14,
    "start_time": "2022-12-05T09:45:48.005Z"
   },
   {
    "duration": 14,
    "start_time": "2022-12-05T09:45:54.572Z"
   },
   {
    "duration": 16,
    "start_time": "2022-12-05T09:45:58.570Z"
   },
   {
    "duration": 14,
    "start_time": "2022-12-05T09:46:03.997Z"
   },
   {
    "duration": 59,
    "start_time": "2022-12-05T09:46:15.862Z"
   },
   {
    "duration": 105,
    "start_time": "2022-12-05T09:46:30.709Z"
   },
   {
    "duration": 26,
    "start_time": "2022-12-05T09:46:43.857Z"
   },
   {
    "duration": 11,
    "start_time": "2022-12-05T09:46:48.855Z"
   },
   {
    "duration": 102,
    "start_time": "2022-12-05T09:46:59.044Z"
   },
   {
    "duration": 35,
    "start_time": "2022-12-05T09:49:14.941Z"
   },
   {
    "duration": 45,
    "start_time": "2022-12-05T09:49:20.162Z"
   },
   {
    "duration": 33,
    "start_time": "2022-12-05T09:50:11.095Z"
   },
   {
    "duration": 6,
    "start_time": "2022-12-05T09:53:32.286Z"
   },
   {
    "duration": 786,
    "start_time": "2022-12-05T09:53:32.295Z"
   },
   {
    "duration": 14,
    "start_time": "2022-12-05T09:53:33.083Z"
   },
   {
    "duration": 128,
    "start_time": "2022-12-05T09:53:33.099Z"
   },
   {
    "duration": 117,
    "start_time": "2022-12-05T09:53:33.229Z"
   },
   {
    "duration": 120,
    "start_time": "2022-12-05T09:53:33.348Z"
   },
   {
    "duration": 45,
    "start_time": "2022-12-05T09:54:34.911Z"
   },
   {
    "duration": 32,
    "start_time": "2022-12-05T09:55:15.657Z"
   },
   {
    "duration": 6,
    "start_time": "2022-12-05T09:55:22.612Z"
   },
   {
    "duration": 769,
    "start_time": "2022-12-05T09:55:22.621Z"
   },
   {
    "duration": 13,
    "start_time": "2022-12-05T09:55:23.392Z"
   },
   {
    "duration": 122,
    "start_time": "2022-12-05T09:55:23.406Z"
   },
   {
    "duration": 113,
    "start_time": "2022-12-05T09:55:23.531Z"
   },
   {
    "duration": 31,
    "start_time": "2022-12-05T09:55:27.273Z"
   },
   {
    "duration": 42,
    "start_time": "2022-12-05T09:56:34.477Z"
   },
   {
    "duration": 30,
    "start_time": "2022-12-05T09:56:47.092Z"
   },
   {
    "duration": 15,
    "start_time": "2022-12-05T09:56:47.594Z"
   },
   {
    "duration": 30,
    "start_time": "2022-12-05T09:57:18.669Z"
   },
   {
    "duration": 16,
    "start_time": "2022-12-05T09:57:19.208Z"
   },
   {
    "duration": 28,
    "start_time": "2022-12-05T09:58:07.083Z"
   },
   {
    "duration": 16,
    "start_time": "2022-12-05T09:58:59.660Z"
   },
   {
    "duration": 31,
    "start_time": "2022-12-05T09:59:02.290Z"
   },
   {
    "duration": 33,
    "start_time": "2022-12-05T09:59:39.355Z"
   },
   {
    "duration": 15,
    "start_time": "2022-12-05T10:00:31.362Z"
   },
   {
    "duration": 32,
    "start_time": "2022-12-05T10:01:19.775Z"
   },
   {
    "duration": 6,
    "start_time": "2022-12-05T10:03:16.260Z"
   },
   {
    "duration": 758,
    "start_time": "2022-12-05T10:03:16.268Z"
   },
   {
    "duration": 14,
    "start_time": "2022-12-05T10:03:17.028Z"
   },
   {
    "duration": 121,
    "start_time": "2022-12-05T10:03:17.044Z"
   },
   {
    "duration": 113,
    "start_time": "2022-12-05T10:03:17.168Z"
   },
   {
    "duration": 109,
    "start_time": "2022-12-05T10:03:17.283Z"
   },
   {
    "duration": 56,
    "start_time": "2022-12-05T10:03:17.394Z"
   },
   {
    "duration": 30,
    "start_time": "2022-12-05T10:03:17.451Z"
   },
   {
    "duration": 95,
    "start_time": "2022-12-05T10:03:17.483Z"
   },
   {
    "duration": 8,
    "start_time": "2022-12-05T10:03:17.580Z"
   },
   {
    "duration": 6,
    "start_time": "2022-12-05T10:03:17.590Z"
   },
   {
    "duration": 38,
    "start_time": "2022-12-05T10:03:17.598Z"
   },
   {
    "duration": 14,
    "start_time": "2022-12-05T10:03:17.637Z"
   },
   {
    "duration": 27,
    "start_time": "2022-12-05T10:03:17.653Z"
   },
   {
    "duration": 221,
    "start_time": "2022-12-05T10:03:17.682Z"
   },
   {
    "duration": 223,
    "start_time": "2022-12-05T10:03:17.904Z"
   },
   {
    "duration": 22,
    "start_time": "2022-12-05T10:03:18.129Z"
   },
   {
    "duration": 3,
    "start_time": "2022-12-05T10:03:18.153Z"
   },
   {
    "duration": 89,
    "start_time": "2022-12-05T10:03:18.158Z"
   },
   {
    "duration": 303,
    "start_time": "2022-12-05T10:03:18.249Z"
   },
   {
    "duration": 31,
    "start_time": "2022-12-05T10:03:18.554Z"
   },
   {
    "duration": 40,
    "start_time": "2022-12-05T10:03:18.587Z"
   },
   {
    "duration": 64,
    "start_time": "2022-12-05T10:03:18.629Z"
   },
   {
    "duration": 216,
    "start_time": "2022-12-05T10:04:32.671Z"
   },
   {
    "duration": 22,
    "start_time": "2022-12-05T10:07:18.994Z"
   },
   {
    "duration": 0,
    "start_time": "2022-12-05T10:08:13.229Z"
   },
   {
    "duration": 146,
    "start_time": "2022-12-05T10:08:16.959Z"
   },
   {
    "duration": 151,
    "start_time": "2022-12-05T10:09:26.379Z"
   },
   {
    "duration": 43,
    "start_time": "2022-12-05T10:09:39.107Z"
   },
   {
    "duration": 12,
    "start_time": "2022-12-05T10:09:44.064Z"
   },
   {
    "duration": 31,
    "start_time": "2022-12-05T10:10:11.409Z"
   },
   {
    "duration": 159,
    "start_time": "2022-12-05T10:12:18.806Z"
   },
   {
    "duration": 172,
    "start_time": "2022-12-05T10:12:31.370Z"
   },
   {
    "duration": 158,
    "start_time": "2022-12-05T10:12:39.382Z"
   },
   {
    "duration": 129,
    "start_time": "2022-12-05T10:13:46.263Z"
   },
   {
    "duration": 11,
    "start_time": "2022-12-05T10:15:37.621Z"
   },
   {
    "duration": 153,
    "start_time": "2022-12-05T10:15:40.887Z"
   },
   {
    "duration": 4,
    "start_time": "2022-12-05T10:15:55.045Z"
   },
   {
    "duration": 833,
    "start_time": "2022-12-05T10:15:55.052Z"
   },
   {
    "duration": 15,
    "start_time": "2022-12-05T10:15:55.887Z"
   },
   {
    "duration": 122,
    "start_time": "2022-12-05T10:15:55.904Z"
   },
   {
    "duration": 110,
    "start_time": "2022-12-05T10:15:56.029Z"
   },
   {
    "duration": 115,
    "start_time": "2022-12-05T10:15:56.141Z"
   },
   {
    "duration": 57,
    "start_time": "2022-12-05T10:15:56.257Z"
   },
   {
    "duration": 33,
    "start_time": "2022-12-05T10:15:56.316Z"
   },
   {
    "duration": 94,
    "start_time": "2022-12-05T10:15:56.351Z"
   },
   {
    "duration": 7,
    "start_time": "2022-12-05T10:15:56.447Z"
   },
   {
    "duration": 16,
    "start_time": "2022-12-05T10:15:56.456Z"
   },
   {
    "duration": 23,
    "start_time": "2022-12-05T10:15:56.474Z"
   },
   {
    "duration": 23,
    "start_time": "2022-12-05T10:15:56.499Z"
   },
   {
    "duration": 51,
    "start_time": "2022-12-05T10:15:56.525Z"
   },
   {
    "duration": 181,
    "start_time": "2022-12-05T10:15:56.577Z"
   },
   {
    "duration": 239,
    "start_time": "2022-12-05T10:15:56.760Z"
   },
   {
    "duration": 28,
    "start_time": "2022-12-05T10:15:57.000Z"
   },
   {
    "duration": 12,
    "start_time": "2022-12-05T10:15:57.030Z"
   },
   {
    "duration": 79,
    "start_time": "2022-12-05T10:15:57.044Z"
   },
   {
    "duration": 287,
    "start_time": "2022-12-05T10:15:57.125Z"
   },
   {
    "duration": 163,
    "start_time": "2022-12-05T10:15:57.413Z"
   },
   {
    "duration": 3389,
    "start_time": "2022-12-05T10:16:19.228Z"
   },
   {
    "duration": 3382,
    "start_time": "2022-12-05T10:17:33.071Z"
   },
   {
    "duration": 3464,
    "start_time": "2022-12-05T10:17:46.187Z"
   },
   {
    "duration": 86,
    "start_time": "2022-12-05T10:18:01.864Z"
   },
   {
    "duration": 3281,
    "start_time": "2022-12-05T10:18:15.386Z"
   },
   {
    "duration": 3332,
    "start_time": "2022-12-05T10:18:26.564Z"
   },
   {
    "duration": 66,
    "start_time": "2022-12-05T10:22:05.876Z"
   },
   {
    "duration": 19,
    "start_time": "2022-12-05T10:22:16.056Z"
   },
   {
    "duration": 19,
    "start_time": "2022-12-05T10:22:54.869Z"
   },
   {
    "duration": 20,
    "start_time": "2022-12-05T10:22:57.652Z"
   },
   {
    "duration": 23,
    "start_time": "2022-12-05T10:22:58.061Z"
   },
   {
    "duration": 22,
    "start_time": "2022-12-05T10:22:59.802Z"
   },
   {
    "duration": 28,
    "start_time": "2022-12-05T10:24:02.034Z"
   },
   {
    "duration": 28,
    "start_time": "2022-12-05T10:24:10.159Z"
   },
   {
    "duration": 32,
    "start_time": "2022-12-05T10:24:19.403Z"
   },
   {
    "duration": 58,
    "start_time": "2022-12-05T10:25:13.018Z"
   },
   {
    "duration": 4,
    "start_time": "2022-12-05T10:25:17.334Z"
   },
   {
    "duration": 766,
    "start_time": "2022-12-05T10:25:17.341Z"
   },
   {
    "duration": 17,
    "start_time": "2022-12-05T10:25:18.109Z"
   },
   {
    "duration": 111,
    "start_time": "2022-12-05T10:25:18.128Z"
   },
   {
    "duration": 108,
    "start_time": "2022-12-05T10:25:18.241Z"
   },
   {
    "duration": 63,
    "start_time": "2022-12-05T10:25:28.732Z"
   },
   {
    "duration": 13,
    "start_time": "2022-12-05T10:25:35.466Z"
   },
   {
    "duration": 59,
    "start_time": "2022-12-05T10:25:57.591Z"
   },
   {
    "duration": 4,
    "start_time": "2022-12-05T10:27:40.415Z"
   },
   {
    "duration": 795,
    "start_time": "2022-12-05T10:27:40.421Z"
   },
   {
    "duration": 21,
    "start_time": "2022-12-05T10:27:41.218Z"
   },
   {
    "duration": 121,
    "start_time": "2022-12-05T10:27:41.241Z"
   },
   {
    "duration": 113,
    "start_time": "2022-12-05T10:27:41.365Z"
   },
   {
    "duration": 133,
    "start_time": "2022-12-05T10:30:51.836Z"
   },
   {
    "duration": 139,
    "start_time": "2022-12-05T10:31:36.335Z"
   },
   {
    "duration": 138,
    "start_time": "2022-12-05T10:31:44.444Z"
   },
   {
    "duration": 67,
    "start_time": "2022-12-05T10:35:04.785Z"
   },
   {
    "duration": 3527,
    "start_time": "2022-12-05T10:37:17.050Z"
   },
   {
    "duration": 3,
    "start_time": "2022-12-05T10:39:39.970Z"
   },
   {
    "duration": 85,
    "start_time": "2022-12-05T10:41:54.004Z"
   },
   {
    "duration": 101,
    "start_time": "2022-12-05T10:45:46.479Z"
   },
   {
    "duration": 175,
    "start_time": "2022-12-05T10:46:23.575Z"
   },
   {
    "duration": 5,
    "start_time": "2022-12-05T10:46:27.752Z"
   },
   {
    "duration": 844,
    "start_time": "2022-12-05T10:46:27.760Z"
   },
   {
    "duration": 18,
    "start_time": "2022-12-05T10:46:28.606Z"
   },
   {
    "duration": 36,
    "start_time": "2022-12-05T10:46:28.626Z"
   },
   {
    "duration": 159,
    "start_time": "2022-12-05T10:46:28.665Z"
   },
   {
    "duration": 150,
    "start_time": "2022-12-05T10:46:38.599Z"
   },
   {
    "duration": 43,
    "start_time": "2022-12-05T10:48:37.609Z"
   },
   {
    "duration": 70,
    "start_time": "2022-12-05T10:48:47.981Z"
   },
   {
    "duration": 41,
    "start_time": "2022-12-05T10:48:51.270Z"
   },
   {
    "duration": 56,
    "start_time": "2022-12-05T10:49:24.224Z"
   },
   {
    "duration": 14,
    "start_time": "2022-12-05T10:49:25.011Z"
   },
   {
    "duration": 12,
    "start_time": "2022-12-05T10:52:50.231Z"
   },
   {
    "duration": 161,
    "start_time": "2022-12-05T10:52:56.975Z"
   },
   {
    "duration": 31,
    "start_time": "2022-12-05T10:53:36.150Z"
   },
   {
    "duration": 47,
    "start_time": "2022-12-05T10:53:36.842Z"
   },
   {
    "duration": 99,
    "start_time": "2022-12-05T10:53:38.474Z"
   },
   {
    "duration": 23,
    "start_time": "2022-12-05T10:55:00.651Z"
   },
   {
    "duration": 21,
    "start_time": "2022-12-05T10:55:26.407Z"
   },
   {
    "duration": 42,
    "start_time": "2022-12-05T10:56:35.663Z"
   },
   {
    "duration": 54,
    "start_time": "2022-12-05T10:57:13.937Z"
   },
   {
    "duration": 55,
    "start_time": "2022-12-05T10:58:20.436Z"
   },
   {
    "duration": 29,
    "start_time": "2022-12-05T10:59:25.447Z"
   },
   {
    "duration": 30,
    "start_time": "2022-12-05T10:59:34.696Z"
   },
   {
    "duration": 208,
    "start_time": "2022-12-05T11:03:36.440Z"
   },
   {
    "duration": 46,
    "start_time": "2022-12-05T11:03:36.651Z"
   },
   {
    "duration": 6,
    "start_time": "2022-12-05T11:04:21.897Z"
   },
   {
    "duration": 888,
    "start_time": "2022-12-05T11:04:21.913Z"
   },
   {
    "duration": 18,
    "start_time": "2022-12-05T11:04:22.804Z"
   },
   {
    "duration": 8,
    "start_time": "2022-12-05T11:04:22.824Z"
   },
   {
    "duration": 151,
    "start_time": "2022-12-05T11:04:22.834Z"
   },
   {
    "duration": 158,
    "start_time": "2022-12-05T11:04:22.987Z"
   },
   {
    "duration": 79,
    "start_time": "2022-12-05T11:04:23.146Z"
   },
   {
    "duration": 21,
    "start_time": "2022-12-05T11:04:23.227Z"
   },
   {
    "duration": 179,
    "start_time": "2022-12-05T11:04:44.664Z"
   },
   {
    "duration": 84,
    "start_time": "2022-12-05T11:05:13.775Z"
   },
   {
    "duration": 199,
    "start_time": "2022-12-05T11:05:19.324Z"
   },
   {
    "duration": 203,
    "start_time": "2022-12-05T11:06:55.275Z"
   },
   {
    "duration": 208,
    "start_time": "2022-12-05T11:07:16.957Z"
   },
   {
    "duration": 1339,
    "start_time": "2022-12-05T11:07:36.111Z"
   },
   {
    "duration": 19,
    "start_time": "2022-12-05T11:07:59.688Z"
   },
   {
    "duration": 84,
    "start_time": "2022-12-05T11:08:38.979Z"
   },
   {
    "duration": 4,
    "start_time": "2022-12-05T11:09:01.367Z"
   },
   {
    "duration": 899,
    "start_time": "2022-12-05T11:09:01.373Z"
   },
   {
    "duration": 18,
    "start_time": "2022-12-05T11:09:02.274Z"
   },
   {
    "duration": 36,
    "start_time": "2022-12-05T11:09:02.295Z"
   },
   {
    "duration": 126,
    "start_time": "2022-12-05T11:09:02.333Z"
   },
   {
    "duration": 132,
    "start_time": "2022-12-05T11:09:02.461Z"
   },
   {
    "duration": 56,
    "start_time": "2022-12-05T11:09:02.595Z"
   },
   {
    "duration": 15,
    "start_time": "2022-12-05T11:09:02.652Z"
   },
   {
    "duration": 17,
    "start_time": "2022-12-05T11:09:02.668Z"
   },
   {
    "duration": 51,
    "start_time": "2022-12-05T11:09:02.687Z"
   },
   {
    "duration": 83,
    "start_time": "2022-12-05T11:09:02.740Z"
   },
   {
    "duration": 9,
    "start_time": "2022-12-05T11:09:21.286Z"
   },
   {
    "duration": 5,
    "start_time": "2022-12-05T11:09:41.006Z"
   },
   {
    "duration": 837,
    "start_time": "2022-12-05T11:09:41.014Z"
   },
   {
    "duration": 19,
    "start_time": "2022-12-05T11:09:41.853Z"
   },
   {
    "duration": 27,
    "start_time": "2022-12-05T11:09:41.875Z"
   },
   {
    "duration": 117,
    "start_time": "2022-12-05T11:09:41.905Z"
   },
   {
    "duration": 140,
    "start_time": "2022-12-05T11:09:42.024Z"
   },
   {
    "duration": 58,
    "start_time": "2022-12-05T11:09:42.166Z"
   },
   {
    "duration": 13,
    "start_time": "2022-12-05T11:09:42.225Z"
   },
   {
    "duration": 11,
    "start_time": "2022-12-05T11:09:45.361Z"
   },
   {
    "duration": 1437,
    "start_time": "2022-12-05T11:10:23.230Z"
   },
   {
    "duration": 3331,
    "start_time": "2022-12-05T11:10:33.091Z"
   },
   {
    "duration": 2627,
    "start_time": "2022-12-05T11:10:43.176Z"
   },
   {
    "duration": 35,
    "start_time": "2022-12-05T11:11:19.385Z"
   },
   {
    "duration": 79,
    "start_time": "2022-12-05T11:11:20.584Z"
   },
   {
    "duration": 4,
    "start_time": "2022-12-05T11:11:35.369Z"
   },
   {
    "duration": 49,
    "start_time": "2022-12-05T11:11:39.899Z"
   },
   {
    "duration": 41,
    "start_time": "2022-12-05T11:11:42.879Z"
   },
   {
    "duration": 2748,
    "start_time": "2022-12-05T11:11:44.051Z"
   },
   {
    "duration": 325,
    "start_time": "2022-12-05T11:11:53.820Z"
   },
   {
    "duration": 6,
    "start_time": "2022-12-05T11:12:17.774Z"
   },
   {
    "duration": 793,
    "start_time": "2022-12-05T11:12:17.783Z"
   },
   {
    "duration": 13,
    "start_time": "2022-12-05T11:12:18.578Z"
   },
   {
    "duration": 28,
    "start_time": "2022-12-05T11:12:18.593Z"
   },
   {
    "duration": 113,
    "start_time": "2022-12-05T11:12:18.623Z"
   },
   {
    "duration": 104,
    "start_time": "2022-12-05T11:12:18.738Z"
   },
   {
    "duration": 75,
    "start_time": "2022-12-05T11:12:18.844Z"
   },
   {
    "duration": 14,
    "start_time": "2022-12-05T11:12:18.921Z"
   },
   {
    "duration": 45,
    "start_time": "2022-12-05T11:12:18.937Z"
   },
   {
    "duration": 80,
    "start_time": "2022-12-05T11:12:18.984Z"
   },
   {
    "duration": 234,
    "start_time": "2022-12-05T11:12:23.331Z"
   },
   {
    "duration": 210,
    "start_time": "2022-12-05T11:12:40.572Z"
   },
   {
    "duration": 395,
    "start_time": "2022-12-05T11:12:50.650Z"
   },
   {
    "duration": 416,
    "start_time": "2022-12-05T11:13:19.504Z"
   },
   {
    "duration": 390,
    "start_time": "2022-12-05T11:13:42.120Z"
   },
   {
    "duration": 49,
    "start_time": "2022-12-05T11:14:43.808Z"
   },
   {
    "duration": 421,
    "start_time": "2022-12-05T11:14:46.084Z"
   },
   {
    "duration": 6,
    "start_time": "2022-12-05T11:15:16.381Z"
   },
   {
    "duration": 1090,
    "start_time": "2022-12-05T11:15:19.158Z"
   },
   {
    "duration": 15,
    "start_time": "2022-12-05T11:15:20.251Z"
   },
   {
    "duration": 6,
    "start_time": "2022-12-05T11:15:21.588Z"
   },
   {
    "duration": 129,
    "start_time": "2022-12-05T11:15:23.283Z"
   },
   {
    "duration": 107,
    "start_time": "2022-12-05T11:15:24.428Z"
   },
   {
    "duration": 82,
    "start_time": "2022-12-05T11:15:25.685Z"
   },
   {
    "duration": 19,
    "start_time": "2022-12-05T11:15:26.585Z"
   },
   {
    "duration": 148,
    "start_time": "2022-12-05T11:19:30.319Z"
   },
   {
    "duration": 16,
    "start_time": "2022-12-05T11:19:35.244Z"
   },
   {
    "duration": 87,
    "start_time": "2022-12-05T11:19:59.272Z"
   },
   {
    "duration": 35,
    "start_time": "2022-12-05T11:22:46.527Z"
   },
   {
    "duration": 5,
    "start_time": "2022-12-05T11:23:29.314Z"
   },
   {
    "duration": 82,
    "start_time": "2022-12-05T11:25:06.941Z"
   },
   {
    "duration": 77,
    "start_time": "2022-12-05T11:27:09.379Z"
   },
   {
    "duration": 133,
    "start_time": "2022-12-05T11:27:14.412Z"
   },
   {
    "duration": 77,
    "start_time": "2022-12-05T11:27:20.321Z"
   },
   {
    "duration": 150,
    "start_time": "2022-12-05T11:27:25.030Z"
   },
   {
    "duration": 80,
    "start_time": "2022-12-05T11:27:31.543Z"
   },
   {
    "duration": 92,
    "start_time": "2022-12-05T11:27:41.344Z"
   },
   {
    "duration": 83,
    "start_time": "2022-12-05T11:27:58.705Z"
   },
   {
    "duration": 71,
    "start_time": "2022-12-05T11:28:04.722Z"
   },
   {
    "duration": 90,
    "start_time": "2022-12-05T11:28:10.766Z"
   },
   {
    "duration": 5,
    "start_time": "2022-12-05T11:28:19.110Z"
   },
   {
    "duration": 878,
    "start_time": "2022-12-05T11:28:19.117Z"
   },
   {
    "duration": 14,
    "start_time": "2022-12-05T11:28:19.997Z"
   },
   {
    "duration": 130,
    "start_time": "2022-12-05T11:28:20.014Z"
   },
   {
    "duration": 113,
    "start_time": "2022-12-05T11:28:20.146Z"
   },
   {
    "duration": 111,
    "start_time": "2022-12-05T11:28:25.119Z"
   },
   {
    "duration": 113,
    "start_time": "2022-12-05T11:28:36.416Z"
   },
   {
    "duration": 129,
    "start_time": "2022-12-05T11:29:07.902Z"
   },
   {
    "duration": 132,
    "start_time": "2022-12-05T11:31:11.060Z"
   },
   {
    "duration": 99,
    "start_time": "2022-12-05T11:31:14.287Z"
   },
   {
    "duration": 82,
    "start_time": "2022-12-05T11:31:18.357Z"
   },
   {
    "duration": 71,
    "start_time": "2022-12-05T11:31:28.862Z"
   },
   {
    "duration": 5,
    "start_time": "2022-12-05T11:31:33.964Z"
   },
   {
    "duration": 872,
    "start_time": "2022-12-05T11:31:33.971Z"
   },
   {
    "duration": 14,
    "start_time": "2022-12-05T11:31:34.845Z"
   },
   {
    "duration": 118,
    "start_time": "2022-12-05T11:31:34.861Z"
   },
   {
    "duration": 106,
    "start_time": "2022-12-05T11:31:34.981Z"
   },
   {
    "duration": 40,
    "start_time": "2022-12-05T11:32:10.858Z"
   },
   {
    "duration": 42,
    "start_time": "2022-12-05T11:33:01.751Z"
   },
   {
    "duration": 40,
    "start_time": "2022-12-05T11:33:09.873Z"
   },
   {
    "duration": 39,
    "start_time": "2022-12-05T11:33:54.369Z"
   },
   {
    "duration": 43,
    "start_time": "2022-12-05T11:34:51.714Z"
   },
   {
    "duration": 45,
    "start_time": "2022-12-05T11:34:53.998Z"
   },
   {
    "duration": 41,
    "start_time": "2022-12-05T11:35:13.979Z"
   },
   {
    "duration": 102,
    "start_time": "2022-12-05T11:35:17.415Z"
   },
   {
    "duration": 71,
    "start_time": "2022-12-05T11:36:28.940Z"
   },
   {
    "duration": 96,
    "start_time": "2022-12-05T11:36:30.794Z"
   },
   {
    "duration": 169,
    "start_time": "2022-12-05T11:36:32.580Z"
   },
   {
    "duration": 77,
    "start_time": "2022-12-05T11:37:16.083Z"
   },
   {
    "duration": 4,
    "start_time": "2022-12-05T11:37:20.628Z"
   },
   {
    "duration": 762,
    "start_time": "2022-12-05T11:37:20.635Z"
   },
   {
    "duration": 14,
    "start_time": "2022-12-05T11:37:21.399Z"
   },
   {
    "duration": 110,
    "start_time": "2022-12-05T11:37:21.422Z"
   },
   {
    "duration": 135,
    "start_time": "2022-12-05T11:37:21.534Z"
   },
   {
    "duration": 56,
    "start_time": "2022-12-05T11:37:21.671Z"
   },
   {
    "duration": 75,
    "start_time": "2022-12-05T11:37:21.729Z"
   },
   {
    "duration": 3,
    "start_time": "2022-12-05T11:38:51.628Z"
   },
   {
    "duration": 75,
    "start_time": "2022-12-05T11:39:24.863Z"
   },
   {
    "duration": 82,
    "start_time": "2022-12-05T11:41:18.290Z"
   },
   {
    "duration": 20,
    "start_time": "2022-12-05T11:43:35.675Z"
   },
   {
    "duration": 13,
    "start_time": "2022-12-05T11:43:41.427Z"
   },
   {
    "duration": 112,
    "start_time": "2022-12-05T11:43:57.939Z"
   },
   {
    "duration": 41,
    "start_time": "2022-12-05T11:44:18.015Z"
   },
   {
    "duration": 14,
    "start_time": "2022-12-05T11:45:01.085Z"
   },
   {
    "duration": 4,
    "start_time": "2022-12-05T11:45:14.993Z"
   },
   {
    "duration": 745,
    "start_time": "2022-12-05T11:45:15.242Z"
   },
   {
    "duration": 15,
    "start_time": "2022-12-05T11:45:15.989Z"
   },
   {
    "duration": 167,
    "start_time": "2022-12-05T11:45:16.006Z"
   },
   {
    "duration": 116,
    "start_time": "2022-12-05T11:45:16.175Z"
   },
   {
    "duration": 104,
    "start_time": "2022-12-05T11:45:19.467Z"
   },
   {
    "duration": 49,
    "start_time": "2022-12-05T11:45:24.297Z"
   },
   {
    "duration": 46,
    "start_time": "2022-12-05T11:45:56.218Z"
   },
   {
    "duration": 4,
    "start_time": "2022-12-05T11:46:02.177Z"
   },
   {
    "duration": 748,
    "start_time": "2022-12-05T11:46:02.534Z"
   },
   {
    "duration": 15,
    "start_time": "2022-12-05T11:46:03.284Z"
   },
   {
    "duration": 117,
    "start_time": "2022-12-05T11:46:03.300Z"
   },
   {
    "duration": 109,
    "start_time": "2022-12-05T11:46:03.421Z"
   },
   {
    "duration": 48,
    "start_time": "2022-12-05T11:46:03.532Z"
   },
   {
    "duration": 44,
    "start_time": "2022-12-05T11:47:28.092Z"
   },
   {
    "duration": 4,
    "start_time": "2022-12-05T11:47:46.205Z"
   },
   {
    "duration": 769,
    "start_time": "2022-12-05T11:47:46.211Z"
   },
   {
    "duration": 14,
    "start_time": "2022-12-05T11:47:46.982Z"
   },
   {
    "duration": 133,
    "start_time": "2022-12-05T11:47:46.998Z"
   },
   {
    "duration": 103,
    "start_time": "2022-12-05T11:47:47.133Z"
   },
   {
    "duration": 48,
    "start_time": "2022-12-05T11:47:55.085Z"
   },
   {
    "duration": 72,
    "start_time": "2022-12-05T11:49:54.170Z"
   },
   {
    "duration": 80,
    "start_time": "2022-12-05T11:50:07.999Z"
   },
   {
    "duration": 15,
    "start_time": "2022-12-05T11:50:13.821Z"
   },
   {
    "duration": 13,
    "start_time": "2022-12-05T11:50:38.565Z"
   },
   {
    "duration": 13,
    "start_time": "2022-12-05T11:50:49.129Z"
   },
   {
    "duration": 12,
    "start_time": "2022-12-05T11:51:09.227Z"
   },
   {
    "duration": 12,
    "start_time": "2022-12-05T11:51:26.265Z"
   },
   {
    "duration": 16,
    "start_time": "2022-12-05T11:53:11.125Z"
   },
   {
    "duration": 14,
    "start_time": "2022-12-05T11:56:00.616Z"
   },
   {
    "duration": 53,
    "start_time": "2022-12-05T11:56:30.838Z"
   },
   {
    "duration": 51,
    "start_time": "2022-12-05T11:56:43.789Z"
   },
   {
    "duration": 12,
    "start_time": "2022-12-05T11:57:08.388Z"
   },
   {
    "duration": 79,
    "start_time": "2022-12-05T11:57:18.415Z"
   },
   {
    "duration": 50,
    "start_time": "2022-12-05T11:59:34.617Z"
   },
   {
    "duration": 50,
    "start_time": "2022-12-05T11:59:45.952Z"
   },
   {
    "duration": 50,
    "start_time": "2022-12-05T12:00:05.195Z"
   },
   {
    "duration": 5,
    "start_time": "2022-12-05T12:00:09.978Z"
   },
   {
    "duration": 743,
    "start_time": "2022-12-05T12:00:10.239Z"
   },
   {
    "duration": 19,
    "start_time": "2022-12-05T12:00:10.984Z"
   },
   {
    "duration": 119,
    "start_time": "2022-12-05T12:00:11.004Z"
   },
   {
    "duration": 111,
    "start_time": "2022-12-05T12:00:11.125Z"
   },
   {
    "duration": 57,
    "start_time": "2022-12-05T12:00:16.582Z"
   },
   {
    "duration": 49,
    "start_time": "2022-12-05T12:02:06.298Z"
   },
   {
    "duration": 39,
    "start_time": "2022-12-05T12:03:23.589Z"
   },
   {
    "duration": 43,
    "start_time": "2022-12-05T12:03:28.585Z"
   },
   {
    "duration": 114,
    "start_time": "2022-12-05T12:03:37.948Z"
   },
   {
    "duration": 104,
    "start_time": "2022-12-05T12:04:20.976Z"
   },
   {
    "duration": 4,
    "start_time": "2022-12-05T12:04:29.772Z"
   },
   {
    "duration": 1488,
    "start_time": "2022-12-05T12:04:40.379Z"
   },
   {
    "duration": 2900,
    "start_time": "2022-12-05T12:04:41.869Z"
   },
   {
    "duration": 16,
    "start_time": "2022-12-05T12:04:44.771Z"
   },
   {
    "duration": 111,
    "start_time": "2022-12-05T12:04:44.789Z"
   },
   {
    "duration": 110,
    "start_time": "2022-12-05T12:04:44.902Z"
   },
   {
    "duration": 55,
    "start_time": "2022-12-05T12:04:53.661Z"
   },
   {
    "duration": 97,
    "start_time": "2022-12-05T12:05:08.712Z"
   },
   {
    "duration": 116,
    "start_time": "2022-12-05T12:07:42.871Z"
   },
   {
    "duration": 116,
    "start_time": "2022-12-05T12:15:28.945Z"
   },
   {
    "duration": 2930,
    "start_time": "2022-12-05T12:16:52.901Z"
   },
   {
    "duration": 7,
    "start_time": "2022-12-05T12:17:01.095Z"
   },
   {
    "duration": 867,
    "start_time": "2022-12-05T12:17:05.164Z"
   },
   {
    "duration": 16,
    "start_time": "2022-12-05T12:17:06.451Z"
   },
   {
    "duration": 109,
    "start_time": "2022-12-05T12:17:07.651Z"
   },
   {
    "duration": 1539,
    "start_time": "2022-12-05T12:17:20.013Z"
   },
   {
    "duration": 102,
    "start_time": "2022-12-05T12:18:35.599Z"
   },
   {
    "duration": 58,
    "start_time": "2022-12-05T12:18:37.519Z"
   },
   {
    "duration": 51,
    "start_time": "2022-12-05T12:25:26.060Z"
   },
   {
    "duration": 93,
    "start_time": "2022-12-05T12:25:34.882Z"
   },
   {
    "duration": 109,
    "start_time": "2022-12-05T12:25:38.087Z"
   },
   {
    "duration": 59,
    "start_time": "2022-12-05T12:25:43.968Z"
   },
   {
    "duration": 97,
    "start_time": "2022-12-05T12:26:00.906Z"
   },
   {
    "duration": 1099,
    "start_time": "2022-12-05T12:32:37.481Z"
   },
   {
    "duration": 1032,
    "start_time": "2022-12-05T12:32:47.084Z"
   },
   {
    "duration": 1042,
    "start_time": "2022-12-05T12:33:07.822Z"
   },
   {
    "duration": 657,
    "start_time": "2022-12-05T12:34:45.978Z"
   },
   {
    "duration": 172,
    "start_time": "2022-12-05T12:38:05.914Z"
   },
   {
    "duration": 269,
    "start_time": "2022-12-05T12:38:24.897Z"
   },
   {
    "duration": 285,
    "start_time": "2022-12-05T12:38:47.637Z"
   },
   {
    "duration": 265,
    "start_time": "2022-12-05T12:38:52.466Z"
   },
   {
    "duration": 393,
    "start_time": "2022-12-05T12:39:08.124Z"
   },
   {
    "duration": 1506,
    "start_time": "2022-12-05T12:39:13.056Z"
   },
   {
    "duration": 632,
    "start_time": "2022-12-05T12:40:56.577Z"
   },
   {
    "duration": 59,
    "start_time": "2022-12-05T12:43:08.696Z"
   },
   {
    "duration": 48,
    "start_time": "2022-12-05T12:43:13.676Z"
   },
   {
    "duration": 52,
    "start_time": "2022-12-05T12:44:37.919Z"
   },
   {
    "duration": 49,
    "start_time": "2022-12-05T12:48:41.376Z"
   },
   {
    "duration": 51,
    "start_time": "2022-12-05T12:48:44.257Z"
   },
   {
    "duration": 52,
    "start_time": "2022-12-05T12:49:40.326Z"
   },
   {
    "duration": 82,
    "start_time": "2022-12-05T12:51:01.079Z"
   },
   {
    "duration": 70,
    "start_time": "2022-12-05T12:51:54.933Z"
   },
   {
    "duration": 58,
    "start_time": "2022-12-05T12:51:59.352Z"
   },
   {
    "duration": 56,
    "start_time": "2022-12-05T12:52:43.065Z"
   },
   {
    "duration": 1488,
    "start_time": "2022-12-05T12:55:08.011Z"
   },
   {
    "duration": 1609,
    "start_time": "2022-12-05T12:55:42.258Z"
   },
   {
    "duration": 4,
    "start_time": "2022-12-05T13:01:56.584Z"
   },
   {
    "duration": 15233,
    "start_time": "2022-12-05T13:02:22.192Z"
   },
   {
    "duration": 398,
    "start_time": "2022-12-05T13:08:49.350Z"
   },
   {
    "duration": 77,
    "start_time": "2022-12-05T13:10:06.336Z"
   },
   {
    "duration": 12,
    "start_time": "2022-12-05T13:10:26.495Z"
   },
   {
    "duration": 11028,
    "start_time": "2022-12-05T13:10:46.272Z"
   },
   {
    "duration": 1584,
    "start_time": "2022-12-05T13:11:18.011Z"
   },
   {
    "duration": 1624,
    "start_time": "2022-12-05T13:11:28.312Z"
   },
   {
    "duration": 1628,
    "start_time": "2022-12-05T13:11:51.388Z"
   },
   {
    "duration": 1593,
    "start_time": "2022-12-05T13:12:19.833Z"
   },
   {
    "duration": 1569,
    "start_time": "2022-12-05T13:12:54.671Z"
   },
   {
    "duration": 5,
    "start_time": "2022-12-05T13:13:39.114Z"
   },
   {
    "duration": 2009,
    "start_time": "2022-12-05T13:13:45.971Z"
   },
   {
    "duration": 78,
    "start_time": "2022-12-05T13:22:53.229Z"
   },
   {
    "duration": 808,
    "start_time": "2022-12-05T13:23:00.328Z"
   },
   {
    "duration": 789,
    "start_time": "2022-12-05T13:24:07.727Z"
   },
   {
    "duration": 1239,
    "start_time": "2022-12-05T13:24:23.876Z"
   },
   {
    "duration": 851,
    "start_time": "2022-12-05T13:25:28.136Z"
   },
   {
    "duration": 76,
    "start_time": "2022-12-05T13:54:25.217Z"
   },
   {
    "duration": 985,
    "start_time": "2022-12-05T13:54:36.804Z"
   },
   {
    "duration": 853,
    "start_time": "2022-12-05T13:55:22.445Z"
   },
   {
    "duration": 1644,
    "start_time": "2022-12-05T13:56:15.098Z"
   },
   {
    "duration": 2175,
    "start_time": "2022-12-05T13:57:15.611Z"
   },
   {
    "duration": 2774,
    "start_time": "2022-12-05T14:02:12.761Z"
   },
   {
    "duration": 2075,
    "start_time": "2022-12-05T14:09:11.862Z"
   },
   {
    "duration": 5,
    "start_time": "2022-12-05T14:09:13.940Z"
   },
   {
    "duration": 830,
    "start_time": "2022-12-05T14:09:13.946Z"
   },
   {
    "duration": 15,
    "start_time": "2022-12-05T14:09:14.778Z"
   },
   {
    "duration": 131,
    "start_time": "2022-12-05T14:09:14.795Z"
   },
   {
    "duration": 1494,
    "start_time": "2022-12-05T14:09:14.928Z"
   },
   {
    "duration": 108,
    "start_time": "2022-12-05T14:09:16.424Z"
   },
   {
    "duration": 53,
    "start_time": "2022-12-05T14:09:16.533Z"
   },
   {
    "duration": 106,
    "start_time": "2022-12-05T14:09:16.588Z"
   },
   {
    "duration": 65,
    "start_time": "2022-12-05T14:14:15.776Z"
   },
   {
    "duration": 150,
    "start_time": "2022-12-05T14:14:32.549Z"
   },
   {
    "duration": 289,
    "start_time": "2022-12-05T14:14:38.638Z"
   },
   {
    "duration": 4015,
    "start_time": "2022-12-05T14:14:52.287Z"
   },
   {
    "duration": 111,
    "start_time": "2022-12-05T14:15:59.039Z"
   },
   {
    "duration": 2135,
    "start_time": "2022-12-05T14:16:04.949Z"
   },
   {
    "duration": 5,
    "start_time": "2022-12-05T14:16:07.086Z"
   },
   {
    "duration": 806,
    "start_time": "2022-12-05T14:16:07.093Z"
   },
   {
    "duration": 14,
    "start_time": "2022-12-05T14:16:07.901Z"
   },
   {
    "duration": 122,
    "start_time": "2022-12-05T14:16:07.923Z"
   },
   {
    "duration": 1525,
    "start_time": "2022-12-05T14:16:08.046Z"
   },
   {
    "duration": 120,
    "start_time": "2022-12-05T14:16:09.573Z"
   },
   {
    "duration": 65,
    "start_time": "2022-12-05T14:16:09.695Z"
   },
   {
    "duration": 113,
    "start_time": "2022-12-05T14:16:09.762Z"
   },
   {
    "duration": 60,
    "start_time": "2022-12-05T14:17:03.173Z"
   },
   {
    "duration": 1470,
    "start_time": "2022-12-05T14:18:45.515Z"
   },
   {
    "duration": 1537,
    "start_time": "2022-12-05T14:19:25.314Z"
   },
   {
    "duration": 2030,
    "start_time": "2022-12-05T14:34:11.822Z"
   },
   {
    "duration": 1518,
    "start_time": "2022-12-05T14:34:13.855Z"
   },
   {
    "duration": 861,
    "start_time": "2022-12-05T14:34:15.375Z"
   },
   {
    "duration": 18,
    "start_time": "2022-12-05T14:34:16.238Z"
   },
   {
    "duration": 131,
    "start_time": "2022-12-05T14:34:16.258Z"
   },
   {
    "duration": 1575,
    "start_time": "2022-12-05T14:34:16.391Z"
   },
   {
    "duration": 103,
    "start_time": "2022-12-05T14:34:17.967Z"
   },
   {
    "duration": 67,
    "start_time": "2022-12-05T14:34:18.071Z"
   },
   {
    "duration": 106,
    "start_time": "2022-12-05T14:34:18.140Z"
   },
   {
    "duration": 64,
    "start_time": "2022-12-05T14:34:18.248Z"
   },
   {
    "duration": 57,
    "start_time": "2022-12-05T14:34:18.313Z"
   },
   {
    "duration": 1528,
    "start_time": "2022-12-05T14:34:18.372Z"
   },
   {
    "duration": 111,
    "start_time": "2022-12-05T14:34:19.902Z"
   },
   {
    "duration": 163,
    "start_time": "2022-12-05T14:34:20.023Z"
   },
   {
    "duration": 164,
    "start_time": "2022-12-05T14:34:23.273Z"
   },
   {
    "duration": 5658,
    "start_time": "2022-12-05T14:38:16.037Z"
   },
   {
    "duration": 186979,
    "start_time": "2022-12-05T14:43:49.727Z"
   },
   {
    "duration": 14270,
    "start_time": "2022-12-05T14:48:43.722Z"
   },
   {
    "duration": 121588,
    "start_time": "2022-12-05T14:49:00.822Z"
   },
   {
    "duration": 75245,
    "start_time": "2022-12-05T14:51:19.236Z"
   },
   {
    "duration": 15,
    "start_time": "2022-12-05T14:53:29.010Z"
   },
   {
    "duration": 84,
    "start_time": "2022-12-05T14:54:15.675Z"
   },
   {
    "duration": 87,
    "start_time": "2022-12-05T14:55:28.068Z"
   },
   {
    "duration": 26,
    "start_time": "2022-12-05T14:55:40.376Z"
   },
   {
    "duration": 19,
    "start_time": "2022-12-05T14:55:59.561Z"
   },
   {
    "duration": 46,
    "start_time": "2022-12-05T15:00:08.699Z"
   },
   {
    "duration": 41,
    "start_time": "2022-12-05T15:00:13.925Z"
   },
   {
    "duration": 17,
    "start_time": "2022-12-05T15:00:17.353Z"
   },
   {
    "duration": 206,
    "start_time": "2022-12-05T15:01:04.205Z"
   },
   {
    "duration": 149,
    "start_time": "2022-12-05T15:01:33.275Z"
   },
   {
    "duration": 207,
    "start_time": "2022-12-05T15:01:43.587Z"
   },
   {
    "duration": 133,
    "start_time": "2022-12-05T15:01:51.409Z"
   },
   {
    "duration": 18,
    "start_time": "2022-12-05T15:02:06.673Z"
   },
   {
    "duration": 247,
    "start_time": "2022-12-05T15:02:28.213Z"
   },
   {
    "duration": 177,
    "start_time": "2022-12-05T15:03:13.367Z"
   },
   {
    "duration": 20,
    "start_time": "2022-12-05T15:05:02.738Z"
   },
   {
    "duration": 23,
    "start_time": "2022-12-05T15:05:09.119Z"
   },
   {
    "duration": 17,
    "start_time": "2022-12-05T15:05:43.089Z"
   },
   {
    "duration": 28,
    "start_time": "2022-12-05T15:06:07.188Z"
   },
   {
    "duration": 193,
    "start_time": "2022-12-05T15:06:17.154Z"
   },
   {
    "duration": 1140,
    "start_time": "2022-12-05T15:06:47.869Z"
   },
   {
    "duration": 1376,
    "start_time": "2022-12-05T15:06:56.052Z"
   },
   {
    "duration": 502,
    "start_time": "2022-12-05T15:07:04.385Z"
   },
   {
    "duration": 450,
    "start_time": "2022-12-05T15:07:39.825Z"
   },
   {
    "duration": 70,
    "start_time": "2022-12-05T15:09:31.998Z"
   },
   {
    "duration": 58,
    "start_time": "2022-12-05T15:11:00.656Z"
   },
   {
    "duration": 75,
    "start_time": "2022-12-05T15:11:23.979Z"
   },
   {
    "duration": 57,
    "start_time": "2022-12-05T15:11:45.872Z"
   },
   {
    "duration": 27238,
    "start_time": "2022-12-05T15:12:21.697Z"
   },
   {
    "duration": 226102,
    "start_time": "2022-12-05T15:13:14.358Z"
   },
   {
    "duration": 214,
    "start_time": "2022-12-05T15:17:00.462Z"
   },
   {
    "duration": 37,
    "start_time": "2022-12-05T15:23:50.358Z"
   },
   {
    "duration": 26,
    "start_time": "2022-12-05T15:24:17.830Z"
   },
   {
    "duration": 182,
    "start_time": "2022-12-05T16:44:36.753Z"
   },
   {
    "duration": 28,
    "start_time": "2022-12-05T16:45:20.464Z"
   },
   {
    "duration": 2120,
    "start_time": "2022-12-05T16:45:38.454Z"
   },
   {
    "duration": 5,
    "start_time": "2022-12-05T16:45:40.577Z"
   },
   {
    "duration": 789,
    "start_time": "2022-12-05T16:45:40.584Z"
   },
   {
    "duration": 14,
    "start_time": "2022-12-05T16:45:41.375Z"
   },
   {
    "duration": 118,
    "start_time": "2022-12-05T16:45:41.391Z"
   },
   {
    "duration": 1510,
    "start_time": "2022-12-05T16:45:41.510Z"
   },
   {
    "duration": 108,
    "start_time": "2022-12-05T16:45:43.022Z"
   },
   {
    "duration": 51,
    "start_time": "2022-12-05T16:45:43.132Z"
   },
   {
    "duration": 106,
    "start_time": "2022-12-05T16:45:43.185Z"
   },
   {
    "duration": 71,
    "start_time": "2022-12-05T16:45:43.294Z"
   },
   {
    "duration": 59,
    "start_time": "2022-12-05T16:45:43.367Z"
   },
   {
    "duration": 1475,
    "start_time": "2022-12-05T16:45:43.428Z"
   },
   {
    "duration": 105,
    "start_time": "2022-12-05T16:45:44.905Z"
   },
   {
    "duration": 166,
    "start_time": "2022-12-05T16:45:45.012Z"
   },
   {
    "duration": 143,
    "start_time": "2022-12-05T16:45:45.180Z"
   },
   {
    "duration": 190,
    "start_time": "2022-12-05T16:45:45.325Z"
   },
   {
    "duration": 34,
    "start_time": "2022-12-05T16:45:45.517Z"
   },
   {
    "duration": 188,
    "start_time": "2022-12-05T16:45:58.877Z"
   },
   {
    "duration": 29,
    "start_time": "2022-12-05T16:46:52.024Z"
   },
   {
    "duration": 360,
    "start_time": "2022-12-05T16:46:53.252Z"
   },
   {
    "duration": 1225,
    "start_time": "2022-12-05T16:47:01.938Z"
   },
   {
    "duration": 97,
    "start_time": "2022-12-05T16:47:09.771Z"
   },
   {
    "duration": 2773,
    "start_time": "2022-12-05T16:47:13.286Z"
   },
   {
    "duration": 55,
    "start_time": "2022-12-05T16:47:23.236Z"
   },
   {
    "duration": 93,
    "start_time": "2022-12-05T16:47:49.706Z"
   },
   {
    "duration": 2310,
    "start_time": "2022-12-05T16:48:09.508Z"
   },
   {
    "duration": 2730,
    "start_time": "2022-12-05T16:48:15.302Z"
   },
   {
    "duration": 24,
    "start_time": "2022-12-05T16:49:21.355Z"
   },
   {
    "duration": 2847,
    "start_time": "2022-12-05T16:49:24.572Z"
   },
   {
    "duration": 1715,
    "start_time": "2022-12-05T16:50:01.732Z"
   },
   {
    "duration": 27,
    "start_time": "2022-12-05T16:50:48.700Z"
   },
   {
    "duration": 246,
    "start_time": "2022-12-05T16:50:56.139Z"
   },
   {
    "duration": 29,
    "start_time": "2022-12-05T16:51:23.386Z"
   },
   {
    "duration": 251,
    "start_time": "2022-12-05T16:51:24.249Z"
   },
   {
    "duration": 10,
    "start_time": "2022-12-05T16:53:02.186Z"
   },
   {
    "duration": 17,
    "start_time": "2022-12-05T16:53:47.805Z"
   },
   {
    "duration": 246,
    "start_time": "2022-12-05T16:53:50.846Z"
   },
   {
    "duration": 18,
    "start_time": "2022-12-05T16:54:02.400Z"
   },
   {
    "duration": 265,
    "start_time": "2022-12-05T16:54:05.641Z"
   },
   {
    "duration": 2017,
    "start_time": "2022-12-05T16:57:00.844Z"
   },
   {
    "duration": 67,
    "start_time": "2022-12-05T16:57:50.241Z"
   },
   {
    "duration": 70,
    "start_time": "2022-12-05T16:57:56.842Z"
   },
   {
    "duration": 2138,
    "start_time": "2022-12-05T16:58:02.663Z"
   },
   {
    "duration": 1468,
    "start_time": "2022-12-05T16:58:04.803Z"
   },
   {
    "duration": 773,
    "start_time": "2022-12-05T16:58:06.273Z"
   },
   {
    "duration": 18,
    "start_time": "2022-12-05T16:58:07.048Z"
   },
   {
    "duration": 113,
    "start_time": "2022-12-05T16:58:07.068Z"
   },
   {
    "duration": 1471,
    "start_time": "2022-12-05T16:58:07.182Z"
   },
   {
    "duration": 107,
    "start_time": "2022-12-05T16:58:08.655Z"
   },
   {
    "duration": 62,
    "start_time": "2022-12-05T16:58:08.764Z"
   },
   {
    "duration": 116,
    "start_time": "2022-12-05T16:58:08.829Z"
   },
   {
    "duration": 62,
    "start_time": "2022-12-05T16:58:08.947Z"
   },
   {
    "duration": 59,
    "start_time": "2022-12-05T16:58:09.011Z"
   },
   {
    "duration": 1600,
    "start_time": "2022-12-05T16:58:09.072Z"
   },
   {
    "duration": 115,
    "start_time": "2022-12-05T16:58:10.675Z"
   },
   {
    "duration": 169,
    "start_time": "2022-12-05T16:58:10.794Z"
   },
   {
    "duration": 166,
    "start_time": "2022-12-05T16:58:10.964Z"
   },
   {
    "duration": 210,
    "start_time": "2022-12-05T16:58:11.132Z"
   },
   {
    "duration": 30,
    "start_time": "2022-12-05T16:58:11.344Z"
   },
   {
    "duration": 47,
    "start_time": "2022-12-05T16:58:11.375Z"
   },
   {
    "duration": 2854,
    "start_time": "2022-12-05T16:58:11.423Z"
   },
   {
    "duration": 66,
    "start_time": "2022-12-05T16:58:14.280Z"
   },
   {
    "duration": 27,
    "start_time": "2022-12-05T16:58:14.348Z"
   },
   {
    "duration": 454,
    "start_time": "2022-12-05T16:58:14.378Z"
   },
   {
    "duration": 17,
    "start_time": "2022-12-05T16:58:19.244Z"
   },
   {
    "duration": 244,
    "start_time": "2022-12-05T16:58:22.148Z"
   },
   {
    "duration": 273,
    "start_time": "2022-12-05T16:58:42.593Z"
   },
   {
    "duration": 310,
    "start_time": "2022-12-05T16:59:20.122Z"
   },
   {
    "duration": 246,
    "start_time": "2022-12-05T16:59:42.637Z"
   },
   {
    "duration": 31,
    "start_time": "2022-12-05T16:59:43.561Z"
   },
   {
    "duration": 281,
    "start_time": "2022-12-05T16:59:44.820Z"
   },
   {
    "duration": 271,
    "start_time": "2022-12-05T17:00:24.651Z"
   },
   {
    "duration": 451,
    "start_time": "2022-12-05T17:01:33.511Z"
   },
   {
    "duration": 289,
    "start_time": "2022-12-05T17:03:25.509Z"
   },
   {
    "duration": 2301,
    "start_time": "2022-12-05T17:04:42.986Z"
   },
   {
    "duration": 5,
    "start_time": "2022-12-05T17:04:45.289Z"
   },
   {
    "duration": 782,
    "start_time": "2022-12-05T17:04:45.296Z"
   },
   {
    "duration": 15,
    "start_time": "2022-12-05T17:04:46.080Z"
   },
   {
    "duration": 127,
    "start_time": "2022-12-05T17:04:46.097Z"
   },
   {
    "duration": 1459,
    "start_time": "2022-12-05T17:04:46.226Z"
   },
   {
    "duration": 100,
    "start_time": "2022-12-05T17:04:47.686Z"
   },
   {
    "duration": 64,
    "start_time": "2022-12-05T17:04:47.788Z"
   },
   {
    "duration": 96,
    "start_time": "2022-12-05T17:04:47.853Z"
   },
   {
    "duration": 70,
    "start_time": "2022-12-05T17:04:47.952Z"
   },
   {
    "duration": 48,
    "start_time": "2022-12-05T17:04:48.024Z"
   },
   {
    "duration": 1580,
    "start_time": "2022-12-05T17:04:48.073Z"
   },
   {
    "duration": 101,
    "start_time": "2022-12-05T17:04:49.654Z"
   },
   {
    "duration": 180,
    "start_time": "2022-12-05T17:04:49.757Z"
   },
   {
    "duration": 149,
    "start_time": "2022-12-05T17:04:49.939Z"
   },
   {
    "duration": 193,
    "start_time": "2022-12-05T17:04:50.090Z"
   },
   {
    "duration": 47,
    "start_time": "2022-12-05T17:04:50.284Z"
   },
   {
    "duration": 29,
    "start_time": "2022-12-05T17:04:50.332Z"
   },
   {
    "duration": 2694,
    "start_time": "2022-12-05T17:04:50.362Z"
   },
   {
    "duration": 47,
    "start_time": "2022-12-05T17:04:53.058Z"
   },
   {
    "duration": 545,
    "start_time": "2022-12-05T17:04:53.107Z"
   },
   {
    "duration": 25,
    "start_time": "2022-12-05T17:04:53.654Z"
   },
   {
    "duration": 307,
    "start_time": "2022-12-05T17:04:53.681Z"
   },
   {
    "duration": 7,
    "start_time": "2022-12-05T17:04:53.990Z"
   },
   {
    "duration": 6,
    "start_time": "2022-12-05T17:04:59.010Z"
   },
   {
    "duration": 16,
    "start_time": "2022-12-05T17:05:50.488Z"
   },
   {
    "duration": 12,
    "start_time": "2022-12-05T17:05:52.485Z"
   },
   {
    "duration": 23,
    "start_time": "2022-12-05T17:05:54.482Z"
   },
   {
    "duration": 188,
    "start_time": "2022-12-05T17:05:57.660Z"
   },
   {
    "duration": 18,
    "start_time": "2022-12-05T17:06:32.742Z"
   },
   {
    "duration": 3,
    "start_time": "2022-12-05T17:06:33.511Z"
   },
   {
    "duration": 63,
    "start_time": "2022-12-05T17:06:38.080Z"
   },
   {
    "duration": 334,
    "start_time": "2022-12-05T17:06:43.788Z"
   },
   {
    "duration": 769,
    "start_time": "2022-12-05T17:07:10.454Z"
   },
   {
    "duration": 3,
    "start_time": "2022-12-05T17:08:35.919Z"
   },
   {
    "duration": 4,
    "start_time": "2022-12-05T17:09:40.044Z"
   },
   {
    "duration": 2,
    "start_time": "2022-12-05T17:12:09.726Z"
   },
   {
    "duration": 193,
    "start_time": "2022-12-05T17:12:12.430Z"
   },
   {
    "duration": 502,
    "start_time": "2022-12-05T17:12:13.422Z"
   },
   {
    "duration": 4,
    "start_time": "2022-12-05T17:12:17.827Z"
   },
   {
    "duration": 211,
    "start_time": "2022-12-05T17:12:33.072Z"
   },
   {
    "duration": 145,
    "start_time": "2022-12-05T17:13:02.053Z"
   },
   {
    "duration": 17,
    "start_time": "2022-12-05T17:13:03.835Z"
   },
   {
    "duration": 4,
    "start_time": "2022-12-05T17:13:31.426Z"
   },
   {
    "duration": 33998,
    "start_time": "2022-12-05T17:13:33.429Z"
   },
   {
    "duration": 454058,
    "start_time": "2022-12-05T17:14:14.183Z"
   },
   {
    "duration": 13262,
    "start_time": "2022-12-05T17:22:17.376Z"
   },
   {
    "duration": 17041,
    "start_time": "2022-12-05T17:23:06.983Z"
   },
   {
    "duration": 5690,
    "start_time": "2022-12-05T17:23:24.026Z"
   },
   {
    "duration": 4413,
    "start_time": "2022-12-05T17:23:29.718Z"
   },
   {
    "duration": 489,
    "start_time": "2022-12-05T17:23:51.443Z"
   },
   {
    "duration": 7327,
    "start_time": "2022-12-05T17:24:18.897Z"
   },
   {
    "duration": 483,
    "start_time": "2022-12-05T17:24:27.953Z"
   },
   {
    "duration": 303,
    "start_time": "2022-12-05T17:25:01.903Z"
   },
   {
    "duration": 75,
    "start_time": "2022-12-05T17:25:09.350Z"
   },
   {
    "duration": 94,
    "start_time": "2022-12-05T17:25:15.131Z"
   },
   {
    "duration": 4457,
    "start_time": "2022-12-05T17:25:56.471Z"
   },
   {
    "duration": 5581,
    "start_time": "2022-12-05T17:26:09.396Z"
   },
   {
    "duration": 14,
    "start_time": "2022-12-05T17:33:09.086Z"
   },
   {
    "duration": 2081,
    "start_time": "2022-12-05T17:33:25.629Z"
   },
   {
    "duration": 5,
    "start_time": "2022-12-05T17:33:27.712Z"
   },
   {
    "duration": 824,
    "start_time": "2022-12-05T17:33:27.719Z"
   },
   {
    "duration": 14,
    "start_time": "2022-12-05T17:33:28.546Z"
   },
   {
    "duration": 126,
    "start_time": "2022-12-05T17:33:28.562Z"
   },
   {
    "duration": 1503,
    "start_time": "2022-12-05T17:33:28.690Z"
   },
   {
    "duration": 104,
    "start_time": "2022-12-05T17:33:30.195Z"
   },
   {
    "duration": 71,
    "start_time": "2022-12-05T17:33:30.301Z"
   },
   {
    "duration": 101,
    "start_time": "2022-12-05T17:33:30.374Z"
   },
   {
    "duration": 68,
    "start_time": "2022-12-05T17:33:30.478Z"
   },
   {
    "duration": 51,
    "start_time": "2022-12-05T17:33:30.548Z"
   },
   {
    "duration": 1532,
    "start_time": "2022-12-05T17:33:30.601Z"
   },
   {
    "duration": 112,
    "start_time": "2022-12-05T17:33:32.135Z"
   },
   {
    "duration": 169,
    "start_time": "2022-12-05T17:33:32.249Z"
   },
   {
    "duration": 151,
    "start_time": "2022-12-05T17:33:32.420Z"
   },
   {
    "duration": 209,
    "start_time": "2022-12-05T17:33:32.572Z"
   },
   {
    "duration": 26,
    "start_time": "2022-12-05T17:33:32.782Z"
   },
   {
    "duration": 39,
    "start_time": "2022-12-05T17:33:32.810Z"
   },
   {
    "duration": 2928,
    "start_time": "2022-12-05T17:33:32.851Z"
   },
   {
    "duration": 57,
    "start_time": "2022-12-05T17:33:35.781Z"
   },
   {
    "duration": 305,
    "start_time": "2022-12-05T17:33:35.840Z"
   },
   {
    "duration": 26,
    "start_time": "2022-12-05T17:33:36.146Z"
   },
   {
    "duration": 300,
    "start_time": "2022-12-05T17:33:36.173Z"
   },
   {
    "duration": 7,
    "start_time": "2022-12-05T17:33:36.475Z"
   },
   {
    "duration": 5,
    "start_time": "2022-12-05T17:33:36.484Z"
   },
   {
    "duration": 36,
    "start_time": "2022-12-05T17:33:36.491Z"
   },
   {
    "duration": 11,
    "start_time": "2022-12-05T17:33:36.529Z"
   },
   {
    "duration": 23,
    "start_time": "2022-12-05T17:33:36.543Z"
   },
   {
    "duration": 16,
    "start_time": "2022-12-05T17:33:36.568Z"
   },
   {
    "duration": 4,
    "start_time": "2022-12-05T17:33:36.586Z"
   },
   {
    "duration": 92,
    "start_time": "2022-12-05T17:33:36.591Z"
   },
   {
    "duration": 309,
    "start_time": "2022-12-05T17:33:36.685Z"
   },
   {
    "duration": 720,
    "start_time": "2022-12-05T17:33:36.996Z"
   },
   {
    "duration": 7,
    "start_time": "2022-12-05T17:33:37.717Z"
   },
   {
    "duration": 6,
    "start_time": "2022-12-05T17:33:37.726Z"
   },
   {
    "duration": 206,
    "start_time": "2022-12-05T17:33:37.734Z"
   },
   {
    "duration": 518,
    "start_time": "2022-12-05T17:33:37.942Z"
   },
   {
    "duration": 3,
    "start_time": "2022-12-05T17:33:38.462Z"
   },
   {
    "duration": 40,
    "start_time": "2022-12-05T17:33:38.467Z"
   },
   {
    "duration": 14,
    "start_time": "2022-12-05T17:33:38.509Z"
   },
   {
    "duration": 22,
    "start_time": "2022-12-05T17:33:38.525Z"
   },
   {
    "duration": 34878,
    "start_time": "2022-12-05T17:33:38.549Z"
   },
   {
    "duration": 455349,
    "start_time": "2022-12-05T17:34:13.428Z"
   },
   {
    "duration": 15464,
    "start_time": "2022-12-05T17:41:48.779Z"
   },
   {
    "duration": 17781,
    "start_time": "2022-12-05T17:42:04.245Z"
   },
   {
    "duration": 5877,
    "start_time": "2022-12-05T17:42:22.028Z"
   },
   {
    "duration": 4424,
    "start_time": "2022-12-05T17:42:27.907Z"
   },
   {
    "duration": 6599,
    "start_time": "2022-12-05T17:42:32.333Z"
   },
   {
    "duration": 589,
    "start_time": "2022-12-05T17:42:38.934Z"
   },
   {
    "duration": 103,
    "start_time": "2022-12-05T17:42:39.524Z"
   },
   {
    "duration": 5848,
    "start_time": "2022-12-05T17:46:13.426Z"
   },
   {
    "duration": 4558,
    "start_time": "2022-12-05T17:46:21.074Z"
   },
   {
    "duration": 4,
    "start_time": "2022-12-06T10:05:34.048Z"
   },
   {
    "duration": 57,
    "start_time": "2022-12-07T07:28:01.652Z"
   },
   {
    "duration": 3,
    "start_time": "2022-12-07T07:28:06.046Z"
   },
   {
    "duration": 1838,
    "start_time": "2022-12-07T07:28:06.051Z"
   },
   {
    "duration": 0,
    "start_time": "2022-12-07T07:28:07.891Z"
   },
   {
    "duration": 0,
    "start_time": "2022-12-07T07:28:07.892Z"
   },
   {
    "duration": 0,
    "start_time": "2022-12-07T07:28:07.893Z"
   },
   {
    "duration": 0,
    "start_time": "2022-12-07T07:28:07.894Z"
   },
   {
    "duration": 0,
    "start_time": "2022-12-07T07:28:07.895Z"
   },
   {
    "duration": 0,
    "start_time": "2022-12-07T07:28:07.897Z"
   },
   {
    "duration": 0,
    "start_time": "2022-12-07T07:28:07.898Z"
   },
   {
    "duration": 0,
    "start_time": "2022-12-07T07:28:07.899Z"
   },
   {
    "duration": 0,
    "start_time": "2022-12-07T07:28:07.900Z"
   },
   {
    "duration": 2868,
    "start_time": "2022-12-07T07:28:19.186Z"
   },
   {
    "duration": 8,
    "start_time": "2022-12-07T07:28:22.056Z"
   },
   {
    "duration": 3,
    "start_time": "2022-12-07T07:28:39.521Z"
   },
   {
    "duration": 4,
    "start_time": "2022-12-07T07:28:40.487Z"
   },
   {
    "duration": 1213,
    "start_time": "2022-12-07T07:28:42.236Z"
   },
   {
    "duration": 18,
    "start_time": "2022-12-07T07:28:45.911Z"
   },
   {
    "duration": 142,
    "start_time": "2022-12-07T07:28:46.473Z"
   },
   {
    "duration": 1716,
    "start_time": "2022-12-07T07:28:50.149Z"
   },
   {
    "duration": 142,
    "start_time": "2022-12-07T07:28:54.871Z"
   },
   {
    "duration": 66,
    "start_time": "2022-12-07T07:28:55.882Z"
   },
   {
    "duration": 97,
    "start_time": "2022-12-07T07:28:57.302Z"
   },
   {
    "duration": 75,
    "start_time": "2022-12-07T07:28:57.774Z"
   },
   {
    "duration": 53,
    "start_time": "2022-12-07T07:28:58.847Z"
   },
   {
    "duration": 1662,
    "start_time": "2022-12-07T07:29:01.208Z"
   },
   {
    "duration": 152,
    "start_time": "2022-12-07T07:29:06.755Z"
   },
   {
    "duration": 168,
    "start_time": "2022-12-07T07:29:09.175Z"
   },
   {
    "duration": 149,
    "start_time": "2022-12-07T07:29:13.583Z"
   },
   {
    "duration": 218,
    "start_time": "2022-12-07T07:29:18.533Z"
   },
   {
    "duration": 27,
    "start_time": "2022-12-07T07:29:21.092Z"
   },
   {
    "duration": 35,
    "start_time": "2022-12-07T07:29:22.488Z"
   },
   {
    "duration": 2689,
    "start_time": "2022-12-07T07:29:23.250Z"
   },
   {
    "duration": 51,
    "start_time": "2022-12-07T07:29:28.471Z"
   },
   {
    "duration": 433,
    "start_time": "2022-12-07T07:29:30.864Z"
   },
   {
    "duration": 30,
    "start_time": "2022-12-07T07:29:32.482Z"
   },
   {
    "duration": 320,
    "start_time": "2022-12-07T07:29:32.655Z"
   },
   {
    "duration": 8,
    "start_time": "2022-12-07T07:29:35.260Z"
   },
   {
    "duration": 5,
    "start_time": "2022-12-07T07:29:36.082Z"
   },
   {
    "duration": 16,
    "start_time": "2022-12-07T07:29:37.375Z"
   },
   {
    "duration": 19,
    "start_time": "2022-12-07T07:29:38.929Z"
   },
   {
    "duration": 31,
    "start_time": "2022-12-07T07:29:39.835Z"
   },
   {
    "duration": 18,
    "start_time": "2022-12-07T07:29:45.385Z"
   },
   {
    "duration": 4,
    "start_time": "2022-12-07T07:29:46.160Z"
   },
   {
    "duration": 84,
    "start_time": "2022-12-07T07:29:47.177Z"
   },
   {
    "duration": 318,
    "start_time": "2022-12-07T07:29:51.400Z"
   },
   {
    "duration": 3,
    "start_time": "2022-12-07T07:33:08.237Z"
   },
   {
    "duration": 3,
    "start_time": "2022-12-07T07:33:26.395Z"
   },
   {
    "duration": 15,
    "start_time": "2022-12-07T07:33:32.477Z"
   },
   {
    "duration": 120,
    "start_time": "2022-12-07T07:33:33.337Z"
   },
   {
    "duration": 3,
    "start_time": "2022-12-07T07:33:34.871Z"
   },
   {
    "duration": 12,
    "start_time": "2022-12-07T07:33:35.786Z"
   },
   {
    "duration": 337,
    "start_time": "2022-12-07T07:45:29.920Z"
   },
   {
    "duration": 126,
    "start_time": "2022-12-07T07:46:27.769Z"
   },
   {
    "duration": 114,
    "start_time": "2022-12-07T07:46:52.765Z"
   },
   {
    "duration": 5,
    "start_time": "2022-12-07T07:56:16.421Z"
   },
   {
    "duration": 59,
    "start_time": "2022-12-07T07:57:36.040Z"
   },
   {
    "duration": 276,
    "start_time": "2022-12-07T07:58:37.360Z"
   },
   {
    "duration": 279,
    "start_time": "2022-12-07T07:58:45.724Z"
   },
   {
    "duration": 268,
    "start_time": "2022-12-07T07:59:04.130Z"
   },
   {
    "duration": 279,
    "start_time": "2022-12-07T07:59:16.053Z"
   },
   {
    "duration": 259,
    "start_time": "2022-12-07T07:59:24.116Z"
   },
   {
    "duration": 329,
    "start_time": "2022-12-07T08:00:50.751Z"
   },
   {
    "duration": 286,
    "start_time": "2022-12-07T08:00:59.887Z"
   },
   {
    "duration": 9,
    "start_time": "2022-12-07T08:01:18.863Z"
   },
   {
    "duration": 11,
    "start_time": "2022-12-07T08:01:25.453Z"
   },
   {
    "duration": 11,
    "start_time": "2022-12-07T08:01:38.248Z"
   },
   {
    "duration": 11,
    "start_time": "2022-12-07T08:02:43.715Z"
   },
   {
    "duration": 58,
    "start_time": "2022-12-07T08:03:34.713Z"
   },
   {
    "duration": 9,
    "start_time": "2022-12-07T08:03:37.426Z"
   },
   {
    "duration": 339,
    "start_time": "2022-12-07T08:03:44.511Z"
   },
   {
    "duration": 339,
    "start_time": "2022-12-07T08:03:51.365Z"
   },
   {
    "duration": 358,
    "start_time": "2022-12-07T08:04:16.411Z"
   },
   {
    "duration": 337,
    "start_time": "2022-12-07T08:04:22.755Z"
   },
   {
    "duration": 104,
    "start_time": "2022-12-07T08:04:30.990Z"
   },
   {
    "duration": 348,
    "start_time": "2022-12-07T08:04:33.494Z"
   },
   {
    "duration": 355,
    "start_time": "2022-12-07T08:20:19.502Z"
   },
   {
    "duration": 111,
    "start_time": "2022-12-07T08:20:23.560Z"
   },
   {
    "duration": 165,
    "start_time": "2022-12-07T08:21:08.365Z"
   },
   {
    "duration": 171,
    "start_time": "2022-12-07T08:21:17.265Z"
   },
   {
    "duration": 4,
    "start_time": "2022-12-07T08:22:02.378Z"
   },
   {
    "duration": 346,
    "start_time": "2022-12-07T08:22:31.360Z"
   },
   {
    "duration": 171,
    "start_time": "2022-12-07T08:22:49.869Z"
   },
   {
    "duration": 355,
    "start_time": "2022-12-07T08:23:31.941Z"
   },
   {
    "duration": 174,
    "start_time": "2022-12-07T08:23:37.191Z"
   },
   {
    "duration": 164,
    "start_time": "2022-12-07T08:23:40.943Z"
   },
   {
    "duration": 159,
    "start_time": "2022-12-07T08:24:41.867Z"
   },
   {
    "duration": 337,
    "start_time": "2022-12-07T08:24:59.791Z"
   },
   {
    "duration": 158,
    "start_time": "2022-12-07T08:25:00.426Z"
   },
   {
    "duration": 162,
    "start_time": "2022-12-07T08:25:01.056Z"
   },
   {
    "duration": 37434,
    "start_time": "2022-12-07T08:27:52.548Z"
   },
   {
    "duration": 368,
    "start_time": "2022-12-07T08:30:46.907Z"
   },
   {
    "duration": 257,
    "start_time": "2022-12-07T08:30:48.133Z"
   },
   {
    "duration": 203,
    "start_time": "2022-12-07T08:30:57.486Z"
   },
   {
    "duration": 43863,
    "start_time": "2022-12-07T08:31:08.096Z"
   },
   {
    "duration": 59,
    "start_time": "2022-12-07T08:45:47.667Z"
   },
   {
    "duration": 343,
    "start_time": "2022-12-07T08:47:14.867Z"
   },
   {
    "duration": 286,
    "start_time": "2022-12-07T08:47:21.306Z"
   },
   {
    "duration": 297,
    "start_time": "2022-12-07T08:47:26.647Z"
   },
   {
    "duration": 1654,
    "start_time": "2022-12-07T08:47:37.549Z"
   },
   {
    "duration": 1704,
    "start_time": "2022-12-07T08:47:44.620Z"
   },
   {
    "duration": 3,
    "start_time": "2022-12-07T08:52:12.778Z"
   },
   {
    "duration": 16,
    "start_time": "2022-12-07T08:54:46.298Z"
   },
   {
    "duration": 4,
    "start_time": "2022-12-07T08:54:57.166Z"
   },
   {
    "duration": 3,
    "start_time": "2022-12-07T08:55:14.192Z"
   },
   {
    "duration": 12339,
    "start_time": "2022-12-07T08:55:14.766Z"
   },
   {
    "duration": 3,
    "start_time": "2022-12-07T08:56:05.789Z"
   },
   {
    "duration": 7,
    "start_time": "2022-12-07T08:56:33.578Z"
   },
   {
    "duration": 1366,
    "start_time": "2022-12-07T09:01:54.857Z"
   },
   {
    "duration": 2954,
    "start_time": "2022-12-07T09:04:56.179Z"
   },
   {
    "duration": 3178,
    "start_time": "2022-12-07T09:05:08.725Z"
   },
   {
    "duration": 2777,
    "start_time": "2022-12-07T09:05:45.069Z"
   },
   {
    "duration": 2575,
    "start_time": "2022-12-07T09:06:05.616Z"
   },
   {
    "duration": 3533,
    "start_time": "2022-12-07T09:06:53.961Z"
   },
   {
    "duration": 26,
    "start_time": "2022-12-07T09:07:33.447Z"
   },
   {
    "duration": 4,
    "start_time": "2022-12-07T09:07:35.232Z"
   },
   {
    "duration": 5,
    "start_time": "2022-12-07T09:07:37.998Z"
   },
   {
    "duration": 25,
    "start_time": "2022-12-07T09:07:43.937Z"
   },
   {
    "duration": 26,
    "start_time": "2022-12-07T09:07:52.297Z"
   },
   {
    "duration": 24,
    "start_time": "2022-12-07T09:07:56.439Z"
   },
   {
    "duration": 35709,
    "start_time": "2022-12-07T09:08:04.726Z"
   },
   {
    "duration": 15574,
    "start_time": "2022-12-07T09:09:37.781Z"
   },
   {
    "duration": 5,
    "start_time": "2022-12-07T09:13:06.703Z"
   },
   {
    "duration": 1509,
    "start_time": "2022-12-07T09:23:01.706Z"
   },
   {
    "duration": 2,
    "start_time": "2022-12-07T09:24:02.345Z"
   },
   {
    "duration": 5,
    "start_time": "2022-12-07T09:24:02.478Z"
   },
   {
    "duration": 859,
    "start_time": "2022-12-07T09:24:02.485Z"
   },
   {
    "duration": 16,
    "start_time": "2022-12-07T09:24:03.346Z"
   },
   {
    "duration": 148,
    "start_time": "2022-12-07T09:24:03.363Z"
   },
   {
    "duration": 1681,
    "start_time": "2022-12-07T09:24:03.513Z"
   },
   {
    "duration": 124,
    "start_time": "2022-12-07T09:24:05.196Z"
   },
   {
    "duration": 68,
    "start_time": "2022-12-07T09:24:05.322Z"
   },
   {
    "duration": 106,
    "start_time": "2022-12-07T09:24:05.391Z"
   },
   {
    "duration": 77,
    "start_time": "2022-12-07T09:24:05.499Z"
   },
   {
    "duration": 67,
    "start_time": "2022-12-07T09:24:05.578Z"
   },
   {
    "duration": 1520,
    "start_time": "2022-12-07T09:24:05.648Z"
   },
   {
    "duration": 130,
    "start_time": "2022-12-07T09:24:07.169Z"
   },
   {
    "duration": 178,
    "start_time": "2022-12-07T09:24:07.301Z"
   },
   {
    "duration": 165,
    "start_time": "2022-12-07T09:24:07.481Z"
   },
   {
    "duration": 199,
    "start_time": "2022-12-07T09:24:07.648Z"
   },
   {
    "duration": 28,
    "start_time": "2022-12-07T09:24:07.849Z"
   },
   {
    "duration": 32,
    "start_time": "2022-12-07T09:24:07.878Z"
   },
   {
    "duration": 2683,
    "start_time": "2022-12-07T09:24:07.912Z"
   },
   {
    "duration": 54,
    "start_time": "2022-12-07T09:24:10.597Z"
   },
   {
    "duration": 405,
    "start_time": "2022-12-07T09:24:10.653Z"
   },
   {
    "duration": 24,
    "start_time": "2022-12-07T09:24:11.060Z"
   },
   {
    "duration": 297,
    "start_time": "2022-12-07T09:24:11.086Z"
   },
   {
    "duration": 8,
    "start_time": "2022-12-07T09:24:11.384Z"
   },
   {
    "duration": 8,
    "start_time": "2022-12-07T09:24:11.393Z"
   },
   {
    "duration": 34,
    "start_time": "2022-12-07T09:24:11.403Z"
   },
   {
    "duration": 21,
    "start_time": "2022-12-07T09:24:11.438Z"
   },
   {
    "duration": 32,
    "start_time": "2022-12-07T09:24:11.461Z"
   },
   {
    "duration": 16,
    "start_time": "2022-12-07T09:24:11.495Z"
   },
   {
    "duration": 4,
    "start_time": "2022-12-07T09:24:11.514Z"
   },
   {
    "duration": 85,
    "start_time": "2022-12-07T09:24:11.520Z"
   },
   {
    "duration": 304,
    "start_time": "2022-12-07T09:24:11.606Z"
   },
   {
    "duration": 4,
    "start_time": "2022-12-07T09:24:11.912Z"
   },
   {
    "duration": 18,
    "start_time": "2022-12-07T09:24:11.918Z"
   },
   {
    "duration": 23,
    "start_time": "2022-12-07T09:24:11.937Z"
   },
   {
    "duration": 115,
    "start_time": "2022-12-07T09:24:11.962Z"
   },
   {
    "duration": 4,
    "start_time": "2022-12-07T09:24:12.079Z"
   },
   {
    "duration": 16,
    "start_time": "2022-12-07T09:24:12.084Z"
   },
   {
    "duration": 11,
    "start_time": "2022-12-07T09:24:12.101Z"
   },
   {
    "duration": 3134,
    "start_time": "2022-12-07T09:24:12.114Z"
   },
   {
    "duration": 549,
    "start_time": "2022-12-07T09:24:22.054Z"
   },
   {
    "duration": 13,
    "start_time": "2022-12-07T09:24:41.622Z"
   },
   {
    "duration": 375,
    "start_time": "2022-12-07T09:25:11.268Z"
   },
   {
    "duration": 511,
    "start_time": "2022-12-07T09:26:27.737Z"
   },
   {
    "duration": 13,
    "start_time": "2022-12-07T09:34:17.971Z"
   },
   {
    "duration": 16,
    "start_time": "2022-12-07T09:34:59.850Z"
   },
   {
    "duration": 894,
    "start_time": "2022-12-07T09:36:07.495Z"
   },
   {
    "duration": 13,
    "start_time": "2022-12-07T09:36:13.074Z"
   },
   {
    "duration": 14,
    "start_time": "2022-12-07T09:36:21.931Z"
   },
   {
    "duration": 208,
    "start_time": "2022-12-07T09:36:56.689Z"
   },
   {
    "duration": 537,
    "start_time": "2022-12-07T09:37:24.020Z"
   },
   {
    "duration": 423,
    "start_time": "2022-12-07T09:37:42.751Z"
   },
   {
    "duration": 3,
    "start_time": "2022-12-07T09:37:58.952Z"
   },
   {
    "duration": 27,
    "start_time": "2022-12-07T09:37:58.957Z"
   },
   {
    "duration": 826,
    "start_time": "2022-12-07T09:37:58.986Z"
   },
   {
    "duration": 21,
    "start_time": "2022-12-07T09:37:59.814Z"
   },
   {
    "duration": 134,
    "start_time": "2022-12-07T09:37:59.837Z"
   },
   {
    "duration": 1489,
    "start_time": "2022-12-07T09:37:59.973Z"
   },
   {
    "duration": 135,
    "start_time": "2022-12-07T09:38:01.464Z"
   },
   {
    "duration": 94,
    "start_time": "2022-12-07T09:38:01.601Z"
   },
   {
    "duration": 90,
    "start_time": "2022-12-07T09:38:01.698Z"
   },
   {
    "duration": 76,
    "start_time": "2022-12-07T09:38:01.790Z"
   },
   {
    "duration": 71,
    "start_time": "2022-12-07T09:38:01.868Z"
   },
   {
    "duration": 1611,
    "start_time": "2022-12-07T09:38:01.942Z"
   },
   {
    "duration": 121,
    "start_time": "2022-12-07T09:38:03.554Z"
   },
   {
    "duration": 165,
    "start_time": "2022-12-07T09:38:03.677Z"
   },
   {
    "duration": 156,
    "start_time": "2022-12-07T09:38:03.843Z"
   },
   {
    "duration": 186,
    "start_time": "2022-12-07T09:38:04.001Z"
   },
   {
    "duration": 26,
    "start_time": "2022-12-07T09:38:04.189Z"
   },
   {
    "duration": 40,
    "start_time": "2022-12-07T09:38:04.217Z"
   },
   {
    "duration": 2837,
    "start_time": "2022-12-07T09:38:04.258Z"
   },
   {
    "duration": 54,
    "start_time": "2022-12-07T09:38:07.097Z"
   },
   {
    "duration": 315,
    "start_time": "2022-12-07T09:38:07.152Z"
   },
   {
    "duration": 24,
    "start_time": "2022-12-07T09:38:07.469Z"
   },
   {
    "duration": 289,
    "start_time": "2022-12-07T09:38:07.494Z"
   },
   {
    "duration": 7,
    "start_time": "2022-12-07T09:38:07.785Z"
   },
   {
    "duration": 10,
    "start_time": "2022-12-07T09:38:07.794Z"
   },
   {
    "duration": 34,
    "start_time": "2022-12-07T09:38:07.806Z"
   },
   {
    "duration": 11,
    "start_time": "2022-12-07T09:38:07.842Z"
   },
   {
    "duration": 80,
    "start_time": "2022-12-07T09:38:07.855Z"
   },
   {
    "duration": 19,
    "start_time": "2022-12-07T09:38:07.937Z"
   },
   {
    "duration": 5,
    "start_time": "2022-12-07T09:38:07.958Z"
   },
   {
    "duration": 111,
    "start_time": "2022-12-07T09:38:07.965Z"
   },
   {
    "duration": 359,
    "start_time": "2022-12-07T09:38:08.078Z"
   },
   {
    "duration": 3,
    "start_time": "2022-12-07T09:38:08.439Z"
   },
   {
    "duration": 11,
    "start_time": "2022-12-07T09:38:08.444Z"
   },
   {
    "duration": 21,
    "start_time": "2022-12-07T09:38:08.457Z"
   },
   {
    "duration": 118,
    "start_time": "2022-12-07T09:38:08.480Z"
   },
   {
    "duration": 4,
    "start_time": "2022-12-07T09:38:08.600Z"
   },
   {
    "duration": 19,
    "start_time": "2022-12-07T09:38:08.606Z"
   },
   {
    "duration": 4,
    "start_time": "2022-12-07T09:38:08.634Z"
   },
   {
    "duration": 3947,
    "start_time": "2022-12-07T09:38:08.639Z"
   },
   {
    "duration": 881,
    "start_time": "2022-12-07T09:38:19.254Z"
   },
   {
    "duration": 30,
    "start_time": "2022-12-07T09:38:54.537Z"
   },
   {
    "duration": 44,
    "start_time": "2022-12-07T09:38:58.014Z"
   },
   {
    "duration": 49679,
    "start_time": "2022-12-07T09:40:20.496Z"
   },
   {
    "duration": 16222,
    "start_time": "2022-12-07T09:47:53.618Z"
   },
   {
    "duration": 2,
    "start_time": "2022-12-07T09:48:15.435Z"
   },
   {
    "duration": 14,
    "start_time": "2022-12-07T09:48:15.439Z"
   },
   {
    "duration": 827,
    "start_time": "2022-12-07T09:48:15.455Z"
   },
   {
    "duration": 13,
    "start_time": "2022-12-07T09:48:16.285Z"
   },
   {
    "duration": 144,
    "start_time": "2022-12-07T09:48:16.300Z"
   },
   {
    "duration": 1522,
    "start_time": "2022-12-07T09:48:16.446Z"
   },
   {
    "duration": 136,
    "start_time": "2022-12-07T09:48:17.969Z"
   },
   {
    "duration": 82,
    "start_time": "2022-12-07T09:48:18.106Z"
   },
   {
    "duration": 101,
    "start_time": "2022-12-07T09:48:18.189Z"
   },
   {
    "duration": 73,
    "start_time": "2022-12-07T09:48:18.292Z"
   },
   {
    "duration": 54,
    "start_time": "2022-12-07T09:48:18.366Z"
   },
   {
    "duration": 1551,
    "start_time": "2022-12-07T09:48:18.421Z"
   },
   {
    "duration": 125,
    "start_time": "2022-12-07T09:48:19.974Z"
   },
   {
    "duration": 166,
    "start_time": "2022-12-07T09:48:20.101Z"
   },
   {
    "duration": 153,
    "start_time": "2022-12-07T09:48:20.269Z"
   },
   {
    "duration": 176,
    "start_time": "2022-12-07T09:48:20.424Z"
   },
   {
    "duration": 38,
    "start_time": "2022-12-07T09:48:20.602Z"
   },
   {
    "duration": 29,
    "start_time": "2022-12-07T09:48:20.642Z"
   },
   {
    "duration": 3168,
    "start_time": "2022-12-07T09:48:20.673Z"
   },
   {
    "duration": 48,
    "start_time": "2022-12-07T09:48:23.843Z"
   },
   {
    "duration": 302,
    "start_time": "2022-12-07T09:48:23.894Z"
   },
   {
    "duration": 24,
    "start_time": "2022-12-07T09:48:24.198Z"
   },
   {
    "duration": 285,
    "start_time": "2022-12-07T09:48:24.223Z"
   },
   {
    "duration": 8,
    "start_time": "2022-12-07T09:48:24.509Z"
   },
   {
    "duration": 27,
    "start_time": "2022-12-07T09:48:24.518Z"
   },
   {
    "duration": 27,
    "start_time": "2022-12-07T09:48:24.546Z"
   },
   {
    "duration": 18,
    "start_time": "2022-12-07T09:48:24.575Z"
   },
   {
    "duration": 22,
    "start_time": "2022-12-07T09:48:24.597Z"
   },
   {
    "duration": 19,
    "start_time": "2022-12-07T09:48:24.621Z"
   },
   {
    "duration": 4,
    "start_time": "2022-12-07T09:48:24.642Z"
   },
   {
    "duration": 90,
    "start_time": "2022-12-07T09:48:24.648Z"
   },
   {
    "duration": 300,
    "start_time": "2022-12-07T09:48:24.740Z"
   },
   {
    "duration": 4,
    "start_time": "2022-12-07T09:48:25.043Z"
   },
   {
    "duration": 15,
    "start_time": "2022-12-07T09:48:25.049Z"
   },
   {
    "duration": 33,
    "start_time": "2022-12-07T09:48:25.066Z"
   },
   {
    "duration": 116,
    "start_time": "2022-12-07T09:48:25.101Z"
   },
   {
    "duration": 4,
    "start_time": "2022-12-07T09:48:25.219Z"
   },
   {
    "duration": 19,
    "start_time": "2022-12-07T09:48:25.224Z"
   },
   {
    "duration": 11,
    "start_time": "2022-12-07T09:48:25.244Z"
   },
   {
    "duration": 3772,
    "start_time": "2022-12-07T09:48:25.256Z"
   },
   {
    "duration": 873,
    "start_time": "2022-12-07T09:48:29.030Z"
   },
   {
    "duration": 41,
    "start_time": "2022-12-07T09:48:29.904Z"
   },
   {
    "duration": 8,
    "start_time": "2022-12-07T09:48:29.947Z"
   },
   {
    "duration": 37480,
    "start_time": "2022-12-07T09:48:29.956Z"
   },
   {
    "duration": 51945,
    "start_time": "2022-12-07T09:49:07.439Z"
   },
   {
    "duration": 15257,
    "start_time": "2022-12-07T09:49:59.386Z"
   },
   {
    "duration": 70,
    "start_time": "2022-12-07T09:50:38.979Z"
   },
   {
    "duration": 19178,
    "start_time": "2022-12-07T09:50:46.063Z"
   },
   {
    "duration": 4248,
    "start_time": "2022-12-07T09:51:05.410Z"
   },
   {
    "duration": 4891,
    "start_time": "2022-12-07T09:51:09.660Z"
   },
   {
    "duration": 47,
    "start_time": "2022-12-07T09:55:00.982Z"
   },
   {
    "duration": 7,
    "start_time": "2022-12-07T09:55:11.388Z"
   },
   {
    "duration": 3,
    "start_time": "2022-12-07T09:55:15.526Z"
   },
   {
    "duration": 1476,
    "start_time": "2022-12-07T09:55:15.531Z"
   },
   {
    "duration": 1140,
    "start_time": "2022-12-07T09:55:17.009Z"
   },
   {
    "duration": 17,
    "start_time": "2022-12-07T09:55:18.151Z"
   },
   {
    "duration": 142,
    "start_time": "2022-12-07T09:55:18.170Z"
   },
   {
    "duration": 1686,
    "start_time": "2022-12-07T09:55:18.313Z"
   },
   {
    "duration": 136,
    "start_time": "2022-12-07T09:55:20.001Z"
   },
   {
    "duration": 59,
    "start_time": "2022-12-07T09:55:20.139Z"
   },
   {
    "duration": 111,
    "start_time": "2022-12-07T09:55:20.200Z"
   },
   {
    "duration": 81,
    "start_time": "2022-12-07T09:55:20.313Z"
   },
   {
    "duration": 67,
    "start_time": "2022-12-07T09:55:20.396Z"
   },
   {
    "duration": 1583,
    "start_time": "2022-12-07T09:55:20.465Z"
   },
   {
    "duration": 122,
    "start_time": "2022-12-07T09:55:22.049Z"
   },
   {
    "duration": 165,
    "start_time": "2022-12-07T09:55:22.173Z"
   },
   {
    "duration": 184,
    "start_time": "2022-12-07T09:55:22.339Z"
   },
   {
    "duration": 238,
    "start_time": "2022-12-07T09:55:22.525Z"
   },
   {
    "duration": 27,
    "start_time": "2022-12-07T09:55:22.764Z"
   },
   {
    "duration": 52,
    "start_time": "2022-12-07T09:55:22.793Z"
   },
   {
    "duration": 2541,
    "start_time": "2022-12-07T09:55:22.846Z"
   },
   {
    "duration": 58,
    "start_time": "2022-12-07T09:55:25.389Z"
   },
   {
    "duration": 429,
    "start_time": "2022-12-07T09:55:25.449Z"
   },
   {
    "duration": 24,
    "start_time": "2022-12-07T09:55:25.880Z"
   },
   {
    "duration": 305,
    "start_time": "2022-12-07T09:55:25.906Z"
   },
   {
    "duration": 8,
    "start_time": "2022-12-07T09:55:26.213Z"
   },
   {
    "duration": 18,
    "start_time": "2022-12-07T09:55:26.222Z"
   },
   {
    "duration": 26,
    "start_time": "2022-12-07T09:55:26.242Z"
   },
   {
    "duration": 13,
    "start_time": "2022-12-07T09:55:26.270Z"
   },
   {
    "duration": 37,
    "start_time": "2022-12-07T09:55:26.287Z"
   },
   {
    "duration": 22,
    "start_time": "2022-12-07T09:55:26.326Z"
   },
   {
    "duration": 4,
    "start_time": "2022-12-07T09:55:26.350Z"
   },
   {
    "duration": 90,
    "start_time": "2022-12-07T09:55:26.356Z"
   },
   {
    "duration": 319,
    "start_time": "2022-12-07T09:55:26.448Z"
   },
   {
    "duration": 4,
    "start_time": "2022-12-07T09:55:26.770Z"
   },
   {
    "duration": 9,
    "start_time": "2022-12-07T09:55:26.775Z"
   },
   {
    "duration": 24,
    "start_time": "2022-12-07T09:55:26.786Z"
   },
   {
    "duration": 142,
    "start_time": "2022-12-07T09:55:26.812Z"
   },
   {
    "duration": 4,
    "start_time": "2022-12-07T09:55:26.956Z"
   },
   {
    "duration": 19,
    "start_time": "2022-12-07T09:55:26.961Z"
   },
   {
    "duration": 8,
    "start_time": "2022-12-07T09:55:26.982Z"
   },
   {
    "duration": 3695,
    "start_time": "2022-12-07T09:55:26.991Z"
   },
   {
    "duration": 873,
    "start_time": "2022-12-07T09:55:30.688Z"
   },
   {
    "duration": 31,
    "start_time": "2022-12-07T09:55:31.563Z"
   },
   {
    "duration": 10,
    "start_time": "2022-12-07T09:55:31.596Z"
   },
   {
    "duration": 36629,
    "start_time": "2022-12-07T09:55:31.607Z"
   },
   {
    "duration": 51464,
    "start_time": "2022-12-07T09:56:08.238Z"
   },
   {
    "duration": 13836,
    "start_time": "2022-12-07T09:56:59.704Z"
   },
   {
    "duration": 19193,
    "start_time": "2022-12-07T09:57:13.542Z"
   },
   {
    "duration": 4570,
    "start_time": "2022-12-07T09:57:32.738Z"
   },
   {
    "duration": 5147,
    "start_time": "2022-12-07T09:57:37.310Z"
   },
   {
    "duration": 9096,
    "start_time": "2022-12-07T09:57:42.462Z"
   },
   {
    "duration": 3,
    "start_time": "2022-12-07T10:01:28.617Z"
   },
   {
    "duration": 9,
    "start_time": "2022-12-07T10:01:28.623Z"
   },
   {
    "duration": 793,
    "start_time": "2022-12-07T10:01:28.634Z"
   },
   {
    "duration": 16,
    "start_time": "2022-12-07T10:01:29.428Z"
   },
   {
    "duration": 138,
    "start_time": "2022-12-07T10:01:29.446Z"
   },
   {
    "duration": 1599,
    "start_time": "2022-12-07T10:01:29.586Z"
   },
   {
    "duration": 129,
    "start_time": "2022-12-07T10:01:31.187Z"
   },
   {
    "duration": 66,
    "start_time": "2022-12-07T10:01:31.318Z"
   },
   {
    "duration": 104,
    "start_time": "2022-12-07T10:01:31.386Z"
   },
   {
    "duration": 70,
    "start_time": "2022-12-07T10:01:31.492Z"
   },
   {
    "duration": 55,
    "start_time": "2022-12-07T10:01:31.564Z"
   },
   {
    "duration": 1637,
    "start_time": "2022-12-07T10:01:31.621Z"
   },
   {
    "duration": 119,
    "start_time": "2022-12-07T10:01:33.262Z"
   },
   {
    "duration": 183,
    "start_time": "2022-12-07T10:01:33.383Z"
   },
   {
    "duration": 154,
    "start_time": "2022-12-07T10:01:33.568Z"
   },
   {
    "duration": 190,
    "start_time": "2022-12-07T10:01:33.724Z"
   },
   {
    "duration": 34,
    "start_time": "2022-12-07T10:01:33.916Z"
   },
   {
    "duration": 30,
    "start_time": "2022-12-07T10:01:33.952Z"
   },
   {
    "duration": 2944,
    "start_time": "2022-12-07T10:01:33.983Z"
   },
   {
    "duration": 54,
    "start_time": "2022-12-07T10:01:36.929Z"
   },
   {
    "duration": 291,
    "start_time": "2022-12-07T10:01:36.985Z"
   },
   {
    "duration": 24,
    "start_time": "2022-12-07T10:01:37.278Z"
   },
   {
    "duration": 415,
    "start_time": "2022-12-07T10:01:37.304Z"
   },
   {
    "duration": 7,
    "start_time": "2022-12-07T10:01:37.720Z"
   },
   {
    "duration": 19,
    "start_time": "2022-12-07T10:01:37.728Z"
   },
   {
    "duration": 23,
    "start_time": "2022-12-07T10:01:37.749Z"
   },
   {
    "duration": 12,
    "start_time": "2022-12-07T10:01:37.773Z"
   },
   {
    "duration": 29,
    "start_time": "2022-12-07T10:01:37.787Z"
   },
   {
    "duration": 24,
    "start_time": "2022-12-07T10:01:37.817Z"
   },
   {
    "duration": 4,
    "start_time": "2022-12-07T10:01:37.843Z"
   },
   {
    "duration": 104,
    "start_time": "2022-12-07T10:01:37.848Z"
   },
   {
    "duration": 337,
    "start_time": "2022-12-07T10:01:37.954Z"
   },
   {
    "duration": 4,
    "start_time": "2022-12-07T10:01:38.293Z"
   },
   {
    "duration": 4,
    "start_time": "2022-12-07T10:01:38.298Z"
   },
   {
    "duration": 31,
    "start_time": "2022-12-07T10:01:38.304Z"
   },
   {
    "duration": 119,
    "start_time": "2022-12-07T10:01:38.337Z"
   },
   {
    "duration": 64,
    "start_time": "2022-12-07T10:01:38.459Z"
   },
   {
    "duration": 36,
    "start_time": "2022-12-07T10:01:38.525Z"
   },
   {
    "duration": 24,
    "start_time": "2022-12-07T10:01:38.563Z"
   },
   {
    "duration": 3531,
    "start_time": "2022-12-07T10:01:38.589Z"
   },
   {
    "duration": 896,
    "start_time": "2022-12-07T10:01:42.122Z"
   },
   {
    "duration": 34,
    "start_time": "2022-12-07T10:01:43.019Z"
   },
   {
    "duration": 7,
    "start_time": "2022-12-07T10:01:43.055Z"
   },
   {
    "duration": 36172,
    "start_time": "2022-12-07T10:01:43.064Z"
   },
   {
    "duration": 49392,
    "start_time": "2022-12-07T10:02:19.238Z"
   },
   {
    "duration": 14212,
    "start_time": "2022-12-07T10:03:08.635Z"
   },
   {
    "duration": 19486,
    "start_time": "2022-12-07T10:03:22.849Z"
   },
   {
    "duration": 4345,
    "start_time": "2022-12-07T10:03:42.338Z"
   },
   {
    "duration": 5057,
    "start_time": "2022-12-07T10:03:46.685Z"
   },
   {
    "duration": 9313,
    "start_time": "2022-12-07T10:03:51.744Z"
   }
  ],
  "kernelspec": {
   "display_name": "Python 3 (ipykernel)",
   "language": "python",
   "name": "python3"
  },
  "language_info": {
   "codemirror_mode": {
    "name": "ipython",
    "version": 3
   },
   "file_extension": ".py",
   "mimetype": "text/x-python",
   "name": "python",
   "nbconvert_exporter": "python",
   "pygments_lexer": "ipython3",
   "version": "3.9.12"
  },
  "toc": {
   "base_numbering": 1,
   "nav_menu": {},
   "number_sections": true,
   "sideBar": true,
   "skip_h1_title": true,
   "title_cell": "Table of Contents",
   "title_sidebar": "Contents",
   "toc_cell": false,
   "toc_position": {},
   "toc_section_display": true,
   "toc_window_display": false
  }
 },
 "nbformat": 4,
 "nbformat_minor": 4
}
