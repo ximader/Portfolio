{
 "cells": [
  {
   "cell_type": "markdown",
   "metadata": {
    "toc": true
   },
   "source": [
    "<h1>Содержание<span class=\"tocSkip\"></span></h1>\n",
    "<div class=\"toc\"><ul class=\"toc-item\"><li><span><a href=\"#Подготовка\" data-toc-modified-id=\"Подготовка-1\"><span class=\"toc-item-num\">1&nbsp;&nbsp;</span>Подготовка</a></span></li><li><span><a href=\"#Анализ\" data-toc-modified-id=\"Анализ-2\"><span class=\"toc-item-num\">2&nbsp;&nbsp;</span>Анализ</a></span></li><li><span><a href=\"#Обучение\" data-toc-modified-id=\"Обучение-3\"><span class=\"toc-item-num\">3&nbsp;&nbsp;</span>Обучение</a></span><ul class=\"toc-item\"><li><span><a href=\"#Обучение-моделей\" data-toc-modified-id=\"Обучение-моделей-3.1\"><span class=\"toc-item-num\">3.1&nbsp;&nbsp;</span>Обучение моделей</a></span></li></ul></li><li><span><a href=\"#Тестирование\" data-toc-modified-id=\"Тестирование-4\"><span class=\"toc-item-num\">4&nbsp;&nbsp;</span>Тестирование</a></span><ul class=\"toc-item\"><li><span><a href=\"#Общий-вывод\" data-toc-modified-id=\"Общий-вывод-4.1\"><span class=\"toc-item-num\">4.1&nbsp;&nbsp;</span>Общий вывод</a></span></li></ul></li></ul></div>"
   ]
  },
  {
   "cell_type": "markdown",
   "metadata": {},
   "source": [
    "#  Прогнозирование заказов такси"
   ]
  },
  {
   "cell_type": "markdown",
   "metadata": {},
   "source": [
    "## Подготовка"
   ]
  },
  {
   "cell_type": "code",
   "execution_count": 1,
   "metadata": {},
   "outputs": [],
   "source": [
    "# импорт библиотек\n",
    "import pandas as pd\n",
    "import matplotlib.pyplot as plt\n",
    "\n",
    "from statsmodels.tsa.seasonal import seasonal_decompose\n",
    "\n",
    "from sklearn.model_selection import train_test_split\n",
    "\n",
    "from sklearn.preprocessing import StandardScaler\n",
    "\n",
    "from sklearn.linear_model import LinearRegression\n",
    "from sklearn.linear_model import Ridge\n",
    "from sklearn.linear_model import LogisticRegression\n",
    "from sklearn.ensemble import RandomForestRegressor\n",
    "ddd\n",
    " \n",
    "from sklearn.model_selection import TimeSeriesSplit, GridSearchCV\n",
    "\n",
    "from sklearn.metrics import mean_squared_error, make_scorer"
   ]
  },
  {
   "cell_type": "code",
   "execution_count": 2,
   "metadata": {},
   "outputs": [],
   "source": [
    "# импорт данных\n",
    "data = pd.read_csv('/datasets/taxi.csv', \n",
    "                   index_col=[0], parse_dates=[0])"
   ]
  },
  {
   "cell_type": "code",
   "execution_count": 3,
   "metadata": {},
   "outputs": [],
   "source": [
    "# сортировка по индексу\n",
    "data.sort_index(inplace=True) "
   ]
  },
  {
   "cell_type": "code",
   "execution_count": 4,
   "metadata": {},
   "outputs": [],
   "source": [
    "# ресемплирование данных по 1 часу\n",
    "data = data.resample('1H').sum()"
   ]
  },
  {
   "cell_type": "code",
   "execution_count": 5,
   "metadata": {},
   "outputs": [
    {
     "data": {
      "text/html": [
       "<div>\n",
       "<style scoped>\n",
       "    .dataframe tbody tr th:only-of-type {\n",
       "        vertical-align: middle;\n",
       "    }\n",
       "\n",
       "    .dataframe tbody tr th {\n",
       "        vertical-align: top;\n",
       "    }\n",
       "\n",
       "    .dataframe thead th {\n",
       "        text-align: right;\n",
       "    }\n",
       "</style>\n",
       "<table border=\"1\" class=\"dataframe\">\n",
       "  <thead>\n",
       "    <tr style=\"text-align: right;\">\n",
       "      <th></th>\n",
       "      <th>num_orders</th>\n",
       "    </tr>\n",
       "    <tr>\n",
       "      <th>datetime</th>\n",
       "      <th></th>\n",
       "    </tr>\n",
       "  </thead>\n",
       "  <tbody>\n",
       "    <tr>\n",
       "      <th>2018-03-01 00:00:00</th>\n",
       "      <td>124</td>\n",
       "    </tr>\n",
       "    <tr>\n",
       "      <th>2018-03-01 01:00:00</th>\n",
       "      <td>85</td>\n",
       "    </tr>\n",
       "    <tr>\n",
       "      <th>2018-03-01 02:00:00</th>\n",
       "      <td>71</td>\n",
       "    </tr>\n",
       "    <tr>\n",
       "      <th>2018-03-01 03:00:00</th>\n",
       "      <td>66</td>\n",
       "    </tr>\n",
       "    <tr>\n",
       "      <th>2018-03-01 04:00:00</th>\n",
       "      <td>43</td>\n",
       "    </tr>\n",
       "  </tbody>\n",
       "</table>\n",
       "</div>"
      ],
      "text/plain": [
       "                     num_orders\n",
       "datetime                       \n",
       "2018-03-01 00:00:00         124\n",
       "2018-03-01 01:00:00          85\n",
       "2018-03-01 02:00:00          71\n",
       "2018-03-01 03:00:00          66\n",
       "2018-03-01 04:00:00          43"
      ]
     },
     "execution_count": 5,
     "metadata": {},
     "output_type": "execute_result"
    }
   ],
   "source": [
    "data.head()"
   ]
  },
  {
   "cell_type": "code",
   "execution_count": 6,
   "metadata": {},
   "outputs": [
    {
     "data": {
      "text/plain": [
       "(4416, 1)"
      ]
     },
     "execution_count": 6,
     "metadata": {},
     "output_type": "execute_result"
    }
   ],
   "source": [
    "data.shape"
   ]
  },
  {
   "cell_type": "markdown",
   "metadata": {},
   "source": [
    "## Анализ"
   ]
  },
  {
   "cell_type": "code",
   "execution_count": 7,
   "metadata": {},
   "outputs": [],
   "source": [
    "# добавим скользящее среднее\n",
    "data['rolling_mean'] = data.rolling(24).mean()"
   ]
  },
  {
   "cell_type": "code",
   "execution_count": 8,
   "metadata": {},
   "outputs": [
    {
     "data": {
      "image/png": "[encoded data removed]",
      "text/plain": [
       "<Figure size 720x360 with 1 Axes>"
      ]
     },
     "metadata": {
      "needs_background": "light"
     },
     "output_type": "display_data"
    }
   ],
   "source": [
    "# отобразим на графике \n",
    "ax = data.plot(figsize=(10,5), title = 'Суточное количество заказов')\n",
    "ax.set_xlabel('Даты')\n",
    "ax.set_ylabel('Заказы')\n",
    "\n",
    "plt.show()"
   ]
  },
  {
   "cell_type": "markdown",
   "metadata": {},
   "source": [
    "По графику скользящего среднего заметно проявление сезонности, а именно перепады количества заказов в зависимости от времени суток. \n",
    "\n",
    "Также заметен тренд на увеличение количества заказов."
   ]
  },
  {
   "cell_type": "code",
   "execution_count": 9,
   "metadata": {},
   "outputs": [],
   "source": [
    "# Разложим временной ряд на тренд и сезонную компоненту.\n",
    "decomposed = seasonal_decompose(data['num_orders'])"
   ]
  },
  {
   "cell_type": "code",
   "execution_count": null,
   "metadata": {},
   "outputs": [
    {
     "data": {
      "image/png": "[encoded data removed]",
      "text/plain": [
       "<Figure size 1440x360 with 1 Axes>"
      ]
     },
     "metadata": {
      "needs_background": "light"
     },
     "output_type": "display_data"
    },
    {
     "data": {
      "image/png": "[encoded data removed]",
      "text/plain": [
       "<Figure size 1440x360 with 1 Axes>"
      ]
     },
     "metadata": {
      "needs_background": "light"
     },
     "output_type": "display_data"
    }
   ],
   "source": [
    "# отобразим на графиках\n",
    "\n",
    "# тренд\n",
    "ax = decomposed.trend.plot(figsize=(20,5))\n",
    "ax.set_xlabel('Даты')\n",
    "ax.set_ylabel('Заказы')\n",
    "plt.show()\n",
    "\n",
    "# сезонность\n",
    "ax = decomposed.seasonal.plot(figsize=(20,5))\n",
    "ax.set_xlabel('Даты')\n",
    "ax.set_ylabel('Заказы')\n",
    "plt.show()\n",
    "\n",
    "# остаток декомпозиции\n",
    "ax = decomposed.resid.plot(figsize=(20,5))\n",
    "ax.set_xlabel('Даты')\n",
    "ax.set_ylabel('Заказы')\n",
    "plt.show()"
   ]
  },
  {
   "cell_type": "code",
   "execution_count": 11,
   "metadata": {},
   "outputs": [
    {
     "data": {
      "image/png": "[encoded data removed]",
      "text/plain": [
       "<Figure size 1440x360 with 1 Axes>"
      ]
     },
     "metadata": {
      "needs_background": "light"
     },
     "output_type": "display_data"
    }
   ],
   "source": [
    "# рассмотри сезонность подробнее, на примере 1 полной недели\n",
    "ax = decomposed.seasonal['2018-04-02':'2018-04-08'].plot(\n",
    "    figsize=(20,5), \n",
    "    title = 'График сезонности за 1 неделю')\n",
    "ax.set_xlabel('Даты')\n",
    "ax.set_ylabel('Заказы')\n",
    "ax.grid(axis='both', which='both')\n",
    "\n",
    "plt.show()"
   ]
  },
  {
   "cell_type": "markdown",
   "metadata": {},
   "source": [
    "На графике сезонности заметна четкая суточная сезонность. Недельная сезонность никак себя не проявляет.\n",
    "\n",
    "В рамках суток наиболее загруженное время - в районе полуночи, наименее загруженное - утренние часы. Поскольку графики заказов привязаны к заказам из аэропортов, можно связать такие суточные перепады с определенным графиком прибытия рейсов. "
   ]
  },
  {
   "cell_type": "markdown",
   "metadata": {},
   "source": [
    "**Промежуточный вывод**\n",
    "\n",
    "- выборка была разделена на составляющие seasonal_decompose()\n",
    "- на всем периоде наблюдений явно видна сезонность в рамках суток\n",
    "- наиболее загруженные часы - ночные, наименее загруженные - утренние\n",
    "- вероятно такое распределение связано с графиком прибытия рейсов\n",
    "- имеет место четкий тренд на возрастание кол-ва заказов/час\n",
    "- тренд также может быть связан с характером данных (аэоропорты) - в летние месяцы туристический поток возрастает, что и увеличивает нагрузку на такси. Чтобы оценить корректость этого предположения, нужно иметь данные как минимум за полный год.\n"
   ]
  },
  {
   "cell_type": "markdown",
   "metadata": {},
   "source": [
    "## Обучение"
   ]
  },
  {
   "cell_type": "markdown",
   "metadata": {},
   "source": [
    "**Подготовка функций**"
   ]
  },
  {
   "cell_type": "code",
   "execution_count": 12,
   "metadata": {},
   "outputs": [],
   "source": [
    "# функция вычисления метрики RMSE\n",
    "\n",
    "def rmse(real, predictions):\n",
    "    return mean_squared_error(real, predictions) ** 0.5"
   ]
  },
  {
   "cell_type": "code",
   "execution_count": 13,
   "metadata": {},
   "outputs": [],
   "source": [
    "# функция генерации дополнительных признаков для обучения модели \n",
    "\n",
    "def make_features(data, max_lag, rolling_mean_size):\n",
    "    # дополнительные признаки даты/времени\n",
    "    data['month'] = data.index.month\n",
    "    data['day'] = data.index.day\n",
    "    data['hour'] = data.index.hour\n",
    "    data['dayofweek'] = data.index.dayofweek\n",
    "    \n",
    "    # данные из прошлого с лагом на требуемое кол-во часов\n",
    "    for lag in range(1, max_lag + 1):\n",
    "        data['lag_{}'.format(lag)] = data['num_orders'].shift(lag)\n",
    "\n",
    "    # перезапишем скользящее среднее. \n",
    "    # делаем смещение shift() чтобы избежать попадания цели в признаки\n",
    "    data['rolling_mean'] = data['num_orders'].shift().rolling(rolling_mean_size).mean()\n"
   ]
  },
  {
   "cell_type": "code",
   "execution_count": 14,
   "metadata": {},
   "outputs": [],
   "source": [
    "# функция отображения результатов обучения моделей\n",
    "def show_metrics(model, real, features_to_predict):\n",
    "    print('-'*50)\n",
    "    print(type(model))\n",
    "    print('RMSE: ', rmse(real, model.predict(features_to_predict)))\n",
    "    print('-'*50)"
   ]
  },
  {
   "cell_type": "markdown",
   "metadata": {},
   "source": [
    "---\n",
    "**Подготовка обучающей и тестовой выборок**"
   ]
  },
  {
   "cell_type": "code",
   "execution_count": 15,
   "metadata": {},
   "outputs": [
    {
     "data": {
      "text/html": [
       "<div>\n",
       "<style scoped>\n",
       "    .dataframe tbody tr th:only-of-type {\n",
       "        vertical-align: middle;\n",
       "    }\n",
       "\n",
       "    .dataframe tbody tr th {\n",
       "        vertical-align: top;\n",
       "    }\n",
       "\n",
       "    .dataframe thead th {\n",
       "        text-align: right;\n",
       "    }\n",
       "</style>\n",
       "<table border=\"1\" class=\"dataframe\">\n",
       "  <thead>\n",
       "    <tr style=\"text-align: right;\">\n",
       "      <th></th>\n",
       "      <th>num_orders</th>\n",
       "      <th>rolling_mean</th>\n",
       "      <th>month</th>\n",
       "      <th>day</th>\n",
       "      <th>hour</th>\n",
       "      <th>dayofweek</th>\n",
       "      <th>lag_1</th>\n",
       "      <th>lag_2</th>\n",
       "      <th>lag_3</th>\n",
       "      <th>lag_4</th>\n",
       "    </tr>\n",
       "    <tr>\n",
       "      <th>datetime</th>\n",
       "      <th></th>\n",
       "      <th></th>\n",
       "      <th></th>\n",
       "      <th></th>\n",
       "      <th></th>\n",
       "      <th></th>\n",
       "      <th></th>\n",
       "      <th></th>\n",
       "      <th></th>\n",
       "      <th></th>\n",
       "    </tr>\n",
       "  </thead>\n",
       "  <tbody>\n",
       "    <tr>\n",
       "      <th>2018-03-01 04:00:00</th>\n",
       "      <td>43</td>\n",
       "      <td>86.50</td>\n",
       "      <td>3</td>\n",
       "      <td>1</td>\n",
       "      <td>4</td>\n",
       "      <td>3</td>\n",
       "      <td>66.0</td>\n",
       "      <td>71.0</td>\n",
       "      <td>85.0</td>\n",
       "      <td>124.0</td>\n",
       "    </tr>\n",
       "    <tr>\n",
       "      <th>2018-03-01 05:00:00</th>\n",
       "      <td>6</td>\n",
       "      <td>66.25</td>\n",
       "      <td>3</td>\n",
       "      <td>1</td>\n",
       "      <td>5</td>\n",
       "      <td>3</td>\n",
       "      <td>43.0</td>\n",
       "      <td>66.0</td>\n",
       "      <td>71.0</td>\n",
       "      <td>85.0</td>\n",
       "    </tr>\n",
       "    <tr>\n",
       "      <th>2018-03-01 06:00:00</th>\n",
       "      <td>12</td>\n",
       "      <td>46.50</td>\n",
       "      <td>3</td>\n",
       "      <td>1</td>\n",
       "      <td>6</td>\n",
       "      <td>3</td>\n",
       "      <td>6.0</td>\n",
       "      <td>43.0</td>\n",
       "      <td>66.0</td>\n",
       "      <td>71.0</td>\n",
       "    </tr>\n",
       "    <tr>\n",
       "      <th>2018-03-01 07:00:00</th>\n",
       "      <td>15</td>\n",
       "      <td>31.75</td>\n",
       "      <td>3</td>\n",
       "      <td>1</td>\n",
       "      <td>7</td>\n",
       "      <td>3</td>\n",
       "      <td>12.0</td>\n",
       "      <td>6.0</td>\n",
       "      <td>43.0</td>\n",
       "      <td>66.0</td>\n",
       "    </tr>\n",
       "    <tr>\n",
       "      <th>2018-03-01 08:00:00</th>\n",
       "      <td>34</td>\n",
       "      <td>19.00</td>\n",
       "      <td>3</td>\n",
       "      <td>1</td>\n",
       "      <td>8</td>\n",
       "      <td>3</td>\n",
       "      <td>15.0</td>\n",
       "      <td>12.0</td>\n",
       "      <td>6.0</td>\n",
       "      <td>43.0</td>\n",
       "    </tr>\n",
       "  </tbody>\n",
       "</table>\n",
       "</div>"
      ],
      "text/plain": [
       "                     num_orders  rolling_mean  month  day  hour  dayofweek  \\\n",
       "datetime                                                                     \n",
       "2018-03-01 04:00:00          43         86.50      3    1     4          3   \n",
       "2018-03-01 05:00:00           6         66.25      3    1     5          3   \n",
       "2018-03-01 06:00:00          12         46.50      3    1     6          3   \n",
       "2018-03-01 07:00:00          15         31.75      3    1     7          3   \n",
       "2018-03-01 08:00:00          34         19.00      3    1     8          3   \n",
       "\n",
       "                     lag_1  lag_2  lag_3  lag_4  \n",
       "datetime                                         \n",
       "2018-03-01 04:00:00   66.0   71.0   85.0  124.0  \n",
       "2018-03-01 05:00:00   43.0   66.0   71.0   85.0  \n",
       "2018-03-01 06:00:00    6.0   43.0   66.0   71.0  \n",
       "2018-03-01 07:00:00   12.0    6.0   43.0   66.0  \n",
       "2018-03-01 08:00:00   15.0   12.0    6.0   43.0  "
      ]
     },
     "execution_count": 15,
     "metadata": {},
     "output_type": "execute_result"
    }
   ],
   "source": [
    "# создадим признаки\n",
    "make_features(data, 4, 4)\n",
    "\n",
    "# удалим пропуски\n",
    "data = data.dropna()\n",
    "\n",
    "data.head()"
   ]
  },
  {
   "cell_type": "code",
   "execution_count": 16,
   "metadata": {},
   "outputs": [],
   "source": [
    "# разделим целевые значения и признаки\n",
    "target = data['num_orders']\n",
    "features = data.drop('num_orders', axis=1)"
   ]
  },
  {
   "cell_type": "code",
   "execution_count": 17,
   "metadata": {},
   "outputs": [
    {
     "name": "stdout",
     "output_type": "stream",
     "text": [
      "features_train.shape (3970, 9)\n",
      "features_test.shape (442, 9)\n"
     ]
    }
   ],
   "source": [
    "# подготовим обучающую и тестовую выборки\n",
    "# в пропорции 90%/10%\n",
    "\n",
    "features_train, features_test, target_train, target_test = (\n",
    "    train_test_split(features, target, shuffle=False, test_size=0.1))\n",
    "print('features_train.shape', features_train.shape)\n",
    "print('features_test.shape', features_test.shape)"
   ]
  },
  {
   "cell_type": "markdown",
   "metadata": {},
   "source": [
    "---\n",
    "**Нормализация данных**"
   ]
  },
  {
   "cell_type": "code",
   "execution_count": 18,
   "metadata": {},
   "outputs": [
    {
     "data": {
      "text/html": [
       "<div>\n",
       "<style scoped>\n",
       "    .dataframe tbody tr th:only-of-type {\n",
       "        vertical-align: middle;\n",
       "    }\n",
       "\n",
       "    .dataframe tbody tr th {\n",
       "        vertical-align: top;\n",
       "    }\n",
       "\n",
       "    .dataframe thead th {\n",
       "        text-align: right;\n",
       "    }\n",
       "</style>\n",
       "<table border=\"1\" class=\"dataframe\">\n",
       "  <thead>\n",
       "    <tr style=\"text-align: right;\">\n",
       "      <th></th>\n",
       "      <th>0</th>\n",
       "      <th>1</th>\n",
       "      <th>2</th>\n",
       "      <th>3</th>\n",
       "      <th>4</th>\n",
       "      <th>5</th>\n",
       "      <th>6</th>\n",
       "      <th>7</th>\n",
       "      <th>8</th>\n",
       "    </tr>\n",
       "  </thead>\n",
       "  <tbody>\n",
       "    <tr>\n",
       "      <th>0</th>\n",
       "      <td>0.277957</td>\n",
       "      <td>-1.413472</td>\n",
       "      <td>-1.593142</td>\n",
       "      <td>-1.083255</td>\n",
       "      <td>-0.012832</td>\n",
       "      <td>-0.317243</td>\n",
       "      <td>-0.187822</td>\n",
       "      <td>0.174631</td>\n",
       "      <td>1.184041</td>\n",
       "    </tr>\n",
       "    <tr>\n",
       "      <th>1</th>\n",
       "      <td>-0.404765</td>\n",
       "      <td>-1.413472</td>\n",
       "      <td>-1.593142</td>\n",
       "      <td>-0.938675</td>\n",
       "      <td>-0.012832</td>\n",
       "      <td>-0.911959</td>\n",
       "      <td>-0.317110</td>\n",
       "      <td>-0.187505</td>\n",
       "      <td>0.174897</td>\n",
       "    </tr>\n",
       "    <tr>\n",
       "      <th>2</th>\n",
       "      <td>-1.070630</td>\n",
       "      <td>-1.413472</td>\n",
       "      <td>-1.593142</td>\n",
       "      <td>-0.794096</td>\n",
       "      <td>-0.012832</td>\n",
       "      <td>-1.868677</td>\n",
       "      <td>-0.911833</td>\n",
       "      <td>-0.316840</td>\n",
       "      <td>-0.187359</td>\n",
       "    </tr>\n",
       "    <tr>\n",
       "      <th>3</th>\n",
       "      <td>-1.567922</td>\n",
       "      <td>-1.413472</td>\n",
       "      <td>-1.593142</td>\n",
       "      <td>-0.649516</td>\n",
       "      <td>-0.012832</td>\n",
       "      <td>-1.713534</td>\n",
       "      <td>-1.868562</td>\n",
       "      <td>-0.911777</td>\n",
       "      <td>-0.316737</td>\n",
       "    </tr>\n",
       "    <tr>\n",
       "      <th>4</th>\n",
       "      <td>-1.997785</td>\n",
       "      <td>-1.413472</td>\n",
       "      <td>-1.593142</td>\n",
       "      <td>-0.504936</td>\n",
       "      <td>-0.012832</td>\n",
       "      <td>-1.635962</td>\n",
       "      <td>-1.713416</td>\n",
       "      <td>-1.868850</td>\n",
       "      <td>-0.911872</td>\n",
       "    </tr>\n",
       "  </tbody>\n",
       "</table>\n",
       "</div>"
      ],
      "text/plain": [
       "          0         1         2         3         4         5         6  \\\n",
       "0  0.277957 -1.413472 -1.593142 -1.083255 -0.012832 -0.317243 -0.187822   \n",
       "1 -0.404765 -1.413472 -1.593142 -0.938675 -0.012832 -0.911959 -0.317110   \n",
       "2 -1.070630 -1.413472 -1.593142 -0.794096 -0.012832 -1.868677 -0.911833   \n",
       "3 -1.567922 -1.413472 -1.593142 -0.649516 -0.012832 -1.713534 -1.868562   \n",
       "4 -1.997785 -1.413472 -1.593142 -0.504936 -0.012832 -1.635962 -1.713416   \n",
       "\n",
       "          7         8  \n",
       "0  0.174631  1.184041  \n",
       "1 -0.187505  0.174897  \n",
       "2 -0.316840 -0.187359  \n",
       "3 -0.911777 -0.316737  \n",
       "4 -1.868850 -0.911872  "
      ]
     },
     "metadata": {},
     "output_type": "display_data"
    },
    {
     "data": {
      "text/html": [
       "<div>\n",
       "<style scoped>\n",
       "    .dataframe tbody tr th:only-of-type {\n",
       "        vertical-align: middle;\n",
       "    }\n",
       "\n",
       "    .dataframe tbody tr th {\n",
       "        vertical-align: top;\n",
       "    }\n",
       "\n",
       "    .dataframe thead th {\n",
       "        text-align: right;\n",
       "    }\n",
       "</style>\n",
       "<table border=\"1\" class=\"dataframe\">\n",
       "  <thead>\n",
       "    <tr style=\"text-align: right;\">\n",
       "      <th></th>\n",
       "      <th>0</th>\n",
       "      <th>1</th>\n",
       "      <th>2</th>\n",
       "      <th>3</th>\n",
       "      <th>4</th>\n",
       "      <th>5</th>\n",
       "      <th>6</th>\n",
       "      <th>7</th>\n",
       "      <th>8</th>\n",
       "    </tr>\n",
       "  </thead>\n",
       "  <tbody>\n",
       "    <tr>\n",
       "      <th>0</th>\n",
       "      <td>1.668688</td>\n",
       "      <td>1.755426</td>\n",
       "      <td>-0.240539</td>\n",
       "      <td>0.362542</td>\n",
       "      <td>-1.511164</td>\n",
       "      <td>1.053191</td>\n",
       "      <td>0.355186</td>\n",
       "      <td>1.700775</td>\n",
       "      <td>2.012055</td>\n",
       "    </tr>\n",
       "    <tr>\n",
       "      <th>1</th>\n",
       "      <td>1.213540</td>\n",
       "      <td>1.755426</td>\n",
       "      <td>-0.240539</td>\n",
       "      <td>0.507121</td>\n",
       "      <td>-1.511164</td>\n",
       "      <td>0.613618</td>\n",
       "      <td>1.053339</td>\n",
       "      <td>0.355698</td>\n",
       "      <td>1.701550</td>\n",
       "    </tr>\n",
       "    <tr>\n",
       "      <th>2</th>\n",
       "      <td>1.474829</td>\n",
       "      <td>1.755426</td>\n",
       "      <td>-0.240539</td>\n",
       "      <td>0.651701</td>\n",
       "      <td>-1.511164</td>\n",
       "      <td>2.501196</td>\n",
       "      <td>0.613761</td>\n",
       "      <td>1.054103</td>\n",
       "      <td>0.356026</td>\n",
       "    </tr>\n",
       "    <tr>\n",
       "      <th>3</th>\n",
       "      <td>1.913120</td>\n",
       "      <td>1.755426</td>\n",
       "      <td>-0.240539</td>\n",
       "      <td>0.796281</td>\n",
       "      <td>-1.511164</td>\n",
       "      <td>1.699621</td>\n",
       "      <td>2.501361</td>\n",
       "      <td>0.614367</td>\n",
       "      <td>1.054663</td>\n",
       "    </tr>\n",
       "    <tr>\n",
       "      <th>4</th>\n",
       "      <td>2.191266</td>\n",
       "      <td>1.755426</td>\n",
       "      <td>-0.240539</td>\n",
       "      <td>0.940861</td>\n",
       "      <td>-1.511164</td>\n",
       "      <td>1.906479</td>\n",
       "      <td>1.699778</td>\n",
       "      <td>2.502647</td>\n",
       "      <td>0.614780</td>\n",
       "    </tr>\n",
       "  </tbody>\n",
       "</table>\n",
       "</div>"
      ],
      "text/plain": [
       "          0         1         2         3         4         5         6  \\\n",
       "0  1.668688  1.755426 -0.240539  0.362542 -1.511164  1.053191  0.355186   \n",
       "1  1.213540  1.755426 -0.240539  0.507121 -1.511164  0.613618  1.053339   \n",
       "2  1.474829  1.755426 -0.240539  0.651701 -1.511164  2.501196  0.613761   \n",
       "3  1.913120  1.755426 -0.240539  0.796281 -1.511164  1.699621  2.501361   \n",
       "4  2.191266  1.755426 -0.240539  0.940861 -1.511164  1.906479  1.699778   \n",
       "\n",
       "          7         8  \n",
       "0  1.700775  2.012055  \n",
       "1  0.355698  1.701550  \n",
       "2  1.054103  0.356026  \n",
       "3  0.614367  1.054663  \n",
       "4  2.502647  0.614780  "
      ]
     },
     "metadata": {},
     "output_type": "display_data"
    }
   ],
   "source": [
    "# скалируем признаки\n",
    "scaler = StandardScaler()\n",
    "\n",
    "features_train_scaled = pd.DataFrame(\n",
    "    scaler.fit_transform(features_train))\n",
    "\n",
    "features_test_scaled = pd.DataFrame(\n",
    "    scaler.transform(features_test))\n",
    "\n",
    "display(features_train_scaled.head())\n",
    "display(features_test_scaled.head())"
   ]
  },
  {
   "cell_type": "markdown",
   "metadata": {},
   "source": [
    "### Обучение моделей"
   ]
  },
  {
   "cell_type": "code",
   "execution_count": 19,
   "metadata": {},
   "outputs": [],
   "source": [
    "# список для сохранения моделей\n",
    "models = []"
   ]
  },
  {
   "cell_type": "markdown",
   "metadata": {},
   "source": [
    "---\n",
    "**Обучение модели LinearRegression**"
   ]
  },
  {
   "cell_type": "code",
   "execution_count": 20,
   "metadata": {},
   "outputs": [
    {
     "name": "stdout",
     "output_type": "stream",
     "text": [
      "5.09 ms ± 0 ns per loop (mean ± std. dev. of 1 run, 100 loops each)\n"
     ]
    }
   ],
   "source": [
    "model_linreg = LinearRegression()\n",
    "%timeit -r 1 model_linreg.fit(features_train_scaled, target_train)\n",
    "\n",
    "models.append(model_linreg)"
   ]
  },
  {
   "cell_type": "markdown",
   "metadata": {},
   "source": [
    "---\n",
    "**Обучение модели Ridge**"
   ]
  },
  {
   "cell_type": "code",
   "execution_count": 21,
   "metadata": {},
   "outputs": [
    {
     "name": "stdout",
     "output_type": "stream",
     "text": [
      "5.98 ms ± 0 ns per loop (mean ± std. dev. of 1 run, 100 loops each)\n"
     ]
    }
   ],
   "source": [
    "model_ridge = Ridge()\n",
    "%timeit -r 1 model_ridge.fit(features_train_scaled, target_train)\n",
    "\n",
    "models.append(model_ridge)"
   ]
  },
  {
   "cell_type": "markdown",
   "metadata": {},
   "source": [
    "---\n",
    "**Обучение модели LogisticRegression**"
   ]
  },
  {
   "cell_type": "code",
   "execution_count": 22,
   "metadata": {},
   "outputs": [
    {
     "name": "stdout",
     "output_type": "stream",
     "text": [
      "992 ms ± 0 ns per loop (mean ± std. dev. of 1 run, 1 loop each)\n"
     ]
    }
   ],
   "source": [
    "model_logreg = LogisticRegression(max_iter = 500, solver='liblinear')\n",
    "%timeit -r 1 model_logreg.fit(features_train_scaled, target_train)\n",
    "\n",
    "models.append(model_logreg)"
   ]
  },
  {
   "cell_type": "markdown",
   "metadata": {},
   "source": [
    "---\n",
    "**Обучение модели RandomForest**"
   ]
  },
  {
   "cell_type": "code",
   "execution_count": 23,
   "metadata": {},
   "outputs": [
    {
     "name": "stdout",
     "output_type": "stream",
     "text": [
      "{'max_depth': 10, 'n_estimators': 400}\n",
      "CPU times: user 15.2 s, sys: 91.1 ms, total: 15.3 s\n",
      "Wall time: 15.5 s\n"
     ]
    }
   ],
   "source": [
    "%%time\n",
    "\n",
    "# используем кросс-валидацию для временных рядов\n",
    "# выборку делим на 5 сегментов, сегмент при этом будет примерно \n",
    "# соответствовать 1 календарному месяцу\n",
    "\n",
    "tscv = TimeSeriesSplit(n_splits=5) \n",
    "\n",
    "# задаем модель и параметры перебора. \n",
    "# дляускорения оставлены предварительно найденные\n",
    "# наилучшие гиперпараметры\n",
    "model_ranfor = RandomForestRegressor(random_state=0)\n",
    "params = {'n_estimators': [400], # [50,100,200,400]\n",
    "             'max_depth': [10] } # [2,5,10]\n",
    "\n",
    "# запускаем GridSearchCV\n",
    "grid_search = GridSearchCV(model_ranfor, params, cv=tscv,\n",
    "                           scoring = make_scorer(rmse, greater_is_better=False))\n",
    "grid_search.fit(features_train_scaled, target_train)\n",
    "best_params = grid_search.best_params_\n",
    "print(best_params)\n",
    "model_ranfor = grid_search.best_estimator_\n",
    "\n",
    "models.append(model_ranfor)"
   ]
  },
  {
   "cell_type": "markdown",
   "metadata": {},
   "source": [
    "---\n",
    "**Модель LightBGM**"
   ]
  },
  {
   "cell_type": "code",
   "execution_count": 24,
   "metadata": {},
   "outputs": [
    {
     "name": "stdout",
     "output_type": "stream",
     "text": [
      "{'learning_rate': 0.1, 'max_depth': 6}\n",
      "CPU times: user 3.03 s, sys: 22.3 ms, total: 3.06 s\n",
      "Wall time: 3.04 s\n"
     ]
    }
   ],
   "source": [
    "%%time\n",
    "\n",
    "# используем кросс-валидацию для временных рядов\n",
    "# выборку делим на 5 сегментов, сегмент при этом будет примерно \n",
    "# соответствовать 1 календарному месяцу\n",
    "\n",
    "tscv = TimeSeriesSplit(n_splits=5) \n",
    "\n",
    "# перебор параметров в GridSearch\n",
    "# оставлен наилуший вариант из предварительно проверенных комбинаций\n",
    "params = {'learning_rate': [0.1], # [0.01, 0.1, 1]\n",
    "             'max_depth': [6] } # [3,6,12]\n",
    "\n",
    "\n",
    "# запускаем GridSearchCV\n",
    "model_lgbm = lgb.LGBMRegressor(random_state=0)\n",
    "grid_search = GridSearchCV(model_lgbm, params, cv=tscv, \n",
    "                           scoring = make_scorer(rmse, greater_is_better=False))\n",
    "grid_search.fit(features_train_scaled, target_train)\n",
    "best_params = grid_search.best_params_\n",
    "print(best_params)\n",
    "model_lgbm = grid_search.best_estimator_\n",
    "\n",
    "models.append(model_lgbm)"
   ]
  },
  {
   "cell_type": "code",
   "execution_count": 25,
   "metadata": {},
   "outputs": [
    {
     "name": "stdout",
     "output_type": "stream",
     "text": [
      "Метрики моделей на обучающей выборке:\n",
      "--------------------------------------------------\n",
      "<class 'sklearn.linear_model._base.LinearRegression'>\n",
      "RMSE:  30.500374252442192\n",
      "--------------------------------------------------\n",
      "--------------------------------------------------\n",
      "<class 'sklearn.linear_model._ridge.Ridge'>\n",
      "RMSE:  30.500374752353927\n",
      "--------------------------------------------------\n",
      "--------------------------------------------------\n",
      "<class 'sklearn.linear_model._logistic.LogisticRegression'>\n",
      "RMSE:  35.54597902274094\n",
      "--------------------------------------------------\n",
      "--------------------------------------------------\n",
      "<class 'sklearn.ensemble._forest.RandomForestRegressor'>\n",
      "RMSE:  15.197021738777057\n",
      "--------------------------------------------------\n",
      "--------------------------------------------------\n",
      "<class 'lightgbm.sklearn.LGBMRegressor'>\n",
      "RMSE:  16.319066811042255\n",
      "--------------------------------------------------\n"
     ]
    }
   ],
   "source": [
    "print('Метрики моделей на обучающей выборке:')\n",
    "for model in models:\n",
    "    show_metrics(\n",
    "        model, \n",
    "        target_train, \n",
    "        features_train_scaled)"
   ]
  },
  {
   "cell_type": "markdown",
   "metadata": {},
   "source": [
    "___\n",
    "**Промежуточные выводы**\n",
    "\n",
    "- заранее было подготовлено 3 функции - метрика RMSE, генерация доп. признаков make_feature, show_metrics для единообразного отображения метрик по разным моделям\n",
    "- исходная выборка была дополнена необходимыми признаками\n",
    "- исходная выборка была разделена на обучающую и тестовую в пропорции 90/10\n",
    "- было обучено 5 моделей \n",
    "    - LinearRegression\n",
    "    - Ridge\n",
    "    - LogisticRegression\n",
    "    - RandomForestRegressor\n",
    "    - LGBMRegressor\n",
    "- на обучающей выборке наилучшие результаты показали модели ансамблей - RandomForestRegressor и LGBMRegressor. \n",
    "- Линейные модели показали себя хуже, ориентируясь на метрику RMSE"
   ]
  },
  {
   "cell_type": "markdown",
   "metadata": {},
   "source": [
    "## Тестирование"
   ]
  },
  {
   "cell_type": "code",
   "execution_count": 26,
   "metadata": {},
   "outputs": [
    {
     "name": "stdout",
     "output_type": "stream",
     "text": [
      "Метрики моделей на тестовой выборке:\n",
      "--------------------------------------------------\n",
      "<class 'sklearn.linear_model._base.LinearRegression'>\n",
      "RMSE:  52.57450685373692\n",
      "--------------------------------------------------\n",
      "--------------------------------------------------\n",
      "<class 'sklearn.linear_model._ridge.Ridge'>\n",
      "RMSE:  52.57695367876187\n",
      "--------------------------------------------------\n",
      "--------------------------------------------------\n",
      "<class 'sklearn.linear_model._logistic.LogisticRegression'>\n",
      "RMSE:  62.70427251675282\n",
      "--------------------------------------------------\n",
      "--------------------------------------------------\n",
      "<class 'sklearn.ensemble._forest.RandomForestRegressor'>\n",
      "RMSE:  48.81029956893567\n",
      "--------------------------------------------------\n",
      "--------------------------------------------------\n",
      "<class 'lightgbm.sklearn.LGBMRegressor'>\n",
      "RMSE:  45.59885535168096\n",
      "--------------------------------------------------\n"
     ]
    }
   ],
   "source": [
    "print('Метрики моделей на тестовой выборке:')\n",
    "for model in models:\n",
    "    show_metrics(\n",
    "        model, \n",
    "        target_test, \n",
    "        features_test_scaled)"
   ]
  },
  {
   "cell_type": "markdown",
   "metadata": {},
   "source": [
    "На тестовой выборке наилучший результат показала модель LGBMRegressor c RMSE = 45,6. Это соответствует критериям задания."
   ]
  },
  {
   "cell_type": "code",
   "execution_count": 28,
   "metadata": {},
   "outputs": [
    {
     "data": {
      "image/png": "[encoded data removed]",
      "text/plain": [
       "<Figure size 1440x360 with 1 Axes>"
      ]
     },
     "metadata": {
      "needs_background": "light"
     },
     "output_type": "display_data"
    }
   ],
   "source": [
    "# отобразим на графике реальные целевые значения теста\n",
    "# и прогнозные значения лучшей модели\n",
    "predictions = models[4].predict(features_test_scaled)\n",
    "target_test.plot()\n",
    "ax = pd.Series(\n",
    "    predictions, index = target_test.index).plot(\n",
    "    figsize=(20,5), \n",
    "    title='Сравнение фактических(синий) и прогнозных(оранжевый) результатов')\n",
    "\n",
    "ax.set_xlabel('Даты')\n",
    "ax.set_ylabel('Заказы')\n",
    "\n",
    "plt.show() "
   ]
  },
  {
   "cell_type": "markdown",
   "metadata": {},
   "source": [
    "### Общий вывод\n",
    "\n",
    "**Подготовка данных**\n",
    "\n",
    "- выборка была разделена на составляющие seasonal_decompose()\n",
    "- на всем периоде наблюдений явно видна сезонность в рамках суток\n",
    "- наиболее загруженные часы - ночные, наименее загруженные - утренние\n",
    "- вероятно такое распределение связано с графиком прибытия рейсов\n",
    "- имеет место четкий тренд на возрастание кол-ва заказов/час\n",
    "- тренд также может быть связан с характером данных (аэоропорты) - в летние месяцы туристический поток возрастает, что и увеличивает нагрузку на такси. Чтобы оценить корректость этого предположения, нужно иметь данные как минимум за полный год.\n",
    "\n",
    "\n",
    "**Обучение моделей**\n",
    "\n",
    "- заранее было подготовлено 3 функции - метрика RMSE, генерация доп. признаков make_feature, show_metrics для единообразного отображения метрик по разным моделям\n",
    "- исходная выборка была дополнена необходимыми признаками\n",
    "- исходная выборка была разделена на обучающую и тестовую в пропорции 90/10\n",
    "- было обучено 5 моделей \n",
    "    - LinearRegression\n",
    "    - Ridge\n",
    "    - LogisticRegression\n",
    "    - RandomForestRegressor\n",
    "    - LGBMRegressor\n",
    "- на обучающей выборке наилучшие результаты показали модели ансамблей - RandomForestRegressor и LGBMRegressor. \n",
    "- Линейные модели показали себя хуже, ориентируясь на метрику RMSE\n",
    "\n",
    "**Тестирование моделей**\n",
    "\n",
    "- все обученные модели были проверены на тестовой выборке\n",
    "- закономерно, что результаты RMSE оказались несколько ниже результатов на обучающей выборке\n",
    "- **модель LightBGM показала наилучший результат 45.6 , соответствующий требованиям задания быть <= 48.0**"
   ]
  }
 ],
 "metadata": {
  "ExecuteTimeLog": [
   {
    "duration": 3,
    "start_time": "2022-12-08T06:33:29.708Z"
   },
   {
    "duration": 50,
    "start_time": "2022-12-08T06:34:25.156Z"
   },
   {
    "duration": 413,
    "start_time": "2022-12-08T06:34:29.488Z"
   },
   {
    "duration": 96,
    "start_time": "2022-12-08T06:34:30.218Z"
   },
   {
    "duration": 51,
    "start_time": "2022-12-08T06:34:36.719Z"
   },
   {
    "duration": 48,
    "start_time": "2022-12-08T06:35:08.675Z"
   },
   {
    "duration": 3,
    "start_time": "2022-12-08T06:37:09.554Z"
   },
   {
    "duration": 8,
    "start_time": "2022-12-08T06:37:10.239Z"
   },
   {
    "duration": 7,
    "start_time": "2022-12-08T06:37:25.388Z"
   },
   {
    "duration": 2,
    "start_time": "2022-12-08T06:37:42.960Z"
   },
   {
    "duration": 49,
    "start_time": "2022-12-08T06:37:42.964Z"
   },
   {
    "duration": 3,
    "start_time": "2022-12-08T06:37:43.015Z"
   },
   {
    "duration": 10,
    "start_time": "2022-12-08T06:37:43.019Z"
   },
   {
    "duration": 7,
    "start_time": "2022-12-08T06:37:43.032Z"
   },
   {
    "duration": 568,
    "start_time": "2022-12-08T06:38:57.079Z"
   },
   {
    "duration": 209,
    "start_time": "2022-12-08T06:40:09.661Z"
   },
   {
    "duration": 5,
    "start_time": "2022-12-08T06:41:37.568Z"
   },
   {
    "duration": 318,
    "start_time": "2022-12-08T06:41:38.319Z"
   },
   {
    "duration": 5,
    "start_time": "2022-12-08T06:41:48.233Z"
   },
   {
    "duration": 251,
    "start_time": "2022-12-08T06:41:50.171Z"
   },
   {
    "duration": 470,
    "start_time": "2022-12-08T06:45:43.859Z"
   },
   {
    "duration": 7,
    "start_time": "2022-12-08T06:46:22.994Z"
   },
   {
    "duration": 9,
    "start_time": "2022-12-08T06:46:45.449Z"
   },
   {
    "duration": 292,
    "start_time": "2022-12-08T06:47:01.295Z"
   },
   {
    "duration": 226,
    "start_time": "2022-12-08T06:47:22.404Z"
   },
   {
    "duration": 284,
    "start_time": "2022-12-08T06:47:53.664Z"
   },
   {
    "duration": 290,
    "start_time": "2022-12-08T06:48:18.953Z"
   },
   {
    "duration": 292,
    "start_time": "2022-12-08T06:48:27.178Z"
   },
   {
    "duration": 566,
    "start_time": "2022-12-08T06:48:30.790Z"
   },
   {
    "duration": 217,
    "start_time": "2022-12-08T06:48:42.333Z"
   },
   {
    "duration": 293,
    "start_time": "2022-12-08T06:48:46.041Z"
   },
   {
    "duration": 213,
    "start_time": "2022-12-08T06:48:55.193Z"
   },
   {
    "duration": 297,
    "start_time": "2022-12-08T06:48:56.159Z"
   },
   {
    "duration": 285,
    "start_time": "2022-12-08T06:49:15.983Z"
   },
   {
    "duration": 218,
    "start_time": "2022-12-08T06:51:11.122Z"
   },
   {
    "duration": 295,
    "start_time": "2022-12-08T06:51:25.978Z"
   },
   {
    "duration": 258,
    "start_time": "2022-12-08T06:51:44.968Z"
   },
   {
    "duration": 241,
    "start_time": "2022-12-08T06:51:54.305Z"
   },
   {
    "duration": 321,
    "start_time": "2022-12-08T06:52:00.095Z"
   },
   {
    "duration": 1065,
    "start_time": "2022-12-08T07:03:39.028Z"
   },
   {
    "duration": 57,
    "start_time": "2022-12-08T07:03:40.096Z"
   },
   {
    "duration": 3,
    "start_time": "2022-12-08T07:03:40.154Z"
   },
   {
    "duration": 18,
    "start_time": "2022-12-08T07:03:40.159Z"
   },
   {
    "duration": 11,
    "start_time": "2022-12-08T07:03:40.178Z"
   },
   {
    "duration": 7,
    "start_time": "2022-12-08T07:03:40.190Z"
   },
   {
    "duration": 306,
    "start_time": "2022-12-08T07:03:40.198Z"
   },
   {
    "duration": 7,
    "start_time": "2022-12-08T07:03:40.506Z"
   },
   {
    "duration": 762,
    "start_time": "2022-12-08T07:03:40.515Z"
   },
   {
    "duration": 1213,
    "start_time": "2022-12-08T13:50:04.334Z"
   },
   {
    "duration": 179,
    "start_time": "2022-12-08T13:50:05.549Z"
   },
   {
    "duration": 3,
    "start_time": "2022-12-08T13:50:05.730Z"
   },
   {
    "duration": 19,
    "start_time": "2022-12-08T13:50:05.735Z"
   },
   {
    "duration": 10,
    "start_time": "2022-12-08T13:50:05.755Z"
   },
   {
    "duration": 5,
    "start_time": "2022-12-08T13:50:05.767Z"
   },
   {
    "duration": 255,
    "start_time": "2022-12-08T13:50:05.773Z"
   },
   {
    "duration": 6,
    "start_time": "2022-12-08T13:50:06.030Z"
   },
   {
    "duration": 731,
    "start_time": "2022-12-08T13:50:06.038Z"
   },
   {
    "duration": 6,
    "start_time": "2022-12-08T13:50:06.772Z"
   },
   {
    "duration": 10,
    "start_time": "2022-12-08T13:50:06.780Z"
   },
   {
    "duration": 365,
    "start_time": "2022-12-08T14:18:26.773Z"
   },
   {
    "duration": 2,
    "start_time": "2022-12-08T14:20:10.579Z"
   },
   {
    "duration": 4,
    "start_time": "2022-12-08T14:20:13.033Z"
   },
   {
    "duration": 16,
    "start_time": "2022-12-08T14:20:18.856Z"
   },
   {
    "duration": 9,
    "start_time": "2022-12-08T14:25:33.227Z"
   },
   {
    "duration": 14,
    "start_time": "2022-12-08T14:25:59.010Z"
   },
   {
    "duration": 7,
    "start_time": "2022-12-08T14:26:02.841Z"
   },
   {
    "duration": 74,
    "start_time": "2022-12-08T14:39:51.107Z"
   },
   {
    "duration": 5,
    "start_time": "2022-12-08T14:39:54.965Z"
   },
   {
    "duration": 18,
    "start_time": "2022-12-08T14:40:13.837Z"
   },
   {
    "duration": 4,
    "start_time": "2022-12-08T14:41:08.243Z"
   },
   {
    "duration": 73,
    "start_time": "2022-12-08T14:43:01.353Z"
   },
   {
    "duration": 10,
    "start_time": "2022-12-08T14:43:12.473Z"
   },
   {
    "duration": 10,
    "start_time": "2022-12-08T14:43:29.052Z"
   },
   {
    "duration": 10,
    "start_time": "2022-12-08T14:43:45.025Z"
   },
   {
    "duration": 17,
    "start_time": "2022-12-08T14:44:24.332Z"
   },
   {
    "duration": 3,
    "start_time": "2022-12-08T14:49:42.709Z"
   },
   {
    "duration": 49,
    "start_time": "2022-12-08T14:49:42.954Z"
   },
   {
    "duration": 3,
    "start_time": "2022-12-08T14:49:43.005Z"
   },
   {
    "duration": 31,
    "start_time": "2022-12-08T14:49:43.010Z"
   },
   {
    "duration": 24,
    "start_time": "2022-12-08T14:49:43.042Z"
   },
   {
    "duration": 21,
    "start_time": "2022-12-08T14:49:43.068Z"
   },
   {
    "duration": 5,
    "start_time": "2022-12-08T14:49:43.732Z"
   },
   {
    "duration": 266,
    "start_time": "2022-12-08T14:49:43.738Z"
   },
   {
    "duration": 8,
    "start_time": "2022-12-08T14:49:44.006Z"
   },
   {
    "duration": 820,
    "start_time": "2022-12-08T14:49:44.018Z"
   },
   {
    "duration": 3,
    "start_time": "2022-12-08T14:49:44.840Z"
   },
   {
    "duration": 14,
    "start_time": "2022-12-08T14:49:44.844Z"
   },
   {
    "duration": 33,
    "start_time": "2022-12-08T14:49:44.860Z"
   },
   {
    "duration": 5,
    "start_time": "2022-12-08T14:49:44.895Z"
   },
   {
    "duration": 13,
    "start_time": "2022-12-08T14:49:44.902Z"
   },
   {
    "duration": 2,
    "start_time": "2022-12-08T15:01:29.278Z"
   },
   {
    "duration": 12,
    "start_time": "2022-12-08T15:02:34.343Z"
   },
   {
    "duration": 20,
    "start_time": "2022-12-08T15:03:00.539Z"
   },
   {
    "duration": 113,
    "start_time": "2022-12-08T15:03:29.938Z"
   },
   {
    "duration": 28,
    "start_time": "2022-12-08T15:03:44.541Z"
   },
   {
    "duration": 17,
    "start_time": "2022-12-08T15:04:09.040Z"
   },
   {
    "duration": 11,
    "start_time": "2022-12-08T15:04:30.093Z"
   },
   {
    "duration": 4,
    "start_time": "2022-12-08T15:04:36.695Z"
   },
   {
    "duration": 60,
    "start_time": "2022-12-08T15:04:36.701Z"
   },
   {
    "duration": 3,
    "start_time": "2022-12-08T15:04:36.762Z"
   },
   {
    "duration": 11,
    "start_time": "2022-12-08T15:04:36.766Z"
   },
   {
    "duration": 7,
    "start_time": "2022-12-08T15:04:36.936Z"
   },
   {
    "duration": 13,
    "start_time": "2022-12-08T15:04:36.945Z"
   },
   {
    "duration": 9,
    "start_time": "2022-12-08T15:04:36.959Z"
   },
   {
    "duration": 273,
    "start_time": "2022-12-08T15:04:36.970Z"
   },
   {
    "duration": 6,
    "start_time": "2022-12-08T15:04:37.245Z"
   },
   {
    "duration": 734,
    "start_time": "2022-12-08T15:04:37.253Z"
   },
   {
    "duration": 3,
    "start_time": "2022-12-08T15:04:37.989Z"
   },
   {
    "duration": 7,
    "start_time": "2022-12-08T15:04:37.993Z"
   },
   {
    "duration": 27,
    "start_time": "2022-12-08T15:04:38.002Z"
   },
   {
    "duration": 4,
    "start_time": "2022-12-08T15:04:38.031Z"
   },
   {
    "duration": 15,
    "start_time": "2022-12-08T15:04:38.036Z"
   },
   {
    "duration": 43,
    "start_time": "2022-12-08T15:04:38.053Z"
   },
   {
    "duration": 25,
    "start_time": "2022-12-08T15:08:03.682Z"
   },
   {
    "duration": 25,
    "start_time": "2022-12-08T15:08:45.923Z"
   },
   {
    "duration": 3,
    "start_time": "2022-12-08T15:12:51.221Z"
   },
   {
    "duration": 3,
    "start_time": "2022-12-08T15:17:47.248Z"
   },
   {
    "duration": 195,
    "start_time": "2022-12-08T15:19:09.783Z"
   },
   {
    "duration": 3,
    "start_time": "2022-12-08T15:19:28.203Z"
   },
   {
    "duration": 1040,
    "start_time": "2022-12-08T15:19:42.538Z"
   },
   {
    "duration": 4,
    "start_time": "2022-12-08T15:19:55.721Z"
   },
   {
    "duration": 834,
    "start_time": "2022-12-08T15:20:01.961Z"
   },
   {
    "duration": 1278,
    "start_time": "2022-12-08T15:22:14.701Z"
   },
   {
    "duration": 843,
    "start_time": "2022-12-08T15:22:24.541Z"
   },
   {
    "duration": 1124,
    "start_time": "2022-12-08T15:22:28.263Z"
   },
   {
    "duration": 844,
    "start_time": "2022-12-08T15:24:15.243Z"
   },
   {
    "duration": 1145,
    "start_time": "2022-12-08T15:24:16.634Z"
   },
   {
    "duration": 42242,
    "start_time": "2022-12-08T15:24:30.138Z"
   },
   {
    "duration": 42202,
    "start_time": "2022-12-08T15:25:45.878Z"
   },
   {
    "duration": 57664,
    "start_time": "2022-12-08T15:26:49.235Z"
   },
   {
    "duration": 2240,
    "start_time": "2022-12-08T15:32:43.537Z"
   },
   {
    "duration": 3,
    "start_time": "2022-12-08T15:34:27.512Z"
   },
   {
    "duration": 834,
    "start_time": "2022-12-08T15:34:46.348Z"
   },
   {
    "duration": 1126,
    "start_time": "2022-12-08T15:34:58.653Z"
   },
   {
    "duration": 2094,
    "start_time": "2022-12-08T15:35:09.186Z"
   },
   {
    "duration": 4,
    "start_time": "2022-12-08T15:39:44.440Z"
   },
   {
    "duration": 80,
    "start_time": "2022-12-08T16:14:04.855Z"
   },
   {
    "duration": 70,
    "start_time": "2022-12-08T16:14:56.705Z"
   },
   {
    "duration": 3,
    "start_time": "2022-12-08T16:16:59.232Z"
   },
   {
    "duration": 62183,
    "start_time": "2022-12-08T16:17:08.910Z"
   },
   {
    "duration": 61692,
    "start_time": "2022-12-08T16:19:30.080Z"
   },
   {
    "duration": 28,
    "start_time": "2022-12-08T16:30:51.158Z"
   },
   {
    "duration": 163041,
    "start_time": "2022-12-08T16:34:12.941Z"
   },
   {
    "duration": 2,
    "start_time": "2022-12-08T16:38:54.798Z"
   },
   {
    "duration": 2,
    "start_time": "2022-12-08T16:41:36.597Z"
   },
   {
    "duration": 845,
    "start_time": "2022-12-08T16:41:51.450Z"
   },
   {
    "duration": 1242,
    "start_time": "2022-12-08T16:42:08.737Z"
   },
   {
    "duration": 2036,
    "start_time": "2022-12-08T16:42:26.750Z"
   },
   {
    "duration": 20710,
    "start_time": "2022-12-08T16:44:10.896Z"
   },
   {
    "duration": 20717,
    "start_time": "2022-12-08T16:46:28.759Z"
   },
   {
    "duration": 15518,
    "start_time": "2022-12-08T16:47:36.567Z"
   },
   {
    "duration": 20837,
    "start_time": "2022-12-08T16:48:41.817Z"
   },
   {
    "duration": 26833,
    "start_time": "2022-12-08T16:49:08.245Z"
   },
   {
    "duration": 382,
    "start_time": "2022-12-08T16:50:06.300Z"
   },
   {
    "duration": 825,
    "start_time": "2022-12-08T16:50:39.622Z"
   },
   {
    "duration": 5,
    "start_time": "2022-12-08T16:51:02.336Z"
   },
   {
    "duration": 51,
    "start_time": "2022-12-08T16:51:02.342Z"
   },
   {
    "duration": 2,
    "start_time": "2022-12-08T16:51:02.395Z"
   },
   {
    "duration": 19,
    "start_time": "2022-12-08T16:51:02.399Z"
   },
   {
    "duration": 6,
    "start_time": "2022-12-08T16:51:02.420Z"
   },
   {
    "duration": 7,
    "start_time": "2022-12-08T16:51:02.428Z"
   },
   {
    "duration": 10,
    "start_time": "2022-12-08T16:51:02.436Z"
   },
   {
    "duration": 236,
    "start_time": "2022-12-08T16:51:02.448Z"
   },
   {
    "duration": 7,
    "start_time": "2022-12-08T16:51:02.686Z"
   },
   {
    "duration": 805,
    "start_time": "2022-12-08T16:51:02.694Z"
   },
   {
    "duration": 3,
    "start_time": "2022-12-08T16:51:03.501Z"
   },
   {
    "duration": 77,
    "start_time": "2022-12-08T16:51:03.506Z"
   },
   {
    "duration": 0,
    "start_time": "2022-12-08T16:51:03.585Z"
   },
   {
    "duration": 0,
    "start_time": "2022-12-08T16:51:03.586Z"
   },
   {
    "duration": 0,
    "start_time": "2022-12-08T16:51:03.588Z"
   },
   {
    "duration": 0,
    "start_time": "2022-12-08T16:51:03.589Z"
   },
   {
    "duration": 0,
    "start_time": "2022-12-08T16:51:03.590Z"
   },
   {
    "duration": 0,
    "start_time": "2022-12-08T16:51:03.591Z"
   },
   {
    "duration": 0,
    "start_time": "2022-12-08T16:51:03.592Z"
   },
   {
    "duration": 0,
    "start_time": "2022-12-08T16:51:03.593Z"
   },
   {
    "duration": 0,
    "start_time": "2022-12-08T16:51:03.594Z"
   },
   {
    "duration": 0,
    "start_time": "2022-12-08T16:51:03.595Z"
   },
   {
    "duration": 0,
    "start_time": "2022-12-08T16:51:03.596Z"
   },
   {
    "duration": 0,
    "start_time": "2022-12-08T16:51:03.598Z"
   },
   {
    "duration": 4,
    "start_time": "2022-12-08T16:51:58.374Z"
   },
   {
    "duration": 59,
    "start_time": "2022-12-08T16:51:58.380Z"
   },
   {
    "duration": 3,
    "start_time": "2022-12-08T16:51:58.441Z"
   },
   {
    "duration": 13,
    "start_time": "2022-12-08T16:51:58.445Z"
   },
   {
    "duration": 8,
    "start_time": "2022-12-08T16:51:58.460Z"
   },
   {
    "duration": 19,
    "start_time": "2022-12-08T16:51:58.470Z"
   },
   {
    "duration": 10,
    "start_time": "2022-12-08T16:51:58.491Z"
   },
   {
    "duration": 251,
    "start_time": "2022-12-08T16:51:58.503Z"
   },
   {
    "duration": 7,
    "start_time": "2022-12-08T16:51:58.755Z"
   },
   {
    "duration": 678,
    "start_time": "2022-12-08T16:51:58.763Z"
   },
   {
    "duration": 2,
    "start_time": "2022-12-08T16:51:59.443Z"
   },
   {
    "duration": 78,
    "start_time": "2022-12-08T16:51:59.447Z"
   },
   {
    "duration": 1,
    "start_time": "2022-12-08T16:51:59.527Z"
   },
   {
    "duration": 0,
    "start_time": "2022-12-08T16:51:59.529Z"
   },
   {
    "duration": 0,
    "start_time": "2022-12-08T16:51:59.529Z"
   },
   {
    "duration": 0,
    "start_time": "2022-12-08T16:51:59.531Z"
   },
   {
    "duration": 0,
    "start_time": "2022-12-08T16:51:59.532Z"
   },
   {
    "duration": 0,
    "start_time": "2022-12-08T16:51:59.533Z"
   },
   {
    "duration": 0,
    "start_time": "2022-12-08T16:51:59.534Z"
   },
   {
    "duration": 0,
    "start_time": "2022-12-08T16:51:59.535Z"
   },
   {
    "duration": 0,
    "start_time": "2022-12-08T16:51:59.536Z"
   },
   {
    "duration": 0,
    "start_time": "2022-12-08T16:51:59.537Z"
   },
   {
    "duration": 0,
    "start_time": "2022-12-08T16:51:59.539Z"
   },
   {
    "duration": 0,
    "start_time": "2022-12-08T16:51:59.539Z"
   },
   {
    "duration": 5,
    "start_time": "2022-12-08T16:52:29.806Z"
   },
   {
    "duration": 64,
    "start_time": "2022-12-08T16:52:29.813Z"
   },
   {
    "duration": 2,
    "start_time": "2022-12-08T16:52:29.879Z"
   },
   {
    "duration": 26,
    "start_time": "2022-12-08T16:52:29.883Z"
   },
   {
    "duration": 11,
    "start_time": "2022-12-08T16:52:29.911Z"
   },
   {
    "duration": 6,
    "start_time": "2022-12-08T16:52:29.923Z"
   },
   {
    "duration": 7,
    "start_time": "2022-12-08T16:52:29.930Z"
   },
   {
    "duration": 364,
    "start_time": "2022-12-08T16:52:29.939Z"
   },
   {
    "duration": 7,
    "start_time": "2022-12-08T16:52:30.305Z"
   },
   {
    "duration": 904,
    "start_time": "2022-12-08T16:52:30.313Z"
   },
   {
    "duration": 2,
    "start_time": "2022-12-08T16:52:31.219Z"
   },
   {
    "duration": 43,
    "start_time": "2022-12-08T16:52:31.223Z"
   },
   {
    "duration": 23,
    "start_time": "2022-12-08T16:52:31.268Z"
   },
   {
    "duration": 45,
    "start_time": "2022-12-08T16:52:31.293Z"
   },
   {
    "duration": 4,
    "start_time": "2022-12-08T16:52:31.339Z"
   },
   {
    "duration": 21,
    "start_time": "2022-12-08T16:52:31.345Z"
   },
   {
    "duration": 30,
    "start_time": "2022-12-08T16:52:31.368Z"
   },
   {
    "duration": 3,
    "start_time": "2022-12-08T16:52:31.400Z"
   },
   {
    "duration": 884,
    "start_time": "2022-12-08T16:52:31.405Z"
   },
   {
    "duration": 1391,
    "start_time": "2022-12-08T16:52:32.291Z"
   },
   {
    "duration": 2210,
    "start_time": "2022-12-08T16:52:33.684Z"
   },
   {
    "duration": 21365,
    "start_time": "2022-12-08T16:52:35.896Z"
   },
   {
    "duration": 208913,
    "start_time": "2022-12-08T16:52:57.262Z"
   },
   {
    "duration": 344,
    "start_time": "2022-12-08T16:56:26.176Z"
   },
   {
    "duration": 24858,
    "start_time": "2022-12-08T16:56:37.638Z"
   },
   {
    "duration": 468,
    "start_time": "2022-12-08T16:59:19.611Z"
   },
   {
    "duration": 5,
    "start_time": "2022-12-08T16:59:27.012Z"
   },
   {
    "duration": 64,
    "start_time": "2022-12-08T16:59:27.019Z"
   },
   {
    "duration": 3,
    "start_time": "2022-12-08T16:59:27.084Z"
   },
   {
    "duration": 10,
    "start_time": "2022-12-08T16:59:27.089Z"
   },
   {
    "duration": 8,
    "start_time": "2022-12-08T16:59:27.101Z"
   },
   {
    "duration": 6,
    "start_time": "2022-12-08T16:59:27.111Z"
   },
   {
    "duration": 10,
    "start_time": "2022-12-08T16:59:27.118Z"
   },
   {
    "duration": 258,
    "start_time": "2022-12-08T16:59:27.129Z"
   },
   {
    "duration": 6,
    "start_time": "2022-12-08T16:59:27.388Z"
   },
   {
    "duration": 759,
    "start_time": "2022-12-08T16:59:27.396Z"
   },
   {
    "duration": 2,
    "start_time": "2022-12-08T16:59:28.157Z"
   },
   {
    "duration": 7,
    "start_time": "2022-12-08T16:59:28.161Z"
   },
   {
    "duration": 11,
    "start_time": "2022-12-08T16:59:28.169Z"
   },
   {
    "duration": 24,
    "start_time": "2022-12-08T16:59:28.182Z"
   },
   {
    "duration": 4,
    "start_time": "2022-12-08T16:59:28.207Z"
   },
   {
    "duration": 20,
    "start_time": "2022-12-08T16:59:28.212Z"
   },
   {
    "duration": 26,
    "start_time": "2022-12-08T16:59:28.233Z"
   },
   {
    "duration": 2,
    "start_time": "2022-12-08T16:59:28.261Z"
   },
   {
    "duration": 846,
    "start_time": "2022-12-08T16:59:28.265Z"
   },
   {
    "duration": 1297,
    "start_time": "2022-12-08T16:59:29.113Z"
   },
   {
    "duration": 2014,
    "start_time": "2022-12-08T16:59:30.479Z"
   },
   {
    "duration": 21035,
    "start_time": "2022-12-08T16:59:32.495Z"
   },
   {
    "duration": 4662,
    "start_time": "2022-12-08T16:59:53.532Z"
   },
   {
    "duration": 482,
    "start_time": "2022-12-08T16:59:58.196Z"
   },
   {
    "duration": 431,
    "start_time": "2022-12-08T17:06:22.749Z"
   },
   {
    "duration": 206,
    "start_time": "2022-12-08T17:06:43.996Z"
   },
   {
    "duration": 220,
    "start_time": "2022-12-08T17:08:14.272Z"
   },
   {
    "duration": 196,
    "start_time": "2022-12-08T17:08:40.266Z"
   },
   {
    "duration": 22,
    "start_time": "2022-12-08T17:09:04.777Z"
   },
   {
    "duration": 13,
    "start_time": "2022-12-08T17:09:15.913Z"
   },
   {
    "duration": 11,
    "start_time": "2022-12-08T17:11:39.843Z"
   },
   {
    "duration": 13,
    "start_time": "2022-12-08T17:11:58.434Z"
   },
   {
    "duration": 14,
    "start_time": "2022-12-08T17:12:25.638Z"
   },
   {
    "duration": 18,
    "start_time": "2022-12-08T17:12:49.038Z"
   },
   {
    "duration": 246,
    "start_time": "2022-12-08T17:12:52.712Z"
   },
   {
    "duration": 68,
    "start_time": "2022-12-08T17:13:34.815Z"
   },
   {
    "duration": 66,
    "start_time": "2022-12-08T17:13:37.066Z"
   },
   {
    "duration": 71,
    "start_time": "2022-12-08T17:13:40.389Z"
   },
   {
    "duration": 264,
    "start_time": "2022-12-08T17:13:50.604Z"
   },
   {
    "duration": 4,
    "start_time": "2022-12-08T17:23:05.113Z"
   },
   {
    "duration": 54,
    "start_time": "2022-12-08T17:23:05.119Z"
   },
   {
    "duration": 3,
    "start_time": "2022-12-08T17:23:05.174Z"
   },
   {
    "duration": 12,
    "start_time": "2022-12-08T17:23:05.179Z"
   },
   {
    "duration": 6,
    "start_time": "2022-12-08T17:23:05.193Z"
   },
   {
    "duration": 8,
    "start_time": "2022-12-08T17:23:05.200Z"
   },
   {
    "duration": 7,
    "start_time": "2022-12-08T17:23:05.209Z"
   },
   {
    "duration": 262,
    "start_time": "2022-12-08T17:23:05.218Z"
   },
   {
    "duration": 6,
    "start_time": "2022-12-08T17:23:05.482Z"
   },
   {
    "duration": 810,
    "start_time": "2022-12-08T17:23:05.490Z"
   },
   {
    "duration": 3,
    "start_time": "2022-12-08T17:23:06.302Z"
   },
   {
    "duration": 7,
    "start_time": "2022-12-08T17:23:06.307Z"
   },
   {
    "duration": 7,
    "start_time": "2022-12-08T17:23:06.315Z"
   },
   {
    "duration": 22,
    "start_time": "2022-12-08T17:23:06.324Z"
   },
   {
    "duration": 4,
    "start_time": "2022-12-08T17:23:06.348Z"
   },
   {
    "duration": 29,
    "start_time": "2022-12-08T17:23:06.353Z"
   },
   {
    "duration": 26,
    "start_time": "2022-12-08T17:23:06.383Z"
   },
   {
    "duration": 2,
    "start_time": "2022-12-08T17:23:06.411Z"
   },
   {
    "duration": 864,
    "start_time": "2022-12-08T17:23:06.414Z"
   },
   {
    "duration": 1212,
    "start_time": "2022-12-08T17:23:07.279Z"
   },
   {
    "duration": 2143,
    "start_time": "2022-12-08T17:23:08.492Z"
   },
   {
    "duration": 20820,
    "start_time": "2022-12-08T17:23:10.637Z"
   },
   {
    "duration": 3430,
    "start_time": "2022-12-08T17:23:31.459Z"
   },
   {
    "duration": 493,
    "start_time": "2022-12-08T17:23:34.891Z"
   },
   {
    "duration": 239,
    "start_time": "2022-12-08T17:23:35.385Z"
   },
   {
    "duration": 303,
    "start_time": "2022-12-08T17:23:35.625Z"
   },
   {
    "duration": 220,
    "start_time": "2022-12-08T17:24:59.617Z"
   },
   {
    "duration": 244,
    "start_time": "2022-12-08T17:25:46.050Z"
   },
   {
    "duration": 50,
    "start_time": "2022-12-08T21:56:44.508Z"
   },
   {
    "duration": 1563,
    "start_time": "2022-12-08T21:56:50.049Z"
   },
   {
    "duration": 115,
    "start_time": "2022-12-08T21:56:51.614Z"
   },
   {
    "duration": 3,
    "start_time": "2022-12-08T21:56:51.730Z"
   },
   {
    "duration": 15,
    "start_time": "2022-12-08T21:56:51.735Z"
   },
   {
    "duration": 11,
    "start_time": "2022-12-08T21:56:51.751Z"
   },
   {
    "duration": 3,
    "start_time": "2022-12-08T21:56:51.764Z"
   },
   {
    "duration": 6,
    "start_time": "2022-12-08T21:56:51.769Z"
   },
   {
    "duration": 293,
    "start_time": "2022-12-08T21:56:56.462Z"
   },
   {
    "duration": 337,
    "start_time": "2022-12-08T21:59:05.056Z"
   },
   {
    "duration": 287,
    "start_time": "2022-12-08T21:59:18.989Z"
   },
   {
    "duration": 93,
    "start_time": "2022-12-08T22:01:45.112Z"
   },
   {
    "duration": 10,
    "start_time": "2022-12-08T22:02:52.728Z"
   },
   {
    "duration": 5,
    "start_time": "2022-12-08T22:03:16.736Z"
   },
   {
    "duration": 270,
    "start_time": "2022-12-08T22:03:24.638Z"
   },
   {
    "duration": 284,
    "start_time": "2022-12-08T22:03:40.386Z"
   },
   {
    "duration": 5,
    "start_time": "2022-12-08T22:04:03.282Z"
   },
   {
    "duration": 262,
    "start_time": "2022-12-08T22:05:20.194Z"
   },
   {
    "duration": 334,
    "start_time": "2022-12-08T22:05:45.832Z"
   },
   {
    "duration": 277,
    "start_time": "2022-12-08T22:05:58.613Z"
   },
   {
    "duration": 10,
    "start_time": "2022-12-08T22:12:45.418Z"
   },
   {
    "duration": 4,
    "start_time": "2022-12-08T22:12:52.549Z"
   },
   {
    "duration": 51,
    "start_time": "2022-12-08T22:12:52.555Z"
   },
   {
    "duration": 3,
    "start_time": "2022-12-08T22:12:52.608Z"
   },
   {
    "duration": 14,
    "start_time": "2022-12-08T22:12:52.612Z"
   },
   {
    "duration": 19,
    "start_time": "2022-12-08T22:12:52.629Z"
   },
   {
    "duration": 9,
    "start_time": "2022-12-08T22:12:52.649Z"
   },
   {
    "duration": 7,
    "start_time": "2022-12-08T22:12:52.659Z"
   },
   {
    "duration": 245,
    "start_time": "2022-12-08T22:12:52.667Z"
   },
   {
    "duration": 7,
    "start_time": "2022-12-08T22:12:52.915Z"
   },
   {
    "duration": 742,
    "start_time": "2022-12-08T22:12:52.924Z"
   },
   {
    "duration": 9,
    "start_time": "2022-12-08T22:12:56.616Z"
   },
   {
    "duration": 268,
    "start_time": "2022-12-08T22:13:13.822Z"
   },
   {
    "duration": 163,
    "start_time": "2022-12-08T22:14:44.745Z"
   },
   {
    "duration": 175,
    "start_time": "2022-12-08T22:14:57.624Z"
   },
   {
    "duration": 182,
    "start_time": "2022-12-08T22:16:24.485Z"
   },
   {
    "duration": 173,
    "start_time": "2022-12-08T22:16:31.448Z"
   },
   {
    "duration": 5,
    "start_time": "2022-12-08T22:23:38.724Z"
   },
   {
    "duration": 53,
    "start_time": "2022-12-08T22:23:38.731Z"
   },
   {
    "duration": 2,
    "start_time": "2022-12-08T22:23:38.786Z"
   },
   {
    "duration": 13,
    "start_time": "2022-12-08T22:23:38.790Z"
   },
   {
    "duration": 9,
    "start_time": "2022-12-08T22:23:38.805Z"
   },
   {
    "duration": 7,
    "start_time": "2022-12-08T22:23:38.815Z"
   },
   {
    "duration": 8,
    "start_time": "2022-12-08T22:23:38.823Z"
   },
   {
    "duration": 255,
    "start_time": "2022-12-08T22:23:38.832Z"
   },
   {
    "duration": 6,
    "start_time": "2022-12-08T22:23:39.088Z"
   },
   {
    "duration": 759,
    "start_time": "2022-12-08T22:23:39.096Z"
   },
   {
    "duration": 184,
    "start_time": "2022-12-08T22:23:39.856Z"
   },
   {
    "duration": 4,
    "start_time": "2022-12-08T22:34:15.900Z"
   },
   {
    "duration": 28,
    "start_time": "2022-12-08T22:48:12.014Z"
   },
   {
    "duration": 54,
    "start_time": "2022-12-08T22:48:31.398Z"
   },
   {
    "duration": 4,
    "start_time": "2022-12-08T22:49:17.857Z"
   },
   {
    "duration": 58,
    "start_time": "2022-12-08T22:49:17.863Z"
   },
   {
    "duration": 3,
    "start_time": "2022-12-08T22:49:17.923Z"
   },
   {
    "duration": 17,
    "start_time": "2022-12-08T22:49:17.928Z"
   },
   {
    "duration": 7,
    "start_time": "2022-12-08T22:49:18.188Z"
   },
   {
    "duration": 4,
    "start_time": "2022-12-08T22:49:18.197Z"
   },
   {
    "duration": 8,
    "start_time": "2022-12-08T22:49:18.203Z"
   },
   {
    "duration": 236,
    "start_time": "2022-12-08T22:49:18.212Z"
   },
   {
    "duration": 6,
    "start_time": "2022-12-08T22:49:18.449Z"
   },
   {
    "duration": 677,
    "start_time": "2022-12-08T22:49:19.737Z"
   },
   {
    "duration": 180,
    "start_time": "2022-12-08T22:49:20.415Z"
   },
   {
    "duration": 2,
    "start_time": "2022-12-08T22:49:20.597Z"
   },
   {
    "duration": 16,
    "start_time": "2022-12-08T22:49:20.601Z"
   },
   {
    "duration": 14,
    "start_time": "2022-12-08T22:49:20.619Z"
   },
   {
    "duration": 33,
    "start_time": "2022-12-08T22:49:20.635Z"
   },
   {
    "duration": 4,
    "start_time": "2022-12-08T22:49:20.669Z"
   },
   {
    "duration": 6,
    "start_time": "2022-12-08T22:49:20.801Z"
   },
   {
    "duration": 41,
    "start_time": "2022-12-08T22:49:20.809Z"
   },
   {
    "duration": 3,
    "start_time": "2022-12-08T22:49:20.890Z"
   },
   {
    "duration": 897,
    "start_time": "2022-12-08T22:49:22.031Z"
   },
   {
    "duration": 1286,
    "start_time": "2022-12-08T22:49:22.930Z"
   },
   {
    "duration": 2227,
    "start_time": "2022-12-08T22:49:24.218Z"
   },
   {
    "duration": 15459,
    "start_time": "2022-12-08T22:49:26.446Z"
   },
   {
    "duration": 3308,
    "start_time": "2022-12-08T22:49:41.908Z"
   },
   {
    "duration": 503,
    "start_time": "2022-12-08T22:49:45.217Z"
   },
   {
    "duration": 1301,
    "start_time": "2022-12-08T22:53:51.867Z"
   },
   {
    "duration": 49,
    "start_time": "2022-12-08T22:53:53.169Z"
   },
   {
    "duration": 3,
    "start_time": "2022-12-08T22:53:53.220Z"
   },
   {
    "duration": 34,
    "start_time": "2022-12-08T22:53:53.225Z"
   },
   {
    "duration": 10,
    "start_time": "2022-12-08T22:53:53.261Z"
   },
   {
    "duration": 4,
    "start_time": "2022-12-08T22:53:53.273Z"
   },
   {
    "duration": 7,
    "start_time": "2022-12-08T22:53:53.279Z"
   },
   {
    "duration": 264,
    "start_time": "2022-12-08T22:53:53.287Z"
   },
   {
    "duration": 8,
    "start_time": "2022-12-08T22:53:53.553Z"
   },
   {
    "duration": 817,
    "start_time": "2022-12-08T22:53:53.564Z"
   },
   {
    "duration": 192,
    "start_time": "2022-12-08T22:53:54.383Z"
   },
   {
    "duration": 3,
    "start_time": "2022-12-08T22:53:54.577Z"
   },
   {
    "duration": 8,
    "start_time": "2022-12-08T22:53:54.581Z"
   },
   {
    "duration": 8,
    "start_time": "2022-12-08T22:53:54.590Z"
   },
   {
    "duration": 37,
    "start_time": "2022-12-08T22:53:54.599Z"
   },
   {
    "duration": 4,
    "start_time": "2022-12-08T22:53:54.637Z"
   },
   {
    "duration": 11,
    "start_time": "2022-12-08T22:53:54.642Z"
   },
   {
    "duration": 28,
    "start_time": "2022-12-08T22:53:54.654Z"
   },
   {
    "duration": 2,
    "start_time": "2022-12-08T22:53:54.684Z"
   },
   {
    "duration": 976,
    "start_time": "2022-12-08T22:53:54.688Z"
   },
   {
    "duration": 1321,
    "start_time": "2022-12-08T22:53:55.716Z"
   },
   {
    "duration": 2168,
    "start_time": "2022-12-08T22:53:57.040Z"
   },
   {
    "duration": 15469,
    "start_time": "2022-12-08T22:53:59.210Z"
   },
   {
    "duration": 3135,
    "start_time": "2022-12-08T22:54:14.681Z"
   },
   {
    "duration": 401,
    "start_time": "2022-12-08T22:54:17.818Z"
   },
   {
    "duration": 226,
    "start_time": "2022-12-08T22:54:18.221Z"
   },
   {
    "duration": 285,
    "start_time": "2022-12-08T22:54:18.449Z"
   },
   {
    "duration": 255,
    "start_time": "2022-12-08T22:55:48.548Z"
   }
  ],
  "kernelspec": {
   "display_name": "Python 3 (ipykernel)",
   "language": "python",
   "name": "python3"
  },
  "language_info": {
   "codemirror_mode": {
    "name": "ipython",
    "version": 3
   },
   "file_extension": ".py",
   "mimetype": "text/x-python",
   "name": "python",
   "nbconvert_exporter": "python",
   "pygments_lexer": "ipython3",
   "version": "3.9.12"
  },
  "toc": {
   "base_numbering": 1,
   "nav_menu": {},
   "number_sections": true,
   "sideBar": true,
   "skip_h1_title": true,
   "title_cell": "Содержание",
   "title_sidebar": "Contents",
   "toc_cell": true,
   "toc_position": {
    "height": "calc(100% - 180px)",
    "left": "10px",
    "top": "150px",
    "width": "165px"
   },
   "toc_section_display": true,
   "toc_window_display": true
  }
 },
 "nbformat": 4,
 "nbformat_minor": 4
}
