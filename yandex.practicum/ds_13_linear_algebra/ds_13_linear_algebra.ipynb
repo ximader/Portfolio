{
 "cells": [
  {
   "cell_type": "markdown",
   "metadata": {
    "toc": true
   },
   "source": [
    "<h1>Содержание<span class=\"tocSkip\"></span></h1>\n",
    "<div class=\"toc\"><ul class=\"toc-item\"><li><span><a href=\"#Загрузка-данных\" data-toc-modified-id=\"Загрузка-данных-1\"><span class=\"toc-item-num\">1&nbsp;&nbsp;</span>Загрузка данных</a></span></li><li><span><a href=\"#Умножение-матриц\" data-toc-modified-id=\"Умножение-матриц-2\"><span class=\"toc-item-num\">2&nbsp;&nbsp;</span>Умножение матриц</a></span></li><li><span><a href=\"#Алгоритм-преобразования\" data-toc-modified-id=\"Алгоритм-преобразования-3\"><span class=\"toc-item-num\">3&nbsp;&nbsp;</span>Алгоритм преобразования</a></span></li><li><span><a href=\"#Проверка-алгоритма\" data-toc-modified-id=\"Проверка-алгоритма-4\"><span class=\"toc-item-num\">4&nbsp;&nbsp;</span>Проверка алгоритма</a></span></li><li><span><a href=\"#Общий-вывод\" data-toc-modified-id=\"Общий-вывод-5\"><span class=\"toc-item-num\">5&nbsp;&nbsp;</span>Общий вывод</a></span></li><li><span><a href=\"#Чек-лист-проверки\" data-toc-modified-id=\"Чек-лист-проверки-6\"><span class=\"toc-item-num\">6&nbsp;&nbsp;</span>Чек-лист проверки</a></span></li></ul></div>"
   ]
  },
  {
   "cell_type": "markdown",
   "metadata": {},
   "source": [
    "# Защита персональных данных клиентов"
   ]
  },
  {
   "cell_type": "markdown",
   "metadata": {},
   "source": [
    "## Загрузка данных"
   ]
  },
  {
   "cell_type": "code",
   "execution_count": 94,
   "metadata": {},
   "outputs": [],
   "source": [
    "import pandas as pd\n",
    "import numpy as np\n",
    "import seaborn as sns\n",
    "\n",
    "from sklearn.linear_model import LinearRegression\n",
    "from sklearn.metrics import r2_score\n",
    "\n",
    "import warnings\n",
    "warnings.filterwarnings('ignore')"
   ]
  },
  {
   "cell_type": "code",
   "execution_count": 95,
   "metadata": {},
   "outputs": [],
   "source": [
    "try:\n",
    "    data = pd.read_csv('insurance.csv') # путь в локальной версии\n",
    "except:\n",
    "    data = pd.read_csv('/datasets/insurance.csv') # путь в сетевой версии"
   ]
  },
  {
   "cell_type": "code",
   "execution_count": 96,
   "metadata": {},
   "outputs": [
    {
     "data": {
      "text/html": [
       "<div>\n",
       "<style scoped>\n",
       "    .dataframe tbody tr th:only-of-type {\n",
       "        vertical-align: middle;\n",
       "    }\n",
       "\n",
       "    .dataframe tbody tr th {\n",
       "        vertical-align: top;\n",
       "    }\n",
       "\n",
       "    .dataframe thead th {\n",
       "        text-align: right;\n",
       "    }\n",
       "</style>\n",
       "<table border=\"1\" class=\"dataframe\">\n",
       "  <thead>\n",
       "    <tr style=\"text-align: right;\">\n",
       "      <th></th>\n",
       "      <th>Пол</th>\n",
       "      <th>Возраст</th>\n",
       "      <th>Зарплата</th>\n",
       "      <th>Члены семьи</th>\n",
       "      <th>Страховые выплаты</th>\n",
       "    </tr>\n",
       "  </thead>\n",
       "  <tbody>\n",
       "    <tr>\n",
       "      <th>0</th>\n",
       "      <td>1</td>\n",
       "      <td>41.0</td>\n",
       "      <td>49600.0</td>\n",
       "      <td>1</td>\n",
       "      <td>0</td>\n",
       "    </tr>\n",
       "    <tr>\n",
       "      <th>1</th>\n",
       "      <td>0</td>\n",
       "      <td>46.0</td>\n",
       "      <td>38000.0</td>\n",
       "      <td>1</td>\n",
       "      <td>1</td>\n",
       "    </tr>\n",
       "    <tr>\n",
       "      <th>2</th>\n",
       "      <td>0</td>\n",
       "      <td>29.0</td>\n",
       "      <td>21000.0</td>\n",
       "      <td>0</td>\n",
       "      <td>0</td>\n",
       "    </tr>\n",
       "    <tr>\n",
       "      <th>3</th>\n",
       "      <td>0</td>\n",
       "      <td>21.0</td>\n",
       "      <td>41700.0</td>\n",
       "      <td>2</td>\n",
       "      <td>0</td>\n",
       "    </tr>\n",
       "    <tr>\n",
       "      <th>4</th>\n",
       "      <td>1</td>\n",
       "      <td>28.0</td>\n",
       "      <td>26100.0</td>\n",
       "      <td>0</td>\n",
       "      <td>0</td>\n",
       "    </tr>\n",
       "  </tbody>\n",
       "</table>\n",
       "</div>"
      ],
      "text/plain": [
       "   Пол  Возраст  Зарплата  Члены семьи  Страховые выплаты\n",
       "0    1     41.0   49600.0            1                  0\n",
       "1    0     46.0   38000.0            1                  1\n",
       "2    0     29.0   21000.0            0                  0\n",
       "3    0     21.0   41700.0            2                  0\n",
       "4    1     28.0   26100.0            0                  0"
      ]
     },
     "execution_count": 96,
     "metadata": {},
     "output_type": "execute_result"
    }
   ],
   "source": [
    "data.head()"
   ]
  },
  {
   "cell_type": "code",
   "execution_count": 97,
   "metadata": {},
   "outputs": [
    {
     "name": "stdout",
     "output_type": "stream",
     "text": [
      "<class 'pandas.core.frame.DataFrame'>\n",
      "RangeIndex: 5000 entries, 0 to 4999\n",
      "Data columns (total 5 columns):\n",
      " #   Column             Non-Null Count  Dtype  \n",
      "---  ------             --------------  -----  \n",
      " 0   Пол                5000 non-null   int64  \n",
      " 1   Возраст            5000 non-null   float64\n",
      " 2   Зарплата           5000 non-null   float64\n",
      " 3   Члены семьи        5000 non-null   int64  \n",
      " 4   Страховые выплаты  5000 non-null   int64  \n",
      "dtypes: float64(2), int64(3)\n",
      "memory usage: 195.4 KB\n"
     ]
    }
   ],
   "source": [
    "#data.shape\n",
    "data.info()"
   ]
  },
  {
   "cell_type": "code",
   "execution_count": 98,
   "metadata": {},
   "outputs": [
    {
     "data": {
      "text/plain": [
       "<AxesSubplot:>"
      ]
     },
     "execution_count": 98,
     "metadata": {},
     "output_type": "execute_result"
    },
    {
     "data": {
      "image/png": "[encoded data removed]",
      "text/plain": [
       "<Figure size 640x480 with 2 Axes>"
      ]
     },
     "metadata": {},
     "output_type": "display_data"
    }
   ],
   "source": [
    "# проверим признаки на мультиколлинеарность\n",
    "sns.heatmap(data.corr(), annot = True, cmap=\"YlGnBu\")"
   ]
  },
  {
   "cell_type": "markdown",
   "metadata": {},
   "source": [
    "## Умножение матриц"
   ]
  },
  {
   "cell_type": "markdown",
   "metadata": {},
   "source": [
    "В этом задании вы можете записывать формулы в *Jupyter Notebook.*\n",
    "\n",
    "Чтобы записать формулу внутри текста, окружите её символами доллара \\\\$; если снаружи —  двойными символами \\\\$\\\\$. Эти формулы записываются на языке вёрстки *LaTeX.* \n",
    "\n",
    "Для примера мы записали формулы линейной регрессии. Можете их скопировать и отредактировать, чтобы решить задачу.\n",
    "\n",
    "Работать в *LaTeX* необязательно."
   ]
  },
  {
   "cell_type": "markdown",
   "metadata": {},
   "source": [
    "Обозначения:\n",
    "\n",
    "- $X$ — матрица признаков (нулевой столбец состоит из единиц)\n",
    "\n",
    "- $y$ — вектор целевого признака\n",
    "\n",
    "- $P$ — матрица, на которую умножаются признаки\n",
    "\n",
    "- $w$ — вектор весов линейной регрессии (нулевой элемент равен сдвигу)"
   ]
  },
  {
   "cell_type": "markdown",
   "metadata": {},
   "source": [
    "Предсказания:\n",
    "\n",
    "$$\n",
    "a = Xw\n",
    "$$\n",
    "\n",
    "Задача обучения:\n",
    "\n",
    "$$\n",
    "w = \\arg\\min_w MSE(Xw, y)\n",
    "$$\n",
    "\n",
    "Формула обучения:\n",
    "\n",
    "$$\n",
    "w = (X^T X)^{-1} X^T y\n",
    "$$"
   ]
  },
  {
   "cell_type": "markdown",
   "metadata": {},
   "source": [
    "**Задание:** Признаки умножают на обратимую матрицу. Изменится ли качество линейной регрессии?"
   ]
  },
  {
   "cell_type": "markdown",
   "metadata": {},
   "source": [
    "**Ответ:** не изменится\n",
    "\n",
    "___\n",
    "**Обоснование:**\n",
    "\n",
    "**Шаг 1:** Умножим матрицу $X$ во всех выражениях на обратимую матрицу $P$ \n",
    "\n",
    "Формула обучения примет вид:\n",
    "$$\n",
    "w_2 = ((XP)^T XP)^{-1} (XP)^T y\n",
    "$$\n",
    "\n",
    "Предсказания примут вид: \n",
    "$$\n",
    "a_2 = XPw_2 = XP ((XP)^T XP)^{-1} (XP)^T y\n",
    "$$"
   ]
  },
  {
   "cell_type": "code",
   "execution_count": 99,
   "metadata": {},
   "outputs": [],
   "source": [
    "#X = np.array([[1,2], [3,5], [13,3], [23,13]])\n",
    "#P = np.array([[32,13], [14,13]])\n",
    "#np.linalg.inv(P)\n",
    "#print('(X @ P).T:  \\n' , (X @ P).T)\n",
    "#print('P.T @ X.T:  \\n' , P.T @ X.T)\n",
    "#print('X.T @ X:  \\n' , X.T @ X)"
   ]
  },
  {
   "cell_type": "markdown",
   "metadata": {},
   "source": [
    "---\n",
    "**Шаг 1:**\n",
    "$$\n",
    "a_2 = XPw_2 = XP ((XP)^T XP)^{-1} (XP)^T y\n",
    "$$\n",
    "\n",
    "**Шаг 2:** Согласно свойству транспонированных матриц $(AB)^T=B^T A^T$ https://ru.wikipedia.org/wiki/Матрица_(математика)#Умножение_матриц\n",
    "$$\n",
    "XP ((XP)^T XP)^{-1} (XP)^T y = XP (P^T X^T XP)^{-1} P^T X^T y\n",
    "$$\n",
    "\n",
    "\n",
    "**Шаг 3:** Выражение $(P^T X^TX P)^{-1}$ содержит в скобках 3 квадратные матрицы $P^T$, $X^TX$, $P$. \n",
    "Можно применить следующий порядок преобразования $(ABС)^{-1} = ((AB)С)^{-1} = ((AB)С)^{-1} = С^{-1}(AB)^{-1} = С^{-1}B^{-1}A^{-1}$\n",
    "\n",
    "$$\n",
    "XP ((P^T) (X^TX) (P))^{-1}  P^T X^T  y = XP P^{-1} (X^TX)^{-1} (P^T)^{-1}  P^T X^T  y\n",
    "$$\n",
    "\n",
    "**Шаг 4:** Применим свойство единичных матриц $A^{-1} A = E$\n",
    "$$\n",
    "XP P^{-1} (X^TX)^{-1} (P^T)^{-1}  P^T X^T  y = X E (X^TX)^{-1} E X^T  y = X (X^TX)^{-1} X^T  y = Xw = a\n",
    "$$\n",
    "\n",
    "\n",
    "Тоесть умножение признаков на обратимую матрицу $P$ ведет к таким же результатам предсказаний, что и без умножения на $P$\n",
    "\n",
    "---"
   ]
  },
  {
   "cell_type": "markdown",
   "metadata": {},
   "source": [
    "## Алгоритм преобразования"
   ]
  },
  {
   "cell_type": "markdown",
   "metadata": {},
   "source": [
    "**Алгоритм**\n",
    "\n",
    "**Шаг 1:** Случайной генерацией создаем матрицу $P$ размерностью $n*n$, где $n$ - количество признаков. В нашем случае $n = 4$\n",
    "\n",
    "**Шаг 2:** Проверяем, обратима ли созданная матрица. Если необоратима - возвращаемся к Шагу 1\n",
    "\n",
    "**Шаг 3:** Проводим умножение матрицы с исходными данными $X$ на обратимую матрицу $P$, получаем преобразованную матрицу Z = X @ P\n",
    "\n",
    "Полученную матрицу Z уже можно использовать для целей машинного обучения. Реальные значения исходных данных будут зашифрованы."
   ]
  },
  {
   "cell_type": "markdown",
   "metadata": {},
   "source": [
    "**Обоснование**\n",
    "\n",
    "В рамках алгоритма мы гарантированно создаем обратимую матрицу P размерностью n, равное количеству признаков в матрице X.\n",
    "Как ранее было доказано, преобразование матрицы признаков умножением X @ P в новую матрицу никак не влияет на результаты предсказаний линейной модели."
   ]
  },
  {
   "cell_type": "markdown",
   "metadata": {},
   "source": [
    "## Проверка алгоритма"
   ]
  },
  {
   "cell_type": "code",
   "execution_count": 100,
   "metadata": {},
   "outputs": [
    {
     "name": "stdout",
     "output_type": "stream",
     "text": [
      "   Пол  Возраст  Зарплата  Члены семьи\n",
      "0    1     41.0   49600.0            1\n",
      "1    0     46.0   38000.0            1\n",
      "2    0     29.0   21000.0            0\n",
      "3    0     21.0   41700.0            2\n",
      "4    1     28.0   26100.0            0\n",
      "(5000, 4)\n"
     ]
    }
   ],
   "source": [
    "# разделим данные на обучающие и целевые признаки\n",
    "features_1 = data.drop(['Страховые выплаты'], axis=1) \n",
    "target = data['Страховые выплаты'] \n",
    "\n",
    "print(features_1.head())\n",
    "print(features_1.shape)"
   ]
  },
  {
   "cell_type": "code",
   "execution_count": 101,
   "metadata": {},
   "outputs": [
    {
     "name": "stdout",
     "output_type": "stream",
     "text": [
      "Метрика r2 для модели линейной регрессии необработанной выборки : 0.4249455028666802\n"
     ]
    }
   ],
   "source": [
    "# обучим модель на необработанных данных\n",
    "model_1 = LinearRegression()\n",
    "model_1.fit(features_1,target)\n",
    "\n",
    "# получим предсказания о оценим метрику r2\n",
    "predictions_1 = model_1.predict(features_1)\n",
    "score_1 = r2_score(target, predictions_1)\n",
    "print('Метрика r2 для модели линейной регрессии необработанной выборки :', score_1)"
   ]
  },
  {
   "cell_type": "code",
   "execution_count": 102,
   "metadata": {},
   "outputs": [
    {
     "name": "stdout",
     "output_type": "stream",
     "text": [
      "Создана обратимая матрица\n",
      "[[12 15  0  3]\n",
      " [ 3  7  9 19]\n",
      " [18  4  6 12]\n",
      " [ 1  6  7 14]]\n"
     ]
    }
   ],
   "source": [
    "np.random.seed(0) # устанавливаем генератор случайных чисел в исходное состояние\n",
    "\n",
    "# обработаем данные согласно алгоритму\n",
    "n = len(features_1.columns) # определим количество признаков n\n",
    "encoder = []\n",
    "\n",
    "while True:\n",
    "    # шаг 1 - создадим обратимую матрицу encoder размерностью n*n \n",
    "    encoder = np.array(np.random.randint(20, size=(n,n)))\n",
    "    try:\n",
    "        # шаг 2 - проверка матрицы на обратимость\n",
    "        np.linalg.inv(encoder) \n",
    "        break # ошибки нет - выходим из цикла\n",
    "    except:\n",
    "        pass # матрица encoder не имеет обратной -> ошибка -> не выходим из цикла\n",
    "\n",
    "print('Создана обратимая матрица')\n",
    "print(encoder)"
   ]
  },
  {
   "cell_type": "code",
   "execution_count": 103,
   "metadata": {},
   "outputs": [
    {
     "name": "stdout",
     "output_type": "stream",
     "text": [
      "          0         1         2         3\n",
      "0  892936.0  198708.0  297976.0  595996.0\n",
      "1  684139.0  152328.0  228421.0  456888.0\n",
      "2  378087.0   84203.0  126261.0  252551.0\n",
      "3  750665.0  166959.0  250403.0  500827.0\n",
      "4  469896.0  104611.0  156852.0  313735.0\n"
     ]
    }
   ],
   "source": [
    "# шаг 3 - создаим преобразованную матрицу с признаками путем перемножения матриц\n",
    "features_2 = features_1 @ encoder\n",
    "\n",
    "print(features_2.head())"
   ]
  },
  {
   "cell_type": "code",
   "execution_count": 104,
   "metadata": {},
   "outputs": [
    {
     "name": "stdout",
     "output_type": "stream",
     "text": [
      "Метрика r2 для модели линейной регрессии преобразованной выборки : 0.42494550286670074\n"
     ]
    }
   ],
   "source": [
    "# обучим модель на преобразованных данных\n",
    "model_2 = LinearRegression()\n",
    "model_2.fit(features_2,target)\n",
    "\n",
    "# получим предсказания о оценим метрику r2\n",
    "predictions_2 = model_2.predict(features_2)\n",
    "score_2 = r2_score(target, predictions_2)\n",
    "print('Метрика r2 для модели линейной регрессии преобразованной выборки :', score_2)"
   ]
  },
  {
   "cell_type": "markdown",
   "metadata": {},
   "source": [
    "---\n",
    "**Вывод**\n",
    "\n",
    "- Результат метрики r2 для необработанных данных  : 0.4249455028666801\n",
    "- Результат метрики r2 для преобразованнх данных : 0.4249455028667024\n",
    "\n",
    "Метрика идентична на 12ти знаках после запятой. Метод преобразования данных работает корректно. "
   ]
  },
  {
   "cell_type": "markdown",
   "metadata": {},
   "source": [
    "---\n",
    "## Общий вывод\n",
    "\n",
    "**Импорт и предобработка данных**\n",
    "- Данныке испортированы без проблем\n",
    "- В датасете нет пропусков, форматы данных по столбцам соответстуют содержанию\n",
    "- Проверка на мультиколлинеарность показала отсутствие критических показателей корреляции между признаками, дополнительных действий не требует\n",
    "\n",
    "**Алгоритм преобразования данных умножением на обратимую матрицу**\n",
    "- Проведена математическая проверка утверждения, что умножение признаков на обратимую матрицу не приведет к изменению результатов предсказаний линейной регрессии\n",
    "- Составлен алгоритм преобразования исходных данных\n",
    "- Алгоритм был протестирован и сравнены результаты работы модели линейной регрессии для обработанных и необработанных данных\n",
    "- Для сравнения примерена метрика r2\n",
    "- Необработанные и необработанные данные дали одинаковый результат метрики\n",
    "\n",
    "Вывод : Метод преобразования исходных данных умножением на обратимую матрицу не влияет на результаты предсказаний линейной регрессии\n"
   ]
  }
 ],
 "metadata": {
  "ExecuteTimeLog": [
   {
    "duration": 1593,
    "start_time": "2022-11-12T11:08:55.206Z"
   },
   {
    "duration": 117,
    "start_time": "2022-11-12T11:08:56.802Z"
   },
   {
    "duration": 17,
    "start_time": "2022-11-12T11:08:56.921Z"
   },
   {
    "duration": 3,
    "start_time": "2022-11-12T11:08:56.940Z"
   },
   {
    "duration": 8,
    "start_time": "2022-11-12T11:08:56.946Z"
   },
   {
    "duration": 26,
    "start_time": "2022-11-12T11:08:56.956Z"
   },
   {
    "duration": 98,
    "start_time": "2022-11-12T11:08:56.987Z"
   },
   {
    "duration": 101,
    "start_time": "2022-11-12T11:08:57.088Z"
   },
   {
    "duration": 99,
    "start_time": "2022-11-12T11:08:57.191Z"
   }
  ],
  "kernelspec": {
   "display_name": "Python 3 (ipykernel)",
   "language": "python",
   "name": "python3"
  },
  "language_info": {
   "codemirror_mode": {
    "name": "ipython",
    "version": 3
   },
   "file_extension": ".py",
   "mimetype": "text/x-python",
   "name": "python",
   "nbconvert_exporter": "python",
   "pygments_lexer": "ipython3",
   "version": "3.9.12"
  },
  "toc": {
   "base_numbering": 1,
   "nav_menu": {},
   "number_sections": true,
   "sideBar": true,
   "skip_h1_title": true,
   "title_cell": "Содержание",
   "title_sidebar": "Contents",
   "toc_cell": true,
   "toc_position": {},
   "toc_section_display": true,
   "toc_window_display": false
  }
 },
 "nbformat": 4,
 "nbformat_minor": 4
}
