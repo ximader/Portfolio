{
 "cells": [
  {
   "cell_type": "markdown",
   "metadata": {},
   "source": [
    "# Проект для «Викишоп» с BERT with CUDA"
   ]
  },
  {
   "cell_type": "markdown",
   "metadata": {
    "toc": true
   },
   "source": [
    "<h1>Содержание<span class=\"tocSkip\"></span></h1>\n",
    "<div class=\"toc\"><ul class=\"toc-item\"><li><ul class=\"toc-item\"><li><span><a href=\"#Подготовка\" data-toc-modified-id=\"Подготовка-1\"><span class=\"toc-item-num\">1&nbsp;&nbsp;</span>Подготовка</a></span></li><li><span><a href=\"#Обучение\" data-toc-modified-id=\"Обучение-2\"><span class=\"toc-item-num\">2&nbsp;&nbsp;</span>Обучение</a></span></li><li><span><a href=\"#Выводы\" data-toc-modified-id=\"Выводы-3\"><span class=\"toc-item-num\">3&nbsp;&nbsp;</span>Выводы</a></span></li><li><span><a href=\"#Чек-лист-проверки\" data-toc-modified-id=\"Чек-лист-проверки-4\"><span class=\"toc-item-num\">4&nbsp;&nbsp;</span>Чек-лист проверки</a></span></li></ul></div>"
   ]
  },
  {
   "cell_type": "markdown",
   "metadata": {},
   "source": [
    "## Подготовка"
   ]
  },
  {
   "cell_type": "markdown",
   "metadata": {},
   "source": [
    "**Подключение библиотек**"
   ]
  },
  {
   "cell_type": "code",
   "execution_count": 152,
   "metadata": {},
   "outputs": [],
   "source": [
    "import pandas as pd\n",
    "import numpy as np\n",
    "import torch\n",
    "import transformers \n",
    "import ast # для преобразования строк в списки при загрузке csv файла\n",
    "import os # для работы с файловой системой\n",
    "import re # regular expressions\n",
    "\n",
    "import timeit\n",
    "from tqdm import notebook # визуализация прогресса\n",
    "import lightgbm as lgb\n",
    "from catboost import CatBoostClassifier\n",
    "\n",
    "from torch import nn\n",
    "from torch.optim import SGD\n",
    "\n",
    "from sklearn.linear_model import LogisticRegression, RidgeClassifier\n",
    "from sklearn.tree import DecisionTreeClassifier\n",
    "from sklearn.ensemble import RandomForestClassifier\n",
    "from sklearn.model_selection import train_test_split, GridSearchCV, cross_val_score\n",
    "from sklearn.metrics import f1_score\n",
    "\n",
    "import warnings\n",
    "warnings.filterwarnings('ignore')"
   ]
  },
  {
   "cell_type": "markdown",
   "metadata": {},
   "source": [
    "---\n",
    "**Глобальные настройки**"
   ]
  },
  {
   "cell_type": "code",
   "execution_count": 2,
   "metadata": {},
   "outputs": [],
   "source": [
    "OUTPUT_FOLDER = 'output' # папка с калькулированными данными\n",
    "MAX_TOKENS = 512 # ограничение BERT на цепочку токенов 512\n",
    "BERT_BATCH_SIZE = 30  # размер батча для ембеддинга через BERT. Ограничил под видеопамять 6GB\n",
    "MAX_ROWS = 159292 # количество строк в выборке.   159292\n",
    "CUDA = torch.cuda.is_available() # используем ли расчеты на GPU. На MacOS не заработает."
   ]
  },
  {
   "cell_type": "code",
   "execution_count": 3,
   "metadata": {},
   "outputs": [
    {
     "name": "stdout",
     "output_type": "stream",
     "text": [
      "Directory  output  already exists\n"
     ]
    }
   ],
   "source": [
    "# Создадим директорию для сохранения промежуточных результатов.\n",
    "if not os.path.exists(OUTPUT_FOLDER):\n",
    "    os.mkdir(OUTPUT_FOLDER)\n",
    "    print(\"Directory \" , OUTPUT_FOLDER ,  \" Created \")\n",
    "else:    \n",
    "    print(\"Directory \" , OUTPUT_FOLDER ,  \" already exists\")"
   ]
  },
  {
   "cell_type": "markdown",
   "metadata": {},
   "source": [
    "---\n",
    "**Импорт данных**"
   ]
  },
  {
   "cell_type": "code",
   "execution_count": 4,
   "metadata": {},
   "outputs": [],
   "source": [
    "try:\n",
    "    data = pd.read_csv('toxic_comments.csv', index_col=[0])  # локальная версия\n",
    "except:\n",
    "    data = pd.read_csv('/datasets/toxic_comments.csv', index_col=[0])   # сетевая версия"
   ]
  },
  {
   "cell_type": "code",
   "execution_count": 5,
   "metadata": {},
   "outputs": [
    {
     "data": {
      "text/plain": [
       "text     0\n",
       "toxic    0\n",
       "dtype: int64"
      ]
     },
     "execution_count": 5,
     "metadata": {},
     "output_type": "execute_result"
    }
   ],
   "source": [
    "data.isna().sum()"
   ]
  },
  {
   "cell_type": "code",
   "execution_count": 6,
   "metadata": {},
   "outputs": [
    {
     "name": "stdout",
     "output_type": "stream",
     "text": [
      "Изначальная выгрузка: (159292, 2)\n",
      "После ограничения по MAX_ROWS: (159292, 2)\n"
     ]
    }
   ],
   "source": [
    "print('Изначальная выгрузка:', data.shape)\n",
    "data = data[:MAX_ROWS]\n",
    "print('После ограничения по MAX_ROWS:', data.shape)"
   ]
  },
  {
   "cell_type": "markdown",
   "metadata": {},
   "source": [
    "---\n",
    "**Очистка текста от спецсимволов**"
   ]
  },
  {
   "cell_type": "code",
   "execution_count": 7,
   "metadata": {},
   "outputs": [
    {
     "name": "stdout",
     "output_type": "stream",
     "text": [
      "                                                text  toxic\n",
      "0  Explanation\\nWhy the edits made under my usern...      0\n",
      "1  D'aww! He matches this background colour I'm s...      0\n",
      "2  Hey man, I'm really not trying to edit war. It...      0\n",
      "3  \"\\nMore\\nI can't make any real suggestions on ...      0\n",
      "4  You, sir, are my hero. Any chance you remember...      0\n",
      "                                                text  toxic\n",
      "0  Explanation\\nWhy the edits made under my usern...      0\n",
      "1  D'aww! He matches this background colour I'm s...      0\n",
      "2  Hey man, I'm really not trying to edit war. It...      0\n",
      "3  \"\\nMore\\nI can't make any real suggestions on ...      0\n",
      "4  You, sir, are my hero. Any chance you remember...      0\n"
     ]
    }
   ],
   "source": [
    "def clear_text(text):\n",
    "    text = re.sub(r'[^a-zA-Z\\'\\,\\.\\! ]', ' ', text)\n",
    "    text = text.split()\n",
    "    text = \" \".join(text)\n",
    "    return text\n",
    "\n",
    "print(data.head())\n",
    "#data['text'] = data['text'].apply(clear_text).str.lower()\n",
    "print(data.head())"
   ]
  },
  {
   "cell_type": "markdown",
   "metadata": {},
   "source": [
    "С очисткой BERT работает только хуже."
   ]
  },
  {
   "cell_type": "markdown",
   "metadata": {},
   "source": [
    "---\n",
    "**Инициализируем классы BERT**"
   ]
  },
  {
   "cell_type": "code",
   "execution_count": 8,
   "metadata": {},
   "outputs": [
    {
     "name": "stderr",
     "output_type": "stream",
     "text": [
      "Some weights of the model checkpoint at unitary/toxic-bert were not used when initializing BertModel: ['classifier.weight', 'classifier.bias']\n",
      "- This IS expected if you are initializing BertModel from the checkpoint of a model trained on another task or with another architecture (e.g. initializing a BertForSequenceClassification model from a BertForPreTraining model).\n",
      "- This IS NOT expected if you are initializing BertModel from the checkpoint of a model that you expect to be exactly identical (initializing a BertForSequenceClassification model from a BertForSequenceClassification model).\n"
     ]
    }
   ],
   "source": [
    "# инициализируем классы предобученной модели BERT\n",
    "#model_class, tokenizer_class, pretrained_weights = (transformers.DistilBertModel, transformers.DistilBertTokenizer, 'distilbert-base-uncased') \n",
    "model_class, tokenizer_class, pretrained_weights = (transformers.BertModel, transformers.BertTokenizer, 'unitary/toxic-bert') \n",
    "\n",
    "# токенизатор\n",
    "tokenizer = tokenizer_class.from_pretrained(pretrained_weights, do_lower_case=True)\n",
    "\n",
    "# предобученная модель BERT\n",
    "model = model_class.from_pretrained(pretrained_weights)\n",
    "\n",
    "# переключаем модель на GPU расчет. \n",
    "if CUDA:\n",
    "    model = model.cuda()"
   ]
  },
  {
   "cell_type": "markdown",
   "metadata": {},
   "source": [
    "---\n",
    "**Токенизация**"
   ]
  },
  {
   "cell_type": "code",
   "execution_count": 9,
   "metadata": {},
   "outputs": [
    {
     "name": "stdout",
     "output_type": "stream",
     "text": [
      "Токены загружены из \"output/tokens_159292.csv\" (88.98 Mb)\n",
      "type <class 'pandas.core.series.Series'>\n",
      "shape (159292,)\n",
      "----------\n",
      "Wall time: 27.4 s\n"
     ]
    }
   ],
   "source": [
    "%%time\n",
    "tokens_file_path = f\"{OUTPUT_FOLDER}/tokens_{MAX_ROWS}.csv\"\n",
    "\n",
    "try:\n",
    "    df = pd.read_csv(tokens_file_path, index_col=[0])['text'] # подгрузим ранее сгенерированные токены \n",
    "    tokenized = pd.Series([ast.literal_eval(row) for row in df.values]) # преобразуем в Series of List\n",
    "    print(f'Токены загружены из \"{tokens_file_path}\" ({round( os.path.getsize(tokens_file_path)/1024/1024 ,2)} Mb)')\n",
    "    \n",
    "except:\n",
    "    # сгенерируем токены, если не сохранены ранее сгенерированные\n",
    "    tokenized = data['text'].apply((lambda x: tokenizer.encode(x, add_special_tokens=True)))\n",
    "    tokenized.to_csv(tokens_file_path)\n",
    "    print(f'Токены сохранены как \"{tokens_file_path}\" ({round( os.path.getsize(tokens_file_path)/1024/1024 ,2)} Mb)')\n",
    "\n",
    "print(f'type {type(tokenized)}')\n",
    "print(f'shape {tokenized.shape}')\n",
    "print('-'*10)"
   ]
  },
  {
   "cell_type": "code",
   "execution_count": 10,
   "metadata": {},
   "outputs": [
    {
     "data": {
      "text/plain": [
       "<AxesSubplot:>"
      ]
     },
     "execution_count": 10,
     "metadata": {},
     "output_type": "execute_result"
    },
    {
     "data": {
      "image/png": "[encoded data removed]",
      "text/plain": [
       "<Figure size 640x480 with 1 Axes>"
      ]
     },
     "metadata": {},
     "output_type": "display_data"
    }
   ],
   "source": [
    "# посмотрим на распределение длин сообщений\n",
    "tokenized.apply((lambda x: len(x))).hist(bins=100, range=(0,512) )"
   ]
  },
  {
   "cell_type": "markdown",
   "metadata": {},
   "source": [
    "В некоторых случаях список токенов слов превышает установленный параметр MAX_TOKENS. Обрежем слишком длинные списки. Слишком короткие дополним нулевыми токенами до размера MAX_TOKENS."
   ]
  },
  {
   "cell_type": "code",
   "execution_count": 11,
   "metadata": {},
   "outputs": [],
   "source": [
    "# обрежем слишком длинные цепочки токенов\n",
    "padded = [i[:MAX_TOKENS-1] + [102] for i in tokenized]\n",
    "\n",
    "# дополним слишком короткие цепочки нулевыми токенами\n",
    "padded = np.array([i + [0]*(MAX_TOKENS-len(i)) for i in padded])"
   ]
  },
  {
   "cell_type": "code",
   "execution_count": 12,
   "metadata": {},
   "outputs": [],
   "source": [
    "# создадим маску для важных токенов\n",
    "attention_mask = np.where(padded != 0, 1, 0)"
   ]
  },
  {
   "cell_type": "markdown",
   "metadata": {},
   "source": [
    "---\n",
    "**Embedding предложений**"
   ]
  },
  {
   "cell_type": "code",
   "execution_count": 13,
   "metadata": {},
   "outputs": [
    {
     "data": {
      "application/vnd.jupyter.widget-view+json": {
       "model_id": "4ca84f8a42c149dcad4dd397e5f19c16",
       "version_major": 2,
       "version_minor": 0
      },
      "text/plain": [
       "  0%|          | 0/5310 [00:00<?, ?it/s]"
      ]
     },
     "metadata": {},
     "output_type": "display_data"
    }
   ],
   "source": [
    "embeddings = []\n",
    "    \n",
    "# генерация батчами в цикле\n",
    "for i in notebook.tqdm(range(padded.shape[0] // BERT_BATCH_SIZE + 1)): \n",
    "\n",
    "    file_path = f\"{OUTPUT_FOLDER}/embedding_{BERT_BATCH_SIZE}_{i:06d}.csv\"\n",
    "    \n",
    "    try:\n",
    "        # пробуем подгрузить файл по имени\n",
    "        result = np.array(pd.read_csv(file_path, index_col=[0]))\n",
    "        embeddings.append(result) \n",
    "        \n",
    "    except:\n",
    "        # файл не найден - вычисляем embedding для батча и сохраняем его в файл\n",
    "        \n",
    "        if CUDA:\n",
    "            # создаем тензоры входных данных и маски на GPU\n",
    "            batch = torch.LongTensor(padded[BERT_BATCH_SIZE*i:BERT_BATCH_SIZE*(i+1)]).cuda()\n",
    "            attention_mask_batch = torch.LongTensor(attention_mask[BERT_BATCH_SIZE*i:BERT_BATCH_SIZE*(i+1)]).cuda()\n",
    "        else:\n",
    "            # создаем тензоры входных данных и маски на CPU\n",
    "            batch = torch.LongTensor(padded[BERT_BATCH_SIZE*i:BERT_BATCH_SIZE*(i+1)])\n",
    "            attention_mask_batch = torch.LongTensor(attention_mask[BERT_BATCH_SIZE*i:BERT_BATCH_SIZE*(i+1)])\n",
    "\n",
    "        with torch.no_grad():\n",
    "            batch_embeddings = model(batch, attention_mask=attention_mask_batch)\n",
    "\n",
    "        # сохраним результат\n",
    "        result = batch_embeddings[0][:,0,:].cpu() # возврат результата из GPU Memory -> RAM\n",
    "        result = result.numpy()\n",
    "        pd.DataFrame(result).to_csv(file_path)\n",
    "        \n",
    "        # добавим результат батча к списку эмбеддингов\n",
    "        embeddings.append(result) \n"
   ]
  },
  {
   "cell_type": "markdown",
   "metadata": {},
   "source": [
    "**Промежуточные выводы:**\n",
    "1. импорт данных прошел без проблем\n",
    "2. была развернута предварительно обученная модель `unitary/toxic-bert`\n",
    "3. ввиду длительного расчета моделью BERT и случающихся ошибок с перезагрузкой Kernel, были осуществлены следующие шаги:\n",
    "    - создана папка и механизм сохранения в нее промежуточных данных токенизации и эмбеддинга\n",
    "    - перед запуском просчета токенизации и эмбеддинга проводится проверка наличия в папке ранее полученных результатов\n",
    "    - непосредственно запуск расчетов производится только при отсутствии ранее полученных результатов\n",
    "4. для значительного ускорения расчетов применен механизм вычислений на видеокарте (CUDA)\n",
    "    - в начале работы проверяется доступность CUDA командой torch.cuda.is_available()\n",
    "    - если CUDA активна, все последующий действия с BERT (создание модели, входящих тензоров и получение результата) проводятся на GPU \n",
    "    - итоговый прирост скорости более, чем в 40 раз (**20+ часов** на `CPU AMD Ryzen 5 2600 6 Core` против **0.5 часа** на GPU `Geforce RTX 2060`)\n",
    "5. токенизация:\n",
    "    - были выявлены слишком длинные цепочки токенов, более 512 в ряд. В таких случаях они обрезались до 511 с обязательным добавлением в конце токена [102] \n",
    "    - для цепочек токенов < 512 недостающие токены заполнены [0]\n",
    "6. эмбеддинг:\n",
    "    - запускаем небольшими батчами\n",
    "    - для каждого батча создается тензор входящих данных для расчета и маска для важных токенов\n",
    "    - пересчет батчей проводится на CPU / GPU в зависимости от конфигурации устройства\n",
    "    - результаты пересчета сохраняются в csv файл формата `embedding_{размер_батча}_{номер_батча}.csv`\n",
    "    - суммарный размер всех полученных файлов ~ 1.48 Gb"
   ]
  },
  {
   "cell_type": "markdown",
   "metadata": {},
   "source": [
    "## Обучение"
   ]
  },
  {
   "cell_type": "markdown",
   "metadata": {},
   "source": [
    "**Подготовка обучающей и тестовой выборок**"
   ]
  },
  {
   "cell_type": "code",
   "execution_count": 14,
   "metadata": {
    "tags": []
   },
   "outputs": [],
   "source": [
    "# подготовим выборки признаков и целевого признака\n",
    "target = data['toxic'][:MAX_ROWS]\n",
    "features = pd.DataFrame(np.concatenate(embeddings), index = target.index)"
   ]
  },
  {
   "cell_type": "code",
   "execution_count": 15,
   "metadata": {},
   "outputs": [
    {
     "name": "stdout",
     "output_type": "stream",
     "text": [
      "features shape (159292, 768)\n",
      "target shape (159292,)\n"
     ]
    }
   ],
   "source": [
    "print('features shape', features.shape)\n",
    "print('target shape', target.shape)"
   ]
  },
  {
   "cell_type": "code",
   "execution_count": 16,
   "metadata": {},
   "outputs": [],
   "source": [
    "# разделение на обучающую и тестовую выборку\n",
    "features_train, features_test, target_train, target_test = train_test_split(features, \n",
    "                                                                            target, \n",
    "                                                                            test_size=0.1, \n",
    "                                                                            random_state=0 , \n",
    "                                                                            stratify=target )"
   ]
  },
  {
   "cell_type": "code",
   "execution_count": 17,
   "metadata": {},
   "outputs": [
    {
     "data": {
      "text/plain": [
       "<AxesSubplot:>"
      ]
     },
     "execution_count": 17,
     "metadata": {},
     "output_type": "execute_result"
    },
    {
     "data": {
      "image/png": "[encoded data removed]",
      "text/plain": [
       "<Figure size 640x480 with 1 Axes>"
      ]
     },
     "metadata": {},
     "output_type": "display_data"
    }
   ],
   "source": [
    "# проверим баланс классов в тренировочной выборке\n",
    "target_train.hist()"
   ]
  },
  {
   "cell_type": "code",
   "execution_count": 18,
   "metadata": {},
   "outputs": [],
   "source": [
    "# баланс смещен в сторону отсутствия токсичности в комментариях\n",
    "# сбалансируем классы\n",
    "from sklearn.utils import shuffle\n",
    "\n",
    "def upsample(features, target, repeat):\n",
    "    features_zeros = features[target == 0]\n",
    "    features_ones = features[target == 1]\n",
    "    target_zeros = target[target == 0]\n",
    "    target_ones = target[target == 1]\n",
    "\n",
    "    features_upsampled = pd.concat([features_zeros] + [features_ones] * repeat)\n",
    "    target_upsampled = pd.concat([target_zeros] + [target_ones] * repeat)\n",
    "    \n",
    "    features_upsampled, target_upsampled = shuffle(\n",
    "        features_upsampled, target_upsampled, random_state=12345)\n",
    "    \n",
    "    return features_upsampled, target_upsampled\n",
    "\n",
    "features_train, target_train = upsample(features_train, target_train, 8)"
   ]
  },
  {
   "cell_type": "markdown",
   "metadata": {},
   "source": [
    "---\n",
    "**Обучение нескольких разных моделей классификации**"
   ]
  },
  {
   "cell_type": "code",
   "execution_count": 19,
   "metadata": {},
   "outputs": [],
   "source": [
    "models = []"
   ]
  },
  {
   "cell_type": "code",
   "execution_count": 30,
   "metadata": {},
   "outputs": [],
   "source": [
    "def remember_model(model, best_params, score_train):\n",
    "    print('-'*50)\n",
    "    print('Model:', type(model))\n",
    "    print('\\nF1 train: %.4f'% score_train, ' Best Params : ', str(best_params))\n",
    "    print()\n",
    "    models.append([model, type(model), best_params, score_train])  "
   ]
  },
  {
   "cell_type": "markdown",
   "metadata": {},
   "source": [
    "<font color='darkblue' style=\"font-weight:bold\">CatBoostClassifier</font>"
   ]
  },
  {
   "cell_type": "code",
   "execution_count": 21,
   "metadata": {
    "scrolled": true,
    "tags": []
   },
   "outputs": [
    {
     "name": "stdout",
     "output_type": "stream",
     "text": [
      "Fitting 5 folds for each of 30 candidates, totalling 150 fits\n",
      "0:\tlearn: 0.4635874\ttotal: 210ms\tremaining: 41.8s\n",
      "1:\tlearn: 0.3189359\ttotal: 327ms\tremaining: 32.4s\n",
      "2:\tlearn: 0.2247500\ttotal: 446ms\tremaining: 29.3s\n",
      "3:\tlearn: 0.1653022\ttotal: 565ms\tremaining: 27.7s\n",
      "4:\tlearn: 0.1261982\ttotal: 681ms\tremaining: 26.6s\n",
      "5:\tlearn: 0.1008546\ttotal: 793ms\tremaining: 25.6s\n",
      "6:\tlearn: 0.0839351\ttotal: 913ms\tremaining: 25.2s\n",
      "7:\tlearn: 0.0720883\ttotal: 1.03s\tremaining: 24.6s\n",
      "8:\tlearn: 0.0633999\ttotal: 1.14s\tremaining: 24.1s\n",
      "9:\tlearn: 0.0572397\ttotal: 1.24s\tremaining: 23.6s\n",
      "10:\tlearn: 0.0531891\ttotal: 1.34s\tremaining: 23.1s\n",
      "11:\tlearn: 0.0499588\ttotal: 1.45s\tremaining: 22.7s\n",
      "12:\tlearn: 0.0475681\ttotal: 1.55s\tremaining: 22.4s\n",
      "13:\tlearn: 0.0455733\ttotal: 1.65s\tremaining: 22s\n",
      "14:\tlearn: 0.0441830\ttotal: 1.75s\tremaining: 21.6s\n",
      "15:\tlearn: 0.0430881\ttotal: 1.85s\tremaining: 21.3s\n",
      "16:\tlearn: 0.0419986\ttotal: 1.95s\tremaining: 21s\n",
      "17:\tlearn: 0.0409576\ttotal: 2.05s\tremaining: 20.8s\n",
      "18:\tlearn: 0.0401467\ttotal: 2.15s\tremaining: 20.5s\n",
      "19:\tlearn: 0.0395254\ttotal: 2.25s\tremaining: 20.2s\n",
      "20:\tlearn: 0.0385789\ttotal: 2.36s\tremaining: 20.1s\n",
      "21:\tlearn: 0.0380230\ttotal: 2.45s\tremaining: 19.8s\n",
      "22:\tlearn: 0.0370135\ttotal: 2.57s\tremaining: 19.8s\n",
      "23:\tlearn: 0.0363854\ttotal: 2.67s\tremaining: 19.6s\n",
      "24:\tlearn: 0.0358592\ttotal: 2.77s\tremaining: 19.4s\n",
      "25:\tlearn: 0.0353346\ttotal: 2.87s\tremaining: 19.2s\n",
      "26:\tlearn: 0.0345900\ttotal: 2.99s\tremaining: 19.2s\n",
      "27:\tlearn: 0.0340169\ttotal: 3.11s\tremaining: 19.1s\n",
      "28:\tlearn: 0.0335845\ttotal: 3.21s\tremaining: 18.9s\n",
      "29:\tlearn: 0.0331767\ttotal: 3.31s\tremaining: 18.7s\n",
      "30:\tlearn: 0.0326632\ttotal: 3.41s\tremaining: 18.6s\n",
      "31:\tlearn: 0.0322364\ttotal: 3.51s\tremaining: 18.4s\n",
      "32:\tlearn: 0.0318174\ttotal: 3.61s\tremaining: 18.3s\n",
      "33:\tlearn: 0.0313358\ttotal: 3.73s\tremaining: 18.2s\n",
      "34:\tlearn: 0.0311696\ttotal: 3.81s\tremaining: 18s\n",
      "35:\tlearn: 0.0308065\ttotal: 3.91s\tremaining: 17.8s\n",
      "36:\tlearn: 0.0302998\ttotal: 4.02s\tremaining: 17.7s\n",
      "37:\tlearn: 0.0300256\ttotal: 4.12s\tremaining: 17.6s\n",
      "38:\tlearn: 0.0296821\ttotal: 4.22s\tremaining: 17.4s\n",
      "39:\tlearn: 0.0293794\ttotal: 4.32s\tremaining: 17.3s\n",
      "40:\tlearn: 0.0289441\ttotal: 4.43s\tremaining: 17.2s\n",
      "41:\tlearn: 0.0287878\ttotal: 4.51s\tremaining: 17s\n",
      "42:\tlearn: 0.0282418\ttotal: 4.64s\tremaining: 16.9s\n",
      "43:\tlearn: 0.0280354\ttotal: 4.73s\tremaining: 16.8s\n",
      "44:\tlearn: 0.0278009\ttotal: 4.82s\tremaining: 16.6s\n",
      "45:\tlearn: 0.0274262\ttotal: 4.93s\tremaining: 16.5s\n",
      "46:\tlearn: 0.0271108\ttotal: 5.03s\tremaining: 16.4s\n",
      "47:\tlearn: 0.0268443\ttotal: 5.13s\tremaining: 16.2s\n",
      "48:\tlearn: 0.0264646\ttotal: 5.23s\tremaining: 16.1s\n",
      "49:\tlearn: 0.0262052\ttotal: 5.33s\tremaining: 16s\n",
      "50:\tlearn: 0.0259907\ttotal: 5.43s\tremaining: 15.9s\n",
      "51:\tlearn: 0.0255793\ttotal: 5.54s\tremaining: 15.8s\n",
      "52:\tlearn: 0.0254104\ttotal: 5.63s\tremaining: 15.6s\n",
      "53:\tlearn: 0.0252283\ttotal: 5.73s\tremaining: 15.5s\n",
      "54:\tlearn: 0.0249795\ttotal: 5.83s\tremaining: 15.4s\n",
      "55:\tlearn: 0.0246270\ttotal: 5.94s\tremaining: 15.3s\n",
      "56:\tlearn: 0.0244346\ttotal: 6.04s\tremaining: 15.2s\n",
      "57:\tlearn: 0.0242771\ttotal: 6.13s\tremaining: 15s\n",
      "58:\tlearn: 0.0241670\ttotal: 6.22s\tremaining: 14.9s\n",
      "59:\tlearn: 0.0240406\ttotal: 6.32s\tremaining: 14.7s\n",
      "60:\tlearn: 0.0239139\ttotal: 6.4s\tremaining: 14.6s\n",
      "61:\tlearn: 0.0237800\ttotal: 6.5s\tremaining: 14.5s\n",
      "62:\tlearn: 0.0236390\ttotal: 6.59s\tremaining: 14.3s\n",
      "63:\tlearn: 0.0234559\ttotal: 6.68s\tremaining: 14.2s\n",
      "64:\tlearn: 0.0232796\ttotal: 6.78s\tremaining: 14.1s\n",
      "65:\tlearn: 0.0231697\ttotal: 6.87s\tremaining: 13.9s\n",
      "66:\tlearn: 0.0229989\ttotal: 6.97s\tremaining: 13.8s\n",
      "67:\tlearn: 0.0229064\ttotal: 7.05s\tremaining: 13.7s\n",
      "68:\tlearn: 0.0227918\ttotal: 7.15s\tremaining: 13.6s\n",
      "69:\tlearn: 0.0226947\ttotal: 7.23s\tremaining: 13.4s\n",
      "70:\tlearn: 0.0223752\ttotal: 7.34s\tremaining: 13.3s\n",
      "71:\tlearn: 0.0222544\ttotal: 7.43s\tremaining: 13.2s\n",
      "72:\tlearn: 0.0221332\ttotal: 7.52s\tremaining: 13.1s\n",
      "73:\tlearn: 0.0219854\ttotal: 7.61s\tremaining: 13s\n",
      "74:\tlearn: 0.0218259\ttotal: 7.71s\tremaining: 12.8s\n",
      "75:\tlearn: 0.0216962\ttotal: 7.8s\tremaining: 12.7s\n",
      "76:\tlearn: 0.0216189\ttotal: 7.89s\tremaining: 12.6s\n",
      "77:\tlearn: 0.0215082\ttotal: 7.98s\tremaining: 12.5s\n",
      "78:\tlearn: 0.0213238\ttotal: 8.07s\tremaining: 12.4s\n",
      "79:\tlearn: 0.0212262\ttotal: 8.16s\tremaining: 12.2s\n",
      "80:\tlearn: 0.0211067\ttotal: 8.26s\tremaining: 12.1s\n",
      "81:\tlearn: 0.0210101\ttotal: 8.35s\tremaining: 12s\n",
      "82:\tlearn: 0.0207711\ttotal: 8.45s\tremaining: 11.9s\n",
      "83:\tlearn: 0.0206941\ttotal: 8.54s\tremaining: 11.8s\n",
      "84:\tlearn: 0.0206046\ttotal: 8.62s\tremaining: 11.7s\n",
      "85:\tlearn: 0.0204987\ttotal: 8.71s\tremaining: 11.5s\n",
      "86:\tlearn: 0.0202881\ttotal: 8.81s\tremaining: 11.4s\n",
      "87:\tlearn: 0.0202016\ttotal: 8.9s\tremaining: 11.3s\n",
      "88:\tlearn: 0.0201221\ttotal: 8.99s\tremaining: 11.2s\n",
      "89:\tlearn: 0.0200224\ttotal: 9.08s\tremaining: 11.1s\n",
      "90:\tlearn: 0.0199116\ttotal: 9.17s\tremaining: 11s\n",
      "91:\tlearn: 0.0197614\ttotal: 9.26s\tremaining: 10.9s\n",
      "92:\tlearn: 0.0196634\ttotal: 9.35s\tremaining: 10.8s\n",
      "93:\tlearn: 0.0195646\ttotal: 9.44s\tremaining: 10.6s\n",
      "94:\tlearn: 0.0194830\ttotal: 9.53s\tremaining: 10.5s\n",
      "95:\tlearn: 0.0194124\ttotal: 9.62s\tremaining: 10.4s\n",
      "96:\tlearn: 0.0193385\ttotal: 9.71s\tremaining: 10.3s\n",
      "97:\tlearn: 0.0192449\ttotal: 9.8s\tremaining: 10.2s\n",
      "98:\tlearn: 0.0191226\ttotal: 9.89s\tremaining: 10.1s\n",
      "99:\tlearn: 0.0189791\ttotal: 9.98s\tremaining: 9.98s\n",
      "100:\tlearn: 0.0188263\ttotal: 10.1s\tremaining: 9.87s\n",
      "101:\tlearn: 0.0186770\ttotal: 10.2s\tremaining: 9.77s\n",
      "102:\tlearn: 0.0185858\ttotal: 10.3s\tremaining: 9.66s\n",
      "103:\tlearn: 0.0185125\ttotal: 10.3s\tremaining: 9.55s\n",
      "104:\tlearn: 0.0184633\ttotal: 10.4s\tremaining: 9.45s\n",
      "105:\tlearn: 0.0182897\ttotal: 10.5s\tremaining: 9.35s\n",
      "106:\tlearn: 0.0181953\ttotal: 10.6s\tremaining: 9.24s\n",
      "107:\tlearn: 0.0180862\ttotal: 10.7s\tremaining: 9.13s\n",
      "108:\tlearn: 0.0179695\ttotal: 10.8s\tremaining: 9.03s\n",
      "109:\tlearn: 0.0178715\ttotal: 10.9s\tremaining: 8.93s\n",
      "110:\tlearn: 0.0177927\ttotal: 11s\tremaining: 8.82s\n",
      "111:\tlearn: 0.0176200\ttotal: 11.1s\tremaining: 8.73s\n",
      "112:\tlearn: 0.0175313\ttotal: 11.2s\tremaining: 8.62s\n",
      "113:\tlearn: 0.0174434\ttotal: 11.3s\tremaining: 8.51s\n",
      "114:\tlearn: 0.0173824\ttotal: 11.4s\tremaining: 8.4s\n",
      "115:\tlearn: 0.0172993\ttotal: 11.5s\tremaining: 8.3s\n",
      "116:\tlearn: 0.0171154\ttotal: 11.6s\tremaining: 8.21s\n",
      "117:\tlearn: 0.0170348\ttotal: 11.7s\tremaining: 8.1s\n",
      "118:\tlearn: 0.0168935\ttotal: 11.7s\tremaining: 8s\n",
      "119:\tlearn: 0.0168427\ttotal: 11.8s\tremaining: 7.89s\n",
      "120:\tlearn: 0.0167681\ttotal: 11.9s\tremaining: 7.78s\n",
      "121:\tlearn: 0.0166739\ttotal: 12s\tremaining: 7.68s\n",
      "122:\tlearn: 0.0166092\ttotal: 12.1s\tremaining: 7.58s\n",
      "123:\tlearn: 0.0165545\ttotal: 12.2s\tremaining: 7.47s\n",
      "124:\tlearn: 0.0164720\ttotal: 12.3s\tremaining: 7.37s\n",
      "125:\tlearn: 0.0163154\ttotal: 12.4s\tremaining: 7.27s\n",
      "126:\tlearn: 0.0162475\ttotal: 12.5s\tremaining: 7.17s\n",
      "127:\tlearn: 0.0161826\ttotal: 12.6s\tremaining: 7.07s\n",
      "128:\tlearn: 0.0160677\ttotal: 12.7s\tremaining: 6.97s\n",
      "129:\tlearn: 0.0159991\ttotal: 12.7s\tremaining: 6.86s\n",
      "130:\tlearn: 0.0158661\ttotal: 12.8s\tremaining: 6.76s\n",
      "131:\tlearn: 0.0157732\ttotal: 12.9s\tremaining: 6.67s\n",
      "132:\tlearn: 0.0157075\ttotal: 13s\tremaining: 6.56s\n",
      "133:\tlearn: 0.0156482\ttotal: 13.1s\tremaining: 6.46s\n",
      "134:\tlearn: 0.0155510\ttotal: 13.2s\tremaining: 6.36s\n",
      "135:\tlearn: 0.0154750\ttotal: 13.3s\tremaining: 6.26s\n",
      "136:\tlearn: 0.0154078\ttotal: 13.4s\tremaining: 6.16s\n",
      "137:\tlearn: 0.0153260\ttotal: 13.5s\tremaining: 6.05s\n",
      "138:\tlearn: 0.0152828\ttotal: 13.6s\tremaining: 5.95s\n",
      "139:\tlearn: 0.0152295\ttotal: 13.6s\tremaining: 5.85s\n",
      "140:\tlearn: 0.0151334\ttotal: 13.7s\tremaining: 5.75s\n",
      "141:\tlearn: 0.0150184\ttotal: 13.8s\tremaining: 5.65s\n",
      "142:\tlearn: 0.0148991\ttotal: 13.9s\tremaining: 5.55s\n",
      "143:\tlearn: 0.0148124\ttotal: 14s\tremaining: 5.46s\n",
      "144:\tlearn: 0.0147364\ttotal: 14.1s\tremaining: 5.36s\n",
      "145:\tlearn: 0.0146376\ttotal: 14.2s\tremaining: 5.26s\n",
      "146:\tlearn: 0.0145652\ttotal: 14.3s\tremaining: 5.16s\n",
      "147:\tlearn: 0.0144784\ttotal: 14.4s\tremaining: 5.06s\n",
      "148:\tlearn: 0.0144091\ttotal: 14.5s\tremaining: 4.96s\n",
      "149:\tlearn: 0.0143519\ttotal: 14.6s\tremaining: 4.86s\n",
      "150:\tlearn: 0.0142763\ttotal: 14.7s\tremaining: 4.76s\n",
      "151:\tlearn: 0.0141518\ttotal: 14.8s\tremaining: 4.66s\n",
      "152:\tlearn: 0.0140679\ttotal: 14.9s\tremaining: 4.57s\n",
      "153:\tlearn: 0.0139982\ttotal: 15s\tremaining: 4.47s\n",
      "154:\tlearn: 0.0139218\ttotal: 15s\tremaining: 4.37s\n",
      "155:\tlearn: 0.0138793\ttotal: 15.1s\tremaining: 4.27s\n",
      "156:\tlearn: 0.0137628\ttotal: 15.2s\tremaining: 4.17s\n",
      "157:\tlearn: 0.0136909\ttotal: 15.3s\tremaining: 4.07s\n",
      "158:\tlearn: 0.0136305\ttotal: 15.4s\tremaining: 3.97s\n",
      "159:\tlearn: 0.0135262\ttotal: 15.5s\tremaining: 3.88s\n",
      "160:\tlearn: 0.0134517\ttotal: 15.6s\tremaining: 3.78s\n",
      "161:\tlearn: 0.0133737\ttotal: 15.7s\tremaining: 3.68s\n",
      "162:\tlearn: 0.0132881\ttotal: 15.8s\tremaining: 3.58s\n",
      "163:\tlearn: 0.0132027\ttotal: 15.9s\tremaining: 3.48s\n",
      "164:\tlearn: 0.0130846\ttotal: 16s\tremaining: 3.39s\n",
      "165:\tlearn: 0.0130355\ttotal: 16.1s\tremaining: 3.29s\n",
      "166:\tlearn: 0.0129679\ttotal: 16.2s\tremaining: 3.19s\n",
      "167:\tlearn: 0.0128600\ttotal: 16.3s\tremaining: 3.1s\n",
      "168:\tlearn: 0.0127970\ttotal: 16.3s\tremaining: 3s\n",
      "169:\tlearn: 0.0127516\ttotal: 16.4s\tremaining: 2.9s\n",
      "170:\tlearn: 0.0126785\ttotal: 16.5s\tremaining: 2.8s\n",
      "171:\tlearn: 0.0126181\ttotal: 16.6s\tremaining: 2.71s\n",
      "172:\tlearn: 0.0125340\ttotal: 16.7s\tremaining: 2.61s\n",
      "173:\tlearn: 0.0124542\ttotal: 16.8s\tremaining: 2.51s\n",
      "174:\tlearn: 0.0123822\ttotal: 16.9s\tremaining: 2.42s\n",
      "175:\tlearn: 0.0123451\ttotal: 17s\tremaining: 2.32s\n",
      "176:\tlearn: 0.0122830\ttotal: 17.1s\tremaining: 2.22s\n",
      "177:\tlearn: 0.0122366\ttotal: 17.2s\tremaining: 2.12s\n",
      "178:\tlearn: 0.0121939\ttotal: 17.3s\tremaining: 2.02s\n",
      "179:\tlearn: 0.0121372\ttotal: 17.4s\tremaining: 1.93s\n",
      "180:\tlearn: 0.0120876\ttotal: 17.4s\tremaining: 1.83s\n",
      "181:\tlearn: 0.0120352\ttotal: 17.5s\tremaining: 1.73s\n",
      "182:\tlearn: 0.0119998\ttotal: 17.6s\tremaining: 1.64s\n",
      "183:\tlearn: 0.0118858\ttotal: 17.7s\tremaining: 1.54s\n",
      "184:\tlearn: 0.0118547\ttotal: 17.8s\tremaining: 1.44s\n",
      "185:\tlearn: 0.0118147\ttotal: 17.9s\tremaining: 1.35s\n",
      "186:\tlearn: 0.0117656\ttotal: 18s\tremaining: 1.25s\n",
      "187:\tlearn: 0.0117133\ttotal: 18.1s\tremaining: 1.15s\n",
      "188:\tlearn: 0.0116531\ttotal: 18.2s\tremaining: 1.06s\n",
      "189:\tlearn: 0.0116148\ttotal: 18.3s\tremaining: 961ms\n",
      "190:\tlearn: 0.0115683\ttotal: 18.3s\tremaining: 864ms\n",
      "191:\tlearn: 0.0114873\ttotal: 18.4s\tremaining: 769ms\n",
      "192:\tlearn: 0.0114014\ttotal: 18.5s\tremaining: 672ms\n",
      "193:\tlearn: 0.0113465\ttotal: 18.6s\tremaining: 576ms\n",
      "194:\tlearn: 0.0113151\ttotal: 18.7s\tremaining: 480ms\n",
      "195:\tlearn: 0.0112388\ttotal: 18.8s\tremaining: 384ms\n",
      "196:\tlearn: 0.0111439\ttotal: 18.9s\tremaining: 288ms\n",
      "197:\tlearn: 0.0111114\ttotal: 19s\tremaining: 192ms\n",
      "198:\tlearn: 0.0110652\ttotal: 19.1s\tremaining: 95.9ms\n",
      "199:\tlearn: 0.0109946\ttotal: 19.2s\tremaining: 0us\n",
      "--------------------------------------------------\n",
      "Model: <class 'catboost.core.CatBoostClassifier'>\n",
      "\n",
      "F1 train: 0.9932  Best Params :  {'depth': 10, 'l2_leaf_reg': 1, 'learning_rate': 0.1}\n",
      "\n"
     ]
    }
   ],
   "source": [
    "%%time\n",
    "# проведен GridSearchCV с перебором параметров\n",
    "# param_grid = {'learning_rate': [0.03, 0.1],'depth': [4, 6, 10],'l2_leaf_reg': [1, 3, 5, 7, 9]}\n",
    "# F1 train: 0.9932  Best Params :  {'depth': 10, 'l2_leaf_reg': 1, 'learning_rate': 0.1}\n",
    "# оставлен лучший вариант для ускорения пересчетов\n",
    "grid = GridSearchCV(CatBoostClassifier(iterations=200,random_seed=0, task_type=\"GPU\", devices='0'), \n",
    "                    param_grid = {'learning_rate': [0.1],'depth': [10],'l2_leaf_reg': [1]},\n",
    "                    cv = 5,\n",
    "                    scoring = 'f1',\n",
    "                    verbose=5,\n",
    "                    n_jobs=2)\n",
    "\n",
    "grid.fit(features_train, target_train)\n",
    "\n",
    "remember_model(grid.best_estimator_, grid.best_params_, grid.best_score_)"
   ]
  },
  {
   "cell_type": "markdown",
   "metadata": {},
   "source": [
    "<font color='darkblue' style=\"font-weight:bold\">LogisticRegression</font>"
   ]
  },
  {
   "cell_type": "code",
   "execution_count": 31,
   "metadata": {},
   "outputs": [
    {
     "name": "stdout",
     "output_type": "stream",
     "text": [
      "Fitting 5 folds for each of 1 candidates, totalling 5 fits\n",
      "--------------------------------------------------\n",
      "Model: <class 'sklearn.linear_model._logistic.LogisticRegression'>\n",
      "\n",
      "F1 train: 0.9844  Best Params :  {'C': 1.0}\n",
      "\n",
      "Wall time: 1min 19s\n"
     ]
    }
   ],
   "source": [
    "%%time\n",
    "grid = GridSearchCV(LogisticRegression(), \n",
    "                    param_grid = {'C': [1.0]},\n",
    "                    cv = 5,\n",
    "                    scoring = 'f1',\n",
    "                    verbose=1,\n",
    "                    n_jobs=2)\n",
    "\n",
    "grid.fit(features_train, target_train)\n",
    "\n",
    "remember_model(grid.best_estimator_, grid.best_params_, grid.best_score_)"
   ]
  },
  {
   "cell_type": "markdown",
   "metadata": {},
   "source": [
    "<font color='darkblue' style=\"font-weight:bold\">RidgeClassifier</font>"
   ]
  },
  {
   "cell_type": "code",
   "execution_count": 32,
   "metadata": {},
   "outputs": [
    {
     "name": "stdout",
     "output_type": "stream",
     "text": [
      "Fitting 5 folds for each of 1 candidates, totalling 5 fits\n",
      "--------------------------------------------------\n",
      "Model: <class 'sklearn.linear_model._ridge.RidgeClassifier'>\n",
      "\n",
      "F1 train: 0.9827  Best Params :  {'alpha': 1.0}\n",
      "\n",
      "Wall time: 32.3 s\n"
     ]
    }
   ],
   "source": [
    "%%time\n",
    "grid = GridSearchCV(RidgeClassifier(), \n",
    "                    param_grid = {'alpha': [1.0]},\n",
    "                    cv = 5,\n",
    "                    scoring = 'f1',\n",
    "                    verbose=1,\n",
    "                    n_jobs=2)\n",
    "\n",
    "grid.fit(features_train, target_train)\n",
    "\n",
    "remember_model(grid.best_estimator_, grid.best_params_, grid.best_score_)"
   ]
  },
  {
   "cell_type": "markdown",
   "metadata": {},
   "source": [
    "<font color='darkblue' style=\"font-weight:bold\">DecisionTreeClassifier</font>"
   ]
  },
  {
   "cell_type": "code",
   "execution_count": 33,
   "metadata": {},
   "outputs": [
    {
     "name": "stdout",
     "output_type": "stream",
     "text": [
      "Fitting 5 folds for each of 3 candidates, totalling 15 fits\n",
      "--------------------------------------------------\n",
      "Model: <class 'sklearn.tree._classes.DecisionTreeClassifier'>\n",
      "\n",
      "F1 train: 0.9885  Best Params :  {'max_depth': 10}\n",
      "\n",
      "Wall time: 8min 14s\n"
     ]
    }
   ],
   "source": [
    "%%time\n",
    "# проведен GridSearchCV с перебором параметров\n",
    "# param_grid = {'max_depth': [2,5,10]}\n",
    "# F1 train: 0.9885  Best Params :  {'max_depth': 10}\n",
    "# оставлен лучший вариант для ускорения пересчетов\n",
    "grid = GridSearchCV(DecisionTreeClassifier(random_state=0), \n",
    "                    param_grid = {'max_depth': [10]},\n",
    "                    cv = 5,\n",
    "                    scoring = 'f1',\n",
    "                    verbose=5,\n",
    "                    n_jobs=6)\n",
    "\n",
    "grid.fit(features_train, target_train)\n",
    "\n",
    "remember_model(grid.best_estimator_, grid.best_params_, grid.best_score_)"
   ]
  },
  {
   "cell_type": "markdown",
   "metadata": {},
   "source": [
    "<font color='darkblue' style=\"font-weight:bold\">RandomForestClassifier</font>"
   ]
  },
  {
   "cell_type": "code",
   "execution_count": 34,
   "metadata": {},
   "outputs": [
    {
     "name": "stdout",
     "output_type": "stream",
     "text": [
      "Fitting 5 folds for each of 12 candidates, totalling 60 fits\n",
      "--------------------------------------------------\n",
      "Model: <class 'sklearn.ensemble._forest.RandomForestClassifier'>\n",
      "\n",
      "F1 train: 0.9944  Best Params :  {'max_depth': 20, 'n_estimators': 10}\n",
      "\n"
     ]
    }
   ],
   "source": [
    "%%time\n",
    "# проведен GridSearchCV с перебором параметров\n",
    "# param_grid = {'max_depth': [2,5,10,20], 'n_estimators': [10,100, 500],},\n",
    "# F1 train: 0.9944  Best Params :  {'max_depth': 20, 'n_estimators': 10}\n",
    "# оставлен лучший вариант для ускорения пересчетов\n",
    "\n",
    "grid = GridSearchCV(RandomForestClassifier(random_state=0),\n",
    "                    param_grid = {'max_depth': [20], 'n_estimators': [10],},\n",
    "                    cv = 5,\n",
    "                    scoring = 'f1',\n",
    "                    verbose=5,\n",
    "                    n_jobs=6)\n",
    "\n",
    "grid.fit(features_train, target_train)\n",
    "\n",
    "remember_model(grid.best_estimator_, grid.best_params_, grid.best_score_)"
   ]
  },
  {
   "cell_type": "markdown",
   "metadata": {},
   "source": [
    "<font color='darkblue' style=\"font-weight:bold\">LightBGM</font>"
   ]
  },
  {
   "cell_type": "code",
   "execution_count": null,
   "metadata": {},
   "outputs": [],
   "source": [
    "# происходит краш системы, видимо не хватает оперативной памяти.\n",
    "'''%%time\n",
    "grid = GridSearchCV(lgb.LGBMClassifier(random_state=0),\n",
    "                    param_grid = {'max_depth': [2,5,10, 20], 'n_estimators': [100,200, 500], 'learning_rate':[0.01, 0.1, 1]},\n",
    "                    cv = 5,\n",
    "                    scoring = 'f1',\n",
    "                    verbose=5,\n",
    "                    n_jobs=4)\n",
    "\n",
    "grid.fit(features_train, target_train)\n",
    "\n",
    "remember_model(grid.best_estimator_, grid.best_params_, grid.best_score_)'''"
   ]
  },
  {
   "cell_type": "markdown",
   "metadata": {},
   "source": [
    "<font color='darkblue' style=\"font-weight:bold\">Pytorch NN classifier</font>"
   ]
  },
  {
   "cell_type": "code",
   "execution_count": 42,
   "metadata": {},
   "outputs": [
    {
     "data": {
      "text/plain": [
       "(torch.Size([245331, 768]),\n",
       " torch.Size([15930, 768]),\n",
       " torch.Size([245331]),\n",
       " torch.Size([15930]))"
      ]
     },
     "execution_count": 42,
     "metadata": {},
     "output_type": "execute_result"
    }
   ],
   "source": [
    "# преобразуем выборки в тензоры pytorch\n",
    "X_train, X_test, Y_train, Y_test = torch.tensor(features_train.values, dtype=torch.float32),\\\n",
    "                                   torch.tensor(features_test.values, dtype=torch.float32),\\\n",
    "                                   torch.tensor(target_train.values, dtype=torch.long),\\\n",
    "                                   torch.tensor(target_test.values, dtype=torch.long)\n",
    "\n",
    "samples, features = X_train.shape\n",
    "classes = Y_test.unique()\n",
    "\n",
    "X_train.shape, X_test.shape, Y_train.shape, Y_test.shape"
   ]
  },
  {
   "cell_type": "code",
   "execution_count": 43,
   "metadata": {},
   "outputs": [
    {
     "data": {
      "text/plain": [
       "(245331, 768, tensor([0, 1]))"
      ]
     },
     "execution_count": 43,
     "metadata": {},
     "output_type": "execute_result"
    }
   ],
   "source": [
    "samples, features, classes"
   ]
  },
  {
   "cell_type": "code",
   "execution_count": 127,
   "metadata": {},
   "outputs": [],
   "source": [
    "# создаем класс нейронной сети. \n",
    "class Classifier(nn.Module):\n",
    "    def __init__(self):\n",
    "        super(Classifier, self).__init__()\n",
    "        self.first_layer = nn.Linear(features, 100)\n",
    "        self.final_layer = nn.Linear(100,2)\n",
    "        self.relu = nn.ReLU()\n",
    "        self.softmax = nn.Softmax(dim=1)\n",
    "\n",
    "    def forward(self, X_batch):\n",
    "        layer_out = self.relu(self.first_layer(X_batch))\n",
    "        #layer_out = self.relu(self.second_layer(layer_out))\n",
    "        #layer_out = self.relu(self.third_layer(layer_out))\n",
    "        return self.softmax(self.final_layer(layer_out))"
   ]
  },
  {
   "cell_type": "code",
   "execution_count": 128,
   "metadata": {},
   "outputs": [],
   "source": [
    "classifier = Classifier()"
   ]
  },
  {
   "cell_type": "code",
   "execution_count": 136,
   "metadata": {},
   "outputs": [],
   "source": [
    "# функция обучения нейросети\n",
    "def TrainModel(model, loss_func, optimizer, X, Y, epochs=500):\n",
    "    for i in range(epochs):\n",
    "        preds = model(X).squeeze() # [:,0] ## Make Predictions by forward pass through network\n",
    "        \n",
    "        loss = loss_func(preds, Y) ## Calculate Loss\n",
    "\n",
    "        optimizer.zero_grad() ## Zero weights before calculating gradients\n",
    "        loss.backward() ## Calculate Gradients\n",
    "        optimizer.step() ## Update Weights\n",
    "\n",
    "        if i % 50 == 0: ## Print loss every 50 epochs\n",
    "            print(\"epoch:\" , i , \"\\tNLLLoss : {:.4f}\".format(loss))"
   ]
  },
  {
   "cell_type": "code",
   "execution_count": 137,
   "metadata": {},
   "outputs": [
    {
     "name": "stdout",
     "output_type": "stream",
     "text": [
      "epoch: 0 \tNLLLoss : -0.5297\n",
      "epoch: 50 \tNLLLoss : -0.9036\n",
      "epoch: 100 \tNLLLoss : -0.9470\n",
      "epoch: 150 \tNLLLoss : -0.9589\n",
      "epoch: 200 \tNLLLoss : -0.9643\n",
      "epoch: 250 \tNLLLoss : -0.9675\n",
      "Wall time: 4min 41s\n"
     ]
    }
   ],
   "source": [
    "%%time\n",
    "\n",
    "torch.manual_seed(42) ##For reproducibility.This will make sure that same random weights are initialized each time.\n",
    "\n",
    "epochs = 300\n",
    "learning_rate = torch.tensor(0.01) # 0.01\n",
    "\n",
    "classifier = Classifier()\n",
    "nll_loss = nn.NLLLoss()\n",
    "bce_loss = nn.BCELoss()\n",
    "optimizer = SGD(params=classifier.parameters(), lr=learning_rate)\n",
    "\n",
    "# тренируем модель\n",
    "TrainModel(classifier, nll_loss, optimizer, X_train, Y_train, epochs=epochs)\n",
    "\n",
    "# получаем предсказания на трейне и тесте\n",
    "test_preds = classifier(X_test) ## Make Predictions on test dataset\n",
    "test_preds = torch.argmax(test_preds, axis=1) ## Convert Probabilities to class type\n",
    "\n",
    "train_preds = classifier(X_train) ## Make Predictions on train dataset\n",
    "train_preds = torch.argmax(train_preds, axis=1) ## Convert Probabilities to class type\n",
    "\n",
    "remember_model(classifier, {'epochs':epochs, 'learning_rate':learning_rate}, f1_score(Y_train, train_preds))"
   ]
  },
  {
   "cell_type": "markdown",
   "metadata": {},
   "source": [
    "---\n",
    "**Определение лучшей модели**"
   ]
  },
  {
   "cell_type": "code",
   "execution_count": 175,
   "metadata": {},
   "outputs": [
    {
     "data": {
      "text/html": [
       "<div>\n",
       "<style scoped>\n",
       "    .dataframe tbody tr th:only-of-type {\n",
       "        vertical-align: middle;\n",
       "    }\n",
       "\n",
       "    .dataframe tbody tr th {\n",
       "        vertical-align: top;\n",
       "    }\n",
       "\n",
       "    .dataframe thead th {\n",
       "        text-align: right;\n",
       "    }\n",
       "</style>\n",
       "<table border=\"1\" class=\"dataframe\">\n",
       "  <thead>\n",
       "    <tr style=\"text-align: right;\">\n",
       "      <th></th>\n",
       "      <th>model</th>\n",
       "      <th>type(model)</th>\n",
       "      <th>best_params</th>\n",
       "      <th>score_train</th>\n",
       "    </tr>\n",
       "  </thead>\n",
       "  <tbody>\n",
       "    <tr>\n",
       "      <th>4</th>\n",
       "      <td>(DecisionTreeClassifier(max_depth=20, max_feat...</td>\n",
       "      <td>&lt;class 'sklearn.ensemble._forest.RandomForestC...</td>\n",
       "      <td>{'max_depth': 20, 'n_estimators': 10}</td>\n",
       "      <td>0.994406</td>\n",
       "    </tr>\n",
       "    <tr>\n",
       "      <th>0</th>\n",
       "      <td>&lt;catboost.core.CatBoostClassifier object at 0x...</td>\n",
       "      <td>&lt;class 'catboost.core.CatBoostClassifier'&gt;</td>\n",
       "      <td>{'depth': 10, 'l2_leaf_reg': 1, 'learning_rate...</td>\n",
       "      <td>0.993196</td>\n",
       "    </tr>\n",
       "    <tr>\n",
       "      <th>3</th>\n",
       "      <td>DecisionTreeClassifier(max_depth=10, random_st...</td>\n",
       "      <td>&lt;class 'sklearn.tree._classes.DecisionTreeClas...</td>\n",
       "      <td>{'max_depth': 10}</td>\n",
       "      <td>0.988509</td>\n",
       "    </tr>\n",
       "    <tr>\n",
       "      <th>1</th>\n",
       "      <td>LogisticRegression()</td>\n",
       "      <td>&lt;class 'sklearn.linear_model._logistic.Logisti...</td>\n",
       "      <td>{'C': 1.0}</td>\n",
       "      <td>0.984407</td>\n",
       "    </tr>\n",
       "    <tr>\n",
       "      <th>2</th>\n",
       "      <td>RidgeClassifier()</td>\n",
       "      <td>&lt;class 'sklearn.linear_model._ridge.RidgeClass...</td>\n",
       "      <td>{'alpha': 1.0}</td>\n",
       "      <td>0.982747</td>\n",
       "    </tr>\n",
       "    <tr>\n",
       "      <th>5</th>\n",
       "      <td>Classifier(\\n  (first_layer): Linear(in_featur...</td>\n",
       "      <td>&lt;class '__main__.Classifier'&gt;</td>\n",
       "      <td>{'epochs': 300, 'learning_rate': tensor(0.0100)}</td>\n",
       "      <td>0.979909</td>\n",
       "    </tr>\n",
       "  </tbody>\n",
       "</table>\n",
       "</div>"
      ],
      "text/plain": [
       "                                               model  \\\n",
       "4  (DecisionTreeClassifier(max_depth=20, max_feat...   \n",
       "0  <catboost.core.CatBoostClassifier object at 0x...   \n",
       "3  DecisionTreeClassifier(max_depth=10, random_st...   \n",
       "1                               LogisticRegression()   \n",
       "2                                  RidgeClassifier()   \n",
       "5  Classifier(\\n  (first_layer): Linear(in_featur...   \n",
       "\n",
       "                                         type(model)  \\\n",
       "4  <class 'sklearn.ensemble._forest.RandomForestC...   \n",
       "0         <class 'catboost.core.CatBoostClassifier'>   \n",
       "3  <class 'sklearn.tree._classes.DecisionTreeClas...   \n",
       "1  <class 'sklearn.linear_model._logistic.Logisti...   \n",
       "2  <class 'sklearn.linear_model._ridge.RidgeClass...   \n",
       "5                      <class '__main__.Classifier'>   \n",
       "\n",
       "                                         best_params  score_train  \n",
       "4              {'max_depth': 20, 'n_estimators': 10}     0.994406  \n",
       "0  {'depth': 10, 'l2_leaf_reg': 1, 'learning_rate...     0.993196  \n",
       "3                                  {'max_depth': 10}     0.988509  \n",
       "1                                         {'C': 1.0}     0.984407  \n",
       "2                                     {'alpha': 1.0}     0.982747  \n",
       "5   {'epochs': 300, 'learning_rate': tensor(0.0100)}     0.979909  "
      ]
     },
     "metadata": {},
     "output_type": "display_data"
    }
   ],
   "source": [
    "df_models = pd.DataFrame(models, columns=['model', 'type(model)', 'best_params', 'score_train'])\n",
    "display(df_models.sort_values('score_train', ascending=False))"
   ]
  },
  {
   "cell_type": "markdown",
   "metadata": {},
   "source": [
    "Лучшая модель по метрике F1 - `DecisionTreeClassifier`"
   ]
  },
  {
   "cell_type": "markdown",
   "metadata": {},
   "source": [
    "---\n",
    "**Проверка работы лучших моделей**"
   ]
  },
  {
   "cell_type": "code",
   "execution_count": 191,
   "metadata": {},
   "outputs": [],
   "source": [
    "df_models['score_test'] = 0"
   ]
  },
  {
   "cell_type": "code",
   "execution_count": 192,
   "metadata": {},
   "outputs": [],
   "source": [
    "for i in range(len(df_models)):\n",
    "    if type(df_models.loc[i]['model']) == type(classifier):\n",
    "        df_models.at[i, 'score_test'] = f1_score(Y_test, test_preds)\n",
    "    else:\n",
    "        df_models.at[i, 'score_test'] = f1_score(target_test, df_models.loc[i]['model'].predict(features_test))"
   ]
  },
  {
   "cell_type": "code",
   "execution_count": 195,
   "metadata": {},
   "outputs": [
    {
     "data": {
      "text/html": [
       "<div>\n",
       "<style scoped>\n",
       "    .dataframe tbody tr th:only-of-type {\n",
       "        vertical-align: middle;\n",
       "    }\n",
       "\n",
       "    .dataframe tbody tr th {\n",
       "        vertical-align: top;\n",
       "    }\n",
       "\n",
       "    .dataframe thead th {\n",
       "        text-align: right;\n",
       "    }\n",
       "</style>\n",
       "<table border=\"1\" class=\"dataframe\">\n",
       "  <thead>\n",
       "    <tr style=\"text-align: right;\">\n",
       "      <th></th>\n",
       "      <th>model</th>\n",
       "      <th>best_params</th>\n",
       "      <th>score_train</th>\n",
       "      <th>score_test</th>\n",
       "    </tr>\n",
       "  </thead>\n",
       "  <tbody>\n",
       "    <tr>\n",
       "      <th>4</th>\n",
       "      <td>(DecisionTreeClassifier(max_depth=20, max_feat...</td>\n",
       "      <td>{'max_depth': 20, 'n_estimators': 10}</td>\n",
       "      <td>0.994406</td>\n",
       "      <td>0.938973</td>\n",
       "    </tr>\n",
       "  </tbody>\n",
       "</table>\n",
       "</div>"
      ],
      "text/plain": [
       "                                               model  \\\n",
       "4  (DecisionTreeClassifier(max_depth=20, max_feat...   \n",
       "\n",
       "                             best_params  score_train  score_test  \n",
       "4  {'max_depth': 20, 'n_estimators': 10}     0.994406    0.938973  "
      ]
     },
     "execution_count": 195,
     "metadata": {},
     "output_type": "execute_result"
    }
   ],
   "source": [
    "# отобразим лучшую модель\n",
    "df_models.loc[[4],['model', 'best_params', 'score_train', 'score_test']].sort_values('score_train', ascending=False)"
   ]
  },
  {
   "cell_type": "markdown",
   "metadata": {},
   "source": [
    "## Выводы"
   ]
  },
  {
   "cell_type": "markdown",
   "metadata": {},
   "source": [
    "**Подготовка модели BERT:**\n",
    "1. импорт данных прошел без проблем\n",
    "2. была развернута предварительно обученная модель `unitary/toxic-bert`\n",
    "3. ввиду длительного расчета моделью BERT и случающихся ошибок с перезагрузкой Kernel, были осуществлены следующие шаги:\n",
    "    - создана папка и механизм сохранения в нее промежуточных данных токенизации и эмбеддинга\n",
    "    - перед запуском просчета токенизации и эмбеддинга проводится проверка наличия в папке ранее полученных результатов\n",
    "    - непосредственно запуск расчетов производится только при отсутствии ранее полученных результатов\n",
    "4. для значительного ускорения расчетов применен механизм вычислений на видеокарте (CUDA)\n",
    "    - в начале работы проверяется доступность CUDA командой torch.cuda.is_available()\n",
    "    - если CUDA активна, все последующий действия с BERT (создание модели, входящих тензоров и получение результата) проводятся на GPU \n",
    "    - итоговый прирост скорости более, чем в 40 раз (**20+ часов** на `CPU AMD Ryzen 5 2600 6 Core` против **0.5 часа** на GPU `Geforce RTX 2060`)\n",
    "5. токенизация:\n",
    "    - были выявлены слишком длинные цепочки токенов, более 512 в ряд. В таких случаях они обрезались до 511 с обязательным добавлением в конце токена [102] \n",
    "    - для цепочек токенов < 512 недостающие токены заполнены [0]\n",
    "6. эмбеддинг:\n",
    "    - запускаем небольшими батчами\n",
    "    - для каждого батча создается тензор входящих данных для расчета и маска для важных токенов\n",
    "    - пересчет батчей проводится на CPU / GPU в зависимости от конфигурации устройства\n",
    "    - результаты пересчета сохраняются в csv файл формата `embedding_{размер_батча}_{номер_батча}.csv`\n",
    "    - суммарный размер всех полученных файлов ~ 1.48 Gb\n",
    "\n",
    "**Обучение моделей классификации:**\n",
    "1. Выборка разделена на обучающую/тестовую в соотношении 90/10\n",
    "2. В выборке наблюдается дисбаланс классов, примерно 8 к 1\n",
    "3. Обучающая выборка была сбалансирована методом апсемплинга.\n",
    "4. был обучен широкий набор моделей\n",
    "    - Модель LogisticRegression \n",
    "    - Модель RidgeClassifier \n",
    "    - Модель RandomForestClassifier \n",
    "    - Модель DecisionTreeClassifier \n",
    "    - Модель CatBoostClassifier\n",
    "    - Нейросеть на pytorch\n",
    "5. Лучшая модель по метрике F1 - DecisionTreeClassifier с параметрами {'max_depth': 20, 'n_estimators': 10}\n",
    "6. Результат метрики F1 на тестовой выборке 0.938973"
   ]
  }
 ],
 "metadata": {
  "kernelspec": {
   "display_name": "Python 3 (ipykernel)",
   "language": "python",
   "name": "python3"
  },
  "language_info": {
   "codemirror_mode": {
    "name": "ipython",
    "version": 3
   },
   "file_extension": ".py",
   "mimetype": "text/x-python",
   "name": "python",
   "nbconvert_exporter": "python",
   "pygments_lexer": "ipython3",
   "version": "3.9.12"
  },
  "toc": {
   "base_numbering": 1,
   "nav_menu": {},
   "number_sections": true,
   "sideBar": true,
   "skip_h1_title": true,
   "title_cell": "Содержание",
   "title_sidebar": "Contents",
   "toc_cell": true,
   "toc_position": {
    "height": "calc(100% - 180px)",
    "left": "10px",
    "top": "150px",
    "width": "302.391px"
   },
   "toc_section_display": true,
   "toc_window_display": false
  }
 },
 "nbformat": 4,
 "nbformat_minor": 4
}
