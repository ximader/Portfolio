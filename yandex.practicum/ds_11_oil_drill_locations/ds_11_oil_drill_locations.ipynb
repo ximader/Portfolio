{
 "cells": [
  {
   "cell_type": "markdown",
   "id": "4cfef9a6-875b-4040-a5ce-ef637dce388b",
   "metadata": {},
   "source": [
    "# **ML в бизнесе : Выбор локации для скважины**"
   ]
  },
  {
   "cell_type": "markdown",
   "id": "6f377c15-0b3f-4220-b0b1-382bc3bda269",
   "metadata": {},
   "source": [
    "## **Импорт и предобработка данных**\n",
    "Загрузите и подготовьте данные. Поясните порядок действий."
   ]
  },
  {
   "cell_type": "markdown",
   "id": "ae73801c-92a6-4b0d-86f8-f4d6375642b4",
   "metadata": {},
   "source": [
    "**Импорт библиотек и настройки**"
   ]
  },
  {
   "cell_type": "code",
   "execution_count": 102,
   "id": "4b893e3a-dd12-4c9d-b834-6f93df2b6d58",
   "metadata": {},
   "outputs": [],
   "source": [
    "import pandas as pd\n",
    "import numpy as np\n",
    "import seaborn as sns\n",
    "\n",
    "from sklearn.preprocessing import StandardScaler\n",
    "from sklearn.model_selection import train_test_split\n",
    "from sklearn.linear_model import LinearRegression\n",
    "from sklearn.metrics import mean_squared_error\n",
    "\n",
    "from scipy import stats as st\n",
    "\n",
    "import matplotlib as mpl\n",
    "import matplotlib.pyplot as plt\n",
    "\n",
    "import warnings\n",
    "warnings.filterwarnings('ignore')"
   ]
  },
  {
   "cell_type": "markdown",
   "id": "e1cf0117-1f8d-4777-8001-e9ebb9e48e13",
   "metadata": {},
   "source": [
    "**Импорт данных**"
   ]
  },
  {
   "cell_type": "code",
   "execution_count": 103,
   "id": "0e12de93-64e0-4645-8020-480d059a7471",
   "metadata": {},
   "outputs": [],
   "source": [
    "# список заданной длины под импорт данных по регионам\n",
    "regions_amount = 3\n",
    "data = [None] * regions_amount"
   ]
  },
  {
   "cell_type": "code",
   "execution_count": 104,
   "id": "f9025758-418f-471e-9d57-f1117d41640a",
   "metadata": {},
   "outputs": [
    {
     "name": "stdout",
     "output_type": "stream",
     "text": [
      "\n",
      " ---------------------------------------------------------------------------------------------------- \n",
      "Импорт данных по региону 0:\n",
      "\n",
      "<class 'pandas.core.frame.DataFrame'>\n",
      "RangeIndex: 100000 entries, 0 to 99999\n",
      "Data columns (total 5 columns):\n",
      " #   Column   Non-Null Count   Dtype  \n",
      "---  ------   --------------   -----  \n",
      " 0   id       100000 non-null  object \n",
      " 1   f0       100000 non-null  float64\n",
      " 2   f1       100000 non-null  float64\n",
      " 3   f2       100000 non-null  float64\n",
      " 4   product  100000 non-null  float64\n",
      "dtypes: float64(4), object(1)\n",
      "memory usage: 3.8+ MB\n",
      "                  f0             f1             f2        product\n",
      "count  100000.000000  100000.000000  100000.000000  100000.000000\n",
      "mean        0.500419       0.250143       2.502647      92.500000\n",
      "std         0.871832       0.504433       3.248248      44.288691\n",
      "min        -1.408605      -0.848218     -12.088328       0.000000\n",
      "25%        -0.072580      -0.200881       0.287748      56.497507\n",
      "50%         0.502360       0.250252       2.515969      91.849972\n",
      "75%         1.073581       0.700646       4.715088     128.564089\n",
      "max         2.362331       1.343769      16.003790     185.364347\n",
      "\n",
      "\n"
     ]
    },
    {
     "data": {
      "text/html": [
       "<div>\n",
       "<style scoped>\n",
       "    .dataframe tbody tr th:only-of-type {\n",
       "        vertical-align: middle;\n",
       "    }\n",
       "\n",
       "    .dataframe tbody tr th {\n",
       "        vertical-align: top;\n",
       "    }\n",
       "\n",
       "    .dataframe thead th {\n",
       "        text-align: right;\n",
       "    }\n",
       "</style>\n",
       "<table border=\"1\" class=\"dataframe\">\n",
       "  <thead>\n",
       "    <tr style=\"text-align: right;\">\n",
       "      <th></th>\n",
       "      <th>id</th>\n",
       "      <th>f0</th>\n",
       "      <th>f1</th>\n",
       "      <th>f2</th>\n",
       "      <th>product</th>\n",
       "    </tr>\n",
       "  </thead>\n",
       "  <tbody>\n",
       "    <tr>\n",
       "      <th>0</th>\n",
       "      <td>txEyH</td>\n",
       "      <td>0.705745</td>\n",
       "      <td>-0.497823</td>\n",
       "      <td>1.221170</td>\n",
       "      <td>105.280062</td>\n",
       "    </tr>\n",
       "    <tr>\n",
       "      <th>1</th>\n",
       "      <td>2acmU</td>\n",
       "      <td>1.334711</td>\n",
       "      <td>-0.340164</td>\n",
       "      <td>4.365080</td>\n",
       "      <td>73.037750</td>\n",
       "    </tr>\n",
       "    <tr>\n",
       "      <th>2</th>\n",
       "      <td>409Wp</td>\n",
       "      <td>1.022732</td>\n",
       "      <td>0.151990</td>\n",
       "      <td>1.419926</td>\n",
       "      <td>85.265647</td>\n",
       "    </tr>\n",
       "    <tr>\n",
       "      <th>3</th>\n",
       "      <td>iJLyR</td>\n",
       "      <td>-0.032172</td>\n",
       "      <td>0.139033</td>\n",
       "      <td>2.978566</td>\n",
       "      <td>168.620776</td>\n",
       "    </tr>\n",
       "    <tr>\n",
       "      <th>4</th>\n",
       "      <td>Xdl7t</td>\n",
       "      <td>1.988431</td>\n",
       "      <td>0.155413</td>\n",
       "      <td>4.751769</td>\n",
       "      <td>154.036647</td>\n",
       "    </tr>\n",
       "  </tbody>\n",
       "</table>\n",
       "</div>"
      ],
      "text/plain": [
       "      id        f0        f1        f2     product\n",
       "0  txEyH  0.705745 -0.497823  1.221170  105.280062\n",
       "1  2acmU  1.334711 -0.340164  4.365080   73.037750\n",
       "2  409Wp  1.022732  0.151990  1.419926   85.265647\n",
       "3  iJLyR -0.032172  0.139033  2.978566  168.620776\n",
       "4  Xdl7t  1.988431  0.155413  4.751769  154.036647"
      ]
     },
     "metadata": {},
     "output_type": "display_data"
    },
    {
     "name": "stdout",
     "output_type": "stream",
     "text": [
      "\n",
      " ---------------------------------------------------------------------------------------------------- \n",
      "Импорт данных по региону 1:\n",
      "\n",
      "<class 'pandas.core.frame.DataFrame'>\n",
      "RangeIndex: 100000 entries, 0 to 99999\n",
      "Data columns (total 5 columns):\n",
      " #   Column   Non-Null Count   Dtype  \n",
      "---  ------   --------------   -----  \n",
      " 0   id       100000 non-null  object \n",
      " 1   f0       100000 non-null  float64\n",
      " 2   f1       100000 non-null  float64\n",
      " 3   f2       100000 non-null  float64\n",
      " 4   product  100000 non-null  float64\n",
      "dtypes: float64(4), object(1)\n",
      "memory usage: 3.8+ MB\n",
      "                  f0             f1             f2        product\n",
      "count  100000.000000  100000.000000  100000.000000  100000.000000\n",
      "mean        1.141296      -4.796579       2.494541      68.825000\n",
      "std         8.965932       5.119872       1.703572      45.944423\n",
      "min       -31.609576     -26.358598      -0.018144       0.000000\n",
      "25%        -6.298551      -8.267985       1.000021      26.953261\n",
      "50%         1.153055      -4.813172       2.011479      57.085625\n",
      "75%         8.621015      -1.332816       3.999904     107.813044\n",
      "max        29.421755      18.734063       5.019721     137.945408\n",
      "\n",
      "\n"
     ]
    },
    {
     "data": {
      "text/html": [
       "<div>\n",
       "<style scoped>\n",
       "    .dataframe tbody tr th:only-of-type {\n",
       "        vertical-align: middle;\n",
       "    }\n",
       "\n",
       "    .dataframe tbody tr th {\n",
       "        vertical-align: top;\n",
       "    }\n",
       "\n",
       "    .dataframe thead th {\n",
       "        text-align: right;\n",
       "    }\n",
       "</style>\n",
       "<table border=\"1\" class=\"dataframe\">\n",
       "  <thead>\n",
       "    <tr style=\"text-align: right;\">\n",
       "      <th></th>\n",
       "      <th>id</th>\n",
       "      <th>f0</th>\n",
       "      <th>f1</th>\n",
       "      <th>f2</th>\n",
       "      <th>product</th>\n",
       "    </tr>\n",
       "  </thead>\n",
       "  <tbody>\n",
       "    <tr>\n",
       "      <th>0</th>\n",
       "      <td>kBEdx</td>\n",
       "      <td>-15.001348</td>\n",
       "      <td>-8.276000</td>\n",
       "      <td>-0.005876</td>\n",
       "      <td>3.179103</td>\n",
       "    </tr>\n",
       "    <tr>\n",
       "      <th>1</th>\n",
       "      <td>62mP7</td>\n",
       "      <td>14.272088</td>\n",
       "      <td>-3.475083</td>\n",
       "      <td>0.999183</td>\n",
       "      <td>26.953261</td>\n",
       "    </tr>\n",
       "    <tr>\n",
       "      <th>2</th>\n",
       "      <td>vyE1P</td>\n",
       "      <td>6.263187</td>\n",
       "      <td>-5.948386</td>\n",
       "      <td>5.001160</td>\n",
       "      <td>134.766305</td>\n",
       "    </tr>\n",
       "    <tr>\n",
       "      <th>3</th>\n",
       "      <td>KcrkZ</td>\n",
       "      <td>-13.081196</td>\n",
       "      <td>-11.506057</td>\n",
       "      <td>4.999415</td>\n",
       "      <td>137.945408</td>\n",
       "    </tr>\n",
       "    <tr>\n",
       "      <th>4</th>\n",
       "      <td>AHL4O</td>\n",
       "      <td>12.702195</td>\n",
       "      <td>-8.147433</td>\n",
       "      <td>5.004363</td>\n",
       "      <td>134.766305</td>\n",
       "    </tr>\n",
       "  </tbody>\n",
       "</table>\n",
       "</div>"
      ],
      "text/plain": [
       "      id         f0         f1        f2     product\n",
       "0  kBEdx -15.001348  -8.276000 -0.005876    3.179103\n",
       "1  62mP7  14.272088  -3.475083  0.999183   26.953261\n",
       "2  vyE1P   6.263187  -5.948386  5.001160  134.766305\n",
       "3  KcrkZ -13.081196 -11.506057  4.999415  137.945408\n",
       "4  AHL4O  12.702195  -8.147433  5.004363  134.766305"
      ]
     },
     "metadata": {},
     "output_type": "display_data"
    },
    {
     "name": "stdout",
     "output_type": "stream",
     "text": [
      "\n",
      " ---------------------------------------------------------------------------------------------------- \n",
      "Импорт данных по региону 2:\n",
      "\n",
      "<class 'pandas.core.frame.DataFrame'>\n",
      "RangeIndex: 100000 entries, 0 to 99999\n",
      "Data columns (total 5 columns):\n",
      " #   Column   Non-Null Count   Dtype  \n",
      "---  ------   --------------   -----  \n",
      " 0   id       100000 non-null  object \n",
      " 1   f0       100000 non-null  float64\n",
      " 2   f1       100000 non-null  float64\n",
      " 3   f2       100000 non-null  float64\n",
      " 4   product  100000 non-null  float64\n",
      "dtypes: float64(4), object(1)\n",
      "memory usage: 3.8+ MB\n",
      "                  f0             f1             f2        product\n",
      "count  100000.000000  100000.000000  100000.000000  100000.000000\n",
      "mean        0.002023      -0.002081       2.495128      95.000000\n",
      "std         1.732045       1.730417       3.473445      44.749921\n",
      "min        -8.760004      -7.084020     -11.970335       0.000000\n",
      "25%        -1.162288      -1.174820       0.130359      59.450441\n",
      "50%         0.009424      -0.009482       2.484236      94.925613\n",
      "75%         1.158535       1.163678       4.858794     130.595027\n",
      "max         7.238262       7.844801      16.739402     190.029838\n",
      "\n",
      "\n"
     ]
    },
    {
     "data": {
      "text/html": [
       "<div>\n",
       "<style scoped>\n",
       "    .dataframe tbody tr th:only-of-type {\n",
       "        vertical-align: middle;\n",
       "    }\n",
       "\n",
       "    .dataframe tbody tr th {\n",
       "        vertical-align: top;\n",
       "    }\n",
       "\n",
       "    .dataframe thead th {\n",
       "        text-align: right;\n",
       "    }\n",
       "</style>\n",
       "<table border=\"1\" class=\"dataframe\">\n",
       "  <thead>\n",
       "    <tr style=\"text-align: right;\">\n",
       "      <th></th>\n",
       "      <th>id</th>\n",
       "      <th>f0</th>\n",
       "      <th>f1</th>\n",
       "      <th>f2</th>\n",
       "      <th>product</th>\n",
       "    </tr>\n",
       "  </thead>\n",
       "  <tbody>\n",
       "    <tr>\n",
       "      <th>0</th>\n",
       "      <td>fwXo0</td>\n",
       "      <td>-1.146987</td>\n",
       "      <td>0.963328</td>\n",
       "      <td>-0.828965</td>\n",
       "      <td>27.758673</td>\n",
       "    </tr>\n",
       "    <tr>\n",
       "      <th>1</th>\n",
       "      <td>WJtFt</td>\n",
       "      <td>0.262778</td>\n",
       "      <td>0.269839</td>\n",
       "      <td>-2.530187</td>\n",
       "      <td>56.069697</td>\n",
       "    </tr>\n",
       "    <tr>\n",
       "      <th>2</th>\n",
       "      <td>ovLUW</td>\n",
       "      <td>0.194587</td>\n",
       "      <td>0.289035</td>\n",
       "      <td>-5.586433</td>\n",
       "      <td>62.871910</td>\n",
       "    </tr>\n",
       "    <tr>\n",
       "      <th>3</th>\n",
       "      <td>q6cA6</td>\n",
       "      <td>2.236060</td>\n",
       "      <td>-0.553760</td>\n",
       "      <td>0.930038</td>\n",
       "      <td>114.572842</td>\n",
       "    </tr>\n",
       "    <tr>\n",
       "      <th>4</th>\n",
       "      <td>WPMUX</td>\n",
       "      <td>-0.515993</td>\n",
       "      <td>1.716266</td>\n",
       "      <td>5.899011</td>\n",
       "      <td>149.600746</td>\n",
       "    </tr>\n",
       "  </tbody>\n",
       "</table>\n",
       "</div>"
      ],
      "text/plain": [
       "      id        f0        f1        f2     product\n",
       "0  fwXo0 -1.146987  0.963328 -0.828965   27.758673\n",
       "1  WJtFt  0.262778  0.269839 -2.530187   56.069697\n",
       "2  ovLUW  0.194587  0.289035 -5.586433   62.871910\n",
       "3  q6cA6  2.236060 -0.553760  0.930038  114.572842\n",
       "4  WPMUX -0.515993  1.716266  5.899011  149.600746"
      ]
     },
     "metadata": {},
     "output_type": "display_data"
    }
   ],
   "source": [
    "# импорт данных по регионам в цикле\n",
    "for i in range(regions_amount):\n",
    "    print('\\n', '-'*100, f'\\nИмпорт данных по региону {i}:\\n')\n",
    "    try:\n",
    "        data[i] = pd.read_csv(f'/datasets/geo_data_{i}.csv') # путь к данным для сетевой версии\n",
    "    except: \n",
    "        data[i] = pd.read_csv(f'datasets/geo_data_{i}.csv')  # путь к данным для локальной версии\n",
    "    data[i].info()\n",
    "    print(data[i].describe())\n",
    "    print('\\n')\n",
    "    display(data[i].head())"
   ]
  },
  {
   "cell_type": "markdown",
   "id": "cf125bf9-f481-4ad5-b0f0-bbe97a100130",
   "metadata": {},
   "source": [
    "**Проверка на мультиколлинеарность**"
   ]
  },
  {
   "cell_type": "code",
   "execution_count": 105,
   "id": "9643e089-330a-4eb6-80d7-a959fc79ad7e",
   "metadata": {},
   "outputs": [
    {
     "name": "stdout",
     "output_type": "stream",
     "text": [
      "\n",
      " ---------------------------------------------------------------------------------------------------- \n",
      "Корреляция признаков в регионе 0:\n",
      "\n",
      "               f0        f1        f2   product\n",
      "f0       1.000000 -0.440723 -0.003153  0.143536\n",
      "f1      -0.440723  1.000000  0.001724 -0.192356\n",
      "f2      -0.003153  0.001724  1.000000  0.483663\n",
      "product  0.143536 -0.192356  0.483663  1.000000\n"
     ]
    },
    {
     "data": {
      "image/png": "[encoded data removed]",
      "text/plain": [
       "<Figure size 640x480 with 2 Axes>"
      ]
     },
     "metadata": {},
     "output_type": "display_data"
    },
    {
     "name": "stdout",
     "output_type": "stream",
     "text": [
      "\n",
      " ---------------------------------------------------------------------------------------------------- \n",
      "Корреляция признаков в регионе 1:\n",
      "\n",
      "               f0        f1        f2   product\n",
      "f0       1.000000  0.182287 -0.001777 -0.030491\n",
      "f1       0.182287  1.000000 -0.002595 -0.010155\n",
      "f2      -0.001777 -0.002595  1.000000  0.999397\n",
      "product -0.030491 -0.010155  0.999397  1.000000\n"
     ]
    },
    {
     "data": {
      "image/png": "[encoded data removed]",
      "text/plain": [
       "<Figure size 640x480 with 2 Axes>"
      ]
     },
     "metadata": {},
     "output_type": "display_data"
    },
    {
     "name": "stdout",
     "output_type": "stream",
     "text": [
      "\n",
      " ---------------------------------------------------------------------------------------------------- \n",
      "Корреляция признаков в регионе 2:\n",
      "\n",
      "               f0        f1        f2   product\n",
      "f0       1.000000  0.000528 -0.000448 -0.001987\n",
      "f1       0.000528  1.000000  0.000779 -0.001012\n",
      "f2      -0.000448  0.000779  1.000000  0.445871\n",
      "product -0.001987 -0.001012  0.445871  1.000000\n"
     ]
    },
    {
     "data": {
      "image/png": "[encoded data removed]",
      "text/plain": [
       "<Figure size 640x480 with 2 Axes>"
      ]
     },
     "metadata": {},
     "output_type": "display_data"
    }
   ],
   "source": [
    "for i in range(regions_amount):\n",
    "    print('\\n', '-'*100, f'\\nКорреляция признаков в регионе {i}:\\n')\n",
    "    print(data[i].corr())\n",
    "    \n",
    "     # нарисуем heatmap\n",
    "    df_plot = sns.heatmap(data[i].drop(['product'], axis=1).corr(), cmap=\"YlGnBu\", annot=True )  \n",
    "    plt.show()\n",
    " "
   ]
  },
  {
   "cell_type": "markdown",
   "id": "20ff8c13-7ac6-4e72-917e-e40fbab3cded",
   "metadata": {},
   "source": [
    "Ввиду незначительной корреляции признаков между собой, делаем вывод, что проблемы мультиколлинеарности в исходных данных нет."
   ]
  },
  {
   "cell_type": "markdown",
   "id": "8597de10-79f3-4ae7-8dc8-379a768166f2",
   "metadata": {},
   "source": [
    "**Проверка на дубликаты**"
   ]
  },
  {
   "cell_type": "code",
   "execution_count": 106,
   "id": "c11818ad-69a8-4953-a5cd-a0d928392686",
   "metadata": {},
   "outputs": [
    {
     "name": "stdout",
     "output_type": "stream",
     "text": [
      "Дубликатов регион 0 : 0\n",
      "Дубликатов регион 1 : 0\n",
      "Дубликатов регион 2 : 0\n"
     ]
    }
   ],
   "source": [
    "for i in range(regions_amount):\n",
    "    print('Дубликатов регион',i,':', data[i].duplicated().sum())"
   ]
  },
  {
   "cell_type": "markdown",
   "id": "0d803bc7-e51d-4001-97de-e8948b4d7270",
   "metadata": {},
   "source": [
    "### Промежуточные выводы ###\n",
    "\n",
    "- Данные импортированы без проблем. \n",
    "- Пропусков данных нет\n",
    "- Формат названий столбов соответствуют стандартам\n",
    "- Дубликатов в данных не обнаружено\n",
    "- Формат данных не требует изменений \n",
    "- Проверка корреляции признаков не выявила мультиколлинеарности\n",
    "---"
   ]
  },
  {
   "cell_type": "markdown",
   "id": "81c48fe4-9bb5-45b9-b109-a3823b527bda",
   "metadata": {},
   "source": [
    "## **Обучение и проверка моделей**"
   ]
  },
  {
   "cell_type": "markdown",
   "id": "4b2f7129-dcc5-44bb-ae64-ff64455755a0",
   "metadata": {},
   "source": [
    "**Подготовка данных для обучения**"
   ]
  },
  {
   "cell_type": "markdown",
   "id": "bfbc7774-f64c-462b-b654-1f2d20c007b6",
   "metadata": {},
   "source": [
    "В диапазоне есть данные, не нужные для обучения моделей, а именно - уникальный идентификатор скважины. Обозначим идентификатор как индекс dataframe."
   ]
  },
  {
   "cell_type": "code",
   "execution_count": 107,
   "id": "113969e6-c911-470d-b98e-d0d3ff804681",
   "metadata": {},
   "outputs": [],
   "source": [
    "for i in range(regions_amount):\n",
    "    #data[i].set_index('id', inplace=True)\n",
    "    data[i] = data[i].drop(['id'], axis=1)"
   ]
  },
  {
   "cell_type": "markdown",
   "id": "e97d5259-2ef2-4261-b2c2-c527153aaf08",
   "metadata": {},
   "source": [
    "**Обучение моделей**"
   ]
  },
  {
   "cell_type": "code",
   "execution_count": 108,
   "id": "38d8ac7e-306c-499a-852d-ac9fafb27cae",
   "metadata": {},
   "outputs": [],
   "source": [
    "# создадим необходимые переменные\n",
    "features_train = [None] * regions_amount # набор обучающих признаков для [региона]\n",
    "features_valid = [None] * regions_amount # набор валидационных признаков для [региона]\n",
    "target_train = [None] * regions_amount # целевые значения обучающей выборки для [региона]\n",
    "target_valid = [None] * regions_amount # целевые значения валидационной выборки для [региона]\n",
    "\n",
    "model = [None] * regions_amount # предсказательная модель для [региона]\n",
    "predictions_valid = [None] * regions_amount # предсказания на валидационных признаках для [региона]"
   ]
  },
  {
   "cell_type": "code",
   "execution_count": 109,
   "id": "fd13f285-27ff-4080-a5c0-c46236eea16d",
   "metadata": {},
   "outputs": [
    {
     "name": "stdout",
     "output_type": "stream",
     "text": [
      "Shape обучающих данных региона 0: (75000, 3) , валидационных: (25000, 3)\n",
      "Shape обучающих данных региона 1: (75000, 3) , валидационных: (25000, 3)\n",
      "Shape обучающих данных региона 2: (75000, 3) , валидационных: (25000, 3)\n"
     ]
    }
   ],
   "source": [
    "# разбивка данных в цикле\n",
    "for i in range(regions_amount):\n",
    "    features = data[i].drop(['product'], axis=1) \n",
    "    target = data[i]['product'] \n",
    "\n",
    "    features_train[i], features_valid[i], target_train[i], target_valid[i] = train_test_split(\n",
    "        features, target, test_size=0.25, random_state=12345)\n",
    "    print(f'Shape обучающих данных региона {i}:', features_train[i].shape, ', валидационных:', features_valid[i].shape)"
   ]
  },
  {
   "cell_type": "markdown",
   "id": "46413e61-47c3-4553-a5f1-c8dc0a5c504e",
   "metadata": {},
   "source": [
    "**Скалирование признаков**"
   ]
  },
  {
   "cell_type": "code",
   "execution_count": 110,
   "id": "6f330358-bded-4f41-ae92-7588c03ba3db",
   "metadata": {},
   "outputs": [],
   "source": [
    "# проведем скалирование числовых признаков\n",
    "numeric = ['f0', 'f1', 'f2']\n",
    "\n",
    "for i in range(regions_amount):\n",
    "    scaler = StandardScaler()\n",
    "    #настраиваем скалер на обучающей выборке\n",
    "    scaler.fit(features_train[i][numeric])\n",
    "    # масштабируем признаки обучающей и валидационной выборок\n",
    "    features_train[i][numeric] = scaler.transform(features_train[i][numeric])\n",
    "    features_valid[i][numeric] = scaler.transform(features_valid[i][numeric])\n",
    " "
   ]
  },
  {
   "cell_type": "code",
   "execution_count": 111,
   "id": "ee0b063a-de2c-476e-bed1-97d705e93ba8",
   "metadata": {},
   "outputs": [],
   "source": [
    "# обучение моделей в цикле\n",
    "for i in range(regions_amount):\n",
    "    model[i] = LinearRegression() # создаем модель\n",
    "    model[i].fit(features_train[i], target_train[i]) # обучаем модель\n",
    "    predictions_valid[i] = pd.Series(model[i].predict(features_valid[i])) # получаем предсказания модели на валидационных данных\n",
    "    predictions_valid[i].index = features_valid[i].index # сохраним индексы"
   ]
  },
  {
   "cell_type": "markdown",
   "id": "637c892f-4870-45c4-bed0-24258c5938a1",
   "metadata": {},
   "source": [
    "**Результаты предсказаний**"
   ]
  },
  {
   "cell_type": "code",
   "execution_count": 112,
   "id": "f6054cfc-f8e5-4688-9586-b2b8e889f6c8",
   "metadata": {},
   "outputs": [
    {
     "name": "stdout",
     "output_type": "stream",
     "text": [
      "Регион 0:\n",
      "Средний предсказанный запас: 92.59256778438005\n",
      "Root Mean Square Error (RMSE): 37.5794217150813 \n",
      "\n",
      "Регион 1:\n",
      "Средний предсказанный запас: 68.72854689544583\n",
      "Root Mean Square Error (RMSE): 0.8930992867756182 \n",
      "\n",
      "Регион 2:\n",
      "Средний предсказанный запас: 94.96504596800509\n",
      "Root Mean Square Error (RMSE): 40.02970873393434 \n",
      "\n"
     ]
    }
   ],
   "source": [
    "graph_data = []\n",
    "for i in range(regions_amount):\n",
    "    MSE = mean_squared_error(target_valid[i], predictions_valid[i])\n",
    "    RMSE = MSE ** 0.5\n",
    "    predicted_mean = predictions_valid[i].mean()\n",
    "    print(f'Регион {i}:')\n",
    "    print('Средний предсказанный запас:', predicted_mean)\n",
    "    print('Root Mean Square Error (RMSE):', RMSE, '\\n')\n",
    "    graph_data.append([f'Прогноз регион {i}', predicted_mean, RMSE]) # сохраним значения для графика"
   ]
  },
  {
   "cell_type": "code",
   "execution_count": 113,
   "id": "652774c6-563f-4b63-b59c-8b6d27442e2c",
   "metadata": {},
   "outputs": [
    {
     "data": {
      "image/png": "[encoded data removed]",
      "text/plain": [
       "<Figure size 1100x300 with 1 Axes>"
      ]
     },
     "metadata": {},
     "output_type": "display_data"
    }
   ],
   "source": [
    "# отобразим результаты на графике\n",
    "graph_data = pd.DataFrame.from_records(graph_data, columns=['region', 'predicted_mean','RMSE'])\n",
    "\n",
    "graph_data.plot(kind='barh', x='region', figsize=(11,3), stacked=False)\n",
    "plt.xlabel(\"Величина запаса сырья, тыс. баррелей\")\n",
    "plt.ylabel(\"\" )\n",
    "plt.title(\"Предсказания запасов сырья на скважину по регионам\")\n",
    "plt.legend(loc=\"right\")\n",
    "\n",
    "plt.show()"
   ]
  },
  {
   "cell_type": "markdown",
   "id": "37f46933-7cd4-45e0-a209-d1ae203cfd6b",
   "metadata": {},
   "source": [
    "### Промежуточные выводы\n",
    "\n",
    "Для каждого региона получили средний предсказанный запас сырья на скважину и корень среднеквадратического отклонения прогноза расчетной модели. \n",
    "\n",
    "Согласно расчетной модели самый богатый - `регион 2` с 95 тыс.баррелей , почти такие же значения получились по `региону 0`. \n",
    "Самые скромные значения у `региона 1`, 68,7 тыс. баррелей\n",
    "\n",
    "Однако, для `региона 0` и `региона 2` модели выдают значительную величину RMSE, на уровне 37-40 тыс.баррелей, т.е. в указанных регионах наблюдается значительная нестабильность по запасам в похожих по параметрам f0, f1, f2 скважинах. \n",
    "\n",
    "Для `региона 1` значение RMSE меньше 1 тыс. баррелей, что говорит о возможности очень точного прогнозирования в рамках данного региона.\n",
    "\n",
    "---"
   ]
  },
  {
   "cell_type": "markdown",
   "id": "c7c4be17-dc20-4c29-a23a-4f52e9f89f86",
   "metadata": {},
   "source": [
    "## **Подготовка к расчету прибыли**"
   ]
  },
  {
   "cell_type": "code",
   "execution_count": 114,
   "id": "20be4780-1104-4a98-ba1d-eeb67b298ba1",
   "metadata": {},
   "outputs": [],
   "source": [
    "# создадим переменные со значениями согласно условиям задания\n",
    "EXPLORE_AMOUNT = 500\n",
    "DRILL_AMOUNT = 200\n",
    "TOTAL_BUDGET = 10_000_000_000\n",
    "PRODUCT_PROFIT = 450_000\n",
    "MAX_LOSS_PROBA = 0.025"
   ]
  },
  {
   "cell_type": "code",
   "execution_count": 115,
   "id": "ad5db733-fc2e-4f2e-9b79-8486dc5bb1a8",
   "metadata": {},
   "outputs": [
    {
     "name": "stdout",
     "output_type": "stream",
     "text": [
      "Достаточный объём сырья для безубыточной разработки новой скважины = 111.1 тыс. баррелей\n",
      "Средний запас региона 0: 92.49999999999974\n",
      "Средний запас региона 1: 68.82500000002561\n",
      "Средний запас региона 2: 95.00000000000041\n"
     ]
    }
   ],
   "source": [
    "# расчет достаточного объема сырья для разработки новой скважины\n",
    "# знаем величину бюджета (10 млрд.) =  наши расходы\n",
    "# объем сырья со скважины * прибыль с единицы объема * 200 скважин  = наши доходы\n",
    "# достаточный объем сырья = бюджет / 200 скважин / прибыль с единицы объема\n",
    "product_minimum = TOTAL_BUDGET / DRILL_AMOUNT / PRODUCT_PROFIT\n",
    "\n",
    "graph_data.append(['Точка безубыточности', product_minimum, 0]) # сохраним значения для графика\n",
    "\n",
    "print('Достаточный объём сырья для безубыточной разработки новой скважины = %0.1f' % product_minimum ,'тыс. баррелей')\n",
    "for i in range(regions_amount):\n",
    "    print(f'Средний запас региона {i}:', data[i]['product'].mean())    "
   ]
  },
  {
   "cell_type": "markdown",
   "id": "aef0be7e-b0ea-4908-952d-294c4b006cf0",
   "metadata": {},
   "source": [
    "### Промежуточные выводы\n",
    "Подсчитали достаточный объем сырья на скважину, для безубыточного бурения. Она составляет **111 тыс. баррелей.**\n",
    "Средний запас на скважину в каждом из регионов ниже, однако в регионе 0 и 2 средний запас достаточно близок к точке безубыточного бурения. 92 и 95 тыс. баррелей соответственно.\n",
    "Скважины в регионе 1 в среднем беднее, чуть менее 69 тыс. баррелей.\n",
    "\n",
    "Среднее во всех регионах нижее точки безубыточности. Нельзя случайным образом выбирать скважины для разработки, такой подход с великой вероятностью обернется убытками.\n",
    "\n",
    "---"
   ]
  },
  {
   "cell_type": "markdown",
   "id": "ac0e1a92-e4a1-4963-b70d-ed440f46ef8b",
   "metadata": {},
   "source": [
    "## **Функция для расчета прибыли**"
   ]
  },
  {
   "cell_type": "code",
   "execution_count": 116,
   "id": "36ea7842-c0a5-4f09-9885-5b8b418a2df4",
   "metadata": {},
   "outputs": [],
   "source": [
    "# функция для расчета прибыли\n",
    "def predict_profit(target, predicted_product, count):\n",
    "    predicted_product_sorted = predicted_product.sort_values(ascending=False) # сортируем прогноз объема сырья по убыванию\n",
    "    sweetspots = target[predicted_product_sorted.index][:count] # выбираем самые богатые скважины в количестве count\n",
    "    total_product = sum(sweetspots) # суммарный запас по самым богатым скважинам\n",
    "    total_profit = total_product * PRODUCT_PROFIT - TOTAL_BUDGET # суммарная прибыль\n",
    "    return total_profit\n"
   ]
  },
  {
   "cell_type": "markdown",
   "id": "d2694cea-fbf9-4591-8c89-063f26f27e8c",
   "metadata": {},
   "source": [
    "## **Расчет рисков и прибыли для каждого региона**"
   ]
  },
  {
   "cell_type": "code",
   "execution_count": 117,
   "id": "3824ff54-b804-4456-bd57-f896529066c7",
   "metadata": {},
   "outputs": [
    {
     "name": "stdout",
     "output_type": "stream",
     "text": [
      "\n",
      "Регион 0\n",
      "Средняя прибыль =  425,938,527\n",
      "95%-ый доверительный интервал: (408753053.40125215, 443124000.41993237)\n",
      "Вероятность убытков (прибыль меньше затраченного бюджета): 6.00 %\n",
      "\n",
      "Регион 1\n",
      "Средняя прибыль =  515,222,773\n",
      "95%-ый доверительный интервал: (501637954.84049785, 528807592.04612803)\n",
      "Вероятность убытков (прибыль меньше затраченного бюджета): 1.00 %\n",
      "\n",
      "Регион 2\n",
      "Средняя прибыль =  435,008,363\n",
      "95%-ый доверительный интервал: (417474820.5883807, 452541904.97713244)\n",
      "Вероятность убытков (прибыль меньше затраченного бюджета): 6.40 %\n"
     ]
    }
   ],
   "source": [
    "for i in range(regions_amount):\n",
    "    state = np.random.RandomState(12345) # задаем исходное зерно для генератора случайных чисел\n",
    "    values = [] # значения прибыли с каждой итерации bootstrap\n",
    "    \n",
    "    # 1000 выборок bootstrap\n",
    "    for j in range(1000): \n",
    "        # набираем 500 (EXPLORE_AMOUNT) случайных скважин\n",
    "        target_subsample = target_valid[i].sample(EXPLORE_AMOUNT, replace=True, random_state = state) \n",
    "        predictions_subsample = predictions_valid[i][target_subsample.index]  \n",
    "        values.append(predict_profit(target_subsample, predictions_subsample, DRILL_AMOUNT)) #считаем прибыль\n",
    "\n",
    "    values = pd.Series(values)\n",
    "    mean = values.mean()\n",
    "      \n",
    "    #confidence_interval =  st.t.interval(0.95, len(values)-1, loc=values.mean(), scale=values.sem()) \n",
    "    confidence_interval =  st.norm.interval(alpha=0.95, loc=np.mean(values), scale=st.sem(values))\n",
    "    \n",
    "    # риск получить убытки - количество выборок с отрицательной прибылью (прибыль меньше бюджета) к общему кол-ву выборок\n",
    "    losses_prob = len(values[values < 0]) / len(values)\n",
    "    \n",
    "    print(f'\\nРегион {i}')\n",
    "    print(f'Средняя прибыль = {mean: ,.0f}')\n",
    "    print('95%-ый доверительный интервал:', confidence_interval)\n",
    "    print('Вероятность убытков (прибыль меньше затраченного бюджета): %0.2f' % (losses_prob*100), '%' )\n"
   ]
  },
  {
   "cell_type": "markdown",
   "id": "74ab299b-b079-4a58-b2dd-c0078c06d54a",
   "metadata": {},
   "source": [
    "### Промежуточные выводы\n",
    "- Провели оценку предполагаемой прибыли в разных регионах техникой bootstrap. \n",
    "- Во всех регионах средняя ожидаемая величина прибыли превышает бюджет 10 маллиардов.\n",
    "- Проведенная оценка рисков показывает, что в регионах 0 и 2 риск превышает целевой (2,5%), согласно условиям задания от этих регионов откажемся.\n",
    "- Остается только `регион 1`, в котором приемлемый риск получить убыток (1%). При этом данный регион имеет наибольшую ожидаемую прибыль.\n",
    "- Для разраболтки скважин рекомендуется **Регион 1**\n",
    "\n",
    "---"
   ]
  },
  {
   "cell_type": "markdown",
   "id": "f5c06537-c44e-47c4-854b-bc2f8ef0e707",
   "metadata": {},
   "source": [
    "## **Общий вывод**"
   ]
  },
  {
   "cell_type": "markdown",
   "id": "776121d9-2361-43b1-a2a9-19151c1ada77",
   "metadata": {},
   "source": [
    "**Импорт данных**\n",
    "- Данные импортированы без проблем.\n",
    "- Пропусков данных нет\n",
    "- Формат названий столбов соответствуют стандартам\n",
    "- Дубликатов в данных не обнаружено\n",
    "- Формат данных не требует изменений\n",
    "- Данные не имеют проблемы мультиколлениарности\n",
    "\n",
    "**Обучение и проверка моделей**\n",
    "- Для каждого региона получили средний предсказанный запас сырья на скважину и корень среднеквадратического отклонения прогноза расчетной модели.\n",
    "- Согласно расчетной модели самый богатый - регион 2 с 95 тыс.баррелей , почти такие же значения получились по региону 0. \n",
    "- Самые скромные значения у региона 1 - 68,7 тыс. баррелей\n",
    "- Региона 0 и региона 2 имеют значительную величину RMSE, на уровне 37-40 тыс.баррелей, т.е. в указанных регионах наблюдается значительная нестабильность по запасам в похожих по параметрам f0, f1, f2 скважинах.\n",
    "- Для региона 1 значение RMSE меньше 1 тыс. баррелей - величины запасов хорошо прогнозируемы\n",
    "\n",
    "**Подготовка к расчету прибыли**\n",
    "- Достаточный объем сырья на скважину, для безубыточного бурения равен 111 тыс. баррелей. \n",
    "- Среднее во всех регионах нижее точки безубыточности. Нельзя случайным образом выбирать скважины для разработки, такой подход с великой вероятностью обернется убытками\n",
    "\n",
    "**Расчет прибыли и рисков**\n",
    "- Провели оценку предполагаемой прибыли в разных регионах техникой bootstrap.\n",
    "- Во всех регионах средняя ожидаемая величина прибыли превышает бюджет 10 маллиардов.\n",
    "- Проведенная оценка рисков показывает, что в регионах 0 и 2 риск превышает целевой (2,5%), согласно условиям задания от этих регионов откажемся.\n",
    "- Остается только регион 1, в котором приемлемый риск получить убыток (1%). При этом данный регион имеет наибольшую ожидаемую прибыль.\n",
    "- Для разработки скважин **рекомендуется Регион 1**"
   ]
  }
 ],
 "metadata": {
  "ExecuteTimeLog": [
   {
    "duration": 76,
    "start_time": "2022-10-17T07:08:22.317Z"
   },
   {
    "duration": 1616,
    "start_time": "2022-10-17T07:10:41.768Z"
   },
   {
    "duration": 3,
    "start_time": "2022-10-17T07:10:43.386Z"
   },
   {
    "duration": 1576,
    "start_time": "2022-10-17T07:10:43.390Z"
   },
   {
    "duration": 122,
    "start_time": "2022-10-17T07:10:44.967Z"
   },
   {
    "duration": 114,
    "start_time": "2022-10-17T07:10:46.927Z"
   },
   {
    "duration": 54,
    "start_time": "2022-10-18T20:26:28.057Z"
   },
   {
    "duration": 46,
    "start_time": "2022-10-18T20:27:02.924Z"
   }
  ],
  "kernelspec": {
   "display_name": "Python 3 (ipykernel)",
   "language": "python",
   "name": "python3"
  },
  "language_info": {
   "codemirror_mode": {
    "name": "ipython",
    "version": 3
   },
   "file_extension": ".py",
   "mimetype": "text/x-python",
   "name": "python",
   "nbconvert_exporter": "python",
   "pygments_lexer": "ipython3",
   "version": "3.9.12"
  },
  "toc": {
   "base_numbering": 1,
   "nav_menu": {},
   "number_sections": true,
   "sideBar": true,
   "skip_h1_title": true,
   "title_cell": "Table of Contents",
   "title_sidebar": "Contents",
   "toc_cell": false,
   "toc_position": {},
   "toc_section_display": true,
   "toc_window_display": false
  }
 },
 "nbformat": 4,
 "nbformat_minor": 5
}
